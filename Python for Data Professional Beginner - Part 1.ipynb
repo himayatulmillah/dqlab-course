{
 "cells": [
  {
   "cell_type": "markdown",
   "metadata": {},
   "source": [
    "# Python for Data Professional Beginner - Part 1"
   ]
  },
  {
   "cell_type": "markdown",
   "metadata": {},
   "source": [
    "<p>About : Module ini akan memperkenalkan konsep dasar bahasa pemograman Python, memberikan penjelasan mengenai syntax, dan fungsi built-in yang penting untuk dikuasai untuk melakukan pengolahan data, terutama untuk memulai karir sebagai praktisi data, baik Data Analyst (DA), Data Scientist (DS), ataupun Data Engineer (DE).</p>\n",
    "\n",
    "<p>Course : <a href=https://academy.dqlab.id/main/package/practice/157?pf=0>Python for Data Professional Beginner - Part 1</a></p>"
   ]
  },
  {
   "cell_type": "markdown",
   "metadata": {},
   "source": [
    "<h2>Module Content:</h2>\n",
    "\n",
    "<div class=\"alert alert-block alert-info\" style=\"margin-top: 20px\">\n",
    "    <ul>\n",
    "        <li><a href=\"#mari-mengenal-python\">Mari Mengenal Python</a></li>\n",
    "        <ul>\n",
    "            <li><a href=\"#apa-dan-mengapa-python\">Apa dan mengapa Pyhton?</a></li>\n",
    "            <li><a href=\"#struktur-python\">Struktur Python</a></li>\n",
    "        </ul>\n",
    "        <li><a href=\"#python-variables-dan-data-types\">Python Variables dan Data Types</a></li>\n",
    "        <ul>\n",
    "            <li><a href=\"#aturan-penamaan-python-variable\">Aturan Penamaan Python Variable</a></li>\n",
    "            <li><a href=\"#tipe-data-pada-python\">Tipe Data pada Python</a></li>\n",
    "        </ul>\n",
    "        <li><a href=\"#python-operators\"></a>Python Operators</li>\n",
    "        <ul>\n",
    "            <li><a href=\"#arithmetic-operators\">Arithmetic Operators</a></li>\n",
    "            <li><a href=\"#assignment-operators\">Assignment Operators</a></li>\n",
    "            <li><a href=\"#comparison-operators\">Comparison Operators</a></li>\n",
    "            <li><a href=\"#logical-operators\">Logical Operators</a></li>\n",
    "            <li><a href=\"#identity-operators\">Identity Operators</a></li>\n",
    "            <li><a href=\"#membership-operators\">Membership Operators</a></li>\n",
    "            <li><a href=\"#nilai-prioritas-operator\">Nilai Prioritas Operator</a></li>\n",
    "        </ul>\n",
    "        <li><a href=\"#python-conditioning-dan-looping\">Python Conditioning dan Looping</a></li>\n",
    "        <ul>\n",
    "            <li><a href=\"#conditioning-for-decision\">Conditioning for Decision</a></li>\n",
    "            <li><a href=\"#primitive-loop-control\">Primitive Loop Control</a></li>\n",
    "        </ul>\n",
    "        <li><a href=\"#mini-quiz\">Mini Quiz</a></li>\n",
    "    </ul>\n",
    "</div>"
   ]
  },
  {
   "cell_type": "markdown",
   "metadata": {},
   "source": [
    "<h2><a name=\"mari-mengenal-python\"></a>Chapter 1: Mari Mengenal Python</h2>"
   ]
  },
  {
   "cell_type": "markdown",
   "metadata": {},
   "source": [
    "<h3><a name=\"apa-dan-mengapa-python\"></a>Apa dan mengapa Pyhton?</h3>\n",
    "\n",
    "<p>Python adalah bahasa pemrograman yang ditujukan untuk <b><i>general-purpose programming</i></b> dan termasuk dalam kategori <b><i>high-level programming language</i></b>.</p>\n",
    "\n",
    "<p>Bahasa pemrograman Python bersifat <b><i>dynamically typed</i></b> (Python akan secara otomatis mengubah masukan dari pengguna) dan mendukung berbagai paradigma pemrograman baik pemrograman secara <b><i>prosedural</i></b>, berbasis objek (<b><i>Object-Oriented</i></b>), atau pun <b><i>fungsional</i></b>."
   ]
  },
  {
   "cell_type": "markdown",
   "metadata": {},
   "source": [
    "<h3><a name=\"struktur-python\"></a>Struktur Python</h3>"
   ]
  },
  {
   "cell_type": "markdown",
   "metadata": {},
   "source": [
    "<b>1. Statements:</b> Instruksi yang diberikan secara baris per baris untuk dijalankan oleh mesin."
   ]
  },
  {
   "cell_type": "code",
   "execution_count": 1,
   "metadata": {},
   "outputs": [
    {
     "name": "stdout",
     "output_type": "stream",
     "text": [
      "hello world!\n"
     ]
    }
   ],
   "source": [
    "print(\"hello world!\")"
   ]
  },
  {
   "cell_type": "markdown",
   "metadata": {},
   "source": [
    "<b>2. Variables:</b> Lokasi penyimpanan yang dapat digunakan untuk menampung sebuah data atau informasi."
   ]
  },
  {
   "cell_type": "code",
   "execution_count": 2,
   "metadata": {},
   "outputs": [],
   "source": [
    "bil1 = 10\n",
    "text = \"saya belajar Python\""
   ]
  },
  {
   "cell_type": "markdown",
   "metadata": {},
   "source": [
    "<b>3. Literals:</b> Simbol-simbol yang dapat kita gunakan untuk mengisi suatu variabel. Pada kode yang telah dicontohkan di atas, angka 10 serta 'saya belajar Python' disebut sebagai literal."
   ]
  },
  {
   "cell_type": "markdown",
   "metadata": {},
   "source": [
    "<b>4. Operators:</b> Simbol-simbol yang dapat digunakan untuk mengubah nilai dari satu variabel dengan melibatkan satu atau lebih variabel dan literal."
   ]
  },
  {
   "cell_type": "code",
   "execution_count": 3,
   "metadata": {},
   "outputs": [
    {
     "data": {
      "text/plain": [
       "30"
      ]
     },
     "execution_count": 3,
     "metadata": {},
     "output_type": "execute_result"
    }
   ],
   "source": [
    "10 + 20"
   ]
  },
  {
   "cell_type": "markdown",
   "metadata": {},
   "source": [
    "<p>selain tanda + untuk penjumlahan ada banyak simbol lain yang bisa digunakan seperti perkalian (*), pembagian (/), pemangkatan (**) dan lainnya.</p>"
   ]
  },
  {
   "cell_type": "markdown",
   "metadata": {},
   "source": [
    "<div style=\"border: 2px solid orange;border-radius: 5px;\">\n",
    "    <b style=\"color:orange;padding:10px\">Practice!</b>\n",
    "    <div style=\"padding:25px\">\n",
    "        <li>Hitung harga_setelah_potongan dan harga_final dengan mengalikan harga_setelah_potongan dengan angka 1.1 karena jumlah PPN sebesar 10% (100% + 10% = 110% atau 1.1)</li>\n",
    "        <li>deklarasikan variabel harga_asli dengan nilai 20000 dan variabel potongan dengan nilai 2000.</li>\n",
    "    </div>\n",
    "</div>"
   ]
  },
  {
   "cell_type": "code",
   "execution_count": 4,
   "metadata": {},
   "outputs": [
    {
     "name": "stdout",
     "output_type": "stream",
     "text": [
      "19800.0\n"
     ]
    }
   ],
   "source": [
    "# deklarasi variable\n",
    "harga_asli = 20000\n",
    "potongan = 2000\n",
    "\n",
    "# proses perhitungan\n",
    "harga_setelah_potongan = harga_asli - potongan\n",
    "harga_final = harga_setelah_potongan * 1.1\n",
    "\n",
    "# cetak hasil\n",
    "print(harga_final)"
   ]
  },
  {
   "cell_type": "markdown",
   "metadata": {},
   "source": [
    "<b>5. Reserved Words:</b> Kumpulan kata-kata yang memiliki makna khusus dalam bahasa pemrograman Python. Kata <b>False</b>, <b>return</b>, dan <b>for</b> merupakan contoh dari reserved words.\n",
    "\n",
    "<b style=\"color:red\">Catatan!</b> reserve words <b>tidak dapat</b> digunakan untuk mendeklarasikan variabel."
   ]
  },
  {
   "cell_type": "markdown",
   "metadata": {},
   "source": [
    "<b>6. Whitespace:</b> Pada bahasa Python, spasi dan tab memiliki makna khusus untuk menandai serangkaian blok dalam kode Python. Hal ini akan dijelaskan secara lebih lanjut pada bagian struktur pemilihan dan struktur pengulangan pada bahasa Python."
   ]
  },
  {
   "cell_type": "markdown",
   "metadata": {},
   "source": [
    "<b>7. Comments:</b> Comments merupakan sekumpulan teks yang dituliskan di dalam sebuah program yang tidak akan mempengaruhi hasil dari sebuah program. Walaupun tidak mempengaruhi hasil program, comments merupakan salah satu komponen yang penting dalam pengembangan program. Hal tersebut dikarenakan comments dapat diselipkan di antara sekumpulan statements yang telah dituliskan, untuk berkomunikasi dengan rekan programmer lainnya dalam satu tim.\n",
    "\n",
    "<p>Terdapat dua jenis comment, yaitu single line comment dan multiple line comment.</p>"
   ]
  },
  {
   "cell_type": "code",
   "execution_count": 5,
   "metadata": {},
   "outputs": [],
   "source": [
    "# single line comment"
   ]
  },
  {
   "cell_type": "code",
   "execution_count": 6,
   "metadata": {},
   "outputs": [
    {
     "data": {
      "text/plain": [
       "'\\nini adalah contoh dari\\nmultiple line comment\\n'"
      ]
     },
     "execution_count": 6,
     "metadata": {},
     "output_type": "execute_result"
    }
   ],
   "source": [
    "'''\n",
    "ini adalah contoh dari\n",
    "multiple line comment\n",
    "'''"
   ]
  },
  {
   "cell_type": "markdown",
   "metadata": {},
   "source": [
    "<h2><a name=\"python-variables-dan-data-types\"></a>Chapter 2: Python Variables dan Data Types</h2>"
   ]
  },
  {
   "cell_type": "markdown",
   "metadata": {},
   "source": [
    "<h3><a name=\"aturan-penamaan-python-variable\"></a>Aturan Penamaan Python Variable</h3>"
   ]
  },
  {
   "cell_type": "markdown",
   "metadata": {},
   "source": [
    "<p>Penamaan suatu variabel pada python dapat dikatakan valid selama memenuhi aturan-aturan berikut:</p>\n",
    "\n",
    "<ol>\n",
    "    <li>Nama dari sebuah variabel <b>harus</b> dimulai dengan huruf (a-z, A-Z) atau karakter garis bawah underscore (_) dan <b>tidak dapat</b> dimulai dengan angka (0-9).</li>\n",
    "    <li>Variabel hanya boleh mengandung karakter alfabet dan bilangan dan underscore (a-z, A-Z, 0-9, _)</li>\n",
    "    <li>Variabel bersifat <b>case-sensitive</b> yang mengartikan bahwa variabel TINGGI, tinggi, dan Tinggi merujuk pada tiga variabel berbeda.</li>\n",
    "</ol>\n",
    "\n",
    "<p>Kemudian, selain dapat mendeklarasikan nilai dari suatu variabel secara baris per baris, kita juga dapat mendeklarasikan beberapa variabel dalam satu baris dengan menggunakan ekspresi seperti:</p>"
   ]
  },
  {
   "cell_type": "code",
   "execution_count": 7,
   "metadata": {},
   "outputs": [],
   "source": [
    "bil1, bil2 = 3, 4\n",
    "salam = \"halo\"; nama = \"maya\""
   ]
  },
  {
   "cell_type": "markdown",
   "metadata": {},
   "source": [
    "<h3><a name=\"tipe-data-pada-python\"></a>Tipe Data pada Python</h3>"
   ]
  },
  {
   "cell_type": "markdown",
   "metadata": {},
   "source": [
    "<b>1. Null:</b> Tipe data null dalam Python digunakan untuk menyimpan nilai kosong atau tidak ada yang dinyatakan dengan <b>None</b>."
   ]
  },
  {
   "cell_type": "code",
   "execution_count": 8,
   "metadata": {},
   "outputs": [
    {
     "data": {
      "text/plain": [
       "NoneType"
      ]
     },
     "execution_count": 8,
     "metadata": {},
     "output_type": "execute_result"
    }
   ],
   "source": [
    "var = None\n",
    "type(var)"
   ]
  },
  {
   "cell_type": "markdown",
   "metadata": {},
   "source": [
    "<b>2. Boolean:</b> Tipe data boolean atau <b>bool</b> digunakan untuk menyimpan nilai kebenaran (<b>True, False</b>) dari suatu ekspresi logika."
   ]
  },
  {
   "cell_type": "code",
   "execution_count": 9,
   "metadata": {},
   "outputs": [
    {
     "data": {
      "text/plain": [
       "bool"
      ]
     },
     "execution_count": 9,
     "metadata": {},
     "output_type": "execute_result"
    }
   ],
   "source": [
    "var = True\n",
    "type(var)"
   ]
  },
  {
   "cell_type": "markdown",
   "metadata": {},
   "source": [
    "<b>3. Numeric:</b> Tipe data yang digunakan untuk menyimpan data berupa angka. Terdapat dua macam tipe data numeric, yaitu: \n",
    "<li><b>int</b> untuk menyimpan <b>bilangan bulat</b> (e.g.: 0, 1, 2, 404, -500, -1000)</li>\n",
    "<li><b>float</b> untuk menyimpan <b>bilangan riil</b> (e.g.: 0.5, 1.01, 2.05, 4.04)</li>"
   ]
  },
  {
   "cell_type": "code",
   "execution_count": 10,
   "metadata": {},
   "outputs": [
    {
     "data": {
      "text/plain": [
       "int"
      ]
     },
     "execution_count": 10,
     "metadata": {},
     "output_type": "execute_result"
    }
   ],
   "source": [
    "var = 10\n",
    "type(var)"
   ]
  },
  {
   "cell_type": "code",
   "execution_count": 11,
   "metadata": {},
   "outputs": [
    {
     "data": {
      "text/plain": [
       "float"
      ]
     },
     "execution_count": 11,
     "metadata": {},
     "output_type": "execute_result"
    }
   ],
   "source": [
    "var = 3.14\n",
    "type(var)"
   ]
  },
  {
   "cell_type": "markdown",
   "metadata": {},
   "source": [
    "<b>4. Text:</b> Pada Python, tipe data string (<b>str</b>) digunakan untuk menyimpan data teks. Tipe data string dimulai dengan tanda kutip (baik kutip satu/ dua) dan diakhir dengan tanda kutip."
   ]
  },
  {
   "cell_type": "code",
   "execution_count": 12,
   "metadata": {},
   "outputs": [
    {
     "data": {
      "text/plain": [
       "str"
      ]
     },
     "execution_count": 12,
     "metadata": {},
     "output_type": "execute_result"
    }
   ],
   "source": [
    "var = 'hello'\n",
    "type(var)"
   ]
  },
  {
   "cell_type": "markdown",
   "metadata": {},
   "source": [
    "<b>5. Sequence:</b> Tipe data ini digunakan untuk menampung sekumpulan data secara terorganisir. Terdapat 2 macam tipe data sequence, yaitu:\n",
    "<li><b>list</b>, bersifat <i>mutable</i> yang berarti setiap elemen di dalam list dapat dirubah nilainya setelah proses pendeklarasian list. </li>\n",
    "<li><b>tuple</b>, bersifat <i>immutable</i> yang berarti elemen pada tipe data tuple <b>tidak dapat diubah</b> setelah proses pendeklarasiannya.</li>"
   ]
  },
  {
   "cell_type": "code",
   "execution_count": 13,
   "metadata": {},
   "outputs": [
    {
     "data": {
      "text/plain": [
       "list"
      ]
     },
     "execution_count": 13,
     "metadata": {},
     "output_type": "execute_result"
    }
   ],
   "source": [
    "var = [1, 'dua', 3.14, None]\n",
    "type(var)"
   ]
  },
  {
   "cell_type": "code",
   "execution_count": 14,
   "metadata": {},
   "outputs": [
    {
     "data": {
      "text/plain": [
       "tuple"
      ]
     },
     "execution_count": 14,
     "metadata": {},
     "output_type": "execute_result"
    }
   ],
   "source": [
    "var = (1, 'dua', 3.14, None)\n",
    "type(var)"
   ]
  },
  {
   "cell_type": "markdown",
   "metadata": {},
   "source": [
    "<b>6. Set:</b> digunakan untuk menampung sekumpulan data dengan tipe lainnya. Terdapat dua jenis dari tipe data set yaitu:\n",
    "<li><b>set</b>, tipe ini <b>tidak mengizinkan</b> adanya elemen dengan nilai yang sama dan tidak memperdulikan urutan dari elemen</li>\n",
    "<li><b>frozenset</b>, merupakan set yang bersifat <i>immutable</i></li>"
   ]
  },
  {
   "cell_type": "code",
   "execution_count": 15,
   "metadata": {},
   "outputs": [
    {
     "data": {
      "text/plain": [
       "set"
      ]
     },
     "execution_count": 15,
     "metadata": {},
     "output_type": "execute_result"
    }
   ],
   "source": [
    "var = {1, 'dua', 3.14, None}\n",
    "type(var)"
   ]
  },
  {
   "cell_type": "code",
   "execution_count": 16,
   "metadata": {
    "scrolled": true
   },
   "outputs": [
    {
     "data": {
      "text/plain": [
       "set"
      ]
     },
     "execution_count": 16,
     "metadata": {},
     "output_type": "execute_result"
    }
   ],
   "source": [
    "var = ({1, 'dua', 3.14, None}) # contoh frozen set atau set yang immutable\n",
    "type(var)"
   ]
  },
  {
   "cell_type": "markdown",
   "metadata": {},
   "source": [
    "<b>7. Mapping:</b> dapat digunakan untuk memetakan sebuah nilai ke nilai lainnya. Dalam Python, tipe data mapping disebut dengan istilah <b>dictionary</b>."
   ]
  },
  {
   "cell_type": "code",
   "execution_count": 17,
   "metadata": {},
   "outputs": [
    {
     "data": {
      "text/plain": [
       "dict"
      ]
     },
     "execution_count": 17,
     "metadata": {},
     "output_type": "execute_result"
    }
   ],
   "source": [
    "var = {'nama':'Maya', 'usia':'23'}\n",
    "type(var)"
   ]
  },
  {
   "cell_type": "markdown",
   "metadata": {},
   "source": [
    "<div style=\"border: 2px solid orange;border-radius: 5px;\">\n",
    "    <b style=\"color:orange;padding:10px\">Practice!</b>\n",
    "    <div style=\"padding:25px\">\n",
    "        <table>\n",
    "            <thead>\n",
    "                <th>Nama Barang</th>\n",
    "                <th>Harga</th>\n",
    "                <th>Diskon</th>\n",
    "            </thead>\n",
    "            <tbody>\n",
    "                <tr>\n",
    "                    <td>Sepatu Niko</td>\n",
    "                    <td>150000</td>\n",
    "                    <td>30000</td>\n",
    "                </tr>\n",
    "                <tr>\n",
    "                    <td>Baju Unikloh</td>\n",
    "                    <td>80000</td>\n",
    "                    <td>8000</td>\n",
    "                </tr>\n",
    "                <tr>\n",
    "                    <td>Celana Lepis</td>\n",
    "                    <td>200000</td>\n",
    "                    <td>60000</td>\n",
    "                </tr>\n",
    "            </tbody>\n",
    "        </table>\n",
    "        <ol>\n",
    "            <li>Deklarasikan data ke dalam dictionary</li>\n",
    "            <li>Hitung harga masing-masing data setelah dikurangi diskon</li>\n",
    "            <li>Hitung harga total</li>\n",
    "            <li>Hitung harga kena pajak</li>\n",
    "            <li>Cetak total_harga + total_pajak</li>\n",
    "        </ol>\n",
    "    </div>\n",
    "</div>"
   ]
  },
  {
   "cell_type": "code",
   "execution_count": 18,
   "metadata": {},
   "outputs": [
    {
     "name": "stdout",
     "output_type": "stream",
     "text": [
      "365200.0\n"
     ]
    }
   ],
   "source": [
    "# deklarasi data dalam bentuk dictionary\n",
    "sepatu = {'nama':'Sepatu Niko', 'harga':150000, 'diskon':30000}\n",
    "baju = {'nama':'Baju Unikloh', 'harga':80000, 'diskon':8000}\n",
    "celana = {'nama':'Celana Lepis', 'harga':200000, 'diskon':60000}\n",
    "\n",
    "# hitung harga setelah diskon\n",
    "harga_sepatu = sepatu['harga'] - sepatu['diskon']\n",
    "harga_baju = baju['harga'] - baju['diskon']\n",
    "harga_celana = celana['harga'] - celana['diskon']\n",
    "\n",
    "# hitung harga total\n",
    "total_harga = harga_sepatu + harga_baju + harga_celana\n",
    "\n",
    "# hitung harga kena pajak\n",
    "total_pajak = total_harga * 0.1\n",
    "\n",
    "# cetak hasil akhir harga\n",
    "print(total_harga + total_pajak)"
   ]
  },
  {
   "cell_type": "markdown",
   "metadata": {},
   "source": [
    "<h2><a name=\"python-operators\"></a>Chapter 3: Python Operators</h2>"
   ]
  },
  {
   "cell_type": "markdown",
   "metadata": {},
   "source": [
    "<h3><a name=\"arithmetic-operators\"></a>1. Arithmetic Operators</h3>"
   ]
  },
  {
   "cell_type": "markdown",
   "metadata": {},
   "source": [
    "<p>Arithmetic Operators digunakan pada tipe data numerik, untuk melakukan <b>operasi matematika sederhana</b> yang terdiri atas:</p>\n",
    "\n",
    "<table align=\"left\">\n",
    "    <thead>\n",
    "        <th style=\"text-align:center\">Simbol Operator</th>\n",
    "        <th style=\"text-align:center\">Keterangan</th>\n",
    "        <th style=\"text-align:center\">Contoh</th>\n",
    "    </thead>\n",
    "    <tbody>\n",
    "        <tr>\n",
    "            <td style=\"text-align:center\">+</td>\n",
    "            <td><p>Penambahan</p></td>\n",
    "            <td><p><b>3 + 2</b> output: 5</p></td>\n",
    "        </tr>\n",
    "        <tr>\n",
    "            <td style=\"text-align:center\">-</td>\n",
    "            <td><p>Pengurangan</p></td>\n",
    "            <td><p><b>3 - 2</b> output: 1</p></td>\n",
    "        </tr>\n",
    "        <tr>\n",
    "            <td style=\"text-align:center\">*</td>\n",
    "            <td><p>Perkalian</p></td>\n",
    "            <td><p><b>3 * 2</b> output: 6</p></td>\n",
    "        </tr>\n",
    "        <tr>\n",
    "            <td style=\"text-align:center\">/</td>\n",
    "            <td><p>Pembagian</p></td>\n",
    "            <td><p><b>3 / 2</b> output: 1.5</p></td>\n",
    "        </tr>\n",
    "        <tr>\n",
    "            <td style=\"text-align:center\">%</td>\n",
    "            <td><p>Modulo atau sisa bagi</p></td>\n",
    "            <td><p><b>3 % 2</b> output: 1</p><p>karena 3 tidak habis dibagi 2 dan menyisakan angka 1</p>\n",
    "                <p><b>8 % 4</b> output: 0</p><p>karena 8 habis dibagi 4</p></td>\n",
    "        </tr>\n",
    "        <tr>\n",
    "            <td style=\"text-align:center\">**</td>\n",
    "            <td><p>Pangkat</p></td>\n",
    "            <td><p><b>3 ** 2</b> output: 9</p></td>\n",
    "        </tr>\n",
    "        <tr>\n",
    "            <td style=\"text-align:center\">//</td>\n",
    "            <td><p>Pembagian dengan pembulatan kebawah</p></td>\n",
    "            <td><p><b>3 // 2</b> output:1</p><p>karena 1.5 dibulatkan kebawah menjadi 1</td>\n",
    "        </tr>\n",
    "    </tbody>\n",
    "</table>"
   ]
  },
  {
   "cell_type": "markdown",
   "metadata": {},
   "source": [
    "<h3><a name=\"assignment-operators\"></a>2. Assignment Operators</h3>"
   ]
  },
  {
   "cell_type": "markdown",
   "metadata": {},
   "source": [
    "<p>Operator assignment digunakan untuk <b>mendeklarasikan nilai secara langsung</b> ke suatu variabel.</p>\n",
    "\n",
    "<table align=\"left\">\n",
    "    <thead>\n",
    "        <th style=\"text-align:center\">Simbol Operator</th>\n",
    "        <th style=\"text-align:center\">Keterangan</th>\n",
    "        <th style=\"text-align:center\">Contoh</th>\n",
    "    </thead>\n",
    "    <tbody>\n",
    "        <tr>\n",
    "            <td style=\"text-align:center\">+=</td>\n",
    "            <td><p>Penambahan</p></td>\n",
    "            <td><p><b>x = 3</b></p>\n",
    "                <p><b>x += 2</b> sama dengan <b>x = x + 2</b></p>\n",
    "                <p>output: 5</p></td>\n",
    "        </tr>\n",
    "        <tr>\n",
    "            <td style=\"text-align:center\">-=</td>\n",
    "            <td><p>Pengurangan</p></td>\n",
    "            <td><p><b>x = 3</b></p>\n",
    "                <p><b>x -= 2</b> sama dengan <b>x = x - 2</b></p>\n",
    "                <p>output: 1</p></td>\n",
    "        </tr>\n",
    "        <tr>\n",
    "            <td style=\"text-align:center\">*=</td>\n",
    "            <td><p>Perkalian</p></td>\n",
    "            <td><p><b>x = 3</b></p>\n",
    "                <p><b>x *= 2</b> sama dengan <b>x = x * 2</b></p>\n",
    "                <p>output: 6</p></td>\n",
    "        </tr>\n",
    "        <tr>\n",
    "            <td style=\"text-align:center\">/=</td>\n",
    "            <td><p>Pembagian</p></td>\n",
    "            <td><p><b>x = 3</b></p>\n",
    "                <p><b>x /= 2</b> sama dengan <b>x = x / 2</b></p>\n",
    "                <p>output: 1.5</p></td>\n",
    "        </tr>\n",
    "        <tr>\n",
    "            <td style=\"text-align:center\">%=</td>\n",
    "            <td><p>Modulo atau sisa bagi</p></td>\n",
    "            <td><p><b>x = 3</b></p>\n",
    "                <p><b>x %= 2</b> sama dengan <b>x = x % 2</b></p>\n",
    "                <p>output: 1</p></td>\n",
    "        </tr>\n",
    "        <tr>\n",
    "            <td style=\"text-align:center\">**=</td>\n",
    "            <td><p>Pangkat</p></td>\n",
    "            <td><p><b>x = 3</b></p>\n",
    "                <p><b>x **= 2</b> sama dengan <b>x = x ** 2</b></p>\n",
    "                <p>output: 9</p></td>\n",
    "        </tr>\n",
    "        <tr>\n",
    "            <td style=\"text-align:center\">//=</td>\n",
    "            <td><p>Pembagian dengan pembulatan kebawah</p></td>\n",
    "            <td><p><b>x = 3</b></p>\n",
    "                <p><b>x //= 2</b> sama dengan <b>x = x // 2</b></p>\n",
    "                <p>output: 1</p></td>\n",
    "        </tr>\n",
    "    </tbody>\n",
    "</table>"
   ]
  },
  {
   "cell_type": "markdown",
   "metadata": {},
   "source": [
    "<h3><a name=\"comparison-operators\"></a>3. Comparison Operators</h3>"
   ]
  },
  {
   "cell_type": "markdown",
   "metadata": {},
   "source": [
    "<p>Operator comparison dapat digunakan untuk <b>membandingkan dua nilai</b>, berikut merupakan contoh-contoh operator komparasi.</p>\n",
    "\n",
    "<table align=\"left\">\n",
    "    <thead>\n",
    "        <th style=\"text-align:center\">Simbol Operator</th>\n",
    "        <th style=\"text-align:center\">Keterangan</th>\n",
    "        <th style=\"text-align:center\">Contoh</th>\n",
    "    </thead>\n",
    "    <tbody>\n",
    "        <tr>\n",
    "            <td style=\"text-align:center\">==</td>\n",
    "            <td><p>Persamaan</p></td>\n",
    "            <td><p><b>33 == 33</b> output: <b>True</b></p>\n",
    "                <p><b>34 == 33</b> output: <b>False</b></p></td>\n",
    "        </tr>\n",
    "        <tr>\n",
    "            <td style=\"text-align:center\">!=</td>\n",
    "            <td><p>Pertidaksamaan</p></td>\n",
    "            <td><p><b>33 != 33</b> output: <b>False</b></p>\n",
    "                <p><b>34 != 33</b> output: <b>True</b></p></td>\n",
    "        </tr>\n",
    "        <tr>\n",
    "            <td style=\"text-align:center\">></td>\n",
    "            <td><p>Lebih besar dari</p></td>\n",
    "            <td><p><b>34 > 33</b> output: <b>True</b></p>\n",
    "                <p><b>33 > 34</b> output: <b>False</b></p></td>\n",
    "        </tr>\n",
    "        <tr>\n",
    "            <td style=\"text-align:center\"><</td>\n",
    "            <td><p>Lebih kecil dari</p></td>\n",
    "            <td><p><b>34 < 33 </b> output: <b>False</b></p>\n",
    "                <p><b>33 < 34 </b> output: <b>True</b></p></td>\n",
    "        </tr>\n",
    "        <tr>\n",
    "            <td style=\"text-align:center\">>=</td>\n",
    "            <td><p>Lebih besar dari sama dengan</p></td>\n",
    "            <td><p><b>33 >= 33</b> output: <b>True</b></p>\n",
    "                <p><b>34 >= 33</b> output: <b>True</b></p>\n",
    "                <p><b>33 >= 34</b> output: <b>False</b></p></td>\n",
    "        </tr>\n",
    "        <tr>\n",
    "            <td style=\"text-align:center\"><=</td>\n",
    "            <td><p>Lebih kecil dari sama dengan</p></td>\n",
    "            <td><p><b>33 <= 33</b> output: <b>True</b></p>\n",
    "                <p><b>34 <= 33</b> output: <b>False</b></p>\n",
    "                <p><b>33 <= 34</b> output: <b>True</b></p></td>\n",
    "        </tr>\n",
    "    </tbody>\n",
    "</table>"
   ]
  },
  {
   "cell_type": "markdown",
   "metadata": {},
   "source": [
    "<h3><a name=\"logical-operators\"></a>4. Logical Operators</h3>"
   ]
  },
  {
   "cell_type": "markdown",
   "metadata": {},
   "source": [
    "<p>Operator logical digunakan untuk <b>menggabungkan beberapa nilai</b> kebenaran atas suatu statemen logika.</p>\n",
    "\n",
    "<table align=\"left\">\n",
    "    <thead>\n",
    "        <th style=\"text-align:center\">Simbol Operator</th>\n",
    "        <th style=\"text-align:center\">Keterangan</th>\n",
    "        <th style=\"text-align:center\">Contoh</th>\n",
    "    </thead>\n",
    "    <tbody>\n",
    "        <tr>\n",
    "            <td style=\"text-align:center\">and</td>\n",
    "            <td><p>dan - menerima dua nilai kebenaran dan mengembalikan nilai benar jika <b>keduanya benar</b></p></td>\n",
    "            <td><p><b>x = 5</b></p>\n",
    "                <p><b>x >= 1  and x <= 10</b></p>\n",
    "                <p>output: True</p></td>\n",
    "        </tr>\n",
    "        <tr>\n",
    "            <td style=\"text-align:center\">or</td>\n",
    "            <td><p>atau - menerima dua nilai kebenaran dan mengembalikan nilai benar jika <b>salah satu benar</b></p></td>\n",
    "            <td><p><b>x = 3</b></p>\n",
    "                <p><b>x >=1 or x <=2 </b></p>\n",
    "                <p>output: True</p></td>\n",
    "        </tr>\n",
    "        <tr>\n",
    "            <td style=\"text-align:center\">not</td>\n",
    "            <td><p>negasi - menerima sebuah nilai kebenaran dan mengembalikan komplemennya</p></td>\n",
    "            <td><p><b>x = 7</b></p>\n",
    "                <p><b>not(x == 7)</b></p>\n",
    "                <p>output: False</p></td>\n",
    "        </tr>\n",
    "    </tbody>\n",
    "</table>"
   ]
  },
  {
   "cell_type": "markdown",
   "metadata": {},
   "source": [
    "<h3><a name=\"identity-operators\"></a>5. Identity Operators</h3>"
   ]
  },
  {
   "cell_type": "markdown",
   "metadata": {},
   "source": [
    "<p>Operator identitas dapat digunakan untuk <b>membandingkan identitas</b> dari dua buah variabel.</p>\n",
    "\n",
    "<table align=\"left\">\n",
    "    <thead>\n",
    "        <th style=\"text-align:center\">Simbol Operator</th>\n",
    "        <th style=\"text-align:center\">Keterangan</th>\n",
    "        <th style=\"text-align:center\">Contoh</th>\n",
    "    </thead>\n",
    "    <tbody>\n",
    "        <tr>\n",
    "            <td style=\"text-align:center\">is</td>\n",
    "            <td><p>Menerima dua buah objek dan mengembalikan nilai True ketika keduanya merujuk pada <b>objek yang sama</b> dan False dalam kondisi lainnya</p></td>\n",
    "            <td><p><b>x=['Ani', 'Budi']; y=['Ani', 'Budi']</b></p>\n",
    "                <p><b>a = x</b></p>\n",
    "                <p><b>print(a is x)</b>, output <b>True</b> karena a dan x merujuk pada objek yang sama.</p>\n",
    "                <p><b>print(a is y)</b>, output <b>False</b> karena a dan y tidak merujuk pada objek yang sama meskipun isi datanya sama.</p></td>\n",
    "        </tr>\n",
    "        <tr>\n",
    "            <td style=\"text-align:center\">is not</td>\n",
    "            <td><p>Menerima dua buah objek dan mengembalikan nilai True ketika keduanya merujuk pada <b>objek yang berbeda</b> dan False jika sama</b></p></td>\n",
    "            <td><p><b>x=['Ani', 'Budi']; y=['Ani', 'Budi']</b></p>\n",
    "                <p><b>a = x</b></p>\n",
    "                <p><b>print(a is x)</b>, output <b>False</b> karena a dan x merujuk pada objek yang sama.</p>\n",
    "                <p><b>print(a is y)</b>, output <b>True</b> karena a dan y tidak merujuk pada objek yang sama meskipun isi datanya sama.</p></td>\n",
    "        </tr>\n",
    "    </tbody>\n",
    "</table>"
   ]
  },
  {
   "cell_type": "markdown",
   "metadata": {},
   "source": [
    "Pada umumnya, operator identitas sering digunakan bersamaan dengan fungsi <code>type()</code>, fungsi type() menerima sebuah objek dan mengembalikan tipe data dari objek tersebut. Contoh penggunaan operator identitas dan fungsi type()."
   ]
  },
  {
   "cell_type": "code",
   "execution_count": 19,
   "metadata": {},
   "outputs": [
    {
     "name": "stdout",
     "output_type": "stream",
     "text": [
      "True\n",
      "False\n"
     ]
    }
   ],
   "source": [
    "x = 10\n",
    "print(type(x) is int)\n",
    "print(type(x) is float)"
   ]
  },
  {
   "cell_type": "markdown",
   "metadata": {},
   "source": [
    "<h3><a name=\"membership-operators\"></a>6. Membership Operators</h3>"
   ]
  },
  {
   "cell_type": "markdown",
   "metadata": {},
   "source": [
    "<p>Operator keanggotaan (membership) dapat digunakan untuk <b>memeriksa anggota dari sebuah tipe data sequence/set</b>, operator keanggotaan meliputi:</p>\n",
    "\n",
    "<table align=\"left\">\n",
    "    <thead>\n",
    "        <th style=\"text-align:center\">Simbol Operator</th>\n",
    "        <th style=\"text-align:center\">Keterangan</th>\n",
    "        <th style=\"text-align:center\">Contoh</th>\n",
    "    </thead>\n",
    "    <tbody>\n",
    "        <tr>\n",
    "            <td style=\"text-align:center\">in</td>\n",
    "            <td><p>Menerima sebuah sequence/set dan objek, mengembalikan True ketika objek <b>merupakan anggota</b> dari sequence/set, dan False ketika bukan.</p></td>\n",
    "            <td><p><b>x=['Ani', 'Budi', 'Cici']</b></p>\n",
    "                <p><b>y='Cici'</b></p>\n",
    "                <p><b>z='Doni'</b></p>\n",
    "                <p><b>print(y in x)</b>, output <b>True</b></p>\n",
    "                <p><b>print(z in x)</b>, output <b>False</b></p></td>\n",
    "        </tr>\n",
    "        <tr>\n",
    "            <td style=\"text-align:center\">not in</td>\n",
    "            <td><p>Menerima sebuah sequence/set dan objek, mengembalikan True ketika objek <b>bukan merupakan anggota</b> dari sequence/set, dan False ketika merupakan.</b></p></td>\n",
    "            <td><p><b>x=['Ani', 'Budi', 'Cici']</b></p>\n",
    "                <p><b>y='Cici'</b></p>\n",
    "                <p><b>z='Doni'</b></p>\n",
    "                <p><b>print(y not in x)</b>, output <b>False</b></p>\n",
    "                <p><b>print(z not in x)</b>, output <b>True</b></p></td>\n",
    "        </tr>\n",
    "    </tbody>\n",
    "</table>"
   ]
  },
  {
   "cell_type": "markdown",
   "metadata": {},
   "source": [
    "<h3><a name=\"nilai-prioritas-operator\"></a>Nilai Prioritas Operator</h3>"
   ]
  },
  {
   "cell_type": "markdown",
   "metadata": {},
   "source": [
    "<p>Dalam bahasa pemrograman Python, tabel berikut mencakup nilai prioritas dan arah pengerjaan dari setiap operator.</p>\n",
    "\n",
    "<table align=\"left\">\n",
    "    <thead>\n",
    "        <th style=\"text-align:center\">Operator</th>\n",
    "        <th style=\"text-align:center\">Nilai Prioritas</th>\n",
    "        <th style=\"text-align:center\">Arah Pengerjaan</th>\n",
    "        <th style=\"text-align:center\">Deskripsi</th>\n",
    "    </thead>\n",
    "    <tbody>\n",
    "        <tr>\n",
    "            <td><p>()</p></td>\n",
    "            <td style=\"text-align:center\">10</td>\n",
    "            <td><p>Kiri ke kanan</p></td>\n",
    "            <td><p>Grouping</p></td>\n",
    "        </tr>\n",
    "        <tr>\n",
    "            <td><p>x[index]</p></td>\n",
    "            <td style=\"text-align:center\">9</td>\n",
    "            <td><p>Kiri ke kanan</p></td>\n",
    "            <td><p>Mengakses elemen array</p></td>\n",
    "        </tr>\n",
    "        <tr>\n",
    "            <td><p>**</p></td>\n",
    "            <td style=\"text-align:center\">8</td>\n",
    "            <td><p>Kiri ke kanan</p></td>\n",
    "            <td><p>Pangkat</p></td>\n",
    "        </tr>\n",
    "        <tr>\n",
    "            <td><p>+x, -x</p></td>\n",
    "            <td style=\"text-align:center\">7</td>\n",
    "            <td><p>Kiri ke kanan</p></td>\n",
    "            <td><p>Tanda bilangan positif dan negatif</p></td>\n",
    "        </tr>\n",
    "        <tr>\n",
    "            <td><p>*, /, %</p></td>\n",
    "            <td style=\"text-align:center\">6</td>\n",
    "            <td><p>Kiri ke kanan</p></td>\n",
    "            <td><p>Perkalian, Pembagian, Modulus</p></td>\n",
    "        </tr>\n",
    "        <tr>\n",
    "            <td><p>+, -</p></td>\n",
    "            <td style=\"text-align:center\">5</td>\n",
    "            <td><p>Kiri ke kanan</p></td>\n",
    "            <td><p>Penambahan, Pengurangan</p></td>\n",
    "        </tr>\n",
    "        <tr>\n",
    "            <td><p>is, is not, in, not in</p><p><=, <, >=, ></p><p>==, !=</p></td>\n",
    "            <td style=\"text-align:center\">4</td>\n",
    "            <td><p>Kiri ke kanan</p></td>\n",
    "            <td><p>Membership operator Comparison Operator</p></td>\n",
    "        </tr>\n",
    "        <tr>\n",
    "            <td><p>not</p></td>\n",
    "            <td style=\"text-align:center\">3</td>\n",
    "            <td><p>Kiri ke kanan</p></td>\n",
    "            <td><p>Operator logika negasi (not)</p></td>\n",
    "        </tr>\n",
    "        <tr>\n",
    "            <td><p>and</p></td>\n",
    "            <td style=\"text-align:center\">2</td>\n",
    "            <td><p>Kiri ke kanan</p></td>\n",
    "            <td><p>Operator logika konjungsi (and)</p></td>\n",
    "        </tr>\n",
    "        <tr>\n",
    "            <td><p>or</p></td>\n",
    "            <td style=\"text-align:center\">1</td>\n",
    "            <td><p>Kiri ke kanan</p></td>\n",
    "            <td><p>Operator logika disjungsi (or)</p></td>\n",
    "        </tr>\n",
    "    </tbody>\n",
    "</table>"
   ]
  },
  {
   "cell_type": "markdown",
   "metadata": {},
   "source": [
    "<div style=\"border: 2px solid orange;border-radius: 5px;\">\n",
    "    <b style=\"color:orange;padding:10px\">Practice!</b>\n",
    "    <div style=\"padding:25px\">\n",
    "        <p>Ringkas code berikut</p>\n",
    "        <code>\n",
    "            total_harga = harga_sepatu + harga_baju + harga_celana\n",
    "            total_pajak = total_harga * 0.1</code>\n",
    "    </div>\n",
    "</div>"
   ]
  },
  {
   "cell_type": "code",
   "execution_count": 20,
   "metadata": {},
   "outputs": [
    {
     "name": "stdout",
     "output_type": "stream",
     "text": [
      "365200.00000000006\n"
     ]
    }
   ],
   "source": [
    "total_harga = (harga_sepatu + harga_baju + harga_celana) * 1.1\n",
    "print(total_harga)"
   ]
  },
  {
   "cell_type": "markdown",
   "metadata": {},
   "source": [
    "<h2><a name=\"python-conditioning-dan-looping\"></a>Chapter 4: Python Conditioning dan Looping</h2>"
   ]
  },
  {
   "cell_type": "markdown",
   "metadata": {},
   "source": [
    "<h3><a name=\"conditioning-for-decision\"></a>Conditioning for Decision</h3>"
   ]
  },
  {
   "cell_type": "markdown",
   "metadata": {},
   "source": [
    "Layaknya bahasa pemrograman lainnya, bahasa pemrograman Python menyediakan statemen desisi (decision statement) untuk berinteraksi dengan variabel bertipe boolean dan operator logika."
   ]
  },
  {
   "cell_type": "code",
   "execution_count": 21,
   "metadata": {},
   "outputs": [
    {
     "name": "stdout",
     "output_type": "stream",
     "text": [
      "x habis dibagi dua\n",
      "x tidak habis dibagi dua, tiga ataupun lima\n"
     ]
    }
   ],
   "source": [
    "# Statement if\n",
    "x = 4\n",
    "if x % 2 == 0:\n",
    "    print(\"x habis dibagi dua\")       # statemen aksi lebih menjorok ke dalam\n",
    "\n",
    "# Statement if ... elif ... else\n",
    "x = 7\n",
    "if x % 2 == 0:                        # jika sisa bagi x dengan 2 sama dengan 0\n",
    "    print(\"x habis dibagi dua\")\n",
    "elif x % 3 == 0:                      # jika sisa bagi x dengan 3 sama dengan 0\n",
    "    print(\"x habis dibagi tiga\")\n",
    "elif x % 5 == 0:                      # jika sisa bagi x dengan 5 sama dengan 0\n",
    "    print(\"x habis dibagi lima\")\n",
    "else:\n",
    "    print(\"x tidak habis dibagi dua, tiga ataupun lima\")"
   ]
  },
  {
   "cell_type": "code",
   "execution_count": 22,
   "metadata": {},
   "outputs": [
    {
     "name": "stdout",
     "output_type": "stream",
     "text": [
      "Selamat siang!\n"
     ]
    }
   ],
   "source": [
    "jam = 13\n",
    "if jam >= 5 and jam < 12:             # selama jam di antara 5 s.d. 12\n",
    "    print(\"Selamat pagi!\")\n",
    "elif jam >= 12 and jam < 17:          # selama jam di antara 12 s.d. 17\n",
    "    print(\"Selamat siang!\")\n",
    "elif jam >= 17 and jam < 19:          # selama jam di antara 17 s.d. 19\n",
    "    print(\"Selamat sore!\")\n",
    "else: # selain kondisi di atas\n",
    "    print(\"Selamat malam!\")"
   ]
  },
  {
   "cell_type": "markdown",
   "metadata": {},
   "source": [
    "<h3><a name=\"primitive-loop-control\"></a>Primitive Loop Control</h3>"
   ]
  },
  {
   "cell_type": "markdown",
   "metadata": {},
   "source": [
    "Loop Control merupakan salah satu fitur yang mengizinkan penggunanya untuk melakukan serangkaian aksi, selama suatu kondisi yang telah ditetapkan bernilai benar. Dalam Python, terdapat dua bentuk primitif dari loop kontrol (struktur pengulangan), yaitu <b>while</b> dan <b>for</b>."
   ]
  },
  {
   "cell_type": "markdown",
   "metadata": {},
   "source": [
    "<li><b>While Loop</b>: akan terus menjalankan aksi di dalamnya, selama kondisi yang dituliskan di samping kanan statemen while terus terpenuhi.</li>"
   ]
  },
  {
   "cell_type": "code",
   "execution_count": 23,
   "metadata": {},
   "outputs": [
    {
     "name": "stdout",
     "output_type": "stream",
     "text": [
      "750000\n"
     ]
    }
   ],
   "source": [
    "tagihan = [50000, 75000, 125000, 300000, 200000]\n",
    "\n",
    "i = 0                                # penanda perulangan\n",
    "jumlah_tagihan = len(tagihan)        # panjang (jumlah elemen dalam) list tagihan\n",
    "total_tagihan = 0\n",
    "\n",
    "while i < jumlah_tagihan:            # selama nilai i kurang dari jumlah_tagihan\n",
    "    total_tagihan += tagihan[i]      # tambahkan tagihan[i] ke total_tagihan\n",
    "    i += 1                           # tambahkan nilai i dengan 1 untuk memproses tagihan selanjutnya.\n",
    "\n",
    "print(total_tagihan)"
   ]
  },
  {
   "cell_type": "markdown",
   "metadata": {},
   "source": [
    "Dalam sebuah struktur kontrol pengulangan, aku dapat menggunakan perintah <code>break</code> untuk <b>keluar</b> dari struktur pengulangan</b> dan perintah <code>continue</code> untuk <b>melanjutkan</b> proses pengulangan berikutnya. "
   ]
  },
  {
   "cell_type": "code",
   "execution_count": 24,
   "metadata": {},
   "outputs": [
    {
     "name": "stdout",
     "output_type": "stream",
     "text": [
      "terdapat angka minus dalam tagihan, perhitungan dihentikan!\n",
      "-1\n"
     ]
    }
   ],
   "source": [
    "tagihan = [50000, 75000, -150000, 125000, 300000, -50000, 200000]\n",
    "\n",
    "i = 0\n",
    "jumlah_tagihan = len(tagihan)\n",
    "total_tagihan = 0\n",
    "\n",
    "while i < jumlah_tagihan:\n",
    "    # jika terdapat tagihan ke-i yang bernilai minus (di bawah nol), pengulangan akan dihentikan\n",
    "    if tagihan[i] < 0:\n",
    "        total_tagihan = -1\n",
    "        print(\"terdapat angka minus dalam tagihan, perhitungan dihentikan!\")\n",
    "        break\n",
    "    total_tagihan += tagihan[i]\n",
    "    i += 1\n",
    "\n",
    "print(total_tagihan)"
   ]
  },
  {
   "cell_type": "code",
   "execution_count": 25,
   "metadata": {
    "scrolled": true
   },
   "outputs": [
    {
     "name": "stdout",
     "output_type": "stream",
     "text": [
      "750000\n"
     ]
    }
   ],
   "source": [
    "tagihan = [50000, 75000, -150000, 125000, 300000, -50000, 200000]\n",
    "\n",
    "i = 0\n",
    "jumlah_tagihan = len(tagihan)\n",
    "total_tagihan = 0\n",
    "\n",
    "while i < jumlah_tagihan:\n",
    "    # jika terdapat tagihan ke-i yang bernilai minus (di bawah nol), abaikan tagihan ke-i dan lanjutkan ke tagihan berikutnya\n",
    "    if tagihan[i] < 0:\n",
    "        i += 1\n",
    "        continue\n",
    "    total_tagihan += tagihan[i]\n",
    "    i += 1\n",
    "\n",
    "print(total_tagihan)"
   ]
  },
  {
   "cell_type": "markdown",
   "metadata": {},
   "source": [
    "<li><b>For Loop</b></li>"
   ]
  },
  {
   "cell_type": "code",
   "execution_count": 26,
   "metadata": {},
   "outputs": [
    {
     "name": "stdout",
     "output_type": "stream",
     "text": [
      "550000\n"
     ]
    }
   ],
   "source": [
    "list_tagihan = [50000, 75000, -150000, 125000, 300000, -50000, 200000]\n",
    "total_tagihan = 0\n",
    "\n",
    "for tagihan in list_tagihan:          # untuk setiap tagihan dalam list_tagihan\n",
    "    total_tagihan += tagihan          # tambahkan tagihan ke total_tagihan\n",
    "\n",
    "print(total_tagihan)"
   ]
  },
  {
   "cell_type": "markdown",
   "metadata": {},
   "source": [
    "Serupa dengan struktur pengulangan while, for juga dapat memanfaatkan statement <code>break</code> dan <code>continue</code> di dalamnya."
   ]
  },
  {
   "cell_type": "code",
   "execution_count": 27,
   "metadata": {},
   "outputs": [
    {
     "name": "stdout",
     "output_type": "stream",
     "text": [
      "terdapat angka minus dalam tagihan, perhitungan dihentikan!\n",
      "125000\n"
     ]
    }
   ],
   "source": [
    "list_tagihan = [50000, 75000, -150000, 125000, 300000, -50000, 200000]\n",
    "total_tagihan = 0\n",
    "\n",
    "for tagihan in list_tagihan:\n",
    "    if tagihan < 0:\n",
    "        print(\"terdapat angka minus dalam tagihan, perhitungan dihentikan!\")\n",
    "        break\n",
    "    total_tagihan += tagihan\n",
    "    \n",
    "print(total_tagihan)"
   ]
  },
  {
   "cell_type": "code",
   "execution_count": 28,
   "metadata": {},
   "outputs": [
    {
     "name": "stdout",
     "output_type": "stream",
     "text": [
      "750000\n"
     ]
    }
   ],
   "source": [
    "list_tagihan = [50000, 75000, -150000, 125000, 300000, -50000, 200000]\n",
    "total_tagihan = 0\n",
    "\n",
    "for tagihan in list_tagihan:\n",
    "    if tagihan < 0:\n",
    "        tagihan = 0\n",
    "        continue\n",
    "    total_tagihan += tagihan\n",
    "    \n",
    "print(total_tagihan)"
   ]
  },
  {
   "cell_type": "markdown",
   "metadata": {},
   "source": [
    "pada perulangan di python juga terdapat <b>nested loops</b>, yaitu pengulangan bersarang. Dengan nested loops, aku dapat mengkombinasikan (menambahkan) struktur pengulangan lain di dalamnya."
   ]
  },
  {
   "cell_type": "code",
   "execution_count": 29,
   "metadata": {
    "scrolled": true
   },
   "outputs": [
    {
     "name": "stdout",
     "output_type": "stream",
     "text": [
      "Apel Malang\n",
      "Duku Malang\n",
      "Jeruk Malang\n",
      "Apel Palembang\n",
      "Duku Palembang\n",
      "Jeruk Palembang\n",
      "Apel Medan\n",
      "Duku Medan\n",
      "Jeruk Medan\n"
     ]
    }
   ],
   "source": [
    "list_daerah = ['Malang', 'Palembang', 'Medan']\n",
    "list_buah = ['Apel', 'Duku', 'Jeruk']\n",
    "\n",
    "for nama_daerah in list_daerah:           # lakukan perulangan sebanyak data pada list_daerah\n",
    "    for nama_buah in list_buah:           # lakukan perulangan sebanyak data pada list_buah untuk setiap list_daerah\n",
    "        print(nama_buah+\" \"+nama_daerah)"
   ]
  },
  {
   "cell_type": "markdown",
   "metadata": {},
   "source": [
    "<div style=\"border: 2px solid orange;border-radius: 5px;\">\n",
    "    <b style=\"color:orange;padding:10px\">Practice!</b>\n",
    "    <div style=\"padding:25px\">\n",
    "        <p>Buat program untuk mengolah sebuah list yang bernama list_cash_flow yang berisikan data:</p>\n",
    "        <code>2500000, 5000000, -1000000, -2500000, 5000000, 10000000, -5000000, 7500000, 10000000, -1500000, 25000000, -2500000</code>\n",
    "        <p>Setiap elemen dari list_cash_flow berisikan pengeluaran (bilangan negatif) dan pemasukan (bilangan positif) pada perusahaan.</p>\n",
    "        <p>Dari list_cash_flow tersebut, hitung total_pengeluaran dan total_pemasukan perusahaan.</p>\n",
    "    </div>\n",
    "</div>"
   ]
  },
  {
   "cell_type": "code",
   "execution_count": 30,
   "metadata": {},
   "outputs": [
    {
     "name": "stdout",
     "output_type": "stream",
     "text": [
      "12500000\n",
      "65000000\n"
     ]
    }
   ],
   "source": [
    "list_cash_flow = [2500000, 5000000, -1000000, -2500000, 5000000, 10000000,\n",
    "                  -5000000, 7500000, 10000000, -1500000, 25000000, -2500000]\n",
    "total_pengeluaran, total_pemasukan = 0, 0\n",
    "\n",
    "for dana in list_cash_flow:\n",
    "    if dana > 0:\n",
    "        total_pemasukan += dana       # jumlahkan dana yang bernilai positif sebagai pemasukan\n",
    "    else:\n",
    "        total_pengeluaran += dana     # jumlahkan dana yang bernilai negatif sebagai pengeluaran\n",
    "\n",
    "total_pengeluaran *= -1               # kembalikan nilai pengeluaran sebagai nilai positif\n",
    "print(total_pengeluaran) \n",
    "print(total_pemasukan)"
   ]
  },
  {
   "cell_type": "markdown",
   "metadata": {},
   "source": [
    "<h2><a name=\"mini-quiz\"></a>Chapter 5: Mini Quiz</h2>"
   ]
  },
  {
   "cell_type": "markdown",
   "metadata": {},
   "source": [
    "<div style=\"border: 2px solid orange;border-radius: 5px;\">\n",
    "    <b style=\"color:orange;padding:10px\">Ekspedisi Pamanku</b>\n",
    "    <div style=\"padding:25px\">\n",
    "        <p>Aku menyambar ponsel di meja dan membuka pesan singkat dari paman tempo hari yang menjelaskan jika paman harus mengeluarkan uang sebesar <b>1,5 juta</b> per mobil dalam sehari. Tapi, beliau selalu kebingungan total pengeluaran per bulan karena adanya aturan ganjil-genap yang membuat pengoperasian mobil yang berbeda.<p>\n",
    "        <p>Kalau begitu, aku akan masukkan variabel <b>jumlah_hari</b> berisi jumlah hari dalam sebulan dan variabel <b>list_plat_nomor</b> berisi seluruh nomor plat mobil milik paman,” gumamku sendiri. Kalau seperti ini paman hanya perlu mengganti variabel <b>jumlah_hari</b> atau modifikasi variabel <b>list_plat_nomor</b> untuk melacak total pengeluaran paman selama sebulan. Ide Cemerlang!</p>\n",
    "    </div>\n",
    "</div>"
   ]
  },
  {
   "cell_type": "code",
   "execution_count": 31,
   "metadata": {},
   "outputs": [
    {
     "name": "stdout",
     "output_type": "stream",
     "text": [
      "163500000\n"
     ]
    }
   ],
   "source": [
    "uang_jalan = 1500000\n",
    "jumlah_hari = 31\n",
    "list_plat_nomor = [8993, 2198, 2501, 2735, 3772, 4837, 9152]\n",
    "kendaraan_genap, kendaraan_ganjil = 0, 0\n",
    "\n",
    "# Pengecekan kendaraan dengan nomor pelat ganjil atau genap \n",
    "for plat_nomor in list_plat_nomor:\n",
    "    if plat_nomor % 2 == 0:\n",
    "        kendaraan_genap += 1\n",
    "    else:\n",
    "        kendaraan_ganjil += 1\n",
    "\n",
    "# Total pengeluaran untuk kendaraan dengan nomor pelat ganjil dan genap dalam 1 bulan\n",
    "i = 1\n",
    "total_pengeluaran = 0\n",
    "while i <= jumlah_hari:\n",
    "    if i % 2 == 0:\n",
    "        total_pengeluaran += (kendaraan_genap * uang_jalan)\n",
    "    else:\n",
    "        total_pengeluaran += (kendaraan_ganjil * uang_jalan)\n",
    "    i += 1\n",
    "\n",
    "print(total_pengeluaran)"
   ]
  }
 ],
 "metadata": {
  "kernelspec": {
   "display_name": "Python 3",
   "language": "python",
   "name": "python3"
  },
  "language_info": {
   "codemirror_mode": {
    "name": "ipython",
    "version": 3
   },
   "file_extension": ".py",
   "mimetype": "text/x-python",
   "name": "python",
   "nbconvert_exporter": "python",
   "pygments_lexer": "ipython3",
   "version": "3.8.3"
  }
 },
 "nbformat": 4,
 "nbformat_minor": 4
}
