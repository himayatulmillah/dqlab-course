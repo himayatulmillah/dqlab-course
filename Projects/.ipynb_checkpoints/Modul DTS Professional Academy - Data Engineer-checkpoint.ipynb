{
 "cells": [
  {
   "cell_type": "markdown",
   "metadata": {},
   "source": [
    "# Modul DTS Professional Academy - Data Engineer"
   ]
  },
  {
   "cell_type": "code",
   "execution_count": 1,
   "metadata": {},
   "outputs": [],
   "source": [
    "import pandas as pd\n",
    "df_participant = pd.read_csv('./Resources/dqthon-participants.csv')"
   ]
  },
  {
   "cell_type": "code",
   "execution_count": 2,
   "metadata": {},
   "outputs": [
    {
     "data": {
      "text/html": [
       "<div>\n",
       "<style scoped>\n",
       "    .dataframe tbody tr th:only-of-type {\n",
       "        vertical-align: middle;\n",
       "    }\n",
       "\n",
       "    .dataframe tbody tr th {\n",
       "        vertical-align: top;\n",
       "    }\n",
       "\n",
       "    .dataframe thead th {\n",
       "        text-align: right;\n",
       "    }\n",
       "</style>\n",
       "<table border=\"1\" class=\"dataframe\">\n",
       "  <thead>\n",
       "    <tr style=\"text-align: right;\">\n",
       "      <th></th>\n",
       "      <th>participant_id</th>\n",
       "      <th>first_name</th>\n",
       "      <th>last_name</th>\n",
       "      <th>birth_date</th>\n",
       "      <th>address</th>\n",
       "      <th>phone_number</th>\n",
       "      <th>country</th>\n",
       "      <th>institute</th>\n",
       "      <th>occupation</th>\n",
       "      <th>register_time</th>\n",
       "    </tr>\n",
       "  </thead>\n",
       "  <tbody>\n",
       "    <tr>\n",
       "      <th>0</th>\n",
       "      <td>bd9b6f88-b84f-4c4d-90f8-b67fe2f1a29a</td>\n",
       "      <td>Citra</td>\n",
       "      <td>Nurdiyanti</td>\n",
       "      <td>05 Feb 1991</td>\n",
       "      <td>Gg. Monginsidi No. 08\\nMedan, Aceh 80734</td>\n",
       "      <td>(0151) 081 2706</td>\n",
       "      <td>Georgia</td>\n",
       "      <td>UD Prakasa Mandasari</td>\n",
       "      <td>Business Intelligence Engineer</td>\n",
       "      <td>1.617634e+09</td>\n",
       "    </tr>\n",
       "    <tr>\n",
       "      <th>1</th>\n",
       "      <td>7dfe3391-6f40-47b6-b4db-0c76ebaf5fc3</td>\n",
       "      <td>Aris</td>\n",
       "      <td>Setiawan</td>\n",
       "      <td>11 Jan 1993</td>\n",
       "      <td>Gg. Rajawali Timur No. 7\\nPrabumulih, MA 09434</td>\n",
       "      <td>+62 (036) 461 7027</td>\n",
       "      <td>Korea Utara</td>\n",
       "      <td>Universitas Diponegoro</td>\n",
       "      <td>Frontend Engineer</td>\n",
       "      <td>1.617634e+09</td>\n",
       "    </tr>\n",
       "    <tr>\n",
       "      <th>2</th>\n",
       "      <td>19582d7f-b824-4fe5-a517-d5bf573fc768</td>\n",
       "      <td>Cornelia</td>\n",
       "      <td>Handayani</td>\n",
       "      <td>31 Jul 1993</td>\n",
       "      <td>Jalan Kebonjati No. 0\\nAmbon, SS 57739</td>\n",
       "      <td>089 833 6695</td>\n",
       "      <td>Komoro</td>\n",
       "      <td>UD Hardiansyah Puspasari</td>\n",
       "      <td>Business Analyst</td>\n",
       "      <td>1.617634e+09</td>\n",
       "    </tr>\n",
       "  </tbody>\n",
       "</table>\n",
       "</div>"
      ],
      "text/plain": [
       "                         participant_id first_name   last_name   birth_date  \\\n",
       "0  bd9b6f88-b84f-4c4d-90f8-b67fe2f1a29a      Citra  Nurdiyanti  05 Feb 1991   \n",
       "1  7dfe3391-6f40-47b6-b4db-0c76ebaf5fc3       Aris    Setiawan  11 Jan 1993   \n",
       "2  19582d7f-b824-4fe5-a517-d5bf573fc768   Cornelia   Handayani  31 Jul 1993   \n",
       "\n",
       "                                          address        phone_number  \\\n",
       "0        Gg. Monginsidi No. 08\\nMedan, Aceh 80734     (0151) 081 2706   \n",
       "1  Gg. Rajawali Timur No. 7\\nPrabumulih, MA 09434  +62 (036) 461 7027   \n",
       "2          Jalan Kebonjati No. 0\\nAmbon, SS 57739        089 833 6695   \n",
       "\n",
       "       country                 institute                      occupation  \\\n",
       "0      Georgia      UD Prakasa Mandasari  Business Intelligence Engineer   \n",
       "1  Korea Utara    Universitas Diponegoro               Frontend Engineer   \n",
       "2       Komoro  UD Hardiansyah Puspasari                Business Analyst   \n",
       "\n",
       "   register_time  \n",
       "0   1.617634e+09  \n",
       "1   1.617634e+09  \n",
       "2   1.617634e+09  "
      ]
     },
     "execution_count": 2,
     "metadata": {},
     "output_type": "execute_result"
    }
   ],
   "source": [
    "df = df_participant.copy()\n",
    "df.head(3)"
   ]
  },
  {
   "cell_type": "markdown",
   "metadata": {},
   "source": [
    "## Postal Code"
   ]
  },
  {
   "cell_type": "code",
   "execution_count": 3,
   "metadata": {},
   "outputs": [],
   "source": [
    "df['postal_code'] = df['address'].str.extract(r'(\\d+)$')"
   ]
  },
  {
   "cell_type": "markdown",
   "metadata": {},
   "source": [
    "## City"
   ]
  },
  {
   "cell_type": "code",
   "execution_count": 4,
   "metadata": {},
   "outputs": [],
   "source": [
    "df['city'] = df['address'].str.extract(r'(?:\\d+)\\n+(\\w+)')"
   ]
  },
  {
   "cell_type": "markdown",
   "metadata": {},
   "source": [
    "## Github Profile"
   ]
  },
  {
   "cell_type": "code",
   "execution_count": 5,
   "metadata": {},
   "outputs": [],
   "source": [
    "df['github_profile'] = 'https://github.com/' + df['first_name'].str.lower() + df['last_name'].str.lower()"
   ]
  },
  {
   "cell_type": "markdown",
   "metadata": {},
   "source": [
    "## Nomor Handphone"
   ]
  },
  {
   "cell_type": "code",
   "execution_count": 6,
   "metadata": {
    "scrolled": false
   },
   "outputs": [
    {
     "name": "stderr",
     "output_type": "stream",
     "text": [
      "<ipython-input-6-07e338940576>:2: FutureWarning: The default value of regex will change from True to False in a future version.\n",
      "  df['cleaned_phone_number'] = df['phone_number'].str.replace(r'^(\\+62|62)', '0')\n",
      "<ipython-input-6-07e338940576>:3: FutureWarning: The default value of regex will change from True to False in a future version.\n",
      "  df['cleaned_phone_number'] = df['cleaned_phone_number'].str.replace(r'[()-]', '')\n",
      "<ipython-input-6-07e338940576>:4: FutureWarning: The default value of regex will change from True to False in a future version.\n",
      "  df['cleaned_phone_number'] = df['cleaned_phone_number'].str.replace(r'\\s+', '')\n"
     ]
    }
   ],
   "source": [
    "#Masukkan regex anda pada parameter pertama dari fungsi replace\n",
    "df['cleaned_phone_number'] = df['phone_number'].str.replace(r'^(\\+62|62)', '0')\n",
    "df['cleaned_phone_number'] = df['cleaned_phone_number'].str.replace(r'[()-]', '')\n",
    "df['cleaned_phone_number'] = df['cleaned_phone_number'].str.replace(r'\\s+', '')"
   ]
  },
  {
   "cell_type": "markdown",
   "metadata": {},
   "source": [
    "## Nama Tim"
   ]
  },
  {
   "cell_type": "code",
   "execution_count": 7,
   "metadata": {},
   "outputs": [],
   "source": [
    "def func(col):\n",
    "    abbrev_name = \"%s%s\"%(col['first_name'][0],col['last_name'][0]) #Singkatan dari Nama Depan dan Nama Belakang dengan mengambil huruf pertama\n",
    "    country = col['country']\n",
    "    abbrev_institute = '%s'%(''.join(list(map(lambda word: word[0], col['institute'].split())))) #Singkatan dari value di kolom institute\n",
    "    return \"%s-%s-%s\"%(abbrev_name,country,abbrev_institute)\n",
    "\n",
    "df['team_name'] = df.apply(func, axis=1)"
   ]
  },
  {
   "cell_type": "markdown",
   "metadata": {},
   "source": [
    "## Email"
   ]
  },
  {
   "cell_type": "code",
   "execution_count": 8,
   "metadata": {},
   "outputs": [],
   "source": [
    "def func(col):\n",
    "    first_name_lower = col['first_name'].lower()\n",
    "    last_name_lower = col['last_name'].lower()\n",
    "    institute = ''.join(list(map(lambda word: word[0], col['institute'].lower().split()))) #Singkatan dari nama perusahaan dalam lowercase\n",
    "\n",
    "    if 'Universitas' in col['institute']:\n",
    "        if len(col['country'].split()) > 1: #Kondisi untuk mengecek apakah jumlah kata dari country lebih dari 1\n",
    "            country = ''.join(list(map(lambda word: word[0], col['country'].lower().split())))\n",
    "        else:\n",
    "            country = col['country'][:3].lower()\n",
    "        return \"%s%s@%s.ac.%s\"%(first_name_lower,last_name_lower,institute,country)\n",
    "\n",
    "    return \"%s%s@%s.com\"%(first_name_lower,last_name_lower,institute)\n",
    "\n",
    "df['email'] = df.apply(func, axis=1)"
   ]
  },
  {
   "cell_type": "markdown",
   "metadata": {},
   "source": [
    "## Tanggal Lahir"
   ]
  },
  {
   "cell_type": "code",
   "execution_count": 9,
   "metadata": {},
   "outputs": [],
   "source": [
    "df['birth_date'] = pd.to_datetime(df['birth_date'], format='%d %b %Y')"
   ]
  },
  {
   "cell_type": "markdown",
   "metadata": {},
   "source": [
    "## Tanggal Daftar Kompetisi"
   ]
  },
  {
   "cell_type": "code",
   "execution_count": 10,
   "metadata": {},
   "outputs": [],
   "source": [
    "df['register_at'] = pd.to_datetime(df['register_time'], unit='s')"
   ]
  },
  {
   "cell_type": "code",
   "execution_count": 11,
   "metadata": {},
   "outputs": [
    {
     "data": {
      "text/html": [
       "<div>\n",
       "<style scoped>\n",
       "    .dataframe tbody tr th:only-of-type {\n",
       "        vertical-align: middle;\n",
       "    }\n",
       "\n",
       "    .dataframe tbody tr th {\n",
       "        vertical-align: top;\n",
       "    }\n",
       "\n",
       "    .dataframe thead th {\n",
       "        text-align: right;\n",
       "    }\n",
       "</style>\n",
       "<table border=\"1\" class=\"dataframe\">\n",
       "  <thead>\n",
       "    <tr style=\"text-align: right;\">\n",
       "      <th></th>\n",
       "      <th>participant_id</th>\n",
       "      <th>first_name</th>\n",
       "      <th>last_name</th>\n",
       "      <th>birth_date</th>\n",
       "      <th>address</th>\n",
       "      <th>phone_number</th>\n",
       "      <th>country</th>\n",
       "      <th>institute</th>\n",
       "      <th>occupation</th>\n",
       "      <th>register_time</th>\n",
       "      <th>postal_code</th>\n",
       "      <th>city</th>\n",
       "      <th>github_profile</th>\n",
       "      <th>cleaned_phone_number</th>\n",
       "      <th>team_name</th>\n",
       "      <th>email</th>\n",
       "      <th>register_at</th>\n",
       "    </tr>\n",
       "  </thead>\n",
       "  <tbody>\n",
       "    <tr>\n",
       "      <th>0</th>\n",
       "      <td>bd9b6f88-b84f-4c4d-90f8-b67fe2f1a29a</td>\n",
       "      <td>Citra</td>\n",
       "      <td>Nurdiyanti</td>\n",
       "      <td>1991-02-05</td>\n",
       "      <td>Gg. Monginsidi No. 08\\nMedan, Aceh 80734</td>\n",
       "      <td>(0151) 081 2706</td>\n",
       "      <td>Georgia</td>\n",
       "      <td>UD Prakasa Mandasari</td>\n",
       "      <td>Business Intelligence Engineer</td>\n",
       "      <td>1.617634e+09</td>\n",
       "      <td>80734</td>\n",
       "      <td>NaN</td>\n",
       "      <td>https://github.com/citranurdiyanti</td>\n",
       "      <td>01510812706</td>\n",
       "      <td>CN-Georgia-UPM</td>\n",
       "      <td>citranurdiyanti@upm.com</td>\n",
       "      <td>2021-04-05 14:46:40</td>\n",
       "    </tr>\n",
       "    <tr>\n",
       "      <th>1</th>\n",
       "      <td>7dfe3391-6f40-47b6-b4db-0c76ebaf5fc3</td>\n",
       "      <td>Aris</td>\n",
       "      <td>Setiawan</td>\n",
       "      <td>1993-01-11</td>\n",
       "      <td>Gg. Rajawali Timur No. 7\\nPrabumulih, MA 09434</td>\n",
       "      <td>+62 (036) 461 7027</td>\n",
       "      <td>Korea Utara</td>\n",
       "      <td>Universitas Diponegoro</td>\n",
       "      <td>Frontend Engineer</td>\n",
       "      <td>1.617634e+09</td>\n",
       "      <td>09434</td>\n",
       "      <td>NaN</td>\n",
       "      <td>https://github.com/arissetiawan</td>\n",
       "      <td>00364617027</td>\n",
       "      <td>AS-Korea Utara-UD</td>\n",
       "      <td>arissetiawan@ud.ac.ku</td>\n",
       "      <td>2021-04-05 14:46:40</td>\n",
       "    </tr>\n",
       "    <tr>\n",
       "      <th>2</th>\n",
       "      <td>19582d7f-b824-4fe5-a517-d5bf573fc768</td>\n",
       "      <td>Cornelia</td>\n",
       "      <td>Handayani</td>\n",
       "      <td>1993-07-31</td>\n",
       "      <td>Jalan Kebonjati No. 0\\nAmbon, SS 57739</td>\n",
       "      <td>089 833 6695</td>\n",
       "      <td>Komoro</td>\n",
       "      <td>UD Hardiansyah Puspasari</td>\n",
       "      <td>Business Analyst</td>\n",
       "      <td>1.617634e+09</td>\n",
       "      <td>57739</td>\n",
       "      <td>NaN</td>\n",
       "      <td>https://github.com/corneliahandayani</td>\n",
       "      <td>0898336695</td>\n",
       "      <td>CH-Komoro-UHP</td>\n",
       "      <td>corneliahandayani@uhp.com</td>\n",
       "      <td>2021-04-05 14:46:40</td>\n",
       "    </tr>\n",
       "    <tr>\n",
       "      <th>3</th>\n",
       "      <td>aeb6d817-25f3-4867-8a74-8d92e0a0f633</td>\n",
       "      <td>Soleh</td>\n",
       "      <td>Rajasa</td>\n",
       "      <td>1991-11-04</td>\n",
       "      <td>Jl. Yos Sudarso No. 109\\nLubuklinggau, SR 76156</td>\n",
       "      <td>+62 (418) 329-4756</td>\n",
       "      <td>Eritrea</td>\n",
       "      <td>Perum Tampubolon Yuliarti</td>\n",
       "      <td>DevOps Engineer</td>\n",
       "      <td>1.617634e+09</td>\n",
       "      <td>76156</td>\n",
       "      <td>NaN</td>\n",
       "      <td>https://github.com/solehrajasa</td>\n",
       "      <td>04183294756</td>\n",
       "      <td>SR-Eritrea-PTY</td>\n",
       "      <td>solehrajasa@pty.com</td>\n",
       "      <td>2021-04-05 14:46:40</td>\n",
       "    </tr>\n",
       "    <tr>\n",
       "      <th>4</th>\n",
       "      <td>1fdabdd9-5444-4c97-87b2-fe8833ad0d27</td>\n",
       "      <td>Vivi</td>\n",
       "      <td>Astuti</td>\n",
       "      <td>2003-01-22</td>\n",
       "      <td>Jalan Gardujati No. 53\\nKediri, Sulawesi Tenga...</td>\n",
       "      <td>0812511835</td>\n",
       "      <td>Aljazair</td>\n",
       "      <td>PT Hardiansyah Rahimah</td>\n",
       "      <td>Data Analyst</td>\n",
       "      <td>1.617634e+09</td>\n",
       "      <td>70074</td>\n",
       "      <td>NaN</td>\n",
       "      <td>https://github.com/viviastuti</td>\n",
       "      <td>0812511835</td>\n",
       "      <td>VA-Aljazair-PHR</td>\n",
       "      <td>viviastuti@phr.com</td>\n",
       "      <td>2021-04-05 14:46:40</td>\n",
       "    </tr>\n",
       "  </tbody>\n",
       "</table>\n",
       "</div>"
      ],
      "text/plain": [
       "                         participant_id first_name   last_name birth_date  \\\n",
       "0  bd9b6f88-b84f-4c4d-90f8-b67fe2f1a29a      Citra  Nurdiyanti 1991-02-05   \n",
       "1  7dfe3391-6f40-47b6-b4db-0c76ebaf5fc3       Aris    Setiawan 1993-01-11   \n",
       "2  19582d7f-b824-4fe5-a517-d5bf573fc768   Cornelia   Handayani 1993-07-31   \n",
       "3  aeb6d817-25f3-4867-8a74-8d92e0a0f633      Soleh      Rajasa 1991-11-04   \n",
       "4  1fdabdd9-5444-4c97-87b2-fe8833ad0d27       Vivi      Astuti 2003-01-22   \n",
       "\n",
       "                                             address        phone_number  \\\n",
       "0           Gg. Monginsidi No. 08\\nMedan, Aceh 80734     (0151) 081 2706   \n",
       "1     Gg. Rajawali Timur No. 7\\nPrabumulih, MA 09434  +62 (036) 461 7027   \n",
       "2             Jalan Kebonjati No. 0\\nAmbon, SS 57739        089 833 6695   \n",
       "3    Jl. Yos Sudarso No. 109\\nLubuklinggau, SR 76156  +62 (418) 329-4756   \n",
       "4  Jalan Gardujati No. 53\\nKediri, Sulawesi Tenga...          0812511835   \n",
       "\n",
       "       country                  institute                      occupation  \\\n",
       "0      Georgia       UD Prakasa Mandasari  Business Intelligence Engineer   \n",
       "1  Korea Utara     Universitas Diponegoro               Frontend Engineer   \n",
       "2       Komoro   UD Hardiansyah Puspasari                Business Analyst   \n",
       "3      Eritrea  Perum Tampubolon Yuliarti                 DevOps Engineer   \n",
       "4     Aljazair     PT Hardiansyah Rahimah                    Data Analyst   \n",
       "\n",
       "   register_time postal_code city                        github_profile  \\\n",
       "0   1.617634e+09       80734  NaN    https://github.com/citranurdiyanti   \n",
       "1   1.617634e+09       09434  NaN       https://github.com/arissetiawan   \n",
       "2   1.617634e+09       57739  NaN  https://github.com/corneliahandayani   \n",
       "3   1.617634e+09       76156  NaN        https://github.com/solehrajasa   \n",
       "4   1.617634e+09       70074  NaN         https://github.com/viviastuti   \n",
       "\n",
       "  cleaned_phone_number          team_name                      email  \\\n",
       "0          01510812706     CN-Georgia-UPM    citranurdiyanti@upm.com   \n",
       "1          00364617027  AS-Korea Utara-UD      arissetiawan@ud.ac.ku   \n",
       "2           0898336695      CH-Komoro-UHP  corneliahandayani@uhp.com   \n",
       "3          04183294756     SR-Eritrea-PTY        solehrajasa@pty.com   \n",
       "4           0812511835    VA-Aljazair-PHR         viviastuti@phr.com   \n",
       "\n",
       "          register_at  \n",
       "0 2021-04-05 14:46:40  \n",
       "1 2021-04-05 14:46:40  \n",
       "2 2021-04-05 14:46:40  \n",
       "3 2021-04-05 14:46:40  \n",
       "4 2021-04-05 14:46:40  "
      ]
     },
     "execution_count": 11,
     "metadata": {},
     "output_type": "execute_result"
    }
   ],
   "source": [
    "df.head()"
   ]
  }
 ],
 "metadata": {
  "kernelspec": {
   "display_name": "Python 3",
   "language": "python",
   "name": "python3"
  },
  "language_info": {
   "codemirror_mode": {
    "name": "ipython",
    "version": 3
   },
   "file_extension": ".py",
   "mimetype": "text/x-python",
   "name": "python",
   "nbconvert_exporter": "python",
   "pygments_lexer": "ipython3",
   "version": "3.8.3"
  }
 },
 "nbformat": 4,
 "nbformat_minor": 4
}
