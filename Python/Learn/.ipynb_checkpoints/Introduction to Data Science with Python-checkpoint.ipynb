{
 "cells": [
  {
   "cell_type": "markdown",
   "metadata": {},
   "source": [
    "# Introduction to Data Science with Python"
   ]
  },
  {
   "cell_type": "markdown",
   "metadata": {},
   "source": [
    "<p>About : Module ini akan memperkenalkan bahasa pemrograman Python sebagai salah satu bahasa pemrograman yang digunakan secara luas dalam ranah data science.</p>\n",
    "<p>Course : <a href=https://academy.dqlab.id/main/package/practice/162?pf=0>Introduction to Data Science with Python</a> </p>"
   ]
  },
  {
   "cell_type": "markdown",
   "metadata": {},
   "source": [
    "<h2>Module Content:</h2>\n",
    "\n",
    "<div class=\"alert alert-block alert-info\" style=\"margin-top: 20px\">\n",
    "    <ul>\n",
    "        <li><a href=\"#dasar-dasar-python\">Dasar-dasar Python</a></li>\n",
    "        <ul>\n",
    "            <li><a href=\"#apa-itu-python\">Apa itu Pyhton?</a></li>\n",
    "            <li><a href=\"#list-library-python\">List Library Python</a></li>\n",
    "            <li><a href=\"#struktur-bahasa-python\">Struktur Bahasa Pyhton</a></li>\n",
    "            <li><a href=\"#practice-1\">Practice!</a></li>\n",
    "        </ul>\n",
    "        <li><a href=\"#lanjutan-dasar-dasar-python\">Lanjutan Dasar-dasar Python</a></li>\n",
    "        <ul>\n",
    "            <li><a href=\"#tipe-data-python\">Tipe Data Python</a></li>\n",
    "            <li><a href=\"#practice-2\">Practice!</a></li>\n",
    "        </ul>\n",
    "    </ul>\n",
    "</div>"
   ]
  },
  {
   "cell_type": "markdown",
   "metadata": {},
   "source": [
    "<h2><a name=\"dasar-dasar-python\"></a>Chapter 1: Dasar-dasar Python</h2>"
   ]
  },
  {
   "cell_type": "markdown",
   "metadata": {},
   "source": [
    "<h3><a name=\"apa-itu-python\"></a>Apa itu Python?</h3>\n",
    "\n",
    "<p>Python adalah bahasa pemrograman yang ditujukan untuk <i><b>general-purpose programming</b></i> dan termasuk dalam kategori <i><b>high-level programming language</b></i>.</p>\n",
    "<p>Diciptakan  oleh  <b>Guido  van Rossum</b> dan pertama kali diperkenalkan pada tahun 1991 sebagai sebuah proyek open-source.</p>"
   ]
  },
  {
   "cell_type": "markdown",
   "metadata": {},
   "source": [
    "<h3><a name=\"list-library-python\"></a>List Library Python</h3>\n",
    "\n",
    "<ol>\n",
    "    <li><b>Numpy</b> for numerical processing</li>\n",
    "    <li><b>Scipy</b> for scientific computation</li>\n",
    "    <li><b>Pandas</b> for preprocessing</li>\n",
    "    <li><b>Matplotlib</b> for visualization</li>\n",
    "    <li><b>Scikit-Learn</b> for modeling</li>\n",
    "    <li><b>Seaborn</b> for visualization</li>\n",
    "</ol>"
   ]
  },
  {
   "cell_type": "markdown",
   "metadata": {},
   "source": [
    "<h3><a name=\"struktur-bahasa-python\"></a>Struktur Bahasa Python</h3>\n",
    "\n",
    "<table align=\"left\">\n",
    "    <thead>\n",
    "        <th width=15%>Struktur</th>\n",
    "        <th style=\"text-align:left\">Keterangan</th>\n",
    "    </thead>\n",
    "    <tbody>\n",
    "        <tr>\n",
    "            <td>Statements</td>\n",
    "            <td style=\"text-align:left\">\n",
    "                Instruksi yang diberikan secara baris per baris untuk dijalankan oleh program</td>\n",
    "        </tr>\n",
    "        <tr>\n",
    "            <td>Variables</td>\n",
    "            <td style=\"text-align:left\">\n",
    "                Pengidentifikasian yang digunakan untuk menampung sebuah data atau informasi</td>\n",
    "        </tr>\n",
    "        <tr>\n",
    "            <td>Literals</td>\n",
    "            <td style=\"text-align:left\">\n",
    "                Data atau informasi yang digunakan untuk mengisi suatu variable</td>\n",
    "        </tr>\n",
    "        <tr>\n",
    "            <td>Operators</td>\n",
    "            <td style=\"text-align:left\">\n",
    "                Simbol-simbol yang digunakan untuk mengubah nilai dari satu variable dan melibatkan satu atau lebih variable dan literal</td>\n",
    "        </tr>\n",
    "        <tr>\n",
    "            <td>Reserved Words</td>\n",
    "            <td style=\"text-align:left\">\n",
    "                Kumpulan kata-kata yang memiliki makna khusus dan tidak dapat digunakan untuk variable atau literal</td>\n",
    "        </tr>\n",
    "        <tr>\n",
    "            <td>Whitespace</td>\n",
    "            <td style=\"text-align:left\">\n",
    "                Spasi dan tab yang menandai serangkaian blok kode</td>\n",
    "        </tr>\n",
    "        <tr>\n",
    "            <td>Comments</td>\n",
    "            <td style=\"text-align:left\">\n",
    "                Sekumpulan teks yang tidak akan dijalankan oleh program biasanya digunakan sebagai keterangan</td>\n",
    "        </tr>\n",
    "    </tbody>\n",
    "</table>"
   ]
  },
  {
   "cell_type": "markdown",
   "metadata": {},
   "source": [
    "<h3><a name=\"practice-1\"></a>Practice!</h3>"
   ]
  },
  {
   "cell_type": "code",
   "execution_count": 3,
   "metadata": {},
   "outputs": [
    {
     "name": "stdout",
     "output_type": "stream",
     "text": [
      "Hello World!\n",
      "Saya Maya, Baru belajar Python.\n"
     ]
    }
   ],
   "source": [
    "print('Hello World!')\n",
    "print('Saya Maya, Baru belajar Python.')"
   ]
  },
  {
   "cell_type": "markdown",
   "metadata": {},
   "source": [
    "kata <code>'Hello World!'</code> dan <code>'Saya Maya, Baru belajar Python.'</code> disebut dengan <b>statement</b>."
   ]
  },
  {
   "cell_type": "code",
   "execution_count": 4,
   "metadata": {},
   "outputs": [],
   "source": [
    "bil1 = 10\n",
    "Bil_2 = 20\n",
    "Frasa = \"Hello World\"\n",
    "bil1, Bil_2 = 10, 20\n",
    "salam = \"Selamat Pagi\"; Penutup = \"Salam Sejahtera\""
   ]
  },
  {
   "cell_type": "markdown",
   "metadata": {},
   "source": [
    "<strong>Note!</strong> variable tidak dapat didahului dengan angka."
   ]
  },
  {
   "cell_type": "code",
   "execution_count": 5,
   "metadata": {
    "scrolled": true
   },
   "outputs": [
    {
     "name": "stdout",
     "output_type": "stream",
     "text": [
      "jadi # digunakan untuk membuat comment pada Python\n"
     ]
    }
   ],
   "source": [
    "#perintah pada baris ini tidak mempengaruhi program\n",
    "'''\n",
    "perintah ini tidak akan dieksekusi oleh Python\n",
    "dan perintah ini juga tidak akan dieksekusi\n",
    "perintah ini juga tidak akan dieksekusi\n",
    "'''\n",
    "print(\"jadi # digunakan untuk membuat comment pada Python\")"
   ]
  },
  {
   "cell_type": "markdown",
   "metadata": {},
   "source": [
    "<h2><a name=\"lanjutan-dasar-dasar-python\"></a>Chapter 2: Lanjutan Dasar-dasar Python</h2>"
   ]
  },
  {
   "cell_type": "markdown",
   "metadata": {},
   "source": [
    "<h3><a name=\"tipe-data-python\"></a>Tipe Data Python</h3>\n",
    "\n",
    "<table align=\"left\">\n",
    "    <thead>\n",
    "        <th colspan=\"2\">Tipe Data</th>\n",
    "        <th>Keterangan dan Contoh</th>\n",
    "        <th>Konversi</th>\n",
    "    </thead>\n",
    "    <tbody>\n",
    "        <tr>\n",
    "            <td colspan=\"2\">NoneType</td>\n",
    "            <td><p>Hanya memiliki satu nilai <i>none</i></p></td>\n",
    "            <td><p>-</p></td>\n",
    "        </tr>\n",
    "        <tr>\n",
    "            <td rowspan=\"2\">Numerik</td>\n",
    "            <td><code>int</code></td>\n",
    "            <td>\n",
    "                <p>Seluruh bilangan bulat</p>\n",
    "                <p>Contoh: -20, -4, 0, 5, 80</p></td>\n",
    "            <td>\n",
    "                <p>Gunakan fungsi <b>int()</b></p>\n",
    "                <p>int(5.3) -> 5</p>\n",
    "                <p>int(\"6\") -> 6</p></td>\n",
    "        </tr>\n",
    "        <tr>\n",
    "            <td><code>float</code></td>\n",
    "            <td>\n",
    "                <p>Seluruh bilangan riil, yaitu bilangan yang dapat ditulis dalam bentuk desimal</p>\n",
    "                <p>Contoh: 3.14, -9.424, 0.001</td>\n",
    "            <td>\n",
    "                <p>Gunakan fungsi <b>float()</b></p>\n",
    "                <p>float(3) -> 3.0</p>\n",
    "                <p>float(\"9.32\") -> 9.32</p></td>\n",
    "        </tr>\n",
    "        <tr>\n",
    "            <td>Boolean</td>\n",
    "            <td><code>bool</code></td>\n",
    "            <td>\n",
    "                <p>Hanya memiliki dua nilai <i>True</i> dan <i>False</i></p></td>\n",
    "            <td>\n",
    "                <p>Gunakan fungsi <b>bool()</b></p>\n",
    "                <p>bool(1) -> True</p>\n",
    "                <p>bool(0) -> False</p></td>\n",
    "        </tr>\n",
    "        <tr>\n",
    "            <td rowspan=\"3\">Sequence</td>\n",
    "            <td><code>str</code></td>\n",
    "            <td>\n",
    "                <p>Huruf, kata, frasa, kalimat atau paragraf ang diapit oleh ' atau \"</p>\n",
    "                <p>Contoh: \"a\", 'b', \"Saya Maya\", \"Saya suka makan bakso\"</p></td>\n",
    "            <td>\n",
    "                <p>Gunakan fungsi <b>str()</b></p>\n",
    "                <p>str(5.3) -> \"5.3\"</p>\n",
    "                <p>int([1,'buku']) -> \"[1,'buku']\"</p></td>\n",
    "        </tr>\n",
    "        <tr>\n",
    "            <td><code>list</code></td>\n",
    "            <td>\n",
    "                <p>Urutan elemen yang diapit oleh kurung siku dan masing-masing elemen dipisahkan dengan koma</p>\n",
    "                <p>Contoh: [3.14, None, True, \"saya\"]</td>\n",
    "            <td>\n",
    "                <p>Gunakan fungsi <b>list()</b></p>\n",
    "                <p>list(\"buku\") -> ['b','u','k','u']</p>\n",
    "                <p>list((1,2,3,3)) -> [1,2,3,3]</p>\n",
    "                <p>list({4,5,6}) -> [4,5,6]</td>\n",
    "        </tr>\n",
    "        <tr>\n",
    "            <td><code>tuple</code></td>\n",
    "            <td>\n",
    "                <p>Urutan elemen yang diapit oleh kurung biasa dan masing-masing elemen dipisahkan dengan koma</p>\n",
    "                <p>Contoh: (3.14, None, True, \"saya\")</td>\n",
    "            <td>\n",
    "                <p>Gunakan fungsi <b>tuple()</b></p>\n",
    "                <p>tuple(\"buku\") -> ('b','u','k','u')</p>\n",
    "                <p>tuple([1,2,3,3]) -> (1,2,3,3)</p>\n",
    "                <p>tuple({4,5,6}) -> (4,5,6)</td>\n",
    "        </tr>\n",
    "        <tr>\n",
    "            <td>Set</td>\n",
    "            <td><code>set</code></td>\n",
    "            <td>\n",
    "                <p>Urutan elemen yang diapit oleh kurung kurawal dan masing-masing elemen dipisahkan dengan koma. Setiap elemen bernilai unik</p>\n",
    "                <p>Contoh: {3.14, None, True, \"saya\"}</td>\n",
    "            <td>\n",
    "                <p>Gunakan fungsi <b>set()</b></p>\n",
    "                <p>set(\"buku\") -> {'b','u','k'}</p>\n",
    "                <p>set([1,2,3,3]) -> {1,2,3}</p>\n",
    "                <p>set((4,5,6)) -> {4,5,6}</td>\n",
    "        </tr>\n",
    "    </tbody>\n",
    "</table>"
   ]
  },
  {
   "cell_type": "markdown",
   "metadata": {},
   "source": [
    "<h3><a name=\"practice-2\"></a>Practice!</h3>"
   ]
  },
  {
   "cell_type": "code",
   "execution_count": 21,
   "metadata": {},
   "outputs": [
    {
     "name": "stdout",
     "output_type": "stream",
     "text": [
      "Teks asli: Belajar Python DQlab\n",
      "Jumlah karakter: 20\n"
     ]
    }
   ],
   "source": [
    "text = \"Belajar Python DQlab\"\n",
    "\n",
    "print(\"Teks asli:\", text)\n",
    "print(\"Jumlah karakter:\", len(text))"
   ]
  },
  {
   "cell_type": "code",
   "execution_count": 26,
   "metadata": {},
   "outputs": [
    {
     "name": "stdout",
     "output_type": "stream",
     "text": [
      "Konversi ke list: ['B', 'e', 'l', 'a', 'j', 'a', 'r', ' ', 'P', 'y', 't', 'h', 'o', 'n', ' ', 'D', 'Q', 'l', 'a', 'b']\n",
      "Jumlah karakter: 20\n"
     ]
    }
   ],
   "source": [
    "print(\"Konversi ke list:\", list(text))\n",
    "print(\"Jumlah karakter:\", len(list(text)))"
   ]
  },
  {
   "cell_type": "code",
   "execution_count": 24,
   "metadata": {},
   "outputs": [
    {
     "name": "stdout",
     "output_type": "stream",
     "text": [
      "Konversi ke tuple: ('B', 'e', 'l', 'a', 'j', 'a', 'r', ' ', 'P', 'y', 't', 'h', 'o', 'n', ' ', 'D', 'Q', 'l', 'a', 'b')\n",
      "Jumlah karakter: 20\n"
     ]
    }
   ],
   "source": [
    "print(\"Konversi ke tuple:\", tuple(text))\n",
    "print(\"Jumlah karakter:\", len(tuple(text)))"
   ]
  },
  {
   "cell_type": "code",
   "execution_count": 25,
   "metadata": {},
   "outputs": [
    {
     "name": "stdout",
     "output_type": "stream",
     "text": [
      "Konversi ke set: {'r', 'B', 'o', 'b', 'a', 'y', 'e', ' ', 'h', 'P', 't', 'n', 'D', 'Q', 'j', 'l'}\n",
      "Jumlah karakter: 16\n"
     ]
    }
   ],
   "source": [
    "print(\"Konversi ke set:\", set(text))\n",
    "print(\"Jumlah karakter:\", len(set(text)))"
   ]
  }
 ],
 "metadata": {
  "kernelspec": {
   "display_name": "Python 3",
   "language": "python",
   "name": "python3"
  },
  "language_info": {
   "codemirror_mode": {
    "name": "ipython",
    "version": 3
   },
   "file_extension": ".py",
   "mimetype": "text/x-python",
   "name": "python",
   "nbconvert_exporter": "python",
   "pygments_lexer": "ipython3",
   "version": "3.8.3"
  }
 },
 "nbformat": 4,
 "nbformat_minor": 4
}
