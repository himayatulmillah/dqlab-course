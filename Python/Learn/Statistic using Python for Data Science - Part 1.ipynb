{
 "cells": [
  {
   "cell_type": "markdown",
   "metadata": {},
   "source": [
    "# Statistic using Python for Data Science - Part 1"
   ]
  },
  {
   "cell_type": "markdown",
   "metadata": {},
   "source": [
    "<p><b>About :</b> Penting mempelajari Statistika karena merupakan salah 1 fundamental dasar belajar data science. Pada modul ini, kamu akan dibekali dengan banyak teori dasar mengenai statistika.</p>\n",
    "\n",
    "<p><b>Course :</b> <a href=https://academy.dqlab.id/main/package/practice/288?pf=0>Statistic using Python for Data Science - Part 1</a></p>"
   ]
  },
  {
   "cell_type": "markdown",
   "metadata": {},
   "source": [
    "<h2>Module Content:</h2>\n",
    "\n",
    "<div class=\"alert alert-block alert-info\" style=\"margin-top: 20px\">\n",
    "    <ul>\n",
    "        <li><a href=\"#statistika-dan-package-statiska\">Pengenalan Statistika dan Package Statistika di Python</a></li>\n",
    "        <ul>\n",
    "            <li><a href=\"#konsep-dasar-statistika\">Konsep Dasar Statistika</a></li>\n",
    "            <li><a href=\"#statistik-dan-parameter\">Statistik dan Parameter</a></li>\n",
    "            <li><a href=\"#data-kualitatif-dan-data-kuantitatif\">Data Kualitatif dan Data Kuantitatif</a></li>\n",
    "            <li><a href=\"#tipe-statistika\">Tipe Statistika</a></li>\n",
    "            <li><a href=\"#skala-pengukuran\">Skala Pengukuran</a></li>\n",
    "            <li><a href=\"#package-statistika-python\">Package Statistika di Python</a></li>\n",
    "        </ul>\n",
    "        <li><a href=\"#pengenalan-numpy-dan-pandas\">Pengenalan Numpy dan Pandas</a></li>\n",
    "        <li><a href=\"#ukuran-pusat\">Ukuran Pusat</a></li>\n",
    "        <ul>\n",
    "            <li><a href=\"#mean\">Mean</a></li>\n",
    "            <li><a href=\"#median\">Median</a></li>\n",
    "            <li><a href=\"#modus\">Modus</a></li>\n",
    "            <li><a href=\"#kuantil\">Kuantil</a></li>\n",
    "            <li><a href=\"#agregasi-data\">Agregasi Data</a></li>\n",
    "        </ul>\n",
    "        <li><a href=\"#ukuran-sebaran\">Ukuran Sebaran</a></li>\n",
    "        <ul>\n",
    "            <li><a href=\"#proporsi-kategori\">Proporsi Kategori</a></li>\n",
    "            <li><a href=\"#rentang\">Rentang</a></li>\n",
    "            <li><a href=\"#variansi\">Variansi</a></li>\n",
    "            <li><a href=\"#deviasi-baku\">Deviasi Baku</a></li>\n",
    "        </ul>\n",
    "        <li><a href=\"#korelasi\">Korelasi</a></li>\n",
    "        <ul>\n",
    "            <li><a href=\"#korelasi-pearson\">Korelasi Pearson</a></li>\n",
    "            <li><a href=\"#korelasi-spearman\">Korelasi Spearman</a></li>\n",
    "            <li><a href=\"#korelasi-kendall\">Korelasi Kendall</a></li>\n",
    "            <li><a href=\"#korelasi-kausalitas\">Interpretasi Nilai Korelasi dan Kaitannya dengan Kausalitas</a></li>\n",
    "        </ul>\n",
    "    </ul>\n",
    "</div>"
   ]
  },
  {
   "cell_type": "markdown",
   "metadata": {},
   "source": [
    "<h2><a name=\"statistika-dan-package-statiska\"></a>Chapter 1: Pengenalan Statistika dan Package Statistika di Python</h2>"
   ]
  },
  {
   "cell_type": "markdown",
   "metadata": {},
   "source": [
    "Secara definisi, statistika adalah bidang studi yang mempelajari bagaimana mengumpulkan dan menganalisa data. Jika mengambil definisi yang lebih lengkap, maka statistika dapat didefinisikan sebagai ilmu yang mempelajari cara pengumpulan data, menganalisis data untuk mendapatkan kesimpulan informasi sampai dapat dijadikan dasar pembuatan keputusan atau kebijakan.\n",
    "\n",
    "Di dalam mempelajari statistika, akan mempelajari bagaimana caranya <b>mengorganisir</b> dan <b>membuat kesimpulan</b> dari data. Kegiatan mengorganisir dan membuay kesimpulan dari data disebut sebagai <b>statistika deskriptif</b>. Ada banyak cara bagaimana kita menyimpulkan suatu data, misalnya dengan membuat <b>grafik</b> atau dengan <b>angka</b>, misalnya mengambil suatu <b>rata-rata</b> dari data.\n",
    "\n",
    "Selanjutnya ketika harus mengambil keputusan dari data yang sudah diolah, kemudian akan menggunakan <b>statistika inferensial</b> sehingga dapat mengambil keputusan yang benar dari data yang juga sudah diolah dengan benar."
   ]
  },
  {
   "cell_type": "markdown",
   "metadata": {},
   "source": [
    "<h3><a name=\"konsep-dasar-statistika\"></a>Konsep Dasar Statistika</h3>"
   ]
  },
  {
   "cell_type": "markdown",
   "metadata": {},
   "source": [
    "<b>Observasi:</b> Adalah suatu unit yang diukur dengan data. Beberapa contoh diantaranya adalah:\n",
    "<li>Siswa</li>\n",
    "<li>Warga negara</li>\n",
    "<li>Hewan</li>\n",
    "<li>Kendaraan</li>\n",
    "\n",
    "<b>Populasi:</b> Adalah koleksi dari keseluruhan observasi. Beberapa contoh diantaranya adalah:\n",
    "<li>Semua siswa yang ada di sekolah</li>\n",
    "<li>Semua warga negara Indonesia,</li>\n",
    "<li>Semua hewan yang ada di hutan lindung,</li>\n",
    "<li>Semua kendaraan di Jakarta</li>\n",
    "\n",
    "<b>Sampel:</b> Adalah sub koleksi dari populasi. Beberapa contoh diantaranya adalah:\n",
    "<li>5 siswa dari masing-masing kelas di suatu sekolah</li>\n",
    "<li>100 warga negara Indonesia yang diambil dari beberapa wilayah</li>\n",
    "<li>Beberapa species hewan tertentu di suatu hutan lindung</li>\n",
    "<li>3 jenis kendaraan di Jakarta</li>"
   ]
  },
  {
   "cell_type": "markdown",
   "metadata": {},
   "source": [
    "<h3><a name=\"statistik-dan-parameter\"></a>Statistik dan Parameter</h3>"
   ]
  },
  {
   "cell_type": "markdown",
   "metadata": {},
   "source": [
    "Setiap kita mengkaji suatu permasalahan, biasanya kita menggunakan beberapa individu dari grup-grup tertentu. Misalnya, ketika kita ingin mengetahui prestasi siswa di suatu sekolah untuk mata pelajaran matematika, kita bisa saja menghitung semua nilai siswa lalu ambil nilai rata-ratanya. Atau dalam konteks pemasaran, kita ingin tahu untuk setiap segmen pasar, berapa besar pendapata yang bisa kita peroleh dari tiap segmen.\n",
    "\n",
    "Namun ada kalanya kita hanya butuh sebagian kecil dari grup dikarenakan beberapa keterbatasan seperti biaya pengambilan data yang terlalu mahal atau bisa karena membutuhkan waktu analisis yang singkat karena harus membuat keputusan saat itu juga. Jika kasus seperti ini biasanya kita hanya mengambil sebagian kecil dari grup. Misalnya kita hanya mengambil 10 siswa dari tiap kelas untuk menghitung prestasi siswa atau kita hanya mengambil 20% dari tiap segmen pasar kita. Hal ini yang memunculkan dua istilah untuk kedua kasus ini: <b>parameter</b> dan <b>statistik</b>.\n",
    "\n",
    "Parameter adalah <b>penjelasan atas populasi</b> sedangkan statistik hanya <b>menjelaskan sampel dari populasi</b>. Untuk kasus terkait segmentasi pasar, mengukur revenue dari setiap orang di dalam segmen adalah parameter sedangkan jika kita hanya mengambil 20% dari tiap segmen hal ini dikatakan sebagai statistik."
   ]
  },
  {
   "cell_type": "markdown",
   "metadata": {},
   "source": [
    "<h3><a name=\"data-kualitatif-dan-data-kuantitatif\"></a>Data Kualitatif dan Data Kuantitatif</h3>"
   ]
  },
  {
   "cell_type": "markdown",
   "metadata": {},
   "source": [
    "Terdapat dua kategori data yang terdapat pada populasi atau sampel, yaitu data kualitatif dan data kuantitatif.\n",
    "\n",
    "<b>Data kualitatif</b> adalah data yang diperoleh dari <b>mengkategorikan atau menjelaskan</b> suatu atribut dari populasi atau sampel. Biasanya disebut juga sebagai data kategorik. Beberapa contoh data kualitatif misalnya warna rambut, golongan darah, nama jalan, nama produk yang digunakan dan lain sebagainya.Biasanya data kualitatif selalu disebutkan dalam bentuk kata ataupun simbol.\n",
    "\n",
    "<b>Data kuantitatif</b> adalah data yang diperoleh dari <b>ukuran atau hitungan</b> di suatu populasi atau sampel. Data kuantitatif selalu berbentuk angka. Data seperti gaji, berat badan, populasi di suatu negara, dan jumlah pelanggan yang dimiliki suatu e-commerce termasuk data kuantitatif. Data kuantitatif sendiri dapat dibagi menjadi dua yaitu data <b>diskrit</b> dan data <b>kontinu</b>.\n",
    "<ul>\n",
    "    <li>Data yang diperoleh dari hasil perhitungan adalah data diskrit: jumlah pelanggan, jumlah produk, dan jumlah telefon yang diterima oleh customer service per harinya adalah beberapa contoh data <b>diskrit</b>.</li>\n",
    "    <li>Data yang diperoleh dari hasil perhitungan namun dapat memuat rasio, desimal, atau bilangan irasional adalah data kontinu: berat badan, tinggi badan, waktu, dan gaji adalah beberapa contoh data <b>kontinu</b>.</li>\n",
    "</ul>"
   ]
  },
  {
   "cell_type": "markdown",
   "metadata": {},
   "source": [
    "<h3><a name=\"tipe-statistika\"></a>Tipe Statistika</h3>"
   ]
  },
  {
   "cell_type": "markdown",
   "metadata": {},
   "source": [
    "<img src=\"Resources/tipe_statistika.png\" width=70%>\n",
    "\n",
    "<b>Statistika deskriptif</b> digunakan untuk melakukan eksplorasi pada data, biasanya menggunakan teknik visualisasi data sebagai alat bantu untuk memahami bagaimana bentuk distribusi dan hubungan antara satu titik data dengan titik data lainnya.\n",
    "\n",
    "<b>Statistika inferensial</b> digunakan untuk melakukan pemgambilan keputusan atas suatu simpulan terkait dengan data yang sedang dianalisa. Statistika inferensi memungkinkan kita mengambil kesimpulan dari suatu populasi dengan menggunakan sampel yang diambil dari populasi tersebut."
   ]
  },
  {
   "cell_type": "markdown",
   "metadata": {},
   "source": [
    "<h3><a name=\"skala-pengukuran\"></a>Skala Pengukuran</h3>"
   ]
  },
  {
   "cell_type": "markdown",
   "metadata": {},
   "source": [
    "Ada beberapa skala pengukuran sebagaimana ada beberapa cara kita dapat mengelompokkan objek yang ingin kita ukur. Beberapa tingkatan tersebut adalah:"
   ]
  },
  {
   "cell_type": "markdown",
   "metadata": {},
   "source": [
    "<h4>Data Kategorikal</h4>\n",
    "\n",
    "<img src=\"Resources/data_kategorikal.png\" width=70%>\n",
    "\n",
    "<ul>\n",
    "<li><b>Skala Nominal:</b> adalah skala yang digunakan untuk mengkategorikan suatu objek pengamatan dengan objek pengamatan lainnya. Sebagai contoh yang termasuk skala nominal seperti gender, kategori barang, ras, status pernikahan dan lain sebagainya</li>\n",
    "<li><b>Skala Ordinal:</b> adalah skala yang digunakan untuk mengurutkan suatu objek pengamatan dimana suatu titik pengamatan memiliki nilai yang lebih rendah atau tinggi dibanding nilai lainnya. Sebagai contoh yang termasuk skala nominal adalah kelas, jabatan, tingkat pendidikan, dan sebagainya</li>\n",
    "</ul>"
   ]
  },
  {
   "cell_type": "markdown",
   "metadata": {},
   "source": [
    "<h4>Data Numerikal</h4>\n",
    "\n",
    "<img src=\"Resources/data_numerikal.png\" width=70%>\n",
    "\n",
    "<ul>\n",
    "    <li><b>Skala interval:</b> adalah skala yang digunakan untuk tidak hanya untuk mengklasifikasikan maupun memberikan tingkatan pada suatu titik pengamatan, namun kita dapat mengukur seberapa besar nilai antara suatu titik pengamatan dengan titik pengamatan lainnya. Beberapa contoh yang termasuk skala interval diantaranya adalah suhu tubuh dan jarak.</li>\n",
    "    <li><b>Skala Rasio:</b> memiliki kemiripan dengan skala interval, perbedaannya terletak pada nilai 0 pada skala rasio. Berbeda dengan skala interval yang tidak memiliki nilai 0 yang tidak pasti.</li>\n",
    "</ul>"
   ]
  },
  {
   "cell_type": "markdown",
   "metadata": {},
   "source": [
    "<h3><a name=\"package-statistika-python\"></a>Package Statistika di Python</h3>"
   ]
  },
  {
   "cell_type": "markdown",
   "metadata": {},
   "source": [
    "Untuk melakukan perhitungan statistika, kita dapat menggunakan beberapa package atau library berikut yang tersedia di Python. Diantaranya adalah:\n",
    "\n",
    "<ul>\n",
    "    <li><code>numpy</code>: digunakan untuk melakukan analisa data numerik dan perhitungan berbasis vektor atau matriks</li>\n",
    "    <li><code>pandas</code>: digunakan untuk melakukan pengolahan data tabular</li>\n",
    "    <li><code>matplotlib</code>: digunakan untuk melakukan ploting atau penggambaran grafik, dapat digunakan sebagai alat bantu dalam analisa data</li>\n",
    "    <li><code>statsmodels</code>: digunakan untuk melakukan uji hipotesa, eksplorasi data maupun pemodelan statistika</li>\n",
    "    <li><code>scipy</code>: digunakan untuk melakukan uji statistika, juga dapat digunakan untuk melakukan pemodelan statistika</li>\n",
    "</ul>\n",
    "\n",
    "Sebenarnya masih banyak lagi library python untuk pengolahan data statistika, namun untuk materi ini cukup 4 atau 5 library di atas saja yang akan kita gunakan."
   ]
  },
  {
   "cell_type": "markdown",
   "metadata": {},
   "source": [
    "<h2><a name=\"pengenalan-numpy-dan-pandas\"></a>Chapter 2: Pengenalan Numpy dan Pandas</h2>"
   ]
  },
  {
   "cell_type": "markdown",
   "metadata": {},
   "source": [
    "Kedua library ini, <code>numpy</code> dan <code>pandas</code>, adalah library yang umum digunakan untuk melakukan pengolahan data, mulai dari membaca data dalam format tertentu (<code>csv</code>, <code>xlsx</code>, <code>xls</code>, <code>tsv</code>) atau dari sumber tertentu (<code>RDBMS</code>, <code>No-SQL</code>), melakukan inspeksi (mengecek data yang hilang, inkonsistensi pada data) dan pengolahan data (transformasi nilai, encoding, normalisasi) sampai visualisasi data untuk membuat laporan atau mempersiapkan data untuk membuat model.\n",
    "\n",
    "<b>Numpy</b> adalah library yang biasanya digunakan untuk manipulasi array atau vektor. Perhitungan yang melibatkan operasi pada objek berbentuk matriks, vektor atau bahkan multidimensi vektor (misalnya data gambar dengan skema warna RGB) dapat kita lakukan dengan menggunakan numpy.\n",
    "\n",
    "<b>Pandas</b> adalah library yang biasanya digunakan untuk analisa data atau biasa disebut sebagai data wrangling. Biasanya data yang diolah oleh pandas berbentuk tabular atau tabel layaknya spreadsheet di Excel. Pandas menggunakan numpy sebagai back-end sehingga beberapa fungsi atau method dari numpy dapat digunakan di objek pandas."
   ]
  },
  {
   "cell_type": "code",
   "execution_count": 2,
   "metadata": {
    "scrolled": true
   },
   "outputs": [
    {
     "name": "stdout",
     "output_type": "stream",
     "text": [
      "Dimensi data: (20, 9)\n"
     ]
    },
    {
     "data": {
      "text/html": [
       "<div>\n",
       "<style scoped>\n",
       "    .dataframe tbody tr th:only-of-type {\n",
       "        vertical-align: middle;\n",
       "    }\n",
       "\n",
       "    .dataframe tbody tr th {\n",
       "        vertical-align: top;\n",
       "    }\n",
       "\n",
       "    .dataframe thead th {\n",
       "        text-align: right;\n",
       "    }\n",
       "</style>\n",
       "<table border=\"1\" class=\"dataframe\">\n",
       "  <thead>\n",
       "    <tr style=\"text-align: right;\">\n",
       "      <th></th>\n",
       "      <th>ID Pelanggan</th>\n",
       "      <th>Nama</th>\n",
       "      <th>Jenis Kelamin</th>\n",
       "      <th>Pendapatan</th>\n",
       "      <th>Produk</th>\n",
       "      <th>Harga</th>\n",
       "      <th>Jumlah</th>\n",
       "      <th>Total</th>\n",
       "      <th>Tingkat Kepuasan</th>\n",
       "    </tr>\n",
       "  </thead>\n",
       "  <tbody>\n",
       "    <tr>\n",
       "      <th>0</th>\n",
       "      <td>1</td>\n",
       "      <td>Arif</td>\n",
       "      <td>1</td>\n",
       "      <td>600000</td>\n",
       "      <td>A</td>\n",
       "      <td>100000</td>\n",
       "      <td>4</td>\n",
       "      <td>400000</td>\n",
       "      <td>2</td>\n",
       "    </tr>\n",
       "    <tr>\n",
       "      <th>1</th>\n",
       "      <td>2</td>\n",
       "      <td>Dian</td>\n",
       "      <td>2</td>\n",
       "      <td>1200000</td>\n",
       "      <td>D</td>\n",
       "      <td>250000</td>\n",
       "      <td>4</td>\n",
       "      <td>1000000</td>\n",
       "      <td>2</td>\n",
       "    </tr>\n",
       "    <tr>\n",
       "      <th>2</th>\n",
       "      <td>3</td>\n",
       "      <td>Dinda</td>\n",
       "      <td>2</td>\n",
       "      <td>950000</td>\n",
       "      <td>D</td>\n",
       "      <td>250000</td>\n",
       "      <td>3</td>\n",
       "      <td>750000</td>\n",
       "      <td>3</td>\n",
       "    </tr>\n",
       "    <tr>\n",
       "      <th>3</th>\n",
       "      <td>4</td>\n",
       "      <td>Fajar</td>\n",
       "      <td>1</td>\n",
       "      <td>400000</td>\n",
       "      <td>A</td>\n",
       "      <td>100000</td>\n",
       "      <td>2</td>\n",
       "      <td>200000</td>\n",
       "      <td>3</td>\n",
       "    </tr>\n",
       "    <tr>\n",
       "      <th>4</th>\n",
       "      <td>5</td>\n",
       "      <td>Ika</td>\n",
       "      <td>2</td>\n",
       "      <td>1200000</td>\n",
       "      <td>D</td>\n",
       "      <td>250000</td>\n",
       "      <td>4</td>\n",
       "      <td>1000000</td>\n",
       "      <td>2</td>\n",
       "    </tr>\n",
       "  </tbody>\n",
       "</table>\n",
       "</div>"
      ],
      "text/plain": [
       "   ID Pelanggan   Nama  Jenis Kelamin  Pendapatan Produk   Harga  Jumlah   \\\n",
       "0             1   Arif              1      600000      A  100000        4   \n",
       "1             2   Dian              2     1200000      D  250000        4   \n",
       "2             3  Dinda              2      950000      D  250000        3   \n",
       "3             4  Fajar              1      400000      A  100000        2   \n",
       "4             5    Ika              2     1200000      D  250000        4   \n",
       "\n",
       "     Total  Tingkat Kepuasan  \n",
       "0   400000                 2  \n",
       "1  1000000                 2  \n",
       "2   750000                 3  \n",
       "3   200000                 3  \n",
       "4  1000000                 2  "
      ]
     },
     "execution_count": 2,
     "metadata": {},
     "output_type": "execute_result"
    }
   ],
   "source": [
    "import numpy as np\n",
    "import pandas as pd\n",
    "\n",
    "raw_data = pd.read_csv(\"https://dqlab-dataset.s3-ap-southeast-1.amazonaws.com/dataset_statistic.csv\", sep=';')\n",
    "print(\"Dimensi data:\", raw_data.shape)\n",
    "raw_data.head()"
   ]
  },
  {
   "cell_type": "code",
   "execution_count": 3,
   "metadata": {},
   "outputs": [
    {
     "data": {
      "text/plain": [
       "Index(['ID Pelanggan', 'Nama', 'Jenis Kelamin', 'Pendapatan', 'Produk',\n",
       "       'Harga', 'Jumlah ', 'Total', 'Tingkat Kepuasan'],\n",
       "      dtype='object')"
      ]
     },
     "execution_count": 3,
     "metadata": {},
     "output_type": "execute_result"
    }
   ],
   "source": [
    "raw_data.columns"
   ]
  },
  {
   "cell_type": "code",
   "execution_count": 4,
   "metadata": {},
   "outputs": [
    {
     "data": {
      "text/plain": [
       "ID Pelanggan        0\n",
       "Nama                0\n",
       "Jenis Kelamin       0\n",
       "Pendapatan          0\n",
       "Produk              0\n",
       "Harga               0\n",
       "Jumlah              0\n",
       "Total               0\n",
       "Tingkat Kepuasan    0\n",
       "dtype: int64"
      ]
     },
     "execution_count": 4,
     "metadata": {},
     "output_type": "execute_result"
    }
   ],
   "source": [
    "# check missing value\n",
    "raw_data.isna().sum()"
   ]
  },
  {
   "cell_type": "code",
   "execution_count": 5,
   "metadata": {},
   "outputs": [
    {
     "data": {
      "text/html": [
       "<div>\n",
       "<style scoped>\n",
       "    .dataframe tbody tr th:only-of-type {\n",
       "        vertical-align: middle;\n",
       "    }\n",
       "\n",
       "    .dataframe tbody tr th {\n",
       "        vertical-align: top;\n",
       "    }\n",
       "\n",
       "    .dataframe thead th {\n",
       "        text-align: right;\n",
       "    }\n",
       "</style>\n",
       "<table border=\"1\" class=\"dataframe\">\n",
       "  <thead>\n",
       "    <tr style=\"text-align: right;\">\n",
       "      <th></th>\n",
       "      <th>ID Pelanggan</th>\n",
       "      <th>Jenis Kelamin</th>\n",
       "      <th>Pendapatan</th>\n",
       "      <th>Harga</th>\n",
       "      <th>Jumlah</th>\n",
       "      <th>Total</th>\n",
       "      <th>Tingkat Kepuasan</th>\n",
       "    </tr>\n",
       "  </thead>\n",
       "  <tbody>\n",
       "    <tr>\n",
       "      <th>count</th>\n",
       "      <td>20.00000</td>\n",
       "      <td>20.000000</td>\n",
       "      <td>2.000000e+01</td>\n",
       "      <td>20.000000</td>\n",
       "      <td>20.000000</td>\n",
       "      <td>2.000000e+01</td>\n",
       "      <td>20.000000</td>\n",
       "    </tr>\n",
       "    <tr>\n",
       "      <th>mean</th>\n",
       "      <td>10.50000</td>\n",
       "      <td>1.700000</td>\n",
       "      <td>1.160000e+06</td>\n",
       "      <td>197500.000000</td>\n",
       "      <td>3.650000</td>\n",
       "      <td>7.100000e+05</td>\n",
       "      <td>2.050000</td>\n",
       "    </tr>\n",
       "    <tr>\n",
       "      <th>std</th>\n",
       "      <td>5.91608</td>\n",
       "      <td>0.470162</td>\n",
       "      <td>1.282842e+06</td>\n",
       "      <td>69726.910912</td>\n",
       "      <td>1.182103</td>\n",
       "      <td>3.338768e+05</td>\n",
       "      <td>0.887041</td>\n",
       "    </tr>\n",
       "    <tr>\n",
       "      <th>min</th>\n",
       "      <td>1.00000</td>\n",
       "      <td>1.000000</td>\n",
       "      <td>4.000000e+05</td>\n",
       "      <td>100000.000000</td>\n",
       "      <td>1.000000</td>\n",
       "      <td>2.000000e+05</td>\n",
       "      <td>1.000000</td>\n",
       "    </tr>\n",
       "    <tr>\n",
       "      <th>25%</th>\n",
       "      <td>5.75000</td>\n",
       "      <td>1.000000</td>\n",
       "      <td>6.750000e+05</td>\n",
       "      <td>150000.000000</td>\n",
       "      <td>3.000000</td>\n",
       "      <td>4.750000e+05</td>\n",
       "      <td>1.000000</td>\n",
       "    </tr>\n",
       "    <tr>\n",
       "      <th>50%</th>\n",
       "      <td>10.50000</td>\n",
       "      <td>2.000000</td>\n",
       "      <td>8.750000e+05</td>\n",
       "      <td>200000.000000</td>\n",
       "      <td>4.000000</td>\n",
       "      <td>6.750000e+05</td>\n",
       "      <td>2.000000</td>\n",
       "    </tr>\n",
       "    <tr>\n",
       "      <th>75%</th>\n",
       "      <td>15.25000</td>\n",
       "      <td>2.000000</td>\n",
       "      <td>1.125000e+06</td>\n",
       "      <td>250000.000000</td>\n",
       "      <td>4.250000</td>\n",
       "      <td>9.250000e+05</td>\n",
       "      <td>3.000000</td>\n",
       "    </tr>\n",
       "    <tr>\n",
       "      <th>max</th>\n",
       "      <td>20.00000</td>\n",
       "      <td>2.000000</td>\n",
       "      <td>6.450000e+06</td>\n",
       "      <td>300000.000000</td>\n",
       "      <td>5.000000</td>\n",
       "      <td>1.500000e+06</td>\n",
       "      <td>3.000000</td>\n",
       "    </tr>\n",
       "  </tbody>\n",
       "</table>\n",
       "</div>"
      ],
      "text/plain": [
       "       ID Pelanggan  Jenis Kelamin    Pendapatan          Harga    Jumlah   \\\n",
       "count      20.00000      20.000000  2.000000e+01      20.000000  20.000000   \n",
       "mean       10.50000       1.700000  1.160000e+06  197500.000000   3.650000   \n",
       "std         5.91608       0.470162  1.282842e+06   69726.910912   1.182103   \n",
       "min         1.00000       1.000000  4.000000e+05  100000.000000   1.000000   \n",
       "25%         5.75000       1.000000  6.750000e+05  150000.000000   3.000000   \n",
       "50%        10.50000       2.000000  8.750000e+05  200000.000000   4.000000   \n",
       "75%        15.25000       2.000000  1.125000e+06  250000.000000   4.250000   \n",
       "max        20.00000       2.000000  6.450000e+06  300000.000000   5.000000   \n",
       "\n",
       "              Total  Tingkat Kepuasan  \n",
       "count  2.000000e+01         20.000000  \n",
       "mean   7.100000e+05          2.050000  \n",
       "std    3.338768e+05          0.887041  \n",
       "min    2.000000e+05          1.000000  \n",
       "25%    4.750000e+05          1.000000  \n",
       "50%    6.750000e+05          2.000000  \n",
       "75%    9.250000e+05          3.000000  \n",
       "max    1.500000e+06          3.000000  "
      ]
     },
     "execution_count": 5,
     "metadata": {},
     "output_type": "execute_result"
    }
   ],
   "source": [
    "# melihat deskripsi statistik\n",
    "raw_data.describe()"
   ]
  },
  {
   "cell_type": "code",
   "execution_count": 6,
   "metadata": {},
   "outputs": [
    {
     "data": {
      "text/plain": [
       "ID Pelanggan                                                      210\n",
       "Nama                ArifDianDindaFajarIkaIlhamIndraKartikaLestariL...\n",
       "Jenis Kelamin                                                      34\n",
       "Pendapatan                                                   23200000\n",
       "Produk                                           ADDADBBEEEABCDCBCDAC\n",
       "Harga                                                         3950000\n",
       "Jumlah                                                             73\n",
       "Total                                                        14200000\n",
       "Tingkat Kepuasan                                                   41\n",
       "dtype: object"
      ]
     },
     "execution_count": 6,
     "metadata": {},
     "output_type": "execute_result"
    }
   ],
   "source": [
    "# menghitung jumlah dari semua kolom\n",
    "raw_data.sum()"
   ]
  },
  {
   "cell_type": "code",
   "execution_count": 7,
   "metadata": {},
   "outputs": [
    {
     "data": {
      "text/plain": [
       "ID Pelanggan             210\n",
       "Jenis Kelamin             34\n",
       "Pendapatan          23200000\n",
       "Harga                3950000\n",
       "Jumlah                    73\n",
       "Total               14200000\n",
       "Tingkat Kepuasan          41\n",
       "dtype: int64"
      ]
     },
     "execution_count": 7,
     "metadata": {},
     "output_type": "execute_result"
    }
   ],
   "source": [
    "# menghitung jumlah dari semua kolom bertipe data numerik saja\n",
    "raw_data.sum(numeric_only=True)"
   ]
  },
  {
   "cell_type": "code",
   "execution_count": 8,
   "metadata": {},
   "outputs": [
    {
     "data": {
      "text/plain": [
       "Harga          3950000\n",
       "Pendapatan    23200000\n",
       "dtype: int64"
      ]
     },
     "execution_count": 8,
     "metadata": {},
     "output_type": "execute_result"
    }
   ],
   "source": [
    "# menghitung jumlah dari kolom 'Harga' dan 'Pendapatan'\n",
    "raw_data[['Harga', 'Pendapatan']].sum()"
   ]
  },
  {
   "cell_type": "code",
   "execution_count": 10,
   "metadata": {},
   "outputs": [
    {
     "data": {
      "text/html": [
       "<div>\n",
       "<style scoped>\n",
       "    .dataframe tbody tr th:only-of-type {\n",
       "        vertical-align: middle;\n",
       "    }\n",
       "\n",
       "    .dataframe tbody tr th {\n",
       "        vertical-align: top;\n",
       "    }\n",
       "\n",
       "    .dataframe thead th {\n",
       "        text-align: right;\n",
       "    }\n",
       "</style>\n",
       "<table border=\"1\" class=\"dataframe\">\n",
       "  <thead>\n",
       "    <tr style=\"text-align: right;\">\n",
       "      <th></th>\n",
       "      <th>Jenis Kelamin</th>\n",
       "      <th>Pendapatan</th>\n",
       "    </tr>\n",
       "  </thead>\n",
       "  <tbody>\n",
       "    <tr>\n",
       "      <th>0</th>\n",
       "      <td>1</td>\n",
       "      <td>600000</td>\n",
       "    </tr>\n",
       "    <tr>\n",
       "      <th>1</th>\n",
       "      <td>2</td>\n",
       "      <td>1200000</td>\n",
       "    </tr>\n",
       "    <tr>\n",
       "      <th>2</th>\n",
       "      <td>2</td>\n",
       "      <td>950000</td>\n",
       "    </tr>\n",
       "    <tr>\n",
       "      <th>3</th>\n",
       "      <td>1</td>\n",
       "      <td>400000</td>\n",
       "    </tr>\n",
       "    <tr>\n",
       "      <th>4</th>\n",
       "      <td>2</td>\n",
       "      <td>1200000</td>\n",
       "    </tr>\n",
       "  </tbody>\n",
       "</table>\n",
       "</div>"
      ],
      "text/plain": [
       "   Jenis Kelamin  Pendapatan\n",
       "0              1      600000\n",
       "1              2     1200000\n",
       "2              2      950000\n",
       "3              1      400000\n",
       "4              2     1200000"
      ]
     },
     "execution_count": 10,
     "metadata": {},
     "output_type": "execute_result"
    }
   ],
   "source": [
    "# manipulasi dataframe - memilih kolom\n",
    "raw_data[['Jenis Kelamin', 'Pendapatan']].head()"
   ]
  },
  {
   "cell_type": "code",
   "execution_count": 14,
   "metadata": {},
   "outputs": [
    {
     "data": {
      "text/html": [
       "<div>\n",
       "<style scoped>\n",
       "    .dataframe tbody tr th:only-of-type {\n",
       "        vertical-align: middle;\n",
       "    }\n",
       "\n",
       "    .dataframe tbody tr th {\n",
       "        vertical-align: top;\n",
       "    }\n",
       "\n",
       "    .dataframe thead th {\n",
       "        text-align: right;\n",
       "    }\n",
       "</style>\n",
       "<table border=\"1\" class=\"dataframe\">\n",
       "  <thead>\n",
       "    <tr style=\"text-align: right;\">\n",
       "      <th></th>\n",
       "      <th>ID Pelanggan</th>\n",
       "      <th>Nama</th>\n",
       "      <th>Jenis Kelamin</th>\n",
       "      <th>Pendapatan</th>\n",
       "      <th>Produk</th>\n",
       "      <th>Harga</th>\n",
       "      <th>Jumlah</th>\n",
       "      <th>Total</th>\n",
       "      <th>Tingkat Kepuasan</th>\n",
       "    </tr>\n",
       "  </thead>\n",
       "  <tbody>\n",
       "    <tr>\n",
       "      <th>0</th>\n",
       "      <td>1</td>\n",
       "      <td>Arif</td>\n",
       "      <td>1</td>\n",
       "      <td>600000</td>\n",
       "      <td>A</td>\n",
       "      <td>100000</td>\n",
       "      <td>4</td>\n",
       "      <td>400000</td>\n",
       "      <td>2</td>\n",
       "    </tr>\n",
       "    <tr>\n",
       "      <th>1</th>\n",
       "      <td>2</td>\n",
       "      <td>Dian</td>\n",
       "      <td>2</td>\n",
       "      <td>1200000</td>\n",
       "      <td>D</td>\n",
       "      <td>250000</td>\n",
       "      <td>4</td>\n",
       "      <td>1000000</td>\n",
       "      <td>2</td>\n",
       "    </tr>\n",
       "    <tr>\n",
       "      <th>2</th>\n",
       "      <td>3</td>\n",
       "      <td>Dinda</td>\n",
       "      <td>2</td>\n",
       "      <td>950000</td>\n",
       "      <td>D</td>\n",
       "      <td>250000</td>\n",
       "      <td>3</td>\n",
       "      <td>750000</td>\n",
       "      <td>3</td>\n",
       "    </tr>\n",
       "    <tr>\n",
       "      <th>3</th>\n",
       "      <td>4</td>\n",
       "      <td>Fajar</td>\n",
       "      <td>1</td>\n",
       "      <td>400000</td>\n",
       "      <td>A</td>\n",
       "      <td>100000</td>\n",
       "      <td>2</td>\n",
       "      <td>200000</td>\n",
       "      <td>3</td>\n",
       "    </tr>\n",
       "    <tr>\n",
       "      <th>4</th>\n",
       "      <td>5</td>\n",
       "      <td>Ika</td>\n",
       "      <td>2</td>\n",
       "      <td>1200000</td>\n",
       "      <td>D</td>\n",
       "      <td>250000</td>\n",
       "      <td>4</td>\n",
       "      <td>1000000</td>\n",
       "      <td>2</td>\n",
       "    </tr>\n",
       "    <tr>\n",
       "      <th>5</th>\n",
       "      <td>6</td>\n",
       "      <td>Ilham</td>\n",
       "      <td>1</td>\n",
       "      <td>800000</td>\n",
       "      <td>B</td>\n",
       "      <td>150000</td>\n",
       "      <td>4</td>\n",
       "      <td>600000</td>\n",
       "      <td>3</td>\n",
       "    </tr>\n",
       "    <tr>\n",
       "      <th>6</th>\n",
       "      <td>7</td>\n",
       "      <td>Indra</td>\n",
       "      <td>1</td>\n",
       "      <td>950000</td>\n",
       "      <td>B</td>\n",
       "      <td>150000</td>\n",
       "      <td>5</td>\n",
       "      <td>750000</td>\n",
       "      <td>1</td>\n",
       "    </tr>\n",
       "    <tr>\n",
       "      <th>7</th>\n",
       "      <td>8</td>\n",
       "      <td>Kartika</td>\n",
       "      <td>2</td>\n",
       "      <td>1100000</td>\n",
       "      <td>E</td>\n",
       "      <td>300000</td>\n",
       "      <td>3</td>\n",
       "      <td>900000</td>\n",
       "      <td>3</td>\n",
       "    </tr>\n",
       "    <tr>\n",
       "      <th>8</th>\n",
       "      <td>9</td>\n",
       "      <td>Lestari</td>\n",
       "      <td>2</td>\n",
       "      <td>800000</td>\n",
       "      <td>E</td>\n",
       "      <td>300000</td>\n",
       "      <td>2</td>\n",
       "      <td>600000</td>\n",
       "      <td>1</td>\n",
       "    </tr>\n",
       "    <tr>\n",
       "      <th>9</th>\n",
       "      <td>10</td>\n",
       "      <td>Lia</td>\n",
       "      <td>2</td>\n",
       "      <td>1700000</td>\n",
       "      <td>E</td>\n",
       "      <td>300000</td>\n",
       "      <td>5</td>\n",
       "      <td>1500000</td>\n",
       "      <td>1</td>\n",
       "    </tr>\n",
       "  </tbody>\n",
       "</table>\n",
       "</div>"
      ],
      "text/plain": [
       "   ID Pelanggan     Nama  Jenis Kelamin  Pendapatan Produk   Harga  Jumlah   \\\n",
       "0             1     Arif              1      600000      A  100000        4   \n",
       "1             2     Dian              2     1200000      D  250000        4   \n",
       "2             3    Dinda              2      950000      D  250000        3   \n",
       "3             4    Fajar              1      400000      A  100000        2   \n",
       "4             5      Ika              2     1200000      D  250000        4   \n",
       "5             6    Ilham              1      800000      B  150000        4   \n",
       "6             7    Indra              1      950000      B  150000        5   \n",
       "7             8  Kartika              2     1100000      E  300000        3   \n",
       "8             9  Lestari              2      800000      E  300000        2   \n",
       "9            10      Lia              2     1700000      E  300000        5   \n",
       "\n",
       "     Total  Tingkat Kepuasan  \n",
       "0   400000                 2  \n",
       "1  1000000                 2  \n",
       "2   750000                 3  \n",
       "3   200000                 3  \n",
       "4  1000000                 2  \n",
       "5   600000                 3  \n",
       "6   750000                 1  \n",
       "7   900000                 3  \n",
       "8   600000                 1  \n",
       "9  1500000                 1  "
      ]
     },
     "execution_count": 14,
     "metadata": {},
     "output_type": "execute_result"
    }
   ],
   "source": [
    "# manipulasi dataframe - memilih baris\n",
    "# mengambil data dari baris ke-0 sampai baris ke-(10-1) atau baris ke-9\n",
    "raw_data[:10]"
   ]
  },
  {
   "cell_type": "code",
   "execution_count": 15,
   "metadata": {},
   "outputs": [
    {
     "data": {
      "text/html": [
       "<div>\n",
       "<style scoped>\n",
       "    .dataframe tbody tr th:only-of-type {\n",
       "        vertical-align: middle;\n",
       "    }\n",
       "\n",
       "    .dataframe tbody tr th {\n",
       "        vertical-align: top;\n",
       "    }\n",
       "\n",
       "    .dataframe thead th {\n",
       "        text-align: right;\n",
       "    }\n",
       "</style>\n",
       "<table border=\"1\" class=\"dataframe\">\n",
       "  <thead>\n",
       "    <tr style=\"text-align: right;\">\n",
       "      <th></th>\n",
       "      <th>ID Pelanggan</th>\n",
       "      <th>Nama</th>\n",
       "      <th>Jenis Kelamin</th>\n",
       "      <th>Pendapatan</th>\n",
       "      <th>Produk</th>\n",
       "      <th>Harga</th>\n",
       "      <th>Jumlah</th>\n",
       "      <th>Total</th>\n",
       "      <th>Tingkat Kepuasan</th>\n",
       "    </tr>\n",
       "  </thead>\n",
       "  <tbody>\n",
       "    <tr>\n",
       "      <th>3</th>\n",
       "      <td>4</td>\n",
       "      <td>Fajar</td>\n",
       "      <td>1</td>\n",
       "      <td>400000</td>\n",
       "      <td>A</td>\n",
       "      <td>100000</td>\n",
       "      <td>2</td>\n",
       "      <td>200000</td>\n",
       "      <td>3</td>\n",
       "    </tr>\n",
       "    <tr>\n",
       "      <th>4</th>\n",
       "      <td>5</td>\n",
       "      <td>Ika</td>\n",
       "      <td>2</td>\n",
       "      <td>1200000</td>\n",
       "      <td>D</td>\n",
       "      <td>250000</td>\n",
       "      <td>4</td>\n",
       "      <td>1000000</td>\n",
       "      <td>2</td>\n",
       "    </tr>\n",
       "  </tbody>\n",
       "</table>\n",
       "</div>"
      ],
      "text/plain": [
       "   ID Pelanggan   Nama  Jenis Kelamin  Pendapatan Produk   Harga  Jumlah   \\\n",
       "3             4  Fajar              1      400000      A  100000        2   \n",
       "4             5    Ika              2     1200000      D  250000        4   \n",
       "\n",
       "     Total  Tingkat Kepuasan  \n",
       "3   200000                 3  \n",
       "4  1000000                 2  "
      ]
     },
     "execution_count": 15,
     "metadata": {},
     "output_type": "execute_result"
    }
   ],
   "source": [
    "# mengambil data dari baris ke-3 sampai baris ke-(5-1) atau baris ke-4\n",
    "raw_data[3:5]"
   ]
  },
  {
   "cell_type": "code",
   "execution_count": 16,
   "metadata": {},
   "outputs": [
    {
     "data": {
      "text/html": [
       "<div>\n",
       "<style scoped>\n",
       "    .dataframe tbody tr th:only-of-type {\n",
       "        vertical-align: middle;\n",
       "    }\n",
       "\n",
       "    .dataframe tbody tr th {\n",
       "        vertical-align: top;\n",
       "    }\n",
       "\n",
       "    .dataframe thead th {\n",
       "        text-align: right;\n",
       "    }\n",
       "</style>\n",
       "<table border=\"1\" class=\"dataframe\">\n",
       "  <thead>\n",
       "    <tr style=\"text-align: right;\">\n",
       "      <th></th>\n",
       "      <th>ID Pelanggan</th>\n",
       "      <th>Nama</th>\n",
       "      <th>Jenis Kelamin</th>\n",
       "      <th>Pendapatan</th>\n",
       "      <th>Produk</th>\n",
       "      <th>Harga</th>\n",
       "      <th>Jumlah</th>\n",
       "      <th>Total</th>\n",
       "      <th>Tingkat Kepuasan</th>\n",
       "    </tr>\n",
       "  </thead>\n",
       "  <tbody>\n",
       "    <tr>\n",
       "      <th>1</th>\n",
       "      <td>2</td>\n",
       "      <td>Dian</td>\n",
       "      <td>2</td>\n",
       "      <td>1200000</td>\n",
       "      <td>D</td>\n",
       "      <td>250000</td>\n",
       "      <td>4</td>\n",
       "      <td>1000000</td>\n",
       "      <td>2</td>\n",
       "    </tr>\n",
       "    <tr>\n",
       "      <th>3</th>\n",
       "      <td>4</td>\n",
       "      <td>Fajar</td>\n",
       "      <td>1</td>\n",
       "      <td>400000</td>\n",
       "      <td>A</td>\n",
       "      <td>100000</td>\n",
       "      <td>2</td>\n",
       "      <td>200000</td>\n",
       "      <td>3</td>\n",
       "    </tr>\n",
       "    <tr>\n",
       "      <th>10</th>\n",
       "      <td>11</td>\n",
       "      <td>Maria</td>\n",
       "      <td>2</td>\n",
       "      <td>600000</td>\n",
       "      <td>A</td>\n",
       "      <td>100000</td>\n",
       "      <td>4</td>\n",
       "      <td>400000</td>\n",
       "      <td>3</td>\n",
       "    </tr>\n",
       "  </tbody>\n",
       "</table>\n",
       "</div>"
      ],
      "text/plain": [
       "    ID Pelanggan   Nama  Jenis Kelamin  Pendapatan Produk   Harga  Jumlah   \\\n",
       "1              2   Dian              2     1200000      D  250000        4   \n",
       "3              4  Fajar              1      400000      A  100000        2   \n",
       "10            11  Maria              2      600000      A  100000        4   \n",
       "\n",
       "      Total  Tingkat Kepuasan  \n",
       "1   1000000                 2  \n",
       "3    200000                 3  \n",
       "10   400000                 3  "
      ]
     },
     "execution_count": 16,
     "metadata": {},
     "output_type": "execute_result"
    }
   ],
   "source": [
    "# mengambil data pada baris ke-1, ke-3 dan ke-10\n",
    "raw_data.loc[[1,3,10]]"
   ]
  },
  {
   "cell_type": "code",
   "execution_count": 12,
   "metadata": {},
   "outputs": [
    {
     "data": {
      "text/html": [
       "<div>\n",
       "<style scoped>\n",
       "    .dataframe tbody tr th:only-of-type {\n",
       "        vertical-align: middle;\n",
       "    }\n",
       "\n",
       "    .dataframe tbody tr th {\n",
       "        vertical-align: top;\n",
       "    }\n",
       "\n",
       "    .dataframe thead th {\n",
       "        text-align: right;\n",
       "    }\n",
       "</style>\n",
       "<table border=\"1\" class=\"dataframe\">\n",
       "  <thead>\n",
       "    <tr style=\"text-align: right;\">\n",
       "      <th></th>\n",
       "      <th>Jenis Kelamin</th>\n",
       "      <th>Pendapatan</th>\n",
       "    </tr>\n",
       "  </thead>\n",
       "  <tbody>\n",
       "    <tr>\n",
       "      <th>1</th>\n",
       "      <td>2</td>\n",
       "      <td>1200000</td>\n",
       "    </tr>\n",
       "    <tr>\n",
       "      <th>2</th>\n",
       "      <td>2</td>\n",
       "      <td>950000</td>\n",
       "    </tr>\n",
       "    <tr>\n",
       "      <th>3</th>\n",
       "      <td>1</td>\n",
       "      <td>400000</td>\n",
       "    </tr>\n",
       "    <tr>\n",
       "      <th>4</th>\n",
       "      <td>2</td>\n",
       "      <td>1200000</td>\n",
       "    </tr>\n",
       "    <tr>\n",
       "      <th>5</th>\n",
       "      <td>1</td>\n",
       "      <td>800000</td>\n",
       "    </tr>\n",
       "    <tr>\n",
       "      <th>6</th>\n",
       "      <td>1</td>\n",
       "      <td>950000</td>\n",
       "    </tr>\n",
       "    <tr>\n",
       "      <th>7</th>\n",
       "      <td>2</td>\n",
       "      <td>1100000</td>\n",
       "    </tr>\n",
       "    <tr>\n",
       "      <th>8</th>\n",
       "      <td>2</td>\n",
       "      <td>800000</td>\n",
       "    </tr>\n",
       "    <tr>\n",
       "      <th>9</th>\n",
       "      <td>2</td>\n",
       "      <td>1700000</td>\n",
       "    </tr>\n",
       "  </tbody>\n",
       "</table>\n",
       "</div>"
      ],
      "text/plain": [
       "   Jenis Kelamin  Pendapatan\n",
       "1              2     1200000\n",
       "2              2      950000\n",
       "3              1      400000\n",
       "4              2     1200000\n",
       "5              1      800000\n",
       "6              1      950000\n",
       "7              2     1100000\n",
       "8              2      800000\n",
       "9              2     1700000"
      ]
     },
     "execution_count": 12,
     "metadata": {},
     "output_type": "execute_result"
    }
   ],
   "source": [
    "# manipulasi dataframe - memilih kolom dan baris\n",
    "# Mengambil kolom 'Jenis Kelamin' dan 'Pendapatan' dan ambil baris ke-1 sampai ke-9\n",
    "raw_data[['Jenis Kelamin', 'Pendapatan']][1:10]"
   ]
  },
  {
   "cell_type": "code",
   "execution_count": 13,
   "metadata": {},
   "outputs": [
    {
     "data": {
      "text/html": [
       "<div>\n",
       "<style scoped>\n",
       "    .dataframe tbody tr th:only-of-type {\n",
       "        vertical-align: middle;\n",
       "    }\n",
       "\n",
       "    .dataframe tbody tr th {\n",
       "        vertical-align: top;\n",
       "    }\n",
       "\n",
       "    .dataframe thead th {\n",
       "        text-align: right;\n",
       "    }\n",
       "</style>\n",
       "<table border=\"1\" class=\"dataframe\">\n",
       "  <thead>\n",
       "    <tr style=\"text-align: right;\">\n",
       "      <th></th>\n",
       "      <th>Harga</th>\n",
       "      <th>Tingkat Kepuasan</th>\n",
       "    </tr>\n",
       "  </thead>\n",
       "  <tbody>\n",
       "    <tr>\n",
       "      <th>1</th>\n",
       "      <td>250000</td>\n",
       "      <td>2</td>\n",
       "    </tr>\n",
       "    <tr>\n",
       "      <th>10</th>\n",
       "      <td>100000</td>\n",
       "      <td>3</td>\n",
       "    </tr>\n",
       "    <tr>\n",
       "      <th>15</th>\n",
       "      <td>150000</td>\n",
       "      <td>1</td>\n",
       "    </tr>\n",
       "  </tbody>\n",
       "</table>\n",
       "</div>"
      ],
      "text/plain": [
       "     Harga  Tingkat Kepuasan\n",
       "1   250000                 2\n",
       "10  100000                 3\n",
       "15  150000                 1"
      ]
     },
     "execution_count": 13,
     "metadata": {},
     "output_type": "execute_result"
    }
   ],
   "source": [
    "# Mengambil kolom 'Harga' dan 'Tingkat Kepuasan' dan ambil baris ke-1, ke-10 dan ke-15\n",
    "raw_data[['Harga', 'Tingkat Kepuasan']].loc[[1,10,15]]"
   ]
  },
  {
   "cell_type": "markdown",
   "metadata": {},
   "source": [
    "<h2><a name=\"ukuran-pusat\"></a>Chapter 3: Ukuran Pusat</h2>"
   ]
  },
  {
   "cell_type": "markdown",
   "metadata": {},
   "source": [
    "Ukuran pusat (<i>measures of central tendency</i>) adalah statistika deskriptif yang dapat digunakan untuk membantu kita mengidentifikasi kasus-kasus tipikal di dalam sebuah sampel atau populasi.\n",
    "\n",
    "Terdapat beberapa jenis ukuran pusat yang dapat digunakan untuk menganalisa data, diantaranya: <b>Mean</b> atau rerata, <b>Median</b>, <b>Modus</b>."
   ]
  },
  {
   "cell_type": "markdown",
   "metadata": {},
   "source": [
    "<h3><a name=\"mean\"></a>Mean</h3>"
   ]
  },
  {
   "cell_type": "markdown",
   "metadata": {},
   "source": [
    "Rata-rata atau mean adalah salah satu ukuran pusat yang nilainya diperoleh dengan cara menjumlahkan semua nilai titik data yang ada lalu dibagi oleh jumlah data. Secara matematis hal ini dapat dirumuskan sebagai berikut: \n",
    "\n",
    "$$\n",
    "\\overline{x} = \\frac{x_1 + x_2 + ... + x_n}{n}\n",
    "$$\n",
    "\n",
    "dimana:\n",
    "<ul>\n",
    "    <li>x adalah rerata</li>\n",
    "    <li>x1, x2, xn adalah titik data</li>\n",
    "    <li>n adalah jumlah data</li>\n",
    "</ul>"
   ]
  },
  {
   "cell_type": "markdown",
   "metadata": {},
   "source": [
    "Kita dapat menghitung nilai rata-rata menggunakan method <code>.mean()</code> pada numpy atau pandas"
   ]
  },
  {
   "cell_type": "code",
   "execution_count": 18,
   "metadata": {},
   "outputs": [
    {
     "name": "stdout",
     "output_type": "stream",
     "text": [
      "550000.0\n",
      "550000.0\n"
     ]
    }
   ],
   "source": [
    "# mengambil hanya data untuk produk 'A'\n",
    "produk_A = raw_data[raw_data['Produk'] == 'A']\n",
    " \n",
    "# menghitung rerata pendapatan menggunakan method .mean pada objek pandas DataFrame\n",
    "print (produk_A['Pendapatan'].mean())\n",
    " \n",
    "# menghitung rerata pendapatan menggunakan method .mean pada objek pandas DataFrame dengan numpy\n",
    "print (np.mean(produk_A['Pendapatan']))"
   ]
  },
  {
   "cell_type": "markdown",
   "metadata": {},
   "source": [
    "<h3><a name=\"median\"></a>Median</h3>"
   ]
  },
  {
   "cell_type": "markdown",
   "metadata": {},
   "source": [
    "Median adalah salah satu ukuran pusat yang nilainya terletak di tengah titik data. Sebagai gambaran, jika kita memiliki titik data bernilai 1, 2, 3, 4, 4, 5, 6 maka median dari sekumpulan titik data tersebut adalah 4. Namun jika kita memiliki titik data bernilai 1, 2, 3, 3 maka media dari sekumpulan titik data tersebut adalah:\n",
    "\n",
    "$$\n",
    "Median = \\frac {2+3}{2} = 2.5\n",
    "$$"
   ]
  },
  {
   "cell_type": "markdown",
   "metadata": {},
   "source": [
    "Kita dapat menemukan nilai median dengan menggunakan method <code>.median()</code> pada numpy maupun pandas"
   ]
  },
  {
   "cell_type": "code",
   "execution_count": 21,
   "metadata": {},
   "outputs": [
    {
     "name": "stdout",
     "output_type": "stream",
     "text": [
      "600000.0\n",
      "600000.0\n"
     ]
    }
   ],
   "source": [
    "# Hitung median dari pendapatan menggunakan pandas\n",
    "print (produk_A['Pendapatan'].median())\n",
    " \n",
    "# Hitung median dari pendapatan menggunakan numpy\n",
    "print (np.median(produk_A['Pendapatan']))"
   ]
  },
  {
   "cell_type": "markdown",
   "metadata": {},
   "source": [
    "<h3><a name=\"modus\"></a>Modus</h3>"
   ]
  },
  {
   "cell_type": "markdown",
   "metadata": {},
   "source": [
    "Modus didefinisikan sebagai data yang memiliki frekuensi kemunculan terbanyak/terbesar. Sebagai contoh, jika terdapat titik data seperti berikut: 1, 1, 1, 1, 2, 3, 3, 4 maka modus dari data tersebut adalah 1 karena 1 muncul sebanyak 4 kali, lebih banyak dibanding titik data lainnya."
   ]
  },
  {
   "cell_type": "markdown",
   "metadata": {},
   "source": [
    "Kita dapat menemukan nilai median dengan menggunakan method <code>.value_counts()</code> pada pandas"
   ]
  },
  {
   "cell_type": "code",
   "execution_count": 25,
   "metadata": {
    "scrolled": true
   },
   "outputs": [
    {
     "data": {
      "text/plain": [
       "D    5\n",
       "A    4\n",
       "B    4\n",
       "C    4\n",
       "E    3\n",
       "Name: Produk, dtype: int64"
      ]
     },
     "execution_count": 25,
     "metadata": {},
     "output_type": "execute_result"
    }
   ],
   "source": [
    "# Melihat jumlah dari masing-masing produk\n",
    "raw_data['Produk'].value_counts()"
   ]
  },
  {
   "cell_type": "markdown",
   "metadata": {},
   "source": [
    "<h3><a name=\"kuantil\"></a>Kuantil</h3>"
   ]
  },
  {
   "cell_type": "markdown",
   "metadata": {},
   "source": [
    "Kuantil adalah nilai-nilai data yang membagi data yang telah diurutkan sebelumnya menjadi beberapa bagian yang sama besar ukurannya. Beberapa ukuran fraktil ini diantaranya adalah:\n",
    "\n",
    "<ul>\n",
    "    <li>Kuartil: Adalah kuantil yang membagi data menjadi empat bagian sama besar. Kuartil ke-2 dari adalah median dari data tersebut.</li>\n",
    "   <li>Desil: Adalah kuantil yang membagi data menjadi 10 bagian sama besar.</li>\n",
    "   <li>Persentil: Adalah kuantil yang membagi data menjadi 100 bagian sama besar.</li>\n",
    "</ul>"
   ]
  },
  {
   "cell_type": "markdown",
   "metadata": {},
   "source": [
    "Untuk mencari fraktil dari data, kita dapat menggunakan method <code>.quantile</code> dari pandas atau numpy"
   ]
  },
  {
   "cell_type": "code",
   "execution_count": 26,
   "metadata": {
    "scrolled": true
   },
   "outputs": [
    {
     "name": "stdout",
     "output_type": "stream",
     "text": [
      "875000.0\n",
      "875000.0\n"
     ]
    }
   ],
   "source": [
    "# mencari median atau 50% dari data menggunakan pandas\n",
    "print(raw_data['Pendapatan'].quantile(q = 0.5))\n",
    " \n",
    "# mencari median atau 50% dari data menggunakan pandas\n",
    "print(np.quantile(raw_data['Pendapatan'], q = 0.5))"
   ]
  },
  {
   "cell_type": "markdown",
   "metadata": {},
   "source": [
    "<h3><a name=\"agregasi-data\"></a>Agregasi Data</h3>"
   ]
  },
  {
   "cell_type": "markdown",
   "metadata": {},
   "source": [
    "Ada kalanya kita ingin menghitung sekaligus beberapa ukuran, misalnya menghitung nilai mean sekaligus menghitung nilai median. Kita dapat melakukan kedua hal tersebut dengan menggunakan method <code>.agg()</code> pada objek pandas DataFrame"
   ]
  },
  {
   "cell_type": "code",
   "execution_count": 27,
   "metadata": {},
   "outputs": [
    {
     "data": {
      "text/html": [
       "<div>\n",
       "<style scoped>\n",
       "    .dataframe tbody tr th:only-of-type {\n",
       "        vertical-align: middle;\n",
       "    }\n",
       "\n",
       "    .dataframe tbody tr th {\n",
       "        vertical-align: top;\n",
       "    }\n",
       "\n",
       "    .dataframe thead th {\n",
       "        text-align: right;\n",
       "    }\n",
       "</style>\n",
       "<table border=\"1\" class=\"dataframe\">\n",
       "  <thead>\n",
       "    <tr style=\"text-align: right;\">\n",
       "      <th></th>\n",
       "      <th>Pendapatan</th>\n",
       "      <th>Harga</th>\n",
       "    </tr>\n",
       "  </thead>\n",
       "  <tbody>\n",
       "    <tr>\n",
       "      <th>mean</th>\n",
       "      <td>1160000.0</td>\n",
       "      <td>197500.0</td>\n",
       "    </tr>\n",
       "    <tr>\n",
       "      <th>median</th>\n",
       "      <td>875000.0</td>\n",
       "      <td>200000.0</td>\n",
       "    </tr>\n",
       "  </tbody>\n",
       "</table>\n",
       "</div>"
      ],
      "text/plain": [
       "        Pendapatan     Harga\n",
       "mean     1160000.0  197500.0\n",
       "median    875000.0  200000.0"
      ]
     },
     "execution_count": 27,
     "metadata": {},
     "output_type": "execute_result"
    }
   ],
   "source": [
    "# menghitung rerata dan median 'Pendapatan' dan 'Harga'\n",
    "raw_data[['Pendapatan', 'Harga']].agg([np.mean, np.median])"
   ]
  },
  {
   "cell_type": "code",
   "execution_count": 28,
   "metadata": {},
   "outputs": [
    {
     "data": {
      "text/html": [
       "<div>\n",
       "<style scoped>\n",
       "    .dataframe tbody tr th:only-of-type {\n",
       "        vertical-align: middle;\n",
       "    }\n",
       "\n",
       "    .dataframe tbody tr th {\n",
       "        vertical-align: top;\n",
       "    }\n",
       "\n",
       "    .dataframe thead tr th {\n",
       "        text-align: left;\n",
       "    }\n",
       "\n",
       "    .dataframe thead tr:last-of-type th {\n",
       "        text-align: right;\n",
       "    }\n",
       "</style>\n",
       "<table border=\"1\" class=\"dataframe\">\n",
       "  <thead>\n",
       "    <tr>\n",
       "      <th></th>\n",
       "      <th colspan=\"2\" halign=\"left\">Pendapatan</th>\n",
       "      <th colspan=\"2\" halign=\"left\">Harga</th>\n",
       "    </tr>\n",
       "    <tr>\n",
       "      <th></th>\n",
       "      <th>mean</th>\n",
       "      <th>median</th>\n",
       "      <th>mean</th>\n",
       "      <th>median</th>\n",
       "    </tr>\n",
       "    <tr>\n",
       "      <th>Produk</th>\n",
       "      <th></th>\n",
       "      <th></th>\n",
       "      <th></th>\n",
       "      <th></th>\n",
       "    </tr>\n",
       "  </thead>\n",
       "  <tbody>\n",
       "    <tr>\n",
       "      <th>A</th>\n",
       "      <td>550000</td>\n",
       "      <td>600000</td>\n",
       "      <td>100000</td>\n",
       "      <td>100000</td>\n",
       "    </tr>\n",
       "    <tr>\n",
       "      <th>B</th>\n",
       "      <td>875000</td>\n",
       "      <td>875000</td>\n",
       "      <td>150000</td>\n",
       "      <td>150000</td>\n",
       "    </tr>\n",
       "    <tr>\n",
       "      <th>C</th>\n",
       "      <td>850000</td>\n",
       "      <td>900000</td>\n",
       "      <td>200000</td>\n",
       "      <td>200000</td>\n",
       "    </tr>\n",
       "    <tr>\n",
       "      <th>D</th>\n",
       "      <td>2100000</td>\n",
       "      <td>1200000</td>\n",
       "      <td>250000</td>\n",
       "      <td>250000</td>\n",
       "    </tr>\n",
       "    <tr>\n",
       "      <th>E</th>\n",
       "      <td>1200000</td>\n",
       "      <td>1100000</td>\n",
       "      <td>300000</td>\n",
       "      <td>300000</td>\n",
       "    </tr>\n",
       "  </tbody>\n",
       "</table>\n",
       "</div>"
      ],
      "text/plain": [
       "       Pendapatan            Harga        \n",
       "             mean   median    mean  median\n",
       "Produk                                    \n",
       "A          550000   600000  100000  100000\n",
       "B          875000   875000  150000  150000\n",
       "C          850000   900000  200000  200000\n",
       "D         2100000  1200000  250000  250000\n",
       "E         1200000  1100000  300000  300000"
      ]
     },
     "execution_count": 28,
     "metadata": {},
     "output_type": "execute_result"
    }
   ],
   "source": [
    "# menghitung rerata dan median Pendapatan dan Harga dari tiap produk\n",
    "raw_data[['Pendapatan', 'Harga', 'Produk']].groupby('Produk').agg([np.mean, np.median])"
   ]
  },
  {
   "cell_type": "markdown",
   "metadata": {},
   "source": [
    "<h2><a name=\"ukuran-sebaran\"></a>Chapter 4: Ukuran Sebaran</h2>"
   ]
  },
  {
   "cell_type": "markdown",
   "metadata": {},
   "source": [
    "Ukuran sebaran (<i>measure of dispersion</i>) adalah statistika deskriptif yang digunakan untuk membantu kita memahami sebaran titik data di dalam sebuah sampel ataupun populasi.\n",
    "\n",
    "Terdapat beberapa ukuran sebaran yang biasanya digunakan tergantung pada jenis atau tipe datanya, yaitu:\n",
    "\n",
    "Tipe Data Nominal dan Ordinal\n",
    "<li>Proporsi Kategori (<i>Categorical Proportion</i>)</li>\n",
    "<li>Persen Proporsi (<i>Percent Proportion</i>)</li>\n",
    "<li>Rasio Variasi (<i>Variation Ratio</i>)</li>\n",
    "\n",
    "Tipe Data Interval dan Rasio\n",
    "<li>Rentang (<i>Range</i>)</li>\n",
    "<li>Variansi (<i>Variance</i>)</li>\n",
    "<li>Deviasi Baku (<i>Standard Deviation</i>)</li>"
   ]
  },
  {
   "cell_type": "markdown",
   "metadata": {},
   "source": [
    "<h3><a name=\"proporsi-kategori\"></a>Proporsi Kategori</h3>"
   ]
  },
  {
   "cell_type": "markdown",
   "metadata": {},
   "source": [
    "Proporsi kategori adalah ukuran sebaran yang paling sederhana dari ukuran sebaran pada data nomisal dan ordinal. Secara matematis dapat dirumuskan sebagai:\n",
    "\n",
    "$$\n",
    "Proporsi = \\frac {N_{kategori ke-1}}{N_{total}}\n",
    "$$"
   ]
  },
  {
   "cell_type": "code",
   "execution_count": 30,
   "metadata": {
    "scrolled": true
   },
   "outputs": [
    {
     "data": {
      "text/plain": [
       "D    0.25\n",
       "A    0.20\n",
       "B    0.20\n",
       "C    0.20\n",
       "E    0.15\n",
       "Name: Produk, dtype: float64"
      ]
     },
     "execution_count": 30,
     "metadata": {},
     "output_type": "execute_result"
    }
   ],
   "source": [
    "# cari proporsi tiap Produk\n",
    "raw_data['Produk'].value_counts()/raw_data.shape[0]"
   ]
  },
  {
   "cell_type": "markdown",
   "metadata": {},
   "source": [
    "<h3><a name=\"rentang\"></a>Rentang</h3>"
   ]
  },
  {
   "cell_type": "markdown",
   "metadata": {},
   "source": [
    "Rentang (<i>range</i>) adalah jarak antara nilai maksimum dengan nilai minimum. Semakin besar jarang antara nilai maksimum dan minimum semakin besar pula sebaran datanya. Secara matematis dapat dituliskan sebagai berikut:\n",
    "\n",
    "$$\n",
    "Range = max(x) - min(x)\n",
    "$$"
   ]
  },
  {
   "cell_type": "code",
   "execution_count": 31,
   "metadata": {},
   "outputs": [
    {
     "data": {
      "text/plain": [
       "6050000"
      ]
     },
     "execution_count": 31,
     "metadata": {},
     "output_type": "execute_result"
    }
   ],
   "source": [
    "# Cari nilai rentang dari kolom 'Pendapatan'\n",
    "raw_data['Pendapatan'].max() - raw_data['Pendapatan'].min()"
   ]
  },
  {
   "cell_type": "markdown",
   "metadata": {},
   "source": [
    "<h3><a name=\"variansi\"></a>Variansi</h3>"
   ]
  },
  {
   "cell_type": "markdown",
   "metadata": {},
   "source": [
    "Variansi adalah ukuran sebaran pusat yang diperoleh dengan cara menghitung jarak antara tiap titik data pada sampel atau populasi dengan nilai mean. Secara matematis variansi dirumuskan sebagai berikut:\n",
    "\n",
    "<b>Variansi Populasi</b>\n",
    "$$\n",
    "s^2 = \\frac {\\sum_{i=1}^{N} (X_i - \\overline {X})^2}{N} = \\frac {(X_1 - \\overline {X})^2 + ... + (X_N - \\overline {X})^2}{N}\n",
    "$$\n",
    "dimana N adalah jumlah data dan X1, ... XN adalah titik data pada sampel atau populasi\n",
    "\n",
    "<b>Variansi Sampel</b>\n",
    "$$\n",
    "s^2 = \\frac {\\sum_{i=1}^{N} (X_i - \\overline {X})^2}{N-1} = \\frac {(X_1 - \\overline {X})^2 + ... + (X_N - \\overline {X})^2}{N-1}\n",
    "$$"
   ]
  },
  {
   "cell_type": "markdown",
   "metadata": {},
   "source": [
    "Untuk menghitung variansi kita dapat menggunakan method <code>.var()</code> dari numpy maupun pandas."
   ]
  },
  {
   "cell_type": "code",
   "execution_count": 32,
   "metadata": {},
   "outputs": [
    {
     "name": "stdout",
     "output_type": "stream",
     "text": [
      "1645684210526.3157\n",
      "1563400000000.0\n"
     ]
    }
   ],
   "source": [
    "# menghitung variansi umur menggunakan method .var() dari pandas\n",
    "print (raw_data['Pendapatan'].var())    # default variansi sampel\n",
    " \n",
    "# menghitung variansi umur menggunakan method .var() dari numpy\n",
    "print (np.var(raw_data['Pendapatan']))  # default variansi populasi"
   ]
  },
  {
   "cell_type": "markdown",
   "metadata": {},
   "source": [
    "<b style=\"color:red\">Note:</b> Perhatikan bahwa nilai variansi keduanya berbeda. Hal ini karena secara default <b>pandas</b> menggunakan <b>variansi sampel</b> sedangkan <b>numpy</b> menggunakan <b>variansi populasi</b>. Untuk memperoleh hasil yang sama kita dapat menggunakan parameter <code>ddof=0</code> pada method <code>.var()</code> untuk memperoleh variansi populasi."
   ]
  },
  {
   "cell_type": "code",
   "execution_count": 33,
   "metadata": {},
   "outputs": [
    {
     "name": "stdout",
     "output_type": "stream",
     "text": [
      "1563400000000.0\n"
     ]
    }
   ],
   "source": [
    "# mengatur variansi populasi dengan method `.var()` dari pandas\n",
    "print (raw_data['Pendapatan'].var(ddof=0))  # menghitung variansei populasi"
   ]
  },
  {
   "cell_type": "markdown",
   "metadata": {},
   "source": [
    "<h3><a name=\"deviasi-baku\"></a>Deviasi Baku</h3>"
   ]
  },
  {
   "cell_type": "markdown",
   "metadata": {},
   "source": [
    "Deviasi baku (<i>standard deviation</i>) adalah ukuran sebaran pusat yang diperoleh dengan cara menarik akar kuadrat dari hasil perhitungan variansi. Hal ini dilakukan karena nilai variansi umumnya memiliki nilai yang lebih besar daripada nilai aslinya sebagai efek dari pengkuadratan dan ini menjadikan variansi sulit untuk diinterpretasikan. Secara matematis deviasi baku dapat dirumuskan sebagi berikut:\n",
    "\n",
    "<b>Deviasi Baku Populasi</b>\n",
    "$$\n",
    "s^2 = \\sqrt {\\frac {\\sum_{i=1}^{N} (X_i - \\overline {X})^2}{N}} = \\sqrt {\\frac {(X_1 - \\overline {X})^2 + ... + (X_N - \\overline {X})^2}{N}}\n",
    "$$\n",
    "\n",
    "<b>Deviasi Baku Sampel</b>\n",
    "$$\n",
    "s^2 = \\sqrt {\\frac {\\sum_{i=1}^{N} (X_i - \\overline {X})^2}{N-1}} = \\sqrt {\\frac {(X_1 - \\overline {X})^2 + ... + (X_N - \\overline {X})^2}{N-1}}\n",
    "$$"
   ]
  },
  {
   "cell_type": "markdown",
   "metadata": {},
   "source": [
    "Kita dapat menghitung deviasi baku menggunakan method <code>.std</code> dari numpy maupun pandas."
   ]
  },
  {
   "cell_type": "code",
   "execution_count": 34,
   "metadata": {},
   "outputs": [
    {
     "name": "stdout",
     "output_type": "stream",
     "text": [
      "1282842.2391417876\n",
      "1282842.2391417876\n"
     ]
    }
   ],
   "source": [
    "# menghitung deviasi baku sampel pendapatan menggunakan method std() dari pandas\n",
    "print (raw_data['Pendapatan'].std())\n",
    " \n",
    "# menghitung deviasi baku sampel pendapatan menggunakan method std() dari numpy\n",
    "print (np.std(raw_data['Pendapatan'], ddof = 1))"
   ]
  },
  {
   "cell_type": "markdown",
   "metadata": {},
   "source": [
    "<h2><a name=\"korelasi\"></a>Chapter 5: Korelasi</h2>"
   ]
  },
  {
   "cell_type": "markdown",
   "metadata": {},
   "source": [
    "Korelasi adalah salah satu metode statistika yang dapat digunakan untuk mengukur seberapa besar hubungan antara satu variabel dengan variabel lainnya. Sebagai contoh, misalnya mencari hubungan antara tinggi badan dengan berat badan, mencari hubungan antara gender dengan penghasilan dan masih banyak aplikasi penggunaan korelasi.\n",
    "\n",
    "Terdapat beberapa metode yang dapat digunakan untuk menghitung korelasi antara sepasang variabel tergantung tipe dari sepasang variabel tersebut. Diantaranya adalah: <b>Korelasi Pearson</b>, <b>Korelasi Spearman</b>, <b>Korelasi Kendall</b>."
   ]
  },
  {
   "cell_type": "markdown",
   "metadata": {},
   "source": [
    "<h3><a name=\"korelasi-pearson\"></a>Korelasi Pearson</h3>"
   ]
  },
  {
   "cell_type": "markdown",
   "metadata": {},
   "source": [
    "Korelasi Pearson atau sering juga disebut sebagai Pearson's product moment correlation adalah pengukuran korelasi parametrik yang menghasilkan koefisien korelasi. Koefisien korelasi ini dapat digunakan untuk mengukur kekuatan hubungan atau asosiasi linier antara dua variabel. Artinya jika hubungan kedua variabel tidak linier maka koefisien korelasi Pearson tidak dapat digunakan untuk mengukur kekuatan hubungan antara kedua variabel.\n",
    "\n",
    "Selain itu nilai dari koefisien pearson dapat digunakan untuk mengukur arah dari hubungan tersebut: positif atau negatif. Hubungan antar variabel dikatakan positif jika nilai salah satu variabel naik maka nilai variabel lainnya juga naik. Sebaliknya, hubungan antar variabel dikatakan negatif jika nilai salah satu variabel naik maka nilai variabelnya turun. Gambar berikut dapat menjelaskan maksud dari kekuatan dan arah dari korelasi antar kedua variabel.\n",
    "\n",
    "<img src=\"Resources/korelasi_pearson.png\">\n",
    "Sumber Gambar: <a herf=https://www.mathsisfun.com>https://www.mathsisfun.com</a>\n",
    "\n",
    "Beberapa asumsi yang harus dipenuhi untuk menggunakan korelasi Pearson diantaranya adalah:\n",
    "<ol>\n",
    "    <li>Nilai berskala interval/rasio</li>\n",
    "    <li>Terdapat hubungan linier antara kedua variabel, yaitu kita dapat menggambarkan hubungan kedua variabel sebagai garis lurus.</li>\n",
    "    <li>Kedua variabel berdistribusi normal</li>\n",
    "    <li>Homoskedastis, atau data berdistribusi seragam dalam garis regresi</li>\n",
    "</ol>\n",
    "\n",
    "Secara matematis, korelasi pearson dapat dirumuskan sebagai berikut:\n",
    "\n",
    "$$\n",
    "r_{xy} = \\frac {n \\sum x_i y_i - \\sum x_i \\sum y_i}{\\sqrt {n \\sum x^2_i - (\\sum x_i)^2} \\sqrt {n \\sum y^2_i - (\\sum y_i)^2} }\n",
    "$$"
   ]
  },
  {
   "cell_type": "markdown",
   "metadata": {},
   "source": [
    "<h3><a name=\"korelasi-spearman\"></a>Korelasi Spearman</h3>"
   ]
  },
  {
   "cell_type": "markdown",
   "metadata": {},
   "source": [
    "Korelasi Spearman atau sering juga disebut sebagai Spearman's rank correlation adalah pengukuran korelasi non-parametrik. Artinya kita mencoba mengukur hubungan antara kedua variabel tanpa menghiraukan asumsi seperti distribusi dari kedua variabel dan asumsi lainnya. Secara kriteria memiliki kemiripan dengan korelasi Pearson walau korelasi Spearman bisa digunakan untuk data bertipe ordinal. Perbedaannya hanya terletak pada pengubahan data dalam bentuk ranking sebelum menghitung nilai korelasinya.\n",
    "\n",
    "Secara matematis, korelasi Spearman dapat dihitung menggunakan rumus berikut:\n",
    "\n",
    "$$\n",
    "\\rho = 1 - \\frac {6 \\sum d^2_i}{n(n^2 - 1)}\n",
    "$$\n",
    "\n",
    "Dimana:\n",
    "<ul>\n",
    "    <li>ρ adalah nilai korelasi Spearman</li>\n",
    "    <li>di adalah nilai beda antara kedua variabel</li>\n",
    "    <li>n adalah jumlah data</li>\n",
    "</ul>"
   ]
  },
  {
   "cell_type": "markdown",
   "metadata": {},
   "source": [
    "<h3><a name=\"korelasi-kendall\"></a>Korelasi Kendall</h3>"
   ]
  },
  {
   "cell_type": "markdown",
   "metadata": {},
   "source": [
    "Korelasi Kendall atau sering juga disebut juga sebagai Kendall's tank correlation atau korelasi Tau (τ) adalah pengukuran korelasi non-parametrik.\n",
    "\n",
    "Secara matematis, korelasi Kendall dapat dihitung menggunakan rumus berikut:\n",
    "\n",
    "$$\n",
    "\\tau = \\frac {n_c - n_d}{\\frac {1}{2}n(n-1)}\n",
    "$$\n",
    "\n",
    "Dimana: \n",
    "<ul>\n",
    "    <li>nc adalah jumlah pasangan konkordan</li>\n",
    "    <li>nd adalah jumlah pasangan diskordan</li>\n",
    "    <li>n adalah jumlah data</li>\n",
    "</ul>"
   ]
  },
  {
   "cell_type": "markdown",
   "metadata": {},
   "source": [
    "Untuk menghitung korelasi antara kedua variabel, kita dapat menggunakan method <code>.corr()</code> dari pandas."
   ]
  },
  {
   "cell_type": "code",
   "execution_count": 35,
   "metadata": {
    "scrolled": true
   },
   "outputs": [
    {
     "data": {
      "text/html": [
       "<div>\n",
       "<style scoped>\n",
       "    .dataframe tbody tr th:only-of-type {\n",
       "        vertical-align: middle;\n",
       "    }\n",
       "\n",
       "    .dataframe tbody tr th {\n",
       "        vertical-align: top;\n",
       "    }\n",
       "\n",
       "    .dataframe thead th {\n",
       "        text-align: right;\n",
       "    }\n",
       "</style>\n",
       "<table border=\"1\" class=\"dataframe\">\n",
       "  <thead>\n",
       "    <tr style=\"text-align: right;\">\n",
       "      <th></th>\n",
       "      <th>ID Pelanggan</th>\n",
       "      <th>Jenis Kelamin</th>\n",
       "      <th>Pendapatan</th>\n",
       "      <th>Harga</th>\n",
       "      <th>Jumlah</th>\n",
       "      <th>Total</th>\n",
       "      <th>Tingkat Kepuasan</th>\n",
       "    </tr>\n",
       "  </thead>\n",
       "  <tbody>\n",
       "    <tr>\n",
       "      <th>ID Pelanggan</th>\n",
       "      <td>1.000000</td>\n",
       "      <td>0.151375</td>\n",
       "      <td>0.110958</td>\n",
       "      <td>-0.028707</td>\n",
       "      <td>0.011289</td>\n",
       "      <td>-0.039968</td>\n",
       "      <td>-0.245717</td>\n",
       "    </tr>\n",
       "    <tr>\n",
       "      <th>Jenis Kelamin</th>\n",
       "      <td>0.151375</td>\n",
       "      <td>1.000000</td>\n",
       "      <td>0.192849</td>\n",
       "      <td>0.457555</td>\n",
       "      <td>-0.104168</td>\n",
       "      <td>0.238051</td>\n",
       "      <td>-0.088339</td>\n",
       "    </tr>\n",
       "    <tr>\n",
       "      <th>Pendapatan</th>\n",
       "      <td>0.110958</td>\n",
       "      <td>0.192849</td>\n",
       "      <td>1.000000</td>\n",
       "      <td>0.322443</td>\n",
       "      <td>0.399825</td>\n",
       "      <td>0.592044</td>\n",
       "      <td>-0.312663</td>\n",
       "    </tr>\n",
       "    <tr>\n",
       "      <th>Harga</th>\n",
       "      <td>-0.028707</td>\n",
       "      <td>0.457555</td>\n",
       "      <td>0.322443</td>\n",
       "      <td>1.000000</td>\n",
       "      <td>-0.138883</td>\n",
       "      <td>0.645455</td>\n",
       "      <td>-0.380798</td>\n",
       "    </tr>\n",
       "    <tr>\n",
       "      <th>Jumlah</th>\n",
       "      <td>0.011289</td>\n",
       "      <td>-0.104168</td>\n",
       "      <td>0.399825</td>\n",
       "      <td>-0.138883</td>\n",
       "      <td>1.000000</td>\n",
       "      <td>0.636097</td>\n",
       "      <td>0.017568</td>\n",
       "    </tr>\n",
       "    <tr>\n",
       "      <th>Total</th>\n",
       "      <td>-0.039968</td>\n",
       "      <td>0.238051</td>\n",
       "      <td>0.592044</td>\n",
       "      <td>0.645455</td>\n",
       "      <td>0.636097</td>\n",
       "      <td>1.000000</td>\n",
       "      <td>-0.268345</td>\n",
       "    </tr>\n",
       "    <tr>\n",
       "      <th>Tingkat Kepuasan</th>\n",
       "      <td>-0.245717</td>\n",
       "      <td>-0.088339</td>\n",
       "      <td>-0.312663</td>\n",
       "      <td>-0.380798</td>\n",
       "      <td>0.017568</td>\n",
       "      <td>-0.268345</td>\n",
       "      <td>1.000000</td>\n",
       "    </tr>\n",
       "  </tbody>\n",
       "</table>\n",
       "</div>"
      ],
      "text/plain": [
       "                  ID Pelanggan  Jenis Kelamin  Pendapatan     Harga   Jumlah   \\\n",
       "ID Pelanggan          1.000000       0.151375    0.110958 -0.028707  0.011289   \n",
       "Jenis Kelamin         0.151375       1.000000    0.192849  0.457555 -0.104168   \n",
       "Pendapatan            0.110958       0.192849    1.000000  0.322443  0.399825   \n",
       "Harga                -0.028707       0.457555    0.322443  1.000000 -0.138883   \n",
       "Jumlah                0.011289      -0.104168    0.399825 -0.138883  1.000000   \n",
       "Total                -0.039968       0.238051    0.592044  0.645455  0.636097   \n",
       "Tingkat Kepuasan     -0.245717      -0.088339   -0.312663 -0.380798  0.017568   \n",
       "\n",
       "                     Total  Tingkat Kepuasan  \n",
       "ID Pelanggan     -0.039968         -0.245717  \n",
       "Jenis Kelamin     0.238051         -0.088339  \n",
       "Pendapatan        0.592044         -0.312663  \n",
       "Harga             0.645455         -0.380798  \n",
       "Jumlah            0.636097          0.017568  \n",
       "Total             1.000000         -0.268345  \n",
       "Tingkat Kepuasan -0.268345          1.000000  "
      ]
     },
     "execution_count": 35,
     "metadata": {},
     "output_type": "execute_result"
    }
   ],
   "source": [
    "# menghitung korelasi dari setiap pasang variabel pada raw_data\n",
    "raw_data.corr()"
   ]
  },
  {
   "cell_type": "markdown",
   "metadata": {},
   "source": [
    "Perhatikan bahwa hanya variabel bertipe numerik saja yang dihitung nilai korelasinya. Selain itu secara default method <code>.corr()</code> memiliki parameter method bernilai <b>pearson</b> sehingga nilai korelasi di atas adalah korelasi Pearson.\n",
    "    \n",
    "Untuk menggantinya menjadi korelasi Kendall atau korelasi Spearman kita cukup menambahkan parameter <code>method='kendall'</code> atau <code>method='spearman'</code> pada method <code>.corr()</code>."
   ]
  },
  {
   "cell_type": "code",
   "execution_count": 36,
   "metadata": {},
   "outputs": [
    {
     "data": {
      "text/html": [
       "<div>\n",
       "<style scoped>\n",
       "    .dataframe tbody tr th:only-of-type {\n",
       "        vertical-align: middle;\n",
       "    }\n",
       "\n",
       "    .dataframe tbody tr th {\n",
       "        vertical-align: top;\n",
       "    }\n",
       "\n",
       "    .dataframe thead th {\n",
       "        text-align: right;\n",
       "    }\n",
       "</style>\n",
       "<table border=\"1\" class=\"dataframe\">\n",
       "  <thead>\n",
       "    <tr style=\"text-align: right;\">\n",
       "      <th></th>\n",
       "      <th>ID Pelanggan</th>\n",
       "      <th>Jenis Kelamin</th>\n",
       "      <th>Pendapatan</th>\n",
       "      <th>Harga</th>\n",
       "      <th>Jumlah</th>\n",
       "      <th>Total</th>\n",
       "      <th>Tingkat Kepuasan</th>\n",
       "    </tr>\n",
       "  </thead>\n",
       "  <tbody>\n",
       "    <tr>\n",
       "      <th>ID Pelanggan</th>\n",
       "      <td>1.000000</td>\n",
       "      <td>0.126650</td>\n",
       "      <td>-0.054998</td>\n",
       "      <td>-0.005753</td>\n",
       "      <td>0.024016</td>\n",
       "      <td>-0.065998</td>\n",
       "      <td>-0.183817</td>\n",
       "    </tr>\n",
       "    <tr>\n",
       "      <th>Jenis Kelamin</th>\n",
       "      <td>0.126650</td>\n",
       "      <td>1.000000</td>\n",
       "      <td>0.190245</td>\n",
       "      <td>0.415339</td>\n",
       "      <td>-0.090299</td>\n",
       "      <td>0.190245</td>\n",
       "      <td>-0.085796</td>\n",
       "    </tr>\n",
       "    <tr>\n",
       "      <th>Pendapatan</th>\n",
       "      <td>-0.054998</td>\n",
       "      <td>0.190245</td>\n",
       "      <td>1.000000</td>\n",
       "      <td>0.523053</td>\n",
       "      <td>0.501925</td>\n",
       "      <td>0.988506</td>\n",
       "      <td>-0.165588</td>\n",
       "    </tr>\n",
       "    <tr>\n",
       "      <th>Harga</th>\n",
       "      <td>-0.005753</td>\n",
       "      <td>0.415339</td>\n",
       "      <td>0.523053</td>\n",
       "      <td>1.000000</td>\n",
       "      <td>-0.098450</td>\n",
       "      <td>0.535078</td>\n",
       "      <td>-0.325659</td>\n",
       "    </tr>\n",
       "    <tr>\n",
       "      <th>Jumlah</th>\n",
       "      <td>0.024016</td>\n",
       "      <td>-0.090299</td>\n",
       "      <td>0.501925</td>\n",
       "      <td>-0.098450</td>\n",
       "      <td>1.000000</td>\n",
       "      <td>0.501925</td>\n",
       "      <td>-0.028923</td>\n",
       "    </tr>\n",
       "    <tr>\n",
       "      <th>Total</th>\n",
       "      <td>-0.065998</td>\n",
       "      <td>0.190245</td>\n",
       "      <td>0.988506</td>\n",
       "      <td>0.535078</td>\n",
       "      <td>0.501925</td>\n",
       "      <td>1.000000</td>\n",
       "      <td>-0.165588</td>\n",
       "    </tr>\n",
       "    <tr>\n",
       "      <th>Tingkat Kepuasan</th>\n",
       "      <td>-0.183817</td>\n",
       "      <td>-0.085796</td>\n",
       "      <td>-0.165588</td>\n",
       "      <td>-0.325659</td>\n",
       "      <td>-0.028923</td>\n",
       "      <td>-0.165588</td>\n",
       "      <td>1.000000</td>\n",
       "    </tr>\n",
       "  </tbody>\n",
       "</table>\n",
       "</div>"
      ],
      "text/plain": [
       "                  ID Pelanggan  Jenis Kelamin  Pendapatan     Harga   Jumlah   \\\n",
       "ID Pelanggan          1.000000       0.126650   -0.054998 -0.005753  0.024016   \n",
       "Jenis Kelamin         0.126650       1.000000    0.190245  0.415339 -0.090299   \n",
       "Pendapatan           -0.054998       0.190245    1.000000  0.523053  0.501925   \n",
       "Harga                -0.005753       0.415339    0.523053  1.000000 -0.098450   \n",
       "Jumlah                0.024016      -0.090299    0.501925 -0.098450  1.000000   \n",
       "Total                -0.065998       0.190245    0.988506  0.535078  0.501925   \n",
       "Tingkat Kepuasan     -0.183817      -0.085796   -0.165588 -0.325659 -0.028923   \n",
       "\n",
       "                     Total  Tingkat Kepuasan  \n",
       "ID Pelanggan     -0.065998         -0.183817  \n",
       "Jenis Kelamin     0.190245         -0.085796  \n",
       "Pendapatan        0.988506         -0.165588  \n",
       "Harga             0.535078         -0.325659  \n",
       "Jumlah            0.501925         -0.028923  \n",
       "Total             1.000000         -0.165588  \n",
       "Tingkat Kepuasan -0.165588          1.000000  "
      ]
     },
     "execution_count": 36,
     "metadata": {},
     "output_type": "execute_result"
    }
   ],
   "source": [
    "# mencari korelasi 'kendall' untuk tiap pasang variabel\n",
    "raw_data.corr(method='kendall')"
   ]
  },
  {
   "cell_type": "code",
   "execution_count": 37,
   "metadata": {
    "scrolled": true
   },
   "outputs": [
    {
     "data": {
      "text/html": [
       "<div>\n",
       "<style scoped>\n",
       "    .dataframe tbody tr th:only-of-type {\n",
       "        vertical-align: middle;\n",
       "    }\n",
       "\n",
       "    .dataframe tbody tr th {\n",
       "        vertical-align: top;\n",
       "    }\n",
       "\n",
       "    .dataframe thead th {\n",
       "        text-align: right;\n",
       "    }\n",
       "</style>\n",
       "<table border=\"1\" class=\"dataframe\">\n",
       "  <thead>\n",
       "    <tr style=\"text-align: right;\">\n",
       "      <th></th>\n",
       "      <th>ID Pelanggan</th>\n",
       "      <th>Jenis Kelamin</th>\n",
       "      <th>Pendapatan</th>\n",
       "      <th>Harga</th>\n",
       "      <th>Jumlah</th>\n",
       "      <th>Total</th>\n",
       "      <th>Tingkat Kepuasan</th>\n",
       "    </tr>\n",
       "  </thead>\n",
       "  <tbody>\n",
       "    <tr>\n",
       "      <th>ID Pelanggan</th>\n",
       "      <td>1.000000</td>\n",
       "      <td>0.151375</td>\n",
       "      <td>-0.063711</td>\n",
       "      <td>-0.039149</td>\n",
       "      <td>0.046356</td>\n",
       "      <td>-0.069779</td>\n",
       "      <td>-0.238890</td>\n",
       "    </tr>\n",
       "    <tr>\n",
       "      <th>Jenis Kelamin</th>\n",
       "      <td>0.151375</td>\n",
       "      <td>1.000000</td>\n",
       "      <td>0.219508</td>\n",
       "      <td>0.463635</td>\n",
       "      <td>-0.098864</td>\n",
       "      <td>0.219508</td>\n",
       "      <td>-0.090784</td>\n",
       "    </tr>\n",
       "    <tr>\n",
       "      <th>Pendapatan</th>\n",
       "      <td>-0.063711</td>\n",
       "      <td>0.219508</td>\n",
       "      <td>1.000000</td>\n",
       "      <td>0.640000</td>\n",
       "      <td>0.607110</td>\n",
       "      <td>0.998470</td>\n",
       "      <td>-0.192463</td>\n",
       "    </tr>\n",
       "    <tr>\n",
       "      <th>Harga</th>\n",
       "      <td>-0.039149</td>\n",
       "      <td>0.463635</td>\n",
       "      <td>0.640000</td>\n",
       "      <td>1.000000</td>\n",
       "      <td>-0.130749</td>\n",
       "      <td>0.646194</td>\n",
       "      <td>-0.378933</td>\n",
       "    </tr>\n",
       "    <tr>\n",
       "      <th>Jumlah</th>\n",
       "      <td>0.046356</td>\n",
       "      <td>-0.098864</td>\n",
       "      <td>0.607110</td>\n",
       "      <td>-0.130749</td>\n",
       "      <td>1.000000</td>\n",
       "      <td>0.607110</td>\n",
       "      <td>-0.023874</td>\n",
       "    </tr>\n",
       "    <tr>\n",
       "      <th>Total</th>\n",
       "      <td>-0.069779</td>\n",
       "      <td>0.219508</td>\n",
       "      <td>0.998470</td>\n",
       "      <td>0.646194</td>\n",
       "      <td>0.607110</td>\n",
       "      <td>1.000000</td>\n",
       "      <td>-0.192463</td>\n",
       "    </tr>\n",
       "    <tr>\n",
       "      <th>Tingkat Kepuasan</th>\n",
       "      <td>-0.238890</td>\n",
       "      <td>-0.090784</td>\n",
       "      <td>-0.192463</td>\n",
       "      <td>-0.378933</td>\n",
       "      <td>-0.023874</td>\n",
       "      <td>-0.192463</td>\n",
       "      <td>1.000000</td>\n",
       "    </tr>\n",
       "  </tbody>\n",
       "</table>\n",
       "</div>"
      ],
      "text/plain": [
       "                  ID Pelanggan  Jenis Kelamin  Pendapatan     Harga   Jumlah   \\\n",
       "ID Pelanggan          1.000000       0.151375   -0.063711 -0.039149  0.046356   \n",
       "Jenis Kelamin         0.151375       1.000000    0.219508  0.463635 -0.098864   \n",
       "Pendapatan           -0.063711       0.219508    1.000000  0.640000  0.607110   \n",
       "Harga                -0.039149       0.463635    0.640000  1.000000 -0.130749   \n",
       "Jumlah                0.046356      -0.098864    0.607110 -0.130749  1.000000   \n",
       "Total                -0.069779       0.219508    0.998470  0.646194  0.607110   \n",
       "Tingkat Kepuasan     -0.238890      -0.090784   -0.192463 -0.378933 -0.023874   \n",
       "\n",
       "                     Total  Tingkat Kepuasan  \n",
       "ID Pelanggan     -0.069779         -0.238890  \n",
       "Jenis Kelamin     0.219508         -0.090784  \n",
       "Pendapatan        0.998470         -0.192463  \n",
       "Harga             0.646194         -0.378933  \n",
       "Jumlah            0.607110         -0.023874  \n",
       "Total             1.000000         -0.192463  \n",
       "Tingkat Kepuasan -0.192463          1.000000  "
      ]
     },
     "execution_count": 37,
     "metadata": {},
     "output_type": "execute_result"
    }
   ],
   "source": [
    "# mencari korelasi 'spearman' untuk tiap pasang variabel\n",
    "raw_data.corr(method='spearman')"
   ]
  },
  {
   "cell_type": "markdown",
   "metadata": {},
   "source": [
    "<h3><a name=korelasi-kausalitas></a>Interpretasi Nilai Korelasi dan Kaitannya dengan Kausalitas</h3>"
   ]
  },
  {
   "cell_type": "markdown",
   "metadata": {},
   "source": [
    "Perhatikan nilai korelasi Pearson dari raw_data berikut:"
   ]
  },
  {
   "cell_type": "code",
   "execution_count": 38,
   "metadata": {},
   "outputs": [
    {
     "data": {
      "text/html": [
       "<div>\n",
       "<style scoped>\n",
       "    .dataframe tbody tr th:only-of-type {\n",
       "        vertical-align: middle;\n",
       "    }\n",
       "\n",
       "    .dataframe tbody tr th {\n",
       "        vertical-align: top;\n",
       "    }\n",
       "\n",
       "    .dataframe thead th {\n",
       "        text-align: right;\n",
       "    }\n",
       "</style>\n",
       "<table border=\"1\" class=\"dataframe\">\n",
       "  <thead>\n",
       "    <tr style=\"text-align: right;\">\n",
       "      <th></th>\n",
       "      <th>ID Pelanggan</th>\n",
       "      <th>Jenis Kelamin</th>\n",
       "      <th>Pendapatan</th>\n",
       "      <th>Harga</th>\n",
       "      <th>Jumlah</th>\n",
       "      <th>Total</th>\n",
       "      <th>Tingkat Kepuasan</th>\n",
       "    </tr>\n",
       "  </thead>\n",
       "  <tbody>\n",
       "    <tr>\n",
       "      <th>ID Pelanggan</th>\n",
       "      <td>1.000000</td>\n",
       "      <td>0.151375</td>\n",
       "      <td>0.110958</td>\n",
       "      <td>-0.028707</td>\n",
       "      <td>0.011289</td>\n",
       "      <td>-0.039968</td>\n",
       "      <td>-0.245717</td>\n",
       "    </tr>\n",
       "    <tr>\n",
       "      <th>Jenis Kelamin</th>\n",
       "      <td>0.151375</td>\n",
       "      <td>1.000000</td>\n",
       "      <td>0.192849</td>\n",
       "      <td>0.457555</td>\n",
       "      <td>-0.104168</td>\n",
       "      <td>0.238051</td>\n",
       "      <td>-0.088339</td>\n",
       "    </tr>\n",
       "    <tr>\n",
       "      <th>Pendapatan</th>\n",
       "      <td>0.110958</td>\n",
       "      <td>0.192849</td>\n",
       "      <td>1.000000</td>\n",
       "      <td>0.322443</td>\n",
       "      <td>0.399825</td>\n",
       "      <td>0.592044</td>\n",
       "      <td>-0.312663</td>\n",
       "    </tr>\n",
       "    <tr>\n",
       "      <th>Harga</th>\n",
       "      <td>-0.028707</td>\n",
       "      <td>0.457555</td>\n",
       "      <td>0.322443</td>\n",
       "      <td>1.000000</td>\n",
       "      <td>-0.138883</td>\n",
       "      <td>0.645455</td>\n",
       "      <td>-0.380798</td>\n",
       "    </tr>\n",
       "    <tr>\n",
       "      <th>Jumlah</th>\n",
       "      <td>0.011289</td>\n",
       "      <td>-0.104168</td>\n",
       "      <td>0.399825</td>\n",
       "      <td>-0.138883</td>\n",
       "      <td>1.000000</td>\n",
       "      <td>0.636097</td>\n",
       "      <td>0.017568</td>\n",
       "    </tr>\n",
       "    <tr>\n",
       "      <th>Total</th>\n",
       "      <td>-0.039968</td>\n",
       "      <td>0.238051</td>\n",
       "      <td>0.592044</td>\n",
       "      <td>0.645455</td>\n",
       "      <td>0.636097</td>\n",
       "      <td>1.000000</td>\n",
       "      <td>-0.268345</td>\n",
       "    </tr>\n",
       "    <tr>\n",
       "      <th>Tingkat Kepuasan</th>\n",
       "      <td>-0.245717</td>\n",
       "      <td>-0.088339</td>\n",
       "      <td>-0.312663</td>\n",
       "      <td>-0.380798</td>\n",
       "      <td>0.017568</td>\n",
       "      <td>-0.268345</td>\n",
       "      <td>1.000000</td>\n",
       "    </tr>\n",
       "  </tbody>\n",
       "</table>\n",
       "</div>"
      ],
      "text/plain": [
       "                  ID Pelanggan  Jenis Kelamin  Pendapatan     Harga   Jumlah   \\\n",
       "ID Pelanggan          1.000000       0.151375    0.110958 -0.028707  0.011289   \n",
       "Jenis Kelamin         0.151375       1.000000    0.192849  0.457555 -0.104168   \n",
       "Pendapatan            0.110958       0.192849    1.000000  0.322443  0.399825   \n",
       "Harga                -0.028707       0.457555    0.322443  1.000000 -0.138883   \n",
       "Jumlah                0.011289      -0.104168    0.399825 -0.138883  1.000000   \n",
       "Total                -0.039968       0.238051    0.592044  0.645455  0.636097   \n",
       "Tingkat Kepuasan     -0.245717      -0.088339   -0.312663 -0.380798  0.017568   \n",
       "\n",
       "                     Total  Tingkat Kepuasan  \n",
       "ID Pelanggan     -0.039968         -0.245717  \n",
       "Jenis Kelamin     0.238051         -0.088339  \n",
       "Pendapatan        0.592044         -0.312663  \n",
       "Harga             0.645455         -0.380798  \n",
       "Jumlah            0.636097          0.017568  \n",
       "Total             1.000000         -0.268345  \n",
       "Tingkat Kepuasan -0.268345          1.000000  "
      ]
     },
     "execution_count": 38,
     "metadata": {},
     "output_type": "execute_result"
    }
   ],
   "source": [
    "raw_data.corr()"
   ]
  },
  {
   "cell_type": "markdown",
   "metadata": {},
   "source": [
    "Perhatikan bahwa beberapa pasang variabel memiliki nilai korelasi yang positif maupun negatif. Selain itu terdapat nilai yang sangat kecil hingga mendekati nol, namun ada juga yang cukup besar diatas 0.5, misalnya korelasi antara 'Jumlah' dan 'Pendapatan'.\n",
    "\n",
    "Besar kecilnya suatu nilai korelasi dari sepasang variabel menandakan seberapa kuat <b>hubungan linier</b> antara kedua variabel tersebut. Sebagai acuan untuk mengukur seberapa kuat korelasi sepasang variabel, kita dapat menggunakan ukuran berikut:\n",
    "\n",
    "<ul>\n",
    "    <li> 0 < |r| < 0.49: hubungan lemah</li>\n",
    "    <li> 0.50 < |r| < 0.79: hubungan sedang</li>\n",
    "    <li> 0.80 < |r| < 1: hubungan kuat</li>\n",
    "</ul>"
   ]
  },
  {
   "cell_type": "markdown",
   "metadata": {},
   "source": [
    "Berdasarkan kriteria di atas, kita dapat menilai bahwa hubungan antara variabel 'Total' dan 'Jumlah' hubungannya sedang dan positif (r = 0.636097) sedangkan hubungan antara 'Pendapatan' dan 'Tingkat Kepuasan' hubungannya lemah dan negatif (r = -0.088339).\n",
    "\n",
    "Namun, perlu diperhatikan bahwa walaupun kita dapat menilai kuat hubungan antara kedua variabel, namun kita tidak bisa menentukan arah dari hubugan tersebut. Sebagai contoh, walaupun antara variabel 'Total' dan 'Jumlah' memiliki hubungan yang sedang, <b>tidak berarti</b> kita bisa mengetahui apakah kenaikan nilai 'Total' berefek positif terhadap 'Jumlah' atau sebaliknya."
   ]
  },
  {
   "cell_type": "code",
   "execution_count": null,
   "metadata": {},
   "outputs": [],
   "source": []
  }
 ],
 "metadata": {
  "kernelspec": {
   "display_name": "Python 3",
   "language": "python",
   "name": "python3"
  },
  "language_info": {
   "codemirror_mode": {
    "name": "ipython",
    "version": 3
   },
   "file_extension": ".py",
   "mimetype": "text/x-python",
   "name": "python",
   "nbconvert_exporter": "python",
   "pygments_lexer": "ipython3",
   "version": "3.8.3"
  }
 },
 "nbformat": 4,
 "nbformat_minor": 4
}
