{
 "cells": [
  {
   "cell_type": "markdown",
   "metadata": {},
   "source": [
    "# Python for Data Professional Beginner - Part 3"
   ]
  },
  {
   "cell_type": "markdown",
   "metadata": {},
   "source": [
    "<p><b>About :</b> Memperkenalkan konsep dasar bahasa pemrograman Python sebagai bahasa pemrograman berorientasi objek, dikenal dengan Object Oriented Programming (OOP). Module ini akan menjelaskan syntax dan teknik penulisan kode program menggunakan OOP Python, skill yang wajib dimiliki seorang praktisi data.</p>\n",
    "\n",
    "<p><b>Course :</b> <a href=https://academy.dqlab.id/main/package/practice/161?pf=0>Python for Data Professional Beginner - Part 3</a></p>"
   ]
  },
  {
   "cell_type": "markdown",
   "metadata": {},
   "source": [
    "<h2>Module Content:</h2>\n",
    "\n",
    "<div class=\"alert alert-block alert-info\" style=\"margin-top: 20px\">\n",
    "    <ul>\n",
    "        <li><a href=\"#pengantar-object-oriented-programming\">Pengantar Object Oriented Programming</a></li>\n",
    "        <ul>\n",
    "            <li><a href=\"#\"></a></li>\n",
    "        </ul>\n",
    "        <li><a href=\"#classes-and-objects\">Classes and Objects</a></li>\n",
    "        <ul>\n",
    "            <li><a href=\"#\"></a></li>\n",
    "        </ul>\n",
    "        <li><a href=\"#encapsulation-and-inheritance\">Encapsulation and Inheritance</a></li>\n",
    "        <ul>\n",
    "            <li><a href=\"#\"></a></li>\n",
    "        </ul>\n",
    "        <li><a href=\"#polymorphism-and-overloading\">Polymorphism and Overloading</a></li>\n",
    "        <ul>\n",
    "            <li><a href=\"#\"></a></li>\n",
    "        </ul>\n",
    "        <li><a href=\"#mini-quiz\">Mini Quiz</a></li>\n",
    "    </ul>\n",
    "</div>"
   ]
  },
  {
   "cell_type": "markdown",
   "metadata": {},
   "source": [
    "<h2><a name=\"pengantar-object-oriented-programming\"></a>Chapter 1: Pengantar Object Oriented Programming</h2>"
   ]
  },
  {
   "cell_type": "markdown",
   "metadata": {},
   "source": [
    "<h3><a name=\"apa-itu-collection-manipulation\"></a>Apa itu Collection Manipulation?</h3>\n",
    "\n",
    "<p>Collections manipulation adalah salah satu teknik yang penting untuk dikuasai setiap programmer. Melalui penguasaan materi collections  manipulation, kita dapat <b>mengolah berbagai tipe data</b> collections dalam Python yang meliputi: <b>list</b>, <b>tuple</b>, <b>set</b> dan <b>dictionary</b>.</p>"
   ]
  },
  {
   "cell_type": "markdown",
   "metadata": {},
   "source": [
    "<li><b>Mengakses List dan Tuple</b></li>\n",
    "\n",
    "<p>Index pada tipe data list dan tuple dimulai dari angka 0.</p>"
   ]
  },
  {
   "cell_type": "code",
   "execution_count": null,
   "metadata": {},
   "outputs": [],
   "source": []
  },
  {
   "cell_type": "markdown",
   "metadata": {},
   "source": [
    "<h3 style=\"color:green\"><a name=\"dictionary-manipulation\"></a>Useful Tips and Tricks</h3>"
   ]
  },
  {
   "cell_type": "markdown",
   "metadata": {},
   "source": [
    "<p>Gunakan fungsi <b><code>len()</code></b> untuk mengetahui <b>jumlah data</b> yang terdapat pada list/tuple</p>"
   ]
  },
  {
   "cell_type": "code",
   "execution_count": 43,
   "metadata": {},
   "outputs": [
    {
     "name": "stdout",
     "output_type": "stream",
     "text": [
      "Jumlah data tuple_menu: 4\n",
      "Jumlah data list_menu: 4\n"
     ]
    }
   ],
   "source": [
    "tuple_menu = ('Gado-gado','Ayam Goreng','Rendang','Ketoprak')\n",
    "jumlah_menu = len(tuple_menu)\n",
    "print(\"Jumlah data tuple_menu:\", jumlah_menu)\n",
    "\n",
    "list_menu = ['Gado-gado','Ayam Goreng','Rendang','Ketoprak']\n",
    "jumlah_menu = len(list_menu)\n",
    "print(\"Jumlah data list_menu:\", jumlah_menu)"
   ]
  },
  {
   "cell_type": "markdown",
   "metadata": {},
   "source": [
    "<div style=\"border: 2px solid orange;border-radius: 5px;\">\n",
    "    <b style=\"color:orange;padding:10px\">Practice!</b>\n",
    "    <div style=\"padding:25px\">\n",
    "        <li>Terdapat variable keuangan (format juta) yang berisi data:</li>\n",
    "        <ol>\n",
    "            <li>pengeluaran: 2, 2.5, 2.25, 2.5, 3.2, 2.5, 3.5, 4, 3</li>\n",
    "            <li>pemasukan: 7.8, 7.5, 9, 7.6, 7.2, 7.5, 7, 10, 7.5</li>\n",
    "        </ol>\n",
    "        <li>Dari variabel keuangan, hitung rata-rata pengeluaran dan pemasukan selama 9 bulan terakhir. </li>\n",
    "    </div>\n",
    "</div>"
   ]
  },
  {
   "cell_type": "code",
   "execution_count": null,
   "metadata": {},
   "outputs": [],
   "source": []
  },
  {
   "cell_type": "markdown",
   "metadata": {},
   "source": [
    "<h2><a name=\"classes-and-objects\"></a>Chapter 2: Classes and Objects</h2>"
   ]
  },
  {
   "cell_type": "markdown",
   "metadata": {},
   "source": [
    "<h3><a name=\"apa-itu-string-manipulation\"></a>Apa itu String Manipulation?</h3>\n",
    "\n",
    "<p>String manipulation adalah teknik yang digunakan dalam memanipulasi data yang disimpan dalam <b>tipe data str</b>. Pada bahasa Python, untuk mempermudah proses pengolahan data, tipe data string dapat diperlakukan <i>layaknya seperti tipe data list</i>.</p>"
   ]
  },
  {
   "cell_type": "code",
   "execution_count": null,
   "metadata": {},
   "outputs": [],
   "source": []
  },
  {
   "cell_type": "markdown",
   "metadata": {},
   "source": [
    "<li><b><code>.upper()</code></b>: Mengubah <b>seluruh huruf</b> dalam teks (string) menjadi huruf <b>kapital</b>.</li>"
   ]
  },
  {
   "cell_type": "code",
   "execution_count": null,
   "metadata": {},
   "outputs": [],
   "source": []
  },
  {
   "cell_type": "markdown",
   "metadata": {},
   "source": [
    "<div style=\"border: 2px solid orange;border-radius: 5px;\">\n",
    "    <b style=\"color:orange;padding:10px\">Practice!</b>\n",
    "    <div style=\"padding:25px\">\n",
    "        <p>Terdapat variable judul_artikel yang berisikan data:</p>\n",
    "<code>\"Buah Salak Baik untuk Mata\", \"Buah Salak Kaya Potasium\"</code>\n",
    "        <li>Hitung jumlah kemunculan kata jeruk dan salak di tiap judul artikel,</li>\n",
    "        <li>Deklarasikan daftar bernama kata_positif yang berisi nuansa kata positif seperti \"Kaya\", \"Baik\", \"Mencegah\" dan \"Memperkuat\" untuk menghitung jumlah kemunculan kata_positif bagi tiap artikel jeruk dan salak</li>\n",
    "    </div>\n",
    "</div>"
   ]
  },
  {
   "cell_type": "code",
   "execution_count": null,
   "metadata": {},
   "outputs": [],
   "source": []
  },
  {
   "cell_type": "markdown",
   "metadata": {},
   "source": [
    "<h2><a name=\"encapsulation-and-inheritance\"></a>Chapter 3: Encapsulation and Inheritance</h2>"
   ]
  },
  {
   "cell_type": "markdown",
   "metadata": {},
   "source": [
    "<p>Function adalah sebuah blok statemen yang hanya akan dijalankan saat ia dipanggil.</p>\n",
    "\n",
    "<p>Fungsi <code>len()</code> untuk mengukur jumlah elemen dalam sebuah list dan fungsi <code>print()</code> untuk menampilkan pesan pada layar konsol merupakan contoh dari bentuk fungsi yang telah disediakan oleh bahasa pemrograman Python atau dengan kata lain <b><i>built-in functions</i></b>.</p>\n",
    "\n",
    "<p>Selain fungsi yang telah disediakan oleh Python, Kita dapat mendeklarasikan fungsi dalam kode yang aku tuliskan yang dikenal dengan <b><i>user defined function</i></b>.</p>"
   ]
  },
  {
   "cell_type": "code",
   "execution_count": null,
   "metadata": {},
   "outputs": [],
   "source": []
  },
  {
   "cell_type": "markdown",
   "metadata": {},
   "source": [
    "<div style=\"border: 2px solid orange;border-radius: 5px;\">\n",
    "    <b style=\"color:orange;padding:10px\">Practice!</b>\n",
    "    <div style=\"padding:25px\">\n",
    "        <p>Hitung rata-rata dan standar deviasi dari data berikut</p>\n",
    "        <table>\n",
    "            <thead>\n",
    "                <th>Luas Tanah (dalam m2)</th>\n",
    "                <th>Luas Bangunan (dalam m2)</th>\n",
    "                <th>Jarak ke Pusat Kota (dalam km)</th>\n",
    "                <th>Harga (dalam ratus juta)</th>\n",
    "            </thead>\n",
    "            <tbody>\n",
    "                <tr>\n",
    "                    <td>70</td>\n",
    "                    <td>50</td>\n",
    "                    <td>15</td>\n",
    "                    <td>500</td>\n",
    "                </tr>\n",
    "                <tr>\n",
    "                    <td>70</td>\n",
    "                    <td>60</td>\n",
    "                    <td>30</td>\n",
    "                    <td>400</td>\n",
    "                </tr>\n",
    "                <tr>\n",
    "                    <td>70</td>\n",
    "                    <td>60</td>\n",
    "                    <td>55</td>\n",
    "                    <td>300</td>\n",
    "                </tr>\n",
    "                <tr>\n",
    "                    <td>100</td>\n",
    "                    <td>50</td>\n",
    "                    <td>30</td>\n",
    "                    <td>700</td>\n",
    "                </tr>\n",
    "                <tr>\n",
    "                    <td>100</td>\n",
    "                    <td>70</td>\n",
    "                    <td>25</td>\n",
    "                    <td>1000</td>\n",
    "                </tr>\n",
    "                <tr>\n",
    "                    <td>100</td>\n",
    "                    <td>70</td>\n",
    "                    <td>50</td>\n",
    "                    <td>650</td>\n",
    "                </tr>\n",
    "                <tr>\n",
    "                    <td>120</td>\n",
    "                    <td>100</td>\n",
    "                    <td>20</td>\n",
    "                    <td>2000</td>\n",
    "                </tr>\n",
    "                <tr>\n",
    "                    <td>120</td>\n",
    "                    <td>80</td>\n",
    "                    <td>50</td>\n",
    "                    <td>1200</td>\n",
    "                </tr>\n",
    "                <tr>\n",
    "                    <td>150</td>\n",
    "                    <td>100</td>\n",
    "                    <td>50</td>\n",
    "                    <td>1800</td>\n",
    "                </tr>\n",
    "                <tr>\n",
    "                    <td>150</td>\n",
    "                    <td>90</td>\n",
    "                    <td>15</td>\n",
    "                    <td>3000</td>\n",
    "                </tr>\n",
    "            </tbody>\n",
    "        </table>\n",
    "        <li>Deklarasikan fungsi baru dengan nama variabel deksripsi_properti.</li>\n",
    "        <li>Representasikan data ke dalam dict dengan nama tabel_properti.</li>\n",
    "    </div>\n",
    "</div>"
   ]
  },
  {
   "cell_type": "code",
   "execution_count": null,
   "metadata": {},
   "outputs": [],
   "source": []
  },
  {
   "cell_type": "markdown",
   "metadata": {},
   "source": [
    "<h2><a name=\"polymorphism-and-overloading\"></a>Chapter 4: Polymorphism and Overloading</h2>"
   ]
  },
  {
   "cell_type": "markdown",
   "metadata": {},
   "source": [
    "<h3><a name=\"manipulasi-berkas\"></a>Manipulasi Berkas</h3>"
   ]
  },
  {
   "cell_type": "markdown",
   "metadata": {},
   "source": [
    "Selain dapat membaca dan menampung isi dari sebuah berkas secara sekaligus menggunakan fungsi <code>read(),</code> aku juga dapat menggunakan fungsi <code>readline()</code> ataupun <code>readlines()</code> untuk membaca isi dari suatu berkas teks. Dengan menggunakan fungsi readline(), Python akan membaca konten dari sebuah berkas secara baris per baris, dimulai dari baris paling awal"
   ]
  },
  {
   "cell_type": "code",
   "execution_count": null,
   "metadata": {},
   "outputs": [],
   "source": []
  },
  {
   "cell_type": "markdown",
   "metadata": {},
   "source": [
    "<h2><a name=\"mini-quiz\"></a>Chapter 5: Mini Quiz</h2>"
   ]
  },
  {
   "cell_type": "markdown",
   "metadata": {},
   "source": [
    "<div style=\"border: 2px solid orange;border-radius: 5px;\">\n",
    "    <b style=\"color:orange;padding:10px\">Harga Rumah di Tangerang</b>\n",
    "    <div style=\"padding:25px\">\n",
    "        <p>Prediksi harga rumah di Tangerang berdasarkan data berikut yang tersimpan dalam file <code>harga_rumah.txt</code><p>\n",
    "        <table>\n",
    "            <thead>\n",
    "                <th>Luas Tanah (dalam m2)</th>\n",
    "                <th>Luas Bangunan (dalam m2)</th>\n",
    "                <th>Jarak ke Pusat Kota (dalam km)</th>\n",
    "                <th>Harga (dalam ratus juta)</th>\n",
    "            </thead>\n",
    "            <tbody>\n",
    "                <tr>\n",
    "                    <td>70</td>\n",
    "                    <td>50</td>\n",
    "                    <td>15</td>\n",
    "                    <td>500</td>\n",
    "                </tr>\n",
    "                <tr>\n",
    "                    <td>70</td>\n",
    "                    <td>60</td>\n",
    "                    <td>30</td>\n",
    "                    <td>400</td>\n",
    "                </tr>\n",
    "                <tr>\n",
    "                    <td>70</td>\n",
    "                    <td>60</td>\n",
    "                    <td>55</td>\n",
    "                    <td>300</td>\n",
    "                </tr>\n",
    "                <tr>\n",
    "                    <td>100</td>\n",
    "                    <td>50</td>\n",
    "                    <td>30</td>\n",
    "                    <td>700</td>\n",
    "                </tr>\n",
    "                <tr>\n",
    "                    <td>100</td>\n",
    "                    <td>70</td>\n",
    "                    <td>25</td>\n",
    "                    <td>1000</td>\n",
    "                </tr>\n",
    "                <tr>\n",
    "                    <td>100</td>\n",
    "                    <td>70</td>\n",
    "                    <td>50</td>\n",
    "                    <td>650</td>\n",
    "                </tr>\n",
    "                <tr>\n",
    "                    <td>120</td>\n",
    "                    <td>100</td>\n",
    "                    <td>20</td>\n",
    "                    <td>2000</td>\n",
    "                </tr>\n",
    "                <tr>\n",
    "                    <td>120</td>\n",
    "                    <td>80</td>\n",
    "                    <td>50</td>\n",
    "                    <td>1200</td>\n",
    "                </tr>\n",
    "                <tr>\n",
    "                    <td>150</td>\n",
    "                    <td>100</td>\n",
    "                    <td>50</td>\n",
    "                    <td>1800</td>\n",
    "                </tr>\n",
    "                <tr>\n",
    "                    <td>150</td>\n",
    "                    <td>90</td>\n",
    "                    <td>15</td>\n",
    "                    <td>3000</td>\n",
    "                </tr>\n",
    "            </tbody>\n",
    "        </table>\n",
    "    </div>\n",
    "</div>"
   ]
  },
  {
   "cell_type": "code",
   "execution_count": null,
   "metadata": {},
   "outputs": [],
   "source": []
  }
 ],
 "metadata": {
  "kernelspec": {
   "display_name": "Python 3",
   "language": "python",
   "name": "python3"
  },
  "language_info": {
   "codemirror_mode": {
    "name": "ipython",
    "version": 3
   },
   "file_extension": ".py",
   "mimetype": "text/x-python",
   "name": "python",
   "nbconvert_exporter": "python",
   "pygments_lexer": "ipython3",
   "version": "3.8.3"
  }
 },
 "nbformat": 4,
 "nbformat_minor": 4
}
