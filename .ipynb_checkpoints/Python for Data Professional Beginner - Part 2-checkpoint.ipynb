{
 "cells": [
  {
   "cell_type": "markdown",
   "metadata": {},
   "source": [
    "# Python for Data Professional Beginner - Part 2"
   ]
  },
  {
   "cell_type": "markdown",
   "metadata": {},
   "source": [
    "<p><b>About :</b> Memperkenalkan dasar bahasa pemograman Python, penjelasan mengenai syntax dan fungsi built-in yang perlu dikuasai untuk memanipulasi list, tuple, set, dictionary dan string pada Python. Serta, teknik membuat suatu fungsi yang didefinisikan sendiri tujuan penggunaannya dan dapat diakses untuk kebutuhan yang diinginkan nantinya.</p>\n",
    "\n",
    "<p><b>Course :</b> <a href=https://academy.dqlab.id/main/package/practice/160?pf=0>Python for Data Professional Beginner - Part 2</a></p>"
   ]
  },
  {
   "cell_type": "markdown",
   "metadata": {},
   "source": [
    "<h2>Module Content:</h2>\n",
    "\n",
    "<div class=\"alert alert-block alert-info\" style=\"margin-top: 20px\">\n",
    "    <ul>\n",
    "        <li><a href=\"#collection-manipulation\">Collection Manipulation dengan Python</a></li>\n",
    "        <ul>\n",
    "            <li><a href=\"#apa-itu-collection-manipulation\">Apa itu Collection Manipulation?</a></li>\n",
    "            <li><a href=\"#list-manipulation\">List Manipulation</a></li>\n",
    "            <li><a href=\"#tuple-manipulation\">Tuple Manipulation</a></li>\n",
    "            <li><a href=\"#set-manipulation\">Set Manipulation</a></li>\n",
    "            <li><a href=\"#dictionary-manipulation\">Dictionary Manipulation</a></li>\n",
    "        </ul>\n",
    "        <li><a href=\"#string-manipulation\">String Manipulation dengan Python</a></li>\n",
    "        <ul>\n",
    "            <li><a href=\"#apa-itu-string-manipulation\">Apa itu String Manipulation?</a></li>\n",
    "            <li><a href=\"#menghilangkan-spasi\">Menghilangkan Spasi di Awal dan/atau di Akhir</a></li>\n",
    "            <li><a href=\"#mengubah-caps-pada-string\">Mengubah Caps pada String</a></li>\n",
    "            <li><a href=\"#pemecahan-penggabungan-penggantian\">Pemecahan, Penggabungan, dan Penggantian String</a></li>\n",
    "            <li><a href=\"#awalan-akhiran-string\">Awalan/Akhiran String</a></li>\n",
    "            <li><a href=\"#posisi-dan-jumlah\">Menentukan Posisi dan Jumlah Sub-string pada String</a></li>\n",
    "        </ul>\n",
    "        <li><a href=\"#functions\">Functions</a></li>\n",
    "        <ul>\n",
    "            <li><a href=\"#\"></a></li>\n",
    "            <li><a href=\"#\"></a></li>\n",
    "        </ul>\n",
    "        <li><a href=\"#manipulasi-teks\">Manipulasi Berkas Teks dan Library Matematika pada Python</a></li>\n",
    "        <ul>\n",
    "            <li><a href=\"#\"></a></li>\n",
    "            <li><a href=\"#\"></a></li>\n",
    "            <li><a href=\"#\"></a></li>\n",
    "        </ul>\n",
    "        <li><a href=\"#mini-quiz\">Mini Quiz</a></li>\n",
    "    </ul>\n",
    "</div>"
   ]
  },
  {
   "cell_type": "markdown",
   "metadata": {},
   "source": [
    "<h2><a name=\"collection-manipulation\"></a>Chapter 1: Collection Manipulation dengan Python</h2>"
   ]
  },
  {
   "cell_type": "markdown",
   "metadata": {},
   "source": [
    "<h3><a name=\"apa-itu-collection-manipulation\"></a>Apa itu Collection Manipulation?</h3>\n",
    "\n",
    "<p>Collections manipulation adalah salah satu teknik yang penting untuk dikuasai setiap programmer. Melalui penguasaan materi collections  manipulation, kita dapat <b>mengolah berbagai tipe data</b> collections dalam Python yang meliputi: <b>list</b>, <b>tuple</b>, <b>set</b> dan <b>dictionary</b>.</p>"
   ]
  },
  {
   "cell_type": "markdown",
   "metadata": {},
   "source": [
    "<li><b>Mengakses List dan Tuple</b></li>\n",
    "\n",
    "<p>Index pada tipe data list dan tuple dimulai dari angka 0.</p>"
   ]
  },
  {
   "cell_type": "code",
   "execution_count": 1,
   "metadata": {},
   "outputs": [
    {
     "name": "stdout",
     "output_type": "stream",
     "text": [
      "Januari\n",
      "Juni\n",
      "Desember\n",
      "November\n"
     ]
    }
   ],
   "source": [
    "bulan_pembelian = ('Januari', 'Februari', 'Maret', 'April', 'Mei', 'Juni', 'Juli', 'Agustus', 'September', 'Oktober', 'November', 'Desember')\n",
    "\n",
    "# akses data dari urutan depan\n",
    "print(bulan_pembelian[0])\n",
    "print(bulan_pembelian[5])\n",
    "\n",
    "# akses data dari urutan belakang\n",
    "print(bulan_pembelian[-1])\n",
    "print(bulan_pembelian[-2])"
   ]
  },
  {
   "cell_type": "markdown",
   "metadata": {},
   "source": [
    "<li><b>Slicing List dan Tuple</b></li>\n",
    "\n",
    "<p>Kita juga dapat memotong (<i>slicing</i>) list/tuple dengan menggunakan rentangan nilai indeks (<i>range of index</i>).</p>"
   ]
  },
  {
   "cell_type": "code",
   "execution_count": 9,
   "metadata": {},
   "outputs": [
    {
     "name": "stdout",
     "output_type": "stream",
     "text": [
      "('Mei', 'Juni', 'Juli', 'Agustus')\n",
      "('Januari', 'Februari', 'Maret', 'April', 'Mei')\n",
      "('September', 'Oktober', 'November', 'Desember')\n",
      "('September', 'Oktober', 'November')\n"
     ]
    }
   ],
   "source": [
    "bulan_pembelian = ('Januari', 'Februari', 'Maret', 'April', 'Mei', 'Juni', 'Juli', 'Agustus', 'September', 'Oktober', 'November', 'Desember')\n",
    "\n",
    "pertengahan_tahun = bulan_pembelian[4:8] # akses data dari indeks 4 sampai indeks 8-1 (data ke 8/ indeks 7)\n",
    "print(pertengahan_tahun)\n",
    "\n",
    "awal_tahun = bulan_pembelian[:5]         # akses data dari data pertama hingga indeks 5-1 (data ke 5/ indeks 4)\n",
    "print(awal_tahun)\n",
    "\n",
    "akhir_tahun = bulan_pembelian[8:]        # akses data dari indeks 8 hingga data terakhir\n",
    "print(akhir_tahun)\n",
    "\n",
    "print(bulan_pembelian[-4:-1])            # akses data ke 4 dari belakang hingga sebelum data terakhir"
   ]
  },
  {
   "cell_type": "markdown",
   "metadata": {},
   "source": [
    "<li><b>Menggabungkan List/Tuple</b></li>\n",
    "\n",
    "<p>Menggabungkan isi dari suatu list (ataupun tuple) dengan list lainnya (dengan tuple lainnya) dengan menggunakan operator penambahan (+).</p>"
   ]
  },
  {
   "cell_type": "code",
   "execution_count": 10,
   "metadata": {},
   "outputs": [
    {
     "name": "stdout",
     "output_type": "stream",
     "text": [
      "['Gado-gado', 'Ayam Goreng', 'Rendang', 'Es Teh', 'Es Jeruk', 'Es Campur']\n"
     ]
    }
   ],
   "source": [
    "list_makanan = ['Gado-gado', 'Ayam Goreng', 'Rendang']\n",
    "list_minuman = ['Es Teh', 'Es Jeruk', 'Es Campur']\n",
    "list_menu = list_makanan + list_minuman\n",
    "print(list_menu)"
   ]
  },
  {
   "cell_type": "markdown",
   "metadata": {},
   "source": [
    "<h3><a name=\"list-manipulation\"></a>List Manipulation</h3>"
   ]
  },
  {
   "cell_type": "markdown",
   "metadata": {},
   "source": [
    "<li><b><code>.append()</code></b>: Menambahkan data sebagai elemen terakhir di list.</li>"
   ]
  },
  {
   "cell_type": "code",
   "execution_count": 11,
   "metadata": {},
   "outputs": [
    {
     "name": "stdout",
     "output_type": "stream",
     "text": [
      "['Gado-gado', 'Ayam Goreng', 'Rendang', 'Ketoprak']\n"
     ]
    }
   ],
   "source": [
    "list_makanan = ['Gado-gado', 'Ayam Goreng', 'Rendang']\n",
    "list_makanan.append('Ketoprak')\n",
    "print(list_makanan)"
   ]
  },
  {
   "cell_type": "markdown",
   "metadata": {},
   "source": [
    "<li><b><code>.clear()</code></b>: Menghapus seluruh elemen dalam sebuah list.</li>"
   ]
  },
  {
   "cell_type": "code",
   "execution_count": 12,
   "metadata": {},
   "outputs": [
    {
     "name": "stdout",
     "output_type": "stream",
     "text": [
      "[]\n"
     ]
    }
   ],
   "source": [
    "list_makanan = ['Gado-gado', 'Ayam Goreng', 'Rendang']\n",
    "list_makanan.clear()\n",
    "print(list_makanan)"
   ]
  },
  {
   "cell_type": "markdown",
   "metadata": {},
   "source": [
    "<li><b><code>.copy()</code></b>: Mengembalikan copy dari setiap elemen dalam list.</li>"
   ]
  },
  {
   "cell_type": "code",
   "execution_count": 13,
   "metadata": {},
   "outputs": [
    {
     "name": "stdout",
     "output_type": "stream",
     "text": [
      "['Gado-gado', 'Ayam Goreng', 'Rendang', 'Ketoprak']\n",
      "['Gado-gado', 'Ayam Goreng', 'Rendang', 'Opor']\n"
     ]
    }
   ],
   "source": [
    "list_makanan1 = ['Gado-gado', 'Ayam Goreng', 'Rendang']\n",
    "list_makanan2 = list_makanan1.copy()\n",
    "list_makanan3 = list_makanan1\n",
    "list_makanan2.append('Opor')                        # hanya menambahkan item 'Opor' pada list_makanan2\n",
    "list_makanan3.append('Ketoprak')                    # list_makanan1 juga akan ditambahkan item 'Ketoprak'\n",
    "print(list_makanan1)\n",
    "print(list_makanan2)"
   ]
  },
  {
   "cell_type": "markdown",
   "metadata": {},
   "source": [
    "<li><b><code>.count()</code></b>: Mengembalikan jumlah kemunculan suatu elemen pada list.</li>"
   ]
  },
  {
   "cell_type": "code",
   "execution_count": 14,
   "metadata": {},
   "outputs": [
    {
     "name": "stdout",
     "output_type": "stream",
     "text": [
      "4\n",
      "3\n"
     ]
    }
   ],
   "source": [
    "list_score = ['Budi', 'Sud', 'Budi', 'Budi', 'Budi', 'Sud', 'Sud']\n",
    "score_budi = list_score.count('Budi')               # jumlah kemunculan 'Budi' pada list_score\n",
    "score_sud = list_score.count('Sud')                 # jumlah kemunculan 'Sud' pada list_score\n",
    "print(score_budi)\n",
    "print(score_sud)"
   ]
  },
  {
   "cell_type": "markdown",
   "metadata": {},
   "source": [
    "<li><b><code>.extend()</code></b>: Menggabungkan dua buah list seperti penggunaan operator + untuk list.</li>"
   ]
  },
  {
   "cell_type": "code",
   "execution_count": 15,
   "metadata": {},
   "outputs": [
    {
     "name": "stdout",
     "output_type": "stream",
     "text": [
      "['Gado-gado', 'Ayam Goreng', 'Rendang', 'Es Teh', 'Es Jeruk', 'Es Campur']\n"
     ]
    }
   ],
   "source": [
    "list_menu = ['Gado-gado', 'Ayam Goreng', 'Rendang']\n",
    "list_minuman = ['Es Teh', 'Es Jeruk', 'Es Campur']\n",
    "list_menu.extend(list_minuman)                      # menggabungkan list_menu dan list_minuman\n",
    "print(list_menu)"
   ]
  },
  {
   "cell_type": "markdown",
   "metadata": {},
   "source": [
    "<li><b><code>.index()</code></b>: Mengembalikan indeks dari elemen pertama yang ditemukan dari awal sebuah list.</li>"
   ]
  },
  {
   "cell_type": "code",
   "execution_count": 16,
   "metadata": {},
   "outputs": [
    {
     "name": "stdout",
     "output_type": "stream",
     "text": [
      "2\n"
     ]
    }
   ],
   "source": [
    "list_score = ['Budi','Sud','Budi','Budi','Budi','Sud','Sud']\n",
    "score_pertama_sud = list_score.index('Sud') + 1     # indeks awal adalah 1 karena indeks dimulai dari angka 0\n",
    "print(score_pertama_sud)                            # akan menampilkan output 2"
   ]
  },
  {
   "cell_type": "markdown",
   "metadata": {},
   "source": [
    "<li><b><code>.insert()</code></b>: Menyisipkan elemen pada indeks yang dispesifikasikan.</li>"
   ]
  },
  {
   "cell_type": "code",
   "execution_count": 17,
   "metadata": {},
   "outputs": [
    {
     "name": "stdout",
     "output_type": "stream",
     "text": [
      "['Budi', 'Sud', 'Budi', 'Sud', 'Budi', 'Sud']\n"
     ]
    }
   ],
   "source": [
    "list_score = ['Budi','Sud','Budi','Budi','Sud']\n",
    "list_score.insert(3, 'Sud')                         # menambahkan 'Sud' pada indeks ke 3\n",
    "print(list_score)"
   ]
  },
  {
   "cell_type": "markdown",
   "metadata": {},
   "source": [
    "<li><b><code>.pop()</code></b>: Menghilangkan elemen pada posisi tertentu.</li>"
   ]
  },
  {
   "cell_type": "code",
   "execution_count": 18,
   "metadata": {},
   "outputs": [
    {
     "name": "stdout",
     "output_type": "stream",
     "text": [
      "['Gado-gado', 'Rendang']\n"
     ]
    }
   ],
   "source": [
    "list_menu = ['Gado-gado', 'Ayam Goreng', 'Rendang']\n",
    "list_menu.pop(1)                                    # menghilangkan data pada indeks 1\n",
    "print(list_menu)"
   ]
  },
  {
   "cell_type": "markdown",
   "metadata": {},
   "source": [
    "<li><b><code>.remove()</code></b>: Menghilangkan elemen dengan nilai tertentu.</li>"
   ]
  },
  {
   "cell_type": "code",
   "execution_count": 19,
   "metadata": {},
   "outputs": [
    {
     "name": "stdout",
     "output_type": "stream",
     "text": [
      "['Gado-gado', 'Ayam Goreng', 'Ketoprak']\n"
     ]
    }
   ],
   "source": [
    "list_menu = ['Gado-gado', 'Ayam Goreng', 'Rendang', 'Ketoprak']\n",
    "list_menu.remove('Rendang')                         # menghilangkan data 'Rendang'\n",
    "print(list_menu)"
   ]
  },
  {
   "cell_type": "markdown",
   "metadata": {},
   "source": [
    "<li><b><code>.reverse()</code></b>: Membalik urutan elemen dari sebuah list.</li>"
   ]
  },
  {
   "cell_type": "code",
   "execution_count": 20,
   "metadata": {},
   "outputs": [
    {
     "name": "stdout",
     "output_type": "stream",
     "text": [
      "['Ketoprak', 'Rendang', 'Ayam Goreng', 'Gado-gado']\n"
     ]
    }
   ],
   "source": [
    "list_menu = ['Gado-gado', 'Ayam Goreng', 'Rendang', 'Ketoprak']\n",
    "list_menu.reverse()\n",
    "print(list_menu)"
   ]
  },
  {
   "cell_type": "markdown",
   "metadata": {},
   "source": [
    "<li><b><code>.sort()</code></b>: Mengurutkan elemen pada sebuah list, secara default dengan urutan dari <b>kecil ke besar</b> (<i>ascending</i>)</li>"
   ]
  },
  {
   "cell_type": "code",
   "execution_count": null,
   "metadata": {},
   "outputs": [],
   "source": [
    "list_menu = ['Gado-gado', 'Ayam Goreng', 'Rendang', 'Ketoprak']\n",
    "list_menu.sort()                                    # Default: Ascending\n",
    "print(list_menu) \n",
    "list_menu.sort(reverse=True)                        # Descending\n",
    "print(list_menu) "
   ]
  },
  {
   "cell_type": "markdown",
   "metadata": {},
   "source": [
    "<h3><a name=\"tuple-manipulation\"></a>Tuple Manipulation</h3>\n",
    "\n",
    "<p>Karena tuple bersifat <b><i>immutable</i></b> atau tidak dapat diubah setelah deklarasi, maka kita hanya dapat melakukan 2 proses manipulasi yaitu : <code>.count()</code> dan <code>.index()</code>.</p>"
   ]
  },
  {
   "cell_type": "markdown",
   "metadata": {},
   "source": [
    "<li><b><code>.count()</code></b>: Mengembalikan jumlah kemunculan suatu elemen pada list.</li>"
   ]
  },
  {
   "cell_type": "code",
   "execution_count": 21,
   "metadata": {},
   "outputs": [
    {
     "name": "stdout",
     "output_type": "stream",
     "text": [
      "4\n",
      "3\n"
     ]
    }
   ],
   "source": [
    "tuple_score = ('Budi', 'Sud', 'Budi', 'Budi', 'Budi', 'Sud', 'Sud')\n",
    "score_budi = tuple_score.count('Budi')              # jumlah kemunculan 'Budi' pada tuple_score\n",
    "score_sud = tuple_score.count('Sud')                # jumlah kemunculan 'Sud' pada tuple_score\n",
    "print(score_budi)\n",
    "print(score_sud)"
   ]
  },
  {
   "cell_type": "markdown",
   "metadata": {},
   "source": [
    "<li><b><code>.index()</code></b>: Mengembalikan indeks dari elemen pertama yang ditemukan dari awal sebuah tuple.</li>"
   ]
  },
  {
   "cell_type": "code",
   "execution_count": 22,
   "metadata": {
    "scrolled": true
   },
   "outputs": [
    {
     "name": "stdout",
     "output_type": "stream",
     "text": [
      "2\n"
     ]
    }
   ],
   "source": [
    "tuple_score = ('Budi','Sud','Budi','Budi','Budi','Sud','Sud')\n",
    "score_pertama_sud = tuple_score.index('Sud') + 1    # indeks awal adalah 1 karena indeks dimulai dari angka 0\n",
    "print(score_pertama_sud)                            # akan menampilkan output 2"
   ]
  },
  {
   "cell_type": "markdown",
   "metadata": {},
   "source": [
    "<h3><a name=\"set-manipulation\"></a>Set Manipulation</h3>\n",
    "\n",
    "<p>Sedikit berbeda dengan tipe data list dan tuple, pada tipe data set terdapat cukup banyak fitur yang disediakan oleh bahasa Python.</p>"
   ]
  },
  {
   "cell_type": "markdown",
   "metadata": {},
   "source": [
    "<li><b><code>.add()</code></b>: Menambahkan data ke dalam set. Penting untuk kita ingat bahwa pada tipe data set tidak mengizinkan adanya duplikasi elemen di dalamnya.</li>"
   ]
  },
  {
   "cell_type": "code",
   "execution_count": 23,
   "metadata": {},
   "outputs": [
    {
     "name": "stdout",
     "output_type": "stream",
     "text": [
      "{'Jeruk', 'Melon', 'Apel', 'Anggur'}\n"
     ]
    }
   ],
   "source": [
    "set_buah = {'Jeruk','Apel','Anggur'}\n",
    "set_buah.add('Melon')\n",
    "print(set_buah)"
   ]
  },
  {
   "cell_type": "markdown",
   "metadata": {},
   "source": [
    "<li><b><code>.clear()</code></b>: Menghapus seluruh elemen dalam sebuah set.</li>"
   ]
  },
  {
   "cell_type": "code",
   "execution_count": 24,
   "metadata": {},
   "outputs": [
    {
     "name": "stdout",
     "output_type": "stream",
     "text": [
      "set()\n"
     ]
    }
   ],
   "source": [
    "set_buah = {'Jeruk','Apel','Anggur'}\n",
    "set_buah.clear()\n",
    "print(set_buah)"
   ]
  },
  {
   "cell_type": "markdown",
   "metadata": {},
   "source": [
    "<li><b><code>.copy()</code></b>: Mengembalikan copy dari setiap elemen dalam set.</li>"
   ]
  },
  {
   "cell_type": "code",
   "execution_count": 26,
   "metadata": {},
   "outputs": [
    {
     "name": "stdout",
     "output_type": "stream",
     "text": [
      "{'Jeruk', 'Kiwi', 'Apel', 'Anggur'}\n",
      "{'Jeruk', 'Melon', 'Apel', 'Anggur'}\n"
     ]
    }
   ],
   "source": [
    "set_buah1 = {'Jeruk','Apel','Anggur'}\n",
    "set_buah2 = set_buah1.copy()\n",
    "set_buah3 = set_buah1\n",
    "set_buah2.add('Melon')                          # hanya menambahkan item 'Melon' pada set_buah2\n",
    "set_buah3.add('Kiwi')                           # item 'Kiwi' akan ditambahkan pada set_buah3 dan set_buah1\n",
    "print(set_buah1)\n",
    "print(set_buah2)"
   ]
  },
  {
   "cell_type": "markdown",
   "metadata": {},
   "source": [
    "<li><b><code>.update()</code></b>: Menambahkan elemen dari suatu set dengan set lainnya.</li>"
   ]
  },
  {
   "cell_type": "code",
   "execution_count": 27,
   "metadata": {},
   "outputs": [
    {
     "name": "stdout",
     "output_type": "stream",
     "text": [
      "{'Apel', 'Jeruk', 'Anggur', 'Kiwi', 'Melon'}\n"
     ]
    }
   ],
   "source": [
    "parcel1 = {'Anggur','Apel','Jeruk'}\n",
    "parcel2 = {'Apel','Kiwi','Melon'}\n",
    "parcel1.update(parcel2)                        # set tidak menerima duplicate value, maka 'Apel' hanya akan muncul 1 kali\n",
    "print(parcel1)"
   ]
  },
  {
   "cell_type": "markdown",
   "metadata": {},
   "source": [
    "<li><b><code>.pop()</code></b>: Menghilangkan elemen dari sebuah set secara acak..</li>"
   ]
  },
  {
   "cell_type": "code",
   "execution_count": 28,
   "metadata": {},
   "outputs": [
    {
     "name": "stdout",
     "output_type": "stream",
     "text": [
      "Apel\n",
      "{'Jeruk', 'Anggur'}\n"
     ]
    }
   ],
   "source": [
    "parcel = {'Anggur','Apel','Jeruk'}\n",
    "buah = parcel.pop()\n",
    "print(buah)\n",
    "print(parcel)"
   ]
  },
  {
   "cell_type": "markdown",
   "metadata": {},
   "source": [
    "<li><b><code>.remove()</code></b>: Menghilangkan elemen dengan nilai tertentu.</li>"
   ]
  },
  {
   "cell_type": "code",
   "execution_count": 29,
   "metadata": {},
   "outputs": [
    {
     "name": "stdout",
     "output_type": "stream",
     "text": [
      "{'Jeruk', 'Anggur'}\n"
     ]
    }
   ],
   "source": [
    "parcel = {'Anggur','Apel','Jeruk'}\n",
    "parcel.remove('Apel')\n",
    "print(parcel)"
   ]
  },
  {
   "cell_type": "markdown",
   "metadata": {},
   "source": [
    "<li><b><code>.union()</code></b>: Mengembalikan hasil penggabungan (union) dari dua buah set.</li>"
   ]
  },
  {
   "cell_type": "code",
   "execution_count": 30,
   "metadata": {},
   "outputs": [
    {
     "name": "stdout",
     "output_type": "stream",
     "text": [
      "{'Apel', 'Jeruk', 'Anggur'}\n",
      "{'Apel', 'Jeruk', 'Anggur', 'Kiwi', 'Melon'}\n"
     ]
    }
   ],
   "source": [
    "parcel1 = {'Anggur','Apel','Jeruk'}\n",
    "parcel2 = {'Apel','Kiwi','Melon'}\n",
    "parcel3 = parcel1.union(parcel2)\n",
    "print(parcel1)\n",
    "print(parcel3)"
   ]
  },
  {
   "cell_type": "markdown",
   "metadata": {},
   "source": [
    "<li><b><code>.isdisjoint()</code></b>: Mengembalikan nilai kebenaran apakah suatu set disjoint (saling lepas/<b>tidak mengandung elemen yang sama</b>) dengan set lainnya.</li>"
   ]
  },
  {
   "cell_type": "code",
   "execution_count": 31,
   "metadata": {},
   "outputs": [
    {
     "name": "stdout",
     "output_type": "stream",
     "text": [
      "True\n",
      "False\n"
     ]
    }
   ],
   "source": [
    "parcel1 = {'Anggur','Apel','Jeruk'}\n",
    "parcel2 = {'Kiwi','Melon','Pisang'}\n",
    "parcel3 = {'Apel','Srikaya','Semangka'}\n",
    "parcel1_parcel2_disjoint = parcel1.isdisjoint(parcel2)  # True, parcel1 tidak memiliki elemen yang sama dengan parcel2\n",
    "print(parcel1_parcel2_disjoint)\n",
    "parcel1_parcel3_disjoint = parcel1.isdisjoint(parcel3)  # False, terdapat item 'Apel' pada parcel1 dan parcel3\n",
    "print(parcel1_parcel3_disjoint)"
   ]
  },
  {
   "cell_type": "markdown",
   "metadata": {},
   "source": [
    "<li><b><code>.issubset()</code></b>: Mengembalikan nilai kebenaran apakah sebuah set merupakan subset dari set lainnya. Sebuah set A merupakan subset dari set B jika <b>seluruh elemen</b> dari set <b>A</b> merupakan <b>bagian</b> dari set <b>B</b>.</li>"
   ]
  },
  {
   "cell_type": "code",
   "execution_count": 32,
   "metadata": {},
   "outputs": [
    {
     "name": "stdout",
     "output_type": "stream",
     "text": [
      "True\n",
      "False\n"
     ]
    }
   ],
   "source": [
    "parcel_A = {'Anggur', 'Apel'}\n",
    "parcel_B = {'Durian','Semangka','Apel'}\n",
    "parcel_C = {'Anggur', 'Kiwi', 'Apel', 'Jeruk', 'Melon'}\n",
    "parcel_A_dalam_C = parcel_A.issubset(parcel_C)          # True, seluruh elemen parcel_A adalah bagian dari parcel_C\n",
    "parcel_B_dalam_C = parcel_B.issubset(parcel_C)          # False, 'Durian' dan 'Semangka' tidak ada pada parcel_C\n",
    "print(parcel_A_dalam_C)\n",
    "print(parcel_B_dalam_C)"
   ]
  },
  {
   "cell_type": "markdown",
   "metadata": {},
   "source": [
    "<li><b><code>.issuperset()</code></b>: Mengembalikan nilai kebenaran apakah sebuah set merupakan superset dari set lainnya. Sebuah set A merupakan superset dari set B jika <b>seluruh elemen</b> dari set <b>B</b> terkandung dalam set <b>A</b>.</li>"
   ]
  },
  {
   "cell_type": "code",
   "execution_count": 33,
   "metadata": {},
   "outputs": [
    {
     "name": "stdout",
     "output_type": "stream",
     "text": [
      "True\n",
      "False\n"
     ]
    }
   ],
   "source": [
    "parcel_C_mengandung_A = parcel_C.issuperset(parcel_A)   # True, terdapat elemen parcel_C pada seluruh elemen parcel_A\n",
    "parcel_C_mengandung_B = parcel_C.issuperset(parcel_B)   # False, hanya 'Apel' yang terdapat pada parcel_B\n",
    "print(parcel_C_mengandung_A)\n",
    "print(parcel_C_mengandung_B)"
   ]
  },
  {
   "cell_type": "markdown",
   "metadata": {},
   "source": [
    "<li><b><code>.intersection()</code></b>: Mengembalikan sebuah set yang merupakan intersection dari dua set lainnya.</li>"
   ]
  },
  {
   "cell_type": "code",
   "execution_count": 34,
   "metadata": {},
   "outputs": [
    {
     "name": "stdout",
     "output_type": "stream",
     "text": [
      "{'Jeruk', 'Apel'}\n"
     ]
    }
   ],
   "source": [
    "parcel_A = {'Anggur', 'Kiwi', 'Apel', 'Jeruk', 'Melon'}\n",
    "parcel_B = {'Apel', 'Jeruk', 'Semangka', 'Durian', 'Tomat'}\n",
    "parcel_C = parcel_A.intersection(parcel_B)              # 'Apel' dan 'Jeruk' adalah elemen yang terdapat pada kedua set\n",
    "print(parcel_C)"
   ]
  },
  {
   "cell_type": "markdown",
   "metadata": {},
   "source": [
    "<li><b><code>.difference()</code></b>: Mengembalikan sebuah set yang berisikan difference dari dua set lainnya. Difference dari sebuah set A berdasarkan set B adalah setiap elemen yang <b>terdapat di set A</b> tetapi <b>tidak terdapat di set B</b>.</li>"
   ]
  },
  {
   "cell_type": "code",
   "execution_count": 35,
   "metadata": {},
   "outputs": [
    {
     "name": "stdout",
     "output_type": "stream",
     "text": [
      "{'Kiwi', 'Melon', 'Anggur'}\n"
     ]
    }
   ],
   "source": [
    "parcel_C = parcel_A.difference(parcel_B)\n",
    "print(parcel_C)"
   ]
  },
  {
   "cell_type": "markdown",
   "metadata": {},
   "source": [
    "<li><b><code>.symmetric_difference()</code></b>: Mengembalikan sebuah set yang berisikan symmetric difference dari dua set lainnya. Symmetric difference dari sebuah set A dan B adalah setiap elemen dari set A yang <b>tidak terdapat di set B</b> digabungkan dengan (<b>union</b>) setiap elemen dari set B yang <b>tidak terdapat di set A</b>.</li>"
   ]
  },
  {
   "cell_type": "code",
   "execution_count": 36,
   "metadata": {},
   "outputs": [
    {
     "name": "stdout",
     "output_type": "stream",
     "text": [
      "{'Anggur', 'Leci', 'Melon', 'Semangka'}\n"
     ]
    }
   ],
   "source": [
    "parcel_A = {'Anggur', 'Apel', 'Jeruk', 'Melon'}\n",
    "parcel_B = {'Apel','Jeruk','Semangka','Leci'}\n",
    "parcel_C = parcel_A.symmetric_difference(parcel_B)      # kebalikan dari intersection\n",
    "print(parcel_C)"
   ]
  },
  {
   "cell_type": "markdown",
   "metadata": {},
   "source": [
    "<h3><a name=\"dictionary-manipulation\"></a>Dictionary Manipulation</h3>"
   ]
  },
  {
   "cell_type": "markdown",
   "metadata": {},
   "source": [
    "<li><b><code>.clear()</code></b>: Menghapus seluruh elemen dalam sebuah dictionary.</li>"
   ]
  },
  {
   "cell_type": "code",
   "execution_count": 37,
   "metadata": {},
   "outputs": [
    {
     "name": "stdout",
     "output_type": "stream",
     "text": [
      "{}\n"
     ]
    }
   ],
   "source": [
    "info_karyawan = {'nama' : 'Aksara',\n",
    "                 'nik' : '1211011',\n",
    "                 'pekerjaan' : 'Data Analyst'}\n",
    "info_karyawan.clear()\n",
    "print(info_karyawan)"
   ]
  },
  {
   "cell_type": "markdown",
   "metadata": {},
   "source": [
    "<li><b><code>.copy()</code></b>: Mengembalikan copy dari setiap elemen dalam set. Serupa dengan fitur copy() pada tipe data collections lainnya, fitur copy() <b>tidak akan mengubah nilai dari elemen asal</b> seperti fungsi assignment.</li>"
   ]
  },
  {
   "cell_type": "code",
   "execution_count": 38,
   "metadata": {},
   "outputs": [
    {
     "name": "stdout",
     "output_type": "stream",
     "text": [
      "{'nama': 'Aksara', 'nik': '1211011', 'pekerjaan': 'Data Analyst'}\n",
      "{'nama': 'Senja', 'nik': '1211056', 'pekerjaan': 'Data Analyst'}\n"
     ]
    }
   ],
   "source": [
    "info_karyawan1 = {'nama' : 'Aksara',\n",
    "                  'nik' : '1211011',\n",
    "                  'pekerjaan' : 'Data Analyst'}\n",
    "info_karyawan2 = info_karyawan1.copy()\n",
    "info_karyawan2['nama'] = 'Senja'\n",
    "info_karyawan2['nik'] = '1211056'\n",
    "print(info_karyawan1)\n",
    "print(info_karyawan2)"
   ]
  },
  {
   "cell_type": "markdown",
   "metadata": {},
   "source": [
    "<li><b><code>.keys()</code></b>: Mengembalikan list dari seluruh kunci akses (\"key\") dari setiap elemen dalam sebuah dictionary.</li>"
   ]
  },
  {
   "cell_type": "code",
   "execution_count": 39,
   "metadata": {},
   "outputs": [
    {
     "name": "stdout",
     "output_type": "stream",
     "text": [
      "['nama', 'nik', 'pekerjaan']\n"
     ]
    }
   ],
   "source": [
    "info_karyawan = {'nama' : 'Aksara',\n",
    "                 'nik' : '1211011',\n",
    "                 'pekerjaan' : 'Data Analyst'}\n",
    "kunci_akses = list(info_karyawan.keys())\n",
    "print(kunci_akses)"
   ]
  },
  {
   "cell_type": "markdown",
   "metadata": {},
   "source": [
    "<li><b><code>.values()</code></b>: Mengembalikan list dari seluruh nilai (\"value\") dari setiap elemen dalam sebuah dictionary.</li>"
   ]
  },
  {
   "cell_type": "code",
   "execution_count": 40,
   "metadata": {},
   "outputs": [
    {
     "name": "stdout",
     "output_type": "stream",
     "text": [
      "['Aksara', '1211011', 'Data Analyst']\n"
     ]
    }
   ],
   "source": [
    "value_dict = list(info_karyawan.values())\n",
    "print(value_dict)"
   ]
  },
  {
   "cell_type": "markdown",
   "metadata": {},
   "source": [
    "<li><b><code>.update()</code></b>: Menambahkan kunci akses (\"key\") dan nilai baru (\"value\") ke dalam sebuah dictionary.</li>"
   ]
  },
  {
   "cell_type": "code",
   "execution_count": 41,
   "metadata": {
    "scrolled": true
   },
   "outputs": [
    {
     "name": "stdout",
     "output_type": "stream",
     "text": [
      "{'nama': 'Aksara', 'nik': '1211011', 'pekerjaan': 'Data Analyst', 'skillset': ['Python', 'R']}\n"
     ]
    }
   ],
   "source": [
    "info_karyawan.update({'skillset':['Python', 'R']})\n",
    "print(info_karyawan)"
   ]
  },
  {
   "cell_type": "markdown",
   "metadata": {},
   "source": [
    "<h3 style=\"color:green\"><a name=\"dictionary-manipulation\"></a>Useful Tips and Tricks</h3>"
   ]
  },
  {
   "cell_type": "markdown",
   "metadata": {},
   "source": [
    "<p>Gunakan fungsi <b><code>len()</code></b> untuk mengetahui <b>jumlah data</b> yang terdapat pada list/tuple</p>"
   ]
  },
  {
   "cell_type": "code",
   "execution_count": 43,
   "metadata": {},
   "outputs": [
    {
     "name": "stdout",
     "output_type": "stream",
     "text": [
      "Jumlah data tuple_menu: 4\n",
      "Jumlah data list_menu: 4\n"
     ]
    }
   ],
   "source": [
    "tuple_menu = ('Gado-gado','Ayam Goreng','Rendang','Ketoprak')\n",
    "jumlah_menu = len(tuple_menu)\n",
    "print(\"Jumlah data tuple_menu:\", jumlah_menu)\n",
    "\n",
    "list_menu = ['Gado-gado','Ayam Goreng','Rendang','Ketoprak']\n",
    "jumlah_menu = len(list_menu)\n",
    "print(\"Jumlah data list_menu:\", jumlah_menu)"
   ]
  },
  {
   "cell_type": "markdown",
   "metadata": {},
   "source": [
    "<p>Trik untuk mendapatkan seluruh <b>list element unik</b></p>"
   ]
  },
  {
   "cell_type": "code",
   "execution_count": 44,
   "metadata": {},
   "outputs": [
    {
     "name": "stdout",
     "output_type": "stream",
     "text": [
      "{'Apel', 'Markisa', 'Jeruk'}\n",
      "['Apel', 'Jeruk', 'Markisa']\n"
     ]
    }
   ],
   "source": [
    "list_buah = ['Apel', 'Apel', 'Jeruk', 'Markisa', 'Jeruk', 'Markisa', 'Apel']\n",
    "set_buah = set(list_buah)    # convert list menjadi set untuk mendapatkan element unik\n",
    "print(set_buah)\n",
    "list_buah = list(set_buah)   # convert kembali set kedalam bentuk list\n",
    "list_buah.sort()\n",
    "print(list_buah)"
   ]
  },
  {
   "cell_type": "markdown",
   "metadata": {},
   "source": [
    "<div style=\"border: 2px solid orange;border-radius: 5px;\">\n",
    "    <b style=\"color:orange;padding:10px\">Practice!</b>\n",
    "    <div style=\"padding:25px\">\n",
    "        <li>Terdapat variable keuangan (format juta) yang berisi data:</li>\n",
    "        <ol>\n",
    "            <li>pengeluaran: 2, 2.5, 2.25, 2.5, 3.2, 2.5, 3.5, 4, 3</li>\n",
    "            <li>pemasukan: 7.8, 7.5, 9, 7.6, 7.2, 7.5, 7, 10, 7.5</li>\n",
    "        </ol>\n",
    "        <li>Dari variabel keuangan, hitung rata-rata pengeluaran dan pemasukan selama 9 bulan terakhir. </li>\n",
    "    </div>\n",
    "</div>"
   ]
  },
  {
   "cell_type": "code",
   "execution_count": 49,
   "metadata": {},
   "outputs": [
    {
     "name": "stdout",
     "output_type": "stream",
     "text": [
      "Rata-rata pengeluaran: 2.8277777777777775\n",
      "Rata-rata pemasukan: 7.8999999999999995\n"
     ]
    }
   ],
   "source": [
    "# deklarasi variable\n",
    "keuangan = {'pengeluaran': [2, 2.5, 2.25, 2.5, 3.2, 2.5, 3.5, 4, 3], \n",
    "            'pemasukan':[7.8, 7.5, 9, 7.6, 7.2, 7.5, 7, 10, 7.5]}\n",
    "\n",
    "# rata-rata pengeluran dan pemasukan\n",
    "total_pengeluaran, total_pemasukan = 0, 0\n",
    "\n",
    "for biaya in keuangan['pengeluaran']:\n",
    "    total_pengeluaran += biaya\n",
    "\n",
    "for biaya in keuangan['pemasukan']:\n",
    "    total_pemasukan += biaya\n",
    "\n",
    "rata_rata_pengeluaran = total_pengeluaran / len(keuangan['pengeluaran'])\n",
    "rata_rata_pemasukan = total_pemasukan / len(keuangan['pemasukan'])\n",
    "\n",
    "# cetak hasil\n",
    "print(\"Rata-rata pengeluaran:\", rata_rata_pengeluaran)\n",
    "print(\"Rata-rata pemasukan:\", rata_rata_pemasukan)"
   ]
  },
  {
   "cell_type": "markdown",
   "metadata": {},
   "source": [
    "<h2><a name=\"string-manipulation\"></a>Chapter 2: String Manipulation dengan Python</h2>"
   ]
  },
  {
   "cell_type": "markdown",
   "metadata": {},
   "source": [
    "<h3><a name=\"apa-itu-string-manipulation\"></a>Apa itu String Manipulation?</h3>\n",
    "\n",
    "<p>String manipulation adalah teknik yang digunakan dalam memanipulasi data yang disimpan dalam <b>tipe data str</b>. Pada bahasa Python, untuk mempermudah proses pengolahan data, tipe data string dapat diperlakukan <i>layaknya seperti tipe data list</i>.</p>"
   ]
  },
  {
   "cell_type": "code",
   "execution_count": 1,
   "metadata": {},
   "outputs": [
    {
     "name": "stdout",
     "output_type": "stream",
     "text": [
      "SePatu NiKo\n",
      "SePatu \n",
      "NiKo\n",
      "11\n"
     ]
    }
   ],
   "source": [
    "nama_produk = \"Sepatu Niko\"\n",
    "nama_produk = nama_produk[:2] + \"P\" + nama_produk[3:9] + \"K\" + nama_produk[-1]\n",
    "print(nama_produk)\n",
    "print(nama_produk[:7])\n",
    "print(nama_produk[7:])\n",
    "print(len(nama_produk))"
   ]
  },
  {
   "cell_type": "markdown",
   "metadata": {},
   "source": [
    "<b>Catatan:</b> fungsi built-in <code>len()</code> juga dapat digunakan untuk menentukan jumlah karakter pada variabel bertipe string yang dimiliki."
   ]
  },
  {
   "cell_type": "markdown",
   "metadata": {},
   "source": [
    "<p><b>Operator +</b> pada dua string akan secara otomatis menggabungkan kedua string tersebut. Operator + juga dapat digunakan untuk menambahkan beberapa string secara  sekaligus.</p>"
   ]
  },
  {
   "cell_type": "code",
   "execution_count": 2,
   "metadata": {},
   "outputs": [
    {
     "name": "stdout",
     "output_type": "stream",
     "text": [
      "John Doee\n",
      "Hi, saya John Doee umur 27 tahun, tinggal di Jl. Anggrek No. 100.\n"
     ]
    }
   ],
   "source": [
    "nama_depan = 'John'\n",
    "nama_belakang = 'Doee'\n",
    "nama_lengkap = nama_depan + ' ' + nama_belakang\n",
    "print(nama_lengkap)\n",
    "\n",
    "umur = '27 tahun'\n",
    "alamat = 'Jl. Anggrek No. 100'\n",
    "nama_umur_alamat = 'Hi, saya ' + nama_lengkap + ' umur ' + umur + ', tinggal di ' + alamat + '.'\n",
    "print(nama_umur_alamat)"
   ]
  },
  {
   "cell_type": "markdown",
   "metadata": {},
   "source": [
    "<h3><a name=\"menghilangkan-spasi\"></a>Menghilangkan Spasi di Awal dan/atau di Akhir</h3>"
   ]
  },
  {
   "cell_type": "markdown",
   "metadata": {},
   "source": [
    "<li><b><code>.strip()</code></b>: Menghilangkan kelebihan spasi pada <b>awal dan akhir</b> string.</li>"
   ]
  },
  {
   "cell_type": "code",
   "execution_count": 6,
   "metadata": {},
   "outputs": [
    {
     "name": "stdout",
     "output_type": "stream",
     "text": [
      "halo, selamat siang!\n",
      "20\n"
     ]
    }
   ],
   "source": [
    "kata_sambutan = ' halo, selamat siang!   '\n",
    "kata_sambutan = kata_sambutan.strip()\n",
    "print(kata_sambutan)\n",
    "print(len(kata_sambutan))"
   ]
  },
  {
   "cell_type": "markdown",
   "metadata": {},
   "source": [
    "<li><b><code>.lstrip()</code></b>: Menghilangkan kelebihan spasi pada <b>awal</b> string.</li>"
   ]
  },
  {
   "cell_type": "code",
   "execution_count": 8,
   "metadata": {},
   "outputs": [
    {
     "name": "stdout",
     "output_type": "stream",
     "text": [
      "halo, selamat siang!   \n",
      "23\n"
     ]
    }
   ],
   "source": [
    "kata_sambutan = ' halo, selamat siang!   '\n",
    "kata_sambutan = kata_sambutan.lstrip()\n",
    "print(kata_sambutan)\n",
    "print(len(kata_sambutan))"
   ]
  },
  {
   "cell_type": "markdown",
   "metadata": {},
   "source": [
    "<li><b><code>.rstrip()</code></b>: Menghilangkan kelebihan spasi pada <b>akhir</b> string.</li>"
   ]
  },
  {
   "cell_type": "code",
   "execution_count": 7,
   "metadata": {
    "scrolled": true
   },
   "outputs": [
    {
     "name": "stdout",
     "output_type": "stream",
     "text": [
      " halo, selamat siang!\n",
      "21\n"
     ]
    }
   ],
   "source": [
    "kata_sambutan = ' halo, selamat siang!   '\n",
    "kata_sambutan = kata_sambutan.rstrip()\n",
    "print(kata_sambutan)\n",
    "print(len(kata_sambutan))"
   ]
  },
  {
   "cell_type": "markdown",
   "metadata": {},
   "source": [
    "<h3><a name=\"mengubah-caps-pada-string\"></a>Mengubah Caps pada String</h3>"
   ]
  },
  {
   "cell_type": "markdown",
   "metadata": {},
   "source": [
    "<li><b><code>.capitalize()</code></b>: Mengubah <b>elemen pertama</b> dari string menjadi huruf <b>kapital</b>.</li>"
   ]
  },
  {
   "cell_type": "code",
   "execution_count": 9,
   "metadata": {},
   "outputs": [
    {
     "name": "stdout",
     "output_type": "stream",
     "text": [
      "Belajar bahasa python\n"
     ]
    }
   ],
   "source": [
    "judul_buku = 'belajar bahasa Python'\n",
    "print(judul_buku.capitalize())"
   ]
  },
  {
   "cell_type": "markdown",
   "metadata": {},
   "source": [
    "<li><b><code>.lower()</code></b>: Mengubah <b>seluruh huruf</b> dalam teks (string) menjadi huruf <b>kecil</b>.</li>"
   ]
  },
  {
   "cell_type": "code",
   "execution_count": 10,
   "metadata": {},
   "outputs": [
    {
     "name": "stdout",
     "output_type": "stream",
     "text": [
      "belajar bahasa python.\n"
     ]
    }
   ],
   "source": [
    "judul_buku = 'Belajar Bahasa PYTHON.'\n",
    "print(judul_buku.lower())"
   ]
  },
  {
   "cell_type": "markdown",
   "metadata": {},
   "source": [
    "<li><b><code>.upper()</code></b>: Mengubah <b>seluruh huruf</b> dalam teks (string) menjadi huruf <b>kapital</b>.</li>"
   ]
  },
  {
   "cell_type": "code",
   "execution_count": 11,
   "metadata": {},
   "outputs": [
    {
     "name": "stdout",
     "output_type": "stream",
     "text": [
      "BELAJAR BAHASA PYTHON.\n"
     ]
    }
   ],
   "source": [
    "judul_buku = 'Belajar Bahasa PYTHON.'\n",
    "print(judul_buku.upper())"
   ]
  },
  {
   "cell_type": "markdown",
   "metadata": {},
   "source": [
    "<h3><a name=\"pemecahan-penggabungan-penggantian\"></a>Pemecahan, Penggabungan, dan Penggantian String</h3>"
   ]
  },
  {
   "cell_type": "markdown",
   "metadata": {},
   "source": [
    "<li><b><code>.split()</code></b>: Memecah sebuah string berdasarkan string lainnya ke dalam sebuah list.</li>"
   ]
  },
  {
   "cell_type": "code",
   "execution_count": 12,
   "metadata": {},
   "outputs": [
    {
     "name": "stdout",
     "output_type": "stream",
     "text": [
      "['ani ', ' budi ', ' wati ', ' johan']\n",
      "['ani', 'dan', 'budi', 'dan', 'wati', 'dan', 'johan']\n"
     ]
    }
   ],
   "source": [
    "bilangan = \"ani dan budi dan wati dan johan\"\n",
    "karakter = bilangan.split(\"dan\")\n",
    "print(karakter)\n",
    "kata = bilangan.split(\" \")\n",
    "print(kata)"
   ]
  },
  {
   "cell_type": "markdown",
   "metadata": {},
   "source": [
    "<li><b><code>.join()</code></b>: Menggabungkan sebuah list yang berisikan string berdasarkan sebuah string yang telah didefinisikan.</li>"
   ]
  },
  {
   "cell_type": "code",
   "execution_count": 13,
   "metadata": {},
   "outputs": [
    {
     "name": "stdout",
     "output_type": "stream",
     "text": [
      "Ricky dan Peter dan Jordan\n"
     ]
    }
   ],
   "source": [
    "pemisah = \" dan \"\n",
    "karakter = [\"Ricky\", \"Peter\", \"Jordan\"]\n",
    "kalimat = pemisah.join(karakter)\n",
    "print(kalimat)"
   ]
  },
  {
   "cell_type": "markdown",
   "metadata": {},
   "source": [
    "<li><b><code>.replace()</code></b>: Menggantikan kemunculan suatu string tertentu dengan string lainnya dalam sebuah string.</li>"
   ]
  },
  {
   "cell_type": "code",
   "execution_count": 14,
   "metadata": {},
   "outputs": [
    {
     "name": "stdout",
     "output_type": "stream",
     "text": [
      "jeruk malang jeruk yang paling segar, jeruk sehat, jeruk nikmat\n"
     ]
    }
   ],
   "source": [
    "kalimat = \"apel malang apel yang paling segar, apel sehat, apel nikmat\"\n",
    "kalimat = kalimat.replace(\"apel\", \"jeruk\")\n",
    "print(kalimat)"
   ]
  },
  {
   "cell_type": "markdown",
   "metadata": {},
   "source": [
    "<h3><a name=\"awalan-akhiran-string\"></a>Awalan/Akhiran String</h3>"
   ]
  },
  {
   "cell_type": "markdown",
   "metadata": {},
   "source": [
    "<li><b><code>.startswith()</code></b>: Mengembalikan nilai kebenaran <b>True</b> ketika sebuah teks (string) <b>diawali</b> dengan sebuah teks lainnya.</li>"
   ]
  },
  {
   "cell_type": "code",
   "execution_count": 15,
   "metadata": {},
   "outputs": [
    {
     "name": "stdout",
     "output_type": "stream",
     "text": [
      "True\n",
      "False\n"
     ]
    }
   ],
   "source": [
    "teks = \"Apel malang adalah apel termanis dibanding apel-apel lainnya\"\n",
    "print(teks.startswith(\"Apel\"))\n",
    "print(teks.startswith(\"apel\"))"
   ]
  },
  {
   "cell_type": "markdown",
   "metadata": {},
   "source": [
    "<li><b><code>.endswith()</code></b>: Mengembalikan nilai kebenaran <b>True</b> ketika sebuah teks (string) <b>diakhiri</b> dengan sebuah teks lainnya.</li>"
   ]
  },
  {
   "cell_type": "code",
   "execution_count": 17,
   "metadata": {
    "scrolled": true
   },
   "outputs": [
    {
     "name": "stdout",
     "output_type": "stream",
     "text": [
      "True\n",
      "False\n"
     ]
    }
   ],
   "source": [
    "print(teks.endswith(\"lainnya\"))\n",
    "print(teks.endswith(\"lainnya.\"))"
   ]
  },
  {
   "cell_type": "markdown",
   "metadata": {},
   "source": [
    "<h3><a name=\"posisi-dan-jumlah\"></a>Menentukan Posisi dan Jumlah Sub-string pada String</h3>"
   ]
  },
  {
   "cell_type": "markdown",
   "metadata": {},
   "source": [
    "<li><b><code>.find()</code></b>: Mengembalikan posisi dari sebuah teks (sub-string) lainnya dalam sebuah string.</li>"
   ]
  },
  {
   "cell_type": "code",
   "execution_count": 18,
   "metadata": {},
   "outputs": [
    {
     "name": "stdout",
     "output_type": "stream",
     "text": [
      "0\n",
      "5\n"
     ]
    }
   ],
   "source": [
    "teks = \"Apel malang adalah apel termanis dibanding apel-apel lainnya\"\n",
    "print(teks.find(\"Apel\"))\n",
    "print(teks.find(\"malang\"))"
   ]
  },
  {
   "cell_type": "markdown",
   "metadata": {},
   "source": [
    "<li><b><code>.count()</code></b>: Menghitung jumlah kemunculan sebuah teks (string) lainnya dalam suatu string (string yang dicari bersifat <b>case sensitive</b>).</li>"
   ]
  },
  {
   "cell_type": "code",
   "execution_count": 19,
   "metadata": {},
   "outputs": [
    {
     "name": "stdout",
     "output_type": "stream",
     "text": [
      "3\n"
     ]
    }
   ],
   "source": [
    "kemunculan_kata_apel = teks.count(\"apel\")\n",
    "print(kemunculan_kata_apel)"
   ]
  },
  {
   "cell_type": "markdown",
   "metadata": {},
   "source": [
    "<div style=\"border: 2px solid orange;border-radius: 5px;\">\n",
    "    <b style=\"color:orange;padding:10px\">Practice!</b>\n",
    "    <div style=\"padding:25px\">\n",
    "        <p>Terdapat variable judul_artikel yang berisikan data:</p>\n",
    "<code>\"Buah Salak Baik untuk Mata\", \"Buah Salak Kaya Potasium\",\n",
    "\"Buah Jeruk Kaya Vitamin C\", \"Buah Salak Kaya Manfaat\",\n",
    "\"Salak Baik untuk Jantung\", \"Jeruk dapat Memperkuat Tulang\",\n",
    "\"Jeruk Mencegah Penyakit Asma\", \"Jeruk Memperkuat Gigi\",\n",
    "\"Jeruk Mencegah Kolesterol Jahat\", \"Salak Mencegah Diabetes\",\n",
    "\"Salak Memperkuat Dinding Usus\", \"Salak Baik untuk Darah\",\n",
    "\"Jeruk Kaya Manfaat untuk Jantung\", \"Salak si Kecil yang Baik\",\n",
    "\"Jeruk dan Salak Buah Kaya Manfaat\", \"Buah Jeruk Enak\",\n",
    "\"Tips Panen Jeruk Ribuan Kilo\", \"Tips Bertanam Salak\",\n",
    "\"Salak Manis untuk Berbuka\", \"Jeruk Baik untuk Wajah\"</code>\n",
    "        <li>Hitung jumlah kemunculan kata jeruk dan salak di tiap judul artikel,</li>\n",
    "        <li>Deklarasikan daftar bernama kata_positif yang berisi nuansa kata positif seperti \"Kaya\", \"Baik\", \"Mencegah\" dan \"Memperkuat\" untuk menghitung jumlah kemunculan kata_positif bagi tiap artikel jeruk dan salak</li>\n",
    "    </div>\n",
    "</div>"
   ]
  },
  {
   "cell_type": "code",
   "execution_count": 22,
   "metadata": {},
   "outputs": [
    {
     "name": "stdout",
     "output_type": "stream",
     "text": [
      "Jumlah kata Jeruk: 10\n",
      "Jumlah kata Salak: 11\n",
      "Artikel positif untuk Jeruk: 8\n",
      "Artikel positif untuk Salak: 9\n"
     ]
    }
   ],
   "source": [
    "judul_artikel = [\n",
    "\"Buah Salak Baik untuk Mata\", \"Buah Salak Kaya Potasium\",\n",
    "\"Buah Jeruk Kaya Vitamin C\", \"Buah Salak Kaya Manfaat\",\n",
    "\"Salak Baik untuk Jantung\", \"Jeruk dapat Memperkuat Tulang\",\n",
    "\"Jeruk Mencegah Penyakit Asma\", \"Jeruk Memperkuat Gigi\",\n",
    "\"Jeruk Mencegah Kolesterol Jahat\", \"Salak Mencegah Diabetes\",\n",
    "\"Salak Memperkuat Dinding Usus\", \"Salak Baik untuk Darah\",\n",
    "\"Jeruk Kaya Manfaat untuk Jantung\", \"Salak si Kecil yang Baik\",\n",
    "\"Jeruk dan Salak Buah Kaya Manfaat\", \"Buah Jeruk Enak\",\n",
    "\"Tips Panen Jeruk Ribuan Kilo\", \"Tips Bertanam Salak\",\n",
    "\"Salak Manis untuk Berbuka\", \"Jeruk Baik untuk Wajah\"]\n",
    "\n",
    "jumlah_artikel_jeruk, jumlah_artikel_salak = 0, 0\n",
    "\n",
    "for judul in judul_artikel:\n",
    "    if judul.count(\"Jeruk\") > 0:                                # jika kata 'Jeruk' ditemukan lebih dari 0\n",
    "        jumlah_artikel_jeruk += 1\n",
    "    if judul.count(\"Salak\") > 0:                                # jika kata 'Salak' ditemukan lebih dari 0\n",
    "        jumlah_artikel_salak += 1\n",
    "\n",
    "print(\"Jumlah kata Jeruk:\", jumlah_artikel_jeruk)\n",
    "print(\"Jumlah kata Salak:\", jumlah_artikel_salak)\n",
    "\n",
    "kata_positif = [\"Kaya\", \"Baik\", \"Mencegah\", \"Memperkuat\"]\n",
    "kata_positif_jeruk, kata_positif_salak = 0, 0\n",
    "\n",
    "for judul in judul_artikel:                                     # loop untuk setiap data pada judul_artikel\n",
    "    for kata in kata_positif:                                   # loop untuk setiap kata kata_positif pada judul\n",
    "        if judul.count(\"Jeruk\") > 0 and judul.count(kata) > 0:  # jika ditemukan 1 atau lebih kata 'Jeruk' dan kata positif\n",
    "            kata_positif_jeruk += 1\n",
    "        if judul.count(\"Salak\") > 0 and judul.count(kata) > 0:  # jika ditemukan 1 atau lebih kata 'Salak' dan kata positif\n",
    "            kata_positif_salak += 1\n",
    "\n",
    "print(\"Artikel positif untuk Jeruk:\", kata_positif_jeruk) \n",
    "print(\"Artikel positif untuk Salak:\", kata_positif_salak)"
   ]
  },
  {
   "cell_type": "markdown",
   "metadata": {},
   "source": [
    "<h2><a name=\"functions\"></a>Chapter 3: Functions</h2>"
   ]
  },
  {
   "cell_type": "markdown",
   "metadata": {},
   "source": [
    "<p>Function adalah sebuah blok statemen yang hanya akan dijalankan saat ia dipanggil.</p>\n",
    "\n",
    "<p>Fungsi <code>len()</code> untuk mengukur jumlah elemen dalam sebuah list dan fungsi <code>print()</code> untuk menampilkan pesan pada layar konsol merupakan contoh dari bentuk fungsi yang telah disediakan oleh bahasa pemrograman Python atau dengan kata lain <b><i>built-in functions</i></b>.</p>\n",
    "\n",
    "<p>Selain fungsi yang telah disediakan oleh Python, Kita dapat mendeklarasikan fungsi dalam kode yang aku tuliskan yang dikenal dengan <b><i>user defined function</i></b>.</p>"
   ]
  },
  {
   "cell_type": "code",
   "execution_count": 23,
   "metadata": {},
   "outputs": [
    {
     "name": "stdout",
     "output_type": "stream",
     "text": [
      "Halo Dunia\n",
      "Aku sedang belajar bahasa Python\n"
     ]
    }
   ],
   "source": [
    "# contoh fungsi dengan statement pada body (isi)\n",
    "def contoh_fungsi():\n",
    "    print(\"Halo Dunia\")\n",
    "    print(\"Aku sedang belajar bahasa Python\")\n",
    "\n",
    "contoh_fungsi()"
   ]
  },
  {
   "cell_type": "code",
   "execution_count": 24,
   "metadata": {},
   "outputs": [
    {
     "name": "stdout",
     "output_type": "stream",
     "text": [
      "John Doe\n"
     ]
    }
   ],
   "source": [
    "# contoh fungsi dengan argumen\n",
    "def fungsi_dengan_argumen(nama_depan, nama_belakang):\n",
    "    print(nama_depan+\" \"+nama_belakang)\n",
    "\n",
    "fungsi_dengan_argumen(\"John\", \"Doe\")"
   ]
  },
  {
   "cell_type": "code",
   "execution_count": 25,
   "metadata": {},
   "outputs": [
    {
     "name": "stdout",
     "output_type": "stream",
     "text": [
      "John \n",
      "John Doe\n"
     ]
    }
   ],
   "source": [
    "# fungsi dengan argumen nilai default(opsional)\n",
    "def fungsi_dengan_argumen(nama_depan, nama_belakang = \"\"):\n",
    "    print(nama_depan+\" \"+nama_belakang)\n",
    "\n",
    "fungsi_dengan_argumen(\"John\")         # pemanggilan fungsi tanpa mengganti nilai default\n",
    "fungsi_dengan_argumen(\"John\", \"Doe\")  # pemanggilan fungsi dengan mengganti nilai default"
   ]
  },
  {
   "cell_type": "markdown",
   "metadata": {},
   "source": [
    "<div style=\"border: 2px solid orange;border-radius: 5px;\">\n",
    "    <b style=\"color:orange;padding:10px\">Practice!</b>\n",
    "    <div style=\"padding:25px\">\n",
    "        <p>Hitung rata-rata dan standar deviasi dari data berikut</p>\n",
    "<code>data1 = [70, 70, 70, 100, 100, 100, 120, 120, 150, 150]\n",
    "data2 = [50, 60, 60, 50, 70, 70, 100, 80, 100, 90]</code>\n",
    "    </div>\n",
    "</div>"
   ]
  },
  {
   "cell_type": "code",
   "execution_count": 27,
   "metadata": {
    "scrolled": true
   },
   "outputs": [
    {
     "name": "stdout",
     "output_type": "stream",
     "text": [
      "Rata-rata data1: 105.0\n",
      "Rata-rata data2: 73.0\n",
      "Standar deviasi data1: 14.93311056335886\n",
      "Standar deviasi data2: 6.025948374480153\n"
     ]
    }
   ],
   "source": [
    "# Dua buah data yang tersimpan dalam tipe list\n",
    "data1 = [70, 70, 70, 100, 100, 100, 120, 120, 150, 150]\n",
    "data2 = [50, 60, 60, 50, 70, 70, 100, 80, 100, 90]\n",
    "\n",
    "# Definisikan fungsi hitng_rata_rata\n",
    "def hitung_rata_rata(data):\n",
    "    jumlah = 0\n",
    "    for item in data:\n",
    "        jumlah += item\n",
    "    rata_rata = jumlah/len(data)\n",
    "    return rata_rata\n",
    "\n",
    "# Definisikan fungsi hitung_standar_deviasi\n",
    "def hitung_standar_deviasi(data):\n",
    "    rata_rata_data = hitung_rata_rata(data)\n",
    "    varians = 0\n",
    "    for item in data:\n",
    "        varians += (item - rata_rata_data) ** 2\n",
    "        varians /= len(data)\n",
    "    standar_deviasi = varians ** (1/2)\n",
    "    return standar_deviasi\n",
    "\n",
    "# Hitung nilai rata-rata dari kedua data yang dimiliki\n",
    "print('Rata-rata data1:', hitung_rata_rata(data1))\n",
    "print('Rata-rata data2:', hitung_rata_rata(data2))\n",
    "\n",
    "# Hitung nilai standar deviasi dari kedua data yang dimiliki\n",
    "print('Standar deviasi data1:', hitung_standar_deviasi(data1))\n",
    "print('Standar deviasi data2:', hitung_standar_deviasi(data2))"
   ]
  },
  {
   "cell_type": "markdown",
   "metadata": {},
   "source": [
    "<div style=\"border: 2px solid orange;border-radius: 5px;\">\n",
    "    <b style=\"color:orange;padding:10px\">Practice!</b>\n",
    "    <div style=\"padding:25px\">\n",
    "        <p>Hitung rata-rata dan standar deviasi dari data berikut</p>\n",
    "        <table>\n",
    "            <thead>\n",
    "                <th>Luas Tanah (dalam m2)</th>\n",
    "                <th>Luas Bangunan (dalam m2)</th>\n",
    "                <th>Jarak ke Pusat Kota (dalam km)</th>\n",
    "                <th>Harga (dalam ratus juta)</th>\n",
    "            </thead>\n",
    "            <tbody>\n",
    "                <tr>\n",
    "                    <td>70</td>\n",
    "                    <td>50</td>\n",
    "                    <td>15</td>\n",
    "                    <td>500</td>\n",
    "                </tr>\n",
    "                <tr>\n",
    "                    <td>70</td>\n",
    "                    <td>60</td>\n",
    "                    <td>30</td>\n",
    "                    <td>400</td>\n",
    "                </tr>\n",
    "                <tr>\n",
    "                    <td>70</td>\n",
    "                    <td>60</td>\n",
    "                    <td>55</td>\n",
    "                    <td>300</td>\n",
    "                </tr>\n",
    "                <tr>\n",
    "                    <td>100</td>\n",
    "                    <td>50</td>\n",
    "                    <td>30</td>\n",
    "                    <td>700</td>\n",
    "                </tr>\n",
    "                <tr>\n",
    "                    <td>100</td>\n",
    "                    <td>70</td>\n",
    "                    <td>25</td>\n",
    "                    <td>1000</td>\n",
    "                </tr>\n",
    "                <tr>\n",
    "                    <td>100</td>\n",
    "                    <td>70</td>\n",
    "                    <td>50</td>\n",
    "                    <td>650</td>\n",
    "                </tr>\n",
    "                <tr>\n",
    "                    <td>120</td>\n",
    "                    <td>100</td>\n",
    "                    <td>20</td>\n",
    "                    <td>2000</td>\n",
    "                </tr>\n",
    "                <tr>\n",
    "                    <td>120</td>\n",
    "                    <td>80</td>\n",
    "                    <td>50</td>\n",
    "                    <td>1200</td>\n",
    "                </tr>\n",
    "                <tr>\n",
    "                    <td>150</td>\n",
    "                    <td>100</td>\n",
    "                    <td>50</td>\n",
    "                    <td>1800</td>\n",
    "                </tr>\n",
    "                <tr>\n",
    "                    <td>150</td>\n",
    "                    <td>90</td>\n",
    "                    <td>15</td>\n",
    "                    <td>3000</td>\n",
    "                </tr>\n",
    "            </tbody>\n",
    "        </table>\n",
    "        <li>Deklarasikan fungsi baru dengan nama variabel deksripsi_properti.</li>\n",
    "        <li>Representasikan data ke dalam dict dengan nama tabel_properti.</li>\n",
    "    </div>\n",
    "</div>"
   ]
  },
  {
   "cell_type": "code",
   "execution_count": 28,
   "metadata": {},
   "outputs": [
    {
     "name": "stdout",
     "output_type": "stream",
     "text": [
      "Rata-rata luas_tanah:\n",
      "105.0\n",
      "Standar deviasi luas_tanah:\n",
      "14.93311056335886\n",
      "\n",
      "Rata-rata luas_bangunan:\n",
      "73.0\n",
      "Standar deviasi luas_bangunan:\n",
      "6.025948374480153\n",
      "\n",
      "Rata-rata jarak:\n",
      "34.0\n",
      "Standar deviasi jarak:\n",
      "6.24005184770928\n",
      "\n",
      "Rata-rata harga:\n",
      "1155.0\n",
      "Standar deviasi harga:\n",
      "587.0594351517378\n",
      "\n"
     ]
    }
   ],
   "source": [
    "# Data properti\n",
    "tabel_properti = {\n",
    "    'luas_tanah': [70, 70, 70, 100, 100, 100, 120, 120, 150, 150],\n",
    "    'luas_bangunan': [50, 60, 60, 50, 70, 70, 100, 80, 100, 90],\n",
    "    'jarak': [15, 30, 55, 30, 25, 50, 20, 50, 50, 15],\n",
    "    'harga': [500, 400, 300, 700, 1000, 650, 2000, 1200, 1800, 3000]}\n",
    "\n",
    "# Fungsi rata-rata data\n",
    "def hitung_rata_rata(data):\n",
    "    jumlah = 0\n",
    "    for item in data:\n",
    "        jumlah += item\n",
    "    rata_rata = jumlah/len(data)\n",
    "    return rata_rata\n",
    "\n",
    "# Fungsi hitung_standar_deviasi\n",
    "def hitung_standar_deviasi(data):\n",
    "    rata_rata_data = hitung_rata_rata(data)\n",
    "    varians = 0\n",
    "    for item in data:\n",
    "        varians += (item - rata_rata_data) ** 2\n",
    "        varians /= len(data)\n",
    "    standar_deviasi = varians ** (1/2)\n",
    "    return standar_deviasi\n",
    "\n",
    "# Definisikan fungsi untuk menghitung rata-rata dan standar deviasi\n",
    "# setiap kolom pada tabel_properti yang diberikan oleh key dict.\n",
    "def deskripsi_properti(tabel):\n",
    "    for key in tabel.keys():\n",
    "        print('Rata-rata ' + key + ':')\n",
    "        print(hitung_rata_rata(tabel[key])) \n",
    "        print('Standar deviasi ' + key + ':')\n",
    "        print(hitung_standar_deviasi(tabel[key]))\n",
    "        print('')\n",
    "\n",
    "# Panggil fungsi deskripsi_properti untuk menghitung rata-rata \n",
    "# dan standar deviasi setiap kolom pada tabel_properti\n",
    "deskripsi_properti(tabel_properti)"
   ]
  },
  {
   "cell_type": "markdown",
   "metadata": {},
   "source": [
    "<h2><a name=\"manipulasi-teks\"></a>Chapter 4: Manipulasi Berkas Teks dan Library Matematika pada Python</h2>"
   ]
  },
  {
   "cell_type": "markdown",
   "metadata": {},
   "source": [
    "<h3><a name=\"conditioning-for-decision\"></a>Conditioning for Decision</h3>"
   ]
  },
  {
   "cell_type": "markdown",
   "metadata": {},
   "source": [
    "pada perulangan di python juga terdapat <b>nested loops</b>, yaitu pengulangan bersarang. Dengan nested loops, aku dapat mengkombinasikan (menambahkan) struktur pengulangan lain di dalamnya."
   ]
  },
  {
   "cell_type": "code",
   "execution_count": 40,
   "metadata": {
    "scrolled": true
   },
   "outputs": [
    {
     "name": "stdout",
     "output_type": "stream",
     "text": [
      "Apel Malang\n",
      "Duku Malang\n",
      "Jeruk Malang\n",
      "Apel Palembang\n",
      "Duku Palembang\n",
      "Jeruk Palembang\n",
      "Apel Medan\n",
      "Duku Medan\n",
      "Jeruk Medan\n"
     ]
    }
   ],
   "source": [
    "list_daerah = ['Malang', 'Palembang', 'Medan']\n",
    "list_buah = ['Apel', 'Duku', 'Jeruk']\n",
    "\n",
    "for nama_daerah in list_daerah:           # lakukan perulangan sebanyak data pada list_daerah\n",
    "    for nama_buah in list_buah:           # lakukan perulangan sebanyak data pada list_buah untuk setiap list_daerah\n",
    "        print(nama_buah+\" \"+nama_daerah)"
   ]
  },
  {
   "cell_type": "markdown",
   "metadata": {},
   "source": [
    "<div style=\"border: 2px solid orange;border-radius: 5px;\">\n",
    "    <b style=\"color:orange;padding:10px\">Practice!</b>\n",
    "    <div style=\"padding:25px\">\n",
    "        <p>Buat program untuk mengolah sebuah list yang bernama list_cash_flow yang berisikan data:</p>\n",
    "        <code>2500000, 5000000, -1000000, -2500000, 5000000, 10000000, -5000000, 7500000, 10000000, -1500000, 25000000, -2500000</code>\n",
    "        <p>Setiap elemen dari list_cash_flow berisikan pengeluaran (bilangan negatif) dan pemasukan (bilangan positif) pada perusahaan.</p>\n",
    "        <p>Dari list_cash_flow tersebut, hitung total_pengeluaran dan total_pemasukan perusahaan.</p>\n",
    "    </div>\n",
    "</div>"
   ]
  },
  {
   "cell_type": "code",
   "execution_count": 41,
   "metadata": {},
   "outputs": [
    {
     "name": "stdout",
     "output_type": "stream",
     "text": [
      "12500000\n",
      "65000000\n"
     ]
    }
   ],
   "source": [
    "list_cash_flow = [2500000, 5000000, -1000000, -2500000, 5000000, 10000000,\n",
    "                  -5000000, 7500000, 10000000, -1500000, 25000000, -2500000]\n",
    "total_pengeluaran, total_pemasukan = 0, 0\n",
    "\n",
    "for dana in list_cash_flow:\n",
    "    if dana > 0:\n",
    "        total_pemasukan += dana       # jumlahkan dana yang bernilai positif sebagai pemasukan\n",
    "    else:\n",
    "        total_pengeluaran += dana     # jumlahkan dana yang bernilai negatif sebagai pengeluaran\n",
    "\n",
    "total_pengeluaran *= -1               # kembalikan nilai pengeluaran sebagai nilai positif\n",
    "print(total_pengeluaran) \n",
    "print(total_pemasukan)"
   ]
  },
  {
   "cell_type": "markdown",
   "metadata": {},
   "source": [
    "<h2><a name=\"mini-quiz\"></a>Chapter 5: Mini Quiz</h2>"
   ]
  },
  {
   "cell_type": "markdown",
   "metadata": {},
   "source": [
    "<div style=\"border: 2px solid orange;border-radius: 5px;\">\n",
    "    <b style=\"color:orange;padding:10px\">Ekspedisi Pamanku</b>\n",
    "    <div style=\"padding:25px\">\n",
    "        <p>Aku menyambar ponsel di meja dan membuka pesan singkat dari paman tempo hari yang menjelaskan jika paman harus mengeluarkan uang sebesar <b>1,5 juta</b> per mobil dalam sehari. Tapi, beliau selalu kebingungan total pengeluaran per bulan karena adanya aturan ganjil-genap yang membuat pengoperasian mobil yang berbeda.<p>\n",
    "        <p>Kalau begitu, aku akan masukkan variabel <b>jumlah_hari</b> berisi jumlah hari dalam sebulan dan variabel <b>list_plat_nomor</b> berisi seluruh nomor plat mobil milik paman,” gumamku sendiri. Kalau seperti ini paman hanya perlu mengganti variabel <b>jumlah_hari</b> atau modifikasi variabel <b>list_plat_nomor</b> untuk melacak total pengeluaran paman selama sebulan. Ide Cemerlang!</p>\n",
    "    </div>\n",
    "</div>"
   ]
  },
  {
   "cell_type": "code",
   "execution_count": 42,
   "metadata": {},
   "outputs": [
    {
     "name": "stdout",
     "output_type": "stream",
     "text": [
      "163500000\n"
     ]
    }
   ],
   "source": [
    "uang_jalan = 1500000\n",
    "jumlah_hari = 31\n",
    "list_plat_nomor = [8993, 2198, 2501, 2735, 3772, 4837, 9152]\n",
    "kendaraan_genap, kendaraan_ganjil = 0, 0\n",
    "\n",
    "# Pengecekan kendaraan dengan nomor pelat ganjil atau genap \n",
    "for plat_nomor in list_plat_nomor:\n",
    "    if plat_nomor % 2 == 0:\n",
    "        kendaraan_genap += 1\n",
    "    else:\n",
    "        kendaraan_ganjil += 1\n",
    "\n",
    "# Total pengeluaran untuk kendaraan dengan nomor pelat ganjil dan genap dalam 1 bulan\n",
    "i = 1\n",
    "total_pengeluaran = 0\n",
    "while i <= jumlah_hari:\n",
    "    if i % 2 == 0:\n",
    "        total_pengeluaran += (kendaraan_genap * uang_jalan)\n",
    "    else:\n",
    "        total_pengeluaran += (kendaraan_ganjil * uang_jalan)\n",
    "    i += 1\n",
    "\n",
    "print(total_pengeluaran)"
   ]
  },
  {
   "cell_type": "code",
   "execution_count": null,
   "metadata": {},
   "outputs": [],
   "source": []
  }
 ],
 "metadata": {
  "kernelspec": {
   "display_name": "Python 3",
   "language": "python",
   "name": "python3"
  },
  "language_info": {
   "codemirror_mode": {
    "name": "ipython",
    "version": 3
   },
   "file_extension": ".py",
   "mimetype": "text/x-python",
   "name": "python",
   "nbconvert_exporter": "python",
   "pygments_lexer": "ipython3",
   "version": "3.8.3"
  }
 },
 "nbformat": 4,
 "nbformat_minor": 4
}
