{
 "cells": [
  {
   "cell_type": "markdown",
   "metadata": {},
   "source": [
    "# Python for Data Professional Beginner - Part 2"
   ]
  },
  {
   "cell_type": "markdown",
   "metadata": {},
   "source": [
    "<p><b>About :</b> Memperkenalkan dasar bahasa pemograman Python, penjelasan mengenai syntax dan fungsi built-in yang perlu dikuasai untuk memanipulasi list, tuple, set, dictionary dan string pada Python. Serta, teknik membuat suatu fungsi yang didefinisikan sendiri tujuan penggunaannya dan dapat diakses untuk kebutuhan yang diinginkan nantinya.</p>\n",
    "\n",
    "<p><b>Course :</b> <a href=https://academy.dqlab.id/main/package/practice/160?pf=0>Python for Data Professional Beginner - Part 2</a></p>"
   ]
  },
  {
   "cell_type": "markdown",
   "metadata": {},
   "source": [
    "<h2>Module Content:</h2>\n",
    "\n",
    "<div class=\"alert alert-block alert-info\" style=\"margin-top: 20px\">\n",
    "    <ul>\n",
    "        <li><a href=\"#collection-manipulation\">Collection Manipulation dengan Python</a></li>\n",
    "        <ul>\n",
    "            <li><a href=\"#apa-itu-collection-manipulation\">Apa itu Collection Manipulation?</a></li>\n",
    "            <li><a href=\"#list-manipulation\">List Manipulation</a></li>\n",
    "            <li><a href=\"#tuple-manipulation\">Tuple Manipulation</a></li>\n",
    "            <li><a href=\"#set-manipulation\">Set Manipulation</a></li>\n",
    "            <li><a href=\"#dictionary-manipulation\">Dictionary Manipulation</a></li>\n",
    "        </ul>\n",
    "        <li><a href=\"#string-manipulation\">String Manipulation dengan Python</a></li>\n",
    "        <ul>\n",
    "            <li><a href=\"#\"></a></li>\n",
    "            <li><a href=\"#\"></a></li>\n",
    "            <li><a href=\"#\"></a></li>\n",
    "        </ul>\n",
    "        <li><a href=\"#functions\">Functions</a></li>\n",
    "        <ul>\n",
    "            <li><a href=\"#\"></a></li>\n",
    "            <li><a href=\"#\"></a></li>\n",
    "            <li><a href=\"#\"></a></li>\n",
    "        </ul>\n",
    "        <li><a href=\"#manipulasi-teks\">Manipulasi Berkas Teks dan Library Matematika pada Python</a></li>\n",
    "        <ul>\n",
    "            <li><a href=\"#\"></a></li>\n",
    "            <li><a href=\"#\"></a></li>\n",
    "            <li><a href=\"#\"></a></li>\n",
    "        </ul>\n",
    "        <li><a href=\"#mini-quiz\">Mini Quiz</a></li>\n",
    "    </ul>\n",
    "</div>"
   ]
  },
  {
   "cell_type": "markdown",
   "metadata": {},
   "source": [
    "<h2><a name=\"collection-manipulation\"></a>Chapter 1: Collection Manipulation dengan Python</h2>"
   ]
  },
  {
   "cell_type": "markdown",
   "metadata": {},
   "source": [
    "<h3><a name=\"apa-itu-collection-manipulation\"></a>Apa itu Collection Manipulation?</h3>\n",
    "\n",
    "<p>Collections manipulation adalah salah satu teknik yang penting untuk dikuasai setiap programmer. Melalui penguasaan materi collections  manipulation, kita dapat <b>mengolah berbagai tipe data</b> collections dalam Python yang meliputi: <b>list</b>, <b>tuple</b>, <b>set</b> dan <b>dictionary</b>.</p>"
   ]
  },
  {
   "cell_type": "markdown",
   "metadata": {},
   "source": [
    "<li><b>Mengakses List dan Tuple</b></li>\n",
    "\n",
    "<p>Index pada tipe data list dan tuple dimulai dari angka 0.</p>"
   ]
  },
  {
   "cell_type": "code",
   "execution_count": 1,
   "metadata": {},
   "outputs": [
    {
     "name": "stdout",
     "output_type": "stream",
     "text": [
      "Januari\n",
      "Juni\n",
      "Desember\n",
      "November\n"
     ]
    }
   ],
   "source": [
    "bulan_pembelian = ('Januari', 'Februari', 'Maret', 'April', 'Mei', 'Juni', 'Juli', 'Agustus', 'September', 'Oktober', 'November', 'Desember')\n",
    "\n",
    "# akses data dari urutan depan\n",
    "print(bulan_pembelian[0])\n",
    "print(bulan_pembelian[5])\n",
    "\n",
    "# akses data dari urutan belakang\n",
    "print(bulan_pembelian[-1])\n",
    "print(bulan_pembelian[-2])"
   ]
  },
  {
   "cell_type": "markdown",
   "metadata": {},
   "source": [
    "<li><b>Slicing List dan Tuple</b></li>\n",
    "\n",
    "<p>Kita juga dapat memotong (<i>slicing</i>) list/tuple dengan menggunakan rentangan nilai indeks (<i>range of index</i>).</p>"
   ]
  },
  {
   "cell_type": "code",
   "execution_count": 9,
   "metadata": {},
   "outputs": [
    {
     "name": "stdout",
     "output_type": "stream",
     "text": [
      "('Mei', 'Juni', 'Juli', 'Agustus')\n",
      "('Januari', 'Februari', 'Maret', 'April', 'Mei')\n",
      "('September', 'Oktober', 'November', 'Desember')\n",
      "('September', 'Oktober', 'November')\n"
     ]
    }
   ],
   "source": [
    "bulan_pembelian = ('Januari', 'Februari', 'Maret', 'April', 'Mei', 'Juni', 'Juli', 'Agustus', 'September', 'Oktober', 'November', 'Desember')\n",
    "\n",
    "pertengahan_tahun = bulan_pembelian[4:8] # akses data dari indeks 4 sampai indeks 8-1 (data ke 8/ indeks 7)\n",
    "print(pertengahan_tahun)\n",
    "\n",
    "awal_tahun = bulan_pembelian[:5]         # akses data dari data pertama hingga indeks 5-1 (data ke 5/ indeks 4)\n",
    "print(awal_tahun)\n",
    "\n",
    "akhir_tahun = bulan_pembelian[8:]        # akses data dari indeks 8 hingga data terakhir\n",
    "print(akhir_tahun)\n",
    "\n",
    "print(bulan_pembelian[-4:-1])            # akses data ke 4 dari belakang hingga sebelum data terakhir"
   ]
  },
  {
   "cell_type": "markdown",
   "metadata": {},
   "source": [
    "<li><b>Menggabungkan List/Tuple</b></li>\n",
    "\n",
    "<p>Menggabungkan isi dari suatu list (ataupun tuple) dengan list lainnya (dengan tuple lainnya) dengan menggunakan operator penambahan (+).</p>"
   ]
  },
  {
   "cell_type": "code",
   "execution_count": 10,
   "metadata": {},
   "outputs": [
    {
     "name": "stdout",
     "output_type": "stream",
     "text": [
      "['Gado-gado', 'Ayam Goreng', 'Rendang', 'Es Teh', 'Es Jeruk', 'Es Campur']\n"
     ]
    }
   ],
   "source": [
    "list_makanan = ['Gado-gado', 'Ayam Goreng', 'Rendang']\n",
    "list_minuman = ['Es Teh', 'Es Jeruk', 'Es Campur']\n",
    "list_menu = list_makanan + list_minuman\n",
    "print(list_menu)"
   ]
  },
  {
   "cell_type": "markdown",
   "metadata": {},
   "source": [
    "<h3><a name=\"list-manipulation\"></a>List Manipulation</h3>"
   ]
  },
  {
   "cell_type": "markdown",
   "metadata": {},
   "source": [
    "<li><b><code>.append()</code></b>: Menambahkan data sebagai elemen terakhir di list.</li>"
   ]
  },
  {
   "cell_type": "code",
   "execution_count": 11,
   "metadata": {},
   "outputs": [
    {
     "name": "stdout",
     "output_type": "stream",
     "text": [
      "['Gado-gado', 'Ayam Goreng', 'Rendang', 'Ketoprak']\n"
     ]
    }
   ],
   "source": [
    "list_makanan = ['Gado-gado', 'Ayam Goreng', 'Rendang']\n",
    "list_makanan.append('Ketoprak')\n",
    "print(list_makanan)"
   ]
  },
  {
   "cell_type": "markdown",
   "metadata": {},
   "source": [
    "<li><b><code>.clear()</code></b>: Menghapus seluruh elemen dalam sebuah list.</li>"
   ]
  },
  {
   "cell_type": "code",
   "execution_count": 12,
   "metadata": {},
   "outputs": [
    {
     "name": "stdout",
     "output_type": "stream",
     "text": [
      "[]\n"
     ]
    }
   ],
   "source": [
    "list_makanan = ['Gado-gado', 'Ayam Goreng', 'Rendang']\n",
    "list_makanan.clear()\n",
    "print(list_makanan)"
   ]
  },
  {
   "cell_type": "markdown",
   "metadata": {},
   "source": [
    "<li><b><code>.copy()</code></b>: Mengembalikan copy dari setiap elemen dalam list.</li>"
   ]
  },
  {
   "cell_type": "code",
   "execution_count": 13,
   "metadata": {},
   "outputs": [
    {
     "name": "stdout",
     "output_type": "stream",
     "text": [
      "['Gado-gado', 'Ayam Goreng', 'Rendang', 'Ketoprak']\n",
      "['Gado-gado', 'Ayam Goreng', 'Rendang', 'Opor']\n"
     ]
    }
   ],
   "source": [
    "list_makanan1 = ['Gado-gado', 'Ayam Goreng', 'Rendang']\n",
    "list_makanan2 = list_makanan1.copy()\n",
    "list_makanan3 = list_makanan1\n",
    "list_makanan2.append('Opor')                        # hanya menambahkan item 'Opor' pada list_makanan2\n",
    "list_makanan3.append('Ketoprak')                    # list_makanan1 juga akan ditambahkan item 'Ketoprak'\n",
    "print(list_makanan1)\n",
    "print(list_makanan2)"
   ]
  },
  {
   "cell_type": "markdown",
   "metadata": {},
   "source": [
    "<li><b><code>.count()</code></b>: Mengembalikan jumlah kemunculan suatu elemen pada list.</li>"
   ]
  },
  {
   "cell_type": "code",
   "execution_count": 14,
   "metadata": {},
   "outputs": [
    {
     "name": "stdout",
     "output_type": "stream",
     "text": [
      "4\n",
      "3\n"
     ]
    }
   ],
   "source": [
    "list_score = ['Budi', 'Sud', 'Budi', 'Budi', 'Budi', 'Sud', 'Sud']\n",
    "score_budi = list_score.count('Budi')               # jumlah kemunculan 'Budi' pada list_score\n",
    "score_sud = list_score.count('Sud')                 # jumlah kemunculan 'Sud' pada list_score\n",
    "print(score_budi)\n",
    "print(score_sud)"
   ]
  },
  {
   "cell_type": "markdown",
   "metadata": {},
   "source": [
    "<li><b><code>.extend()</code></b>: Menggabungkan dua buah list seperti penggunaan operator + untuk list.</li>"
   ]
  },
  {
   "cell_type": "code",
   "execution_count": 15,
   "metadata": {},
   "outputs": [
    {
     "name": "stdout",
     "output_type": "stream",
     "text": [
      "['Gado-gado', 'Ayam Goreng', 'Rendang', 'Es Teh', 'Es Jeruk', 'Es Campur']\n"
     ]
    }
   ],
   "source": [
    "list_menu = ['Gado-gado', 'Ayam Goreng', 'Rendang']\n",
    "list_minuman = ['Es Teh', 'Es Jeruk', 'Es Campur']\n",
    "list_menu.extend(list_minuman)                      # menggabungkan list_menu dan list_minuman\n",
    "print(list_menu)"
   ]
  },
  {
   "cell_type": "markdown",
   "metadata": {},
   "source": [
    "<li><b><code>.index()</code></b>: Mengembalikan indeks dari elemen pertama yang ditemukan dari awal sebuah list.</li>"
   ]
  },
  {
   "cell_type": "code",
   "execution_count": 16,
   "metadata": {},
   "outputs": [
    {
     "name": "stdout",
     "output_type": "stream",
     "text": [
      "2\n"
     ]
    }
   ],
   "source": [
    "list_score = ['Budi','Sud','Budi','Budi','Budi','Sud','Sud']\n",
    "score_pertama_sud = list_score.index('Sud') + 1     # indeks awal adalah 1 karena indeks dimulai dari angka 0\n",
    "print(score_pertama_sud)                            # akan menampilkan output 2"
   ]
  },
  {
   "cell_type": "markdown",
   "metadata": {},
   "source": [
    "<li><b><code>.insert()</code></b>: Menyisipkan elemen pada indeks yang dispesifikasikan.</li>"
   ]
  },
  {
   "cell_type": "code",
   "execution_count": 17,
   "metadata": {},
   "outputs": [
    {
     "name": "stdout",
     "output_type": "stream",
     "text": [
      "['Budi', 'Sud', 'Budi', 'Sud', 'Budi', 'Sud']\n"
     ]
    }
   ],
   "source": [
    "list_score = ['Budi','Sud','Budi','Budi','Sud']\n",
    "list_score.insert(3, 'Sud')                         # menambahkan 'Sud' pada indeks ke 3\n",
    "print(list_score)"
   ]
  },
  {
   "cell_type": "markdown",
   "metadata": {},
   "source": [
    "<li><b><code>.pop()</code></b>: Menghilangkan elemen pada posisi tertentu.</li>"
   ]
  },
  {
   "cell_type": "code",
   "execution_count": 18,
   "metadata": {},
   "outputs": [
    {
     "name": "stdout",
     "output_type": "stream",
     "text": [
      "['Gado-gado', 'Rendang']\n"
     ]
    }
   ],
   "source": [
    "list_menu = ['Gado-gado', 'Ayam Goreng', 'Rendang']\n",
    "list_menu.pop(1)                                    # menghilangkan data pada indeks 1\n",
    "print(list_menu)"
   ]
  },
  {
   "cell_type": "markdown",
   "metadata": {},
   "source": [
    "<li><b><code>.remove()</code></b>: Menghilangkan elemen dengan nilai tertentu.</li>"
   ]
  },
  {
   "cell_type": "code",
   "execution_count": 19,
   "metadata": {},
   "outputs": [
    {
     "name": "stdout",
     "output_type": "stream",
     "text": [
      "['Gado-gado', 'Ayam Goreng', 'Ketoprak']\n"
     ]
    }
   ],
   "source": [
    "list_menu = ['Gado-gado', 'Ayam Goreng', 'Rendang', 'Ketoprak']\n",
    "list_menu.remove('Rendang')                         # menghilangkan data 'Rendang'\n",
    "print(list_menu)"
   ]
  },
  {
   "cell_type": "markdown",
   "metadata": {},
   "source": [
    "<li><b><code>.reverse()</code></b>: Membalik urutan elemen dari sebuah list.</li>"
   ]
  },
  {
   "cell_type": "code",
   "execution_count": 20,
   "metadata": {},
   "outputs": [
    {
     "name": "stdout",
     "output_type": "stream",
     "text": [
      "['Ketoprak', 'Rendang', 'Ayam Goreng', 'Gado-gado']\n"
     ]
    }
   ],
   "source": [
    "list_menu = ['Gado-gado', 'Ayam Goreng', 'Rendang', 'Ketoprak']\n",
    "list_menu.reverse()\n",
    "print(list_menu)"
   ]
  },
  {
   "cell_type": "markdown",
   "metadata": {},
   "source": [
    "<li><b><code>.sort()</code></b>: Mengurutkan elemen pada sebuah list, secara default dengan urutan dari <b>kecil ke besar</b> (<i>ascending</i>)</li>"
   ]
  },
  {
   "cell_type": "code",
   "execution_count": null,
   "metadata": {},
   "outputs": [],
   "source": [
    "list_menu = ['Gado-gado', 'Ayam Goreng', 'Rendang', 'Ketoprak']\n",
    "list_menu.sort()                                    # Default: Ascending\n",
    "print(list_menu) \n",
    "list_menu.sort(reverse=True)                        # Descending\n",
    "print(list_menu) "
   ]
  },
  {
   "cell_type": "markdown",
   "metadata": {},
   "source": [
    "<h3><a name=\"tuple-manipulation\"></a>Tuple Manipulation</h3>\n",
    "\n",
    "<p>Karena tuple bersifat <b><i>immutable</i></b> atau tidak dapat diubah setelah deklarasi, maka kita hanya dapat melakukan 2 proses manipulasi yaitu : <code>.count()</code> dan <code>.index()</code>.</p>"
   ]
  },
  {
   "cell_type": "markdown",
   "metadata": {},
   "source": [
    "<li><b><code>.count()</code></b>: Mengembalikan jumlah kemunculan suatu elemen pada list.</li>"
   ]
  },
  {
   "cell_type": "code",
   "execution_count": 21,
   "metadata": {},
   "outputs": [
    {
     "name": "stdout",
     "output_type": "stream",
     "text": [
      "4\n",
      "3\n"
     ]
    }
   ],
   "source": [
    "tuple_score = ('Budi', 'Sud', 'Budi', 'Budi', 'Budi', 'Sud', 'Sud')\n",
    "score_budi = tuple_score.count('Budi')              # jumlah kemunculan 'Budi' pada tuple_score\n",
    "score_sud = tuple_score.count('Sud')                # jumlah kemunculan 'Sud' pada tuple_score\n",
    "print(score_budi)\n",
    "print(score_sud)"
   ]
  },
  {
   "cell_type": "markdown",
   "metadata": {},
   "source": [
    "<li><b><code>.index()</code></b>: Mengembalikan indeks dari elemen pertama yang ditemukan dari awal sebuah tuple.</li>"
   ]
  },
  {
   "cell_type": "code",
   "execution_count": 22,
   "metadata": {
    "scrolled": true
   },
   "outputs": [
    {
     "name": "stdout",
     "output_type": "stream",
     "text": [
      "2\n"
     ]
    }
   ],
   "source": [
    "tuple_score = ('Budi','Sud','Budi','Budi','Budi','Sud','Sud')\n",
    "score_pertama_sud = tuple_score.index('Sud') + 1    # indeks awal adalah 1 karena indeks dimulai dari angka 0\n",
    "print(score_pertama_sud)                            # akan menampilkan output 2"
   ]
  },
  {
   "cell_type": "markdown",
   "metadata": {},
   "source": [
    "<h3><a name=\"set-manipulation\"></a>Set Manipulation</h3>\n",
    "\n",
    "<p>Sedikit berbeda dengan tipe data list dan tuple, pada tipe data set terdapat cukup banyak fitur yang disediakan oleh bahasa Python.</p>"
   ]
  },
  {
   "cell_type": "markdown",
   "metadata": {},
   "source": [
    "<li><b><code>.add()</code></b>: Menambahkan data ke dalam set. Penting untuk kita ingat bahwa pada tipe data set tidak mengizinkan adanya duplikasi elemen di dalamnya.</li>"
   ]
  },
  {
   "cell_type": "code",
   "execution_count": 23,
   "metadata": {},
   "outputs": [
    {
     "name": "stdout",
     "output_type": "stream",
     "text": [
      "{'Jeruk', 'Melon', 'Apel', 'Anggur'}\n"
     ]
    }
   ],
   "source": [
    "set_buah = {'Jeruk','Apel','Anggur'}\n",
    "set_buah.add('Melon')\n",
    "print(set_buah)"
   ]
  },
  {
   "cell_type": "markdown",
   "metadata": {},
   "source": [
    "<li><b><code>.clear()</code></b>: Menghapus seluruh elemen dalam sebuah set.</li>"
   ]
  },
  {
   "cell_type": "code",
   "execution_count": 24,
   "metadata": {},
   "outputs": [
    {
     "name": "stdout",
     "output_type": "stream",
     "text": [
      "set()\n"
     ]
    }
   ],
   "source": [
    "set_buah = {'Jeruk','Apel','Anggur'}\n",
    "set_buah.clear()\n",
    "print(set_buah)"
   ]
  },
  {
   "cell_type": "markdown",
   "metadata": {},
   "source": [
    "<li><b><code>.copy()</code></b>: Mengembalikan copy dari setiap elemen dalam set.</li>"
   ]
  },
  {
   "cell_type": "code",
   "execution_count": 26,
   "metadata": {},
   "outputs": [
    {
     "name": "stdout",
     "output_type": "stream",
     "text": [
      "{'Jeruk', 'Kiwi', 'Apel', 'Anggur'}\n",
      "{'Jeruk', 'Melon', 'Apel', 'Anggur'}\n"
     ]
    }
   ],
   "source": [
    "set_buah1 = {'Jeruk','Apel','Anggur'}\n",
    "set_buah2 = set_buah1.copy()\n",
    "set_buah3 = set_buah1\n",
    "set_buah2.add('Melon')                          # hanya menambahkan item 'Melon' pada set_buah2\n",
    "set_buah3.add('Kiwi')                           # item 'Kiwi' akan ditambahkan pada set_buah3 dan set_buah1\n",
    "print(set_buah1)\n",
    "print(set_buah2)"
   ]
  },
  {
   "cell_type": "markdown",
   "metadata": {},
   "source": [
    "<li><b><code>.update()</code></b>: Menambahkan elemen dari suatu set dengan set lainnya.</li>"
   ]
  },
  {
   "cell_type": "code",
   "execution_count": 27,
   "metadata": {},
   "outputs": [
    {
     "name": "stdout",
     "output_type": "stream",
     "text": [
      "{'Apel', 'Jeruk', 'Anggur', 'Kiwi', 'Melon'}\n"
     ]
    }
   ],
   "source": [
    "parcel1 = {'Anggur','Apel','Jeruk'}\n",
    "parcel2 = {'Apel','Kiwi','Melon'}\n",
    "parcel1.update(parcel2)                        # set tidak menerima duplicate value, maka 'Apel' hanya akan muncul 1 kali\n",
    "print(parcel1)"
   ]
  },
  {
   "cell_type": "markdown",
   "metadata": {},
   "source": [
    "<li><b><code>.pop()</code></b>: Menghilangkan elemen dari sebuah set secara acak..</li>"
   ]
  },
  {
   "cell_type": "code",
   "execution_count": 28,
   "metadata": {},
   "outputs": [
    {
     "name": "stdout",
     "output_type": "stream",
     "text": [
      "Apel\n",
      "{'Jeruk', 'Anggur'}\n"
     ]
    }
   ],
   "source": [
    "parcel = {'Anggur','Apel','Jeruk'}\n",
    "buah = parcel.pop()\n",
    "print(buah)\n",
    "print(parcel)"
   ]
  },
  {
   "cell_type": "markdown",
   "metadata": {},
   "source": [
    "<li><b><code>.remove()</code></b>: Menghilangkan elemen dengan nilai tertentu.</li>"
   ]
  },
  {
   "cell_type": "code",
   "execution_count": 29,
   "metadata": {},
   "outputs": [
    {
     "name": "stdout",
     "output_type": "stream",
     "text": [
      "{'Jeruk', 'Anggur'}\n"
     ]
    }
   ],
   "source": [
    "parcel = {'Anggur','Apel','Jeruk'}\n",
    "parcel.remove('Apel')\n",
    "print(parcel)"
   ]
  },
  {
   "cell_type": "markdown",
   "metadata": {},
   "source": [
    "<li><b><code>.union()</code></b>: Mengembalikan hasil penggabungan (union) dari dua buah set.</li>"
   ]
  },
  {
   "cell_type": "code",
   "execution_count": 30,
   "metadata": {},
   "outputs": [
    {
     "name": "stdout",
     "output_type": "stream",
     "text": [
      "{'Apel', 'Jeruk', 'Anggur'}\n",
      "{'Apel', 'Jeruk', 'Anggur', 'Kiwi', 'Melon'}\n"
     ]
    }
   ],
   "source": [
    "parcel1 = {'Anggur','Apel','Jeruk'}\n",
    "parcel2 = {'Apel','Kiwi','Melon'}\n",
    "parcel3 = parcel1.union(parcel2)\n",
    "print(parcel1)\n",
    "print(parcel3)"
   ]
  },
  {
   "cell_type": "markdown",
   "metadata": {},
   "source": [
    "<li><b><code>.isdisjoint()</code></b>: Mengembalikan nilai kebenaran apakah suatu set disjoint (saling lepas/<b>tidak mengandung elemen yang sama</b>) dengan set lainnya.</li>"
   ]
  },
  {
   "cell_type": "code",
   "execution_count": 31,
   "metadata": {},
   "outputs": [
    {
     "name": "stdout",
     "output_type": "stream",
     "text": [
      "True\n",
      "False\n"
     ]
    }
   ],
   "source": [
    "parcel1 = {'Anggur','Apel','Jeruk'}\n",
    "parcel2 = {'Kiwi','Melon','Pisang'}\n",
    "parcel3 = {'Apel','Srikaya','Semangka'}\n",
    "parcel1_parcel2_disjoint = parcel1.isdisjoint(parcel2)  # True, parcel1 tidak memiliki elemen yang sama dengan parcel2\n",
    "print(parcel1_parcel2_disjoint)\n",
    "parcel1_parcel3_disjoint = parcel1.isdisjoint(parcel3)  # False, terdapat item 'Apel' pada parcel1 dan parcel3\n",
    "print(parcel1_parcel3_disjoint)"
   ]
  },
  {
   "cell_type": "markdown",
   "metadata": {},
   "source": [
    "<li><b><code>.issubset()</code></b>: Mengembalikan nilai kebenaran apakah sebuah set merupakan subset dari set lainnya. Sebuah set A merupakan subset dari set B jika <b>seluruh elemen</b> dari set <b>A</b> merupakan <b>bagian</b> dari set <b>B</b>.</li>"
   ]
  },
  {
   "cell_type": "code",
   "execution_count": 32,
   "metadata": {},
   "outputs": [
    {
     "name": "stdout",
     "output_type": "stream",
     "text": [
      "True\n",
      "False\n"
     ]
    }
   ],
   "source": [
    "parcel_A = {'Anggur', 'Apel'}\n",
    "parcel_B = {'Durian','Semangka','Apel'}\n",
    "parcel_C = {'Anggur', 'Kiwi', 'Apel', 'Jeruk', 'Melon'}\n",
    "parcel_A_dalam_C = parcel_A.issubset(parcel_C)          # True, seluruh elemen parcel_A adalah bagian dari parcel_C\n",
    "parcel_B_dalam_C = parcel_B.issubset(parcel_C)          # False, 'Durian' dan 'Semangka' tidak ada pada parcel_C\n",
    "print(parcel_A_dalam_C)\n",
    "print(parcel_B_dalam_C)"
   ]
  },
  {
   "cell_type": "markdown",
   "metadata": {},
   "source": [
    "<li><b><code>.issuperset()</code></b>: Mengembalikan nilai kebenaran apakah sebuah set merupakan superset dari set lainnya. Sebuah set A merupakan superset dari set B jika <b>seluruh elemen</b> dari set <b>B</b> terkandung dalam set <b>A</b>.</li>"
   ]
  },
  {
   "cell_type": "code",
   "execution_count": 33,
   "metadata": {},
   "outputs": [
    {
     "name": "stdout",
     "output_type": "stream",
     "text": [
      "True\n",
      "False\n"
     ]
    }
   ],
   "source": [
    "parcel_C_mengandung_A = parcel_C.issuperset(parcel_A)   # True, terdapat elemen parcel_C pada seluruh elemen parcel_A\n",
    "parcel_C_mengandung_B = parcel_C.issuperset(parcel_B)   # False, hanya 'Apel' yang terdapat pada parcel_B\n",
    "print(parcel_C_mengandung_A)\n",
    "print(parcel_C_mengandung_B)"
   ]
  },
  {
   "cell_type": "markdown",
   "metadata": {},
   "source": [
    "<li><b><code>.intersection()</code></b>: Mengembalikan sebuah set yang merupakan intersection dari dua set lainnya.</li>"
   ]
  },
  {
   "cell_type": "code",
   "execution_count": 34,
   "metadata": {},
   "outputs": [
    {
     "name": "stdout",
     "output_type": "stream",
     "text": [
      "{'Jeruk', 'Apel'}\n"
     ]
    }
   ],
   "source": [
    "parcel_A = {'Anggur', 'Kiwi', 'Apel', 'Jeruk', 'Melon'}\n",
    "parcel_B = {'Apel', 'Jeruk', 'Semangka', 'Durian', 'Tomat'}\n",
    "parcel_C = parcel_A.intersection(parcel_B)              # 'Apel' dan 'Jeruk' adalah elemen yang terdapat pada kedua set\n",
    "print(parcel_C)"
   ]
  },
  {
   "cell_type": "markdown",
   "metadata": {},
   "source": [
    "<li><b><code>.difference()</code></b>: Mengembalikan sebuah set yang berisikan difference dari dua set lainnya. Difference dari sebuah set A berdasarkan set B adalah setiap elemen yang <b>terdapat di set A</b> tetapi <b>tidak terdapat di set B</b>.</li>"
   ]
  },
  {
   "cell_type": "code",
   "execution_count": 35,
   "metadata": {},
   "outputs": [
    {
     "name": "stdout",
     "output_type": "stream",
     "text": [
      "{'Kiwi', 'Melon', 'Anggur'}\n"
     ]
    }
   ],
   "source": [
    "parcel_C = parcel_A.difference(parcel_B)\n",
    "print(parcel_C)"
   ]
  },
  {
   "cell_type": "markdown",
   "metadata": {},
   "source": [
    "<li><b><code>.symmetric_difference()</code></b>: Mengembalikan sebuah set yang berisikan symmetric difference dari dua set lainnya. Symmetric difference dari sebuah set A dan B adalah setiap elemen dari set A yang <b>tidak terdapat di set B</b> digabungkan dengan (<b>union</b>) setiap elemen dari set B yang <b>tidak terdapat di set A</b>.</li>"
   ]
  },
  {
   "cell_type": "code",
   "execution_count": 36,
   "metadata": {},
   "outputs": [
    {
     "name": "stdout",
     "output_type": "stream",
     "text": [
      "{'Anggur', 'Leci', 'Melon', 'Semangka'}\n"
     ]
    }
   ],
   "source": [
    "parcel_A = {'Anggur', 'Apel', 'Jeruk', 'Melon'}\n",
    "parcel_B = {'Apel','Jeruk','Semangka','Leci'}\n",
    "parcel_C = parcel_A.symmetric_difference(parcel_B)      # kebalikan dari intersection\n",
    "print(parcel_C)"
   ]
  },
  {
   "cell_type": "markdown",
   "metadata": {},
   "source": [
    "<h3><a name=\"dictionary-manipulation\"></a>Dictionary Manipulation</h3>"
   ]
  },
  {
   "cell_type": "markdown",
   "metadata": {},
   "source": [
    "<li><b><code>.clear()</code></b>: Menghapus seluruh elemen dalam sebuah dictionary.</li>"
   ]
  },
  {
   "cell_type": "code",
   "execution_count": 37,
   "metadata": {},
   "outputs": [
    {
     "name": "stdout",
     "output_type": "stream",
     "text": [
      "{}\n"
     ]
    }
   ],
   "source": [
    "info_karyawan = {'nama' : 'Aksara',\n",
    "                 'nik' : '1211011',\n",
    "                 'pekerjaan' : 'Data Analyst'}\n",
    "info_karyawan.clear()\n",
    "print(info_karyawan)"
   ]
  },
  {
   "cell_type": "markdown",
   "metadata": {},
   "source": [
    "<li><b><code>.copy()</code></b>: Mengembalikan copy dari setiap elemen dalam set. Serupa dengan fitur copy() pada tipe data collections lainnya, fitur copy() <b>tidak akan mengubah nilai dari elemen asal</b> seperti fungsi assignment.</li>"
   ]
  },
  {
   "cell_type": "code",
   "execution_count": 38,
   "metadata": {},
   "outputs": [
    {
     "name": "stdout",
     "output_type": "stream",
     "text": [
      "{'nama': 'Aksara', 'nik': '1211011', 'pekerjaan': 'Data Analyst'}\n",
      "{'nama': 'Senja', 'nik': '1211056', 'pekerjaan': 'Data Analyst'}\n"
     ]
    }
   ],
   "source": [
    "info_karyawan1 = {'nama' : 'Aksara',\n",
    "                  'nik' : '1211011',\n",
    "                  'pekerjaan' : 'Data Analyst'}\n",
    "info_karyawan2 = info_karyawan1.copy()\n",
    "info_karyawan2['nama'] = 'Senja'\n",
    "info_karyawan2['nik'] = '1211056'\n",
    "print(info_karyawan1)\n",
    "print(info_karyawan2)"
   ]
  },
  {
   "cell_type": "markdown",
   "metadata": {},
   "source": [
    "<li><b><code>.keys()</code></b>: Mengembalikan list dari seluruh kunci akses (\"key\") dari setiap elemen dalam sebuah dictionary.</li>"
   ]
  },
  {
   "cell_type": "code",
   "execution_count": 39,
   "metadata": {},
   "outputs": [
    {
     "name": "stdout",
     "output_type": "stream",
     "text": [
      "['nama', 'nik', 'pekerjaan']\n"
     ]
    }
   ],
   "source": [
    "info_karyawan = {'nama' : 'Aksara',\n",
    "                 'nik' : '1211011',\n",
    "                 'pekerjaan' : 'Data Analyst'}\n",
    "kunci_akses = list(info_karyawan.keys())\n",
    "print(kunci_akses)"
   ]
  },
  {
   "cell_type": "markdown",
   "metadata": {},
   "source": [
    "<li><b><code>.values()</code></b>: Mengembalikan list dari seluruh nilai (\"value\") dari setiap elemen dalam sebuah dictionary.</li>"
   ]
  },
  {
   "cell_type": "code",
   "execution_count": 40,
   "metadata": {},
   "outputs": [
    {
     "name": "stdout",
     "output_type": "stream",
     "text": [
      "['Aksara', '1211011', 'Data Analyst']\n"
     ]
    }
   ],
   "source": [
    "value_dict = list(info_karyawan.values())\n",
    "print(value_dict)"
   ]
  },
  {
   "cell_type": "markdown",
   "metadata": {},
   "source": [
    "<li><b><code>.update()</code></b>: Menambahkan kunci akses (\"key\") dan nilai baru (\"value\") ke dalam sebuah dictionary.</li>"
   ]
  },
  {
   "cell_type": "code",
   "execution_count": 41,
   "metadata": {
    "scrolled": true
   },
   "outputs": [
    {
     "name": "stdout",
     "output_type": "stream",
     "text": [
      "{'nama': 'Aksara', 'nik': '1211011', 'pekerjaan': 'Data Analyst', 'skillset': ['Python', 'R']}\n"
     ]
    }
   ],
   "source": [
    "info_karyawan.update({'skillset':['Python', 'R']})\n",
    "print(info_karyawan)"
   ]
  },
  {
   "cell_type": "markdown",
   "metadata": {},
   "source": [
    "<h3 style=\"color:green\"><a name=\"dictionary-manipulation\"></a>Useful Tips and Tricks</h3>"
   ]
  },
  {
   "cell_type": "markdown",
   "metadata": {},
   "source": [
    "<p>Gunakan fungsi <b><code>len()</code></b> untuk mengetahui <b>jumlah data</b> yang terdapat pada list/tuple</p>"
   ]
  },
  {
   "cell_type": "code",
   "execution_count": 43,
   "metadata": {},
   "outputs": [
    {
     "name": "stdout",
     "output_type": "stream",
     "text": [
      "Jumlah data tuple_menu: 4\n",
      "Jumlah data list_menu: 4\n"
     ]
    }
   ],
   "source": [
    "tuple_menu = ('Gado-gado','Ayam Goreng','Rendang','Ketoprak')\n",
    "jumlah_menu = len(tuple_menu)\n",
    "print(\"Jumlah data tuple_menu:\", jumlah_menu)\n",
    "\n",
    "list_menu = ['Gado-gado','Ayam Goreng','Rendang','Ketoprak']\n",
    "jumlah_menu = len(list_menu)\n",
    "print(\"Jumlah data list_menu:\", jumlah_menu)"
   ]
  },
  {
   "cell_type": "markdown",
   "metadata": {},
   "source": [
    "<p>Trik untuk mendapatkan seluruh <b>list element unik</b></p>"
   ]
  },
  {
   "cell_type": "code",
   "execution_count": 44,
   "metadata": {},
   "outputs": [
    {
     "name": "stdout",
     "output_type": "stream",
     "text": [
      "{'Apel', 'Markisa', 'Jeruk'}\n",
      "['Apel', 'Jeruk', 'Markisa']\n"
     ]
    }
   ],
   "source": [
    "list_buah = ['Apel', 'Apel', 'Jeruk', 'Markisa', 'Jeruk', 'Markisa', 'Apel']\n",
    "set_buah = set(list_buah)    # convert list menjadi set untuk mendapatkan element unik\n",
    "print(set_buah)\n",
    "list_buah = list(set_buah)   # convert kembali set kedalam bentuk list\n",
    "list_buah.sort()\n",
    "print(list_buah)"
   ]
  },
  {
   "cell_type": "markdown",
   "metadata": {},
   "source": [
    "<div style=\"border: 2px solid orange;border-radius: 5px;\">\n",
    "    <b style=\"color:orange;padding:10px\">Practice!</b>\n",
    "    <div style=\"padding:25px\">\n",
    "        <li>Terdapat variable keuangan (format juta) yang berisi data:</li>\n",
    "        <ol>\n",
    "            <li>pengeluaran: 2, 2.5, 2.25, 2.5, 3.2, 2.5, 3.5, 4, 3</li>\n",
    "            <li>pemasukan: 7.8, 7.5, 9, 7.6, 7.2, 7.5, 7, 10, 7.5</li>\n",
    "        </ol>\n",
    "        <li>Dari variabel keuangan, hitung rata-rata pengeluaran dan pemasukan selama 9 bulan terakhir. </li>\n",
    "    </div>\n",
    "</div>"
   ]
  },
  {
   "cell_type": "code",
   "execution_count": 49,
   "metadata": {},
   "outputs": [
    {
     "name": "stdout",
     "output_type": "stream",
     "text": [
      "Rata-rata pengeluaran: 2.8277777777777775\n",
      "Rata-rata pemasukan: 7.8999999999999995\n"
     ]
    }
   ],
   "source": [
    "# deklarasi variable\n",
    "keuangan = {'pengeluaran': [2, 2.5, 2.25, 2.5, 3.2, 2.5, 3.5, 4, 3], \n",
    "            'pemasukan':[7.8, 7.5, 9, 7.6, 7.2, 7.5, 7, 10, 7.5]}\n",
    "\n",
    "# rata-rata pengeluran dan pemasukan\n",
    "total_pengeluaran, total_pemasukan = 0, 0\n",
    "\n",
    "for biaya in keuangan['pengeluaran']:\n",
    "    total_pengeluaran += biaya\n",
    "\n",
    "for biaya in keuangan['pemasukan']:\n",
    "    total_pemasukan += biaya\n",
    "\n",
    "rata_rata_pengeluaran = total_pengeluaran / len(keuangan['pengeluaran'])\n",
    "rata_rata_pemasukan = total_pemasukan / len(keuangan['pemasukan'])\n",
    "\n",
    "# cetak hasil\n",
    "print(\"Rata-rata pengeluaran:\", rata_rata_pengeluaran)\n",
    "print(\"Rata-rata pemasukan:\", rata_rata_pemasukan)"
   ]
  },
  {
   "cell_type": "markdown",
   "metadata": {},
   "source": [
    "<h2><a name=\"string-manipulation\"></a>Chapter 2: String Manipulation dengan Python</h2>"
   ]
  },
  {
   "cell_type": "markdown",
   "metadata": {},
   "source": [
    "<h3><a name=\"aturan-penamaan-python-variable\"></a>Aturan Penamaan Python Variable</h3>"
   ]
  },
  {
   "cell_type": "markdown",
   "metadata": {},
   "source": [
    "<h3><a name=\"tipe-data-pada-python\"></a>Tipe Data pada Python</h3>"
   ]
  },
  {
   "cell_type": "markdown",
   "metadata": {},
   "source": [
    "<div style=\"border: 2px solid orange;border-radius: 5px;\">\n",
    "    <b style=\"color:orange;padding:10px\">Practice!</b>\n",
    "    <div style=\"padding:25px\">\n",
    "        <table>\n",
    "            <thead>\n",
    "                <th>Nama Barang</th>\n",
    "                <th>Harga</th>\n",
    "                <th>Diskon</th>\n",
    "            </thead>\n",
    "            <tbody>\n",
    "                <tr>\n",
    "                    <td>Sepatu Niko</td>\n",
    "                    <td>150000</td>\n",
    "                    <td>30000</td>\n",
    "                </tr>\n",
    "                <tr>\n",
    "                    <td>Baju Unikloh</td>\n",
    "                    <td>80000</td>\n",
    "                    <td>8000</td>\n",
    "                </tr>\n",
    "                <tr>\n",
    "                    <td>Celana Lepis</td>\n",
    "                    <td>200000</td>\n",
    "                    <td>60000</td>\n",
    "                </tr>\n",
    "            </tbody>\n",
    "        </table>\n",
    "        <ol>\n",
    "            <li>Deklarasikan data ke dalam dictionary</li>\n",
    "            <li>Hitung harga masing-masing data setelah dikurangi diskon</li>\n",
    "            <li>Hitung harga total</li>\n",
    "            <li>Hitung harga kena pajak</li>\n",
    "            <li>Cetak total_harga + total_pajak</li>\n",
    "        </ol>\n",
    "    </div>\n",
    "</div>"
   ]
  },
  {
   "cell_type": "code",
   "execution_count": 28,
   "metadata": {},
   "outputs": [
    {
     "name": "stdout",
     "output_type": "stream",
     "text": [
      "365200.0\n"
     ]
    }
   ],
   "source": [
    "# deklarasi data dalam bentuk dictionary\n",
    "sepatu = {'nama':'Sepatu Niko', 'harga':150000, 'diskon':30000}\n",
    "baju = {'nama':'Baju Unikloh', 'harga':80000, 'diskon':8000}\n",
    "celana = {'nama':'Celana Lepis', 'harga':200000, 'diskon':60000}\n",
    "\n",
    "# hitung harga setelah diskon\n",
    "harga_sepatu = sepatu['harga'] - sepatu['diskon']\n",
    "harga_baju = baju['harga'] - baju['diskon']\n",
    "harga_celana = celana['harga'] - celana['diskon']\n",
    "\n",
    "# hitung harga total\n",
    "total_harga = harga_sepatu + harga_baju + harga_celana\n",
    "\n",
    "# hitung harga kena pajak\n",
    "total_pajak = total_harga * 0.1\n",
    "\n",
    "# cetak hasil akhir harga\n",
    "print(total_harga + total_pajak)"
   ]
  },
  {
   "cell_type": "markdown",
   "metadata": {},
   "source": [
    "<h2><a name=\"functions\"></a>Chapter 3: Functions</h2>"
   ]
  },
  {
   "cell_type": "markdown",
   "metadata": {},
   "source": [
    "<h3><a name=\"nilai-prioritas-operator\"></a>Nilai Prioritas Operator</h3>"
   ]
  },
  {
   "cell_type": "markdown",
   "metadata": {},
   "source": [
    "<p>Dalam bahasa pemrograman Python, tabel berikut mencakup nilai prioritas dan arah pengerjaan dari setiap operator.</p>\n",
    "\n",
    "<table align=\"left\">\n",
    "    <thead>\n",
    "        <th style=\"text-align:center\">Operator</th>\n",
    "        <th style=\"text-align:center\">Nilai Prioritas</th>\n",
    "        <th style=\"text-align:center\">Arah Pengerjaan</th>\n",
    "        <th style=\"text-align:center\">Deskripsi</th>\n",
    "    </thead>\n",
    "    <tbody>\n",
    "        <tr>\n",
    "            <td><p>()</p></td>\n",
    "            <td style=\"text-align:center\">10</td>\n",
    "            <td><p>Kiri ke kanan</p></td>\n",
    "            <td><p>Grouping</p></td>\n",
    "        </tr>\n",
    "        <tr>\n",
    "            <td><p>x[index]</p></td>\n",
    "            <td style=\"text-align:center\">9</td>\n",
    "            <td><p>Kiri ke kanan</p></td>\n",
    "            <td><p>Mengakses elemen array</p></td>\n",
    "        </tr>\n",
    "        <tr>\n",
    "            <td><p>**</p></td>\n",
    "            <td style=\"text-align:center\">8</td>\n",
    "            <td><p>Kiri ke kanan</p></td>\n",
    "            <td><p>Pangkat</p></td>\n",
    "        </tr>\n",
    "        <tr>\n",
    "            <td><p>+x, -x</p></td>\n",
    "            <td style=\"text-align:center\">7</td>\n",
    "            <td><p>Kiri ke kanan</p></td>\n",
    "            <td><p>Tanda bilangan positif dan negatif</p></td>\n",
    "        </tr>\n",
    "        <tr>\n",
    "            <td><p>*, /, %</p></td>\n",
    "            <td style=\"text-align:center\">6</td>\n",
    "            <td><p>Kiri ke kanan</p></td>\n",
    "            <td><p>Perkalian, Pembagian, Modulus</p></td>\n",
    "        </tr>\n",
    "        <tr>\n",
    "            <td><p>+, -</p></td>\n",
    "            <td style=\"text-align:center\">5</td>\n",
    "            <td><p>Kiri ke kanan</p></td>\n",
    "            <td><p>Penambahan, Pengurangan</p></td>\n",
    "        </tr>\n",
    "        <tr>\n",
    "            <td><p>is, is not, in, not in</p><p><=, <, >=, ></p><p>==, !=</p></td>\n",
    "            <td style=\"text-align:center\">4</td>\n",
    "            <td><p>Kiri ke kanan</p></td>\n",
    "            <td><p>Membership operator Comparison Operator</p></td>\n",
    "        </tr>\n",
    "        <tr>\n",
    "            <td><p>not</p></td>\n",
    "            <td style=\"text-align:center\">3</td>\n",
    "            <td><p>Kiri ke kanan</p></td>\n",
    "            <td><p>Operator logika negasi (not)</p></td>\n",
    "        </tr>\n",
    "        <tr>\n",
    "            <td><p>and</p></td>\n",
    "            <td style=\"text-align:center\">2</td>\n",
    "            <td><p>Kiri ke kanan</p></td>\n",
    "            <td><p>Operator logika konjungsi (and)</p></td>\n",
    "        </tr>\n",
    "        <tr>\n",
    "            <td><p>or</p></td>\n",
    "            <td style=\"text-align:center\">1</td>\n",
    "            <td><p>Kiri ke kanan</p></td>\n",
    "            <td><p>Operator logika disjungsi (or)</p></td>\n",
    "        </tr>\n",
    "    </tbody>\n",
    "</table>"
   ]
  },
  {
   "cell_type": "markdown",
   "metadata": {},
   "source": [
    "<div style=\"border: 2px solid orange;border-radius: 5px;\">\n",
    "    <b style=\"color:orange;padding:10px\">Practice!</b>\n",
    "    <div style=\"padding:25px\">\n",
    "        <p>Ringkas code berikut</p>\n",
    "        <code>\n",
    "            total_harga = harga_sepatu + harga_baju + harga_celana\n",
    "            total_pajak = total_harga * 0.1</code>\n",
    "    </div>\n",
    "</div>"
   ]
  },
  {
   "cell_type": "code",
   "execution_count": 31,
   "metadata": {},
   "outputs": [
    {
     "name": "stdout",
     "output_type": "stream",
     "text": [
      "365200.00000000006\n"
     ]
    }
   ],
   "source": [
    "total_harga = (harga_sepatu + harga_baju + harga_celana) * 1.1\n",
    "print(total_harga)"
   ]
  },
  {
   "cell_type": "markdown",
   "metadata": {},
   "source": [
    "<h2><a name=\"manipulasi-teks\"></a>Chapter 4: Manipulasi Berkas Teks dan Library Matematika pada Python</h2>"
   ]
  },
  {
   "cell_type": "markdown",
   "metadata": {},
   "source": [
    "<h3><a name=\"conditioning-for-decision\"></a>Conditioning for Decision</h3>"
   ]
  },
  {
   "cell_type": "markdown",
   "metadata": {},
   "source": [
    "pada perulangan di python juga terdapat <b>nested loops</b>, yaitu pengulangan bersarang. Dengan nested loops, aku dapat mengkombinasikan (menambahkan) struktur pengulangan lain di dalamnya."
   ]
  },
  {
   "cell_type": "code",
   "execution_count": 40,
   "metadata": {
    "scrolled": true
   },
   "outputs": [
    {
     "name": "stdout",
     "output_type": "stream",
     "text": [
      "Apel Malang\n",
      "Duku Malang\n",
      "Jeruk Malang\n",
      "Apel Palembang\n",
      "Duku Palembang\n",
      "Jeruk Palembang\n",
      "Apel Medan\n",
      "Duku Medan\n",
      "Jeruk Medan\n"
     ]
    }
   ],
   "source": [
    "list_daerah = ['Malang', 'Palembang', 'Medan']\n",
    "list_buah = ['Apel', 'Duku', 'Jeruk']\n",
    "\n",
    "for nama_daerah in list_daerah:           # lakukan perulangan sebanyak data pada list_daerah\n",
    "    for nama_buah in list_buah:           # lakukan perulangan sebanyak data pada list_buah untuk setiap list_daerah\n",
    "        print(nama_buah+\" \"+nama_daerah)"
   ]
  },
  {
   "cell_type": "markdown",
   "metadata": {},
   "source": [
    "<div style=\"border: 2px solid orange;border-radius: 5px;\">\n",
    "    <b style=\"color:orange;padding:10px\">Practice!</b>\n",
    "    <div style=\"padding:25px\">\n",
    "        <p>Buat program untuk mengolah sebuah list yang bernama list_cash_flow yang berisikan data:</p>\n",
    "        <code>2500000, 5000000, -1000000, -2500000, 5000000, 10000000, -5000000, 7500000, 10000000, -1500000, 25000000, -2500000</code>\n",
    "        <p>Setiap elemen dari list_cash_flow berisikan pengeluaran (bilangan negatif) dan pemasukan (bilangan positif) pada perusahaan.</p>\n",
    "        <p>Dari list_cash_flow tersebut, hitung total_pengeluaran dan total_pemasukan perusahaan.</p>\n",
    "    </div>\n",
    "</div>"
   ]
  },
  {
   "cell_type": "code",
   "execution_count": 41,
   "metadata": {},
   "outputs": [
    {
     "name": "stdout",
     "output_type": "stream",
     "text": [
      "12500000\n",
      "65000000\n"
     ]
    }
   ],
   "source": [
    "list_cash_flow = [2500000, 5000000, -1000000, -2500000, 5000000, 10000000,\n",
    "                  -5000000, 7500000, 10000000, -1500000, 25000000, -2500000]\n",
    "total_pengeluaran, total_pemasukan = 0, 0\n",
    "\n",
    "for dana in list_cash_flow:\n",
    "    if dana > 0:\n",
    "        total_pemasukan += dana       # jumlahkan dana yang bernilai positif sebagai pemasukan\n",
    "    else:\n",
    "        total_pengeluaran += dana     # jumlahkan dana yang bernilai negatif sebagai pengeluaran\n",
    "\n",
    "total_pengeluaran *= -1               # kembalikan nilai pengeluaran sebagai nilai positif\n",
    "print(total_pengeluaran) \n",
    "print(total_pemasukan)"
   ]
  },
  {
   "cell_type": "markdown",
   "metadata": {},
   "source": [
    "<h2><a name=\"mini-quiz\"></a>Chapter 5: Mini Quiz</h2>"
   ]
  },
  {
   "cell_type": "markdown",
   "metadata": {},
   "source": [
    "<div style=\"border: 2px solid orange;border-radius: 5px;\">\n",
    "    <b style=\"color:orange;padding:10px\">Ekspedisi Pamanku</b>\n",
    "    <div style=\"padding:25px\">\n",
    "        <p>Aku menyambar ponsel di meja dan membuka pesan singkat dari paman tempo hari yang menjelaskan jika paman harus mengeluarkan uang sebesar <b>1,5 juta</b> per mobil dalam sehari. Tapi, beliau selalu kebingungan total pengeluaran per bulan karena adanya aturan ganjil-genap yang membuat pengoperasian mobil yang berbeda.<p>\n",
    "        <p>Kalau begitu, aku akan masukkan variabel <b>jumlah_hari</b> berisi jumlah hari dalam sebulan dan variabel <b>list_plat_nomor</b> berisi seluruh nomor plat mobil milik paman,” gumamku sendiri. Kalau seperti ini paman hanya perlu mengganti variabel <b>jumlah_hari</b> atau modifikasi variabel <b>list_plat_nomor</b> untuk melacak total pengeluaran paman selama sebulan. Ide Cemerlang!</p>\n",
    "    </div>\n",
    "</div>"
   ]
  },
  {
   "cell_type": "code",
   "execution_count": 42,
   "metadata": {},
   "outputs": [
    {
     "name": "stdout",
     "output_type": "stream",
     "text": [
      "163500000\n"
     ]
    }
   ],
   "source": [
    "uang_jalan = 1500000\n",
    "jumlah_hari = 31\n",
    "list_plat_nomor = [8993, 2198, 2501, 2735, 3772, 4837, 9152]\n",
    "kendaraan_genap, kendaraan_ganjil = 0, 0\n",
    "\n",
    "# Pengecekan kendaraan dengan nomor pelat ganjil atau genap \n",
    "for plat_nomor in list_plat_nomor:\n",
    "    if plat_nomor % 2 == 0:\n",
    "        kendaraan_genap += 1\n",
    "    else:\n",
    "        kendaraan_ganjil += 1\n",
    "\n",
    "# Total pengeluaran untuk kendaraan dengan nomor pelat ganjil dan genap dalam 1 bulan\n",
    "i = 1\n",
    "total_pengeluaran = 0\n",
    "while i <= jumlah_hari:\n",
    "    if i % 2 == 0:\n",
    "        total_pengeluaran += (kendaraan_genap * uang_jalan)\n",
    "    else:\n",
    "        total_pengeluaran += (kendaraan_ganjil * uang_jalan)\n",
    "    i += 1\n",
    "\n",
    "print(total_pengeluaran)"
   ]
  },
  {
   "cell_type": "code",
   "execution_count": null,
   "metadata": {},
   "outputs": [],
   "source": []
  }
 ],
 "metadata": {
  "kernelspec": {
   "display_name": "Python 3",
   "language": "python",
   "name": "python3"
  },
  "language_info": {
   "codemirror_mode": {
    "name": "ipython",
    "version": 3
   },
   "file_extension": ".py",
   "mimetype": "text/x-python",
   "name": "python",
   "nbconvert_exporter": "python",
   "pygments_lexer": "ipython3",
   "version": "3.8.3"
  }
 },
 "nbformat": 4,
 "nbformat_minor": 4
}
