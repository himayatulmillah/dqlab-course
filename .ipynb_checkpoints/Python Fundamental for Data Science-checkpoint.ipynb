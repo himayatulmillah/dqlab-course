{
 "cells": [
  {
   "cell_type": "markdown",
   "metadata": {},
   "source": [
    "# Python Fundamental for Data Science"
   ]
  },
  {
   "cell_type": "markdown",
   "metadata": {},
   "source": [
    "<p>About : Pelajari Python - bahasa pemograman terpopuler di dunia saat ini - dengan cara simpel, praktis dan mengasyikkan. Tujuan course dasar ini agar Anda bisa mengenal dan mulai menggunakan Python di kegiatan sehari-hari.</p>\n",
    "<p>Course : <a href=https://academy.dqlab.id/main/package/practice/45?pf=0>Python Fundamental for Data Science</a> </p>"
   ]
  },
  {
   "cell_type": "markdown",
   "metadata": {},
   "source": [
    "<h2>Module Content:</h2>\n",
    "\n",
    "<div class=\"alert alert-block alert-info\" style=\"margin-top: 20px\">\n",
    "    <ul>\n",
    "        <li><a href=\"#whats-python\">What's Python</a></li>\n",
    "        <ul>\n",
    "            <li><a href=\"#pendahuluan-tentang-python\">Pendahuluan tentang Python</a></li>\n",
    "            <li><a href=\"#tipe-data-python\">Tipe data Python</a></li>\n",
    "        </ul>\n",
    "        <li><a href=\"#percabangan-keputusan\">Struktur Kontrol: Percabangan Keputusan</a></li>\n",
    "        <li><a href=\"#operator-matematika-dan-pembanding\">Operator Matematika dan Pembanding</a></li>\n",
    "        <li><a href=\"#perulangan\">Perulangan</a></li>\n",
    "        <li><a href=\"#function\">Function</a></li>\n",
    "        <li><a href=\"#modul-dan-package\">Modul dan Package</a></li>\n",
    "        <li><a href=\"#membaca-dari-file\">Membaca dari File</a></li>\n",
    "        <li><a href=\"#grafik-dasar-dengan-matplotlib\">Grafik Dasar dengan Matplotlib</a></li>\n",
    "    </ul>\n",
    "</div>"
   ]
  },
  {
   "cell_type": "markdown",
   "metadata": {},
   "source": [
    "<h2><a name=\"whats-python\"></a>1. What's Python</h2>"
   ]
  },
  {
   "cell_type": "markdown",
   "metadata": {},
   "source": [
    "<h3><a name=\"pendahuluan-tentang-python\"></a>Pendahuluan Tentang Pyhton</h3>\n",
    "<p>Python merupakan bahasa pemrograman yag diciptakan pada tahun 1991 oleh Guido van Russom, seorang matematikawan.</p>\n",
    "\n",
    "Python sendiri berguna dalam berbagai aspek :\n",
    "<li>Web Development (Server – Side)</li>\n",
    "<li>Software Development</li>\n",
    "<li>Mathematics</li>\n",
    "<li>Scripting</li>\n",
    "<li>Data Science</li>\n",
    "<li>Bisa mengelola Big Data dan Rumus matematika yang complex</li>\n",
    "<li>Cocok untuk riset dan rapid prototype suatu product dan launch hingga produksi</li>\n",
    "<li>CRUD sebuah file dan database</li>"
   ]
  },
  {
   "cell_type": "markdown",
   "metadata": {},
   "source": [
    "<h3><a name=\"tipe-data-python\"></a>Tipe Data Python</h3"
   ]
  },
  {
   "cell_type": "markdown",
   "metadata": {},
   "source": [
    "<li><b>Boolean</b> | bool()</li>\n",
    "<p>Menyatakan benar True yang bernilai 1, atau salah False yang bernilai 0</p>"
   ]
  },
  {
   "cell_type": "code",
   "execution_count": 8,
   "metadata": {},
   "outputs": [
    {
     "name": "stdout",
     "output_type": "stream",
     "text": [
      "True\n",
      "<class 'bool'>\n"
     ]
    }
   ],
   "source": [
    "var_bool=True\n",
    "print(var_bool)\n",
    "print(type(var_bool))"
   ]
  },
  {
   "cell_type": "markdown",
   "metadata": {},
   "source": [
    "<li><b>String</b> | str()</li>\n",
    "<p>Menyatakan karakter/kalimat bisa berupa huruf angka, dll (diapit tanda \" atau ')</p>"
   ]
  },
  {
   "cell_type": "code",
   "execution_count": 2,
   "metadata": {},
   "outputs": [
    {
     "name": "stdout",
     "output_type": "stream",
     "text": [
      "Belajar Python DQLAB\n",
      "<class 'str'>\n"
     ]
    }
   ],
   "source": [
    "var_string=\"Belajar Python DQLAB\"\n",
    "print(var_string)\n",
    "print(type(var_string))"
   ]
  },
  {
   "cell_type": "markdown",
   "metadata": {},
   "source": [
    "<li><b>Integer</b> | int()</li>\n",
    "<p>Menyatakan bilangan bulat</p>"
   ]
  },
  {
   "cell_type": "code",
   "execution_count": 3,
   "metadata": {},
   "outputs": [
    {
     "name": "stdout",
     "output_type": "stream",
     "text": [
      "10\n",
      "<class 'int'>\n"
     ]
    }
   ],
   "source": [
    "var_int=10\n",
    "print(var_int)\n",
    "print(type(var_int))"
   ]
  },
  {
   "cell_type": "markdown",
   "metadata": {},
   "source": [
    "<li><b>Float</b> | float()</li>\n",
    "<p>\tMenyatakan bilangan yang mempunyai koma</p>"
   ]
  },
  {
   "cell_type": "code",
   "execution_count": 4,
   "metadata": {},
   "outputs": [
    {
     "name": "stdout",
     "output_type": "stream",
     "text": [
      "3.14\n",
      "<class 'float'>\n"
     ]
    }
   ],
   "source": [
    "var_float=3.14\n",
    "print(var_float)\n",
    "print(type(var_float))"
   ]
  },
  {
   "cell_type": "markdown",
   "metadata": {},
   "source": [
    "<li><b>List</b> | list()</li>\n",
    "<p>Data untaian yang menyimpan berbagai tipe data dan isinya bisa diubah-ubah</p>"
   ]
  },
  {
   "cell_type": "code",
   "execution_count": 5,
   "metadata": {},
   "outputs": [
    {
     "name": "stdout",
     "output_type": "stream",
     "text": [
      "[1, 2, 3, 4]\n",
      "<class 'list'>\n"
     ]
    }
   ],
   "source": [
    "var_list=[1,2,3,4]\n",
    "print(var_list)\n",
    "print(type(var_list))"
   ]
  },
  {
   "cell_type": "markdown",
   "metadata": {},
   "source": [
    "<li><b>Tuple</b> | tuple()</li>\n",
    "<p>Data untaian yang menyimpan berbagai tipe data tapi isinya <b><i>tidak bisa diubah</i></b></p>"
   ]
  },
  {
   "cell_type": "code",
   "execution_count": 6,
   "metadata": {},
   "outputs": [
    {
     "name": "stdout",
     "output_type": "stream",
     "text": [
      "('satu', 'dua', 'tiga')\n",
      "<class 'tuple'>\n"
     ]
    }
   ],
   "source": [
    "var_tuple=(\"satu\",\"dua\",\"tiga\")\n",
    "print(var_tuple)\n",
    "print(type(var_tuple))"
   ]
  },
  {
   "cell_type": "markdown",
   "metadata": {},
   "source": [
    "<li><b>Dictionary</b></li>\n",
    "<p>Data untaian yang menyimpan berbagai tipe data berupa pasangan penunjuk dan nilai</p>"
   ]
  },
  {
   "cell_type": "code",
   "execution_count": 7,
   "metadata": {},
   "outputs": [
    {
     "name": "stdout",
     "output_type": "stream",
     "text": [
      "{'nama': 'Ali', 'umur': 20}\n",
      "<class 'dict'>\n"
     ]
    }
   ],
   "source": [
    "var_dict={\"nama\":\"Ali\", 'umur':20}\n",
    "print(var_dict)\n",
    "print(type(var_dict))"
   ]
  },
  {
   "cell_type": "markdown",
   "metadata": {},
   "source": [
    "<h2><a name=\"percabangan-keputusan\"></a>2. Struktur Kontrol: Percabangan Keputusan</h2>"
   ]
  },
  {
   "cell_type": "markdown",
   "metadata": {},
   "source": [
    "<li><b>IF Statement</b></li>"
   ]
  },
  {
   "cell_type": "code",
   "execution_count": 10,
   "metadata": {},
   "outputs": [],
   "source": [
    "i = 7                          # inisialisasi variable\n",
    "if i==10:                      # pengecekan kondisi i\n",
    "    print(\"i adalah angka 10\") # jika TRUE maka code ini akan dijalankan"
   ]
  },
  {
   "cell_type": "markdown",
   "metadata": {},
   "source": [
    "<li><b>IF ... ELSE ... Statement</b></li>"
   ]
  },
  {
   "cell_type": "code",
   "execution_count": 11,
   "metadata": {},
   "outputs": [
    {
     "name": "stdout",
     "output_type": "stream",
     "text": [
      "i bukan angka 10\n"
     ]
    }
   ],
   "source": [
    "i = 7                          # inisialisasi variable\n",
    "if i==10:                      # pengecekan kondisi i apakah = 10\n",
    "    print(\"i adalah angka 10\") # jika TRUE maka code ini akan dijalankan\n",
    "else:\n",
    "    print(\"i bukan angka 10\")  # jika FALSE maka code ini akan dijalankan"
   ]
  },
  {
   "cell_type": "markdown",
   "metadata": {},
   "source": [
    "<li><b>IF ... ELIF ... ELSE ... Statement</b></li>"
   ]
  },
  {
   "cell_type": "code",
   "execution_count": 15,
   "metadata": {},
   "outputs": [
    {
     "name": "stdout",
     "output_type": "stream",
     "text": [
      "i lebih besar dari 5\n"
     ]
    }
   ],
   "source": [
    "i = 7\n",
    "if i==5:\n",
    "    print(\"i adalah angka 5\")\n",
    "elif i>5:\n",
    "    print(\"i lebih besar dari 5\")\n",
    "else:\n",
    "    print(\"i lebih kecil dari 5\")"
   ]
  },
  {
   "cell_type": "markdown",
   "metadata": {},
   "source": [
    "<li><b>Nested IF Statement</b></li>"
   ]
  },
  {
   "cell_type": "code",
   "execution_count": 16,
   "metadata": {},
   "outputs": [
    {
     "name": "stdout",
     "output_type": "stream",
     "text": [
      "i kurang dari 7\n",
      "i kurang dari 7 dan kurang dari 3\n"
     ]
    }
   ],
   "source": [
    "i = 2\n",
    "if i<7:\n",
    "    print(\"i kurang dari 7\")\n",
    "    if i<3:\n",
    "        print(\"i kurang dari 7 dan kurang dari 3\")\n",
    "    else:\n",
    "        print(\"i kurang dari 7 tapi lebih dari 3\")"
   ]
  },
  {
   "cell_type": "markdown",
   "metadata": {},
   "source": [
    "<h2><a name=\"operator-matematika-dan-pembanding\"></a>3. Operator Matematika dan Pembanding</h2>"
   ]
  },
  {
   "cell_type": "markdown",
   "metadata": {},
   "source": [
    "<table>\n",
    "    <thead>\n",
    "        <th>Nama Operator</th>\n",
    "        <th>Logo Operator</th>\n",
    "        <th>Nama Operator</th>\n",
    "        <th>Logo Operator</th>\n",
    "    </thead>\n",
    "    <tbody>\n",
    "        <tr>\n",
    "            <td>Tambah</td>\n",
    "            <td>+</td>\n",
    "            <td>Kurang dari</td>\n",
    "            <td><</td>\n",
    "        </tr>\n",
    "        <tr>\n",
    "            <td>Kurang</td>\n",
    "            <td>-</td>\n",
    "            <td>Lebih dari</td>\n",
    "            <td>></td>\n",
    "        </tr>\n",
    "        <tr>\n",
    "            <td>Pembagi</td>\n",
    "            <td>/</td>\n",
    "            <td>Kurang dari sama dengan</td>\n",
    "            <td><=</td>\n",
    "        </tr>\n",
    "        <tr>\n",
    "            <td>Perkalian</td>\n",
    "            <td>*</td>\n",
    "            <td>Lebih dari sama dengan</td>\n",
    "            <td>>=</td>\n",
    "        </tr>\n",
    "        <tr>\n",
    "            <td>Modulus</td>\n",
    "            <td>%</td>\n",
    "            <td>Sama dengan</td>\n",
    "            <td>=</td>\n",
    "        </tr>\n",
    "    </tbody>\n",
    "</table>"
   ]
  },
  {
   "cell_type": "code",
   "execution_count": 17,
   "metadata": {},
   "outputs": [],
   "source": [
    "a = 10\n",
    "b = 5"
   ]
  },
  {
   "cell_type": "code",
   "execution_count": 20,
   "metadata": {},
   "outputs": [
    {
     "name": "stdout",
     "output_type": "stream",
     "text": [
      "hasil a + b = 15\n"
     ]
    }
   ],
   "source": [
    "jumlah = a + b\n",
    "print(\"hasil a + b =\", jumlah)"
   ]
  },
  {
   "cell_type": "code",
   "execution_count": 21,
   "metadata": {},
   "outputs": [
    {
     "name": "stdout",
     "output_type": "stream",
     "text": [
      "hasil a - b = 5\n"
     ]
    }
   ],
   "source": [
    "selisih = a - b\n",
    "print(\"hasil a - b =\", selisih)"
   ]
  },
  {
   "cell_type": "code",
   "execution_count": 22,
   "metadata": {},
   "outputs": [
    {
     "name": "stdout",
     "output_type": "stream",
     "text": [
      "hasil a * b = 50\n"
     ]
    }
   ],
   "source": [
    "kali = a * b\n",
    "print(\"hasil a * b =\", kali)"
   ]
  },
  {
   "cell_type": "code",
   "execution_count": 23,
   "metadata": {
    "scrolled": true
   },
   "outputs": [
    {
     "name": "stdout",
     "output_type": "stream",
     "text": [
      "hasil a / b = 2.0\n"
     ]
    }
   ],
   "source": [
    "bagi = a / b\n",
    "print(\"hasil a / b =\", bagi)"
   ]
  },
  {
   "cell_type": "code",
   "execution_count": 24,
   "metadata": {
    "scrolled": true
   },
   "outputs": [
    {
     "name": "stdout",
     "output_type": "stream",
     "text": [
      "hasil a % b = 0\n"
     ]
    }
   ],
   "source": [
    "mod = a%b\n",
    "print(\"hasil a % b =\", mod)"
   ]
  },
  {
   "cell_type": "markdown",
   "metadata": {},
   "source": [
    "Berikut contoh penggunaan operator matematika dalam percabangan yaitu <b>operator mod</b> untuk menentukan apakah i adalah bil ganjl atau genap"
   ]
  },
  {
   "cell_type": "code",
   "execution_count": 28,
   "metadata": {},
   "outputs": [
    {
     "name": "stdout",
     "output_type": "stream",
     "text": [
      "5 adalah bilangan ganjil\n"
     ]
    }
   ],
   "source": [
    "i = 5\n",
    "if i%2 == 0: # Jika i habis dibagi 2\n",
    "    print(i, \"adalah bilangan genap\")\n",
    "else:\n",
    "    print(i, \"adalah bilangan ganjil\")"
   ]
  },
  {
   "cell_type": "markdown",
   "metadata": {},
   "source": [
    "<h2><a name=\"perulangan\"></a>4. Perulangan</h2>"
   ]
  },
  {
   "cell_type": "markdown",
   "metadata": {},
   "source": [
    "<li><b>Loop with While</b></li>"
   ]
  },
  {
   "cell_type": "code",
   "execution_count": 30,
   "metadata": {
    "scrolled": true
   },
   "outputs": [
    {
     "name": "stdout",
     "output_type": "stream",
     "text": [
      "ini adalah perulangan ke- 0\n",
      "ini adalah perulangan ke- 1\n",
      "ini adalah perulangan ke- 2\n",
      "ini adalah perulangan ke- 3\n",
      "ini adalah perulangan ke- 4\n",
      "ini adalah perulangan ke- 5\n"
     ]
    }
   ],
   "source": [
    "i = 0                                    # inisialisasi nilai i\n",
    "\n",
    "while i<6:                               # loop akan dilakukan selama i kurang dari 6\n",
    "    print(\"ini adalah perulangan ke-\",i) # jalankan code ini dalam loop\n",
    "    i=i+1                                # nilai i akan bertambah 1"
   ]
  },
  {
   "cell_type": "markdown",
   "metadata": {},
   "source": [
    "<li><b>Loop with For</b></li>"
   ]
  },
  {
   "cell_type": "code",
   "execution_count": 32,
   "metadata": {},
   "outputs": [
    {
     "name": "stdout",
     "output_type": "stream",
     "text": [
      "ini adalah perulangan ke- 1\n",
      "ini adalah perulangan ke- 2\n",
      "ini adalah perulangan ke- 3\n",
      "ini adalah perulangan ke- 4\n",
      "ini adalah perulangan ke- 5\n"
     ]
    }
   ],
   "source": [
    "for i in range(1,6):                      # melakukan perulangan dari angka 1 hingga angka sebelum 6\n",
    "    print(\"ini adalah perulangan ke-\", i) # menjalankan code ini dalam loop"
   ]
  },
  {
   "cell_type": "markdown",
   "metadata": {},
   "source": [
    "Contoh lain penggunaan loop for untuk kasus penentuan bilangan ganjil dan genap dari angka 1 hingga 10"
   ]
  },
  {
   "cell_type": "code",
   "execution_count": 33,
   "metadata": {},
   "outputs": [
    {
     "name": "stdout",
     "output_type": "stream",
     "text": [
      "1 adalah bilangan Ganjil\n",
      "2 adalah bilangan Genap\n",
      "3 adalah bilangan Ganjil\n",
      "4 adalah bilangan Genap\n",
      "5 adalah bilangan Ganjil\n",
      "6 adalah bilangan Genap\n",
      "7 adalah bilangan Ganjil\n",
      "8 adalah bilangan Genap\n",
      "9 adalah bilangan Ganjil\n",
      "10 adalah bilangan Genap\n"
     ]
    }
   ],
   "source": [
    "for i in range(1,11):                      # melakukan perulangan dari angka 1 hingga angka sebelum 11\n",
    "    if i%2==0:                             # pengecekan apakah i habis dibagi 2\n",
    "        print(i, \"adalah bilangan Genap\")  # jika TRUE jalankan code ini\n",
    "    else:\n",
    "        print(i, \"adalah bilangan Ganjil\") # jika FALSE jalankan code ini"
   ]
  },
  {
   "cell_type": "markdown",
   "metadata": {},
   "source": [
    "<h2><a name=\"function\"></a>5. Function</h2>"
   ]
  },
  {
   "cell_type": "markdown",
   "metadata": {},
   "source": [
    "<p>Fungsi pada Python dibuat dengan kata kunci <b><i>def</i></b> kemudian diikuti nama fungsinya.</p>\n",
    "<p>Kita juga bisa memberikan <b><i>parameter</i></b> pada fungsi yang kita buat. Parameter adalah variabel yang menampung nilai untuk diproses kedalam suatu fungsi.</p>\n",
    "<p>Cara mengembalikan nilai adalah menggunakan kata kunci <b><i>return</i></b> lalu diikuti dengan nilai atau variabel yang akan dikembalikan</p>"
   ]
  },
  {
   "cell_type": "code",
   "execution_count": 34,
   "metadata": {},
   "outputs": [
    {
     "name": "stdout",
     "output_type": "stream",
     "text": [
      "Luas segitiga: 12\n"
     ]
    }
   ],
   "source": [
    "def luas_segitiga(alas, tinggi):    # fungsi luas_segitiga dengan parameter alas dan tinggi\n",
    "    luas = (alas * tinggi) / 2      # operator matematika untuk menghitung luas segitiga\n",
    "    return luas                     # mengembalikan nilai luas\n",
    "\n",
    "# Pemanggilan fungsi dan assign parameter alas=4 dan tinggi=6\n",
    "print(\"Luas segitiga: %d\" % luas_segitiga(4,6))"
   ]
  },
  {
   "cell_type": "markdown",
   "metadata": {},
   "source": [
    "<h2><a name=\"modul-dan-package\"></a>6. Modul dan Package</h2>"
   ]
  },
  {
   "cell_type": "markdown",
   "metadata": {},
   "source": [
    "<p>Modul adalah objek Python dengan atribut yang diberi nama yang bisa Anda tambahkan dan dijadikan referensi dalam membantu dalam proses pembuatan program. Secara sederhana, modul adalah file yang terdiri dari kode Python. Modul dapat mendefinisikan fungsi, kelas, dan variabel. Python sendiri sudah memiliki banyak library dan module yang bisa diakses oleh pengguna secara free.</p>"
   ]
  },
  {
   "cell_type": "code",
   "execution_count": 36,
   "metadata": {},
   "outputs": [
    {
     "name": "stdout",
     "output_type": "stream",
     "text": [
      "Nilai pi adalah: 3.141592653589793\n"
     ]
    }
   ],
   "source": [
    "import math as m                # import module dengan alias m\n",
    "print(\"Nilai pi adalah:\", m.pi) # math.pi adalah syntax untuk memanggil fungsi"
   ]
  },
  {
   "cell_type": "code",
   "execution_count": 38,
   "metadata": {},
   "outputs": [
    {
     "name": "stdout",
     "output_type": "stream",
     "text": [
      "Nilai pi adalah: 3.141592653589793\n"
     ]
    }
   ],
   "source": [
    "from math import pi             # import fungsi pi dari module math\n",
    "print(\"Nilai pi adalah:\", pi)   # memanggil fungsi pi"
   ]
  },
  {
   "cell_type": "code",
   "execution_count": 39,
   "metadata": {},
   "outputs": [
    {
     "name": "stdout",
     "output_type": "stream",
     "text": [
      "Nilai e adalah: 2.718281828459045\n"
     ]
    }
   ],
   "source": [
    "from math import *              # import semua fungsi dari module math\n",
    "print(\"Nilai e adalah:\", e)     # memanggil fungsi e"
   ]
  },
  {
   "cell_type": "markdown",
   "metadata": {},
   "source": [
    "<h2><a name=\"membaca-dari-file\"></a>7. Membaca dari File</h2>"
   ]
  },
  {
   "cell_type": "markdown",
   "metadata": {},
   "source": [
    "<p>CSV atau comma separated value adalah salah satu tipe file yang digunakan secara luas di dunia programming. Tidak hanya itu CSV pun sering digunakan dalam pengolahan informasi yang dihasilkan spreadsheet untuk diproses lebih lanjut melalui mesin analitik. CSV pun dianggap sebagai file yang agnostik karena dapat digunakan oleh berbagai database untuk proses backup data. CSV dianggap sebagai salah satu tipe data yang sering dipakai untuk mengelola data pada proses lanjutan.</p>"
   ]
  },
  {
   "cell_type": "markdown",
   "metadata": {},
   "source": [
    "<li>Membaca file CSV dengan <b>package csv</b></li>"
   ]
  },
  {
   "cell_type": "code",
   "execution_count": 43,
   "metadata": {},
   "outputs": [
    {
     "name": "stdout",
     "output_type": "stream",
     "text": [
      "['TAHUN', 'NAMA PROVINSI', 'NAMA KABUPATEN/KOTA', 'NAMA KECAMATAN', 'NAMA KELURAHAN', 'LAKI-LAKI WNI', 'PEREMPUAN WNI', 'LAKI-LAKI WNA', 'PEREMPUAN WNA', '', '', '', '', '', '', '', '', '']\n",
      "['2013', 'PROVINSI DKI JAKARTA', 'JAKARTA PUSAT', 'GAMBIR', 'GAMBIR', '1790', '1690', '1', '2', '', '', '', '', '', '', '', '', '']\n",
      "['2013', 'PROVINSI DKI JAKARTA', 'JAKARTA PUSAT', 'GAMBIR', 'CIDENG', '9159', '9206', '5', '6', '', '', '', '', '', '', '', '', '']\n",
      "['2013', 'PROVINSI DKI JAKARTA', 'JAKARTA PUSAT', 'GAMBIR', 'PETOJO UTARA', '10811', '10436', '10', '8', '', '', '', '', '', '', '', '', '']\n",
      "['2013', 'PROVINSI DKI JAKARTA', 'JAKARTA PUSAT', 'GAMBIR', 'PETOJO SELATAN', '8455', '8023', '5', '7', '', '', '', '', '', '', '', '', '']\n",
      "['2013', 'PROVINSI DKI JAKARTA', 'JAKARTA PUSAT', 'GAMBIR', 'KEBON KELAPA', '6300', '6078', '6', '10', '', '', '', '', '', '', '', '', '']\n",
      "['2013', 'PROVINSI DKI JAKARTA', 'JAKARTA PUSAT', 'GAMBIR', 'DURI PULO', '13056', '12588', '2', '6', '', '', '', '', '', '', '', '', '']\n",
      "['2013', 'PROVINSI DKI JAKARTA', 'JAKARTA PUSAT', 'SAWAH BESAR', 'PASAR BARU', '7557', '7552', '34', '55', '', '', '', '', '', '', '', '', '']\n",
      "['2013', 'PROVINSI DKI JAKARTA', 'JAKARTA PUSAT', 'SAWAH BESAR', 'KARANG ANYAR', '16327', '15859', '4', '2', '', '', '', '', '', '', '', '', '']\n",
      "['2013', 'PROVINSI DKI JAKARTA', 'JAKARTA PUSAT', 'SAWAH BESAR', 'KARTINI', '13610', '13808', '3', '3', '', '', '', '', '', '', '', '', '']\n",
      "['2013', 'PROVINSI DKI JAKARTA', 'JAKARTA PUSAT', 'SAWAH BESAR', 'GUNUNG SAHARI UTARA', '9734', '9889', '15', '30', '', '', '', '', '', '', '', '', '']\n",
      "['2013', 'PROVINSI DKI JAKARTA', 'JAKARTA PUSAT', 'SAWAH BESAR', 'MANGGA DUA SELATAN', '17269', '16458', '42', '33', '', '', '', '', '', '', '', '', '']\n",
      "['2013', 'PROVINSI DKI JAKARTA', 'JAKARTA PUSAT', 'KEMAYORAN', 'KEMAYORAN', '12365', '11932', '6', '8', '', '', '', '', '', '', '', '', '']\n",
      "['2013', 'PROVINSI DKI JAKARTA', 'JAKARTA PUSAT', 'KEMAYORAN', 'KEBON KOSONG', '15933', '15665', '33', '25', '', '', '', '', '', '', '', '', '']\n",
      "['2013', 'PROVINSI DKI JAKARTA', 'JAKARTA PUSAT', 'KEMAYORAN', 'HARAPAN MULIA', '13523', '13049', '2', '3', '', '', '', '', '', '', '', '', '']\n",
      "['2013', 'PROVINSI DKI JAKARTA', 'JAKARTA PUSAT', 'KEMAYORAN', 'SERDANG', '17284', '17020', '1', '1', '', '', '', '', '', '', '', '', '']\n",
      "['2013', 'PROVINSI DKI JAKARTA', 'JAKARTA PUSAT', 'KEMAYORAN', 'GUNUNG SAHARI SELATAN', '11730', '11487', '13', '15', '', '', '', '', '', '', '', '', '']\n",
      "['2013', 'PROVINSI DKI JAKARTA', 'JAKARTA PUSAT', 'KEMAYORAN', 'CEMPAKA BARU', '19103', '18601', '', '3', '', '', '', '', '', '', '', '', '']\n",
      "['2013', 'PROVINSI DKI JAKARTA', 'JAKARTA PUSAT', 'KEMAYORAN', 'SUMUR BATU', '13441', '13288', '20', '13', '', '', '', '', '', '', '', '', '']\n",
      "['2013', 'PROVINSI DKI JAKARTA', 'JAKARTA PUSAT', 'KEMAYORAN', 'UTAN PANJANG', '17125', '16351', '4', '3', '', '', '', '', '', '', '', '', '']\n",
      "['2013', 'PROVINSI DKI JAKARTA', 'JAKARTA PUSAT', 'SENEN', 'SENEN', '4236', '3975', '10', '7', '', '', '', '', '', '', '', '', '']\n",
      "['2013', 'PROVINSI DKI JAKARTA', 'JAKARTA PUSAT', 'SENEN', 'KENARI', '5445', '5252', '2', '', '', '', '', '', '', '', '', '', '']\n",
      "['2013', 'PROVINSI DKI JAKARTA', 'JAKARTA PUSAT', 'SENEN', 'PASEBAN', '13787', '13477', '', '', '', '', '', '', '', '', '', '', '']\n",
      "['2013', 'PROVINSI DKI JAKARTA', 'JAKARTA PUSAT', 'SENEN', 'KRAMAT', '17482', '16331', '2', '2', '', '', '', '', '', '', '', '', '']\n",
      "['2013', 'PROVINSI DKI JAKARTA', 'JAKARTA PUSAT', 'SENEN', 'KWITANG', '9176', '9148', '1', '1', '', '', '', '', '', '', '', '', '']\n",
      "['2013', 'PROVINSI DKI JAKARTA', 'JAKARTA PUSAT', 'SENEN', 'BUNGUR', '11200', '10849', '4', '3', '', '', '', '', '', '', '', '', '']\n",
      "['2013', 'PROVINSI DKI JAKARTA', 'JAKARTA PUSAT', 'CEMPAKA PUTIH', 'CEMPAKA PUTIH TIMUR', '13630', '13686', '24', '24', '', '', '', '', '', '', '', '', '']\n",
      "['2013', 'PROVINSI DKI JAKARTA', 'JAKARTA PUSAT', 'CEMPAKA PUTIH', 'CEMPAKA PUTIH BARAT', '20029', '19681', '12', '2', '', '', '', '', '', '', '', '', '']\n",
      "['2013', 'PROVINSI DKI JAKARTA', 'JAKARTA PUSAT', 'CEMPAKA PUTIH', 'RAWASARI', '12462', '12465', '1', '3', '', '', '', '', '', '', '', '', '']\n",
      "['2013', 'PROVINSI DKI JAKARTA', 'JAKARTA PUSAT', 'MENTENG', 'MENTENG', '14576', '14610', '7', '10', '', '', '', '', '', '', '', '', '']\n",
      "['2013', 'PROVINSI DKI JAKARTA', 'JAKARTA PUSAT', 'MENTENG', 'PEGANGSAAN', '13392', '13214', '2', '', '', '', '', '', '', '', '', '', '']\n",
      "['2013', 'PROVINSI DKI JAKARTA', 'JAKARTA PUSAT', 'MENTENG', 'CIKINI', '4825', '4772', '5', '1', '', '', '', '', '', '', '', '', '']\n",
      "['2013', 'PROVINSI DKI JAKARTA', 'JAKARTA PUSAT', 'MENTENG', 'GONDANGDIA', '2196', '2443', '11', '13', '', '', '', '', '', '', '', '', '']\n",
      "['2013', 'PROVINSI DKI JAKARTA', 'JAKARTA PUSAT', 'MENTENG', 'KEBON SIRIH', '7976', '7439', '2', '2', '', '', '', '', '', '', '', '', '']\n",
      "['2013', 'PROVINSI DKI JAKARTA', 'JAKARTA PUSAT', 'TANAH ABANG', 'GELORA', '1865', '1883', '6', '2', '', '', '', '', '', '', '', '', '']\n",
      "['2013', 'PROVINSI DKI JAKARTA', 'JAKARTA PUSAT', 'TANAH ABANG', 'BENDUNGAN HILIR', '12713', '12582', '11', '2', '', '', '', '', '', '', '', '', '']\n",
      "['2013', 'PROVINSI DKI JAKARTA', 'JAKARTA PUSAT', 'TANAH ABANG', 'KARET TENGSIN', '11002', '10271', '10', '3', '', '', '', '', '', '', '', '', '']\n",
      "['2013', 'PROVINSI DKI JAKARTA', 'JAKARTA PUSAT', 'TANAH ABANG', 'PETAMBURAN', '20112', '18794', '17', '13', '', '', '', '', '', '', '', '', '']\n",
      "['2013', 'PROVINSI DKI JAKARTA', 'JAKARTA PUSAT', 'TANAH ABANG', 'KEBON MELATI', '19826', '18672', '8', '4', '', '', '', '', '', '', '', '', '']\n",
      "['2013', 'PROVINSI DKI JAKARTA', 'JAKARTA PUSAT', 'TANAH ABANG', 'KEBON KACANG', '12873', '12357', '3', '4', '', '', '', '', '', '', '', '', '']\n",
      "['2013', 'PROVINSI DKI JAKARTA', 'JAKARTA PUSAT', 'TANAH ABANG', 'KAMPUNG BALI', '7348', '7205', '3', '1', '', '', '', '', '', '', '', '', '']\n",
      "['2013', 'PROVINSI DKI JAKARTA', 'JAKARTA PUSAT', 'JOHAR BARU', 'JOHAR BARU', '21016', '20953', '2', '', '', '', '', '', '', '', '', '', '']\n",
      "['2013', 'PROVINSI DKI JAKARTA', 'JAKARTA PUSAT', 'JOHAR BARU', 'KAMPUNG RAWA', '13337', '12499', '1', '', '', '', '', '', '', '', '', '', '']\n",
      "['2013', 'PROVINSI DKI JAKARTA', 'JAKARTA PUSAT', 'JOHAR BARU', 'GALUR', '11077', '10259', '', '', '', '', '', '', '', '', '', '', '']\n",
      "['2013', 'PROVINSI DKI JAKARTA', 'JAKARTA PUSAT', 'JOHAR BARU', 'TANAH TINGGI', '22680', '21450', '', '', '', '', '', '', '', '', '', '', '']\n"
     ]
    }
   ],
   "source": [
    "import csv\n",
    "\n",
    "# tentukan lokasi file, nama file dan inisialisasi csv\n",
    "f = open('Resources/penduduk_gender_head.csv', 'r')\n",
    "reader = csv.reader(f)\n",
    "\n",
    "# membaca baris per baris\n",
    "for row in reader:\n",
    "    print(row)\n",
    "\n",
    "# menutup file\n",
    "f.close()"
   ]
  },
  {
   "cell_type": "markdown",
   "metadata": {},
   "source": [
    "<li> Membaca file csv dengan <b>library Pandas</b></li>"
   ]
  },
  {
   "cell_type": "code",
   "execution_count": 44,
   "metadata": {},
   "outputs": [
    {
     "data": {
      "text/html": [
       "<div>\n",
       "<style scoped>\n",
       "    .dataframe tbody tr th:only-of-type {\n",
       "        vertical-align: middle;\n",
       "    }\n",
       "\n",
       "    .dataframe tbody tr th {\n",
       "        vertical-align: top;\n",
       "    }\n",
       "\n",
       "    .dataframe thead th {\n",
       "        text-align: right;\n",
       "    }\n",
       "</style>\n",
       "<table border=\"1\" class=\"dataframe\">\n",
       "  <thead>\n",
       "    <tr style=\"text-align: right;\">\n",
       "      <th></th>\n",
       "      <th>TAHUN</th>\n",
       "      <th>NAMA PROVINSI</th>\n",
       "      <th>NAMA KABUPATEN/KOTA</th>\n",
       "      <th>NAMA KECAMATAN</th>\n",
       "      <th>NAMA KELURAHAN</th>\n",
       "      <th>LAKI-LAKI WNI</th>\n",
       "      <th>PEREMPUAN WNI</th>\n",
       "      <th>LAKI-LAKI WNA</th>\n",
       "      <th>PEREMPUAN WNA</th>\n",
       "      <th>Unnamed: 9</th>\n",
       "      <th>Unnamed: 10</th>\n",
       "      <th>Unnamed: 11</th>\n",
       "      <th>Unnamed: 12</th>\n",
       "      <th>Unnamed: 13</th>\n",
       "      <th>Unnamed: 14</th>\n",
       "      <th>Unnamed: 15</th>\n",
       "      <th>Unnamed: 16</th>\n",
       "      <th>Unnamed: 17</th>\n",
       "    </tr>\n",
       "  </thead>\n",
       "  <tbody>\n",
       "    <tr>\n",
       "      <th>0</th>\n",
       "      <td>2013</td>\n",
       "      <td>PROVINSI DKI JAKARTA</td>\n",
       "      <td>JAKARTA PUSAT</td>\n",
       "      <td>GAMBIR</td>\n",
       "      <td>GAMBIR</td>\n",
       "      <td>1790</td>\n",
       "      <td>1690</td>\n",
       "      <td>1.0</td>\n",
       "      <td>2.0</td>\n",
       "      <td>NaN</td>\n",
       "      <td>NaN</td>\n",
       "      <td>NaN</td>\n",
       "      <td>NaN</td>\n",
       "      <td>NaN</td>\n",
       "      <td>NaN</td>\n",
       "      <td>NaN</td>\n",
       "      <td>NaN</td>\n",
       "      <td>NaN</td>\n",
       "    </tr>\n",
       "    <tr>\n",
       "      <th>1</th>\n",
       "      <td>2013</td>\n",
       "      <td>PROVINSI DKI JAKARTA</td>\n",
       "      <td>JAKARTA PUSAT</td>\n",
       "      <td>GAMBIR</td>\n",
       "      <td>CIDENG</td>\n",
       "      <td>9159</td>\n",
       "      <td>9206</td>\n",
       "      <td>5.0</td>\n",
       "      <td>6.0</td>\n",
       "      <td>NaN</td>\n",
       "      <td>NaN</td>\n",
       "      <td>NaN</td>\n",
       "      <td>NaN</td>\n",
       "      <td>NaN</td>\n",
       "      <td>NaN</td>\n",
       "      <td>NaN</td>\n",
       "      <td>NaN</td>\n",
       "      <td>NaN</td>\n",
       "    </tr>\n",
       "    <tr>\n",
       "      <th>2</th>\n",
       "      <td>2013</td>\n",
       "      <td>PROVINSI DKI JAKARTA</td>\n",
       "      <td>JAKARTA PUSAT</td>\n",
       "      <td>GAMBIR</td>\n",
       "      <td>PETOJO UTARA</td>\n",
       "      <td>10811</td>\n",
       "      <td>10436</td>\n",
       "      <td>10.0</td>\n",
       "      <td>8.0</td>\n",
       "      <td>NaN</td>\n",
       "      <td>NaN</td>\n",
       "      <td>NaN</td>\n",
       "      <td>NaN</td>\n",
       "      <td>NaN</td>\n",
       "      <td>NaN</td>\n",
       "      <td>NaN</td>\n",
       "      <td>NaN</td>\n",
       "      <td>NaN</td>\n",
       "    </tr>\n",
       "    <tr>\n",
       "      <th>3</th>\n",
       "      <td>2013</td>\n",
       "      <td>PROVINSI DKI JAKARTA</td>\n",
       "      <td>JAKARTA PUSAT</td>\n",
       "      <td>GAMBIR</td>\n",
       "      <td>PETOJO SELATAN</td>\n",
       "      <td>8455</td>\n",
       "      <td>8023</td>\n",
       "      <td>5.0</td>\n",
       "      <td>7.0</td>\n",
       "      <td>NaN</td>\n",
       "      <td>NaN</td>\n",
       "      <td>NaN</td>\n",
       "      <td>NaN</td>\n",
       "      <td>NaN</td>\n",
       "      <td>NaN</td>\n",
       "      <td>NaN</td>\n",
       "      <td>NaN</td>\n",
       "      <td>NaN</td>\n",
       "    </tr>\n",
       "    <tr>\n",
       "      <th>4</th>\n",
       "      <td>2013</td>\n",
       "      <td>PROVINSI DKI JAKARTA</td>\n",
       "      <td>JAKARTA PUSAT</td>\n",
       "      <td>GAMBIR</td>\n",
       "      <td>KEBON KELAPA</td>\n",
       "      <td>6300</td>\n",
       "      <td>6078</td>\n",
       "      <td>6.0</td>\n",
       "      <td>10.0</td>\n",
       "      <td>NaN</td>\n",
       "      <td>NaN</td>\n",
       "      <td>NaN</td>\n",
       "      <td>NaN</td>\n",
       "      <td>NaN</td>\n",
       "      <td>NaN</td>\n",
       "      <td>NaN</td>\n",
       "      <td>NaN</td>\n",
       "      <td>NaN</td>\n",
       "    </tr>\n",
       "  </tbody>\n",
       "</table>\n",
       "</div>"
      ],
      "text/plain": [
       "   TAHUN         NAMA PROVINSI NAMA KABUPATEN/KOTA NAMA KECAMATAN  \\\n",
       "0   2013  PROVINSI DKI JAKARTA       JAKARTA PUSAT         GAMBIR   \n",
       "1   2013  PROVINSI DKI JAKARTA       JAKARTA PUSAT         GAMBIR   \n",
       "2   2013  PROVINSI DKI JAKARTA       JAKARTA PUSAT         GAMBIR   \n",
       "3   2013  PROVINSI DKI JAKARTA       JAKARTA PUSAT         GAMBIR   \n",
       "4   2013  PROVINSI DKI JAKARTA       JAKARTA PUSAT         GAMBIR   \n",
       "\n",
       "   NAMA KELURAHAN  LAKI-LAKI WNI  PEREMPUAN WNI  LAKI-LAKI WNA  PEREMPUAN WNA  \\\n",
       "0          GAMBIR           1790           1690            1.0            2.0   \n",
       "1          CIDENG           9159           9206            5.0            6.0   \n",
       "2    PETOJO UTARA          10811          10436           10.0            8.0   \n",
       "3  PETOJO SELATAN           8455           8023            5.0            7.0   \n",
       "4    KEBON KELAPA           6300           6078            6.0           10.0   \n",
       "\n",
       "   Unnamed: 9  Unnamed: 10  Unnamed: 11  Unnamed: 12  Unnamed: 13  \\\n",
       "0         NaN          NaN          NaN          NaN          NaN   \n",
       "1         NaN          NaN          NaN          NaN          NaN   \n",
       "2         NaN          NaN          NaN          NaN          NaN   \n",
       "3         NaN          NaN          NaN          NaN          NaN   \n",
       "4         NaN          NaN          NaN          NaN          NaN   \n",
       "\n",
       "   Unnamed: 14  Unnamed: 15  Unnamed: 16  Unnamed: 17  \n",
       "0          NaN          NaN          NaN          NaN  \n",
       "1          NaN          NaN          NaN          NaN  \n",
       "2          NaN          NaN          NaN          NaN  \n",
       "3          NaN          NaN          NaN          NaN  \n",
       "4          NaN          NaN          NaN          NaN  "
      ]
     },
     "execution_count": 44,
     "metadata": {},
     "output_type": "execute_result"
    }
   ],
   "source": [
    "import pandas as pd\n",
    "\n",
    "table = pd.read_csv(\"https://academy.dqlab.id/dataset/penduduk_gender_head.csv\")\n",
    "table.head()"
   ]
  },
  {
   "cell_type": "markdown",
   "metadata": {},
   "source": [
    "<h2><a name=\"grafik-dasar-dengan-matplotlib\"></a>8. Grafik Dasar dengan Matplotlib</h2>"
   ]
  },
  {
   "cell_type": "code",
   "execution_count": 52,
   "metadata": {},
   "outputs": [
    {
     "data": {
      "image/png": "[encoded data removed]",
      "text/plain": [
       "<Figure size 432x288 with 1 Axes>"
      ]
     },
     "metadata": {
      "needs_background": "light"
     },
     "output_type": "display_data"
    }
   ],
   "source": [
    "# load library\n",
    "import pandas as pd\n",
    "import numpy as np\n",
    "import matplotlib.pyplot as plt\n",
    "\n",
    "# baca file csv\n",
    "table = pd.read_csv(\"https://academy.dqlab.id/dataset/penduduk_gender_head.csv\")\n",
    "\n",
    "# set x_label dengan data nama kelurahan\n",
    "x_label = table['NAMA KELURAHAN']\n",
    "\n",
    "# buat bar chart untuk menampilkan data jumlah laki-laki WNI berdasarkan data nama kelurahan\n",
    "plt.bar(x=np.arange(len(x_label)), height=table['LAKI-LAKI WNI'])\n",
    "plt.xticks(np.arange(len(x_label)), table['NAMA KELURAHAN'], rotation=90)\n",
    "plt.xlabel(\"Kelurahan di Jakarta Pusat\")\n",
    "plt.ylabel(\"Jumlah Penduduk Laki-Laki\")\n",
    "plt.title(\"Persebaran Jumlah Penduduk Laki-Laki di Jakarta Pusat\")\n",
    "plt.show()"
   ]
  },
  {
   "cell_type": "code",
   "execution_count": null,
   "metadata": {},
   "outputs": [],
   "source": []
  }
 ],
 "metadata": {
  "kernelspec": {
   "display_name": "Python 3",
   "language": "python",
   "name": "python3"
  },
  "language_info": {
   "codemirror_mode": {
    "name": "ipython",
    "version": 3
   },
   "file_extension": ".py",
   "mimetype": "text/x-python",
   "name": "python",
   "nbconvert_exporter": "python",
   "pygments_lexer": "ipython3",
   "version": "3.8.3"
  }
 },
 "nbformat": 4,
 "nbformat_minor": 4
}
