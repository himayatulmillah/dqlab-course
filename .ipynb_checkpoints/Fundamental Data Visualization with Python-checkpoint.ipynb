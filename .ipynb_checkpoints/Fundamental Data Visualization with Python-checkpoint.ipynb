{
 "cells": [
  {
   "cell_type": "markdown",
   "metadata": {},
   "source": [
    "# Fundamental Data Visualization with Python"
   ]
  },
  {
   "cell_type": "markdown",
   "metadata": {},
   "source": [
    "<p><b>About :</b> Modul ini akan membahas beragam cara memvisualisasikan data, terutama cara memilih grafik yang tepat serta memodifikasinya agar fokus pada pesan yang ingin disampaikan. Modul ini juga akan menuntun kamu untuk memahami elemen-elemen pada grafik sehingga kamu dapat mengubah elemen-elemen tersebut sesuai kebutuhan. Modul ini tidak akan mengajarkan kamu menjadi seorang analis data dengan kemampuan desain grafis sekaligus. Namun, setidaknya kamu dapat memahami bagaimana sebuah desain visual dapat membantu audiens memahami data yang disajikan.</p>\n",
    "\n",
    "<p><b>Course :</b> <a href=https://academy.dqlab.id/main/package/practice/177?pf=0>Fundamental Data Visualization with Python</a></p>"
   ]
  },
  {
   "cell_type": "markdown",
   "metadata": {},
   "source": [
    "<h2>Module Content:</h2>\n",
    "\n",
    "<div class=\"alert alert-block alert-info\" style=\"margin-top: 20px\">\n",
    "    <ul>\n",
    "        <li><a href=\"#kenapa-perlu-visualisasi-data\">Kenapa Perlu Visualisasi Data dan Bagaimana Caranya?</a></li>\n",
    "        <ul>\n",
    "            <li><a href=\"#apa-itu-visualisasi-data\">Visualisasi Data, Apa itu?</a></li>\n",
    "            <li><a href=\"#apa-yang-kamu-dapatkan\">Apa yang kamu dapatkan?</a></li>\n",
    "            <li><a href=\"#mengenal-visualisasi-data\">Mengenal Visualisasi Data</a></li>\n",
    "            <li><a href=\"#urgensi-visualisasi-data\">Urgensi Visualisasi Data</a></li>\n",
    "            <li><a href=\"#eksplorasi-versus-naratif\">Eksplorasi Versus Naratif</a></li>\n",
    "        </ul>\n",
    "        <li><a href=\"#jenis-grafik-dan-penggunaannya\">Jenis Grafik dan Penggunaannya</a></li>\n",
    "        <ul>\n",
    "            <li><a href=\"#proses-visualisasi-data\">Proses Visualisasi Data</a></li>\n",
    "            <li><a href=\"#jenis-visualisasi-data\">Jenis Visualisasi Data</a></li>\n",
    "            <li><a href=\"#panduan-ringkas-memilih-grafik\">Panduan Ringkas Memilih Grafik</a></li>\n",
    "            <li><a href=\"#karakter-visual\">Karakter Visual</a></li>\n",
    "            <li><a href=\"#\"></a></li>\n",
    "            <li><a href=\"#\"></a></li>\n",
    "        </ul>\n",
    "        <li><a href=\"#mini-quiz\">Mini Quiz</a></li>\n",
    "    </ul>\n",
    "</div>"
   ]
  },
  {
   "cell_type": "markdown",
   "metadata": {},
   "source": [
    "<h2><a name=\"kenapa-perlu-visualisasi-data\"></a>Chapter 1: Kenapa Perlu Visualisasi Data dan Bagaimana Caranya?</h2>"
   ]
  },
  {
   "cell_type": "markdown",
   "metadata": {},
   "source": [
    "<p>Machine Learning adalah teknik dimana komputer dapat mengekstraksi atau mempelajari pola dari suatu data, kemudian dengan pola yang telah dipelajari dari data historis, komputer mampu mengenali dan memprediksi trend, hasil atau kejadian di masa mendatang atau dari observasi baru tanpa perlu diprogram secara eksplisit.</p>\n",
    "\n",
    "<p>Selain mengenali email sebagai spam atau ukan spam ada banyak contoh penggunaan machine learning lainnya, seperti memprediksi harga saham, pengenalan wajah (face recognition), mengenali tulisan tangan, mendeteksi fraud/scam kartu kredit, memprediksi cuaca, dan memprediksi permintaan barang</p>"
   ]
  },
  {
   "cell_type": "markdown",
   "metadata": {},
   "source": [
    "<h3><a name=\"apa-itu-visualisasi-data\"></a>Visualisasi Data, Apa itu?</h3>"
   ]
  },
  {
   "cell_type": "markdown",
   "metadata": {},
   "source": [
    "<p>Seorang analis data seringkali menghabiskan waktunya untuk berkutat dengan data, menganalisisnya hingga benar-benar menghasilkan kesimpulan yang tepat. Pendek kata, yang diurusi melulu soal angka.</p>\n",
    "\n",
    "<p>Namun, ada satu hal yang seringkali dilewatkan, yakni ketika harus menyajikannya kepada orang lain yang belum tentu paham dengan data tersebut. Hal yang paling umum terjadi adalah: data disajikan apa adanya. Misalnya, dalam bentuk grafik dengan desain <i>template</i> dari aplikasi seperti Microsoft Excel. Karena menggunakan <i>template</i>, tampilan data itu menjadi monoton, bikin bosan, kadang tidak pas dengan kesimpulan dan pesan yang ingin disampaikan.</p>\n",
    "\n",
    "\n",
    "<p>Permasalahan lain pun muncul, yakni ketika orang yang melihatnya salah mengartikan data. Ini dapat terjadi karena, misalnya, data dipresentasikan tanpa narasi yang jelas. Atau, bisa jadi tata letak dan elemen grafisnya tidak tepat sehingga audiens tersesat dari maksud dan tujuan sang analis.</p>\n",
    "\n",
    "<p>Maka dari itu, penting bagi seorang analis data untuk memvisualisasikan hasil kerjanya dengan baik. Analis data perlu mengetahui cara menggambarkan data agar audiens memahami konteks dari data yang disajikan.</p>"
   ]
  },
  {
   "cell_type": "markdown",
   "metadata": {},
   "source": [
    "<h3><a name=\"apa-yang-kamu-dapatkan\"></a>Apa yang kamu dapatkan?</h3>"
   ]
  },
  {
   "cell_type": "markdown",
   "metadata": {},
   "source": [
    "<ul>\n",
    "    <li>Modul ini akan membahas beragam cara memvisualisasikan data, terutama cara memilih grafik yang tepat serta memodifikasinya agar fokus pada pesan yang ingin disampaikan. Setelah menuntaskan modul ini, diharapkan tidak lagi menggunakan jenis grafik yang itu-itu saja dengan desain yang itu lagi dan itu lagi.</li>\n",
    "    <li>Modul ini juga akan menuntun untuk memahami elemen-elemen pada grafik sehingga dapat mengubah elemen-elemen tersebut sesuai kebutuhan. Pada modul ini akan mempelajari bagian mana yang perlu dan tidak perlu ditampilkan dalam visualisasi data.</li>\n",
    "    <li>Modul ini tidak akan mengajarkan menjadi seorang analis data dengan kemampuan desain grafis sekaligus. Namun, setidaknya lebih mudah untuk dapat memahami bagaimana sebuah desain visual dapat membantu audiens memahami data yang disajikan.</li>\n",
    "</ul>"
   ]
  },
  {
   "cell_type": "markdown",
   "metadata": {},
   "source": [
    "<h3><a name=\"mengenal-visualisasi-data\"></a>Mengenal Visualisasi Data</h3>"
   ]
  },
  {
   "cell_type": "markdown",
   "metadata": {},
   "source": [
    "<p>Visualisasi data dapat didefinisikan sebagai cara merepresentasikan data melalui komponen visual, seperti posisi, komposisi, panjang, luas, dan warna. Visualisasi data juga mencakup cara berkomunikasi secara efektif kepada audiens melalui bahasa gambar.</p>\n",
    "\n",
    "<p>Coba perhatikan berikut, gambar tersebut dibuat oleh engineer asal Prancis, Charles Joseph Minard, yang terlibat dalam invasi militer Napoleon ke Rusia pada 1812-1813.</p>\n",
    "\n",
    "<img src=\"Resources/Charles_Joseph_Minard.png\">\n",
    "<span><p style=\"text-align:center\"><b>Gambar 1:</b> Grafik kekuatan pasukan Napoleon dalam invasi ke Rusia pada 1812-1813.</p></span>\n",
    "\n",
    "<p>Garis coklat dan hitam memperlihatkan kekuatan pasukan dari Prancis menuju dan kembali dari Moskow. Lebar garis menggambarkan banyaknya serdadu. Lebarnya mengecil karena jumlahnya terus menyusut.</p>\n",
    "\n",
    "<p>Gambar yang dibuat tahun 1869 tersebut juga memperlihatkan peta, rute dan arah perjalanan, jarak tempuh, hingga grafik temperatur pada medan yang dilalui.</p>\n",
    "\n",
    "<p>Siapapun yang melihatnya, dan paham bahasanya, akan dengan mudah mengetahui data dan cerita yang disampaikan dalam gambar tersebut. Invasi itu berakhir dengan hilangnya sebagian besar kekuatan Napoleon. Awalnya lebih dari 400.000-an prajurit, yang kembali hanya 10.000-an. Sisanya menjadi korban akibat penyakit, suhu dingin, kelaparan, atau serangan lawan. Tragis!</p>"
   ]
  },
  {
   "cell_type": "markdown",
   "metadata": {},
   "source": [
    "<h3><a name=\"urgensi-visualisasi-data\"></a>Urgensi Visualisasi Data</h3>"
   ]
  },
  {
   "cell_type": "markdown",
   "metadata": {},
   "source": [
    "<p>Dari contoh sebelumnya, jelaslah bahwa penyajian data dengan visualisasi yang tepat bisa dengan cepat mendapat perhatian </p>audiens dan membuatnya paham tentang apa yang disampaikan.\n",
    "\n",
    "<p>Itulah tujuan utama visualisasi data. Bukan sekadar membuat tampilan data yang enak dilihat, tetapi juga harus bisa membuat </p>data lebih mudah dipahami, jelas, dan menarik. Yang tidak kalah penting, harus dapat meyakinkan audiens sesuai kesimpulan dan narasi yang dibangun analis.</p>\n",
    "\n",
    "<p>Pembahasan tentang visualisasi data ini dimaksudkan dengan tujuan sebagai berikut:</p>\n",
    "\n",
    "<ol>\n",
    "    <li><b style=\"color:blue\">Memecahkan masalah, bukan sekadar tampil cantik.</b> Ingatlah bahwa informasi visual bukan lebih mengutamakan hasil akhir berupa infografik atau presentasi serba indah. Sasarannya adalah memproses dan mengorganisasi fakta dan data, menemukan pola, hingga menghasilkan solusi. Desain visual membantu mengomunikasikan penyelesaian masalah itu agar mudah dipahami.</li>\n",
    "    <li><b style=\"color:blue\">Fokus pada target dan audiens, bukan tools ataupun tekniknya.</b> Modul ini tidak mewajibkan penggunaan aplikasi tertentu ataupun teknik khusus untuk memvisualkan data. Maka itu diperbolehkan menggunakan cara dan tools apa pun untuk itu. Yang diutamakan adalah apa tujuan menampilkan data tersebut dan siapakah audiensnya.</li>\n",
    "    <li><b style=\"color:blue\">Panduan dan alur, bukan asal menata gambar.</b> Urutan dan penempatan elemen visual harus dapat memandu audiens untuk memahami masalah hingga menuju jalan keluarnya. Memilih jenis dan ukuran huruf, warna yang tepat, mengatur tata letak visualnya, serta mengatur pola elemen visual menjadi penting agar audiens memahami maksud dan pesan yang dimunculkan dari data.</li>\n",
    "    <li><b style=\"color:blue\">Konsep dan kerangka berpikir, bukan cuma kreativitas visual.</b> Visualisasi data adalah mentransfer konsep dan cara berpikir atas data dan proses analisisnya dengan cara yang mudah dipahami oleh oleh manusia. Tujuannya adalah meyakinkan audiens dengan konsep dan kerangka pikir yang dibangun. Data dan analisisnya menjadi bukti penguat dan tak terbantahkan atas konsep tersebut.</li>\n",
    "    <li><b style=\"color:blue\">Kontekstual.</b> Data yang disajikan harus saling mendukung satu sama lain. Rangkaian visual yang dibuat harus memiliki konteks yang sama dan terorganisasi dengan baik sehingga menambah kejelasan makna dari pesan yang ingin disampaikan.</li>\n",
    "</ol> "
   ]
  },
  {
   "cell_type": "markdown",
   "metadata": {},
   "source": [
    "<h3><a name=\"eksplorasi-versus-naratif\"></a>Eksplorasi Versus Naratif</h3>"
   ]
  },
  {
   "cell_type": "markdown",
   "metadata": {},
   "source": [
    "<p>Sebelum menentukan visual yang cocok atas suatu data, seorang analis data harus memahami siapa atau audiens yang akan membaca data tersebut. Dengan mengetahui karakter audiens, seorang data analis akan bisa memperkirakan kepadatan data dan informasi yang akan disajikan.</p>\n",
    "\n",
    "<p>Hal itu akan memengaruhi pilihan visualisasi data, yakni visual yang mengeksplorasi data sedetail mungkin atau grafis yang menarasikan informasi dengan ringkas dan jelas. Apa bedanya?</p>\n",
    "\n",
    "<br>\n",
    "\n",
    "<p><b style=\"color:blue\">Visual naratif</b> seringkali digunakan untuk presentasi, biasanya statis, dan berisi ringkasan informasi. Tujuan utamanya adalah menjelaskan hasil akhir atau kesimpulan dari analis.</p>\n",
    "\n",
    "<p>Hasil tersebut bisa jadi disebarluaskan untuk banyak orang dengan berbagai tingkat pemahaman terhadap data. Audiens tidak perlu lama-lama membacanya dan semestinya bisa segera memahaminya. Oleh karena itu, penyajiannya cenderung menonjolkan keindahan visual. Maka tidak heran bila informasi tidak disampaikan secara detail, misalnya grafik tanpa legenda, label data, ataupun detail lain.</p>\n",
    "\n",
    "<p>Contoh visual naratif dapat dilihat pada <b>Gambar 2</b>.</p>\n",
    "\n",
    "<img src=\"Resources/visual_naratif.png\" width=70%>\n",
    "<span><p style=\"text-align:center\"><b>Gambar 2:</b> Heatmap menggambarkan transaksi kumulatif harian selama satu tahun. Grafik ini tidak menampilkan data secara detail karena tujuan utamanya adalah memperlihatkan pada jam berapa transaksi tertinggi dan terendah terjadi.</p></span>\n",
    "\n",
    "<p>Sebaliknya, visual eksploratif bertujuan memaparkan proses yang dilakukan untuk mendapatkan hasil akhir yang tepat. Penyajiannya dibuat serinci dan seakurat mungkin untuk meyakinkan bahwa prosesnya benar.</p>\n",
    "\n",
    "<br>\n",
    "\n",
    "<p><b style=\"color:blue\">Visual eksploratif</b> cenderung menampilkan banyak data. Audiensnya pun tidak sembarang orang karena butuh waktu lebih lama untuk mencerna kompleksitas data tersebut. Visual ini lebih ditujukan untuk orang-orang yang memang memahami data atau bisa menginvestigasi data tersebut.</p>\n",
    "\n",
    "<p>Contoh visual eksploratif dapat dilihat pada <b>Gambar 3</b>.</p>\n",
    "\n",
    "<img src=\"Resources/visual_eksploratif.png\" width=70%>\n",
    "<span><p style=\"text-align:center\"><b>Gambar 3:</b> Grafik transaksi harian selama satu tahun. Grafik menggunakan elemen secara detail untuk memperlihatkan performa per jam setiap hari.</p></span>\n",
    "\n",
    "<p>Baik visual naratif maupun eksploratif ini memiliki tantangan tersendiri dalam pengerjaannya. Untuk grafis naratif, sudah jelas bahwa kekuatan penyajiannya terletak pada <b>cerita dan pesan</b> dari narasi yang disampaikan. Cerita dan pesan itu akan mudah dipahami apabila didukung dengan paparan yang tidak bertele-tele dan kemasan visual \"menuntun\" audiens pada tujuan yang sama. Wujudnya bisa berupa infografik, annual report, materi promosi, hingga company profile.</p>\n",
    "\n",
    "<p>Adapun visual eksploratif haruslah menonjolkan kekuatan analisis, hubungan sebab-akibat perubahan data, dan proses lain. Detail data ditampilkan untuk mendukung kesahihan analisis.</p>"
   ]
  },
  {
   "cell_type": "markdown",
   "metadata": {},
   "source": [
    "<h2><a name=\"jenis-grafik-dan-penggunaannya\"></a>Chapter 2: Jenis Grafik dan Penggunaannya</h2>"
   ]
  },
  {
   "cell_type": "markdown",
   "metadata": {},
   "source": [
    "<h3><a name=\"proses-visualisasi-data\"></a>Proses Visualisasi Data</h3>"
   ]
  },
  {
   "cell_type": "markdown",
   "metadata": {},
   "source": [
    "<p>Sebelum menarasikan data, hal yang harus diperhatikan adalah:</p>\n",
    "<ol>\n",
    "    <li><b>Apa</b>. Tanyakan pada dirimu, pesan/hal apa yang paling ingin kamu sampaikan kepada audiens. Misalnya, kamu ingin audiens tahu bahwa performa perusahaan terus menurun. Atau, kinerja perusahaan sedang bagus, tetapi sebetulnya masih perlu ada perbaikan di beberapa sektor. Jika pesan utama sudah diketahui, periksalah apakah data dan grafik yang kamu miliki sudah menunjukkan dengan jelas pesan tersebut.</li>\n",
    "    <li><b>Untuk apa</b> orang lain perlu mengetahui hal yang kamu sampaikan tadi. Di sinilah kamu tunjukkan hasil analisismu terhadap data yang kamu miliki. Hasil analisismu harus bisa membuktikan bahwa pesan yang kamu sampaikan tadi penting karena ada efek lanjutan yang tak kalah penting dari pesan tersebut. Dari contoh tadi, misalnya, kamu ingin audiens tahu bahwa performa perusahaan akan semakin anjlok jika tidak segera mengambil tindakan tepat. Atau, untuk contoh kedua, perusahaan sebetulnya bisa mendapatkan hasil lebih maksimal jika sektor-sektor tertentu segera mengevaluasi kinerjanya yang merosot.</li>\n",
    "    <li><b>Bagaimana</b> caranya agar masalah yang kamu sampaikan tadi bisa teratasi. Di sini kamu bisa menyampaikan sejumlah alternatif solusi atau action plan yang diperlukan, tentunya berdasarkan analisis data yang menunjukkan bahwa rencana itulah yang paling baik untuk ditindaklanjuti</li>\n",
    "</ol>\n",
    "\n",
    "<p>Dengan memperhatikan hal-hal tersebut, kita bisa lebih fokus pada pesan yang ingin disampaikan kepada audiens. Juga bisa lebih fokus menentukan data apa saja yang perlu disajikan. Ini penting karena pada langkah berikutnya, kita bisa melanjutkan analisis data dan menyampaikan kesimpulan yang benar-benar berkaitan dengan masalah yang dipaparkan.</p>\n",
    "\n",
    "<img src=\"Resources/proses_visualisasi.png\" style=\"width:50%\">\n",
    "<span><p style=\"text-align:center\"><b>Gambar 4:</b> Sketsa visualisasi.</p></span>"
   ]
  },
  {
   "cell_type": "markdown",
   "metadata": {},
   "source": [
    "<h3><a name=\"jenis-visualisasi-data\"></a>Jenis Visualisasi Data</h3>"
   ]
  },
  {
   "cell_type": "markdown",
   "metadata": {},
   "source": [
    "<p>Jika sketsa tadi sudah selesai dibuat, kaji kembali apakah data dan grafik yang ditampilkan sudah sesuai dengan pertanyaan-pertanyaan tadi. Seperti yang kita ketahui bahwa data bisa ditampilkan dalam berbagai jenis tampilan. Masing-masing jenis memiliki karakter visual dan fungsi berbeda-beda. Maka sketsa grafik pada langkah sebelumnya perlu diperiksa apakah jenisnya cocok dengan pesan yang ingin disampaikan.</p>\n",
    "\n",
    "<p>Ada beberapa grafik yang lazim digunakan dan mudah dipahami orang awam seperti tabel, grafik batang/kolom, dan pie chart atau kombinasi dari itu semua. Secara umum visualisasi data itu bisa diwujudkan dengan cara teks, grafik, tabel, dan peta. Dan grafik yang disebutkan diawal adalah bagian dari jenis-jenis visualisasi data di atas. Masih banyak jenis lainnya yang bisa dieksplorasi. Dari situ, kita bisa merangkainya menjadi sebuah tata visual yang kompleks, misalnya infografik, dashboard, dan sebagainya.</p>\n",
    "\n",
    "<p>Selain itu juga kita harus belajar tentang memilih warna, mengatur ukuran huruf, serta tata letak ataupun bentuk-bentuk visual untuk membuat visualisasi data menjadi sempurna.</p>\n",
    "\n",
    "<p style=\"color:blue\"><b>Visualisasi data bukan hanya soal angka, tetapi juga memanjakan mata.</b></p>"
   ]
  },
  {
   "cell_type": "markdown",
   "metadata": {},
   "source": [
    "<p>Membaca grafik bukanlah satu pekerjaan mudah bagi sebagian orang, terutama yang tidak terbiasa melihat data. Melihat dua garis saling bersinggungan, misalnya, bisa menimbulkan arti berbeda bagi orang yang tidak memahami data.</p>\n",
    "\n",
    "<p>Oleh karena itu, penting sekali memperkenalkan visualisasi data dengan sesederhana mungkin agar alur membaca dan mengambil kesimpulan atas elemen visual yang ditampilkan dengan lebih mudah.</p>\n",
    "\n",
    "<p>Ada berbagai macam cara menampilkan data, entah dalam bentuk grafik, angka, atau teks. Cara menampilkannya tergantung pada pesan yang ingin disampaikan kepada audiens. Berikut penjelasan singkat tentang sejumlah pilihan visualisasi data.</p>"
   ]
  },
  {
   "cell_type": "markdown",
   "metadata": {},
   "source": [
    "<table>\n",
    "    <thead>\n",
    "        <th width=10%><p style=\"text-align:center\">Jenis Grafik</p></th>\n",
    "        <th width=20%><p style=\"text-align:center\">Bentuk</p></th>\n",
    "        <th><p style=\"text-align:center\">Keterangan</p></th>\n",
    "    </thead>\n",
    "    <tbody>\n",
    "        <tr>\n",
    "            <td><p><b>Teks dan angka</b></p></td>\n",
    "            <td><img src=\"Resources/teks_dan_angka.png\"></td>\n",
    "            <td><p>Data tidak harus ditampilkan dalam bentuk grafik. Dapat menggunakan teks dan angka saja, dengan catatan hanya 1-2 data yang ingin ditampilkan.</p>\n",
    "                <p>Beri penebalan atau warna berbeda pada angka atau teks yang ingin ditonjolkan agar <b>perhatian pembaca terarah</b> pada bagian tersebut.</p></td>\n",
    "        </tr>\n",
    "        <tr>\n",
    "            <td><p><b>Diagram garis</b></p></td>\n",
    "            <td><img src=\"Resources/diagram_garis.png\"></td>\n",
    "            <td><p>Line chart paling tepat digunakan untuk menunjukkan tren dari waktu ke waktu. Sumbu X biasanya mewakili periode waktu, sumbu Y menggambarkan nilai/kuantitas. Contohnya jumlah penjualan dari pekan ke pekan selama satu tahun.</p>\n",
    "                <p>Grafik ini dapat memuat banyak titik data yang dapat diatur saling berdekatan sesuai kerapatan periode waktu. Karena visualnya yang simpel,  bisa menggunakan banyak garis sekaligus dalam satu tampilan. Ini memudahkan <b>penggambaran data tren</b> dari beragam kategori.</p></td>\n",
    "        </tr>\n",
    "        <tr>\n",
    "            <td><p><b>Diagram area</b></p></td>\n",
    "            <td><img src=\"Resources/diagram_area.png\"></td>\n",
    "            <td><p>Diagram ini merupakan pengembangan dari diagram garis. Diagram area kerap digunakan untuk menggambarkan nilai total dalam angka maupun persentase dari waktu ke waktu.</p>\n",
    "                <p>Pemilihan warna dan volume area menjadi penting untuk menitikberatkan bagian mana yang ingin ditonjolkan. Yang perlu diperhatikan saat menggunakan diagram ini adalah, <b>jangan sampai ada area yang menutupi area lain</b>.</p></td>\n",
    "        </tr>\n",
    "        <tr>\n",
    "            <td><p><b>Diagram batang</b></p></td>\n",
    "            <td><img src=\"Resources/diagram_batang.png\"></td>\n",
    "            <td><p>Disebut juga dengan bar chart, paling cocok untuk <b>komparasi data</b> dengan banyak kategori atau rangkaian data (data series). Keterangan panjang pada kategori sangat dimungkinkan dan diletakkan pada sumbu Y.</p>\n",
    "                <p>Lebar batang dalam horizontal bar ditentukan dari nilai data pada sumbu X. Tinggi batang sekitar dua kali celah antarbatang.</p>\n",
    "                <p>Untuk jenis <b>data kategori</b>, jarak antarbatang tidak boleh terlalu rapat karena setiap batang merupakan kategori yang berdiri sendiri, bukan suatu rangkaian data yang saling terkait. Contohnya grafik penjualan berdasarkan produk. Untuk kemudahan membaca data, dapat <b>mengurutkan kategori berdasarkan besar nilainya</b>, misal dari nilai tertinggi hingga terendah.</p>\n",
    "                <p>Lain halnya dengan <b>data series</b>, di mana data didistribusikan berdasarkan kategori berjenjang, misalnya populasi penduduk berdasarkan rentang usia atau tingkat pendidikan. <b>Urutan kategori tidak boleh diubah</b>, harus sesuai dengan jenjangnya. Celah antarbatang dapat dipersempit hingga hampir menempel. Grafik untuk data series seperti ini sering disebut dengan histogram.</p></td>\n",
    "        </tr>\n",
    "        <tr>\n",
    "            <td><p><b>Grafik kolom</b></p></td>\n",
    "            <td><img src=\"Resources/grafik_kolom.gif\"></td>\n",
    "            <td><p>Column chart atau vertical chart bisa digunakan untuk melihat <b>perbandingan sejumlah kategori</b> dan atau perubahannya dalam periode waktu tertentu (<b>tren</b>).</p>\n",
    "                <p>Saat digunakan untuk menampilkan <b>tren</b>, fungsinya sama dengan grafik garis (line chart). Perubahan waktu ini tecermin pada sumbu X. <b>Jangan gunakan sumbu Y untuk keterangan waktu</b>. Cara membacanya dari kiri ke kanan, jadi semakin ke kanan, waktunya semakin baru atau menuju ujung waktu (urut waktu). Gunakan <b>satu warna</b> untuk semua kolom.</p>\n",
    "                <p>Saat digunakan untuk menampilkan beberapa <b>kategori</b>, gunakan <b>warna berbeda</b> untuk setiap kategori. Alternatif lain, menggunakan warna yang sama, tetapi kepekatannya bervariasi tergantung nilai masing-masing kategori, semakin pekat semakin menonjol.</p>\n",
    "                <p>Ingat bahwa grafik batang vertikal punya keterbatasan dalam menggambarkan komparasi kategori. Grafik ini akan sulit dibaca jika memuat terlalu banyak kategori. Susah pula dibaca bila keterangan kategori pada sumbu X terlalu panjang karena teks akan tampil secara vertikal.</p>\n",
    "                <p>Sama seperti bar chart, dapat mengurutkan penempatan kategori pada grafik kolom berdasarkan urutan nilainya, misalnya dari tertinggi hingga terendah atau sebaliknya.</p>\n",
    "                <p><b>Catatan penting</b>, selalu gunakan zero baseline atau titik nol pada sumbu Y.</p></td>\n",
    "        </tr>\n",
    "        <tr>\n",
    "            <td><p><b>Histogram</b></p></td>\n",
    "            <td><img src=\"Resources/histogram.gif\"></td>\n",
    "            <td><p>Sekilas grafik ini mirip dengan bar/column chart. Namun, sebetulnya ada perbedaan mendasar antara histogram dan grafik batang.</p>\n",
    "                <p>Pada grafik batang, baik horizontal maupun vertikal, lebar pilar diatur agar tidak terlalu besar. Jarak antarbatang juga diberi celah lebih longgar. Ini dilakukan karena antara satu kolom/batang dengan yang lain menggambarkan kategori yang benar-benar berbeda, tidak terkait satu sama lain, misalnya jenis produk. Urutan kategori boleh diubah berdasarkan urutan besaran nilai masing-masing kategori. Boleh menggunakan lebih dari satu warna untuk membedakan tiap kategori.</p>\n",
    "                <p>Adapun pada histogram, jarak antarkolom/batang dibuat serapat mungkin, bahkan menempel. Dari segi visual, jarak sempit ini akan membawa mata pembaca untuk <b>menghubungkan kelompok-kelompok data</b> dan mengurutkannya berdasarkan kriteria tertentu, misalnya jenjang pendidikan dan rentang usia. <b>Urutan kelompok data ini tidak boleh diacak</b>, tetapi harus sesuai dengan jenjangnya. Warna batangnya dibuat seragam.</p></td>\n",
    "        </tr>\n",
    "        <tr>\n",
    "            <td><p><b>Grafik Lingkaran</b></p></td>\n",
    "            <td><img src=\"Resources/grafik_lingkaran.png\"></td>\n",
    "            <td><p>Nama lainnya adalah pie chart, digunakan untuk menggambarkan <b>komposisi antarbagian</b> pada suatu kesatuan utuh. Bagian ini biasanya direpresentasikan dalam satuan persen sehingga jika seluruh bagian dijumlahkan, hasilnya sama dengan seratus persen.</p>\n",
    "                <p>Jenis grafik ini akan mudah dipahami jika <b>kategori yang ditampilkan tidak banyak</b>, misal 5 bagian. Semakin banyak bagiannya, apalagi jika proposinya sangat kecil, akan kian sulit membacanya.</p>\n",
    "                <p>Tidak ada cara baku dalam membaca datanya, tetapi biasanya seseorang akan membaca bagian paling besar karena paling mudah dibaca.</p></td>\n",
    "        </tr>\n",
    "        <tr>\n",
    "            <td><p><b>Grafik Donat</b></p></td>\n",
    "            <td><img src=\"Resources/grafik_donat.png\"></td>\n",
    "            <td><p>Grafik ini merupakan bentuk lain dari pie chart, fungsinya juga merepresentasikan proporsi atau komposisi antarbagian. Jumlah total bagian pun seratus persen.</p>\n",
    "                <p>Karena tampilannya lebih sederhana, grafik ini juga kerap dimodifikasi menjadi setengah lingkaran. Uniknya, meski dibentuk separuh lingkaran, jumlah seluruh bagiannya tetap seratus persen.</p>\n",
    "                <p>Modifikasi lainnya adalah dengan membentuknya seperti grafik batang melingkar dan berlapis-lapis (sunburst) untuk menggambarkan detail data pada satu kategori.</p>\n",
    "                <p>Sama seperti pie chart, batasi banyaknya kategori dalam grafik ini. <b>Jika selisih nilai kategori terlalu kecil, munculkan label datanya</b>.</p></td>\n",
    "        </tr>\n",
    "        <tr>\n",
    "            <td><p><b>Scatter Plot</b></p></td>\n",
    "            <td><img src=\"Resources/scatter_plot.gif\"></td>\n",
    "            <td><p>Grafik ini digunakan untuk menggambarkan <b>hubungan antara dua variabel</b>. Masing-masing data diplot menjadi sebuah titik yang diposisikan sesuai nilai pada sumbu XY. Sumbu X mewakili nilai abstrak yang tidak tergantung variabel lain, sehingga disebut variabel independen. Adapun nilai Y merupakan variabel dependen dan ditempatkan pada sumbu vertikal.</p>\n",
    "                <p>Yang perlu menjadi perhatian adalah, karena wujudnya berupa titik-titik tersebar, bantulah audiens dengan garis rata-rata atau penanda khusus yang menjadi standar data, misalnya target penjualan atau batas nilai minimal.\n",
    "Jenis grafik ini dapat dimodifikasi menjadi bubble chart, sehingga data yang digunakan dapat dikombinasikan dengan <b>variabel ketiga dan nilainya digunakan untuk menentukan besar balon data</b>.</p></td>\n",
    "        </tr>\n",
    "        <tr>\n",
    "            <td><p><b>Peta</b></p></td>\n",
    "            <td><img src=\"Resources/peta.png\"></td>\n",
    "            <td><p>Data pada peta terdiri dari dua unsur, yakni data spasial dan nilai untuk spasial tersebut. Data spasial berisi koordinat, minimal terdiri dari dua koordinat dua dimensi (x dan y). Satu koordinat lagi (z) dapat ditambahkan untuk gambar tiga dimensi.</p>\n",
    "                <p>Data spasial dapat terdiri dari satu titik (point) atau banyak titik yang saling terhubung menjadi garis tertutup (poligon/area) atau terbuka (polyline).\n",
    "Contoh data spasial berbentuk titik adalah lokasi kantor cabang atau pasar. Contoh garis terbuka antara lain batas administrasi, jalan, rute, dan jaringan pipa gas. Adapun contoh poligon antara lain wilayah provinsi, kota, atau area khusus.</p>\n",
    "                <p>Jarak dan skala pada peta tidak melulu harus mengikuti koordinat bumi. Anda dapat menyederhanakannya dalam bentuk lain agar mudah dipahami.</p></td>\n",
    "        </tr>\n",
    "        <tr>\n",
    "            <td><p><b>Grafik Radar</b></p></td>\n",
    "            <td><img src=\"Resources/grafik_radar.png\"></td>\n",
    "            <td><p>Grafik ini menampilkan data multivariabel yang digambarkan dalam koordinat polar pada sumbu berbeda-beda dengan satuan/unit yang sama. Panjang jari-jari menggambarkan nilai setiap variabel.</p>\n",
    "                <p>Jumlah variabel ideal adalah 6-8 variabel. Setiap variabel memiliki satu sumbu yang dipisahkan dalam sudut yang sama dengan sumbu yang lain sehingga grafik tampak simetris.</p>\n",
    "                <p>Grafik radar bisa dipakai untuk membandingkan beberapa kategori. Hindari terlalu banyak kategori karena akan membuat garis/area dalam grafik bertumpuk berlapis-lapis.</p></td>\n",
    "        </tr>\n",
    "    </tbody>\n",
    "</table>"
   ]
  },
  {
   "cell_type": "markdown",
   "metadata": {},
   "source": [
    "<h3><a name=\"panduan-ringkas-memilih-grafik\"></a>Panduan Ringkas Memilih Grafik</h3>"
   ]
  },
  {
   "cell_type": "markdown",
   "metadata": {},
   "source": [
    "<table>\n",
    "    <thead>\n",
    "        <th><p style=\"text-align:center\">Tujuan</p></th>\n",
    "        <th colspan=7><p style=\"text-align:center\">Jenis Grafik yang Cocok</p></th>\n",
    "    </thead>\n",
    "    <tbody>\n",
    "        <tr>\n",
    "            <td><p><b>Hanya menonjolkan satu nilai variabel</b></p></td>\n",
    "            <td><img src=\"Resources/satu_nilai.png\"></td>\n",
    "            <td><img src=\"Resources/grid.gif\"></td>\n",
    "            <td><img src=\"Resources/pie_donat.gif\"></td>\n",
    "            <td><img src=\"Resources/batang_kolom.gif\"></td>\n",
    "            <td></td>\n",
    "            <td></td>\n",
    "            <td></td>\n",
    "        </tr>\n",
    "        <tr>\n",
    "            <td><p><b>Menunjukkan peringkat/ranking</b></p></td>\n",
    "            <td><img src=\"Resources/batang_kolom.gif\"></td>\n",
    "            <td><img src=\"Resources/bubble.png\"></td>\n",
    "            <td><img src=\"Resources/slopegraph.gif\"></td>\n",
    "            <td><img src=\"Resources/lolipop.gif\"></td>\n",
    "            <td><img src=\"Resources/dot.gif\"></td>\n",
    "            <td></td>\n",
    "            <td></td>\n",
    "        </tr>\n",
    "        <tr>\n",
    "            <td><p><b>Menunjukkan dua variabel atau lebih</b></p></td>\n",
    "            <td><img src=\"Resources/kolom_ganda.gif\"></td>\n",
    "            <td><img src=\"Resources/slopegraph.gif\"></td>\n",
    "            <td><img src=\"Resources/berlawanan.gif\"></td>\n",
    "            <td><img src=\"Resources/dot_plot.gif\"></td>\n",
    "            <td><img src=\"Resources/dobel_poin.gif\"></td>\n",
    "            <td><img src=\"Resources/small_multiples.gif\"></td>\n",
    "            <td></td>\n",
    "        </tr>\n",
    "        <tr>\n",
    "            <td><p><b>Membandingkan dengan nilai tertentu (<i>benchmark</i>)</b></p></td>\n",
    "            <td><img src=\"Resources/benchmark.gif\"></td>\n",
    "            <td><img src=\"Resources/kombinasi.gif\"></td>\n",
    "            <td><img src=\"Resources/bullet_chart.png\"></td>\n",
    "            <td></td>\n",
    "            <td></td>\n",
    "            <td></td>\n",
    "            <td></td>\n",
    "        </tr>\n",
    "        <tr>\n",
    "            <td><p><b>Perbandingan (komparasi) antarkategori</b></p></td>\n",
    "            <td><img src=\"Resources/kolom_ganda.gif\"></td>\n",
    "            <td><img src=\"Resources/pictogram.png\"></td>\n",
    "            <td><img src=\"Resources/radar.png\"></td>\n",
    "            <td><img src=\"Resources/small_multiples.gif\"></td>\n",
    "            <td><img src=\"Resources/piramid.gif\"></td>\n",
    "            <td></td>\n",
    "            <td></td>\n",
    "        </tr>\n",
    "        <tr>\n",
    "            <td><p><b>Menampilkan hasil survei</b></p></td>\n",
    "            <td><img src=\"Resources/stacked_bar.gif\"></td>\n",
    "            <td><img src=\"Resources/small_multiples.gif\"></td>\n",
    "            <td><img src=\"Resources/kolom_ganda.gif\"></td>\n",
    "            <td><img src=\"Resources/piramid.gif\"></td>\n",
    "            <td><img src=\"Resources/aggregated_bar.gif\"></td>\n",
    "            <td><img src=\"Resources/angka_ikon.png\"></td>\n",
    "            <td><img src=\"Resources/batang_kolom.gif\"></td>\n",
    "        </tr>\n",
    "        <tr>\n",
    "            <td><p><b>Menunjukkan proporsi bagian dari jumlah total</b></p></td>\n",
    "            <td><img src=\"Resources/donat_pie.gif\"></td>\n",
    "            <td><img src=\"Resources/stacked_bar.gif\"></td>\n",
    "            <td><img src=\"Resources/histogram_1.gif\"></td>\n",
    "            <td><img src=\"Resources/tree_map.gif\"></td>\n",
    "            <td><img src=\"Resources/sunburst.png\"></td>\n",
    "            <td><img src=\"Resources/peta.gif\"></td>\n",
    "            <td></td>\n",
    "        </tr>\n",
    "        <tr>\n",
    "            <td><p><b>Menunjukkan perubahan nilai pada satu variabel</b></p></td>\n",
    "            <td><img src=\"Resources/scatter_plot.png\"></td>\n",
    "            <td><img src=\"Resources/kolom.png\"></td>\n",
    "            <td></td>\n",
    "            <td></td>\n",
    "            <td></td>\n",
    "            <td></td>\n",
    "            <td></td>\n",
    "        </tr>\n",
    "        <tr>\n",
    "            <td><p><b>Menampilkan simpangan (<i>deviasi</i>) data</b></p></td>\n",
    "            <td><img src=\"Resources/deviation_bar.gif\"></td>\n",
    "            <td><img src=\"Resources/area.png\"></td>\n",
    "            <td><img src=\"Resources/bar_chart.png\"></td>\n",
    "            <td><img src=\"Resources/kombinasi.png\"></td>\n",
    "            <td></td>\n",
    "            <td></td>\n",
    "            <td></td>\n",
    "        </tr>\n",
    "        <tr>\n",
    "            <td><p><b>Menggunakan teks sebagai data utama</b></p></td>\n",
    "            <td><img src=\"Resources/word_cloud.png\"></td>\n",
    "            <td><img src=\"Resources/teks.png\"></td>\n",
    "            <td><img src=\"Resources/heatmap.png\"></td>\n",
    "            <td></td>\n",
    "            <td></td>\n",
    "            <td></td>\n",
    "            <td></td>\n",
    "        </tr>\n",
    "        <tr>\n",
    "            <td><p><b>Menampilkan perubahan nilai dari waktu ke waktu (<i>tren</i>)</b></p></td>\n",
    "            <td><img src=\"Resources/diagram_garis.png\"></td>\n",
    "            <td><img src=\"Resources/deviation_bar.gif\"></td>\n",
    "            <td><img src=\"Resources/dot_plot.gif\"></td>\n",
    "            <td><img src=\"Resources/slopegraph.gif\"></td>\n",
    "            <td></td>\n",
    "            <td></td>\n",
    "            <td></td>\n",
    "        </tr>\n",
    "    </tbody>\n",
    "</table>\n",
    "<span><i>Effective Data Visualization, The Right Chart for The Right Data (Stephanie DH Evergreen - 2017 - SAGE Publication, Inc)</i></span>"
   ]
  },
  {
   "cell_type": "markdown",
   "metadata": {},
   "source": [
    "<h3><a name=\"karakter-visual\"></a>Karakter Visual</h3>"
   ]
  },
  {
   "cell_type": "markdown",
   "metadata": {},
   "source": [
    "<p>Setelah berhasil memilih grafik yang benar sesuai tujuan penyajian data, tantangan berikutnya adalah bagaimana membuat grafik tersebut menjadi mudah dipahami oleh audiens. Di sini kata kuncinya adalah <b>audiens</b>, yang karakternya berbeda-beda.</p>\n",
    "\n",
    "<p>Karena itu, sangat penting bagi seorang pemapar data untuk memahami karakter audiens. Seseorang yang terbiasa melihat data, tentu saja akan lebih mudah mencerna grafik apa pun yang ada di hadapannya, bukan? Sebaliknya, orang yang tak biasa menyaksikan gambar-gambar disertai angka, apalagi disertai rumus atau perhitungan rumit, tentu membutuhkan waktu lebih lama menerjemahkan sajian grafis tentang data.</p>\n",
    "\n",
    "<p>Karena karakter audiens yang beragam, maka cara mereka membaca data dan grafik pun tidak sama satu sama lain. Karena itu, dalam menyajikan data, seorang analisis sebisa mungkin \"mengarahkan\" pembaca. Mengarahkan di sini berarti harus dapat membawa alam pikir audiens seturut dengan logika analisis data hingga menyimpulkan hasilnya. Juga mengarahkan mata pembaca dalam menelusuri sajian visual atas analisis data dan kesimpulan tersebut.</p>\n",
    "\n",
    "<img src=\"Resources/tren_penjualan.png\" width=60%>\n",
    "<span><p style=\"text-align:center\"><b>Gambar 5:</b> Grafik garis ini menggambarkan tren penjualan tiga produk selama satu tahun. Alih-alih menonjolkan garis teratas (produk A) yang memiliki nilai lebih tinggi, grafik ini justru menonjolkan produk B dengan warna terang yang mencolok mata.</p></span>\n",
    "\n",
    "<p>Lihatlah dua ilustrasi grafik pada Gambar 5 dan Gambar 6. Pada <b>Gambar 5</b>, tidak ada petunjuk jelas tentang bagaimana cara membaca grafik tersebut. Karena tidak ada ketentuan khusus, orang yang melihatnya akan membacanya dengan cara berbeda-beda. Mungkin ada yang membacanya mulai dari judul grafik, tetapi ada pula yang langsung mengarahkan perhatian pada garis berwarna cerah di bagian tengah.</p>\n",
    "\n",
    "<img src=\"Resources/tren_penjualan.gif\" width=60%>\n",
    "<span><p style=\"text-align:center\"><b>Gambar 6:</b> Simulasi urutan membaca grafik oleh audiens. Urutan ini tidak baku, tergantung pada karakter audiens yang melihatnya. Namun, penggunaan warna terang pada garis di tengah akan mengarahkan pembaca untuk fokus pada garis tersebut.</p></span>\n",
    "\n",
    "<p><b>Gambar 6</b> memperlihatkan contoh pola membaca grafik tersebut. Belum tentu semua orang akan menggunakan alur baca yang sama seperti ilustrasi tersebut. Namun, setidaknya penggunaan warna, tebal-tipis garis, maupun besar-kecil ukuran huruf, menuntun audiens untuk menentukan bagian mana yang perlu dibaca lebih dulu.</p>\n",
    "\n",
    "<p>Coba bayangkan bila semua garis pada grafik tersebut memiliki ketebalan dan warna yang sama. Demikian ukuran huruf pada judul, penjelasan grafik, legenda, hingga keterangan di masing-masing sumbu. Sudah dapat dipastikan, tidak ada bagian yang paling menonjol dalam grafik tersebut, bukan? Kalau begitu kondisinya, dapat dipastikan pula setiap orang yang membacanya akan punya cara sendiri-sendiri untuk mencerna grafik tersebut.</p>"
   ]
  },
  {
   "cell_type": "markdown",
   "metadata": {},
   "source": [
    "<h2><a name=\"mini-quiz\"></a>Chapter 6: Mini Quiz</h2>"
   ]
  },
  {
   "cell_type": "markdown",
   "metadata": {},
   "source": [
    "<div style=\"border: 2px solid orange;border-radius: 5px;\">\n",
    "    <b style=\"color:orange;padding:10px\">Promos for our e-commerce - Part 1</b>\n",
    "    <div style=\"padding:25px\">\n",
    "        <p>Divisi e-commerce kita ingin memprediksi apakah user- user yang sedang mengunjungi halaman website yang baru akan mengklik banner promo (ads) di halaman tersebut atau tidak berdasarkan feature yang ada.</p>\n",
    "        <p>Adapun feature - feature dalam dataset ini adalah :</p>\n",
    "        <ol>\n",
    "            <li><b>'Daily Time Spent on Site'</b> : lama waktu user mengunjungi site (menit)</li>\n",
    "        </ol>\n",
    "    </div>\n",
    "</div>"
   ]
  },
  {
   "cell_type": "code",
   "execution_count": null,
   "metadata": {},
   "outputs": [],
   "source": []
  }
 ],
 "metadata": {
  "kernelspec": {
   "display_name": "Python 3",
   "language": "python",
   "name": "python3"
  },
  "language_info": {
   "codemirror_mode": {
    "name": "ipython",
    "version": 3
   },
   "file_extension": ".py",
   "mimetype": "text/x-python",
   "name": "python",
   "nbconvert_exporter": "python",
   "pygments_lexer": "ipython3",
   "version": "3.8.3"
  }
 },
 "nbformat": 4,
 "nbformat_minor": 4
}
