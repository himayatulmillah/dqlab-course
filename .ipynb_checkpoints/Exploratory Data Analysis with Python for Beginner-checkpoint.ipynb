{
 "cells": [
  {
   "cell_type": "markdown",
   "metadata": {},
   "source": [
    "# Exploratory Data Analysis with Python for Beginner"
   ]
  },
  {
   "cell_type": "markdown",
   "metadata": {},
   "source": [
    "<p><b>About :</b> Memperkenalkan kamu pada konsep dasar dalam pengolahan data menggunakan Python, penjelasan mengenai library penting yang perlu dikuasai dalam penggunaan Python, serta contoh pemanfaatan Python dalam membuat summary data sederhana pada tahap pre-proses analisis.</p>\n",
    "\n",
    "<p><b>Course :</b> <a href=https://academy.dqlab.id/main/package/practice/163?pf=0>Exploratory Data Analysis with Python for Beginner</a></p>"
   ]
  },
  {
   "cell_type": "markdown",
   "metadata": {},
   "source": [
    "<h2>Module Content:</h2>\n",
    "\n",
    "<div class=\"alert alert-block alert-info\" style=\"margin-top: 20px\">\n",
    "    <ul>\n",
    "        <li><a href=\"#pengenalan-library\">Pengenalan Library dalam Python</a></li>\n",
    "        <li><a href=\"#eda-dengan-pandas\">Exploratory Data Analysis dengan Pandas</a></li>\n",
    "        <li><a href=\"#mini-quiz\">Mini Quiz</a></li>\n",
    "    </ul>\n",
    "</div>"
   ]
  },
  {
   "cell_type": "markdown",
   "metadata": {},
   "source": [
    "<h2><a name=\"pengenalan-library\"></a>Chapter 1: Pengenalan Library dalam Python</h2>"
   ]
  },
  {
   "cell_type": "markdown",
   "metadata": {},
   "source": [
    "<p>Library pada Python merupakan kumpulan code yang bersifat open-source yang dapat dipanggil ke dalam Python dan digunakan untuk membantu komputasi. Library dasar pada Python yang digunakan untuk analisis data antara lain NumPy, SciPy, Pandas, dan Matplotlib dengan fungsional yang berbeda - beda. Modul ini akan menjabarkan kegunaan masing - masing library beserta contoh kasus penggunaan library tersebut dalam menyelesaikan real - case di dunia kerja.</p>"
   ]
  },
  {
   "cell_type": "markdown",
   "metadata": {},
   "source": [
    "<h4>Library NumPy</h4>"
   ]
  },
  {
   "cell_type": "markdown",
   "metadata": {},
   "source": [
    "Numpy berasal dari kata <i>‘Numerical Python’</i>, sesuai namanya NumPy berfungsi sebagai library untuk melakukan proses <b>komputasi numerik</b> terutama dalam bentuk <i>array</i> multidimensional (1-Dimensi ataupun 2-Dimensi). <i>Array</i> merupakan kumpulan dari variabel yang memiliki tipe data yang sama. NumPy menyimpan data dalam bentuk <i>arrays</i>."
   ]
  },
  {
   "cell_type": "markdown",
   "metadata": {},
   "source": [
    "<h4>Library Pandas</h4>"
   ]
  },
  {
   "cell_type": "markdown",
   "metadata": {},
   "source": [
    "<p>Pandas merupakan library yang memudahkan dalam melakukan manipulasi, <i>cleansing</i> maupun analisis struktur data. Dengan menggunakan Pandas, dapat memanfaatkan lima fitur utama dalam pemrosesan dan analisis data, yaitu <i>load</i>, <i>prepare</i>, <i>manipulate</i>, <i>modelling</i>, dan <i>analysis</i> data.</p>\n",
    "\n",
    "<p>Pandas menggunakan konsep array dari NumPy namun memberikan index kepada array tersebut, sehingga disebut <i>series</i> ataupun <i>data frame</i>. Sehingga bisa dikatakan Pandas menyimpan data dalam <i>dictionary-based NumPy arrays. 1-Dimensi labelled array dinamakan sebagai Series. Sedangkan 2-Dimensi dinamakan sebagai <i>Data Frame</i>.</p>"
   ]
  },
  {
   "cell_type": "markdown",
   "metadata": {},
   "source": [
    "<h4>Library SciPy</h4>"
   ]
  },
  {
   "cell_type": "markdown",
   "metadata": {},
   "source": [
    "<p>Scipy dibangun untuk bekerja dengan array NumPy dan menyediakan banyak komputasi numerik yang ramah pengguna dan efisien seperti rutinitas untuk integrasi, diferensiasi dan optimasi numerik.</p>\n",
    "\n",
    "<p>Baik NumPy maupun SciPy berjalan pada semua operating system, cepat untuk diinstall dan gratis. NumPy dan SciPy mudah digunakan, tetapi cukup kuat untuk diandalkan oleh beberapa data <i>scientist</i> dan <i>researcher</i> terkemuka dunia.</p>"
   ]
  },
  {
   "cell_type": "markdown",
   "metadata": {},
   "source": [
    "<h4>Library Matplotlib</h4>"
   ]
  },
  {
   "cell_type": "markdown",
   "metadata": {},
   "source": [
    "<p>Matplotlib merupakan library dari Python yang umum digunakan untuk visualisasi data. Matplotlib memiliki kapabilitas untuk membuat visualisasi data 2-dimensional. Contoh visualisasi yang dapat dibuat dengan menggunakan matplotlib diantaranya adalah</p>\n",
    "<ol>\n",
    "    <li>Line chart</li>\n",
    "    <li>Bar chart</li>\n",
    "    <li>Pie chart</li>\n",
    "    <li>Box plot chart</li>\n",
    "    <li>Violin chart</li>\n",
    "    <li>Errorbar chart</li>\n",
    "    <li>Scatter chart</li>\n",
    "</ol>\n",
    "\n",
    "<p>Jenis-jenis chart lainnya juga dapat dibuat melalui library ini.</p>"
   ]
  },
  {
   "cell_type": "markdown",
   "metadata": {},
   "source": [
    "<h2><a name=\"eda-dengan-pandas\"></a>Chapter 2: Exploratory Data Analysis dengan Pandas</h2>"
   ]
  },
  {
   "cell_type": "markdown",
   "metadata": {},
   "source": [
    "<h4>Membuat Data Agregat</h4>"
   ]
  },
  {
   "cell_type": "code",
   "execution_count": null,
   "metadata": {},
   "outputs": [],
   "source": []
  },
  {
   "cell_type": "markdown",
   "metadata": {},
   "source": [
    "<h2><a name=\"mini-quiz\"></a>Chapter 3: Mini Quiz</h2>"
   ]
  },
  {
   "cell_type": "markdown",
   "metadata": {},
   "source": [
    "<div style=\"border: 2px solid orange;border-radius: 5px;\">\n",
    "    <b style=\"color:orange;padding:10px\">Daily number of customers on Desember</b>\n",
    "    <div style=\"padding:25px\">\n",
    "        <p>Dengan menggunakan dataset yang sama ('https://dqlab-dataset.s3-ap-southeast-1.amazonaws.com/retail_raw_reduced.csv'), buatlah sebuah line chart dengan Matplotlib, yang menunjukkan jumlah pembeli harian (daily number of customers) selama bulan Desember.</p>\n",
    "        <p>Beberapa spesifikasi yang harus diperhatikan:</p>\n",
    "        <ul>\n",
    "            <li>Ukuran figure adalah 10x5</li>\n",
    "            <li>Sumbu-x adalah tanggal pembelian, dari tanggal 1 - 31 Desember 2019</li>\n",
    "            <li>Sumbu-y adalah jumlah unique customers di tiap tanggal</li>\n",
    "            <li>Title dan axis label harus ada, tulisan dan style-nya silakan disesuaikan sendiri</li>\n",
    "        </ul>\n",
    "    </div>\n",
    "</div>"
   ]
  },
  {
   "cell_type": "code",
   "execution_count": null,
   "metadata": {},
   "outputs": [],
   "source": []
  }
 ],
 "metadata": {
  "kernelspec": {
   "display_name": "Python 3",
   "language": "python",
   "name": "python3"
  },
  "language_info": {
   "codemirror_mode": {
    "name": "ipython",
    "version": 3
   },
   "file_extension": ".py",
   "mimetype": "text/x-python",
   "name": "python",
   "nbconvert_exporter": "python",
   "pygments_lexer": "ipython3",
   "version": "3.8.3"
  }
 },
 "nbformat": 4,
 "nbformat_minor": 4
}
