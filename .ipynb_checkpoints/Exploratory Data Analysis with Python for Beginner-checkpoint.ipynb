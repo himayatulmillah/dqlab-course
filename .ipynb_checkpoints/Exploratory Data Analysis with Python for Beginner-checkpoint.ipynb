{
 "cells": [
  {
   "cell_type": "markdown",
   "metadata": {},
   "source": [
    "# Exploratory Data Analysis with Python for Beginner"
   ]
  },
  {
   "cell_type": "markdown",
   "metadata": {},
   "source": [
    "<p><b>About :</b> Memperkenalkan kamu pada konsep dasar dalam pengolahan data menggunakan Python, penjelasan mengenai library penting yang perlu dikuasai dalam penggunaan Python, serta contoh pemanfaatan Python dalam membuat summary data sederhana pada tahap pre-proses analisis.</p>\n",
    "\n",
    "<p><b>Course :</b> <a href=https://academy.dqlab.id/main/package/practice/163?pf=0>Exploratory Data Analysis with Python for Beginner</a></p>"
   ]
  },
  {
   "cell_type": "markdown",
   "metadata": {},
   "source": [
    "<h2>Module Content:</h2>\n",
    "\n",
    "<div class=\"alert alert-block alert-info\" style=\"margin-top: 20px\">\n",
    "    <ul>\n",
    "        <li><a href=\"#pengenalan-library\">Pengenalan Library dalam Python</a></li>\n",
    "        <li><a href=\"#eda-dengan-pandas\">Exploratory Data Analysis dengan Pandas</a></li>\n",
    "        <li><a href=\"#mini-quiz\">Mini Quiz</a></li>\n",
    "    </ul>\n",
    "</div>"
   ]
  },
  {
   "cell_type": "markdown",
   "metadata": {},
   "source": [
    "<h2><a name=\"pengenalan-library\"></a>Chapter 1: Pengenalan Library dalam Python</h2>"
   ]
  },
  {
   "cell_type": "markdown",
   "metadata": {},
   "source": [
    "<p>Library pada Python merupakan kumpulan code yang bersifat open-source yang dapat dipanggil ke dalam Python dan digunakan untuk membantu komputasi. Library dasar pada Python yang digunakan untuk analisis data antara lain NumPy, SciPy, Pandas, dan Matplotlib dengan fungsional yang berbeda - beda. Modul ini akan menjabarkan kegunaan masing - masing library beserta contoh kasus penggunaan library tersebut dalam menyelesaikan real - case di dunia kerja.</p>"
   ]
  },
  {
   "cell_type": "markdown",
   "metadata": {},
   "source": [
    "<h4>Library NumPy</h4>"
   ]
  },
  {
   "cell_type": "markdown",
   "metadata": {},
   "source": [
    "Numpy berasal dari kata <i>‘Numerical Python’</i>, sesuai namanya NumPy berfungsi sebagai library untuk melakukan proses <b>komputasi numerik</b> terutama dalam bentuk <i>array</i> multidimensional (1-Dimensi ataupun 2-Dimensi). <i>Array</i> merupakan kumpulan dari variabel yang memiliki tipe data yang sama. NumPy menyimpan data dalam bentuk <i>arrays</i>."
   ]
  },
  {
   "cell_type": "markdown",
   "metadata": {},
   "source": [
    "<h4>Library Pandas</h4>"
   ]
  },
  {
   "cell_type": "markdown",
   "metadata": {},
   "source": [
    "<p>Pandas merupakan library yang memudahkan dalam melakukan manipulasi, <i>cleansing</i> maupun analisis struktur data. Dengan menggunakan Pandas, dapat memanfaatkan lima fitur utama dalam pemrosesan dan analisis data, yaitu <i>load</i>, <i>prepare</i>, <i>manipulate</i>, <i>modelling</i>, dan <i>analysis</i> data.</p>\n",
    "\n",
    "<p>Pandas menggunakan konsep array dari NumPy namun memberikan index kepada array tersebut, sehingga disebut <i>series</i> ataupun <i>data frame</i>. Sehingga bisa dikatakan Pandas menyimpan data dalam <i>dictionary-based NumPy arrays. 1-Dimensi labelled array dinamakan sebagai Series. Sedangkan 2-Dimensi dinamakan sebagai <i>Data Frame</i>.</p>"
   ]
  },
  {
   "cell_type": "markdown",
   "metadata": {},
   "source": [
    "<h4>Library SciPy</h4>"
   ]
  },
  {
   "cell_type": "markdown",
   "metadata": {},
   "source": [
    "<p>Scipy dibangun untuk bekerja dengan array NumPy dan menyediakan banyak komputasi numerik yang ramah pengguna dan efisien seperti rutinitas untuk integrasi, diferensiasi dan optimasi numerik.</p>\n",
    "\n",
    "<p>Baik NumPy maupun SciPy berjalan pada semua operating system, cepat untuk diinstall dan gratis. NumPy dan SciPy mudah digunakan, tetapi cukup kuat untuk diandalkan oleh beberapa data <i>scientist</i> dan <i>researcher</i> terkemuka dunia.</p>"
   ]
  },
  {
   "cell_type": "markdown",
   "metadata": {},
   "source": [
    "<h4>Library Matplotlib</h4>"
   ]
  },
  {
   "cell_type": "markdown",
   "metadata": {},
   "source": [
    "<p>Matplotlib merupakan library dari Python yang umum digunakan untuk visualisasi data. Matplotlib memiliki kapabilitas untuk membuat visualisasi data 2-dimensional. Contoh visualisasi yang dapat dibuat dengan menggunakan matplotlib diantaranya adalah</p>\n",
    "<ol>\n",
    "    <li>Line chart</li>\n",
    "    <li>Bar chart</li>\n",
    "    <li>Pie chart</li>\n",
    "    <li>Box plot chart</li>\n",
    "    <li>Violin chart</li>\n",
    "    <li>Errorbar chart</li>\n",
    "    <li>Scatter chart</li>\n",
    "</ol>\n",
    "\n",
    "<p>Jenis-jenis chart lainnya juga dapat dibuat melalui library ini.</p>"
   ]
  },
  {
   "cell_type": "markdown",
   "metadata": {},
   "source": [
    "<h2><a name=\"eda-dengan-pandas\"></a>Chapter 2: Exploratory Data Analysis dengan Pandas</h2>"
   ]
  },
  {
   "cell_type": "markdown",
   "metadata": {},
   "source": [
    "<h4>Struktur Data Frame</h4>"
   ]
  },
  {
   "cell_type": "markdown",
   "metadata": {},
   "source": [
    "<p>Hal pertama dalam mengerti struktur dari dataframe adalah informasi mengenai berapa size dari dataframe yang akan digunakan termasuk berapa jumlah kolom dan jumlah baris data frame tersebut menggunakan fungsi <code>.shape</code>. </p>"
   ]
  },
  {
   "cell_type": "code",
   "execution_count": 1,
   "metadata": {},
   "outputs": [
    {
     "name": "stdout",
     "output_type": "stream",
     "text": [
      "(49999, 12)\n"
     ]
    }
   ],
   "source": [
    "import pandas as pd\n",
    "\n",
    "order_df = pd.read_csv(\"https://dqlab-dataset.s3-ap-southeast-1.amazonaws.com/order.csv\")\n",
    "print(order_df.shape)"
   ]
  },
  {
   "cell_type": "markdown",
   "metadata": {},
   "source": [
    "<h4>Preview Data Frame</h4>"
   ]
  },
  {
   "cell_type": "markdown",
   "metadata": {},
   "source": [
    "Mendapatkan gambaran dari konten dataframe menggunakan function <code>.head()</code> dan <code>.tail()</code>, Jika jumlah data pada function dikosongkan maka secara default akan di ditampilkan sebanyak 5 (lima) baris saja. "
   ]
  },
  {
   "cell_type": "code",
   "execution_count": 2,
   "metadata": {},
   "outputs": [
    {
     "data": {
      "text/html": [
       "<div>\n",
       "<style scoped>\n",
       "    .dataframe tbody tr th:only-of-type {\n",
       "        vertical-align: middle;\n",
       "    }\n",
       "\n",
       "    .dataframe tbody tr th {\n",
       "        vertical-align: top;\n",
       "    }\n",
       "\n",
       "    .dataframe thead th {\n",
       "        text-align: right;\n",
       "    }\n",
       "</style>\n",
       "<table border=\"1\" class=\"dataframe\">\n",
       "  <thead>\n",
       "    <tr style=\"text-align: right;\">\n",
       "      <th></th>\n",
       "      <th>order_id</th>\n",
       "      <th>quantity</th>\n",
       "      <th>product_id</th>\n",
       "      <th>price</th>\n",
       "      <th>seller_id</th>\n",
       "      <th>freight_value</th>\n",
       "      <th>customer_id</th>\n",
       "      <th>order_status</th>\n",
       "      <th>purchase_date</th>\n",
       "      <th>payment_type</th>\n",
       "      <th>product_category_name</th>\n",
       "      <th>product_weight_gram</th>\n",
       "    </tr>\n",
       "  </thead>\n",
       "  <tbody>\n",
       "    <tr>\n",
       "      <th>0</th>\n",
       "      <td>2e7a8482f6fb09756ca50c10d7bfc047</td>\n",
       "      <td>2</td>\n",
       "      <td>f293394c72c9b5fafd7023301fc21fc2</td>\n",
       "      <td>1489000</td>\n",
       "      <td>1554a68530182680ad5c8b042c3ab563</td>\n",
       "      <td>28000</td>\n",
       "      <td>08c5351a6aca1c1589a38f244edeee9d</td>\n",
       "      <td>shipped</td>\n",
       "      <td>2016-09-05</td>\n",
       "      <td>virtual account</td>\n",
       "      <td>fashion</td>\n",
       "      <td>1800.0</td>\n",
       "    </tr>\n",
       "    <tr>\n",
       "      <th>1</th>\n",
       "      <td>2e7a8482f6fb09756ca50c10d7bfc047</td>\n",
       "      <td>1</td>\n",
       "      <td>c1488892604e4ba5cff5b4eb4d595400</td>\n",
       "      <td>1756000</td>\n",
       "      <td>1554a68530182680ad5c8b042c3ab563</td>\n",
       "      <td>45000</td>\n",
       "      <td>08c5351a6aca1c1589a38f244edeee9d</td>\n",
       "      <td>shipped</td>\n",
       "      <td>2016-09-05</td>\n",
       "      <td>virtual account</td>\n",
       "      <td>automotive</td>\n",
       "      <td>1400.0</td>\n",
       "    </tr>\n",
       "    <tr>\n",
       "      <th>2</th>\n",
       "      <td>e5fa5a7210941f7d56d0208e4e071d35</td>\n",
       "      <td>1</td>\n",
       "      <td>f3c2d01a84c947b078e32bbef0718962</td>\n",
       "      <td>1707000</td>\n",
       "      <td>a425f92c199eb576938df686728acd20</td>\n",
       "      <td>174000</td>\n",
       "      <td>683c54fc24d40ee9f8a6fc179fd9856c</td>\n",
       "      <td>canceled</td>\n",
       "      <td>2016-09-05</td>\n",
       "      <td>e-wallet</td>\n",
       "      <td>toys</td>\n",
       "      <td>700.0</td>\n",
       "    </tr>\n",
       "    <tr>\n",
       "      <th>3</th>\n",
       "      <td>3b697a20d9e427646d92567910af6d57</td>\n",
       "      <td>1</td>\n",
       "      <td>3ae08df6bcbfe23586dd431c40bddbb7</td>\n",
       "      <td>3071000</td>\n",
       "      <td>522620dcb18a6b31cd7bdf73665113a9</td>\n",
       "      <td>154000</td>\n",
       "      <td>355077684019f7f60a031656bd7262b8</td>\n",
       "      <td>delivered</td>\n",
       "      <td>2016-10-03</td>\n",
       "      <td>e-wallet</td>\n",
       "      <td>utilities</td>\n",
       "      <td>300.0</td>\n",
       "    </tr>\n",
       "    <tr>\n",
       "      <th>4</th>\n",
       "      <td>71303d7e93b399f5bcd537d124c0bcfa</td>\n",
       "      <td>1</td>\n",
       "      <td>d2998d7ced12f83f9b832f33cf6507b6</td>\n",
       "      <td>3833000</td>\n",
       "      <td>25e6ffe976bd75618accfe16cefcbd0d</td>\n",
       "      <td>147000</td>\n",
       "      <td>b106b360fe2ef8849fbbd056f777b4d5</td>\n",
       "      <td>canceled</td>\n",
       "      <td>2016-10-03</td>\n",
       "      <td>e-wallet</td>\n",
       "      <td>fashion</td>\n",
       "      <td>500.0</td>\n",
       "    </tr>\n",
       "    <tr>\n",
       "      <th>5</th>\n",
       "      <td>be5bc2f0da14d8071e2d45451ad119d9</td>\n",
       "      <td>1</td>\n",
       "      <td>fd7fd78fd3cbc1b0a6370a7909c0a629</td>\n",
       "      <td>1480000</td>\n",
       "      <td>f09b760d23495ac9a7e00d29b769007c</td>\n",
       "      <td>152000</td>\n",
       "      <td>7ec40b22510fdbea1b08921dd39e63d8</td>\n",
       "      <td>delivered</td>\n",
       "      <td>2016-10-03</td>\n",
       "      <td>e-wallet</td>\n",
       "      <td>electronics</td>\n",
       "      <td>400.0</td>\n",
       "    </tr>\n",
       "    <tr>\n",
       "      <th>6</th>\n",
       "      <td>0a0837a5eee9e7a9ce2b1fa831944d27</td>\n",
       "      <td>1</td>\n",
       "      <td>583916a5dae918f5e89baec139141c54</td>\n",
       "      <td>4489000</td>\n",
       "      <td>3481aa57cd91f9f9d3fa1fa12d9a3bf7</td>\n",
       "      <td>16000</td>\n",
       "      <td>4f3f778022aefa22b9f9e52d2c47edf3</td>\n",
       "      <td>delivered</td>\n",
       "      <td>2016-10-04</td>\n",
       "      <td>debit card</td>\n",
       "      <td>toys</td>\n",
       "      <td>3100.0</td>\n",
       "    </tr>\n",
       "    <tr>\n",
       "      <th>7</th>\n",
       "      <td>1ff217aa612f6cd7c4255c9bfe931c8b</td>\n",
       "      <td>1</td>\n",
       "      <td>33430c5c1027d812b5c62f778e5ee7f7</td>\n",
       "      <td>822000</td>\n",
       "      <td>4b1eaadf791bdbbad8c4a35b65236d52</td>\n",
       "      <td>58000</td>\n",
       "      <td>b3a9bf200375f53cc5c6991919c356fd</td>\n",
       "      <td>delivered</td>\n",
       "      <td>2016-10-04</td>\n",
       "      <td>credit card</td>\n",
       "      <td>automotive</td>\n",
       "      <td>200.0</td>\n",
       "    </tr>\n",
       "  </tbody>\n",
       "</table>\n",
       "</div>"
      ],
      "text/plain": [
       "                           order_id  quantity  \\\n",
       "0  2e7a8482f6fb09756ca50c10d7bfc047         2   \n",
       "1  2e7a8482f6fb09756ca50c10d7bfc047         1   \n",
       "2  e5fa5a7210941f7d56d0208e4e071d35         1   \n",
       "3  3b697a20d9e427646d92567910af6d57         1   \n",
       "4  71303d7e93b399f5bcd537d124c0bcfa         1   \n",
       "5  be5bc2f0da14d8071e2d45451ad119d9         1   \n",
       "6  0a0837a5eee9e7a9ce2b1fa831944d27         1   \n",
       "7  1ff217aa612f6cd7c4255c9bfe931c8b         1   \n",
       "\n",
       "                         product_id    price  \\\n",
       "0  f293394c72c9b5fafd7023301fc21fc2  1489000   \n",
       "1  c1488892604e4ba5cff5b4eb4d595400  1756000   \n",
       "2  f3c2d01a84c947b078e32bbef0718962  1707000   \n",
       "3  3ae08df6bcbfe23586dd431c40bddbb7  3071000   \n",
       "4  d2998d7ced12f83f9b832f33cf6507b6  3833000   \n",
       "5  fd7fd78fd3cbc1b0a6370a7909c0a629  1480000   \n",
       "6  583916a5dae918f5e89baec139141c54  4489000   \n",
       "7  33430c5c1027d812b5c62f778e5ee7f7   822000   \n",
       "\n",
       "                          seller_id  freight_value  \\\n",
       "0  1554a68530182680ad5c8b042c3ab563          28000   \n",
       "1  1554a68530182680ad5c8b042c3ab563          45000   \n",
       "2  a425f92c199eb576938df686728acd20         174000   \n",
       "3  522620dcb18a6b31cd7bdf73665113a9         154000   \n",
       "4  25e6ffe976bd75618accfe16cefcbd0d         147000   \n",
       "5  f09b760d23495ac9a7e00d29b769007c         152000   \n",
       "6  3481aa57cd91f9f9d3fa1fa12d9a3bf7          16000   \n",
       "7  4b1eaadf791bdbbad8c4a35b65236d52          58000   \n",
       "\n",
       "                        customer_id order_status purchase_date  \\\n",
       "0  08c5351a6aca1c1589a38f244edeee9d      shipped    2016-09-05   \n",
       "1  08c5351a6aca1c1589a38f244edeee9d      shipped    2016-09-05   \n",
       "2  683c54fc24d40ee9f8a6fc179fd9856c     canceled    2016-09-05   \n",
       "3  355077684019f7f60a031656bd7262b8    delivered    2016-10-03   \n",
       "4  b106b360fe2ef8849fbbd056f777b4d5     canceled    2016-10-03   \n",
       "5  7ec40b22510fdbea1b08921dd39e63d8    delivered    2016-10-03   \n",
       "6  4f3f778022aefa22b9f9e52d2c47edf3    delivered    2016-10-04   \n",
       "7  b3a9bf200375f53cc5c6991919c356fd    delivered    2016-10-04   \n",
       "\n",
       "      payment_type product_category_name  product_weight_gram  \n",
       "0  virtual account               fashion               1800.0  \n",
       "1  virtual account            automotive               1400.0  \n",
       "2         e-wallet                  toys                700.0  \n",
       "3         e-wallet             utilities                300.0  \n",
       "4         e-wallet               fashion                500.0  \n",
       "5         e-wallet           electronics                400.0  \n",
       "6       debit card                  toys               3100.0  \n",
       "7      credit card            automotive                200.0  "
      ]
     },
     "execution_count": 2,
     "metadata": {},
     "output_type": "execute_result"
    }
   ],
   "source": [
    "# melihat 8 data pertama\n",
    "order_df.head(8)"
   ]
  },
  {
   "cell_type": "code",
   "execution_count": 3,
   "metadata": {},
   "outputs": [
    {
     "data": {
      "text/html": [
       "<div>\n",
       "<style scoped>\n",
       "    .dataframe tbody tr th:only-of-type {\n",
       "        vertical-align: middle;\n",
       "    }\n",
       "\n",
       "    .dataframe tbody tr th {\n",
       "        vertical-align: top;\n",
       "    }\n",
       "\n",
       "    .dataframe thead th {\n",
       "        text-align: right;\n",
       "    }\n",
       "</style>\n",
       "<table border=\"1\" class=\"dataframe\">\n",
       "  <thead>\n",
       "    <tr style=\"text-align: right;\">\n",
       "      <th></th>\n",
       "      <th>order_id</th>\n",
       "      <th>quantity</th>\n",
       "      <th>product_id</th>\n",
       "      <th>price</th>\n",
       "      <th>seller_id</th>\n",
       "      <th>freight_value</th>\n",
       "      <th>customer_id</th>\n",
       "      <th>order_status</th>\n",
       "      <th>purchase_date</th>\n",
       "      <th>payment_type</th>\n",
       "      <th>product_category_name</th>\n",
       "      <th>product_weight_gram</th>\n",
       "    </tr>\n",
       "  </thead>\n",
       "  <tbody>\n",
       "    <tr>\n",
       "      <th>49991</th>\n",
       "      <td>e59dbfb7d81fd513f1ffa941fe849c57</td>\n",
       "      <td>1</td>\n",
       "      <td>9feeadd6b97835152e83e1b25b46f5c4</td>\n",
       "      <td>1923000</td>\n",
       "      <td>3fd1e727ba94cfe122d165e176ce7967</td>\n",
       "      <td>175000</td>\n",
       "      <td>affa1ae9fc01158bf723814d1dd9d0ce</td>\n",
       "      <td>delivered</td>\n",
       "      <td>2017-12-15</td>\n",
       "      <td>credit card</td>\n",
       "      <td>beauty</td>\n",
       "      <td>1064.0</td>\n",
       "    </tr>\n",
       "    <tr>\n",
       "      <th>49992</th>\n",
       "      <td>e821c71ba6efed0813bbc0a01a95f24d</td>\n",
       "      <td>1</td>\n",
       "      <td>f9259c9e7c0f12c70f7a81409680a5ff</td>\n",
       "      <td>3077000</td>\n",
       "      <td>c68fb906c8f4b4b946d8386bfa6e5467</td>\n",
       "      <td>183000</td>\n",
       "      <td>e92f244376eed380877c6aab4cc5b0e0</td>\n",
       "      <td>delivered</td>\n",
       "      <td>2017-12-15</td>\n",
       "      <td>virtual account</td>\n",
       "      <td>toys</td>\n",
       "      <td>925.0</td>\n",
       "    </tr>\n",
       "    <tr>\n",
       "      <th>49993</th>\n",
       "      <td>e821c71ba6efed0813bbc0a01a95f24d</td>\n",
       "      <td>1</td>\n",
       "      <td>f9259c9e7c0f12c70f7a81409680a5ff</td>\n",
       "      <td>342000</td>\n",
       "      <td>c68fb906c8f4b4b946d8386bfa6e5467</td>\n",
       "      <td>173000</td>\n",
       "      <td>e92f244376eed380877c6aab4cc5b0e0</td>\n",
       "      <td>delivered</td>\n",
       "      <td>2017-12-15</td>\n",
       "      <td>credit card</td>\n",
       "      <td>fashion</td>\n",
       "      <td>925.0</td>\n",
       "    </tr>\n",
       "    <tr>\n",
       "      <th>49994</th>\n",
       "      <td>ec88157ad03aa203c3fdfe7bace5ab6b</td>\n",
       "      <td>1</td>\n",
       "      <td>165f86fe8b799a708a20ee4ba125c289</td>\n",
       "      <td>3077000</td>\n",
       "      <td>7ddcbb64b5bc1ef36ca8c151f6ec77df</td>\n",
       "      <td>172000</td>\n",
       "      <td>1642b8087a8ca0c8592becff7e183c98</td>\n",
       "      <td>delivered</td>\n",
       "      <td>2017-12-15</td>\n",
       "      <td>e-wallet</td>\n",
       "      <td>automotive</td>\n",
       "      <td>2425.0</td>\n",
       "    </tr>\n",
       "    <tr>\n",
       "      <th>49995</th>\n",
       "      <td>ed60085e92e2aa3debf49159deb34da7</td>\n",
       "      <td>1</td>\n",
       "      <td>6e835aea84ae8eb68b8c14878dd43b30</td>\n",
       "      <td>1277000</td>\n",
       "      <td>4d6d651bd7684af3fffabd5f08d12e5a</td>\n",
       "      <td>130000</td>\n",
       "      <td>431bbb57d52f3141ab2f33a6a4cf00a6</td>\n",
       "      <td>delivered</td>\n",
       "      <td>2017-12-15</td>\n",
       "      <td>debit card</td>\n",
       "      <td>beauty</td>\n",
       "      <td>2350.0</td>\n",
       "    </tr>\n",
       "    <tr>\n",
       "      <th>49996</th>\n",
       "      <td>ed98c37d860890f940e2acd83629fdd1</td>\n",
       "      <td>2</td>\n",
       "      <td>aca2eb7d00ea1a7b8ebd4e68314663af</td>\n",
       "      <td>486000</td>\n",
       "      <td>955fee9216a65b617aa5c0531780ce60</td>\n",
       "      <td>14000</td>\n",
       "      <td>71f8cd490677ee95362201588c0eaff4</td>\n",
       "      <td>delivered</td>\n",
       "      <td>2017-12-15</td>\n",
       "      <td>debit card</td>\n",
       "      <td>gadget</td>\n",
       "      <td>2600.0</td>\n",
       "    </tr>\n",
       "    <tr>\n",
       "      <th>49997</th>\n",
       "      <td>ed98c37d860890f940e2acd83629fdd1</td>\n",
       "      <td>1</td>\n",
       "      <td>aca2eb7d00ea1a7b8ebd4e68314663af</td>\n",
       "      <td>830000</td>\n",
       "      <td>955fee9216a65b617aa5c0531780ce60</td>\n",
       "      <td>108000</td>\n",
       "      <td>71f8cd490677ee95362201588c0eaff4</td>\n",
       "      <td>delivered</td>\n",
       "      <td>2017-12-15</td>\n",
       "      <td>e-wallet</td>\n",
       "      <td>gadget</td>\n",
       "      <td>2600.0</td>\n",
       "    </tr>\n",
       "    <tr>\n",
       "      <th>49998</th>\n",
       "      <td>ede4ebbb6e36cbd377eabcc7f5229575</td>\n",
       "      <td>1</td>\n",
       "      <td>2b0ee2d07306f7c9ac55a43166e9bb4b</td>\n",
       "      <td>215000</td>\n",
       "      <td>1900267e848ceeba8fa32d80c1a5f5a8</td>\n",
       "      <td>189000</td>\n",
       "      <td>60d2d93a97ec1ad751f2ddce9249ba2a</td>\n",
       "      <td>delivered</td>\n",
       "      <td>2017-12-15</td>\n",
       "      <td>credit card</td>\n",
       "      <td>beauty</td>\n",
       "      <td>1450.0</td>\n",
       "    </tr>\n",
       "  </tbody>\n",
       "</table>\n",
       "</div>"
      ],
      "text/plain": [
       "                               order_id  quantity  \\\n",
       "49991  e59dbfb7d81fd513f1ffa941fe849c57         1   \n",
       "49992  e821c71ba6efed0813bbc0a01a95f24d         1   \n",
       "49993  e821c71ba6efed0813bbc0a01a95f24d         1   \n",
       "49994  ec88157ad03aa203c3fdfe7bace5ab6b         1   \n",
       "49995  ed60085e92e2aa3debf49159deb34da7         1   \n",
       "49996  ed98c37d860890f940e2acd83629fdd1         2   \n",
       "49997  ed98c37d860890f940e2acd83629fdd1         1   \n",
       "49998  ede4ebbb6e36cbd377eabcc7f5229575         1   \n",
       "\n",
       "                             product_id    price  \\\n",
       "49991  9feeadd6b97835152e83e1b25b46f5c4  1923000   \n",
       "49992  f9259c9e7c0f12c70f7a81409680a5ff  3077000   \n",
       "49993  f9259c9e7c0f12c70f7a81409680a5ff   342000   \n",
       "49994  165f86fe8b799a708a20ee4ba125c289  3077000   \n",
       "49995  6e835aea84ae8eb68b8c14878dd43b30  1277000   \n",
       "49996  aca2eb7d00ea1a7b8ebd4e68314663af   486000   \n",
       "49997  aca2eb7d00ea1a7b8ebd4e68314663af   830000   \n",
       "49998  2b0ee2d07306f7c9ac55a43166e9bb4b   215000   \n",
       "\n",
       "                              seller_id  freight_value  \\\n",
       "49991  3fd1e727ba94cfe122d165e176ce7967         175000   \n",
       "49992  c68fb906c8f4b4b946d8386bfa6e5467         183000   \n",
       "49993  c68fb906c8f4b4b946d8386bfa6e5467         173000   \n",
       "49994  7ddcbb64b5bc1ef36ca8c151f6ec77df         172000   \n",
       "49995  4d6d651bd7684af3fffabd5f08d12e5a         130000   \n",
       "49996  955fee9216a65b617aa5c0531780ce60          14000   \n",
       "49997  955fee9216a65b617aa5c0531780ce60         108000   \n",
       "49998  1900267e848ceeba8fa32d80c1a5f5a8         189000   \n",
       "\n",
       "                            customer_id order_status purchase_date  \\\n",
       "49991  affa1ae9fc01158bf723814d1dd9d0ce    delivered    2017-12-15   \n",
       "49992  e92f244376eed380877c6aab4cc5b0e0    delivered    2017-12-15   \n",
       "49993  e92f244376eed380877c6aab4cc5b0e0    delivered    2017-12-15   \n",
       "49994  1642b8087a8ca0c8592becff7e183c98    delivered    2017-12-15   \n",
       "49995  431bbb57d52f3141ab2f33a6a4cf00a6    delivered    2017-12-15   \n",
       "49996  71f8cd490677ee95362201588c0eaff4    delivered    2017-12-15   \n",
       "49997  71f8cd490677ee95362201588c0eaff4    delivered    2017-12-15   \n",
       "49998  60d2d93a97ec1ad751f2ddce9249ba2a    delivered    2017-12-15   \n",
       "\n",
       "          payment_type product_category_name  product_weight_gram  \n",
       "49991      credit card                beauty               1064.0  \n",
       "49992  virtual account                  toys                925.0  \n",
       "49993      credit card               fashion                925.0  \n",
       "49994         e-wallet            automotive               2425.0  \n",
       "49995       debit card                beauty               2350.0  \n",
       "49996       debit card                gadget               2600.0  \n",
       "49997         e-wallet                gadget               2600.0  \n",
       "49998      credit card                beauty               1450.0  "
      ]
     },
     "execution_count": 3,
     "metadata": {},
     "output_type": "execute_result"
    }
   ],
   "source": [
    "# melihat 8 data terakhir\n",
    "order_df.tail(8)"
   ]
  },
  {
   "cell_type": "markdown",
   "metadata": {},
   "source": [
    "<h4>Statistik Deskriptif dari Data Frame</h4>"
   ]
  },
  {
   "cell_type": "markdown",
   "metadata": {},
   "source": [
    "<p>Statistik deskriptif atau summary dalam Python - Pandas, dapat diperoleh dengan menggunakan fungsi <code>describe()</code>, Function describe dapat memberikan informasi mengenai nilai rataan, standar deviasi dan IQR (interquartile range).</p>\n",
    "\n",
    "<p>Ketentuan umum:</p>\n",
    "\n",
    "<li>Secara umum function <code>describe()</code> akan secara otomatis mengabaikan kolom category dan hanya memberikan summary statistik untuk kolom berjenis numerik.</li>\n",
    "<li>Kita perlu menambahkan argument bernama <b>include = \"all\"</b> untuk mendapatkan summary statistik atau statistik deskriptif dari semua kolom.</li>\n",
    "<li>Jika ingin mendapatkan summary statistik dari kolom yang tidak bernilai angka, maka aku dapat menambahkan command <b>include=[\"object\"]</b></li>\n",
    "\n",
    "<p>Untuk mencari rataan dari suatu data dari dataframe. Aku dapat menggunakan syntax <b>mean</b>, <b>median</b>, dan <b>mode</b> dari Pandas.</p>"
   ]
  },
  {
   "cell_type": "code",
   "execution_count": 5,
   "metadata": {},
   "outputs": [
    {
     "name": "stdout",
     "output_type": "stream",
     "text": [
      "           quantity         price  freight_value  product_weight_gram\n",
      "count  49999.000000  4.999900e+04   49999.000000         49980.000000\n",
      "mean       1.197484  2.607784e+06  104521.390428          2201.830892\n",
      "std        0.722262  1.388312e+06   55179.844962          3929.896875\n",
      "min        1.000000  2.000000e+05    9000.000000            50.000000\n",
      "25%        1.000000  1.410500e+06   57000.000000           300.000000\n",
      "50%        1.000000  2.610000e+06  104000.000000           800.000000\n",
      "75%        1.000000  3.810000e+06  152000.000000          1850.000000\n",
      "max       21.000000  5.000000e+06  200000.000000         40425.000000\n"
     ]
    }
   ],
   "source": [
    "# Quick summary  dari segi kuantitas, harga, freight value, dan weight\n",
    "print(order_df.describe())"
   ]
  },
  {
   "cell_type": "code",
   "execution_count": 6,
   "metadata": {},
   "outputs": [
    {
     "name": "stdout",
     "output_type": "stream",
     "text": [
      "2610000.0\n"
     ]
    }
   ],
   "source": [
    "# Median median dari total pembelian konsumen per transaksi kolom price\n",
    "print(order_df.loc[:, \"price\"].median())"
   ]
  },
  {
   "cell_type": "markdown",
   "metadata": {},
   "source": [
    "<h4>Distribusi Data dengan Histogram</h4>"
   ]
  },
  {
   "cell_type": "markdown",
   "metadata": {},
   "source": [
    "<p>Histogram merupakan salah satu cara untuk mengidentifikasi sebaran distribusi dari data. Histogram adalah grafik yang berisi ringkasan dari sebaran (dispersi atau variasi) suatu data. Pada histogram, tidak ada jarak antar batang/bar dari grafik. Hal ini dikarenakan bahwa titik data kelas bisa muncul dimana saja di daerah cakupan grafik. Sedangkan ketinggian bar sesuai dengan frekuensi atau frekuensi relatif jumlah data di kelas. Semakin tinggi bar, semakin tinggi frekuensi data. Semakin rendah bar, semakin rendah frekuensi data.</p>\n",
    "\n",
    "<p>Beberapa atribut penting dalam histogram pandas:</p>\n",
    "\n",
    "<li><b>bins</b> = jumlah_bins dalam histogram yang akan digunakan. Jika tidak didefinisikan jumlah_bins, maka function akan secara default menentukan jumlah_bins sebanyak 10.</li>\n",
    "<li><b>by</b> = Kolom di DataFrame untuk di group by. (valuenya berupa nama column di dataframe tersebut).</li>\n",
    "<li><b>alpha</b> = Menentukan opacity dari plot di histogram. (value berupa range 0.0 - 1.0, dimana semakin kecil akan semakin kecil opacity nya)</li>\n",
    "<li><b>figsize</b> = digunakan untuk menentukan ukuran dari plot histogram. Contoh: figsize=(10,12)</li>"
   ]
  },
  {
   "cell_type": "code",
   "execution_count": 9,
   "metadata": {},
   "outputs": [
    {
     "data": {
      "image/png": "[encoded data removed]",
      "text/plain": [
       "<Figure size 288x360 with 1 Axes>"
      ]
     },
     "metadata": {
      "needs_background": "light"
     },
     "output_type": "display_data"
    }
   ],
   "source": [
    "import matplotlib.pyplot as plt\n",
    "\n",
    "# plot histogram kolom: price\n",
    "order_df[[\"price\"]].hist(figsize=(4, 5), bins=10, xlabelsize=8, ylabelsize=8)\n",
    "plt.show()"
   ]
  },
  {
   "cell_type": "markdown",
   "metadata": {},
   "source": [
    "<h4>Standar Deviasi dan Varians pada Pandas</h4>"
   ]
  },
  {
   "cell_type": "markdown",
   "metadata": {},
   "source": [
    "Varians dan standar deviasi juga merupakan suatu ukuran dispersi atau variasi. Standar deviasi merupakan ukuran dispersi yang paling banyak dipakai. Hal ini mungkin karena standar deviasi mempunyai satuan ukuran yang sama dengan satuan ukuran data asalnya. Sedangkan varians memiliki satuan kuadrat dari data asalnya (misalnya cm^2)."
   ]
  },
  {
   "cell_type": "code",
   "execution_count": 11,
   "metadata": {},
   "outputs": [
    {
     "data": {
      "text/plain": [
       "3929.896875372737"
      ]
     },
     "execution_count": 11,
     "metadata": {},
     "output_type": "execute_result"
    }
   ],
   "source": [
    "# Standar variasi kolom product_weight_gram\n",
    "order_df.loc[:, \"product_weight_gram\"].std()"
   ]
  },
  {
   "cell_type": "code",
   "execution_count": 12,
   "metadata": {},
   "outputs": [
    {
     "data": {
      "text/plain": [
       "15444089.451064402"
      ]
     },
     "execution_count": 12,
     "metadata": {},
     "output_type": "execute_result"
    }
   ],
   "source": [
    "# Varians kolom product_weight_gram\n",
    "order_df.loc[:, \"product_weight_gram\"].var()"
   ]
  },
  {
   "cell_type": "markdown",
   "metadata": {},
   "source": [
    "<h4>Menemukan Outliers Menggunakan Pandas</h4>"
   ]
  },
  {
   "cell_type": "markdown",
   "metadata": {},
   "source": [
    "<p>Outliers merupakan data observasi yang muncul dengan nilai-nilai ekstrim. Yang dimaksud dengan nilai-nilai ekstrim dalam observasi adalah nilai yang jauh atau beda sama sekali dengan sebagian besar nilai lain dalam kelompoknya.</p>\n",
    "\n",
    "<p>Pada umumnya, outliers dapat ditentukan dengan metric IQR (interquartile range). Rumus dasar dari IQR: Q3 - Q1. Dan data suatu observasi dapat dikatakan outliers jika memenuhi kedua syarat dibawah ini:</p>\n",
    "\n",
    "<li>data < Q1 - 1.5 * IQR</li>\n",
    "<li>data > Q3 + 1.5 * IQR</li>"
   ]
  },
  {
   "cell_type": "code",
   "execution_count": 13,
   "metadata": {},
   "outputs": [
    {
     "name": "stdout",
     "output_type": "stream",
     "text": [
      "product_weight_gram    1550.0\n",
      "dtype: float64\n"
     ]
    }
   ],
   "source": [
    "Q1 = order_df[[\"product_weight_gram\"]].quantile(0.25) # Hitung quartile 3\n",
    "Q3 = order_df[[\"product_weight_gram\"]].quantile(0.75) # Hitung inter quartile range dan cetak ke console\n",
    "IQR = Q3 - Q1\n",
    "print(IQR)"
   ]
  },
  {
   "cell_type": "markdown",
   "metadata": {},
   "source": [
    "Titik data di mana terdapat False yang berarti nilai-nilai ini valid sedangkan True menunjukkan adanya Outliers."
   ]
  },
  {
   "cell_type": "code",
   "execution_count": 19,
   "metadata": {
    "scrolled": true
   },
   "outputs": [
    {
     "name": "stdout",
     "output_type": "stream",
     "text": [
      "       product_weight_gram\n",
      "0                    False\n",
      "1                    False\n",
      "2                    False\n",
      "3                    False\n",
      "4                    False\n",
      "...                    ...\n",
      "49994                False\n",
      "49995                False\n",
      "49996                False\n",
      "49997                False\n",
      "49998                False\n",
      "\n",
      "[49999 rows x 1 columns]\n"
     ]
    }
   ],
   "source": [
    "print((order_df[['product_weight_gram']] < (Q1 - 1.5 * IQR)) | (order_df[['product_weight_gram']] > (Q3 + 1.5 * IQR)))"
   ]
  },
  {
   "cell_type": "markdown",
   "metadata": {},
   "source": [
    "<h4>Rename Kolom Data Frame</h4>"
   ]
  },
  {
   "cell_type": "markdown",
   "metadata": {},
   "source": [
    "<p>Mengganti nama kolom pada Pandas dapat dilakukan dengan 2 cara:</p>\n",
    "\n",
    "<li>Menggunakan nama kolom, contoh : <code>df.rename(columns={'Age':'Umur'}, inplace=True)</code>.</li>\n",
    "<li>Menggunakan indeks kolom, contoh: <code>df.columns.value[0] = 'umur'</code>.</li>"
   ]
  },
  {
   "cell_type": "code",
   "execution_count": 20,
   "metadata": {
    "scrolled": true
   },
   "outputs": [
    {
     "data": {
      "text/html": [
       "<div>\n",
       "<style scoped>\n",
       "    .dataframe tbody tr th:only-of-type {\n",
       "        vertical-align: middle;\n",
       "    }\n",
       "\n",
       "    .dataframe tbody tr th {\n",
       "        vertical-align: top;\n",
       "    }\n",
       "\n",
       "    .dataframe thead th {\n",
       "        text-align: right;\n",
       "    }\n",
       "</style>\n",
       "<table border=\"1\" class=\"dataframe\">\n",
       "  <thead>\n",
       "    <tr style=\"text-align: right;\">\n",
       "      <th></th>\n",
       "      <th>order_id</th>\n",
       "      <th>quantity</th>\n",
       "      <th>product_id</th>\n",
       "      <th>price</th>\n",
       "      <th>seller_id</th>\n",
       "      <th>shipping_cost</th>\n",
       "      <th>customer_id</th>\n",
       "      <th>order_status</th>\n",
       "      <th>purchase_date</th>\n",
       "      <th>payment_type</th>\n",
       "      <th>product_category_name</th>\n",
       "      <th>product_weight_gram</th>\n",
       "    </tr>\n",
       "  </thead>\n",
       "  <tbody>\n",
       "    <tr>\n",
       "      <th>0</th>\n",
       "      <td>2e7a8482f6fb09756ca50c10d7bfc047</td>\n",
       "      <td>2</td>\n",
       "      <td>f293394c72c9b5fafd7023301fc21fc2</td>\n",
       "      <td>1489000</td>\n",
       "      <td>1554a68530182680ad5c8b042c3ab563</td>\n",
       "      <td>28000</td>\n",
       "      <td>08c5351a6aca1c1589a38f244edeee9d</td>\n",
       "      <td>shipped</td>\n",
       "      <td>2016-09-05</td>\n",
       "      <td>virtual account</td>\n",
       "      <td>fashion</td>\n",
       "      <td>1800.0</td>\n",
       "    </tr>\n",
       "    <tr>\n",
       "      <th>1</th>\n",
       "      <td>2e7a8482f6fb09756ca50c10d7bfc047</td>\n",
       "      <td>1</td>\n",
       "      <td>c1488892604e4ba5cff5b4eb4d595400</td>\n",
       "      <td>1756000</td>\n",
       "      <td>1554a68530182680ad5c8b042c3ab563</td>\n",
       "      <td>45000</td>\n",
       "      <td>08c5351a6aca1c1589a38f244edeee9d</td>\n",
       "      <td>shipped</td>\n",
       "      <td>2016-09-05</td>\n",
       "      <td>virtual account</td>\n",
       "      <td>automotive</td>\n",
       "      <td>1400.0</td>\n",
       "    </tr>\n",
       "    <tr>\n",
       "      <th>2</th>\n",
       "      <td>e5fa5a7210941f7d56d0208e4e071d35</td>\n",
       "      <td>1</td>\n",
       "      <td>f3c2d01a84c947b078e32bbef0718962</td>\n",
       "      <td>1707000</td>\n",
       "      <td>a425f92c199eb576938df686728acd20</td>\n",
       "      <td>174000</td>\n",
       "      <td>683c54fc24d40ee9f8a6fc179fd9856c</td>\n",
       "      <td>canceled</td>\n",
       "      <td>2016-09-05</td>\n",
       "      <td>e-wallet</td>\n",
       "      <td>toys</td>\n",
       "      <td>700.0</td>\n",
       "    </tr>\n",
       "    <tr>\n",
       "      <th>3</th>\n",
       "      <td>3b697a20d9e427646d92567910af6d57</td>\n",
       "      <td>1</td>\n",
       "      <td>3ae08df6bcbfe23586dd431c40bddbb7</td>\n",
       "      <td>3071000</td>\n",
       "      <td>522620dcb18a6b31cd7bdf73665113a9</td>\n",
       "      <td>154000</td>\n",
       "      <td>355077684019f7f60a031656bd7262b8</td>\n",
       "      <td>delivered</td>\n",
       "      <td>2016-10-03</td>\n",
       "      <td>e-wallet</td>\n",
       "      <td>utilities</td>\n",
       "      <td>300.0</td>\n",
       "    </tr>\n",
       "    <tr>\n",
       "      <th>4</th>\n",
       "      <td>71303d7e93b399f5bcd537d124c0bcfa</td>\n",
       "      <td>1</td>\n",
       "      <td>d2998d7ced12f83f9b832f33cf6507b6</td>\n",
       "      <td>3833000</td>\n",
       "      <td>25e6ffe976bd75618accfe16cefcbd0d</td>\n",
       "      <td>147000</td>\n",
       "      <td>b106b360fe2ef8849fbbd056f777b4d5</td>\n",
       "      <td>canceled</td>\n",
       "      <td>2016-10-03</td>\n",
       "      <td>e-wallet</td>\n",
       "      <td>fashion</td>\n",
       "      <td>500.0</td>\n",
       "    </tr>\n",
       "  </tbody>\n",
       "</table>\n",
       "</div>"
      ],
      "text/plain": [
       "                           order_id  quantity  \\\n",
       "0  2e7a8482f6fb09756ca50c10d7bfc047         2   \n",
       "1  2e7a8482f6fb09756ca50c10d7bfc047         1   \n",
       "2  e5fa5a7210941f7d56d0208e4e071d35         1   \n",
       "3  3b697a20d9e427646d92567910af6d57         1   \n",
       "4  71303d7e93b399f5bcd537d124c0bcfa         1   \n",
       "\n",
       "                         product_id    price  \\\n",
       "0  f293394c72c9b5fafd7023301fc21fc2  1489000   \n",
       "1  c1488892604e4ba5cff5b4eb4d595400  1756000   \n",
       "2  f3c2d01a84c947b078e32bbef0718962  1707000   \n",
       "3  3ae08df6bcbfe23586dd431c40bddbb7  3071000   \n",
       "4  d2998d7ced12f83f9b832f33cf6507b6  3833000   \n",
       "\n",
       "                          seller_id  shipping_cost  \\\n",
       "0  1554a68530182680ad5c8b042c3ab563          28000   \n",
       "1  1554a68530182680ad5c8b042c3ab563          45000   \n",
       "2  a425f92c199eb576938df686728acd20         174000   \n",
       "3  522620dcb18a6b31cd7bdf73665113a9         154000   \n",
       "4  25e6ffe976bd75618accfe16cefcbd0d         147000   \n",
       "\n",
       "                        customer_id order_status purchase_date  \\\n",
       "0  08c5351a6aca1c1589a38f244edeee9d      shipped    2016-09-05   \n",
       "1  08c5351a6aca1c1589a38f244edeee9d      shipped    2016-09-05   \n",
       "2  683c54fc24d40ee9f8a6fc179fd9856c     canceled    2016-09-05   \n",
       "3  355077684019f7f60a031656bd7262b8    delivered    2016-10-03   \n",
       "4  b106b360fe2ef8849fbbd056f777b4d5     canceled    2016-10-03   \n",
       "\n",
       "      payment_type product_category_name  product_weight_gram  \n",
       "0  virtual account               fashion               1800.0  \n",
       "1  virtual account            automotive               1400.0  \n",
       "2         e-wallet                  toys                700.0  \n",
       "3         e-wallet             utilities                300.0  \n",
       "4         e-wallet               fashion                500.0  "
      ]
     },
     "execution_count": 20,
     "metadata": {},
     "output_type": "execute_result"
    }
   ],
   "source": [
    "# Ganti nama kolom freight_value menjadi shipping_cost\n",
    "order_df.rename(columns={\"freight_value\": \"shipping_cost\"}, inplace=True)\n",
    "order_df.head()"
   ]
  },
  {
   "cell_type": "markdown",
   "metadata": {},
   "source": [
    "<h4><code>.groupby</code> menggunakan Pandas</h4>"
   ]
  },
  {
   "cell_type": "markdown",
   "metadata": {},
   "source": [
    "Kegunaan <code>.groupby</code> adalah mencari summary dari data frame dengan menggunakan <b>aggregate</b> dari kolom tertentu."
   ]
  },
  {
   "cell_type": "code",
   "execution_count": 21,
   "metadata": {
    "scrolled": true
   },
   "outputs": [
    {
     "data": {
      "text/plain": [
       "payment_type\n",
       "credit card        2.600706e+06\n",
       "debit card         2.611974e+06\n",
       "e-wallet           2.598562e+06\n",
       "virtual account    2.619786e+06\n",
       "Name: price, dtype: float64"
      ]
     },
     "execution_count": 21,
     "metadata": {},
     "output_type": "execute_result"
    }
   ],
   "source": [
    "# Hitung rata rata dari price per payment_type\n",
    "rata_rata = order_df[\"price\"].groupby(order_df[\"payment_type\"]).mean()\n",
    "rata_rata.head()"
   ]
  },
  {
   "cell_type": "markdown",
   "metadata": {},
   "source": [
    "<h4>Sorting Menggunakan Pandas</h4>"
   ]
  },
  {
   "cell_type": "markdown",
   "metadata": {},
   "source": [
    "<p>Sorting adalah sebuah metode mengurutkan data berdasarkan syarat kolom tertentu, dan biasanya digunakan untuk melihat nilai maksimum dan minimum dari dataset. Library Pandas sendiri menyediakan fungsi sorting sebagai fundamental dari exploratory data analysis dengan fungsi <code>.sort_values</code>.</p>\n",
    "\n",
    "<p>Function tersebut akan secara default mengurutkan secara ascending (dimulai dari nilai terkecil), untuk dapat mengurutkan secara descending (nilai terbesar lebih dahulu), dapat menggunakan properti tambahan <code>ascending=False</code>.</p>\n",
    "\n",
    "<p>Fungsi sorting di Pandas juga dapat dilakukan menggunakan lebih dari satu kolom sebagai syarat.</p>"
   ]
  },
  {
   "cell_type": "code",
   "execution_count": 23,
   "metadata": {},
   "outputs": [
    {
     "data": {
      "text/html": [
       "<div>\n",
       "<style scoped>\n",
       "    .dataframe tbody tr th:only-of-type {\n",
       "        vertical-align: middle;\n",
       "    }\n",
       "\n",
       "    .dataframe tbody tr th {\n",
       "        vertical-align: top;\n",
       "    }\n",
       "\n",
       "    .dataframe thead th {\n",
       "        text-align: right;\n",
       "    }\n",
       "</style>\n",
       "<table border=\"1\" class=\"dataframe\">\n",
       "  <thead>\n",
       "    <tr style=\"text-align: right;\">\n",
       "      <th></th>\n",
       "      <th>order_id</th>\n",
       "      <th>quantity</th>\n",
       "      <th>product_id</th>\n",
       "      <th>price</th>\n",
       "      <th>seller_id</th>\n",
       "      <th>shipping_cost</th>\n",
       "      <th>customer_id</th>\n",
       "      <th>order_status</th>\n",
       "      <th>purchase_date</th>\n",
       "      <th>payment_type</th>\n",
       "      <th>product_category_name</th>\n",
       "      <th>product_weight_gram</th>\n",
       "    </tr>\n",
       "  </thead>\n",
       "  <tbody>\n",
       "    <tr>\n",
       "      <th>37085</th>\n",
       "      <td>d7b2d3b902441cf3dd12cd125533217d</td>\n",
       "      <td>1</td>\n",
       "      <td>35afc973633aaeb6b877ff57b2793310</td>\n",
       "      <td>5000000</td>\n",
       "      <td>4a3ca9315b744ce9f8e9374361493884</td>\n",
       "      <td>118000</td>\n",
       "      <td>217344c7c334e16c8e76551b4b240c1d</td>\n",
       "      <td>delivered</td>\n",
       "      <td>2017-10-31</td>\n",
       "      <td>debit card</td>\n",
       "      <td>beauty</td>\n",
       "      <td>1825.0</td>\n",
       "    </tr>\n",
       "    <tr>\n",
       "      <th>41958</th>\n",
       "      <td>2711089c7fec59d4dc8483e3c6a12fa3</td>\n",
       "      <td>1</td>\n",
       "      <td>7c1bd920dbdf22470b68bde975dd3ccf</td>\n",
       "      <td>5000000</td>\n",
       "      <td>cc419e0650a3c5ba77189a1882b7556a</td>\n",
       "      <td>31000</td>\n",
       "      <td>0ef59d9bb071def3dbf7e7b055965e95</td>\n",
       "      <td>delivered</td>\n",
       "      <td>2017-11-24</td>\n",
       "      <td>e-wallet</td>\n",
       "      <td>fashion</td>\n",
       "      <td>200.0</td>\n",
       "    </tr>\n",
       "    <tr>\n",
       "      <th>3976</th>\n",
       "      <td>f343624eab419250ad81f1ce6be22c93</td>\n",
       "      <td>1</td>\n",
       "      <td>777d2e438a1b645f3aec9bd57e92672c</td>\n",
       "      <td>5000000</td>\n",
       "      <td>4a3ca9315b744ce9f8e9374361493884</td>\n",
       "      <td>101000</td>\n",
       "      <td>3fc0d940852ab274e532e80b1c1d5c2f</td>\n",
       "      <td>delivered</td>\n",
       "      <td>2017-03-07</td>\n",
       "      <td>debit card</td>\n",
       "      <td>gadget</td>\n",
       "      <td>950.0</td>\n",
       "    </tr>\n",
       "    <tr>\n",
       "      <th>21072</th>\n",
       "      <td>c8947a583ab9791a5a9d02384cb84302</td>\n",
       "      <td>1</td>\n",
       "      <td>f8cfb63e323be2e1c4172f255d61843d</td>\n",
       "      <td>5000000</td>\n",
       "      <td>4a3ca9315b744ce9f8e9374361493884</td>\n",
       "      <td>184000</td>\n",
       "      <td>57c047e791e69bef0af220b0a165a22d</td>\n",
       "      <td>delivered</td>\n",
       "      <td>2017-07-27</td>\n",
       "      <td>credit card</td>\n",
       "      <td>beauty</td>\n",
       "      <td>550.0</td>\n",
       "    </tr>\n",
       "    <tr>\n",
       "      <th>47074</th>\n",
       "      <td>f6134169ca6f0cdfbe6458ebb5731613</td>\n",
       "      <td>1</td>\n",
       "      <td>2ea92fab7565c4fe9f91a5e4e1756258</td>\n",
       "      <td>5000000</td>\n",
       "      <td>3d871de0142ce09b7081e2b9d1733cb1</td>\n",
       "      <td>196000</td>\n",
       "      <td>cbfdcc896d6ebc83c21fdcf4f4762efc</td>\n",
       "      <td>delivered</td>\n",
       "      <td>2017-12-04</td>\n",
       "      <td>virtual account</td>\n",
       "      <td>gadget</td>\n",
       "      <td>10600.0</td>\n",
       "    </tr>\n",
       "    <tr>\n",
       "      <th>...</th>\n",
       "      <td>...</td>\n",
       "      <td>...</td>\n",
       "      <td>...</td>\n",
       "      <td>...</td>\n",
       "      <td>...</td>\n",
       "      <td>...</td>\n",
       "      <td>...</td>\n",
       "      <td>...</td>\n",
       "      <td>...</td>\n",
       "      <td>...</td>\n",
       "      <td>...</td>\n",
       "      <td>...</td>\n",
       "    </tr>\n",
       "    <tr>\n",
       "      <th>33786</th>\n",
       "      <td>0d9e86e02c1a823b20c03ea29d616607</td>\n",
       "      <td>1</td>\n",
       "      <td>f93213a23c50edc16c27b96333f734dc</td>\n",
       "      <td>200000</td>\n",
       "      <td>46dc3b2cc0980fb8ec44634e21d2718e</td>\n",
       "      <td>141000</td>\n",
       "      <td>edaad9e07395713e9f5a2124f6c846a1</td>\n",
       "      <td>delivered</td>\n",
       "      <td>2017-10-13</td>\n",
       "      <td>debit card</td>\n",
       "      <td>automotive</td>\n",
       "      <td>7550.0</td>\n",
       "    </tr>\n",
       "    <tr>\n",
       "      <th>42166</th>\n",
       "      <td>54220fcc516cabe9ec84b210c0765ef2</td>\n",
       "      <td>1</td>\n",
       "      <td>1166bc797ddf5fb009c376d133f61204</td>\n",
       "      <td>200000</td>\n",
       "      <td>5cbbd5a299cab112b7bf23862255e43e</td>\n",
       "      <td>175000</td>\n",
       "      <td>24e7dc2ff8c07126358af519732b8558</td>\n",
       "      <td>delivered</td>\n",
       "      <td>2017-11-24</td>\n",
       "      <td>e-wallet</td>\n",
       "      <td>gadget</td>\n",
       "      <td>1100.0</td>\n",
       "    </tr>\n",
       "    <tr>\n",
       "      <th>31745</th>\n",
       "      <td>59a19c83ff825948739dd1601cc107b6</td>\n",
       "      <td>1</td>\n",
       "      <td>eb38a7604070a2b8465101ed53cba72b</td>\n",
       "      <td>200000</td>\n",
       "      <td>e6a69c4a27dfdd98ffe5aa757ad744bc</td>\n",
       "      <td>112000</td>\n",
       "      <td>2bf857ee40b763708fe19cf877cac511</td>\n",
       "      <td>delivered</td>\n",
       "      <td>2017-10-01</td>\n",
       "      <td>e-wallet</td>\n",
       "      <td>beauty</td>\n",
       "      <td>550.0</td>\n",
       "    </tr>\n",
       "    <tr>\n",
       "      <th>42452</th>\n",
       "      <td>9960ee97c2f8d801a200a01893b3942f</td>\n",
       "      <td>1</td>\n",
       "      <td>db5efde3ad0cc579b130d71c4b2db522</td>\n",
       "      <td>200000</td>\n",
       "      <td>4869f7a5dfa277a7dca6462dcf3b52b2</td>\n",
       "      <td>26000</td>\n",
       "      <td>54af40597a8931fea3fbb2b37656fc8d</td>\n",
       "      <td>delivered</td>\n",
       "      <td>2017-11-24</td>\n",
       "      <td>credit card</td>\n",
       "      <td>automotive</td>\n",
       "      <td>6663.0</td>\n",
       "    </tr>\n",
       "    <tr>\n",
       "      <th>11939</th>\n",
       "      <td>64619901c45fba79638d666058bf6be6</td>\n",
       "      <td>1</td>\n",
       "      <td>06c6e01186af8b98ee1fc9e01f9471e9</td>\n",
       "      <td>200000</td>\n",
       "      <td>fc906263ca5083d09dce42fe02247800</td>\n",
       "      <td>98000</td>\n",
       "      <td>3a1dda1ede23d7e71753e80d7f22c2c4</td>\n",
       "      <td>delivered</td>\n",
       "      <td>2017-05-21</td>\n",
       "      <td>virtual account</td>\n",
       "      <td>automotive</td>\n",
       "      <td>200.0</td>\n",
       "    </tr>\n",
       "  </tbody>\n",
       "</table>\n",
       "<p>49999 rows × 12 columns</p>\n",
       "</div>"
      ],
      "text/plain": [
       "                               order_id  quantity  \\\n",
       "37085  d7b2d3b902441cf3dd12cd125533217d         1   \n",
       "41958  2711089c7fec59d4dc8483e3c6a12fa3         1   \n",
       "3976   f343624eab419250ad81f1ce6be22c93         1   \n",
       "21072  c8947a583ab9791a5a9d02384cb84302         1   \n",
       "47074  f6134169ca6f0cdfbe6458ebb5731613         1   \n",
       "...                                 ...       ...   \n",
       "33786  0d9e86e02c1a823b20c03ea29d616607         1   \n",
       "42166  54220fcc516cabe9ec84b210c0765ef2         1   \n",
       "31745  59a19c83ff825948739dd1601cc107b6         1   \n",
       "42452  9960ee97c2f8d801a200a01893b3942f         1   \n",
       "11939  64619901c45fba79638d666058bf6be6         1   \n",
       "\n",
       "                             product_id    price  \\\n",
       "37085  35afc973633aaeb6b877ff57b2793310  5000000   \n",
       "41958  7c1bd920dbdf22470b68bde975dd3ccf  5000000   \n",
       "3976   777d2e438a1b645f3aec9bd57e92672c  5000000   \n",
       "21072  f8cfb63e323be2e1c4172f255d61843d  5000000   \n",
       "47074  2ea92fab7565c4fe9f91a5e4e1756258  5000000   \n",
       "...                                 ...      ...   \n",
       "33786  f93213a23c50edc16c27b96333f734dc   200000   \n",
       "42166  1166bc797ddf5fb009c376d133f61204   200000   \n",
       "31745  eb38a7604070a2b8465101ed53cba72b   200000   \n",
       "42452  db5efde3ad0cc579b130d71c4b2db522   200000   \n",
       "11939  06c6e01186af8b98ee1fc9e01f9471e9   200000   \n",
       "\n",
       "                              seller_id  shipping_cost  \\\n",
       "37085  4a3ca9315b744ce9f8e9374361493884         118000   \n",
       "41958  cc419e0650a3c5ba77189a1882b7556a          31000   \n",
       "3976   4a3ca9315b744ce9f8e9374361493884         101000   \n",
       "21072  4a3ca9315b744ce9f8e9374361493884         184000   \n",
       "47074  3d871de0142ce09b7081e2b9d1733cb1         196000   \n",
       "...                                 ...            ...   \n",
       "33786  46dc3b2cc0980fb8ec44634e21d2718e         141000   \n",
       "42166  5cbbd5a299cab112b7bf23862255e43e         175000   \n",
       "31745  e6a69c4a27dfdd98ffe5aa757ad744bc         112000   \n",
       "42452  4869f7a5dfa277a7dca6462dcf3b52b2          26000   \n",
       "11939  fc906263ca5083d09dce42fe02247800          98000   \n",
       "\n",
       "                            customer_id order_status purchase_date  \\\n",
       "37085  217344c7c334e16c8e76551b4b240c1d    delivered    2017-10-31   \n",
       "41958  0ef59d9bb071def3dbf7e7b055965e95    delivered    2017-11-24   \n",
       "3976   3fc0d940852ab274e532e80b1c1d5c2f    delivered    2017-03-07   \n",
       "21072  57c047e791e69bef0af220b0a165a22d    delivered    2017-07-27   \n",
       "47074  cbfdcc896d6ebc83c21fdcf4f4762efc    delivered    2017-12-04   \n",
       "...                                 ...          ...           ...   \n",
       "33786  edaad9e07395713e9f5a2124f6c846a1    delivered    2017-10-13   \n",
       "42166  24e7dc2ff8c07126358af519732b8558    delivered    2017-11-24   \n",
       "31745  2bf857ee40b763708fe19cf877cac511    delivered    2017-10-01   \n",
       "42452  54af40597a8931fea3fbb2b37656fc8d    delivered    2017-11-24   \n",
       "11939  3a1dda1ede23d7e71753e80d7f22c2c4    delivered    2017-05-21   \n",
       "\n",
       "          payment_type product_category_name  product_weight_gram  \n",
       "37085       debit card                beauty               1825.0  \n",
       "41958         e-wallet               fashion                200.0  \n",
       "3976        debit card                gadget                950.0  \n",
       "21072      credit card                beauty                550.0  \n",
       "47074  virtual account                gadget              10600.0  \n",
       "...                ...                   ...                  ...  \n",
       "33786       debit card            automotive               7550.0  \n",
       "42166         e-wallet                gadget               1100.0  \n",
       "31745         e-wallet                beauty                550.0  \n",
       "42452      credit card            automotive               6663.0  \n",
       "11939  virtual account            automotive                200.0  \n",
       "\n",
       "[49999 rows x 12 columns]"
      ]
     },
     "execution_count": 23,
     "metadata": {},
     "output_type": "execute_result"
    }
   ],
   "source": [
    "# Hitung harga maksimum pembelian customer\n",
    "sort_harga = order_df.sort_values(by=\"price\", ascending=0)\n",
    "sort_harga"
   ]
  },
  {
   "cell_type": "markdown",
   "metadata": {},
   "source": [
    "<h2><a name=\"mini-quiz\"></a>Chapter 3: Mini Quiz</h2>"
   ]
  },
  {
   "cell_type": "markdown",
   "metadata": {},
   "source": [
    "<div style=\"border: 2px solid orange;border-radius: 5px;\">\n",
    "    <b style=\"color:orange;padding:10px\">Tugas dari Andra</b>\n",
    "    <div style=\"padding:25px\">\n",
    "        <p>Aksara, bisa tolong bantu mengurus beberapa data penjualan dari dataset oder.csv? Saya sedang rapat dan bahan ini ditunggu dalam pembahasan cabang supermarket kita. Berikut ya detailnya:</p>\n",
    "        <ul>\n",
    "            <li>Median price yang dibayar customer dari masing-masing metode pembayaran.</li>\n",
    "            <li>Tentukan metode pembayaran yang memiliki basket size (rataan median price) terbesar.</li>\n",
    "            <li>Ubah freight_value menjadi shipping_cost dan cari shipping_cost termahal dari data penjualan tersebut menggunakan sort.</li>\n",
    "            <li>Untuk product_category_name, berapa rata-rata weight produk tersebut dan standar deviasi mana yang terkecil dari weight tersebut,</li>\n",
    "            <li>Buat histogram quantity penjualan dari dataset tersebutuntuk melihat persebaran quantity penjualan tersebut dengan bins = 5 dan figsize= (4,5)</li>\n",
    "        </ul>\n",
    "        <p>Khusus poin 4, tolong diperhatikan lebih ya, Aksara karena hasil analisisnya akan digunakan kepala cabang dalam menyusun strategi free ongkir.</p>\n",
    "    </div>\n",
    "</div>"
   ]
  },
  {
   "cell_type": "code",
   "execution_count": 24,
   "metadata": {},
   "outputs": [],
   "source": [
    "import pandas as pd\n",
    "import matplotlib.pyplot as plt\n",
    "\n",
    "order_df = pd.read_csv(\"https://dqlab-dataset.s3-ap-southeast-1.amazonaws.com/order.csv\")"
   ]
  },
  {
   "cell_type": "code",
   "execution_count": 25,
   "metadata": {},
   "outputs": [
    {
     "data": {
      "text/plain": [
       "payment_type\n",
       "credit card        2587500\n",
       "debit card         2621500\n",
       "e-wallet           2589000\n",
       "virtual account    2643000\n",
       "Name: price, dtype: int64"
      ]
     },
     "execution_count": 25,
     "metadata": {},
     "output_type": "execute_result"
    }
   ],
   "source": [
    "# Median price yang dibayar customer dari masing-masing metode pembayaran. \n",
    "median_price = order_df[\"price\"].groupby(order_df[\"payment_type\"]).median()\n",
    "median_price.head()"
   ]
  },
  {
   "cell_type": "code",
   "execution_count": 26,
   "metadata": {},
   "outputs": [
    {
     "data": {
      "text/html": [
       "<div>\n",
       "<style scoped>\n",
       "    .dataframe tbody tr th:only-of-type {\n",
       "        vertical-align: middle;\n",
       "    }\n",
       "\n",
       "    .dataframe tbody tr th {\n",
       "        vertical-align: top;\n",
       "    }\n",
       "\n",
       "    .dataframe thead th {\n",
       "        text-align: right;\n",
       "    }\n",
       "</style>\n",
       "<table border=\"1\" class=\"dataframe\">\n",
       "  <thead>\n",
       "    <tr style=\"text-align: right;\">\n",
       "      <th></th>\n",
       "      <th>order_id</th>\n",
       "      <th>quantity</th>\n",
       "      <th>product_id</th>\n",
       "      <th>price</th>\n",
       "      <th>seller_id</th>\n",
       "      <th>shipping_cost</th>\n",
       "      <th>customer_id</th>\n",
       "      <th>order_status</th>\n",
       "      <th>purchase_date</th>\n",
       "      <th>payment_type</th>\n",
       "      <th>product_category_name</th>\n",
       "      <th>product_weight_gram</th>\n",
       "    </tr>\n",
       "  </thead>\n",
       "  <tbody>\n",
       "    <tr>\n",
       "      <th>23829</th>\n",
       "      <td>7d63cb1d349e7bd0ee1edcc61ea71077</td>\n",
       "      <td>1</td>\n",
       "      <td>75d6b6963340c6063f7f4cfcccfe6a30</td>\n",
       "      <td>1472000</td>\n",
       "      <td>cc419e0650a3c5ba77189a1882b7556a</td>\n",
       "      <td>200000</td>\n",
       "      <td>484711e3d14ac75fb874e949b3a28395</td>\n",
       "      <td>delivered</td>\n",
       "      <td>2017-08-14</td>\n",
       "      <td>credit card</td>\n",
       "      <td>gadget</td>\n",
       "      <td>400.0</td>\n",
       "    </tr>\n",
       "    <tr>\n",
       "      <th>12011</th>\n",
       "      <td>00c9f7d4b0e87781465e562dc109f6aa</td>\n",
       "      <td>1</td>\n",
       "      <td>1a0d662b65b5ef08796501b064c853af</td>\n",
       "      <td>4543000</td>\n",
       "      <td>2e0dba2da448400b1c11d7b4b22f32a4</td>\n",
       "      <td>200000</td>\n",
       "      <td>cea80f9af87104810bd7fa9698f69d29</td>\n",
       "      <td>delivered</td>\n",
       "      <td>2017-05-22</td>\n",
       "      <td>e-wallet</td>\n",
       "      <td>toys</td>\n",
       "      <td>900.0</td>\n",
       "    </tr>\n",
       "    <tr>\n",
       "      <th>10984</th>\n",
       "      <td>69013d19f8db4cd7dc9f3b5c2564a96f</td>\n",
       "      <td>1</td>\n",
       "      <td>10d196ec072e2d8382c7ec9c942d7ea8</td>\n",
       "      <td>4137000</td>\n",
       "      <td>d12c926d74ceff0a90a21184466ce161</td>\n",
       "      <td>200000</td>\n",
       "      <td>9cf423929ed7f738fd0a0e88607a79fd</td>\n",
       "      <td>delivered</td>\n",
       "      <td>2017-05-15</td>\n",
       "      <td>credit card</td>\n",
       "      <td>utilities</td>\n",
       "      <td>250.0</td>\n",
       "    </tr>\n",
       "    <tr>\n",
       "      <th>29722</th>\n",
       "      <td>f32c4d2b078bc5a354f4c1184522b5ff</td>\n",
       "      <td>1</td>\n",
       "      <td>0f789be671fe3bd93cabfbb4a710f282</td>\n",
       "      <td>4802000</td>\n",
       "      <td>259f7b5e6e482c230e5bfaa670b6bb8f</td>\n",
       "      <td>200000</td>\n",
       "      <td>5a1523d32a6d1b323a05895f5164655d</td>\n",
       "      <td>delivered</td>\n",
       "      <td>2017-09-18</td>\n",
       "      <td>credit card</td>\n",
       "      <td>toys</td>\n",
       "      <td>450.0</td>\n",
       "    </tr>\n",
       "    <tr>\n",
       "      <th>15259</th>\n",
       "      <td>c8eab0ccabe8cdfc2afce66c1c554ae2</td>\n",
       "      <td>1</td>\n",
       "      <td>800f75019492a0d9ffb2483ae65b59f1</td>\n",
       "      <td>4078000</td>\n",
       "      <td>efcd8d2104f1a05d028af7bad20d974b</td>\n",
       "      <td>200000</td>\n",
       "      <td>2339ab3abbeebe72f2782a01c87a9bc0</td>\n",
       "      <td>delivered</td>\n",
       "      <td>2017-06-14</td>\n",
       "      <td>debit card</td>\n",
       "      <td>sports</td>\n",
       "      <td>100.0</td>\n",
       "    </tr>\n",
       "  </tbody>\n",
       "</table>\n",
       "</div>"
      ],
      "text/plain": [
       "                               order_id  quantity  \\\n",
       "23829  7d63cb1d349e7bd0ee1edcc61ea71077         1   \n",
       "12011  00c9f7d4b0e87781465e562dc109f6aa         1   \n",
       "10984  69013d19f8db4cd7dc9f3b5c2564a96f         1   \n",
       "29722  f32c4d2b078bc5a354f4c1184522b5ff         1   \n",
       "15259  c8eab0ccabe8cdfc2afce66c1c554ae2         1   \n",
       "\n",
       "                             product_id    price  \\\n",
       "23829  75d6b6963340c6063f7f4cfcccfe6a30  1472000   \n",
       "12011  1a0d662b65b5ef08796501b064c853af  4543000   \n",
       "10984  10d196ec072e2d8382c7ec9c942d7ea8  4137000   \n",
       "29722  0f789be671fe3bd93cabfbb4a710f282  4802000   \n",
       "15259  800f75019492a0d9ffb2483ae65b59f1  4078000   \n",
       "\n",
       "                              seller_id  shipping_cost  \\\n",
       "23829  cc419e0650a3c5ba77189a1882b7556a         200000   \n",
       "12011  2e0dba2da448400b1c11d7b4b22f32a4         200000   \n",
       "10984  d12c926d74ceff0a90a21184466ce161         200000   \n",
       "29722  259f7b5e6e482c230e5bfaa670b6bb8f         200000   \n",
       "15259  efcd8d2104f1a05d028af7bad20d974b         200000   \n",
       "\n",
       "                            customer_id order_status purchase_date  \\\n",
       "23829  484711e3d14ac75fb874e949b3a28395    delivered    2017-08-14   \n",
       "12011  cea80f9af87104810bd7fa9698f69d29    delivered    2017-05-22   \n",
       "10984  9cf423929ed7f738fd0a0e88607a79fd    delivered    2017-05-15   \n",
       "29722  5a1523d32a6d1b323a05895f5164655d    delivered    2017-09-18   \n",
       "15259  2339ab3abbeebe72f2782a01c87a9bc0    delivered    2017-06-14   \n",
       "\n",
       "      payment_type product_category_name  product_weight_gram  \n",
       "23829  credit card                gadget                400.0  \n",
       "12011     e-wallet                  toys                900.0  \n",
       "10984  credit card             utilities                250.0  \n",
       "29722  credit card                  toys                450.0  \n",
       "15259   debit card                sports                100.0  "
      ]
     },
     "execution_count": 26,
     "metadata": {},
     "output_type": "execute_result"
    }
   ],
   "source": [
    "# Ubah freight_value menjadi shipping_cost dan cari shipping_cost \n",
    "# termahal dari data penjualan tersebut menggunakan sort.\n",
    "order_df.rename(columns={\"freight_value\": \"shipping_cost\"}, inplace=True)\n",
    "sort_value = order_df.sort_values(by=\"shipping_cost\", ascending=0)\n",
    "sort_value.head()"
   ]
  },
  {
   "cell_type": "code",
   "execution_count": 28,
   "metadata": {},
   "outputs": [
    {
     "data": {
      "text/plain": [
       "product_category_name\n",
       "automotive     2129.559039\n",
       "beauty         2120.088396\n",
       "electronics    2144.751191\n",
       "fashion        2246.516901\n",
       "gadget         2229.632942\n",
       "sports         2251.879909\n",
       "toys           2203.863643\n",
       "utilities      2291.029868\n",
       "Name: product_weight_gram, dtype: float64"
      ]
     },
     "execution_count": 28,
     "metadata": {},
     "output_type": "execute_result"
    }
   ],
   "source": [
    "# Untuk product_category_name, berapa  rata-rata weight produk tersebut \n",
    "# dan standar deviasi mana yang terkecil dari weight tersebut, \n",
    "mean_value = order_df[\"product_weight_gram\"].groupby(order_df[\"product_category_name\"]).mean()\n",
    "mean_value"
   ]
  },
  {
   "cell_type": "code",
   "execution_count": 29,
   "metadata": {},
   "outputs": [
    {
     "data": {
      "text/plain": [
       "product_category_name\n",
       "automotive     3799.884166\n",
       "beauty         3837.474929\n",
       "electronics    3839.271768\n",
       "fashion        3858.885213\n",
       "gadget         3955.792741\n",
       "sports         4032.850044\n",
       "toys           3956.814749\n",
       "utilities      4150.509909\n",
       "Name: product_weight_gram, dtype: float64"
      ]
     },
     "execution_count": 29,
     "metadata": {},
     "output_type": "execute_result"
    }
   ],
   "source": [
    "std_value = order_df[\"product_weight_gram\"].groupby(order_df[\"product_category_name\"]).std()\n",
    "std_value"
   ]
  },
  {
   "cell_type": "code",
   "execution_count": 30,
   "metadata": {},
   "outputs": [
    {
     "data": {
      "image/png": "[encoded data removed]",
      "text/plain": [
       "<Figure size 288x360 with 1 Axes>"
      ]
     },
     "metadata": {
      "needs_background": "light"
     },
     "output_type": "display_data"
    }
   ],
   "source": [
    "# Buat histogram quantity penjualan dari dataset tersebutuntuk melihat persebaran quantity \n",
    "# penjualan tersebut dengan bins = 5 dan figsize= (4,5)\n",
    "order_df[[\"quantity\"]].hist(figsize=(4, 5), bins=5)\n",
    "plt.show()"
   ]
  },
  {
   "cell_type": "code",
   "execution_count": null,
   "metadata": {},
   "outputs": [],
   "source": []
  }
 ],
 "metadata": {
  "kernelspec": {
   "display_name": "Python 3",
   "language": "python",
   "name": "python3"
  },
  "language_info": {
   "codemirror_mode": {
    "name": "ipython",
    "version": 3
   },
   "file_extension": ".py",
   "mimetype": "text/x-python",
   "name": "python",
   "nbconvert_exporter": "python",
   "pygments_lexer": "ipython3",
   "version": "3.8.3"
  }
 },
 "nbformat": 4,
 "nbformat_minor": 4
}
