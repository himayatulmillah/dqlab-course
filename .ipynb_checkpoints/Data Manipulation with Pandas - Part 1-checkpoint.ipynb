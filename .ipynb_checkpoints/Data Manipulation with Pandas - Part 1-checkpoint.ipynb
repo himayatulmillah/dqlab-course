{
 "cells": [
  {
   "cell_type": "markdown",
   "metadata": {},
   "source": [
    "# Data Manipulation with Pandas - Part 1"
   ]
  },
  {
   "cell_type": "markdown",
   "metadata": {},
   "source": [
    "<p><b>About :</b> Kamu akan mempelajari library Python paling terkenal untuk kebutuhan Data Analyst, Data Engineer atau Data Scientist, yakni Pandas. Pandas adalah salah satu library open source yang dapat diandalkan ketika berurusan dengan data tabular seperti csv atau excel. Dengan data manipulation kamu akan dapat membaca file, menerapkan indexing, melakukan filter, joining data, ataupun menulis file ke bentuk lain. Dipadukan dengan fungsi-fungsi built in yang ada di python membuat library ini makin canggih dan mudah dimanfaatkan.</p>\n",
    "\n",
    "<p><b>Course :</b> <a href=https://academy.dqlab.id/main/package/practice/178?pf=0>Data Manipulation with Pandas - Part 1</a></p>"
   ]
  },
  {
   "cell_type": "markdown",
   "metadata": {},
   "source": [
    "<h2>Module Content:</h2>\n",
    "\n",
    "<div class=\"alert alert-block alert-info\" style=\"margin-top: 20px\">\n",
    "    <ul>\n",
    "        <li><a href=\"#introduction-to-pandas\">Introduction to Pandas</a></li>\n",
    "        <ul>\n",
    "            <li><a href=\"#dataframe-and-series\">DataFrame & Series</a></li>\n",
    "            <li><a href=\"#atribut-dataframe-and-series\">Atribut DataFrame & Series</a></li>\n",
    "            <li><a href=\"#creating-dataframe-and-series\">Creating DataFrame & Series</a></li>\n",
    "        </ul>\n",
    "        <li><a href=\"#dataset-io\">Dataset I/O</a></li>\n",
    "        <ul>\n",
    "            <li><a href=\"#read-dataset\">Read Dataset</a></li>\n",
    "            <li><a href=\"#write-dataset\">Write Dataset</a></li>\n",
    "            <li><a href=\"#head-and-tail\">Head & Tail</a></li>\n",
    "        </ul>\n",
    "        <li><a href=\"#indexing-slicing-transforming\">Indexing, Slicing, dan Transforming</a></li>\n",
    "        <ul>\n",
    "            <li><a href=\"#indexing\">Indexing</a></li>\n",
    "            <li><a href=\"#slicing\">Slicing</a></li>\n",
    "            <li><a href=\"#transforming\">Transforming</a></li>\n",
    "        </ul>\n",
    "        <li><a href=\"#handling-missing-values\">Handling Missing Values</a></li>\n",
    "        <ul>\n",
    "            <li><a href=\"#inspeksi-missing-value\">Inspeksi Missing Value</a></li>\n",
    "            <li><a href=\"#treatment-untuk-missing-value\">Treatment untuk Missing Value</a></li>\n",
    "            <li><a href=\"#\"></a></li>\n",
    "            <li><a href=\"#\"></a></li>\n",
    "        </ul>\n",
    "        <li><a href=\"#mini-quiz\">Mini Quiz</a></li>\n",
    "    </ul>\n",
    "</div>"
   ]
  },
  {
   "cell_type": "markdown",
   "metadata": {},
   "source": [
    "<h2><a name=\"introduction-to-pandas\"></a>Chapter 1: Introduction to Pandas</h2>"
   ]
  },
  {
   "cell_type": "markdown",
   "metadata": {},
   "source": [
    "<h3><a name=\"dataframe-and-series\"></a>DataFrame & Series</h3>"
   ]
  },
  {
   "cell_type": "markdown",
   "metadata": {},
   "source": [
    "<p>Di Pandas terdapat 2 kelas data baru yang digunakan sebagai struktur dari spreadsheet:</p>\n",
    "<ul>\n",
    "    <li><b>Series:</b> satu kolom bagian dari tabel dataframe yang merupakan 1 dimensional numpy array sebagai basis data nya, terdiri dari 1 tipe data (integer, string, float, dll).</li>\n",
    "    <li><b>DataFrame:</b> gabungan dari Series, berbentuk rectangular data yang merupakan tabel spreadsheet itu sendiri (karena dibentuk dari banyak Series, tiap Series biasanya punya 1 tipe data, yang artinya 1 dataframe bisa memiliki banyak tipe data).</li>\n",
    "</ul>"
   ]
  },
  {
   "cell_type": "code",
   "execution_count": 10,
   "metadata": {
    "scrolled": true
   },
   "outputs": [
    {
     "name": "stdout",
     "output_type": "stream",
     "text": [
      "Series:\n",
      "0    1\n",
      "1    2\n",
      "2    3\n",
      "3    4\n",
      "4    5\n",
      "5    6\n",
      "dtype: int64\n",
      "DataFrame:\n",
      "   0  1  2\n",
      "0  1  2  3\n",
      "1  a  b  c\n",
      "2  3  4  5\n",
      "3  d  4  6\n"
     ]
    }
   ],
   "source": [
    "import pandas as pd\n",
    "\n",
    "# Series\n",
    "number_list = pd.Series([1,2,3,4,5,6])\n",
    "print(\"Series:\")\n",
    "print(number_list)\n",
    "\n",
    "# DataFrame\n",
    "matrix = [[1,2,3],\n",
    "          ['a','b','c'],\n",
    "          [3,4,5],\n",
    "          ['d',4,6]]\n",
    "matrix_list = pd.DataFrame(matrix)\n",
    "print(\"DataFrame:\")\n",
    "print(matrix_list)"
   ]
  },
  {
   "cell_type": "markdown",
   "metadata": {},
   "source": [
    "<h3><a name=\"atribut-dataframe-and-series\"></a>Atribut DataFrame & Series</h3>"
   ]
  },
  {
   "cell_type": "markdown",
   "metadata": {},
   "source": [
    "<h4>Atribut <code>.info()</code></h4>\n",
    "\n",
    "<p>Digunakan untuk mengecek kolom apa yang membentuk dataframe itu, data types, berapa yang non null, dll. Attribute ini tidak dapat digunakan pada series, hanya pada data frame saja.</p>"
   ]
  },
  {
   "cell_type": "code",
   "execution_count": 11,
   "metadata": {},
   "outputs": [
    {
     "name": "stdout",
     "output_type": "stream",
     "text": [
      "<class 'pandas.core.frame.DataFrame'>\n",
      "RangeIndex: 4 entries, 0 to 3\n",
      "Data columns (total 3 columns):\n",
      " #   Column  Non-Null Count  Dtype \n",
      "---  ------  --------------  ----- \n",
      " 0   0       4 non-null      object\n",
      " 1   1       4 non-null      object\n",
      " 2   2       4 non-null      object\n",
      "dtypes: object(3)\n",
      "memory usage: 224.0+ bytes\n"
     ]
    }
   ],
   "source": [
    "matrix_list.info()"
   ]
  },
  {
   "cell_type": "markdown",
   "metadata": {},
   "source": [
    "<h4>Atribut <code>.shape</code></h4>\n",
    "\n",
    "<p>Digunakan untuk mengetahui berapa baris dan kolom, hasilnya dalam format tuple (baris, kolom).</p>"
   ]
  },
  {
   "cell_type": "code",
   "execution_count": 12,
   "metadata": {},
   "outputs": [
    {
     "name": "stdout",
     "output_type": "stream",
     "text": [
      "Shape dari number_list: (6,)\n",
      "Shape dari matrix_list: (4, 3)\n"
     ]
    }
   ],
   "source": [
    "print(\"Shape dari number_list:\", number_list.shape)\n",
    "print(\"Shape dari matrix_list:\", matrix_list.shape)"
   ]
  },
  {
   "cell_type": "markdown",
   "metadata": {},
   "source": [
    "<h4>Atribut <code>.dtypes</code></h4>\n",
    "\n",
    "<p>Digunakan untuk mengetahui tipe data di tiap kolom. Tipe data object: kombinasi untuk berbagai tipe data (number & text, etc).</p>"
   ]
  },
  {
   "cell_type": "code",
   "execution_count": 13,
   "metadata": {},
   "outputs": [
    {
     "name": "stdout",
     "output_type": "stream",
     "text": [
      "Tipe data number_list:\n"
     ]
    },
    {
     "data": {
      "text/plain": [
       "dtype('int64')"
      ]
     },
     "execution_count": 13,
     "metadata": {},
     "output_type": "execute_result"
    }
   ],
   "source": [
    "print(\"Tipe data number_list:\")\n",
    "number_list.dtypes"
   ]
  },
  {
   "cell_type": "code",
   "execution_count": 14,
   "metadata": {},
   "outputs": [
    {
     "name": "stdout",
     "output_type": "stream",
     "text": [
      "Tipe data matrix_list:\n"
     ]
    },
    {
     "data": {
      "text/plain": [
       "0    object\n",
       "1    object\n",
       "2    object\n",
       "dtype: object"
      ]
     },
     "execution_count": 14,
     "metadata": {},
     "output_type": "execute_result"
    }
   ],
   "source": [
    "print(\"Tipe data matrix_list:\")\n",
    "matrix_list.dtypes"
   ]
  },
  {
   "cell_type": "markdown",
   "metadata": {},
   "source": [
    "<h4>Atribut <code>.astype(nama_tipe_data)</code></h4>\n",
    "\n",
    "<p>Digunakan untuk convert tipe data berdasarkan tipe data seperti: <b>float</b>, <b>int</b>, <b>str</b>, <b>numpy.float</b>, <b>numpy.int</b> ataupun <b>numpy.datetime</b>.</p>"
   ]
  },
  {
   "cell_type": "code",
   "execution_count": 15,
   "metadata": {},
   "outputs": [
    {
     "name": "stdout",
     "output_type": "stream",
     "text": [
      "Konversi number_list ke str:\n"
     ]
    },
    {
     "data": {
      "text/plain": [
       "0    1\n",
       "1    2\n",
       "2    3\n",
       "3    4\n",
       "4    5\n",
       "5    6\n",
       "dtype: object"
      ]
     },
     "execution_count": 15,
     "metadata": {},
     "output_type": "execute_result"
    }
   ],
   "source": [
    "print(\"Konversi number_list ke str:\")\n",
    "number_list.astype(\"str\")"
   ]
  },
  {
   "cell_type": "code",
   "execution_count": 16,
   "metadata": {
    "scrolled": true
   },
   "outputs": [
    {
     "name": "stdout",
     "output_type": "stream",
     "text": [
      "Konversi matrix_list ke str:\n"
     ]
    },
    {
     "data": {
      "text/html": [
       "<div>\n",
       "<style scoped>\n",
       "    .dataframe tbody tr th:only-of-type {\n",
       "        vertical-align: middle;\n",
       "    }\n",
       "\n",
       "    .dataframe tbody tr th {\n",
       "        vertical-align: top;\n",
       "    }\n",
       "\n",
       "    .dataframe thead th {\n",
       "        text-align: right;\n",
       "    }\n",
       "</style>\n",
       "<table border=\"1\" class=\"dataframe\">\n",
       "  <thead>\n",
       "    <tr style=\"text-align: right;\">\n",
       "      <th></th>\n",
       "      <th>0</th>\n",
       "      <th>1</th>\n",
       "      <th>2</th>\n",
       "    </tr>\n",
       "  </thead>\n",
       "  <tbody>\n",
       "    <tr>\n",
       "      <th>0</th>\n",
       "      <td>1</td>\n",
       "      <td>2</td>\n",
       "      <td>3</td>\n",
       "    </tr>\n",
       "    <tr>\n",
       "      <th>1</th>\n",
       "      <td>a</td>\n",
       "      <td>b</td>\n",
       "      <td>c</td>\n",
       "    </tr>\n",
       "    <tr>\n",
       "      <th>2</th>\n",
       "      <td>3</td>\n",
       "      <td>4</td>\n",
       "      <td>5</td>\n",
       "    </tr>\n",
       "    <tr>\n",
       "      <th>3</th>\n",
       "      <td>d</td>\n",
       "      <td>4</td>\n",
       "      <td>6</td>\n",
       "    </tr>\n",
       "  </tbody>\n",
       "</table>\n",
       "</div>"
      ],
      "text/plain": [
       "   0  1  2\n",
       "0  1  2  3\n",
       "1  a  b  c\n",
       "2  3  4  5\n",
       "3  d  4  6"
      ]
     },
     "execution_count": 16,
     "metadata": {},
     "output_type": "execute_result"
    }
   ],
   "source": [
    "print(\"Konversi matrix_list ke str:\")\n",
    "matrix_list.astype(\"str\")"
   ]
  },
  {
   "cell_type": "markdown",
   "metadata": {},
   "source": [
    "<h4>Atribut <code>.copy()</code></h4>\n",
    "\n",
    "<p>Digunakan untuk melakukan duplikat, untuk disimpan di variable yang berbeda mungkin supaya tidak loading data lagi.</p>"
   ]
  },
  {
   "cell_type": "code",
   "execution_count": 17,
   "metadata": {
    "scrolled": true
   },
   "outputs": [
    {
     "name": "stdout",
     "output_type": "stream",
     "text": [
      "    Copy number_list ke num_list: 0    1\n",
      "1    2\n",
      "2    3\n",
      "3    4\n",
      "4    5\n",
      "5    6\n",
      "dtype: int64\n",
      "    Copy matrix_list ke mtr_list:    0  1  2\n",
      "0  1  2  3\n",
      "1  a  b  c\n",
      "2  3  4  5\n",
      "3  d  4  6\n"
     ]
    }
   ],
   "source": [
    "# copy series\n",
    "num_list = number_list.copy()\n",
    "num_list"
   ]
  },
  {
   "cell_type": "code",
   "execution_count": 18,
   "metadata": {},
   "outputs": [
    {
     "data": {
      "text/html": [
       "<div>\n",
       "<style scoped>\n",
       "    .dataframe tbody tr th:only-of-type {\n",
       "        vertical-align: middle;\n",
       "    }\n",
       "\n",
       "    .dataframe tbody tr th {\n",
       "        vertical-align: top;\n",
       "    }\n",
       "\n",
       "    .dataframe thead th {\n",
       "        text-align: right;\n",
       "    }\n",
       "</style>\n",
       "<table border=\"1\" class=\"dataframe\">\n",
       "  <thead>\n",
       "    <tr style=\"text-align: right;\">\n",
       "      <th></th>\n",
       "      <th>0</th>\n",
       "      <th>1</th>\n",
       "      <th>2</th>\n",
       "    </tr>\n",
       "  </thead>\n",
       "  <tbody>\n",
       "    <tr>\n",
       "      <th>0</th>\n",
       "      <td>1</td>\n",
       "      <td>2</td>\n",
       "      <td>3</td>\n",
       "    </tr>\n",
       "    <tr>\n",
       "      <th>1</th>\n",
       "      <td>a</td>\n",
       "      <td>b</td>\n",
       "      <td>c</td>\n",
       "    </tr>\n",
       "    <tr>\n",
       "      <th>2</th>\n",
       "      <td>3</td>\n",
       "      <td>4</td>\n",
       "      <td>5</td>\n",
       "    </tr>\n",
       "    <tr>\n",
       "      <th>3</th>\n",
       "      <td>d</td>\n",
       "      <td>4</td>\n",
       "      <td>6</td>\n",
       "    </tr>\n",
       "  </tbody>\n",
       "</table>\n",
       "</div>"
      ],
      "text/plain": [
       "   0  1  2\n",
       "0  1  2  3\n",
       "1  a  b  c\n",
       "2  3  4  5\n",
       "3  d  4  6"
      ]
     },
     "execution_count": 18,
     "metadata": {},
     "output_type": "execute_result"
    }
   ],
   "source": [
    "# copy dataframe\n",
    "mtr_list = matrix_list.copy()\n",
    "mtr_list"
   ]
  },
  {
   "cell_type": "markdown",
   "metadata": {},
   "source": [
    "<h4>Atribut <code>.to_list()</code></h4>\n",
    "\n",
    "<p>Digunakan untuk mengubah series menjadi list dan tidak dapat digunakan untuk dataframe.</p>"
   ]
  },
  {
   "cell_type": "code",
   "execution_count": 19,
   "metadata": {},
   "outputs": [
    {
     "data": {
      "text/plain": [
       "[1, 2, 3, 4, 5, 6]"
      ]
     },
     "execution_count": 19,
     "metadata": {},
     "output_type": "execute_result"
    }
   ],
   "source": [
    "number_list.to_list()"
   ]
  },
  {
   "cell_type": "markdown",
   "metadata": {},
   "source": [
    "<h4>Atribut <code>.unique()</code></h4>\n",
    "\n",
    "<p>Digunakan untuk menghasilkan nilai unik dari suatu kolom, hasilnya dalam bentuk numpy array. Attribute ini hanya digunakan pada series saja.</p>"
   ]
  },
  {
   "cell_type": "code",
   "execution_count": 22,
   "metadata": {
    "scrolled": true
   },
   "outputs": [
    {
     "data": {
      "text/plain": [
       "array([1, 2, 3, 4, 5, 6], dtype=int64)"
      ]
     },
     "execution_count": 22,
     "metadata": {},
     "output_type": "execute_result"
    }
   ],
   "source": [
    "number_list.unique()"
   ]
  },
  {
   "cell_type": "markdown",
   "metadata": {},
   "source": [
    "<h4>Atribut <code>.index</code></h4>\n",
    "\n",
    "<p>Digunakan untuk mencari index/key dari Series atau Dataframe.</p>"
   ]
  },
  {
   "cell_type": "code",
   "execution_count": 27,
   "metadata": {},
   "outputs": [
    {
     "name": "stdout",
     "output_type": "stream",
     "text": [
      "Index number_list: RangeIndex(start=0, stop=6, step=1)\n",
      "Index matrix_list: RangeIndex(start=0, stop=4, step=1)\n"
     ]
    }
   ],
   "source": [
    "print(\"Index number_list:\", number_list.index)\n",
    "print(\"Index matrix_list:\", matrix_list.index)"
   ]
  },
  {
   "cell_type": "markdown",
   "metadata": {},
   "source": [
    "<h4>Atribut <code>.columns</code></h4>\n",
    "\n",
    "<p>Digunakan untuk mengetahui apa saja kolom yang tersedia di dataframe tersebut (hanya digunakan untuk dataframe saja).</p>"
   ]
  },
  {
   "cell_type": "code",
   "execution_count": 28,
   "metadata": {},
   "outputs": [
    {
     "name": "stdout",
     "output_type": "stream",
     "text": [
      "Column matrix_list: RangeIndex(start=0, stop=3, step=1)\n"
     ]
    }
   ],
   "source": [
    "print(\"Column matrix_list:\", matrix_list.columns)"
   ]
  },
  {
   "cell_type": "markdown",
   "metadata": {},
   "source": [
    "<h4>Atribut <code>.loc</code></h4>\n",
    "\n",
    "<p>Digunakan untuk slice dataframe atau series berdasarkan <b>nama kolom</b> dan/atau <b>nama index</b>.</p>"
   ]
  },
  {
   "cell_type": "code",
   "execution_count": 29,
   "metadata": {},
   "outputs": [
    {
     "data": {
      "text/plain": [
       "0    1\n",
       "1    2\n",
       "dtype: int64"
      ]
     },
     "execution_count": 29,
     "metadata": {},
     "output_type": "execute_result"
    }
   ],
   "source": [
    "# slice series\n",
    "number_list.loc[0:1]"
   ]
  },
  {
   "cell_type": "code",
   "execution_count": 30,
   "metadata": {},
   "outputs": [
    {
     "data": {
      "text/html": [
       "<div>\n",
       "<style scoped>\n",
       "    .dataframe tbody tr th:only-of-type {\n",
       "        vertical-align: middle;\n",
       "    }\n",
       "\n",
       "    .dataframe tbody tr th {\n",
       "        vertical-align: top;\n",
       "    }\n",
       "\n",
       "    .dataframe thead th {\n",
       "        text-align: right;\n",
       "    }\n",
       "</style>\n",
       "<table border=\"1\" class=\"dataframe\">\n",
       "  <thead>\n",
       "    <tr style=\"text-align: right;\">\n",
       "      <th></th>\n",
       "      <th>0</th>\n",
       "      <th>1</th>\n",
       "      <th>2</th>\n",
       "    </tr>\n",
       "  </thead>\n",
       "  <tbody>\n",
       "    <tr>\n",
       "      <th>0</th>\n",
       "      <td>1</td>\n",
       "      <td>2</td>\n",
       "      <td>3</td>\n",
       "    </tr>\n",
       "    <tr>\n",
       "      <th>1</th>\n",
       "      <td>a</td>\n",
       "      <td>b</td>\n",
       "      <td>c</td>\n",
       "    </tr>\n",
       "  </tbody>\n",
       "</table>\n",
       "</div>"
      ],
      "text/plain": [
       "   0  1  2\n",
       "0  1  2  3\n",
       "1  a  b  c"
      ]
     },
     "execution_count": 30,
     "metadata": {},
     "output_type": "execute_result"
    }
   ],
   "source": [
    "# slice dataframe\n",
    "matrix_list.loc[0:1]"
   ]
  },
  {
   "cell_type": "markdown",
   "metadata": {},
   "source": [
    "<h4>Atribut <code>.iloc</code></h4>\n",
    "\n",
    "<p>Digunakan untuk slice dataframe atau series berdasarkan <b>index kolom</b> dan/atau <b>index</b>.</p>"
   ]
  },
  {
   "cell_type": "code",
   "execution_count": 31,
   "metadata": {},
   "outputs": [
    {
     "data": {
      "text/plain": [
       "0    1\n",
       "dtype: int64"
      ]
     },
     "execution_count": 31,
     "metadata": {},
     "output_type": "execute_result"
    }
   ],
   "source": [
    "# slice series\n",
    "number_list.iloc[0:1]"
   ]
  },
  {
   "cell_type": "code",
   "execution_count": 32,
   "metadata": {
    "scrolled": true
   },
   "outputs": [
    {
     "data": {
      "text/html": [
       "<div>\n",
       "<style scoped>\n",
       "    .dataframe tbody tr th:only-of-type {\n",
       "        vertical-align: middle;\n",
       "    }\n",
       "\n",
       "    .dataframe tbody tr th {\n",
       "        vertical-align: top;\n",
       "    }\n",
       "\n",
       "    .dataframe thead th {\n",
       "        text-align: right;\n",
       "    }\n",
       "</style>\n",
       "<table border=\"1\" class=\"dataframe\">\n",
       "  <thead>\n",
       "    <tr style=\"text-align: right;\">\n",
       "      <th></th>\n",
       "      <th>0</th>\n",
       "      <th>1</th>\n",
       "      <th>2</th>\n",
       "    </tr>\n",
       "  </thead>\n",
       "  <tbody>\n",
       "    <tr>\n",
       "      <th>0</th>\n",
       "      <td>1</td>\n",
       "      <td>2</td>\n",
       "      <td>3</td>\n",
       "    </tr>\n",
       "  </tbody>\n",
       "</table>\n",
       "</div>"
      ],
      "text/plain": [
       "   0  1  2\n",
       "0  1  2  3"
      ]
     },
     "execution_count": 32,
     "metadata": {},
     "output_type": "execute_result"
    }
   ],
   "source": [
    "# slice dataframe\n",
    "matrix_list.iloc[0:1]"
   ]
  },
  {
   "cell_type": "markdown",
   "metadata": {},
   "source": [
    "<h3><a name=\"creating-dataframe-and-series\"></a>Creating DataFrame & Series</h3>"
   ]
  },
  {
   "cell_type": "markdown",
   "metadata": {},
   "source": [
    "<h4>Create from <i>List</i></h4>\n",
    "\n",
    "<p><i>List</i> merupakan sebuah kumpulan data berbagai macam tipe data, yang mutable (dapat diganti).</p>"
   ]
  },
  {
   "cell_type": "code",
   "execution_count": 33,
   "metadata": {},
   "outputs": [
    {
     "data": {
      "text/plain": [
       "0    a\n",
       "1    1\n",
       "2    3\n",
       "3    5\n",
       "4    c\n",
       "5    d\n",
       "dtype: object"
      ]
     },
     "execution_count": 33,
     "metadata": {},
     "output_type": "execute_result"
    }
   ],
   "source": [
    "# Creating series from list\n",
    "ex_list = ['a',1,3,5,'c','d']\n",
    "ex_series = pd.Series(ex_list)\n",
    "ex_series"
   ]
  },
  {
   "cell_type": "code",
   "execution_count": 34,
   "metadata": {
    "scrolled": true
   },
   "outputs": [
    {
     "data": {
      "text/html": [
       "<div>\n",
       "<style scoped>\n",
       "    .dataframe tbody tr th:only-of-type {\n",
       "        vertical-align: middle;\n",
       "    }\n",
       "\n",
       "    .dataframe tbody tr th {\n",
       "        vertical-align: top;\n",
       "    }\n",
       "\n",
       "    .dataframe thead th {\n",
       "        text-align: right;\n",
       "    }\n",
       "</style>\n",
       "<table border=\"1\" class=\"dataframe\">\n",
       "  <thead>\n",
       "    <tr style=\"text-align: right;\">\n",
       "      <th></th>\n",
       "      <th>float</th>\n",
       "      <th>char</th>\n",
       "      <th>obj</th>\n",
       "      <th>char</th>\n",
       "    </tr>\n",
       "  </thead>\n",
       "  <tbody>\n",
       "    <tr>\n",
       "      <th>dq</th>\n",
       "      <td>1.0</td>\n",
       "      <td>a</td>\n",
       "      <td>b</td>\n",
       "      <td>c</td>\n",
       "    </tr>\n",
       "    <tr>\n",
       "      <th>lab</th>\n",
       "      <td>2.5</td>\n",
       "      <td>d</td>\n",
       "      <td>e</td>\n",
       "      <td>f</td>\n",
       "    </tr>\n",
       "    <tr>\n",
       "      <th>kar</th>\n",
       "      <td>5.0</td>\n",
       "      <td>g</td>\n",
       "      <td>h</td>\n",
       "      <td>i</td>\n",
       "    </tr>\n",
       "    <tr>\n",
       "      <th>lan</th>\n",
       "      <td>7.5</td>\n",
       "      <td>j</td>\n",
       "      <td>10.5</td>\n",
       "      <td>l</td>\n",
       "    </tr>\n",
       "  </tbody>\n",
       "</table>\n",
       "</div>"
      ],
      "text/plain": [
       "     float char   obj char\n",
       "dq     1.0    a     b    c\n",
       "lab    2.5    d     e    f\n",
       "kar    5.0    g     h    i\n",
       "lan    7.5    j  10.5    l"
      ]
     },
     "execution_count": 34,
     "metadata": {},
     "output_type": "execute_result"
    }
   ],
   "source": [
    "# Creating dataframe from list of list\n",
    "ex_list_of_list = [[1  ,'a','b' ,'c'],\n",
    "                   [2.5,'d','e' ,'f'],\n",
    "                   [5  ,'g','h' ,'i'],\n",
    "                   [7.5,'j',10.5,'l']]\n",
    "\n",
    "index = ['dq','lab','kar','lan']\n",
    "cols = ['float','char','obj','char']\n",
    "ex_df = pd.DataFrame(ex_list_of_list, index=index, columns=cols)\n",
    "ex_df"
   ]
  },
  {
   "cell_type": "markdown",
   "metadata": {},
   "source": [
    "<h4>Create from <i>Dictionary</i></h4>\n",
    "\n",
    "<p><i>Dictionary</i> merupakan kumpulan data yang strukturnya terdiri dari key dan value.</p>"
   ]
  },
  {
   "cell_type": "code",
   "execution_count": 35,
   "metadata": {},
   "outputs": [
    {
     "data": {
      "text/plain": [
       "1    a\n",
       "2    b\n",
       "3    c\n",
       "dtype: object"
      ]
     },
     "execution_count": 35,
     "metadata": {},
     "output_type": "execute_result"
    }
   ],
   "source": [
    "# Creating series from dictionary\n",
    "dict_series = {'1':'a',\n",
    "               '2':'b',\n",
    "               '3':'c'}\n",
    "ex_series = pd.Series(dict_series)\n",
    "ex_series"
   ]
  },
  {
   "cell_type": "code",
   "execution_count": 36,
   "metadata": {
    "scrolled": true
   },
   "outputs": [
    {
     "data": {
      "text/html": [
       "<div>\n",
       "<style scoped>\n",
       "    .dataframe tbody tr th:only-of-type {\n",
       "        vertical-align: middle;\n",
       "    }\n",
       "\n",
       "    .dataframe tbody tr th {\n",
       "        vertical-align: top;\n",
       "    }\n",
       "\n",
       "    .dataframe thead th {\n",
       "        text-align: right;\n",
       "    }\n",
       "</style>\n",
       "<table border=\"1\" class=\"dataframe\">\n",
       "  <thead>\n",
       "    <tr style=\"text-align: right;\">\n",
       "      <th></th>\n",
       "      <th>1</th>\n",
       "      <th>2</th>\n",
       "      <th>4</th>\n",
       "    </tr>\n",
       "  </thead>\n",
       "  <tbody>\n",
       "    <tr>\n",
       "      <th>0</th>\n",
       "      <td>a</td>\n",
       "      <td>b</td>\n",
       "      <td>2</td>\n",
       "    </tr>\n",
       "    <tr>\n",
       "      <th>1</th>\n",
       "      <td>b</td>\n",
       "      <td>c</td>\n",
       "      <td>3</td>\n",
       "    </tr>\n",
       "    <tr>\n",
       "      <th>2</th>\n",
       "      <td>c</td>\n",
       "      <td>d</td>\n",
       "      <td>z</td>\n",
       "    </tr>\n",
       "  </tbody>\n",
       "</table>\n",
       "</div>"
      ],
      "text/plain": [
       "   1  2  4\n",
       "0  a  b  2\n",
       "1  b  c  3\n",
       "2  c  d  z"
      ]
     },
     "execution_count": 36,
     "metadata": {},
     "output_type": "execute_result"
    }
   ],
   "source": [
    "# Creating dataframe from dictionary\n",
    "df_series = {'1':['a','b','c'],\n",
    "             '2':['b','c','d'],\n",
    "             '4':[2,3,'z']}\n",
    "ex_df = pd.DataFrame(df_series)\n",
    "ex_df"
   ]
  },
  {
   "cell_type": "markdown",
   "metadata": {},
   "source": [
    "<h4>Create from <i>Numpy Array</i></h4>\n",
    "\n",
    "<p><i>Numpy Array</i> merupakan kumpulan data yang terdiri atas berbagai macam tipe data, mutable, tapi dibungkus dalam array oleh library Numpy.</p>"
   ]
  },
  {
   "cell_type": "code",
   "execution_count": 37,
   "metadata": {},
   "outputs": [
    {
     "data": {
      "text/plain": [
       "0    1\n",
       "1    2\n",
       "2    3\n",
       "3    4\n",
       "4    5\n",
       "5    6\n",
       "6    6\n",
       "7    7\n",
       "dtype: int32"
      ]
     },
     "execution_count": 37,
     "metadata": {},
     "output_type": "execute_result"
    }
   ],
   "source": [
    "import numpy as np\n",
    "\n",
    "# Creating series from numpy array (1D)\n",
    "arr_series = np.array([1,2,3,4,5,6,6,7])\n",
    "ex_series = pd.Series(arr_series)\n",
    "ex_series"
   ]
  },
  {
   "cell_type": "code",
   "execution_count": 38,
   "metadata": {},
   "outputs": [
    {
     "data": {
      "text/html": [
       "<div>\n",
       "<style scoped>\n",
       "    .dataframe tbody tr th:only-of-type {\n",
       "        vertical-align: middle;\n",
       "    }\n",
       "\n",
       "    .dataframe tbody tr th {\n",
       "        vertical-align: top;\n",
       "    }\n",
       "\n",
       "    .dataframe thead th {\n",
       "        text-align: right;\n",
       "    }\n",
       "</style>\n",
       "<table border=\"1\" class=\"dataframe\">\n",
       "  <thead>\n",
       "    <tr style=\"text-align: right;\">\n",
       "      <th></th>\n",
       "      <th>0</th>\n",
       "      <th>1</th>\n",
       "      <th>2</th>\n",
       "      <th>3</th>\n",
       "    </tr>\n",
       "  </thead>\n",
       "  <tbody>\n",
       "    <tr>\n",
       "      <th>0</th>\n",
       "      <td>1</td>\n",
       "      <td>2</td>\n",
       "      <td>3</td>\n",
       "      <td>5</td>\n",
       "    </tr>\n",
       "    <tr>\n",
       "      <th>1</th>\n",
       "      <td>5</td>\n",
       "      <td>6</td>\n",
       "      <td>7</td>\n",
       "      <td>8</td>\n",
       "    </tr>\n",
       "    <tr>\n",
       "      <th>2</th>\n",
       "      <td>a</td>\n",
       "      <td>b</td>\n",
       "      <td>c</td>\n",
       "      <td>10</td>\n",
       "    </tr>\n",
       "  </tbody>\n",
       "</table>\n",
       "</div>"
      ],
      "text/plain": [
       "   0  1  2   3\n",
       "0  1  2  3   5\n",
       "1  5  6  7   8\n",
       "2  a  b  c  10"
      ]
     },
     "execution_count": 38,
     "metadata": {},
     "output_type": "execute_result"
    }
   ],
   "source": [
    "# Creating dataframe from numpy array (2D)\n",
    "arr_df = np.array([[1  ,2  ,3  ,5],\n",
    "                   [5  ,6  ,7  ,8],\n",
    "                   ['a','b','c',10]])\n",
    "ex_df = pd.DataFrame(arr_df)\n",
    "ex_df"
   ]
  },
  {
   "cell_type": "markdown",
   "metadata": {},
   "source": [
    "<h2><a name=\"dataset-io\"></a>Chapter 2: Dataset I/O</h2>"
   ]
  },
  {
   "cell_type": "markdown",
   "metadata": {},
   "source": [
    "<p>Pandas menyediakan berbagai method untuk membaca file tersebut hanya dengan dipanggil method itu, code yang lebih simple dan loading yang lebih, tentu saja output nya dapat berupa Series atau Dataframe.</p>\n",
    "\n",
    "<p>Terdapat sangat banyak file yang dapat dibaca/dapat disimpan oleh Pandas, tapi ada beberapa file yang paling umum dan sering digunakan oleh praktisi data seperti berikut ini:</p>\n",
    "<ul>\n",
    "    <li>CSV (Comma Separated Values), antar data dalam satu baris dipisahkan oleh comma, \",\".</li>\n",
    "    <li>TSV (Tab Separated Values), antar data dalam satu baris dipisahkan oleh \"Tab\".</li>\n",
    "    <li>Excel</li>\n",
    "    <li>Google BigQuery</li>\n",
    "    <li>SQL Query</li>\n",
    "    <li>JSON (Java Script Object Notation)</li>\n",
    "</ul>"
   ]
  },
  {
   "cell_type": "markdown",
   "metadata": {},
   "source": [
    "<h3><a name=\"read-dataset\"></a>Read Dataset</h3>"
   ]
  },
  {
   "cell_type": "markdown",
   "metadata": {},
   "source": [
    "<h4>CSV dan TSV</h4>\n",
    "\n",
    "<p>CSV dan TSV pada hakikatnya adalah tipe data text dengan perbedaan terletak pada pemisah antar data dalam satu baris. Pada file CSV, antar data dalam satu baris dipisahkan oleh comma, \",\". Namun, pada file TSV antar data dalam satu baris dipisahkan oleh \"Tab\".</p>\n",
    "\n",
    "<p>Fungsi <code>.read_csv()</code> digunakan untuk membaca file yang value nya dipisahkan oleh comma (default), terkadang pemisah value nya bisa di set ‘\\t’ untuk file tsv (tab separated values).</p>"
   ]
  },
  {
   "cell_type": "code",
   "execution_count": 39,
   "metadata": {},
   "outputs": [
    {
     "data": {
      "text/html": [
       "<div>\n",
       "<style scoped>\n",
       "    .dataframe tbody tr th:only-of-type {\n",
       "        vertical-align: middle;\n",
       "    }\n",
       "\n",
       "    .dataframe tbody tr th {\n",
       "        vertical-align: top;\n",
       "    }\n",
       "\n",
       "    .dataframe thead th {\n",
       "        text-align: right;\n",
       "    }\n",
       "</style>\n",
       "<table border=\"1\" class=\"dataframe\">\n",
       "  <thead>\n",
       "    <tr style=\"text-align: right;\">\n",
       "      <th></th>\n",
       "      <th>order_id</th>\n",
       "      <th>order_date</th>\n",
       "      <th>customer_id</th>\n",
       "      <th>city</th>\n",
       "      <th>province</th>\n",
       "      <th>product_id</th>\n",
       "      <th>brand</th>\n",
       "      <th>quantity</th>\n",
       "      <th>item_price</th>\n",
       "    </tr>\n",
       "  </thead>\n",
       "  <tbody>\n",
       "    <tr>\n",
       "      <th>0</th>\n",
       "      <td>1612339</td>\n",
       "      <td>2019-01-01</td>\n",
       "      <td>18055</td>\n",
       "      <td>Jakarta Selatan</td>\n",
       "      <td>DKI Jakarta</td>\n",
       "      <td>P0648</td>\n",
       "      <td>BRAND_C</td>\n",
       "      <td>4</td>\n",
       "      <td>1934000</td>\n",
       "    </tr>\n",
       "    <tr>\n",
       "      <th>1</th>\n",
       "      <td>1612339</td>\n",
       "      <td>2019-01-01</td>\n",
       "      <td>18055</td>\n",
       "      <td>Jakarta Selatan</td>\n",
       "      <td>DKI Jakarta</td>\n",
       "      <td>P3826</td>\n",
       "      <td>BRAND_V</td>\n",
       "      <td>8</td>\n",
       "      <td>604000</td>\n",
       "    </tr>\n",
       "    <tr>\n",
       "      <th>2</th>\n",
       "      <td>1612339</td>\n",
       "      <td>2019-01-01</td>\n",
       "      <td>18055</td>\n",
       "      <td>Jakarta Selatan</td>\n",
       "      <td>DKI Jakarta</td>\n",
       "      <td>P1508</td>\n",
       "      <td>BRAND_G</td>\n",
       "      <td>12</td>\n",
       "      <td>747000</td>\n",
       "    </tr>\n",
       "  </tbody>\n",
       "</table>\n",
       "</div>"
      ],
      "text/plain": [
       "   order_id  order_date  customer_id             city     province product_id  \\\n",
       "0   1612339  2019-01-01        18055  Jakarta Selatan  DKI Jakarta      P0648   \n",
       "1   1612339  2019-01-01        18055  Jakarta Selatan  DKI Jakarta      P3826   \n",
       "2   1612339  2019-01-01        18055  Jakarta Selatan  DKI Jakarta      P1508   \n",
       "\n",
       "     brand  quantity  item_price  \n",
       "0  BRAND_C         4     1934000  \n",
       "1  BRAND_V         8      604000  \n",
       "2  BRAND_G        12      747000  "
      ]
     },
     "execution_count": 39,
     "metadata": {},
     "output_type": "execute_result"
    }
   ],
   "source": [
    "import pandas as pd\n",
    "# File CSV\n",
    "df_csv = pd.read_csv(\"https://dqlab-dataset.s3-ap-southeast-1.amazonaws.com/sample_csv.csv\")\n",
    "df_csv.head(3) # Menampilkan 3 data teratas"
   ]
  },
  {
   "cell_type": "code",
   "execution_count": 40,
   "metadata": {
    "scrolled": true
   },
   "outputs": [
    {
     "data": {
      "text/html": [
       "<div>\n",
       "<style scoped>\n",
       "    .dataframe tbody tr th:only-of-type {\n",
       "        vertical-align: middle;\n",
       "    }\n",
       "\n",
       "    .dataframe tbody tr th {\n",
       "        vertical-align: top;\n",
       "    }\n",
       "\n",
       "    .dataframe thead th {\n",
       "        text-align: right;\n",
       "    }\n",
       "</style>\n",
       "<table border=\"1\" class=\"dataframe\">\n",
       "  <thead>\n",
       "    <tr style=\"text-align: right;\">\n",
       "      <th></th>\n",
       "      <th>order_id</th>\n",
       "      <th>order_date</th>\n",
       "      <th>customer_id</th>\n",
       "      <th>city</th>\n",
       "      <th>province</th>\n",
       "      <th>product_id</th>\n",
       "      <th>brand</th>\n",
       "      <th>quantity</th>\n",
       "      <th>item_price</th>\n",
       "    </tr>\n",
       "  </thead>\n",
       "  <tbody>\n",
       "    <tr>\n",
       "      <th>0</th>\n",
       "      <td>1612339</td>\n",
       "      <td>2019-01-01</td>\n",
       "      <td>18055</td>\n",
       "      <td>Jakarta Selatan</td>\n",
       "      <td>DKI Jakarta</td>\n",
       "      <td>P0648</td>\n",
       "      <td>BRAND_C</td>\n",
       "      <td>4</td>\n",
       "      <td>1934000</td>\n",
       "    </tr>\n",
       "    <tr>\n",
       "      <th>1</th>\n",
       "      <td>1612339</td>\n",
       "      <td>2019-01-01</td>\n",
       "      <td>18055</td>\n",
       "      <td>Jakarta Selatan</td>\n",
       "      <td>DKI Jakarta</td>\n",
       "      <td>P3826</td>\n",
       "      <td>BRAND_V</td>\n",
       "      <td>8</td>\n",
       "      <td>604000</td>\n",
       "    </tr>\n",
       "    <tr>\n",
       "      <th>2</th>\n",
       "      <td>1612339</td>\n",
       "      <td>2019-01-01</td>\n",
       "      <td>18055</td>\n",
       "      <td>Jakarta Selatan</td>\n",
       "      <td>DKI Jakarta</td>\n",
       "      <td>P1508</td>\n",
       "      <td>BRAND_G</td>\n",
       "      <td>12</td>\n",
       "      <td>747000</td>\n",
       "    </tr>\n",
       "  </tbody>\n",
       "</table>\n",
       "</div>"
      ],
      "text/plain": [
       "   order_id  order_date  customer_id             city     province product_id  \\\n",
       "0   1612339  2019-01-01        18055  Jakarta Selatan  DKI Jakarta      P0648   \n",
       "1   1612339  2019-01-01        18055  Jakarta Selatan  DKI Jakarta      P3826   \n",
       "2   1612339  2019-01-01        18055  Jakarta Selatan  DKI Jakarta      P1508   \n",
       "\n",
       "     brand  quantity  item_price  \n",
       "0  BRAND_C         4     1934000  \n",
       "1  BRAND_V         8      604000  \n",
       "2  BRAND_G        12      747000  "
      ]
     },
     "execution_count": 40,
     "metadata": {},
     "output_type": "execute_result"
    }
   ],
   "source": [
    "# File TSV\n",
    "df_tsv = pd.read_csv(\"https://dqlab-dataset.s3-ap-southeast-1.amazonaws.com/sample_tsv.tsv\", sep='\\t')\n",
    "df_tsv.head(3) # Menampilkan 3 data teratas"
   ]
  },
  {
   "cell_type": "markdown",
   "metadata": {},
   "source": [
    "<h4>Excel</h4>\n",
    "\n",
    "<p>File excel dengan ekstensi *.xls atau *.xlsx cukup banyak digunakan dalam menyimpan data. Pandas juga memiliki fitur untuk membaca file excel.</p>\n",
    "\n",
    "<p>Fungsi <code>.read_excel()</code> digunakan untuk membaca file excel.</p>"
   ]
  },
  {
   "cell_type": "code",
   "execution_count": 41,
   "metadata": {
    "scrolled": true
   },
   "outputs": [
    {
     "data": {
      "text/html": [
       "<div>\n",
       "<style scoped>\n",
       "    .dataframe tbody tr th:only-of-type {\n",
       "        vertical-align: middle;\n",
       "    }\n",
       "\n",
       "    .dataframe tbody tr th {\n",
       "        vertical-align: top;\n",
       "    }\n",
       "\n",
       "    .dataframe thead th {\n",
       "        text-align: right;\n",
       "    }\n",
       "</style>\n",
       "<table border=\"1\" class=\"dataframe\">\n",
       "  <thead>\n",
       "    <tr style=\"text-align: right;\">\n",
       "      <th></th>\n",
       "      <th>order_id</th>\n",
       "      <th>order_date</th>\n",
       "      <th>customer_id</th>\n",
       "      <th>city</th>\n",
       "      <th>province</th>\n",
       "      <th>product_id</th>\n",
       "      <th>brand</th>\n",
       "      <th>quantity</th>\n",
       "      <th>item_price</th>\n",
       "    </tr>\n",
       "  </thead>\n",
       "  <tbody>\n",
       "    <tr>\n",
       "      <th>0</th>\n",
       "      <td>1612339</td>\n",
       "      <td>2019-01-01</td>\n",
       "      <td>18055</td>\n",
       "      <td>Jakarta Selatan</td>\n",
       "      <td>DKI Jakarta</td>\n",
       "      <td>P0648</td>\n",
       "      <td>BRAND_C</td>\n",
       "      <td>4</td>\n",
       "      <td>1934000</td>\n",
       "    </tr>\n",
       "    <tr>\n",
       "      <th>1</th>\n",
       "      <td>1612339</td>\n",
       "      <td>2019-01-01</td>\n",
       "      <td>18055</td>\n",
       "      <td>Jakarta Selatan</td>\n",
       "      <td>DKI Jakarta</td>\n",
       "      <td>P3826</td>\n",
       "      <td>BRAND_V</td>\n",
       "      <td>8</td>\n",
       "      <td>604000</td>\n",
       "    </tr>\n",
       "    <tr>\n",
       "      <th>2</th>\n",
       "      <td>1612339</td>\n",
       "      <td>2019-01-01</td>\n",
       "      <td>18055</td>\n",
       "      <td>Jakarta Selatan</td>\n",
       "      <td>DKI Jakarta</td>\n",
       "      <td>P1508</td>\n",
       "      <td>BRAND_G</td>\n",
       "      <td>12</td>\n",
       "      <td>747000</td>\n",
       "    </tr>\n",
       "    <tr>\n",
       "      <th>3</th>\n",
       "      <td>1612339</td>\n",
       "      <td>2019-01-01</td>\n",
       "      <td>18055</td>\n",
       "      <td>Jakarta Selatan</td>\n",
       "      <td>DKI Jakarta</td>\n",
       "      <td>P0520</td>\n",
       "      <td>BRAND_B</td>\n",
       "      <td>12</td>\n",
       "      <td>450000</td>\n",
       "    </tr>\n",
       "  </tbody>\n",
       "</table>\n",
       "</div>"
      ],
      "text/plain": [
       "   order_id  order_date  customer_id             city     province product_id  \\\n",
       "0   1612339  2019-01-01        18055  Jakarta Selatan  DKI Jakarta      P0648   \n",
       "1   1612339  2019-01-01        18055  Jakarta Selatan  DKI Jakarta      P3826   \n",
       "2   1612339  2019-01-01        18055  Jakarta Selatan  DKI Jakarta      P1508   \n",
       "3   1612339  2019-01-01        18055  Jakarta Selatan  DKI Jakarta      P0520   \n",
       "\n",
       "     brand  quantity  item_price  \n",
       "0  BRAND_C         4     1934000  \n",
       "1  BRAND_V         8      604000  \n",
       "2  BRAND_G        12      747000  \n",
       "3  BRAND_B        12      450000  "
      ]
     },
     "execution_count": 41,
     "metadata": {},
     "output_type": "execute_result"
    }
   ],
   "source": [
    "import pandas as pd\n",
    "\n",
    "# File xlsx dengan data di sheet \"test\"\n",
    "df_excel = pd.read_excel(\"https://dqlab-dataset.s3-ap-southeast-1.amazonaws.com/sample_excel.xlsx\", sheet_name=\"test\")\n",
    "df_excel.head(4) # Menampilkan 4 data teratas"
   ]
  },
  {
   "cell_type": "markdown",
   "metadata": {},
   "source": [
    "<h4>JSON</h4>\n",
    "\n",
    "<p>Method <code>.read_json()</code> digunakan untuk membaca URL API yang formatnya JSON dan merubahnya menjadi dataframe pandas.</p>"
   ]
  },
  {
   "cell_type": "code",
   "execution_count": 43,
   "metadata": {
    "scrolled": true
   },
   "outputs": [
    {
     "data": {
      "text/html": [
       "<div>\n",
       "<style scoped>\n",
       "    .dataframe tbody tr th:only-of-type {\n",
       "        vertical-align: middle;\n",
       "    }\n",
       "\n",
       "    .dataframe tbody tr th {\n",
       "        vertical-align: top;\n",
       "    }\n",
       "\n",
       "    .dataframe thead th {\n",
       "        text-align: right;\n",
       "    }\n",
       "</style>\n",
       "<table border=\"1\" class=\"dataframe\">\n",
       "  <thead>\n",
       "    <tr style=\"text-align: right;\">\n",
       "      <th></th>\n",
       "      <th>data</th>\n",
       "      <th>dt</th>\n",
       "      <th>ts</th>\n",
       "    </tr>\n",
       "  </thead>\n",
       "  <tbody>\n",
       "    <tr>\n",
       "      <th>0</th>\n",
       "      <td>{'location': 'US', 'confirmed': 3363056, 'deat...</td>\n",
       "      <td>07-14-2020</td>\n",
       "      <td>1594684800</td>\n",
       "    </tr>\n",
       "    <tr>\n",
       "      <th>1</th>\n",
       "      <td>{'location': 'Brazil', 'confirmed': 1884967, '...</td>\n",
       "      <td>07-14-2020</td>\n",
       "      <td>1594684800</td>\n",
       "    </tr>\n",
       "    <tr>\n",
       "      <th>2</th>\n",
       "      <td>{'location': 'India', 'confirmed': 906752, 'de...</td>\n",
       "      <td>07-14-2020</td>\n",
       "      <td>1594684800</td>\n",
       "    </tr>\n",
       "    <tr>\n",
       "      <th>3</th>\n",
       "      <td>{'location': 'Russia', 'confirmed': 732547, 'd...</td>\n",
       "      <td>07-14-2020</td>\n",
       "      <td>1594684800</td>\n",
       "    </tr>\n",
       "    <tr>\n",
       "      <th>4</th>\n",
       "      <td>{'location': 'Peru', 'confirmed': 330123, 'dea...</td>\n",
       "      <td>07-14-2020</td>\n",
       "      <td>1594684800</td>\n",
       "    </tr>\n",
       "    <tr>\n",
       "      <th>5</th>\n",
       "      <td>{'location': 'Chile', 'confirmed': 317657, 'de...</td>\n",
       "      <td>07-14-2020</td>\n",
       "      <td>1594684800</td>\n",
       "    </tr>\n",
       "    <tr>\n",
       "      <th>6</th>\n",
       "      <td>{'location': 'Mexico', 'confirmed': 304435, 'd...</td>\n",
       "      <td>07-14-2020</td>\n",
       "      <td>1594684800</td>\n",
       "    </tr>\n",
       "    <tr>\n",
       "      <th>7</th>\n",
       "      <td>{'location': 'United Kingdom', 'confirmed': 29...</td>\n",
       "      <td>07-14-2020</td>\n",
       "      <td>1594684800</td>\n",
       "    </tr>\n",
       "    <tr>\n",
       "      <th>8</th>\n",
       "      <td>{'location': 'South Africa', 'confirmed': 2877...</td>\n",
       "      <td>07-14-2020</td>\n",
       "      <td>1594684800</td>\n",
       "    </tr>\n",
       "    <tr>\n",
       "      <th>9</th>\n",
       "      <td>{'location': 'Iran', 'confirmed': 259652, 'dea...</td>\n",
       "      <td>07-14-2020</td>\n",
       "      <td>1594684800</td>\n",
       "    </tr>\n",
       "  </tbody>\n",
       "</table>\n",
       "</div>"
      ],
      "text/plain": [
       "                                                data          dt          ts\n",
       "0  {'location': 'US', 'confirmed': 3363056, 'deat...  07-14-2020  1594684800\n",
       "1  {'location': 'Brazil', 'confirmed': 1884967, '...  07-14-2020  1594684800\n",
       "2  {'location': 'India', 'confirmed': 906752, 'de...  07-14-2020  1594684800\n",
       "3  {'location': 'Russia', 'confirmed': 732547, 'd...  07-14-2020  1594684800\n",
       "4  {'location': 'Peru', 'confirmed': 330123, 'dea...  07-14-2020  1594684800\n",
       "5  {'location': 'Chile', 'confirmed': 317657, 'de...  07-14-2020  1594684800\n",
       "6  {'location': 'Mexico', 'confirmed': 304435, 'd...  07-14-2020  1594684800\n",
       "7  {'location': 'United Kingdom', 'confirmed': 29...  07-14-2020  1594684800\n",
       "8  {'location': 'South Africa', 'confirmed': 2877...  07-14-2020  1594684800\n",
       "9  {'location': 'Iran', 'confirmed': 259652, 'dea...  07-14-2020  1594684800"
      ]
     },
     "execution_count": 43,
     "metadata": {},
     "output_type": "execute_result"
    }
   ],
   "source": [
    "import pandas as pd\n",
    "\n",
    "# File JSON\n",
    "url = \"https://dqlab-dataset.s3-ap-southeast-1.amazonaws.com/covid2019-api-herokuapp-v2.json\"\n",
    "df_json = pd.read_json(url)\n",
    "df_json.head(10) # Menampilkan 10 data teratas"
   ]
  },
  {
   "cell_type": "markdown",
   "metadata": {},
   "source": [
    "<h4>SQL</h4>\n",
    "\n",
    "<p>Fungsi <code>.read_sql()</code> atau <code>.read_sql_query()</code> digunakan untuk membaca query dari database dan translate menjadi pandas dataframe, contoh case ini database sqlite.</p>\n",
    "\n",
    "<p>Contoh koneksi sql</p>\n",
    "<img src=\"Resources/koneksi_sql.png\" width=70% align=\"left\">"
   ]
  },
  {
   "cell_type": "markdown",
   "metadata": {},
   "source": [
    "<p>Contoh dengan <code>.read_sql_query()</code></p>\n",
    "<img src=\"Resources/read_sql_query.png\" width=70% align=\"left\">\n",
    "<img src=\"Resources/output_sql_query.png\" width=50% align=\"left\">"
   ]
  },
  {
   "cell_type": "markdown",
   "metadata": {},
   "source": [
    "<p>Contoh dengan <code>.read_sql()</code></p>\n",
    "<img src=\"Resources/read_sql.png\" width=70% align=\"left\">\n",
    "<img src=\"Resources/output_sql.png\" width=50% align=\"left\">"
   ]
  },
  {
   "cell_type": "markdown",
   "metadata": {},
   "source": [
    "<h4>Google BigQuery</h4>\n",
    "\n",
    "<p>Untuk data yang besar (big data), umumnya digunakan Google BigQuery. Layanan ini dapat digunakan jika telah memiliki Google BigQuery account.</p>\n",
    "\n",
    "<p>Fungsi <code>.read_gbq()</code> digunakan untuk membaca Google BigQuery table menjadi dataframe pandas.</p>\n",
    "\n",
    "<p>Contoh koneksi gbq</p>\n",
    "<img src=\"Resources/koneksi_gbq.png\" width=50% align=\"left\">"
   ]
  },
  {
   "cell_type": "markdown",
   "metadata": {},
   "source": [
    "<p><code>project_id=\"XXXXXXXX\"</code> adalah ID dari Google BigQuery account.</p>\n",
    "<img src=\"Resources/output_gbq.png\" width=50% align=\"left\">"
   ]
  },
  {
   "cell_type": "markdown",
   "metadata": {},
   "source": [
    "<h3><a name=\"write-dataset\"></a>Write Dataset</h3>"
   ]
  },
  {
   "cell_type": "markdown",
   "metadata": {},
   "source": [
    "<p>Dalam bekerja sebagai data scientist/analis setelah dilakukan data cleaning dataset yang sudah rapi tentunya disimpan terlebih dahulu ke dalam media penyimpanan.</p> \n",
    "\n",
    "<p>Pandas menyediakan fitur demikian secara ringkas melalui penerapan method pada dataframe/series yang ditabelkan berikut ini.</p>"
   ]
  },
  {
   "cell_type": "markdown",
   "metadata": {},
   "source": [
    "<table>\n",
    "    <thead>\n",
    "        <th><p style=\"text-align:center\">Method</p></th>\n",
    "        <th><p style=\"text-align:center\">Code</p></th>\n",
    "    </thead>\n",
    "    <tbody>\n",
    "        <tr>\n",
    "            <td><p><b><code>.to_csv()</code></b></p>\n",
    "                <p>-> digunakan untuk export dataframe kembali ke csv atau tsv</p></td>\n",
    "            <td><p><b>CSV:</b><code>df.to_csv(\"csv1.csv\", index=False)</code></p>\n",
    "                <p><b>TSV:</b><code>df.to_csv(\"tsv1.tsv\", index=False, sep='\\t')</code></p></td>\n",
    "        </tr>\n",
    "        <tr>\n",
    "            <td><p><b><code>.to_clipboard()</code></b></p>\n",
    "                <p>-> export dataframe menjadi file excel</p></td>\n",
    "            <td><p><code>df.to_clipboard()</code></p></td>\n",
    "        <tr>\n",
    "            <td><p><b><code>.to_excel()</code></b></p>\n",
    "                <p>-> digunakan untuk export dataframe kembali ke csv atau tsv</p></td>\n",
    "            <td><p><code>df_excel.to_excel(\"xlsx1.xlsx\", index=False)</code></p></td>\n",
    "        </tr>\n",
    "        <tr>\n",
    "            <td><p><b><code>.to_gbq()</code></b></p>\n",
    "                <p>-> export dataframe menjadi table di Google BigQuery</p></td>\n",
    "            <td><p><code>df.to_gbq(\"temp.test\", project_id=\"XXXXXX\", if_exists=\"fail\")</code></p>\n",
    "                <p><b>temp:</b> nama dataset</p>\n",
    "                <p><b>test:</b> nama table</p>\n",
    "                <p><b>if_exists:</b> ketika tabel dengan dataset.table_name yang sama sudah ada, apa action yang ingin dilakukan :</p>\n",
    "                <ul>\n",
    "                    <li><p><b>\"fail\":</b> tidak melakukan apa-apa,</p></li>\n",
    "                    <li><p><b>\"replace':</b> membuang tabel yang sudah ada dan mengganti yang baru,</p></li>\n",
    "                    <li><p><b>\"append\":</b> menambah baris di tabel tersebut dengan data yang baru</p></li>\n",
    "                </ul></td>\n",
    "        </tr>\n",
    "    </tbody>\n",
    "</table>"
   ]
  },
  {
   "cell_type": "markdown",
   "metadata": {},
   "source": [
    "<h3><a name=\"head-and-tail\"></a>Head & Tail</h3>"
   ]
  },
  {
   "cell_type": "markdown",
   "metadata": {},
   "source": [
    "<p>Method <code>.head</code> ditujukan untuk membatasi tampilan jumlah baris teratas dari dataset. Sementara itu, method <code>.tail</code> ditujukan untuk membatasi jumlah baris terbawah dari dataset.</p>"
   ]
  },
  {
   "cell_type": "code",
   "execution_count": 45,
   "metadata": {},
   "outputs": [
    {
     "name": "stdout",
     "output_type": "stream",
     "text": [
      "Tiga data teratas:\n",
      "\n"
     ]
    },
    {
     "data": {
      "text/html": [
       "<div>\n",
       "<style scoped>\n",
       "    .dataframe tbody tr th:only-of-type {\n",
       "        vertical-align: middle;\n",
       "    }\n",
       "\n",
       "    .dataframe tbody tr th {\n",
       "        vertical-align: top;\n",
       "    }\n",
       "\n",
       "    .dataframe thead th {\n",
       "        text-align: right;\n",
       "    }\n",
       "</style>\n",
       "<table border=\"1\" class=\"dataframe\">\n",
       "  <thead>\n",
       "    <tr style=\"text-align: right;\">\n",
       "      <th></th>\n",
       "      <th>order_id</th>\n",
       "      <th>order_date</th>\n",
       "      <th>customer_id</th>\n",
       "      <th>city</th>\n",
       "      <th>province</th>\n",
       "      <th>product_id</th>\n",
       "      <th>brand</th>\n",
       "      <th>quantity</th>\n",
       "      <th>item_price</th>\n",
       "    </tr>\n",
       "  </thead>\n",
       "  <tbody>\n",
       "    <tr>\n",
       "      <th>0</th>\n",
       "      <td>1612339</td>\n",
       "      <td>2019-01-01</td>\n",
       "      <td>18055</td>\n",
       "      <td>Jakarta Selatan</td>\n",
       "      <td>DKI Jakarta</td>\n",
       "      <td>P0648</td>\n",
       "      <td>BRAND_C</td>\n",
       "      <td>4</td>\n",
       "      <td>1934000</td>\n",
       "    </tr>\n",
       "    <tr>\n",
       "      <th>1</th>\n",
       "      <td>1612339</td>\n",
       "      <td>2019-01-01</td>\n",
       "      <td>18055</td>\n",
       "      <td>Jakarta Selatan</td>\n",
       "      <td>DKI Jakarta</td>\n",
       "      <td>P3826</td>\n",
       "      <td>BRAND_V</td>\n",
       "      <td>8</td>\n",
       "      <td>604000</td>\n",
       "    </tr>\n",
       "    <tr>\n",
       "      <th>2</th>\n",
       "      <td>1612339</td>\n",
       "      <td>2019-01-01</td>\n",
       "      <td>18055</td>\n",
       "      <td>Jakarta Selatan</td>\n",
       "      <td>DKI Jakarta</td>\n",
       "      <td>P1508</td>\n",
       "      <td>BRAND_G</td>\n",
       "      <td>12</td>\n",
       "      <td>747000</td>\n",
       "    </tr>\n",
       "  </tbody>\n",
       "</table>\n",
       "</div>"
      ],
      "text/plain": [
       "   order_id  order_date  customer_id             city     province product_id  \\\n",
       "0   1612339  2019-01-01        18055  Jakarta Selatan  DKI Jakarta      P0648   \n",
       "1   1612339  2019-01-01        18055  Jakarta Selatan  DKI Jakarta      P3826   \n",
       "2   1612339  2019-01-01        18055  Jakarta Selatan  DKI Jakarta      P1508   \n",
       "\n",
       "     brand  quantity  item_price  \n",
       "0  BRAND_C         4     1934000  \n",
       "1  BRAND_V         8      604000  \n",
       "2  BRAND_G        12      747000  "
      ]
     },
     "execution_count": 45,
     "metadata": {},
     "output_type": "execute_result"
    }
   ],
   "source": [
    "import pandas as pd\n",
    "\n",
    "# Baca file sample_csv.csv\n",
    "df = pd.read_csv(\"https://dqlab-dataset.s3-ap-southeast-1.amazonaws.com/sample_csv.csv\")\n",
    "# Tampilkan 3 data teratas\n",
    "print(\"Tiga data teratas:\\n\")\n",
    "df.head(3)"
   ]
  },
  {
   "cell_type": "code",
   "execution_count": 46,
   "metadata": {},
   "outputs": [
    {
     "name": "stdout",
     "output_type": "stream",
     "text": [
      "Tiga data terbawah:\n",
      "\n"
     ]
    },
    {
     "data": {
      "text/html": [
       "<div>\n",
       "<style scoped>\n",
       "    .dataframe tbody tr th:only-of-type {\n",
       "        vertical-align: middle;\n",
       "    }\n",
       "\n",
       "    .dataframe tbody tr th {\n",
       "        vertical-align: top;\n",
       "    }\n",
       "\n",
       "    .dataframe thead th {\n",
       "        text-align: right;\n",
       "    }\n",
       "</style>\n",
       "<table border=\"1\" class=\"dataframe\">\n",
       "  <thead>\n",
       "    <tr style=\"text-align: right;\">\n",
       "      <th></th>\n",
       "      <th>order_id</th>\n",
       "      <th>order_date</th>\n",
       "      <th>customer_id</th>\n",
       "      <th>city</th>\n",
       "      <th>province</th>\n",
       "      <th>product_id</th>\n",
       "      <th>brand</th>\n",
       "      <th>quantity</th>\n",
       "      <th>item_price</th>\n",
       "    </tr>\n",
       "  </thead>\n",
       "  <tbody>\n",
       "    <tr>\n",
       "      <th>98</th>\n",
       "      <td>1612390</td>\n",
       "      <td>2019-01-01</td>\n",
       "      <td>12681</td>\n",
       "      <td>Makassar</td>\n",
       "      <td>Sulawesi Selatan</td>\n",
       "      <td>P3354</td>\n",
       "      <td>BRAND_S</td>\n",
       "      <td>24</td>\n",
       "      <td>450000</td>\n",
       "    </tr>\n",
       "    <tr>\n",
       "      <th>99</th>\n",
       "      <td>1612390</td>\n",
       "      <td>2019-01-01</td>\n",
       "      <td>12681</td>\n",
       "      <td>Makassar</td>\n",
       "      <td>Sulawesi Selatan</td>\n",
       "      <td>P3357</td>\n",
       "      <td>BRAND_S</td>\n",
       "      <td>24</td>\n",
       "      <td>450000</td>\n",
       "    </tr>\n",
       "    <tr>\n",
       "      <th>100</th>\n",
       "      <td>1612390</td>\n",
       "      <td>2019-01-01</td>\n",
       "      <td>12681</td>\n",
       "      <td>Makassar</td>\n",
       "      <td>Sulawesi Selatan</td>\n",
       "      <td>P0422</td>\n",
       "      <td>BRAND_B</td>\n",
       "      <td>4</td>\n",
       "      <td>1325000</td>\n",
       "    </tr>\n",
       "  </tbody>\n",
       "</table>\n",
       "</div>"
      ],
      "text/plain": [
       "     order_id  order_date  customer_id      city          province product_id  \\\n",
       "98    1612390  2019-01-01        12681  Makassar  Sulawesi Selatan      P3354   \n",
       "99    1612390  2019-01-01        12681  Makassar  Sulawesi Selatan      P3357   \n",
       "100   1612390  2019-01-01        12681  Makassar  Sulawesi Selatan      P0422   \n",
       "\n",
       "       brand  quantity  item_price  \n",
       "98   BRAND_S        24      450000  \n",
       "99   BRAND_S        24      450000  \n",
       "100  BRAND_B         4     1325000  "
      ]
     },
     "execution_count": 46,
     "metadata": {},
     "output_type": "execute_result"
    }
   ],
   "source": [
    "# Tampilkan 3 data terbawah\n",
    "print(\"Tiga data terbawah:\\n\")\n",
    "df.tail(3)"
   ]
  },
  {
   "cell_type": "markdown",
   "metadata": {},
   "source": [
    "<h2><a name=\"indexing-slicing-transforming\"></a>Chapter 3: Indexing, Slicing, dan Transforming</h2>"
   ]
  },
  {
   "cell_type": "markdown",
   "metadata": {},
   "source": [
    "<h3><a name=\"indexing\"></a>Indexing</h3>"
   ]
  },
  {
   "cell_type": "markdown",
   "metadata": {},
   "source": [
    "<p>Index merupakan key identifier dari tiap row/column untuk Series atau Dataframe (sifatnya tidak mutable untuk masing-masing value tapi bisa diganti untuk semua value sekaligus).</p>\n",
    "\n",
    "<p>Jika tidak disediakan, pandas akan membuat kolom index default secara otomatis sebagai bilangan bulat (integer) dari 0 sampai range jumlah baris data tersebut.</p>\n",
    "\n",
    "<p>Kolom index dapat terdiri dari</p>\n",
    "<ul>\n",
    "    <li>satu kolom (<i>single index</i>), atau</li>\n",
    "    <li>multiple kolom (<i>hierarchical indexing</i>).</li>\n",
    "</ul>\n",
    "\n",
    "<p>Index dengan multiple kolom ini terjadi karena unique identifier tidak dapat dicapai hanya dengan set index di 1 kolom saja sehingga membutuhkan beberapa kolom yang menjadikan tiap row menjadi unique.</p>"
   ]
  },
  {
   "cell_type": "markdown",
   "metadata": {},
   "source": [
    "<h4>Single Index</h4>\n",
    "\n",
    "<p>Secara default setelah suatu data frame dibaca dari file dengan format tertentu, index-nya merupakan single index.</p>\n",
    "\n",
    "<p>Untuk menentukan index dan kolom yang dimiliki oleh dataset yang telah dinyatakan sebagai sebuah dataframe pandas dapat dilakukan dengan menggunakan attribut <code>.index</code> dan <code>.columns</code>.</p>"
   ]
  },
  {
   "cell_type": "code",
   "execution_count": 49,
   "metadata": {},
   "outputs": [
    {
     "name": "stdout",
     "output_type": "stream",
     "text": [
      "Index: RangeIndex(start=0, stop=101, step=1)\n",
      "Columns: Index(['order_id', 'order_date', 'customer_id', 'city', 'province',\n",
      "       'product_id', 'brand', 'quantity', 'item_price'],\n",
      "      dtype='object')\n"
     ]
    }
   ],
   "source": [
    "import pandas as pd\n",
    "\n",
    "# Baca file TSV sample_tsv.tsv\n",
    "df = pd.read_csv(\"https://dqlab-dataset.s3-ap-southeast-1.amazonaws.com/sample_tsv.tsv\", sep=\"\\t\")\n",
    "# Index dari df\n",
    "print(\"Index:\", df.index)\n",
    "# Column dari df\n",
    "print(\"Columns:\", df.columns)"
   ]
  },
  {
   "cell_type": "markdown",
   "metadata": {},
   "source": [
    "<h4>Multi Index</h4>\n",
    "\n",
    "<p>Untuk membuat multi index (<i>hierarchical indexing</i>) dengan pandas diperlukan kolom-kolom mana saja yang perlu disusun agar index dari data frame menjadi sebuah hirarki yang kemudian dapat dikenali.</p>\n",
    "\n",
    "<p>Selanjutnya akan membuat multi index dengan menggunakan kolom 'order_id', 'customer_id', 'product_id', dan 'order_date' dengan menggunakan method <code>.set_index()</code>.</p>"
   ]
  },
  {
   "cell_type": "code",
   "execution_count": 50,
   "metadata": {},
   "outputs": [
    {
     "name": "stdout",
     "output_type": "stream",
     "text": [
      "Index: MultiIndex([('2019-01-01', 'Jakarta Selatan', 18055),\n",
      "            ('2019-01-01', 'Jakarta Selatan', 18055),\n",
      "            ('2019-01-01', 'Jakarta Selatan', 18055),\n",
      "            ('2019-01-01', 'Jakarta Selatan', 18055),\n",
      "            ('2019-01-01', 'Jakarta Selatan', 18055),\n",
      "            ('2019-01-01', 'Jakarta Selatan', 18055),\n",
      "            ('2019-01-01', 'Jakarta Selatan', 18055),\n",
      "            ('2019-01-01', 'Jakarta Selatan', 18055),\n",
      "            ('2019-01-01', 'Jakarta Selatan', 18055),\n",
      "            ('2019-01-01', 'Jakarta Selatan', 18055),\n",
      "            ...\n",
      "            ('2019-01-01',           'Bogor', 17228),\n",
      "            ('2019-01-01',           'Bogor', 17228),\n",
      "            ('2019-01-01',           'Bogor', 17228),\n",
      "            ('2019-01-01',           'Bogor', 17228),\n",
      "            ('2019-01-01',        'Makassar', 12681),\n",
      "            ('2019-01-01',        'Makassar', 12681),\n",
      "            ('2019-01-01',        'Makassar', 12681),\n",
      "            ('2019-01-01',        'Makassar', 12681),\n",
      "            ('2019-01-01',        'Makassar', 12681),\n",
      "            ('2019-01-01',        'Makassar', 12681)],\n",
      "           names=['order_date', 'city', 'customer_id'], length=101)\n"
     ]
    }
   ],
   "source": [
    "# Set multi index df\n",
    "df_x = df.set_index(['order_date', 'city', 'customer_id'])\n",
    "\n",
    "# Index dari df_x\n",
    "print(\"Index:\", df_x.index)"
   ]
  },
  {
   "cell_type": "markdown",
   "metadata": {},
   "source": [
    "<p>Perlu diketahui bahwa kumpulan index dari multi index adalah <b>list dari banyak tuples</b>, tuples nya merupakan kombinasi yang ada dari gabungan index-index tersebut. Dari multi index tersebut juga terdapat atribut levels yang menunjukkan urutan index, dalam case ini 'order_id' > 'customer_id' > 'product_id' > 'order_date'.</p>"
   ]
  },
  {
   "cell_type": "code",
   "execution_count": 51,
   "metadata": {},
   "outputs": [
    {
     "name": "stdout",
     "output_type": "stream",
     "text": [
      "order_date : Index(['2019-01-01'], dtype='object', name='order_date')\n",
      "city : Index(['Bogor', 'Jakarta Pusat', 'Jakarta Selatan', 'Jakarta Utara',\n",
      "       'Makassar', 'Malang', 'Surabaya', 'Tangerang'],\n",
      "      dtype='object', name='city')\n",
      "customer_id : Int64Index([12681, 13963, 15649, 17091, 17228, 17450, 17470, 17511, 17616,\n",
      "            18055],\n",
      "           dtype='int64', name='customer_id')\n"
     ]
    }
   ],
   "source": [
    "# Print nama dan level dari multi index\n",
    "for name, level in zip(df_x.index.names, df_x.index.levels):\n",
    "    print(name,':',level)"
   ]
  },
  {
   "cell_type": "markdown",
   "metadata": {},
   "source": [
    "<h4>Membuat Index</h4>\n",
    "\n",
    "<p>Terdapat beberapa cara untuk membuat index, salah satunya adalah seperti yang telah dilakukan pada sub bab sebelumnya dengan menggunakan method <code>.set_index()</code>.</p>"
   ]
  },
  {
   "cell_type": "code",
   "execution_count": 52,
   "metadata": {},
   "outputs": [
    {
     "name": "stdout",
     "output_type": "stream",
     "text": [
      "Dataframe awal:\n",
      "\n"
     ]
    },
    {
     "data": {
      "text/html": [
       "<div>\n",
       "<style scoped>\n",
       "    .dataframe tbody tr th:only-of-type {\n",
       "        vertical-align: middle;\n",
       "    }\n",
       "\n",
       "    .dataframe tbody tr th {\n",
       "        vertical-align: top;\n",
       "    }\n",
       "\n",
       "    .dataframe thead th {\n",
       "        text-align: right;\n",
       "    }\n",
       "</style>\n",
       "<table border=\"1\" class=\"dataframe\">\n",
       "  <thead>\n",
       "    <tr style=\"text-align: right;\">\n",
       "      <th></th>\n",
       "      <th>order_id</th>\n",
       "      <th>order_date</th>\n",
       "      <th>customer_id</th>\n",
       "      <th>city</th>\n",
       "      <th>province</th>\n",
       "      <th>product_id</th>\n",
       "      <th>brand</th>\n",
       "      <th>quantity</th>\n",
       "      <th>item_price</th>\n",
       "    </tr>\n",
       "  </thead>\n",
       "  <tbody>\n",
       "    <tr>\n",
       "      <th>0</th>\n",
       "      <td>1612339</td>\n",
       "      <td>2019-01-01</td>\n",
       "      <td>18055</td>\n",
       "      <td>Jakarta Selatan</td>\n",
       "      <td>DKI Jakarta</td>\n",
       "      <td>P0648</td>\n",
       "      <td>BRAND_C</td>\n",
       "      <td>4</td>\n",
       "      <td>1934000</td>\n",
       "    </tr>\n",
       "    <tr>\n",
       "      <th>1</th>\n",
       "      <td>1612339</td>\n",
       "      <td>2019-01-01</td>\n",
       "      <td>18055</td>\n",
       "      <td>Jakarta Selatan</td>\n",
       "      <td>DKI Jakarta</td>\n",
       "      <td>P3826</td>\n",
       "      <td>BRAND_V</td>\n",
       "      <td>8</td>\n",
       "      <td>604000</td>\n",
       "    </tr>\n",
       "    <tr>\n",
       "      <th>2</th>\n",
       "      <td>1612339</td>\n",
       "      <td>2019-01-01</td>\n",
       "      <td>18055</td>\n",
       "      <td>Jakarta Selatan</td>\n",
       "      <td>DKI Jakarta</td>\n",
       "      <td>P1508</td>\n",
       "      <td>BRAND_G</td>\n",
       "      <td>12</td>\n",
       "      <td>747000</td>\n",
       "    </tr>\n",
       "    <tr>\n",
       "      <th>3</th>\n",
       "      <td>1612339</td>\n",
       "      <td>2019-01-01</td>\n",
       "      <td>18055</td>\n",
       "      <td>Jakarta Selatan</td>\n",
       "      <td>DKI Jakarta</td>\n",
       "      <td>P0520</td>\n",
       "      <td>BRAND_B</td>\n",
       "      <td>12</td>\n",
       "      <td>450000</td>\n",
       "    </tr>\n",
       "    <tr>\n",
       "      <th>4</th>\n",
       "      <td>1612339</td>\n",
       "      <td>2019-01-01</td>\n",
       "      <td>18055</td>\n",
       "      <td>Jakarta Selatan</td>\n",
       "      <td>DKI Jakarta</td>\n",
       "      <td>P1513</td>\n",
       "      <td>BRAND_G</td>\n",
       "      <td>3</td>\n",
       "      <td>1500000</td>\n",
       "    </tr>\n",
       "    <tr>\n",
       "      <th>5</th>\n",
       "      <td>1612339</td>\n",
       "      <td>2019-01-01</td>\n",
       "      <td>18055</td>\n",
       "      <td>Jakarta Selatan</td>\n",
       "      <td>DKI Jakarta</td>\n",
       "      <td>P3911</td>\n",
       "      <td>BRAND_V</td>\n",
       "      <td>3</td>\n",
       "      <td>2095000</td>\n",
       "    </tr>\n",
       "    <tr>\n",
       "      <th>6</th>\n",
       "      <td>1612339</td>\n",
       "      <td>2019-01-01</td>\n",
       "      <td>18055</td>\n",
       "      <td>Jakarta Selatan</td>\n",
       "      <td>DKI Jakarta</td>\n",
       "      <td>P1780</td>\n",
       "      <td>BRAND_H</td>\n",
       "      <td>3</td>\n",
       "      <td>2095000</td>\n",
       "    </tr>\n",
       "    <tr>\n",
       "      <th>7</th>\n",
       "      <td>1612339</td>\n",
       "      <td>2019-01-01</td>\n",
       "      <td>18055</td>\n",
       "      <td>Jakarta Selatan</td>\n",
       "      <td>DKI Jakarta</td>\n",
       "      <td>P3132</td>\n",
       "      <td>BRAND_S</td>\n",
       "      <td>3</td>\n",
       "      <td>1745000</td>\n",
       "    </tr>\n",
       "    <tr>\n",
       "      <th>8</th>\n",
       "      <td>1612339</td>\n",
       "      <td>2019-01-01</td>\n",
       "      <td>18055</td>\n",
       "      <td>Jakarta Selatan</td>\n",
       "      <td>DKI Jakarta</td>\n",
       "      <td>P1342</td>\n",
       "      <td>BRAND_F</td>\n",
       "      <td>6</td>\n",
       "      <td>1045000</td>\n",
       "    </tr>\n",
       "    <tr>\n",
       "      <th>9</th>\n",
       "      <td>1612339</td>\n",
       "      <td>2019-01-01</td>\n",
       "      <td>18055</td>\n",
       "      <td>Jakarta Selatan</td>\n",
       "      <td>DKI Jakarta</td>\n",
       "      <td>P2556</td>\n",
       "      <td>BRAND_P</td>\n",
       "      <td>6</td>\n",
       "      <td>1045000</td>\n",
       "    </tr>\n",
       "  </tbody>\n",
       "</table>\n",
       "</div>"
      ],
      "text/plain": [
       "   order_id  order_date  customer_id             city     province product_id  \\\n",
       "0   1612339  2019-01-01        18055  Jakarta Selatan  DKI Jakarta      P0648   \n",
       "1   1612339  2019-01-01        18055  Jakarta Selatan  DKI Jakarta      P3826   \n",
       "2   1612339  2019-01-01        18055  Jakarta Selatan  DKI Jakarta      P1508   \n",
       "3   1612339  2019-01-01        18055  Jakarta Selatan  DKI Jakarta      P0520   \n",
       "4   1612339  2019-01-01        18055  Jakarta Selatan  DKI Jakarta      P1513   \n",
       "5   1612339  2019-01-01        18055  Jakarta Selatan  DKI Jakarta      P3911   \n",
       "6   1612339  2019-01-01        18055  Jakarta Selatan  DKI Jakarta      P1780   \n",
       "7   1612339  2019-01-01        18055  Jakarta Selatan  DKI Jakarta      P3132   \n",
       "8   1612339  2019-01-01        18055  Jakarta Selatan  DKI Jakarta      P1342   \n",
       "9   1612339  2019-01-01        18055  Jakarta Selatan  DKI Jakarta      P2556   \n",
       "\n",
       "     brand  quantity  item_price  \n",
       "0  BRAND_C         4     1934000  \n",
       "1  BRAND_V         8      604000  \n",
       "2  BRAND_G        12      747000  \n",
       "3  BRAND_B        12      450000  \n",
       "4  BRAND_G         3     1500000  \n",
       "5  BRAND_V         3     2095000  \n",
       "6  BRAND_H         3     2095000  \n",
       "7  BRAND_S         3     1745000  \n",
       "8  BRAND_F         6     1045000  \n",
       "9  BRAND_P         6     1045000  "
      ]
     },
     "execution_count": 52,
     "metadata": {},
     "output_type": "execute_result"
    }
   ],
   "source": [
    "import pandas as pd\n",
    "\n",
    "# Baca file sample_tsv.tsv untuk 10 baris pertama saja\n",
    "df = pd.read_csv(\"https://dqlab-dataset.s3-ap-southeast-1.amazonaws.com/sample_tsv.tsv\", sep=\"\\t\", nrows=10)\n",
    "# Cetak data frame awal\n",
    "print(\"Dataframe awal:\\n\")\n",
    "df"
   ]
  },
  {
   "cell_type": "code",
   "execution_count": 53,
   "metadata": {},
   "outputs": [
    {
     "name": "stdout",
     "output_type": "stream",
     "text": [
      "Dataframe dengan index baru:\n",
      "\n"
     ]
    },
    {
     "data": {
      "text/html": [
       "<div>\n",
       "<style scoped>\n",
       "    .dataframe tbody tr th:only-of-type {\n",
       "        vertical-align: middle;\n",
       "    }\n",
       "\n",
       "    .dataframe tbody tr th {\n",
       "        vertical-align: top;\n",
       "    }\n",
       "\n",
       "    .dataframe thead th {\n",
       "        text-align: right;\n",
       "    }\n",
       "</style>\n",
       "<table border=\"1\" class=\"dataframe\">\n",
       "  <thead>\n",
       "    <tr style=\"text-align: right;\">\n",
       "      <th></th>\n",
       "      <th>order_id</th>\n",
       "      <th>order_date</th>\n",
       "      <th>customer_id</th>\n",
       "      <th>city</th>\n",
       "      <th>province</th>\n",
       "      <th>product_id</th>\n",
       "      <th>brand</th>\n",
       "      <th>quantity</th>\n",
       "      <th>item_price</th>\n",
       "    </tr>\n",
       "  </thead>\n",
       "  <tbody>\n",
       "    <tr>\n",
       "      <th>pesanan ke-1</th>\n",
       "      <td>1612339</td>\n",
       "      <td>2019-01-01</td>\n",
       "      <td>18055</td>\n",
       "      <td>Jakarta Selatan</td>\n",
       "      <td>DKI Jakarta</td>\n",
       "      <td>P0648</td>\n",
       "      <td>BRAND_C</td>\n",
       "      <td>4</td>\n",
       "      <td>1934000</td>\n",
       "    </tr>\n",
       "    <tr>\n",
       "      <th>pesanan ke-2</th>\n",
       "      <td>1612339</td>\n",
       "      <td>2019-01-01</td>\n",
       "      <td>18055</td>\n",
       "      <td>Jakarta Selatan</td>\n",
       "      <td>DKI Jakarta</td>\n",
       "      <td>P3826</td>\n",
       "      <td>BRAND_V</td>\n",
       "      <td>8</td>\n",
       "      <td>604000</td>\n",
       "    </tr>\n",
       "    <tr>\n",
       "      <th>pesanan ke-3</th>\n",
       "      <td>1612339</td>\n",
       "      <td>2019-01-01</td>\n",
       "      <td>18055</td>\n",
       "      <td>Jakarta Selatan</td>\n",
       "      <td>DKI Jakarta</td>\n",
       "      <td>P1508</td>\n",
       "      <td>BRAND_G</td>\n",
       "      <td>12</td>\n",
       "      <td>747000</td>\n",
       "    </tr>\n",
       "    <tr>\n",
       "      <th>pesanan ke-4</th>\n",
       "      <td>1612339</td>\n",
       "      <td>2019-01-01</td>\n",
       "      <td>18055</td>\n",
       "      <td>Jakarta Selatan</td>\n",
       "      <td>DKI Jakarta</td>\n",
       "      <td>P0520</td>\n",
       "      <td>BRAND_B</td>\n",
       "      <td>12</td>\n",
       "      <td>450000</td>\n",
       "    </tr>\n",
       "    <tr>\n",
       "      <th>pesanan ke-5</th>\n",
       "      <td>1612339</td>\n",
       "      <td>2019-01-01</td>\n",
       "      <td>18055</td>\n",
       "      <td>Jakarta Selatan</td>\n",
       "      <td>DKI Jakarta</td>\n",
       "      <td>P1513</td>\n",
       "      <td>BRAND_G</td>\n",
       "      <td>3</td>\n",
       "      <td>1500000</td>\n",
       "    </tr>\n",
       "    <tr>\n",
       "      <th>pesanan ke-6</th>\n",
       "      <td>1612339</td>\n",
       "      <td>2019-01-01</td>\n",
       "      <td>18055</td>\n",
       "      <td>Jakarta Selatan</td>\n",
       "      <td>DKI Jakarta</td>\n",
       "      <td>P3911</td>\n",
       "      <td>BRAND_V</td>\n",
       "      <td>3</td>\n",
       "      <td>2095000</td>\n",
       "    </tr>\n",
       "    <tr>\n",
       "      <th>pesanan ke-7</th>\n",
       "      <td>1612339</td>\n",
       "      <td>2019-01-01</td>\n",
       "      <td>18055</td>\n",
       "      <td>Jakarta Selatan</td>\n",
       "      <td>DKI Jakarta</td>\n",
       "      <td>P1780</td>\n",
       "      <td>BRAND_H</td>\n",
       "      <td>3</td>\n",
       "      <td>2095000</td>\n",
       "    </tr>\n",
       "    <tr>\n",
       "      <th>pesanan ke-8</th>\n",
       "      <td>1612339</td>\n",
       "      <td>2019-01-01</td>\n",
       "      <td>18055</td>\n",
       "      <td>Jakarta Selatan</td>\n",
       "      <td>DKI Jakarta</td>\n",
       "      <td>P3132</td>\n",
       "      <td>BRAND_S</td>\n",
       "      <td>3</td>\n",
       "      <td>1745000</td>\n",
       "    </tr>\n",
       "    <tr>\n",
       "      <th>pesanan ke-9</th>\n",
       "      <td>1612339</td>\n",
       "      <td>2019-01-01</td>\n",
       "      <td>18055</td>\n",
       "      <td>Jakarta Selatan</td>\n",
       "      <td>DKI Jakarta</td>\n",
       "      <td>P1342</td>\n",
       "      <td>BRAND_F</td>\n",
       "      <td>6</td>\n",
       "      <td>1045000</td>\n",
       "    </tr>\n",
       "    <tr>\n",
       "      <th>pesanan ke-10</th>\n",
       "      <td>1612339</td>\n",
       "      <td>2019-01-01</td>\n",
       "      <td>18055</td>\n",
       "      <td>Jakarta Selatan</td>\n",
       "      <td>DKI Jakarta</td>\n",
       "      <td>P2556</td>\n",
       "      <td>BRAND_P</td>\n",
       "      <td>6</td>\n",
       "      <td>1045000</td>\n",
       "    </tr>\n",
       "  </tbody>\n",
       "</table>\n",
       "</div>"
      ],
      "text/plain": [
       "               order_id  order_date  customer_id             city  \\\n",
       "pesanan ke-1    1612339  2019-01-01        18055  Jakarta Selatan   \n",
       "pesanan ke-2    1612339  2019-01-01        18055  Jakarta Selatan   \n",
       "pesanan ke-3    1612339  2019-01-01        18055  Jakarta Selatan   \n",
       "pesanan ke-4    1612339  2019-01-01        18055  Jakarta Selatan   \n",
       "pesanan ke-5    1612339  2019-01-01        18055  Jakarta Selatan   \n",
       "pesanan ke-6    1612339  2019-01-01        18055  Jakarta Selatan   \n",
       "pesanan ke-7    1612339  2019-01-01        18055  Jakarta Selatan   \n",
       "pesanan ke-8    1612339  2019-01-01        18055  Jakarta Selatan   \n",
       "pesanan ke-9    1612339  2019-01-01        18055  Jakarta Selatan   \n",
       "pesanan ke-10   1612339  2019-01-01        18055  Jakarta Selatan   \n",
       "\n",
       "                  province product_id    brand  quantity  item_price  \n",
       "pesanan ke-1   DKI Jakarta      P0648  BRAND_C         4     1934000  \n",
       "pesanan ke-2   DKI Jakarta      P3826  BRAND_V         8      604000  \n",
       "pesanan ke-3   DKI Jakarta      P1508  BRAND_G        12      747000  \n",
       "pesanan ke-4   DKI Jakarta      P0520  BRAND_B        12      450000  \n",
       "pesanan ke-5   DKI Jakarta      P1513  BRAND_G         3     1500000  \n",
       "pesanan ke-6   DKI Jakarta      P3911  BRAND_V         3     2095000  \n",
       "pesanan ke-7   DKI Jakarta      P1780  BRAND_H         3     2095000  \n",
       "pesanan ke-8   DKI Jakarta      P3132  BRAND_S         3     1745000  \n",
       "pesanan ke-9   DKI Jakarta      P1342  BRAND_F         6     1045000  \n",
       "pesanan ke-10  DKI Jakarta      P2556  BRAND_P         6     1045000  "
      ]
     },
     "execution_count": 53,
     "metadata": {},
     "output_type": "execute_result"
    }
   ],
   "source": [
    "# Set index baru\n",
    "df.index = [\"pesanan ke-\" + str(i) for i in range(1, 11)]\n",
    "# Cetak data frame dengan index baru\n",
    "print(\"Dataframe dengan index baru:\\n\")\n",
    "df"
   ]
  },
  {
   "cell_type": "markdown",
   "metadata": {},
   "source": [
    "<p style=\"color:blue\"><b>Note:</b> Jika ingin kembalikan dataframe ke index defaultnya yaitu dari 0 s/d jumlah baris data - 1, maka dapat menggunakan method <code>.reset_index(drop=True)</code>, argument <code>drop=True</code> bertujuan untuk menghapus index lama.</p>"
   ]
  },
  {
   "cell_type": "markdown",
   "metadata": {},
   "source": [
    "<h4>Menentukan Index Column Ketika Membaca Dataset</h4>\n",
    "\n",
    "<p>Jika file yang akan dibaca melalu penggunaan library pandas dapat dipreview terlebih dahulu struktur datanya maka melalui fungsi yang ditujukan untuk membaca file dapat diset mana kolom yang akan dijadikan index.</p>\n",
    "\n",
    "<p>Fitur ini telah dimiliki oleh setiap fungsi yang digunakan dalam membaca data dengan pandas, yaitu penggunaan argumen <code>index_col</code> pada fungsi yang dimaksud.</p>"
   ]
  },
  {
   "cell_type": "code",
   "execution_count": 54,
   "metadata": {},
   "outputs": [
    {
     "name": "stdout",
     "output_type": "stream",
     "text": [
      "Dataframe:\n",
      "\n"
     ]
    },
    {
     "data": {
      "text/html": [
       "<div>\n",
       "<style scoped>\n",
       "    .dataframe tbody tr th:only-of-type {\n",
       "        vertical-align: middle;\n",
       "    }\n",
       "\n",
       "    .dataframe tbody tr th {\n",
       "        vertical-align: top;\n",
       "    }\n",
       "\n",
       "    .dataframe thead th {\n",
       "        text-align: right;\n",
       "    }\n",
       "</style>\n",
       "<table border=\"1\" class=\"dataframe\">\n",
       "  <thead>\n",
       "    <tr style=\"text-align: right;\">\n",
       "      <th></th>\n",
       "      <th></th>\n",
       "      <th>customer_id</th>\n",
       "      <th>city</th>\n",
       "      <th>province</th>\n",
       "      <th>product_id</th>\n",
       "      <th>brand</th>\n",
       "      <th>quantity</th>\n",
       "      <th>item_price</th>\n",
       "    </tr>\n",
       "    <tr>\n",
       "      <th>order_date</th>\n",
       "      <th>order_id</th>\n",
       "      <th></th>\n",
       "      <th></th>\n",
       "      <th></th>\n",
       "      <th></th>\n",
       "      <th></th>\n",
       "      <th></th>\n",
       "      <th></th>\n",
       "    </tr>\n",
       "  </thead>\n",
       "  <tbody>\n",
       "    <tr>\n",
       "      <th rowspan=\"8\" valign=\"top\">2019-01-01</th>\n",
       "      <th>1612339</th>\n",
       "      <td>18055</td>\n",
       "      <td>Jakarta Selatan</td>\n",
       "      <td>DKI Jakarta</td>\n",
       "      <td>P0648</td>\n",
       "      <td>BRAND_C</td>\n",
       "      <td>4</td>\n",
       "      <td>1934000</td>\n",
       "    </tr>\n",
       "    <tr>\n",
       "      <th>1612339</th>\n",
       "      <td>18055</td>\n",
       "      <td>Jakarta Selatan</td>\n",
       "      <td>DKI Jakarta</td>\n",
       "      <td>P3826</td>\n",
       "      <td>BRAND_V</td>\n",
       "      <td>8</td>\n",
       "      <td>604000</td>\n",
       "    </tr>\n",
       "    <tr>\n",
       "      <th>1612339</th>\n",
       "      <td>18055</td>\n",
       "      <td>Jakarta Selatan</td>\n",
       "      <td>DKI Jakarta</td>\n",
       "      <td>P1508</td>\n",
       "      <td>BRAND_G</td>\n",
       "      <td>12</td>\n",
       "      <td>747000</td>\n",
       "    </tr>\n",
       "    <tr>\n",
       "      <th>1612339</th>\n",
       "      <td>18055</td>\n",
       "      <td>Jakarta Selatan</td>\n",
       "      <td>DKI Jakarta</td>\n",
       "      <td>P0520</td>\n",
       "      <td>BRAND_B</td>\n",
       "      <td>12</td>\n",
       "      <td>450000</td>\n",
       "    </tr>\n",
       "    <tr>\n",
       "      <th>1612339</th>\n",
       "      <td>18055</td>\n",
       "      <td>Jakarta Selatan</td>\n",
       "      <td>DKI Jakarta</td>\n",
       "      <td>P1513</td>\n",
       "      <td>BRAND_G</td>\n",
       "      <td>3</td>\n",
       "      <td>1500000</td>\n",
       "    </tr>\n",
       "    <tr>\n",
       "      <th>1612339</th>\n",
       "      <td>18055</td>\n",
       "      <td>Jakarta Selatan</td>\n",
       "      <td>DKI Jakarta</td>\n",
       "      <td>P3911</td>\n",
       "      <td>BRAND_V</td>\n",
       "      <td>3</td>\n",
       "      <td>2095000</td>\n",
       "    </tr>\n",
       "    <tr>\n",
       "      <th>1612339</th>\n",
       "      <td>18055</td>\n",
       "      <td>Jakarta Selatan</td>\n",
       "      <td>DKI Jakarta</td>\n",
       "      <td>P1780</td>\n",
       "      <td>BRAND_H</td>\n",
       "      <td>3</td>\n",
       "      <td>2095000</td>\n",
       "    </tr>\n",
       "    <tr>\n",
       "      <th>1612339</th>\n",
       "      <td>18055</td>\n",
       "      <td>Jakarta Selatan</td>\n",
       "      <td>DKI Jakarta</td>\n",
       "      <td>P3132</td>\n",
       "      <td>BRAND_S</td>\n",
       "      <td>3</td>\n",
       "      <td>1745000</td>\n",
       "    </tr>\n",
       "  </tbody>\n",
       "</table>\n",
       "</div>"
      ],
      "text/plain": [
       "                     customer_id             city     province product_id  \\\n",
       "order_date order_id                                                         \n",
       "2019-01-01 1612339         18055  Jakarta Selatan  DKI Jakarta      P0648   \n",
       "           1612339         18055  Jakarta Selatan  DKI Jakarta      P3826   \n",
       "           1612339         18055  Jakarta Selatan  DKI Jakarta      P1508   \n",
       "           1612339         18055  Jakarta Selatan  DKI Jakarta      P0520   \n",
       "           1612339         18055  Jakarta Selatan  DKI Jakarta      P1513   \n",
       "           1612339         18055  Jakarta Selatan  DKI Jakarta      P3911   \n",
       "           1612339         18055  Jakarta Selatan  DKI Jakarta      P1780   \n",
       "           1612339         18055  Jakarta Selatan  DKI Jakarta      P3132   \n",
       "\n",
       "                       brand  quantity  item_price  \n",
       "order_date order_id                                 \n",
       "2019-01-01 1612339   BRAND_C         4     1934000  \n",
       "           1612339   BRAND_V         8      604000  \n",
       "           1612339   BRAND_G        12      747000  \n",
       "           1612339   BRAND_B        12      450000  \n",
       "           1612339   BRAND_G         3     1500000  \n",
       "           1612339   BRAND_V         3     2095000  \n",
       "           1612339   BRAND_H         3     2095000  \n",
       "           1612339   BRAND_S         3     1745000  "
      ]
     },
     "execution_count": 54,
     "metadata": {},
     "output_type": "execute_result"
    }
   ],
   "source": [
    "import pandas as pd\n",
    "\n",
    "# Baca file sample_tsv.tsv dan set lah index_col sesuai instruksi\n",
    "df = pd.read_csv(\"https://dqlab-dataset.s3-ap-southeast-1.amazonaws.com/sample_tsv.tsv\", sep=\"\\t\", index_col=[\"order_date\",\"order_id\"])\n",
    "# Cetak data frame untuk 8 data teratas\n",
    "print(\"Dataframe:\\n\")\n",
    "df.head(8)"
   ]
  },
  {
   "cell_type": "markdown",
   "metadata": {},
   "source": [
    "<p>Kode diatas langsung menggunakan kolom 'order_date' dan 'order_id' sebagai index saat membaca file, dimana jumlah kolom akan berkurang 2 karena telah ditentukan sebagai index.</p>"
   ]
  },
  {
   "cell_type": "code",
   "execution_count": 56,
   "metadata": {},
   "outputs": [
    {
     "data": {
      "text/html": [
       "<div>\n",
       "<style scoped>\n",
       "    .dataframe tbody tr th:only-of-type {\n",
       "        vertical-align: middle;\n",
       "    }\n",
       "\n",
       "    .dataframe tbody tr th {\n",
       "        vertical-align: top;\n",
       "    }\n",
       "\n",
       "    .dataframe thead th {\n",
       "        text-align: right;\n",
       "    }\n",
       "</style>\n",
       "<table border=\"1\" class=\"dataframe\">\n",
       "  <thead>\n",
       "    <tr style=\"text-align: right;\">\n",
       "      <th></th>\n",
       "      <th></th>\n",
       "      <th>day_number</th>\n",
       "      <th>week_type</th>\n",
       "    </tr>\n",
       "    <tr>\n",
       "      <th>name</th>\n",
       "      <th>num</th>\n",
       "      <th></th>\n",
       "      <th></th>\n",
       "    </tr>\n",
       "  </thead>\n",
       "  <tbody>\n",
       "    <tr>\n",
       "      <th>Mon</th>\n",
       "      <th>1</th>\n",
       "      <td>1</td>\n",
       "      <td>weekday</td>\n",
       "    </tr>\n",
       "    <tr>\n",
       "      <th>Tue</th>\n",
       "      <th>2</th>\n",
       "      <td>2</td>\n",
       "      <td>weekday</td>\n",
       "    </tr>\n",
       "    <tr>\n",
       "      <th>Wed</th>\n",
       "      <th>3</th>\n",
       "      <td>3</td>\n",
       "      <td>weekday</td>\n",
       "    </tr>\n",
       "    <tr>\n",
       "      <th>Thu</th>\n",
       "      <th>4</th>\n",
       "      <td>4</td>\n",
       "      <td>weekday</td>\n",
       "    </tr>\n",
       "    <tr>\n",
       "      <th>Fri</th>\n",
       "      <th>5</th>\n",
       "      <td>5</td>\n",
       "      <td>weekday</td>\n",
       "    </tr>\n",
       "    <tr>\n",
       "      <th>Sat</th>\n",
       "      <th>6</th>\n",
       "      <td>6</td>\n",
       "      <td>weekend</td>\n",
       "    </tr>\n",
       "    <tr>\n",
       "      <th>Sun</th>\n",
       "      <th>7</th>\n",
       "      <td>7</td>\n",
       "      <td>weekend</td>\n",
       "    </tr>\n",
       "  </tbody>\n",
       "</table>\n",
       "</div>"
      ],
      "text/plain": [
       "          day_number week_type\n",
       "name num                      \n",
       "Mon  1             1   weekday\n",
       "Tue  2             2   weekday\n",
       "Wed  3             3   weekday\n",
       "Thu  4             4   weekday\n",
       "Fri  5             5   weekday\n",
       "Sat  6             6   weekend\n",
       "Sun  7             7   weekend"
      ]
     },
     "execution_count": 56,
     "metadata": {},
     "output_type": "execute_result"
    }
   ],
   "source": [
    "# contoh lain penggunaan indexing\n",
    "df_week = pd.DataFrame({'day_number':[1,2,3,4,5,6,7],\n",
    "                        'week_type':['weekday' for i in range(5)] + ['weekend' for i in range(2)]\n",
    "                       })\n",
    "df_week_ix = ['Mon','Tue','Wed','Thu','Fri','Sat','Sun']\n",
    "df_week.index = [df_week_ix, df_week['day_number'].to_list()]\n",
    "df_week.index.names = ['name','num']\n",
    "df_week"
   ]
  },
  {
   "cell_type": "markdown",
   "metadata": {},
   "source": [
    "<h3><a name=\"slicing\"></a>Slicing</h3>"
   ]
  },
  {
   "cell_type": "markdown",
   "metadata": {},
   "source": [
    "<p>Seperti artinya slicing adalah cara untuk melakukan filter ke dataframe/series berdasarkan kriteria tertentu dari nilai kolomnya ataupun kriteria index-nya.</p>\n",
    "\n",
    "<p>Terdapat 2 cara paling terkenal untuk slicing dataframe, yaitu dengan menggunakan method <code>.loc</code> dan <code>.iloc</code> pada variabel bertipe pandas DataFrame/Series. Method <code>.iloc</code> ditujukan untuk proses slicing berdasarkan index berupa nilai integer tertentu. Akan tetapi akan lebih sering menggunakan dengan method <code>.loc</code> karena lebih fleksibel.</p>"
   ]
  },
  {
   "cell_type": "code",
   "execution_count": 60,
   "metadata": {},
   "outputs": [
    {
     "name": "stdout",
     "output_type": "stream",
     "text": [
      "Slice langsung berdasarkan kolom:\n",
      "\n"
     ]
    },
    {
     "data": {
      "text/html": [
       "<div>\n",
       "<style scoped>\n",
       "    .dataframe tbody tr th:only-of-type {\n",
       "        vertical-align: middle;\n",
       "    }\n",
       "\n",
       "    .dataframe tbody tr th {\n",
       "        vertical-align: top;\n",
       "    }\n",
       "\n",
       "    .dataframe thead th {\n",
       "        text-align: right;\n",
       "    }\n",
       "</style>\n",
       "<table border=\"1\" class=\"dataframe\">\n",
       "  <thead>\n",
       "    <tr style=\"text-align: right;\">\n",
       "      <th></th>\n",
       "      <th>order_id</th>\n",
       "      <th>order_date</th>\n",
       "      <th>customer_id</th>\n",
       "      <th>city</th>\n",
       "      <th>province</th>\n",
       "      <th>product_id</th>\n",
       "      <th>brand</th>\n",
       "      <th>quantity</th>\n",
       "      <th>item_price</th>\n",
       "    </tr>\n",
       "  </thead>\n",
       "  <tbody>\n",
       "    <tr>\n",
       "      <th>9</th>\n",
       "      <td>1612339</td>\n",
       "      <td>2019-01-01</td>\n",
       "      <td>18055</td>\n",
       "      <td>Jakarta Selatan</td>\n",
       "      <td>DKI Jakarta</td>\n",
       "      <td>P2556</td>\n",
       "      <td>BRAND_P</td>\n",
       "      <td>6</td>\n",
       "      <td>1045000</td>\n",
       "    </tr>\n",
       "    <tr>\n",
       "      <th>10</th>\n",
       "      <td>1612339</td>\n",
       "      <td>2019-01-01</td>\n",
       "      <td>18055</td>\n",
       "      <td>Jakarta Selatan</td>\n",
       "      <td>DKI Jakarta</td>\n",
       "      <td>P2154</td>\n",
       "      <td>BRAND_M</td>\n",
       "      <td>4</td>\n",
       "      <td>1745000</td>\n",
       "    </tr>\n",
       "  </tbody>\n",
       "</table>\n",
       "</div>"
      ],
      "text/plain": [
       "    order_id  order_date  customer_id             city     province  \\\n",
       "9    1612339  2019-01-01        18055  Jakarta Selatan  DKI Jakarta   \n",
       "10   1612339  2019-01-01        18055  Jakarta Selatan  DKI Jakarta   \n",
       "\n",
       "   product_id    brand  quantity  item_price  \n",
       "9       P2556  BRAND_P         6     1045000  \n",
       "10      P2154  BRAND_M         4     1745000  "
      ]
     },
     "execution_count": 60,
     "metadata": {},
     "output_type": "execute_result"
    }
   ],
   "source": [
    "import pandas as pd\n",
    "\n",
    "# Baca file sample_csv.csv\n",
    "df = pd.read_csv(\"https://dqlab-dataset.s3-ap-southeast-1.amazonaws.com/sample_csv.csv\")\n",
    "\n",
    "# Slice langsung berdasarkan kolom\n",
    "df_slice = df.loc[(df[\"order_date\"] == \"2019-01-01\") &\n",
    "                  (df[\"product_id\"].isin([\"P2154\",\"P2556\"]))]\n",
    "print(\"Slice langsung berdasarkan kolom:\\n\")\n",
    "df_slice"
   ]
  },
  {
   "cell_type": "markdown",
   "metadata": {},
   "source": [
    "<p>Slicing/filtering dataset dengan menerapkan berdasarkan index. Tentu syaratnya adalah dataset sudah dilakukan indexing terlebih dahulu melalui penerapan method <code>.set_index</code>.</p>"
   ]
  },
  {
   "cell_type": "markdown",
   "metadata": {},
   "source": [
    "<p><b>Cara 1:</b> Gunakan method <code>.loc</code></p>"
   ]
  },
  {
   "cell_type": "code",
   "execution_count": 68,
   "metadata": {},
   "outputs": [
    {
     "name": "stdout",
     "output_type": "stream",
     "text": [
      "Cara 1:\n",
      "\n"
     ]
    },
    {
     "data": {
      "text/html": [
       "<div>\n",
       "<style scoped>\n",
       "    .dataframe tbody tr th:only-of-type {\n",
       "        vertical-align: middle;\n",
       "    }\n",
       "\n",
       "    .dataframe tbody tr th {\n",
       "        vertical-align: top;\n",
       "    }\n",
       "\n",
       "    .dataframe thead th {\n",
       "        text-align: right;\n",
       "    }\n",
       "</style>\n",
       "<table border=\"1\" class=\"dataframe\">\n",
       "  <thead>\n",
       "    <tr style=\"text-align: right;\">\n",
       "      <th></th>\n",
       "      <th></th>\n",
       "      <th></th>\n",
       "      <th>customer_id</th>\n",
       "      <th>city</th>\n",
       "      <th>province</th>\n",
       "      <th>brand</th>\n",
       "      <th>quantity</th>\n",
       "      <th>item_price</th>\n",
       "    </tr>\n",
       "    <tr>\n",
       "      <th>order_date</th>\n",
       "      <th>order_id</th>\n",
       "      <th>product_id</th>\n",
       "      <th></th>\n",
       "      <th></th>\n",
       "      <th></th>\n",
       "      <th></th>\n",
       "      <th></th>\n",
       "      <th></th>\n",
       "    </tr>\n",
       "  </thead>\n",
       "  <tbody>\n",
       "    <tr>\n",
       "      <th rowspan=\"2\" valign=\"top\">2019-01-01</th>\n",
       "      <th rowspan=\"2\" valign=\"top\">1612339</th>\n",
       "      <th>P2154</th>\n",
       "      <td>18055</td>\n",
       "      <td>Jakarta Selatan</td>\n",
       "      <td>DKI Jakarta</td>\n",
       "      <td>BRAND_M</td>\n",
       "      <td>4</td>\n",
       "      <td>1745000</td>\n",
       "    </tr>\n",
       "    <tr>\n",
       "      <th>P2159</th>\n",
       "      <td>18055</td>\n",
       "      <td>Jakarta Selatan</td>\n",
       "      <td>DKI Jakarta</td>\n",
       "      <td>BRAND_M</td>\n",
       "      <td>24</td>\n",
       "      <td>310000</td>\n",
       "    </tr>\n",
       "  </tbody>\n",
       "</table>\n",
       "</div>"
      ],
      "text/plain": [
       "                                customer_id             city     province  \\\n",
       "order_date order_id product_id                                              \n",
       "2019-01-01 1612339  P2154             18055  Jakarta Selatan  DKI Jakarta   \n",
       "                    P2159             18055  Jakarta Selatan  DKI Jakarta   \n",
       "\n",
       "                                  brand  quantity  item_price  \n",
       "order_date order_id product_id                                 \n",
       "2019-01-01 1612339  P2154       BRAND_M         4     1745000  \n",
       "                    P2159       BRAND_M        24      310000  "
      ]
     },
     "execution_count": 68,
     "metadata": {},
     "output_type": "execute_result"
    }
   ],
   "source": [
    "import pandas as pd\n",
    "\n",
    "# Baca file sample_csv.csv\n",
    "df = pd.read_csv(\"https://dqlab-dataset.s3-ap-southeast-1.amazonaws.com/sample_csv.csv\")\n",
    "# Set index dari df sesuai instruksi\n",
    "df = df.set_index([\"order_date\",\"order_id\",\"product_id\"])\n",
    "\n",
    "# Slice cara 1 dengan .loc\n",
    "df_slice = df.loc[(\"2019-01-01\",1612339,[\"P2154\",\"P2159\"]),:]\n",
    "print(\"Cara 1:\\n\")\n",
    "df_slice"
   ]
  },
  {
   "cell_type": "markdown",
   "metadata": {},
   "source": [
    "<p><b>Cara 2:</b> Gunakan <code>pd.IndexSlice</code> sebagai varaibel untuk melakukan slicing index</p>"
   ]
  },
  {
   "cell_type": "code",
   "execution_count": 69,
   "metadata": {},
   "outputs": [
    {
     "name": "stdout",
     "output_type": "stream",
     "text": [
      "Cara 2:\n",
      "\n"
     ]
    },
    {
     "data": {
      "text/html": [
       "<div>\n",
       "<style scoped>\n",
       "    .dataframe tbody tr th:only-of-type {\n",
       "        vertical-align: middle;\n",
       "    }\n",
       "\n",
       "    .dataframe tbody tr th {\n",
       "        vertical-align: top;\n",
       "    }\n",
       "\n",
       "    .dataframe thead th {\n",
       "        text-align: right;\n",
       "    }\n",
       "</style>\n",
       "<table border=\"1\" class=\"dataframe\">\n",
       "  <thead>\n",
       "    <tr style=\"text-align: right;\">\n",
       "      <th></th>\n",
       "      <th></th>\n",
       "      <th></th>\n",
       "      <th>customer_id</th>\n",
       "      <th>city</th>\n",
       "      <th>province</th>\n",
       "      <th>brand</th>\n",
       "      <th>quantity</th>\n",
       "      <th>item_price</th>\n",
       "    </tr>\n",
       "    <tr>\n",
       "      <th>order_date</th>\n",
       "      <th>order_id</th>\n",
       "      <th>product_id</th>\n",
       "      <th></th>\n",
       "      <th></th>\n",
       "      <th></th>\n",
       "      <th></th>\n",
       "      <th></th>\n",
       "      <th></th>\n",
       "    </tr>\n",
       "  </thead>\n",
       "  <tbody>\n",
       "    <tr>\n",
       "      <th rowspan=\"3\" valign=\"top\">2019-01-01</th>\n",
       "      <th rowspan=\"3\" valign=\"top\">1612339</th>\n",
       "      <th>P2154</th>\n",
       "      <td>18055</td>\n",
       "      <td>Jakarta Selatan</td>\n",
       "      <td>DKI Jakarta</td>\n",
       "      <td>BRAND_M</td>\n",
       "      <td>4</td>\n",
       "      <td>1745000</td>\n",
       "    </tr>\n",
       "    <tr>\n",
       "      <th>P2159</th>\n",
       "      <td>18055</td>\n",
       "      <td>Jakarta Selatan</td>\n",
       "      <td>DKI Jakarta</td>\n",
       "      <td>BRAND_M</td>\n",
       "      <td>24</td>\n",
       "      <td>310000</td>\n",
       "    </tr>\n",
       "    <tr>\n",
       "      <th>P2556</th>\n",
       "      <td>18055</td>\n",
       "      <td>Jakarta Selatan</td>\n",
       "      <td>DKI Jakarta</td>\n",
       "      <td>BRAND_P</td>\n",
       "      <td>6</td>\n",
       "      <td>1045000</td>\n",
       "    </tr>\n",
       "  </tbody>\n",
       "</table>\n",
       "</div>"
      ],
      "text/plain": [
       "                                customer_id             city     province  \\\n",
       "order_date order_id product_id                                              \n",
       "2019-01-01 1612339  P2154             18055  Jakarta Selatan  DKI Jakarta   \n",
       "                    P2159             18055  Jakarta Selatan  DKI Jakarta   \n",
       "                    P2556             18055  Jakarta Selatan  DKI Jakarta   \n",
       "\n",
       "                                  brand  quantity  item_price  \n",
       "order_date order_id product_id                                 \n",
       "2019-01-01 1612339  P2154       BRAND_M         4     1745000  \n",
       "                    P2159       BRAND_M        24      310000  \n",
       "                    P2556       BRAND_P         6     1045000  "
      ]
     },
     "execution_count": 69,
     "metadata": {},
     "output_type": "execute_result"
    }
   ],
   "source": [
    "# Slice cara ke 2 dengan pd.IndexSlice\n",
    "idx = pd.IndexSlice\n",
    "df_slice2 = df.sort_index().loc[idx[\"2019-01-01\", 1612339, \"P2154\":\"P2556\"], :]\n",
    "print(\"Cara 2:\\n\")\n",
    "df_slice2"
   ]
  },
  {
   "cell_type": "markdown",
   "metadata": {},
   "source": [
    "<h3><a name=\"transforming\"></a>Transforming</h3>"
   ]
  },
  {
   "cell_type": "markdown",
   "metadata": {},
   "source": [
    "<p>Transform adalah ketika mengubah dataset yang ada menjadi entitas baru, dapat dilakukan dengan</p>\n",
    "\n",
    "<ul>\n",
    "    <li>konversi dari satu data type ke data type yang lain,</li>\n",
    "    <li>transpose dataframe</li>\n",
    "    <li>atau yang lainnya.</li>\n",
    "</ul>\n",
    "\n",
    "<p>Hal yang biasa dilakukan pertama kali setelah data dibaca adalah mengecek tipe data di setiap kolomnya apakah sesuai dengan representasinya. Untuk itu dapat menggunakan attribut <code>.dtypes</code> pada dataframe yang telah dibaca.</p>"
   ]
  },
  {
   "cell_type": "markdown",
   "metadata": {},
   "source": [
    "<h4>Konversi tipe data datetime</h4>\n",
    "\n",
    "<p>Untuk konversi tipe data datetime, secara default system akan mendeteksi data yang tidak bisa di render as date type or numeric type sebagai object yang basically string. Tidak bisa di render oleh system ini karena berbagai hal, mungkin karena formatnya asing dan tidak dikenali oleh python secara umum (misal: date type data → '2019Jan01').</p>\n",
    "\n",
    "<p>Data contoh tersebut tidak bisa di render karena bulannya Jan tidak bisa di translate menjadi in form of number (00-12) dan tidak ada ‘-’ di antara tahun, bulan dan harinya. Jika seluruh data pada kolom di order_date sudah tertulis dalam bentuk 'YYYY-MM-DD' maka ketika dibaca, kolom order_date sudah langsung dinyatakan bertipe data datetime.</p>\n",
    "\n",
    "<p>Untuk merubah kolom date_order yang sebelumnya bertipe object menjadi kolom bertipe datetime, cara pertama yang dapat dilakukan adalah menggunakan <code>pd.to_datetime(<i>argumen</i>)</code>.</p>"
   ]
  },
  {
   "cell_type": "code",
   "execution_count": 70,
   "metadata": {
    "scrolled": false
   },
   "outputs": [
    {
     "name": "stdout",
     "output_type": "stream",
     "text": [
      "Tipe data df:\n",
      " order_id        int64\n",
      "order_date     object\n",
      "customer_id     int64\n",
      "city           object\n",
      "province       object\n",
      "product_id     object\n",
      "brand          object\n",
      "quantity        int64\n",
      "item_price      int64\n",
      "dtype: object\n",
      "\n",
      "Tipe data df setelah transformasi:\n",
      " order_id                int64\n",
      "order_date     datetime64[ns]\n",
      "customer_id             int64\n",
      "city                   object\n",
      "province               object\n",
      "product_id             object\n",
      "brand                  object\n",
      "quantity                int64\n",
      "item_price              int64\n",
      "dtype: object\n"
     ]
    }
   ],
   "source": [
    "import pandas as pd\n",
    "\n",
    "# Baca file sample_csv.csv\n",
    "df = pd.read_csv(\"https://dqlab-dataset.s3-ap-southeast-1.amazonaws.com/sample_csv.csv\")\n",
    "# Tampilkan tipe data\n",
    "print(\"Tipe data df:\\n\", df.dtypes)\n",
    "\n",
    "# Ubah tipe data kolom order_date menjadi datetime\n",
    "df[\"order_date\"] = pd.to_datetime(df[\"order_date\"])\n",
    "# Tampilkan tipe data df setelah transformasi\n",
    "print(\"\\nTipe data df setelah transformasi:\\n\", df.dtypes)"
   ]
  },
  {
   "cell_type": "markdown",
   "metadata": {},
   "source": [
    "<h4>Konversi tipe data numerik dan kategori</h4>\n",
    "\n",
    "<p>Secara umum, untuk merubah ke numerik dapat menggunakan <code>pd.to_numeric()</code>. Sedangkan untuk menjadi suatu kolom yang dapat dinyatakan sebagai kategory dapat menggunakan method <code>.astype()</code> pada dataframe.</p>"
   ]
  },
  {
   "cell_type": "code",
   "execution_count": 71,
   "metadata": {
    "scrolled": false
   },
   "outputs": [
    {
     "name": "stdout",
     "output_type": "stream",
     "text": [
      "Tipe data df:\n",
      " order_id        int64\n",
      "order_date     object\n",
      "customer_id     int64\n",
      "city           object\n",
      "province       object\n",
      "product_id     object\n",
      "brand          object\n",
      "quantity        int64\n",
      "item_price      int64\n",
      "dtype: object\n",
      "\n",
      "Tipe data df setelah transformasi:\n",
      " order_id          int64\n",
      "order_date       object\n",
      "customer_id       int64\n",
      "city           category\n",
      "province         object\n",
      "product_id       object\n",
      "brand            object\n",
      "quantity        float32\n",
      "item_price        int64\n",
      "dtype: object\n"
     ]
    }
   ],
   "source": [
    "import pandas as pd\n",
    "\n",
    "# Baca file sample_csv.csv\n",
    "df = pd.read_csv(\"https://dqlab-dataset.s3-ap-southeast-1.amazonaws.com/sample_csv.csv\")\n",
    "# Tampilkan tipe data\n",
    "print(\"Tipe data df:\\n\", df.dtypes)\n",
    "\n",
    "# Ubah tipe data kolom quantity menjadi tipe data numerik float\n",
    "df[\"quantity\"] = pd.to_numeric(df[\"quantity\"], downcast=\"float\")\n",
    "# Ubah tipe data kolom city menjadi tipe data category\n",
    "df[\"city\"] = df[\"city\"].astype(\"category\")\n",
    "# Tampilkan tipe data df setelah transformasi\n",
    "print(\"\\nTipe data df setelah transformasi:\\n\", df.dtypes)"
   ]
  },
  {
   "cell_type": "markdown",
   "metadata": {},
   "source": [
    "<h4>Method <code>.apply()</code> dan <code>.map()</code></h4>\n",
    "\n",
    "<p>Method <code>.apply()</code> digunakan untuk menerapkan suatu fungsi python (yang dibuat dengan def atau anonymous dengan lambda) pada dataframe/series atau hanya <b>kolom tertentu</b> dari dataframe.</p>\n",
    "\n",
    "<p>Method <code>.map()</code> hanya dapat diterapkan pada series atau dataframe yang diakses <b>satu kolom saja</b>. Method ini digunakan untuk mensubstitusikan suatu nilai ke dalam tiap baris datanya.</p>"
   ]
  },
  {
   "cell_type": "code",
   "execution_count": 77,
   "metadata": {},
   "outputs": [
    {
     "name": "stdout",
     "output_type": "stream",
     "text": [
      "Kolom brand awal:\n",
      " 0    BRAND_C\n",
      "1    BRAND_V\n",
      "2    BRAND_G\n",
      "3    BRAND_B\n",
      "4    BRAND_G\n",
      "Name: brand, dtype: object\n",
      "\n",
      "Kolom brand setelah apply:\n",
      " 0    brand_c\n",
      "1    brand_v\n",
      "2    brand_g\n",
      "3    brand_b\n",
      "4    brand_g\n",
      "Name: brand, dtype: object\n",
      "\n",
      "Kolom brand setelah map:\n",
      " 0    c\n",
      "1    v\n",
      "2    g\n",
      "3    b\n",
      "4    g\n",
      "Name: brand, dtype: object\n"
     ]
    }
   ],
   "source": [
    "import pandas as pd\n",
    "\n",
    "# Baca file sample_csv.csv\n",
    "df = pd.read_csv(\"https://dqlab-dataset.s3-ap-southeast-1.amazonaws.com/sample_csv.csv\")\n",
    "# Cetak 5 baris teratas kolom brand\n",
    "print(\"Kolom brand awal:\\n\", df[\"brand\"].head())\n",
    "\n",
    "# Gunakan method apply untuk merubah isi kolom menjadi lower case\n",
    "df[\"brand\"] = df[\"brand\"].apply(lambda x: x.lower())\n",
    "# Cetak 5 baris teratas kolom brand\n",
    "print(\"\\nKolom brand setelah apply:\\n\", df[\"brand\"].head())\n",
    "\n",
    "# Gunakan method map untuk mengambil kode brand yaitu karakter terakhirnya\n",
    "df[\"brand\"] = df[\"brand\"].map(lambda x: x[-1])\n",
    "# Cetak 5 baris teratas kolom brand\n",
    "print(\"\\nKolom brand setelah map:\\n\", df[\"brand\"].head())"
   ]
  },
  {
   "cell_type": "markdown",
   "metadata": {},
   "source": [
    "<h4>Method <code>.applymap</code> pada dataframe</h4>"
   ]
  },
  {
   "cell_type": "code",
   "execution_count": 78,
   "metadata": {},
   "outputs": [
    {
     "name": "stdout",
     "output_type": "stream",
     "text": [
      "Dataframe:\n",
      "           0         1         2         3\n",
      "0  0.191519  0.622109  0.437728  0.785359\n",
      "1  0.779976  0.272593  0.276464  0.801872\n",
      "2  0.958139  0.875933  0.357817  0.500995\n",
      "\n",
      "Dataframe - cara 1:\n",
      "           0         1         2         3\n",
      "0  2.611238  4.253346  3.504789  4.972864\n",
      "1  4.948290  2.892085  2.905825  5.048616\n",
      "2  5.792449  5.395056  3.201485  3.753981\n",
      "\n",
      "Dataframe - cara 2:\n",
      "           0         1         2         3\n",
      "0  2.611238  4.253346  3.504789  4.972864\n",
      "1  4.948290  2.892085  2.905825  5.048616\n",
      "2  5.792449  5.395056  3.201485  3.753981\n"
     ]
    }
   ],
   "source": [
    "import numpy as np\n",
    "import pandas as pd\n",
    "\n",
    "# number generator, set angka seed menjadi suatu angka, bisa semua angka, supaya hasil random nya selalu sama ketika kita run\n",
    "np.random.seed(1234)\n",
    "# create dataframe 3 baris dan 4 kolom dengan angka random\n",
    "df_tr = pd.DataFrame(np.random.rand(3,4)) \n",
    "# Cetak dataframe\n",
    "print(\"Dataframe:\\n\", df_tr)\n",
    "\n",
    "# Cara 1 dengan tanpa define function awalnya, langsung pake fungsi anonymous lambda x\n",
    "df_tr1 = df_tr.applymap(lambda x: x**2+3*x+2) \n",
    "print(\"\\nDataframe - cara 1:\\n\", df_tr1)\n",
    "\n",
    "# Cara 2 dengan define function \n",
    "def qudratic_fun(x):\n",
    "    return x**2+3*x+2\n",
    "df_tr2 = df_tr.applymap(qudratic_fun)\n",
    "print(\"\\nDataframe - cara 2:\\n\", df_tr2)"
   ]
  },
  {
   "cell_type": "markdown",
   "metadata": {},
   "source": [
    "<h2><a name=\"handling-missing-values\"></a>Chapter 4: Handling Missing Values</h2>"
   ]
  },
  {
   "cell_type": "markdown",
   "metadata": {},
   "source": [
    "<p>Referensi : <a href=https://pandas.pydata.org/pandas-docs/stable/user_guide/missing_data.html>https://pandas.pydata.org/pandas-docs/stable/user_guide/missing_data.html</a></p>"
   ]
  },
  {
   "cell_type": "markdown",
   "metadata": {},
   "source": [
    "<h3><a name=\"inspeksi-missing-value\"></a>Inspeksi Missing Value</h3>"
   ]
  },
  {
   "cell_type": "markdown",
   "metadata": {},
   "source": [
    "<p>Value yang hilang/tidak lengkap dari dataframe akan membuat analisis atau model prediksi yang dibuat menjadi tidak akurat dan mengakibatkan keputusan salah yang diambil. Terdapat beberapa cara untuk mengatasi data yang hilang/tidak lengkap tersebut.</p>\n",
    "\n",
    "<p>Di pandas data yang hilang umumnya direpresentasikan dengan <b>NaN</b>.</p>\n",
    "\n",
    "<p>Data COVID-19 yang akan digunakan ini diambil dari google big query, tetapi sudah disediakan datasetnya dalam format csv dengan nama \"public data covid19 jhu csse eu.csv\". Ini adalah studi kasus untuk meng-handle missing value.</p>\n",
    "\n",
    "<p>Langkah pertama, harus tahu kolom mana yang terdapat data hilang dan berapa banyak dengan cara:</p>\n",
    "<ul>\n",
    "    <li><b>Cara 1:</b> menerapkan method <code>.info()</code> pada dataframe yang dapat diikuti dari kode berikut ini</li>\n",
    "    <li><b>Cara 2:</b> mengetahui berapa banyak nilai hilang dari tiap kolom di dataset tersebut dengan menerapkan chaining method pada dataframe yaitu <code>.isna().sum()</code>. Method <code>.isna()</code> digunakan untuk mengecek berapa data yang bernilai NaN dan <code>.sum()</code> menjumlahkannya secara default untuk masing-masing kolom dataframe.</li>\n",
    "</ul>"
   ]
  },
  {
   "cell_type": "code",
   "execution_count": 79,
   "metadata": {},
   "outputs": [
    {
     "name": "stdout",
     "output_type": "stream",
     "text": [
      "<class 'pandas.core.frame.DataFrame'>\n",
      "RangeIndex: 1000 entries, 0 to 999\n",
      "Data columns (total 13 columns):\n",
      " #   Column          Non-Null Count  Dtype  \n",
      "---  ------          --------------  -----  \n",
      " 0   province_state  960 non-null    object \n",
      " 1   country_region  1000 non-null   object \n",
      " 2   date            1000 non-null   object \n",
      " 3   latitude        874 non-null    float64\n",
      " 4   longitude       874 non-null    float64\n",
      " 5   location_geom   874 non-null    object \n",
      " 6   confirmed       1000 non-null   int64  \n",
      " 7   deaths          999 non-null    float64\n",
      " 8   recovered       999 non-null    float64\n",
      " 9   active          949 non-null    float64\n",
      " 10  fips            949 non-null    float64\n",
      " 11  admin2          842 non-null    object \n",
      " 12  combined_key    0 non-null      float64\n",
      "dtypes: float64(7), int64(1), object(5)\n",
      "memory usage: 101.7+ KB\n",
      "None\n",
      "\n",
      "Jumlah missing value per kolom:\n",
      " province_state      40\n",
      "country_region       0\n",
      "date                 0\n",
      "latitude           126\n",
      "longitude          126\n",
      "location_geom      126\n",
      "confirmed            0\n",
      "deaths               1\n",
      "recovered            1\n",
      "active              51\n",
      "fips                51\n",
      "admin2             158\n",
      "combined_key      1000\n",
      "dtype: int64\n"
     ]
    }
   ],
   "source": [
    "import pandas as pd\n",
    "\n",
    "# Baca file \"public data covid19 jhu csse eu.csv\"\n",
    "df = pd.read_csv(\"https://dqlab-dataset.s3-ap-southeast-1.amazonaws.com/CHAPTER+4+-+missing+value+-+public+data+covid19+.csv\")\n",
    "\n",
    "# Cetak info dari df\n",
    "print(df.info())\n",
    "# Cetak jumlah missing value di setiap kolom\n",
    "mv = df.isna().sum()\n",
    "print(\"\\nJumlah missing value per kolom:\\n\", mv)"
   ]
  },
  {
   "cell_type": "markdown",
   "metadata": {},
   "source": [
    "Seperti kedua output di atas, artinya ada beberapa kolom yang ada null sebagian dan ada yang nilainya null semua untuk kolomnya."
   ]
  },
  {
   "cell_type": "markdown",
   "metadata": {},
   "source": [
    "<h3><a name=\"treatment-untuk-missing-value\"></a>Treatment untuk Missing Value</h3>"
   ]
  },
  {
   "cell_type": "code",
   "execution_count": null,
   "metadata": {},
   "outputs": [],
   "source": []
  },
  {
   "cell_type": "markdown",
   "metadata": {},
   "source": [
    "<h2><a name=\"mini-quiz\"></a>Chapter 5: Mini Quiz</h2>"
   ]
  },
  {
   "cell_type": "markdown",
   "metadata": {},
   "source": [
    "<div style=\"border: 2px solid orange;border-radius: 5px;\">\n",
    "    <b style=\"color:orange;padding:10px\">Visualisasi Data 1</b>\n",
    "    <div style=\"padding:25px\">\n",
    "        <p>Mini quiz</p>\n",
    "    </div>\n",
    "</div>"
   ]
  },
  {
   "cell_type": "code",
   "execution_count": null,
   "metadata": {},
   "outputs": [],
   "source": []
  }
 ],
 "metadata": {
  "kernelspec": {
   "display_name": "Python 3",
   "language": "python",
   "name": "python3"
  },
  "language_info": {
   "codemirror_mode": {
    "name": "ipython",
    "version": 3
   },
   "file_extension": ".py",
   "mimetype": "text/x-python",
   "name": "python",
   "nbconvert_exporter": "python",
   "pygments_lexer": "ipython3",
   "version": "3.8.3"
  }
 },
 "nbformat": 4,
 "nbformat_minor": 4
}
