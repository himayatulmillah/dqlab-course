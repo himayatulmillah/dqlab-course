{
 "cells": [
  {
   "cell_type": "markdown",
   "metadata": {},
   "source": [
    "# Statistic using Python for Data Science - Part 2"
   ]
  },
  {
   "cell_type": "markdown",
   "metadata": {},
   "source": [
    "<p><b>About :</b> Module ini merupakan lanjutan dari module \"Statistic using Python for Data Science\". Module ini akan memberikan pembelajaran lebih lanjut tentang metode statistik yang digunakan dalam mengolah data dengan menggunakan bahasa pemrograman python.</p>\n",
    "\n",
    "<p><b>Course :</b> <a href=https://academy.dqlab.id/main/package/practice/290?pf=0>Statistic using Python for Data Science - Part 2</a></p>"
   ]
  },
  {
   "cell_type": "markdown",
   "metadata": {},
   "source": [
    "<h2>Module Content:</h2>\n",
    "\n",
    "<div class=\"alert alert-block alert-info\" style=\"margin-top: 20px\">\n",
    "    <ul>\n",
    "        <li><a href=\"#data-visualisasi\">Data Visualisasi</a></li>\n",
    "        <ul>\n",
    "            <li><a href=\"#scatter-plot\">Scatter Plot</a></li>\n",
    "            <li><a href=\"#histogram\">Histogram</a></li>\n",
    "            <li><a href=\"#box-and-whisker-plot\">Box and Whisker Plot</a></li>\n",
    "            <li><a href=\"#bar-plot\">Bar Plot</a></li>\n",
    "            <li><a href=\"#pie-chart\">Pie Chart</a></li>\n",
    "        </ul>\n",
    "        <li><a href=\"#transformasi-data\">Transformasi Data</a></li>\n",
    "        <li><a href=\"#data-visualisasi-2\">Data Visualisasi part 2</a></li>\n",
    "        <ul>\n",
    "            <li><a href=\"#\"></a></li>\n",
    "            <li><a href=\"#\"></a></li>\n",
    "            <li><a href=\"#\"></a></li>\n",
    "        </ul>\n",
    "        <li><a href=\"#regresi-linier-sederhana\">Regresi Linier Sederhana</a></li>\n",
    "        <ul>\n",
    "            <li><a href=\"#\"></a></li>\n",
    "            <li><a href=\"#\"></a></li>\n",
    "            <li><a href=\"#\"></a></li>\n",
    "        </ul>\n",
    "    </ul>\n",
    "</div>"
   ]
  },
  {
   "cell_type": "markdown",
   "metadata": {},
   "source": [
    "<h2><a name=\"data-visualisasi\"></a>Chapter 1: Data Visualisasi</h2>"
   ]
  },
  {
   "cell_type": "markdown",
   "metadata": {},
   "source": [
    "Visualisasi data adalah tahapan yang sangat penting dalan melakukan analisa data. Hal ini karena beberapa pola yang terdapat pada data tidak dapat semata-mata digambarkan hanya dengan angka semata. Dengan melakukan visualisasi pada data, hal ini dapat membuat data menjadi lebih menyenangkan untuk dilihat dan lebih mudah untuk dipahami.\n",
    "\n",
    "<img src=\"Resources/visualisasi_data.png\" width=50%>\n",
    "\n",
    "Misalnya pernyataan statistik seperti: Rata-rata usia pasien yang positif diabetes adalah 50 dengan deviasi standar 5. Apa maknanya? Apa perbedaan dengan rata-rata usia 50 namun dengan standar deviasi 10? Hal ini bisa dijawab dengan menggunakan visualisasi data."
   ]
  },
  {
   "cell_type": "markdown",
   "metadata": {},
   "source": [
    "<h3><a name=\"scatter-plot\"></a>Scatter Plot</h3>"
   ]
  },
  {
   "cell_type": "markdown",
   "metadata": {},
   "source": [
    "Scatter plot atau diagram pencar adalah salah satu visualisasi data sederhana yang dapat digunakan untuk menggambarkan hubungan antara variabel numerik dengan variabel numerik lainnya. Selain itu diagram pencar dapat digunakan untuk melihat pola-pola pengelompokkan pada data, biasanya digunakan pada <b>analisa segmentasi</b>.\n",
    "\n",
    "<img src=\"Resources/scatter_plot_trend.png\" width=40%>\n",
    "<p style=\"text-align:center\">Sumber Gambar: <a href=https://www.learnbyexample.org>https://www.learnbyexample.org</a></p>\n",
    "\n",
    "<img src=\"Resources/scatter_plot_clustering.png\" width=40%>\n",
    "<p style=\"text-align:center\">Sumber Gambar: <a href=https://nikkimarinsek.com>https://nikkimarinsek.com</a></p>"
   ]
  },
  {
   "cell_type": "markdown",
   "metadata": {},
   "source": [
    "Untuk menggambar scatter plot kita dapat menggunakan method <code>.plot.scatter()</code> pada pandas atau menggunakan <code>.scatter()</code> pada matplotlib"
   ]
  },
  {
   "cell_type": "code",
   "execution_count": 5,
   "metadata": {},
   "outputs": [
    {
     "data": {
      "text/html": [
       "<div>\n",
       "<style scoped>\n",
       "    .dataframe tbody tr th:only-of-type {\n",
       "        vertical-align: middle;\n",
       "    }\n",
       "\n",
       "    .dataframe tbody tr th {\n",
       "        vertical-align: top;\n",
       "    }\n",
       "\n",
       "    .dataframe thead th {\n",
       "        text-align: right;\n",
       "    }\n",
       "</style>\n",
       "<table border=\"1\" class=\"dataframe\">\n",
       "  <thead>\n",
       "    <tr style=\"text-align: right;\">\n",
       "      <th></th>\n",
       "      <th>ID Pelanggan</th>\n",
       "      <th>Nama</th>\n",
       "      <th>Jenis Kelamin</th>\n",
       "      <th>Pendapatan</th>\n",
       "      <th>Produk</th>\n",
       "      <th>Harga</th>\n",
       "      <th>Jumlah</th>\n",
       "      <th>Total</th>\n",
       "      <th>Tingkat Kepuasan</th>\n",
       "    </tr>\n",
       "  </thead>\n",
       "  <tbody>\n",
       "    <tr>\n",
       "      <th>0</th>\n",
       "      <td>1</td>\n",
       "      <td>Arif</td>\n",
       "      <td>1</td>\n",
       "      <td>600000</td>\n",
       "      <td>A</td>\n",
       "      <td>100000</td>\n",
       "      <td>4</td>\n",
       "      <td>400000</td>\n",
       "      <td>2</td>\n",
       "    </tr>\n",
       "    <tr>\n",
       "      <th>1</th>\n",
       "      <td>2</td>\n",
       "      <td>Dian</td>\n",
       "      <td>2</td>\n",
       "      <td>1200000</td>\n",
       "      <td>D</td>\n",
       "      <td>250000</td>\n",
       "      <td>4</td>\n",
       "      <td>1000000</td>\n",
       "      <td>2</td>\n",
       "    </tr>\n",
       "    <tr>\n",
       "      <th>2</th>\n",
       "      <td>3</td>\n",
       "      <td>Dinda</td>\n",
       "      <td>2</td>\n",
       "      <td>950000</td>\n",
       "      <td>D</td>\n",
       "      <td>250000</td>\n",
       "      <td>3</td>\n",
       "      <td>750000</td>\n",
       "      <td>3</td>\n",
       "    </tr>\n",
       "    <tr>\n",
       "      <th>3</th>\n",
       "      <td>4</td>\n",
       "      <td>Fajar</td>\n",
       "      <td>1</td>\n",
       "      <td>400000</td>\n",
       "      <td>A</td>\n",
       "      <td>100000</td>\n",
       "      <td>2</td>\n",
       "      <td>200000</td>\n",
       "      <td>3</td>\n",
       "    </tr>\n",
       "    <tr>\n",
       "      <th>4</th>\n",
       "      <td>5</td>\n",
       "      <td>Ika</td>\n",
       "      <td>2</td>\n",
       "      <td>1200000</td>\n",
       "      <td>D</td>\n",
       "      <td>250000</td>\n",
       "      <td>4</td>\n",
       "      <td>1000000</td>\n",
       "      <td>2</td>\n",
       "    </tr>\n",
       "  </tbody>\n",
       "</table>\n",
       "</div>"
      ],
      "text/plain": [
       "   ID Pelanggan   Nama  Jenis Kelamin  Pendapatan Produk   Harga  Jumlah   \\\n",
       "0             1   Arif              1      600000      A  100000        4   \n",
       "1             2   Dian              2     1200000      D  250000        4   \n",
       "2             3  Dinda              2      950000      D  250000        3   \n",
       "3             4  Fajar              1      400000      A  100000        2   \n",
       "4             5    Ika              2     1200000      D  250000        4   \n",
       "\n",
       "     Total  Tingkat Kepuasan  \n",
       "0   400000                 2  \n",
       "1  1000000                 2  \n",
       "2   750000                 3  \n",
       "3   200000                 3  \n",
       "4  1000000                 2  "
      ]
     },
     "execution_count": 5,
     "metadata": {},
     "output_type": "execute_result"
    },
    {
     "data": {
      "text/plain": [
       "<Figure size 432x288 with 0 Axes>"
      ]
     },
     "metadata": {},
     "output_type": "display_data"
    }
   ],
   "source": [
    "import numpy as np\n",
    "import pandas as pd\n",
    "import matplotlib.pyplot as plt\n",
    "plt.clf()\n",
    "\n",
    "## mengambil data contoh\n",
    "raw_data = pd.read_csv(\"https://dqlab-dataset.s3-ap-southeast-1.amazonaws.com/dataset_statistic.csv\", sep=';')\n",
    "raw_data.head()"
   ]
  },
  {
   "cell_type": "code",
   "execution_count": 3,
   "metadata": {},
   "outputs": [
    {
     "data": {
      "text/plain": [
       "<Figure size 432x288 with 0 Axes>"
      ]
     },
     "metadata": {},
     "output_type": "display_data"
    },
    {
     "data": {
      "image/png": "[encoded data removed]",
      "text/plain": [
       "<Figure size 432x288 with 1 Axes>"
      ]
     },
     "metadata": {
      "needs_background": "light"
     },
     "output_type": "display_data"
    },
    {
     "data": {
      "image/png": "[encoded data removed]",
      "text/plain": [
       "<Figure size 432x288 with 1 Axes>"
      ]
     },
     "metadata": {
      "needs_background": "light"
     },
     "output_type": "display_data"
    }
   ],
   "source": [
    "plt.figure()\n",
    "# visualisasi diagram pencar untuk variabel 'Pendapatan' dan 'Total' menggunakan 'plot.scatter' dari pandas\n",
    "raw_data.plot.scatter(x='Pendapatan', y='Total')\n",
    "plt.title('plot.scatter dari pandas', size=14)\n",
    "plt.tight_layout()\n",
    "plt.show()\n",
    "\n",
    "# visualisasi diagram pencar untuk variabel 'Pendapatan' dan 'Total' menggunakan 'plt.scatter' dari matplotlib\n",
    "plt.scatter(x='Pendapatan', y='Total', data=raw_data)\n",
    "plt.title('plt.scatter dari matplotlib', size=14)\n",
    "plt.tight_layout()\n",
    "plt.show()"
   ]
  },
  {
   "cell_type": "markdown",
   "metadata": {},
   "source": [
    "<b style=\"color:blue\">Catatan:</b> Perhatikan bahwa walaupun keduanya mengeluarkan gambar yang sama, namun dapat dilihat bahwa hasil dari <code>plot.scatter</code> lebih lengkap karena terdapat label untuk masing-masing variabel yang secara otomatis dibuat, tidak seperti <code>plt.scatter</code> yang harus ditulis manual"
   ]
  },
  {
   "cell_type": "code",
   "execution_count": 4,
   "metadata": {
    "scrolled": true
   },
   "outputs": [
    {
     "data": {
      "image/png": "[encoded data removed]",
      "text/plain": [
       "<Figure size 432x288 with 1 Axes>"
      ]
     },
     "metadata": {
      "needs_background": "light"
     },
     "output_type": "display_data"
    }
   ],
   "source": [
    "# visualisasi diagram pencar untuk variabel 'Pendapatan' dan 'Total' menggunakan 'plt.scatter' dari matplotlib.pyplot\n",
    "plt.scatter(x='Pendapatan', y='Total', data=raw_data)\n",
    "plt.xlabel('Pendapatan')\n",
    "plt.ylabel('Total')\n",
    "plt.show()"
   ]
  },
  {
   "cell_type": "markdown",
   "metadata": {},
   "source": [
    "<h3><a name=\"histogram\"></a>Histogram</h3>"
   ]
  },
  {
   "cell_type": "markdown",
   "metadata": {},
   "source": [
    "Histogram adalah salah satu visualisasi yang digunakan untuk melihat bentuk dari <b>distribusi data</b>. Visualisasi ini sangat penting karena dapat menggambarkan apakah suatu data memiliki distribusi tertentu dan apakah data perlu dirubah dahulu untuk memenuhi suatu asumsi, terutama saat melakukan pemodelan liner yang akan dibahas nanti.\n",
    "\n",
    "Terdapat beberapa pola dari histogram yang biasanya sering muncul ketika menganalisa data yang dapat dilihat pada gambar berikut :\n",
    "\n",
    "<img src=\"Resources/pola_histogram.png\" width=50%>\n",
    "<p style=\"text-align:center\">Sumber Gambar: <a href=https://www.dummies.com>https://www.dummies.com</a></p>\n",
    "\n",
    "Suatu distribusi disebut memiliki <b>skewness positif</b> jika ekor dari distribusi memanjang ke kiri. Kebalikannya, suatu distribusi disebut memiliki <b>skewness negatif</b> jika ekor dari distribusi memanjang ke kanan. Hal ini terjadi karena nilai <i>mean</i>, <i>median</i> dan <i>modus</i> tidak terletak di satu titik sebagaimana yang dapat diamati pada gambar berikut :\n",
    "\n",
    "<img src=\"Resources/histogram_skewness.png\" width=50%>\n",
    "<p style=\"text-align:center\">Sumber Gambar: <a href=https://www.statisticshowto.com>https://www.statisticshowto.com</a></p>"
   ]
  },
  {
   "cell_type": "markdown",
   "metadata": {},
   "source": [
    "Untuk menggambar histogram kita dapat menggunakan method <code>.hist()</code> dari pandas atau menggunakan <code>pyplot.hist()</code> dari matplotlib"
   ]
  },
  {
   "cell_type": "code",
   "execution_count": 6,
   "metadata": {
    "scrolled": false
   },
   "outputs": [
    {
     "data": {
      "text/plain": [
       "<Figure size 432x288 with 0 Axes>"
      ]
     },
     "metadata": {},
     "output_type": "display_data"
    },
    {
     "data": {
      "text/plain": [
       "<Figure size 432x288 with 0 Axes>"
      ]
     },
     "metadata": {},
     "output_type": "display_data"
    },
    {
     "data": {
      "image/png": "[encoded data removed]",
      "text/plain": [
       "<Figure size 432x288 with 1 Axes>"
      ]
     },
     "metadata": {
      "needs_background": "light"
     },
     "output_type": "display_data"
    },
    {
     "data": {
      "image/png": "[encoded data removed]",
      "text/plain": [
       "<Figure size 432x288 with 1 Axes>"
      ]
     },
     "metadata": {
      "needs_background": "light"
     },
     "output_type": "display_data"
    }
   ],
   "source": [
    "import matplotlib.pyplot as plt\n",
    "plt.clf()\n",
    "\n",
    "plt.figure()\n",
    "# melihat distribusi data kolom 'Pendapatan' menggunakan 'hist' dari pandas\n",
    "raw_data.hist(column='Pendapatan')\n",
    "plt.title('.hist dari pandas', size=14)\n",
    "plt.tight_layout()\n",
    "plt.show()\n",
    "\n",
    "plt.figure()\n",
    "# melihat distribusi data kolom 'Pendapatan' menggunakan 'pyplot.hist' dari matplotlib.pyplot\n",
    "plt.hist(x='Pendapatan', data=raw_data)\n",
    "plt.xlabel('Pendapatan')\n",
    "plt.title('pyplot.hist dari matplotlib.pyplot', size=14)\n",
    "plt.tight_layout()\n",
    "plt.show()"
   ]
  },
  {
   "cell_type": "markdown",
   "metadata": {},
   "source": [
    "<h3><a name=\"box-and-whisker-plot\"></a>Box and Whisker Plot</h3>"
   ]
  },
  {
   "cell_type": "markdown",
   "metadata": {},
   "source": [
    "Box and whisker plot atau yang biasa disebut juga sebagai Box plot adalah salah satu visualisasi data yang dapat digunakan untuk melihat distribusi data, nilai maksimum dan minimum serta nilai kuantil dari data. Box plot dapat digunakan sebagai pengganti dari histogram untuk memahami distribusi dan variasi dari data walaupun bentuk distribusinya tidak terlalu terlihat jelas.\n",
    "\n",
    "Box plot terdiri box yang lebarnya adalah <b>jarak interkuartil</b> dan whisker yang merupakan <b>rentang antara nilai</b> kuartil bawah/atas dengan nilai minimum dan maksimum.\n",
    "\n",
    "<img src=\"Resources/box_and_whisker_plot.png\" width=50%>\n",
    "<p style=\"text-align:center\">Sumber Gambar: <a href=https://www.simplypsychology.org>https://www.simplypsychology.org</a></p>"
   ]
  },
  {
   "cell_type": "markdown",
   "metadata": {},
   "source": [
    "Untuk menggambar boxplot kita dapat menggunakan method <code>.boxplot()</code> dari pandas atau menggunakan <code>pyplot.boxplot()</code> dari matplotlib"
   ]
  },
  {
   "cell_type": "code",
   "execution_count": 7,
   "metadata": {
    "scrolled": false
   },
   "outputs": [
    {
     "data": {
      "text/plain": [
       "<Figure size 432x288 with 0 Axes>"
      ]
     },
     "metadata": {},
     "output_type": "display_data"
    },
    {
     "data": {
      "image/png": "[encoded data removed]",
      "text/plain": [
       "<Figure size 432x288 with 1 Axes>"
      ]
     },
     "metadata": {
      "needs_background": "light"
     },
     "output_type": "display_data"
    },
    {
     "data": {
      "image/png": "[encoded data removed]",
      "text/plain": [
       "<Figure size 432x288 with 1 Axes>"
      ]
     },
     "metadata": {
      "needs_background": "light"
     },
     "output_type": "display_data"
    }
   ],
   "source": [
    "import matplotlib.pyplot as plt\n",
    "plt.clf()\n",
    "\n",
    "# melihat box plot dari kolom 'Pendapatan' menggunakan method '.boxplot' dari pandas\n",
    "plt.figure()\n",
    "raw_data.boxplot(column='Pendapatan')\n",
    "plt.title('.boxplot dari pandas', size=14)\n",
    "plt.tight_layout()\n",
    "plt.show()\n",
    "\n",
    "# melihat box plot dari kolom 'Pendapatan' menggunakan method '.boxplot' dari matplotlib\n",
    "plt.figure()\n",
    "plt.boxplot(x = 'Pendapatan', data=raw_data)\n",
    "plt.xlabel('Pendapatan')\n",
    "plt.title('pyplot.boxplot dari matplotlib.pyplot', size=14)\n",
    "plt.tight_layout()\n",
    "plt.show()"
   ]
  },
  {
   "cell_type": "markdown",
   "metadata": {},
   "source": [
    "<h3><a name=\"bar-plot\"></a>Bar Plot</h3>"
   ]
  },
  {
   "cell_type": "markdown",
   "metadata": {},
   "source": [
    "Diagram batang atau bar plot adalah plot yang digunakan untuk menghitung <b>frekuensi</b> dari data.\n",
    "\n",
    "Untuk menggambar diagram batang kita dapat menggunakan method <code>.plot.bar()</code> dari pandas atau menggunakan <code>pyplot.bar()</code> dari matplotlib"
   ]
  },
  {
   "cell_type": "code",
   "execution_count": 8,
   "metadata": {},
   "outputs": [
    {
     "data": {
      "text/plain": [
       "D    5\n",
       "A    4\n",
       "B    4\n",
       "C    4\n",
       "E    3\n",
       "Name: Produk, dtype: int64"
      ]
     },
     "execution_count": 8,
     "metadata": {},
     "output_type": "execute_result"
    },
    {
     "data": {
      "text/plain": [
       "<Figure size 432x288 with 0 Axes>"
      ]
     },
     "metadata": {},
     "output_type": "display_data"
    }
   ],
   "source": [
    "import matplotlib.pyplot as plt\n",
    "plt.clf()\n",
    "\n",
    "# hitung frekuensi dari masing-masing nilai pada kolom 'Produk'\n",
    "class_freq = raw_data['Produk'].value_counts()\n",
    "class_freq"
   ]
  },
  {
   "cell_type": "code",
   "execution_count": 10,
   "metadata": {},
   "outputs": [
    {
     "data": {
      "image/png": "[encoded data removed]",
      "text/plain": [
       "<Figure size 432x288 with 1 Axes>"
      ]
     },
     "metadata": {
      "needs_background": "light"
     },
     "output_type": "display_data"
    },
    {
     "data": {
      "image/png": "[encoded data removed]",
      "text/plain": [
       "<Figure size 432x288 with 1 Axes>"
      ]
     },
     "metadata": {
      "needs_background": "light"
     },
     "output_type": "display_data"
    }
   ],
   "source": [
    "plt.figure()\n",
    "# membuat bar plot dengan method `plot.bar()` dari pandas\n",
    "class_freq.plot.bar()\n",
    "plt.title('.bar dari pandas', size=14)\n",
    "plt.tight_layout()\n",
    "plt.show()\n",
    "\n",
    "# membuat bar plot dengan method `plt.bar()` dari matplotlib\n",
    "plt.bar(x=class_freq.index, height=class_freq.values)\n",
    "plt.title('plt.bar dari matplotlib.pyplot', size=14)\n",
    "plt.tight_layout()\n",
    "plt.show()"
   ]
  },
  {
   "cell_type": "markdown",
   "metadata": {},
   "source": [
    "<h3><a name=\"pie-chart\"></a>Pie Chart</h3>"
   ]
  },
  {
   "cell_type": "markdown",
   "metadata": {},
   "source": [
    "Diagram pie atau pie chart adalah plot lainnya yang dapat digunakan untuk menampilkan frekuensi dalam bentuk <b>proporsi</b>.\n",
    "\n",
    "Untuk menggambar diagram pie kita dapat menggunakan method <code>.plot.pie()</code> dari pandas atau menggunakan <code>pyplot.pie()</code> dari matplotlib"
   ]
  },
  {
   "cell_type": "code",
   "execution_count": 11,
   "metadata": {},
   "outputs": [
    {
     "data": {
      "text/plain": [
       "<Figure size 432x288 with 0 Axes>"
      ]
     },
     "metadata": {},
     "output_type": "display_data"
    },
    {
     "data": {
      "image/png": "[encoded data removed]",
      "text/plain": [
       "<Figure size 432x288 with 1 Axes>"
      ]
     },
     "metadata": {},
     "output_type": "display_data"
    },
    {
     "data": {
      "image/png": "[encoded data removed]",
      "text/plain": [
       "<Figure size 432x288 with 1 Axes>"
      ]
     },
     "metadata": {},
     "output_type": "display_data"
    }
   ],
   "source": [
    "import matplotlib.pyplot as plt\n",
    "plt.clf()\n",
    "\n",
    "plt.figure()\n",
    "# membuat pie chart menggunakan method 'pyplot.pie()' dari matplotlib\n",
    "plt.pie(class_freq.values, labels=class_freq.index)\n",
    "plt.title('plt.pie dari matplotlib.pyplot', size=14)\n",
    "plt.tight_layout()\n",
    "plt.show()\n",
    "\n",
    "plt.figure()\n",
    "# membuat pie chart menggunakan method 'plot.pie' dari pandas\n",
    "class_freq.plot.pie()\n",
    "plt.title('plot.pie dari pandas', size=14)\n",
    "plt.tight_layout()\n",
    "plt.show()"
   ]
  },
  {
   "cell_type": "markdown",
   "metadata": {},
   "source": [
    "<h2><a name=\"transformasi-data\"></a>Chapter 2: Transformasi Data</h2>"
   ]
  },
  {
   "cell_type": "code",
   "execution_count": null,
   "metadata": {},
   "outputs": [],
   "source": []
  },
  {
   "cell_type": "markdown",
   "metadata": {},
   "source": [
    "<h2><a name=\"data-visualisasi-2\"></a>Chapter 3: Data Visualisasi part 2</h2>"
   ]
  },
  {
   "cell_type": "markdown",
   "metadata": {},
   "source": [
    "<h3><a name=\"modus\"></a>Modus</h3>"
   ]
  },
  {
   "cell_type": "markdown",
   "metadata": {},
   "source": [
    "<h2><a name=\"regresi-linier-sederhana\"></a>Chapter 4: Regresi Linier Sederhana</h2>"
   ]
  },
  {
   "cell_type": "markdown",
   "metadata": {},
   "source": [
    "<h3><a name=\"rentang\"></a>Rentang</h3>"
   ]
  },
  {
   "cell_type": "code",
   "execution_count": null,
   "metadata": {},
   "outputs": [],
   "source": []
  }
 ],
 "metadata": {
  "kernelspec": {
   "display_name": "Python 3",
   "language": "python",
   "name": "python3"
  },
  "language_info": {
   "codemirror_mode": {
    "name": "ipython",
    "version": 3
   },
   "file_extension": ".py",
   "mimetype": "text/x-python",
   "name": "python",
   "nbconvert_exporter": "python",
   "pygments_lexer": "ipython3",
   "version": "3.8.3"
  }
 },
 "nbformat": 4,
 "nbformat_minor": 4
}
