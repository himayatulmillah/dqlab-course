{
 "cells": [
  {
   "cell_type": "markdown",
   "metadata": {},
   "source": [
    "# Data Science Project: Analisis Data COVID19 di Dunia & ASEAN"
   ]
  },
  {
   "cell_type": "markdown",
   "metadata": {},
   "source": [
    "<p><b>About :</b> Dengan menyelesaikan module ini, kamu akan mempraktekkan proses pengambilan data melalui Python API Request. Di samping itu kamu akan belajar untuk menggunakan merge dataset menggunakan PANDAS dan membuat visualisasi menggunakan Matplotlib.</p>\n",
    "\n",
    "<p><b>Course :</b> <a href=https://academy.dqlab.id/main/package/practice/260?pf=0>Data Science Project: Analisis Data COVID19 di Dunia & ASEAN</a></p>"
   ]
  },
  {
   "cell_type": "markdown",
   "metadata": {},
   "source": [
    "<h2>Module Content:</h2>\n",
    "\n",
    "<div class=\"alert alert-block alert-info\" style=\"margin-top: 20px\">\n",
    "    <ul>\n",
    "        <li><a href=\"#pendahuluan\">Pendahuluan</a></li>\n",
    "        <li><a href=\"#mengakses-data-covid19\">Mengakses Data Covid-19 Dari https://covid19-api.org</a></li>\n",
    "        <li><a href=\"#kasus-tertinggi\">Kasus Covid-19 di Dunia dan Negara Mana yang Tertinggi</a></li>\n",
    "        <li><a href=\"#kasus-covid19-di-asean\">Kasus Covid-19 di ASEAN</a></li>\n",
    "    </ul>\n",
    "</div>"
   ]
  },
  {
   "cell_type": "markdown",
   "metadata": {},
   "source": [
    "<h2><a name=\"pendahuluan\"></a>Chapter 1: Pendahuluan</h2>"
   ]
  },
  {
   "cell_type": "markdown",
   "metadata": {},
   "source": [
    "Covid19 adalah pandemi yang sudah mewabah ke seluruh dunia. Sebagian besar negara-negara di dunia sudah terjangkit. Penanganan tiap-tiap negara pun berbeda, sesuai dengan kebijakan pemerintah. Hal ini mengakibatkan perbedaan trend kenaikan atau penurunan kasus covid berbeda-beda tiap negara.\n",
    "\n",
    "Pada kasus kali ini, kita akan mencoba menggali data covid19 dari salah satu open api yang tersedia yaitu https://covid19-api.org/."
   ]
  },
  {
   "cell_type": "markdown",
   "metadata": {},
   "source": [
    "<h4>Import Library</h4>"
   ]
  },
  {
   "cell_type": "code",
   "execution_count": 26,
   "metadata": {},
   "outputs": [],
   "source": [
    "import json\n",
    "import numpy as np\n",
    "import pandas as pd\n",
    "import requests\n",
    "import matplotlib.pyplot as plt\n",
    "import datetime"
   ]
  },
  {
   "cell_type": "markdown",
   "metadata": {},
   "source": [
    "<h2><a name=\"mengakses-data-covid19\"></a>Chapter 2: Mengakses Data Covid-19 Dari https://covid19-api.org</h2>"
   ]
  },
  {
   "cell_type": "markdown",
   "metadata": {},
   "source": [
    "<h4>Membuat Fungsi get API</h4>"
   ]
  },
  {
   "cell_type": "markdown",
   "metadata": {},
   "source": [
    "Buat fungsi python <code>get_json</code> dengan parameter <code>api_url</code>. fungsi ini akan mengembalikan value berupa python dictionary jika <code>status_code</code> yang dihasilkan adalah 200. Jika tidak, maka value yang dikembalikan adalah <code>None</code>."
   ]
  },
  {
   "cell_type": "code",
   "execution_count": 8,
   "metadata": {},
   "outputs": [],
   "source": [
    "def get_json(api_url):\n",
    "    response = requests.get(api_url)\n",
    "    if response.status_code == 200:\n",
    "        return json.loads(response.content.decode('utf-8'))\n",
    "    else:\n",
    "        return response.status_code"
   ]
  },
  {
   "cell_type": "markdown",
   "metadata": {},
   "source": [
    "<h4>Memanggil API Covid19</h4>"
   ]
  },
  {
   "cell_type": "markdown",
   "metadata": {},
   "source": [
    "Rekapitulasi data COVID-19 global berada di https://covid19-api.org/. Gunakan parameter <code>record_date</code> untuk mengambil data covid19 di seluruh negara pada tanggal tertentu. Untuk kasus ini, gunakan <code>record_date</code> '2020-08-17', dan masukkan hasil respon api ke variable <code>df_covid_worldwide</code>.\n",
    "\n",
    "Untuk mendapatkan dataframe covid19, gunakan fungsi <code>pd.json_normalize</code> dan panggil function yang sudah dibuat sebelumnya, yaitu <code>get_json()</code> Print sample data covid dengan menggunakan <code>head()</code> function."
   ]
  },
  {
   "cell_type": "code",
   "execution_count": 9,
   "metadata": {
    "collapsed": true
   },
   "outputs": [
    {
     "ename": "TypeError",
     "evalue": "'int' object is not iterable",
     "output_type": "error",
     "traceback": [
      "\u001b[1;31m---------------------------------------------------------------------------\u001b[0m",
      "\u001b[1;31mTypeError\u001b[0m                                 Traceback (most recent call last)",
      "\u001b[1;32m<ipython-input-9-a8701d863310>\u001b[0m in \u001b[0;36m<module>\u001b[1;34m\u001b[0m\n\u001b[0;32m      1\u001b[0m \u001b[0mrecord_date\u001b[0m \u001b[1;33m=\u001b[0m \u001b[1;34m'2020-08-17'\u001b[0m\u001b[1;33m\u001b[0m\u001b[1;33m\u001b[0m\u001b[0m\n\u001b[0;32m      2\u001b[0m \u001b[0mcovid_url\u001b[0m \u001b[1;33m=\u001b[0m \u001b[1;34m'https://covid19-api.org/api/status?date='\u001b[0m\u001b[1;33m+\u001b[0m\u001b[0mrecord_date\u001b[0m\u001b[1;33m\u001b[0m\u001b[1;33m\u001b[0m\u001b[0m\n\u001b[1;32m----> 3\u001b[1;33m \u001b[0mdf_covid_worldwide\u001b[0m \u001b[1;33m=\u001b[0m \u001b[0mpd\u001b[0m\u001b[1;33m.\u001b[0m\u001b[0mjson_normalize\u001b[0m\u001b[1;33m(\u001b[0m\u001b[0mget_json\u001b[0m\u001b[1;33m(\u001b[0m\u001b[0mcovid_url\u001b[0m\u001b[1;33m)\u001b[0m\u001b[1;33m)\u001b[0m\u001b[1;33m\u001b[0m\u001b[1;33m\u001b[0m\u001b[0m\n\u001b[0m\u001b[0;32m      4\u001b[0m \u001b[1;33m\u001b[0m\u001b[0m\n\u001b[0;32m      5\u001b[0m \u001b[0mdf_covid_worldwide\u001b[0m\u001b[1;33m.\u001b[0m\u001b[0mhead\u001b[0m\u001b[1;33m(\u001b[0m\u001b[1;33m)\u001b[0m\u001b[1;33m\u001b[0m\u001b[1;33m\u001b[0m\u001b[0m\n",
      "\u001b[1;32m~\\anaconda3\\lib\\site-packages\\pandas\\io\\json\\_normalize.py\u001b[0m in \u001b[0;36m_json_normalize\u001b[1;34m(data, record_path, meta, meta_prefix, record_prefix, errors, sep, max_level)\u001b[0m\n\u001b[0;32m    268\u001b[0m \u001b[1;33m\u001b[0m\u001b[0m\n\u001b[0;32m    269\u001b[0m     \u001b[1;32mif\u001b[0m \u001b[0mrecord_path\u001b[0m \u001b[1;32mis\u001b[0m \u001b[1;32mNone\u001b[0m\u001b[1;33m:\u001b[0m\u001b[1;33m\u001b[0m\u001b[1;33m\u001b[0m\u001b[0m\n\u001b[1;32m--> 270\u001b[1;33m         \u001b[1;32mif\u001b[0m \u001b[0many\u001b[0m\u001b[1;33m(\u001b[0m\u001b[1;33m[\u001b[0m\u001b[0misinstance\u001b[0m\u001b[1;33m(\u001b[0m\u001b[0mx\u001b[0m\u001b[1;33m,\u001b[0m \u001b[0mdict\u001b[0m\u001b[1;33m)\u001b[0m \u001b[1;32mfor\u001b[0m \u001b[0mx\u001b[0m \u001b[1;32min\u001b[0m \u001b[0my\u001b[0m\u001b[1;33m.\u001b[0m\u001b[0mvalues\u001b[0m\u001b[1;33m(\u001b[0m\u001b[1;33m)\u001b[0m\u001b[1;33m]\u001b[0m \u001b[1;32mfor\u001b[0m \u001b[0my\u001b[0m \u001b[1;32min\u001b[0m \u001b[0mdata\u001b[0m\u001b[1;33m)\u001b[0m\u001b[1;33m:\u001b[0m\u001b[1;33m\u001b[0m\u001b[1;33m\u001b[0m\u001b[0m\n\u001b[0m\u001b[0;32m    271\u001b[0m             \u001b[1;31m# naive normalization, this is idempotent for flat records\u001b[0m\u001b[1;33m\u001b[0m\u001b[1;33m\u001b[0m\u001b[1;33m\u001b[0m\u001b[0m\n\u001b[0;32m    272\u001b[0m             \u001b[1;31m# and potentially will inflate the data considerably for\u001b[0m\u001b[1;33m\u001b[0m\u001b[1;33m\u001b[0m\u001b[1;33m\u001b[0m\u001b[0m\n",
      "\u001b[1;31mTypeError\u001b[0m: 'int' object is not iterable"
     ]
    }
   ],
   "source": [
    "record_date = '2020-08-17'\n",
    "covid_url = 'https://covid19-api.org/api/status?date='+record_date\n",
    "df_covid_worldwide = pd.json_normalize(get_json(covid_url))\n",
    "\n",
    "df_covid_worldwide.head()"
   ]
  },
  {
   "cell_type": "code",
   "execution_count": 10,
   "metadata": {
    "scrolled": false
   },
   "outputs": [
    {
     "data": {
      "text/html": [
       "<div>\n",
       "<style scoped>\n",
       "    .dataframe tbody tr th:only-of-type {\n",
       "        vertical-align: middle;\n",
       "    }\n",
       "\n",
       "    .dataframe tbody tr th {\n",
       "        vertical-align: top;\n",
       "    }\n",
       "\n",
       "    .dataframe thead th {\n",
       "        text-align: right;\n",
       "    }\n",
       "</style>\n",
       "<table border=\"1\" class=\"dataframe\">\n",
       "  <thead>\n",
       "    <tr style=\"text-align: right;\">\n",
       "      <th></th>\n",
       "      <th>country</th>\n",
       "      <th>last_update</th>\n",
       "      <th>cases</th>\n",
       "      <th>deaths</th>\n",
       "      <th>recovered</th>\n",
       "    </tr>\n",
       "  </thead>\n",
       "  <tbody>\n",
       "    <tr>\n",
       "      <th>0</th>\n",
       "      <td>US</td>\n",
       "      <td>2020-08-16T23:27:50</td>\n",
       "      <td>5401167</td>\n",
       "      <td>170019</td>\n",
       "      <td>1833067</td>\n",
       "    </tr>\n",
       "    <tr>\n",
       "      <th>1</th>\n",
       "      <td>BR</td>\n",
       "      <td>2020-08-16T23:27:50</td>\n",
       "      <td>3340197</td>\n",
       "      <td>107852</td>\n",
       "      <td>2655017</td>\n",
       "    </tr>\n",
       "    <tr>\n",
       "      <th>2</th>\n",
       "      <td>IN</td>\n",
       "      <td>2020-08-16T23:27:50</td>\n",
       "      <td>2589682</td>\n",
       "      <td>49980</td>\n",
       "      <td>1862258</td>\n",
       "    </tr>\n",
       "    <tr>\n",
       "      <th>3</th>\n",
       "      <td>RU</td>\n",
       "      <td>2020-08-16T23:27:50</td>\n",
       "      <td>920719</td>\n",
       "      <td>15653</td>\n",
       "      <td>731444</td>\n",
       "    </tr>\n",
       "    <tr>\n",
       "      <th>4</th>\n",
       "      <td>ZA</td>\n",
       "      <td>2020-08-16T23:27:50</td>\n",
       "      <td>587345</td>\n",
       "      <td>11839</td>\n",
       "      <td>472377</td>\n",
       "    </tr>\n",
       "  </tbody>\n",
       "</table>\n",
       "</div>"
      ],
      "text/plain": [
       "  country          last_update    cases  deaths  recovered\n",
       "0      US  2020-08-16T23:27:50  5401167  170019    1833067\n",
       "1      BR  2020-08-16T23:27:50  3340197  107852    2655017\n",
       "2      IN  2020-08-16T23:27:50  2589682   49980    1862258\n",
       "3      RU  2020-08-16T23:27:50   920719   15653     731444\n",
       "4      ZA  2020-08-16T23:27:50   587345   11839     472377"
      ]
     },
     "execution_count": 10,
     "metadata": {},
     "output_type": "execute_result"
    }
   ],
   "source": [
    "df_covid_worldwide.head()"
   ]
  },
  {
   "cell_type": "markdown",
   "metadata": {},
   "source": [
    "<h4>Mengubah Format Date</h4>"
   ]
  },
  {
   "cell_type": "markdown",
   "metadata": {},
   "source": [
    "Ubah format kolom <b>'last_update'</b> menggunakan fungsi <code>to_datetime</code> dengan format <b>YYYY-mm-dd HH:MM:SS</b>. Lalu ubah bentuk datetime ke bentuk date dengan fungsi <code>date()</code> melalui fungsi <code>lambda</code> untuk mengubah setiap row-nya."
   ]
  },
  {
   "cell_type": "code",
   "execution_count": 11,
   "metadata": {},
   "outputs": [],
   "source": [
    "df_covid_worldwide['last_update'] = pd.to_datetime(df_covid_worldwide['last_update'], format='%Y-%m-%d %H:%M:%S')\n",
    "df_covid_worldwide['last_update'] = df_covid_worldwide['last_update'].apply(lambda x: x.date())"
   ]
  },
  {
   "cell_type": "markdown",
   "metadata": {},
   "source": [
    "<h4>Mengambil Data Countries</h4>"
   ]
  },
  {
   "cell_type": "markdown",
   "metadata": {},
   "source": [
    "Buatlah dataframe <b>countries</b> dengan memanggil variable <b>countries_url</b> ke api covid19-api.org. Lalu ubah nama kolom alpha2 menjadi country, kemudian ambil hanya kolom name dan country saja untuk dataframe countries (df_countries) ini."
   ]
  },
  {
   "cell_type": "code",
   "execution_count": 16,
   "metadata": {},
   "outputs": [
    {
     "data": {
      "text/html": [
       "<div>\n",
       "<style scoped>\n",
       "    .dataframe tbody tr th:only-of-type {\n",
       "        vertical-align: middle;\n",
       "    }\n",
       "\n",
       "    .dataframe tbody tr th {\n",
       "        vertical-align: top;\n",
       "    }\n",
       "\n",
       "    .dataframe thead th {\n",
       "        text-align: right;\n",
       "    }\n",
       "</style>\n",
       "<table border=\"1\" class=\"dataframe\">\n",
       "  <thead>\n",
       "    <tr style=\"text-align: right;\">\n",
       "      <th></th>\n",
       "      <th>name</th>\n",
       "      <th>country</th>\n",
       "    </tr>\n",
       "  </thead>\n",
       "  <tbody>\n",
       "    <tr>\n",
       "      <th>0</th>\n",
       "      <td>Afghanistan</td>\n",
       "      <td>AF</td>\n",
       "    </tr>\n",
       "    <tr>\n",
       "      <th>1</th>\n",
       "      <td>Albania</td>\n",
       "      <td>AL</td>\n",
       "    </tr>\n",
       "    <tr>\n",
       "      <th>2</th>\n",
       "      <td>Algeria</td>\n",
       "      <td>DZ</td>\n",
       "    </tr>\n",
       "    <tr>\n",
       "      <th>3</th>\n",
       "      <td>Andorra</td>\n",
       "      <td>AD</td>\n",
       "    </tr>\n",
       "    <tr>\n",
       "      <th>4</th>\n",
       "      <td>Angola</td>\n",
       "      <td>AO</td>\n",
       "    </tr>\n",
       "  </tbody>\n",
       "</table>\n",
       "</div>"
      ],
      "text/plain": [
       "          name country\n",
       "0  Afghanistan      AF\n",
       "1      Albania      AL\n",
       "2      Algeria      DZ\n",
       "3      Andorra      AD\n",
       "4       Angola      AO"
      ]
     },
     "execution_count": 16,
     "metadata": {},
     "output_type": "execute_result"
    }
   ],
   "source": [
    "countries_url = 'https://covid19-api.org/api/countries'\n",
    "df_countries = pd.json_normalize(get_json(countries_url))\n",
    "df_countries = df_countries.rename(columns={'alpha2': 'country'})[['name','country']]\n",
    "\n",
    "df_countries.head()"
   ]
  },
  {
   "cell_type": "markdown",
   "metadata": {},
   "source": [
    "<h2><a name=\"kasus-tertinggi\"></a>Chapter 3: Kasus Covid-19 di Dunia dan Negara Mana yang Tertinggi</h2>"
   ]
  },
  {
   "cell_type": "markdown",
   "metadata": {},
   "source": [
    "<h4>Merge Covid19 Data dan Countries</h4>"
   ]
  },
  {
   "cell_type": "markdown",
   "metadata": {},
   "source": [
    "Selanjutnya adalah mapping data covid19 dan data country. Gunakan fungsi <code>merge</code> pada pandas untuk menggabungkan <code>df_covid_worldwide</code> dan <code>df_countries</code>. Untuk merge, gunakan kolom country. Lalu print sample data dengan menggunakan <code>head()</code>."
   ]
  },
  {
   "cell_type": "code",
   "execution_count": 18,
   "metadata": {},
   "outputs": [
    {
     "data": {
      "text/html": [
       "<div>\n",
       "<style scoped>\n",
       "    .dataframe tbody tr th:only-of-type {\n",
       "        vertical-align: middle;\n",
       "    }\n",
       "\n",
       "    .dataframe tbody tr th {\n",
       "        vertical-align: top;\n",
       "    }\n",
       "\n",
       "    .dataframe thead th {\n",
       "        text-align: right;\n",
       "    }\n",
       "</style>\n",
       "<table border=\"1\" class=\"dataframe\">\n",
       "  <thead>\n",
       "    <tr style=\"text-align: right;\">\n",
       "      <th></th>\n",
       "      <th>country</th>\n",
       "      <th>last_update</th>\n",
       "      <th>cases</th>\n",
       "      <th>deaths</th>\n",
       "      <th>recovered</th>\n",
       "      <th>name</th>\n",
       "    </tr>\n",
       "  </thead>\n",
       "  <tbody>\n",
       "    <tr>\n",
       "      <th>0</th>\n",
       "      <td>US</td>\n",
       "      <td>2020-08-16</td>\n",
       "      <td>5401167</td>\n",
       "      <td>170019</td>\n",
       "      <td>1833067</td>\n",
       "      <td>United States of America</td>\n",
       "    </tr>\n",
       "    <tr>\n",
       "      <th>1</th>\n",
       "      <td>BR</td>\n",
       "      <td>2020-08-16</td>\n",
       "      <td>3340197</td>\n",
       "      <td>107852</td>\n",
       "      <td>2655017</td>\n",
       "      <td>Brazil</td>\n",
       "    </tr>\n",
       "    <tr>\n",
       "      <th>2</th>\n",
       "      <td>IN</td>\n",
       "      <td>2020-08-16</td>\n",
       "      <td>2589682</td>\n",
       "      <td>49980</td>\n",
       "      <td>1862258</td>\n",
       "      <td>India</td>\n",
       "    </tr>\n",
       "    <tr>\n",
       "      <th>3</th>\n",
       "      <td>RU</td>\n",
       "      <td>2020-08-16</td>\n",
       "      <td>920719</td>\n",
       "      <td>15653</td>\n",
       "      <td>731444</td>\n",
       "      <td>Russian Federation</td>\n",
       "    </tr>\n",
       "    <tr>\n",
       "      <th>4</th>\n",
       "      <td>ZA</td>\n",
       "      <td>2020-08-16</td>\n",
       "      <td>587345</td>\n",
       "      <td>11839</td>\n",
       "      <td>472377</td>\n",
       "      <td>South Africa</td>\n",
       "    </tr>\n",
       "  </tbody>\n",
       "</table>\n",
       "</div>"
      ],
      "text/plain": [
       "  country last_update    cases  deaths  recovered                      name\n",
       "0      US  2020-08-16  5401167  170019    1833067  United States of America\n",
       "1      BR  2020-08-16  3340197  107852    2655017                    Brazil\n",
       "2      IN  2020-08-16  2589682   49980    1862258                     India\n",
       "3      RU  2020-08-16   920719   15653     731444        Russian Federation\n",
       "4      ZA  2020-08-16   587345   11839     472377              South Africa"
      ]
     },
     "execution_count": 18,
     "metadata": {},
     "output_type": "execute_result"
    }
   ],
   "source": [
    "df_covid_denormalized = pd.merge(df_covid_worldwide, df_countries, on='country')\n",
    "\n",
    "df_covid_denormalized.head()"
   ]
  },
  {
   "cell_type": "markdown",
   "metadata": {},
   "source": [
    "<h4>Menghitung Fatality Ratio</h4>"
   ]
  },
  {
   "cell_type": "markdown",
   "metadata": {},
   "source": [
    "Tambahkan satu kolom tambahan yaitu <b>fatality_ratio</b>, yang merupakan pembagian antara kolom deaths dan cases."
   ]
  },
  {
   "cell_type": "code",
   "execution_count": 19,
   "metadata": {},
   "outputs": [],
   "source": [
    "df_covid_denormalized['fatality_ratio'] = df_covid_denormalized['deaths']/df_covid_denormalized['cases']"
   ]
  },
  {
   "cell_type": "markdown",
   "metadata": {},
   "source": [
    "<h4>Negara-negara dengan Fatality Ratio Tertinggi</h4>"
   ]
  },
  {
   "cell_type": "markdown",
   "metadata": {},
   "source": [
    "Ambil top 20 negara dengan value kolom <b>fatality_ratio</b> tertinggi dengan menggunakan fungsi <code>sort_values</code>."
   ]
  },
  {
   "cell_type": "code",
   "execution_count": 20,
   "metadata": {},
   "outputs": [],
   "source": [
    "df_top_20_fatality_rate = df_covid_denormalized.sort_values(by='fatality_ratio', ascending=False).head(20)"
   ]
  },
  {
   "cell_type": "markdown",
   "metadata": {},
   "source": [
    "<h4>Visualisasi Negara dengan Fatality Ratio Tertinggi</h4>"
   ]
  },
  {
   "cell_type": "markdown",
   "metadata": {},
   "source": [
    "Untuk memvisualisasikan negara-negara dengan kasus fatality rate tertinggi akibat covid-19 ini dapat dilakukan dengan menggunakan bar chart.  Di sini tentukan terlebih dahulu isi dari variable x axis dan y axis.\n",
    "\n",
    "Variabel <b>x</b> axis adalah kolom name, dan kolom <b>y</b> atau value nya adalah kolom <b>fatality_ratio</b> dan gunakan fungsi <code>plt.bar([value x axis, value y axis])</code>.\n",
    "\n",
    "Label sumbu x diputar 90 derajat untuk menghindari bertumpuknya nama-nama negara pada posisi 0 derajat."
   ]
  },
  {
   "cell_type": "code",
   "execution_count": 21,
   "metadata": {},
   "outputs": [
    {
     "data": {
      "image/png": "[encoded data removed]",
      "text/plain": [
       "<Figure size 1440x576 with 1 Axes>"
      ]
     },
     "metadata": {
      "needs_background": "light"
     },
     "output_type": "display_data"
    }
   ],
   "source": [
    "plt.figure(figsize=(20, 8))\n",
    "x = df_top_20_fatality_rate['name']\n",
    "y = df_top_20_fatality_rate['fatality_ratio']\n",
    "plt.bar(x,y)\n",
    "plt.xlabel('Country Name')\n",
    "plt.ylabel('Fatality Rate')\n",
    "plt.title('Top 20 Highest Fatality Rate Countries')\n",
    "plt.xticks(rotation=90)\n",
    "plt.tight_layout()\n",
    "plt.show()"
   ]
  },
  {
   "cell_type": "markdown",
   "metadata": {},
   "source": [
    "<h2><a name=\"kasus-covid19-di-asean\"></a>Chapter 4: Kasus Covid-19 di ASEAN</h2>"
   ]
  },
  {
   "cell_type": "markdown",
   "metadata": {},
   "source": [
    "<h4>Menggabungkan Dataframe</h4>"
   ]
  },
  {
   "cell_type": "markdown",
   "metadata": {},
   "source": [
    "Selanjutnya adalah membandingkan kasus covid19 di Indonesia (ID) dengan negara-negara tetangga, yaitu:\n",
    "<ul>\n",
    "    <li>MY -> Malaysia,</li>\n",
    "    <li>SG -> Singapure,</li>\n",
    "    <li>TH -> Thailand,</li>\n",
    "    <li>VN -> Vietnam.</li>\n",
    "</ul>\n",
    "Untuk itu, api country dipanggil berkali-kali sebanyak negara yang akan kita bandingkan.\n",
    "\n",
    "Gunakan fungsi <code>pd.json_normalize</code> dan panggil function yang sudah dibuat sebelumnya, yaitu <code>get_json()</code>.\n",
    "\n",
    "Gunakan fungsi <code>datetime</code> untuk merubah string ke bentuk datetime (YYYY-mm-dd HH:MM:SS) yang selanjutnya diubah ke format date."
   ]
  },
  {
   "cell_type": "code",
   "execution_count": 25,
   "metadata": {},
   "outputs": [
    {
     "data": {
      "text/html": [
       "<div>\n",
       "<style scoped>\n",
       "    .dataframe tbody tr th:only-of-type {\n",
       "        vertical-align: middle;\n",
       "    }\n",
       "\n",
       "    .dataframe tbody tr th {\n",
       "        vertical-align: top;\n",
       "    }\n",
       "\n",
       "    .dataframe thead th {\n",
       "        text-align: right;\n",
       "    }\n",
       "</style>\n",
       "<table border=\"1\" class=\"dataframe\">\n",
       "  <thead>\n",
       "    <tr style=\"text-align: right;\">\n",
       "      <th></th>\n",
       "      <th>country</th>\n",
       "      <th>last_update</th>\n",
       "      <th>cases</th>\n",
       "      <th>deaths</th>\n",
       "      <th>recovered</th>\n",
       "    </tr>\n",
       "  </thead>\n",
       "  <tbody>\n",
       "    <tr>\n",
       "      <th>0</th>\n",
       "      <td>VN</td>\n",
       "      <td>2021-03-05</td>\n",
       "      <td>2494</td>\n",
       "      <td>35</td>\n",
       "      <td>1920</td>\n",
       "    </tr>\n",
       "    <tr>\n",
       "      <th>1</th>\n",
       "      <td>VN</td>\n",
       "      <td>2021-03-04</td>\n",
       "      <td>2488</td>\n",
       "      <td>35</td>\n",
       "      <td>1920</td>\n",
       "    </tr>\n",
       "    <tr>\n",
       "      <th>2</th>\n",
       "      <td>VN</td>\n",
       "      <td>2021-03-03</td>\n",
       "      <td>2482</td>\n",
       "      <td>35</td>\n",
       "      <td>1898</td>\n",
       "    </tr>\n",
       "    <tr>\n",
       "      <th>3</th>\n",
       "      <td>VN</td>\n",
       "      <td>2021-03-02</td>\n",
       "      <td>2472</td>\n",
       "      <td>35</td>\n",
       "      <td>1898</td>\n",
       "    </tr>\n",
       "    <tr>\n",
       "      <th>4</th>\n",
       "      <td>VN</td>\n",
       "      <td>2021-03-01</td>\n",
       "      <td>2448</td>\n",
       "      <td>35</td>\n",
       "      <td>1876</td>\n",
       "    </tr>\n",
       "  </tbody>\n",
       "</table>\n",
       "</div>"
      ],
      "text/plain": [
       "  country last_update  cases  deaths  recovered\n",
       "0      VN  2021-03-05   2494      35       1920\n",
       "1      VN  2021-03-04   2488      35       1920\n",
       "2      VN  2021-03-03   2482      35       1898\n",
       "3      VN  2021-03-02   2472      35       1898\n",
       "4      VN  2021-03-01   2448      35       1876"
      ]
     },
     "execution_count": 25,
     "metadata": {},
     "output_type": "execute_result"
    }
   ],
   "source": [
    "countries = ['ID','MY','SG','TH','VN']\n",
    "i = 0\n",
    "for country in countries:\n",
    "    covid_timeline_url = 'https://covid19-api.org/api/timeline/'+country\n",
    "    df_covid_timeline = pd.json_normalize(get_json(covid_timeline_url))\n",
    "    df_covid_timeline['last_update'] = pd.to_datetime(df_covid_timeline['last_update'], format='%Y-%m-%d %H:%M:%S')\n",
    "    df_covid_timeline['last_update'] = df_covid_timeline['last_update'].apply(lambda x: x.date())\n",
    "    if i==0:\n",
    "        df_covid_timeline_merged = df_covid_timeline\n",
    "    else:\n",
    "        df_covid_timeline_merged = df_covid_timeline.append(df_covid_timeline_merged, ignore_index=True)\n",
    "        i=i+1\n",
    "    \n",
    "df_covid_timeline_merged.head()"
   ]
  },
  {
   "cell_type": "markdown",
   "metadata": {},
   "source": [
    "<h4>Merge Data Covid19 Dengan Data Country</h4>"
   ]
  },
  {
   "cell_type": "markdown",
   "metadata": {},
   "source": [
    "Lalu gabungkan <code>df_covid_timeline_merged</code> dengan <code>df_countries</code> dengan kolom <b>country</b> sebagai pivot."
   ]
  },
  {
   "cell_type": "code",
   "execution_count": 27,
   "metadata": {},
   "outputs": [],
   "source": [
    "df_covid_timeline_denormalized = pd.merge(df_covid_timeline_merged, df_countries, on='country')"
   ]
  },
  {
   "cell_type": "markdown",
   "metadata": {},
   "source": [
    "<h4>Kasus Covid-19 di ASEAN pada Bulan Maret 2020</h4>"
   ]
  },
  {
   "cell_type": "markdown",
   "metadata": {},
   "source": [
    "Filter kolom <b>last_update</b> dari data covid19 sehingga hanya data dari tanggal 1 Maret 2020 ke atas yangdiambil. Format <code>datetime.date</code> menggunakan format YYYY, mm, dd."
   ]
  },
  {
   "cell_type": "code",
   "execution_count": 28,
   "metadata": {},
   "outputs": [],
   "source": [
    "df_covid_timeline_denormalized = df_covid_timeline_denormalized[(df_covid_timeline_denormalized['last_update'] \n",
    "                                                                 >= datetime.date(2020, 3, 1))]"
   ]
  },
  {
   "cell_type": "markdown",
   "metadata": {},
   "source": [
    "<h4>Visualisasi Kasus Covid-19 di ASEAN</h4>"
   ]
  },
  {
   "cell_type": "markdown",
   "metadata": {},
   "source": [
    "Buat variable x dan y dimana x adalah tanggal (<b>last_update</b>) pada tiap-tiap negara dan y adalah jumlah kasus (<b>cases</b>) pada tiap-tiap negara. Lalu plot x dan y untuk menggambar line chart."
   ]
  },
  {
   "cell_type": "code",
   "execution_count": 29,
   "metadata": {},
   "outputs": [
    {
     "data": {
      "image/png": "[encoded data removed]",
      "text/plain": [
       "<Figure size 432x288 with 1 Axes>"
      ]
     },
     "metadata": {
      "needs_background": "light"
     },
     "output_type": "display_data"
    }
   ],
   "source": [
    "plt.clf()\n",
    "countries = ['ID','MY','SG','TH','VN']\n",
    "for country in countries:\n",
    "    country_data = df_covid_timeline_denormalized['country']==country\n",
    "    x = df_covid_timeline_denormalized[country_data]['last_update']\n",
    "    y = df_covid_timeline_denormalized[country_data]['cases']\n",
    "    plt.plot(x, y, label = country)\n",
    "\n",
    "plt.legend()\n",
    "plt.xlabel('Record Date')\n",
    "plt.ylabel('Total Cases')\n",
    "plt.title('Asean Covid19 Cases Comparison')\n",
    "plt.show()"
   ]
  },
  {
   "cell_type": "code",
   "execution_count": null,
   "metadata": {},
   "outputs": [],
   "source": []
  }
 ],
 "metadata": {
  "kernelspec": {
   "display_name": "Python 3",
   "language": "python",
   "name": "python3"
  },
  "language_info": {
   "codemirror_mode": {
    "name": "ipython",
    "version": 3
   },
   "file_extension": ".py",
   "mimetype": "text/x-python",
   "name": "python",
   "nbconvert_exporter": "python",
   "pygments_lexer": "ipython3",
   "version": "3.8.3"
  }
 },
 "nbformat": 4,
 "nbformat_minor": 4
}
