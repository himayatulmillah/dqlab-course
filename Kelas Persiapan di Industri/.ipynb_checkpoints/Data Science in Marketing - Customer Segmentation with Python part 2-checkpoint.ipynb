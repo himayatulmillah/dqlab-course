{
 "cells": [
  {
   "cell_type": "markdown",
   "metadata": {},
   "source": [
    "# Data Science in Marketing : Customer Segmentation with Python part 2"
   ]
  },
  {
   "cell_type": "markdown",
   "metadata": {},
   "source": [
    "<p><b>About :</b> Modul ini merupakan lanjutan dari modul Customer Segmentation with Python part 1. Pada modul ini, kamu akan mempelajari tentang :\n",
    "<ul>\n",
    "    <li>Melakukan pemrosesan awal data dengan merubah kolom text menjadi numerik dan melakukan standardisasi kolom numerik.</li>\n",
    "    <li>Membuat dan mengoptimalkan model menggunakan algoritma k-prototype.</li>\n",
    "    <li>Menggunakan model untuk meprediksi data-data baru.</li>\n",
    "</ul></p>\n",
    "\n",
    "<p><b>Course :</b> <a href=https://academy.dqlab.id/main/package/practice/294?pf=0>Data Science in Marketing : Customer Segmentation with Python part 2</a></p>"
   ]
  },
  {
   "cell_type": "markdown",
   "metadata": {},
   "source": [
    "<h2>Module Content:</h2>\n",
    "\n",
    "<div class=\"alert alert-block alert-info\" style=\"margin-top: 20px\">\n",
    "    <ul>\n",
    "        <li><a href=\"#permodelan\">Permodelan</a></li>\n",
    "        <li><a href=\"#mengoperasikan-model\">Mengoperasikan Model</a></li>\n",
    "    </ul>\n",
    "</div>"
   ]
  },
  {
   "cell_type": "markdown",
   "metadata": {},
   "source": [
    "<h2><a name=\"permodelan\"></a>Chapter 1: Permodelan</h2>"
   ]
  },
  {
   "cell_type": "markdown",
   "metadata": {},
   "source": [
    "<h4>Apa itu Clustering dan Algoritma K-Prototypes</h4>"
   ]
  },
  {
   "cell_type": "markdown",
   "metadata": {},
   "source": [
    "<b>Clustering</b> adalah proses pembagian objek-objek ke dalam beberapa kelompok (cluster) berdasarkan tingkat kemiripan antara satu objek dengan yang lain.Terdapat beberapa algoritma untuk melakukan clustering ini. Salah satu yang populer adalah k-means.\n",
    "\n",
    "<b>K-means</b> itu sendiri biasa nya hanya digunakan untuk data-data yang <b>bersifat numerik</b>. Sedangkan untuk yang <b>bersifat kategorikal</b> saja, kita bisa menggunakan <b>k-modes</b>.\n",
    "\n",
    "Lalu bagaimana apabila di data kita terdapat gabungan kategorikal dan numerikal variabel? Jawabannya kita bisa menggunakan algoritma k-prototype yang merupakan gabungan dari k-means dan k-modes. Hal ini bisa di lakukan dengan menggunakan library k-modes yang di dalamnya terdapat modul kprototype.\n",
    "\n",
    "Untuk menggunakan algoritma kprototype kamu perlu memasukkan jumlah cluster yang di kehendaki dan juga memberikan index kolom untuk kolom-kolom yang bersifat kategorikal.\n",
    "\n",
    "Untuk lebih lengkapnya kamu bisa melihat dokumentasi dari kprototype melalui link berikut https://github.com/nicodv/kmodes"
   ]
  },
  {
   "cell_type": "markdown",
   "metadata": {},
   "source": [
    "<h4>Mencari Jumlah Cluster yang Optimal</h4>"
   ]
  },
  {
   "cell_type": "markdown",
   "metadata": {},
   "source": [
    "Salah satu parameter penting yang harus di masukkan pada algoritma kprototype adalah jumlah cluster yang diinginkan. Oleh karena itu, kamu perlu mencari jumlah cluster yang optimal. Salah satu cara untuk mendapatkan nilai optimal tersebut adalah dengan menggunnakan bantuan 'elbow plot'.\n",
    "\n",
    "Elbow plot ini dapat di buat dengan cara  memvisualisasikan total jarak seluruh data kita ke pusat cluster nya. Selanjutnya kita memilih titik siku dari pola yang terbentuk dan menjadikannya sebagai jumlah cluster kita.\n",
    "\n",
    "Untuk melakukan hal ini kamu perlu menjalankan algoritma kprototypes dengan berbagai jumlah cluster. Selanjutnya kamu juga menyimpan nilai cost_ dan memvisualisasikan nya dengan line plot atau point plot.\n",
    "\n",
    "Buatlah elbow plot dengan jumlah cluster 2 sampai 9 dan tentukan jumlah cluster yang optimal."
   ]
  },
  {
   "cell_type": "code",
   "execution_count": 1,
   "metadata": {},
   "outputs": [
    {
     "data": {
      "image/png": "[encoded data removed]",
      "text/plain": [
       "<Figure size 432x288 with 1 Axes>"
      ]
     },
     "metadata": {
      "needs_background": "light"
     },
     "output_type": "display_data"
    }
   ],
   "source": [
    "from kmodes.kmodes import KModes  \n",
    "from kmodes.kprototypes import KPrototypes  \n",
    "import pandas as pd\n",
    "import seaborn as sns\n",
    "import matplotlib.pyplot as plt\n",
    "df_model = pd.read_csv('https://storage.googleapis.com/dqlab-dataset/df-customer-segmentation.csv')\n",
    "\n",
    "# Melakukan Iterasi untuk Mendapatkan nilai Cost  \n",
    "cost = {}  \n",
    "for k in range(2,10):  \n",
    "    kproto = KPrototypes (n_clusters = k,random_state=75)  \n",
    "    kproto.fit_predict(df_model, categorical=[0,1,2])  \n",
    "    cost [k]= kproto.cost_  \n",
    "\n",
    "# Memvisualisasikan Elbow Plot  \n",
    "sns.pointplot(x=list(cost.keys()), y=list(cost.values()))  \n",
    "plt.show()"
   ]
  },
  {
   "cell_type": "markdown",
   "metadata": {},
   "source": [
    "<h4>Membuat Model</h4>"
   ]
  },
  {
   "cell_type": "markdown",
   "metadata": {},
   "source": [
    "Selanjutnya kamu dapat melakukan pembuatan model dengan jumlah kluster yang sudah di dapat pada tahap sebelumnya yaitu 5 dan menyimpan hasilnya sebagai pickle file.\n",
    "\n",
    "Buatlah model Kprototypes dengan nilai k = 5 dan random state 75. Kemudian simpan hasilnya dalam bentuk pickle."
   ]
  },
  {
   "cell_type": "code",
   "execution_count": 3,
   "metadata": {},
   "outputs": [],
   "source": [
    "import pickle  \n",
    "from kmodes.kmodes import KModes  \n",
    "from kmodes.kprototypes import KPrototypes  \n",
    "  \n",
    "kproto = KPrototypes ( n_clusters = 5, random_state = 75)  \n",
    "kproto = kproto.fit(df_model, categorical=[0,1,2])  \n",
    "  \n",
    "#Save Model  \n",
    "pickle.dump(kproto, open('./Resources/cluster.pkl', 'wb'))  "
   ]
  },
  {
   "cell_type": "markdown",
   "metadata": {},
   "source": [
    "<h4>Menggunakan Model</h4>"
   ]
  },
  {
   "cell_type": "markdown",
   "metadata": {},
   "source": [
    "Model yang sudah kamu buat dapat di gunakan untuk menentukan setiap pelanggan masuk ke dalam cluster yang mana. Kali ini kamu akan menggunakan model tersebut untuk menentukan segmen pelanggan yang ada di data set.\n",
    "\n",
    "Tentukan cluster setiap pelanggan yang ada di dataset menggunakan model kproto yang sudah di buat sebelumnya. Kemudian gabungkan hasil prediksi tersebut dengan data awal (df) sehingga kita mendapatkan data pelanggan beserta nama cluster nya."
   ]
  },
  {
   "cell_type": "code",
   "execution_count": 6,
   "metadata": {},
   "outputs": [
    {
     "name": "stdout",
     "output_type": "stream",
     "text": [
      "segmen pelanggan: [3 1 2 2 0 4 3 2 4 4 2 2 3 3 0 4 4 2 0 1 0 2 4 0 0 2 0 4 2 2 1 3 1 0 4 0 4\n",
      " 3 4 1 4 0 4 0 4 0 2 3 4 3]\n",
      "\n"
     ]
    },
    {
     "data": {
      "text/html": [
       "<div>\n",
       "<style scoped>\n",
       "    .dataframe tbody tr th:only-of-type {\n",
       "        vertical-align: middle;\n",
       "    }\n",
       "\n",
       "    .dataframe tbody tr th {\n",
       "        vertical-align: top;\n",
       "    }\n",
       "\n",
       "    .dataframe thead th {\n",
       "        text-align: right;\n",
       "    }\n",
       "</style>\n",
       "<table border=\"1\" class=\"dataframe\">\n",
       "  <thead>\n",
       "    <tr style=\"text-align: right;\">\n",
       "      <th></th>\n",
       "      <th>Customer_ID</th>\n",
       "      <th>Nama Pelanggan</th>\n",
       "      <th>Jenis Kelamin</th>\n",
       "      <th>Umur</th>\n",
       "      <th>Profesi</th>\n",
       "      <th>Tipe Residen</th>\n",
       "      <th>NilaiBelanjaSetahun</th>\n",
       "      <th>cluster</th>\n",
       "    </tr>\n",
       "  </thead>\n",
       "  <tbody>\n",
       "    <tr>\n",
       "      <th>0</th>\n",
       "      <td>CUST-001</td>\n",
       "      <td>Budi Anggara</td>\n",
       "      <td>Pria</td>\n",
       "      <td>58</td>\n",
       "      <td>Wiraswasta</td>\n",
       "      <td>Sector</td>\n",
       "      <td>9497927</td>\n",
       "      <td>3</td>\n",
       "    </tr>\n",
       "    <tr>\n",
       "      <th>1</th>\n",
       "      <td>CUST-002</td>\n",
       "      <td>Shirley Ratuwati</td>\n",
       "      <td>Wanita</td>\n",
       "      <td>14</td>\n",
       "      <td>Pelajar</td>\n",
       "      <td>Cluster</td>\n",
       "      <td>2722700</td>\n",
       "      <td>1</td>\n",
       "    </tr>\n",
       "    <tr>\n",
       "      <th>2</th>\n",
       "      <td>CUST-003</td>\n",
       "      <td>Agus Cahyono</td>\n",
       "      <td>Pria</td>\n",
       "      <td>48</td>\n",
       "      <td>Professional</td>\n",
       "      <td>Cluster</td>\n",
       "      <td>5286429</td>\n",
       "      <td>2</td>\n",
       "    </tr>\n",
       "    <tr>\n",
       "      <th>3</th>\n",
       "      <td>CUST-004</td>\n",
       "      <td>Antonius Winarta</td>\n",
       "      <td>Pria</td>\n",
       "      <td>53</td>\n",
       "      <td>Professional</td>\n",
       "      <td>Cluster</td>\n",
       "      <td>5204498</td>\n",
       "      <td>2</td>\n",
       "    </tr>\n",
       "    <tr>\n",
       "      <th>4</th>\n",
       "      <td>CUST-005</td>\n",
       "      <td>Ibu Sri Wahyuni, IR</td>\n",
       "      <td>Wanita</td>\n",
       "      <td>41</td>\n",
       "      <td>Wiraswasta</td>\n",
       "      <td>Cluster</td>\n",
       "      <td>10615206</td>\n",
       "      <td>0</td>\n",
       "    </tr>\n",
       "  </tbody>\n",
       "</table>\n",
       "</div>"
      ],
      "text/plain": [
       "  Customer_ID       Nama Pelanggan Jenis Kelamin  Umur       Profesi  \\\n",
       "0    CUST-001         Budi Anggara          Pria    58    Wiraswasta   \n",
       "1    CUST-002     Shirley Ratuwati        Wanita    14       Pelajar   \n",
       "2    CUST-003         Agus Cahyono          Pria    48  Professional   \n",
       "3    CUST-004     Antonius Winarta          Pria    53  Professional   \n",
       "4    CUST-005  Ibu Sri Wahyuni, IR        Wanita    41    Wiraswasta   \n",
       "\n",
       "  Tipe Residen  NilaiBelanjaSetahun  cluster  \n",
       "0       Sector              9497927        3  \n",
       "1      Cluster              2722700        1  \n",
       "2      Cluster              5286429        2  \n",
       "3      Cluster              5204498        2  \n",
       "4      Cluster             10615206        0  "
      ]
     },
     "execution_count": 6,
     "metadata": {},
     "output_type": "execute_result"
    }
   ],
   "source": [
    "import pandas as pd\n",
    "df = pd.read_csv(\"https://dqlab-dataset.s3-ap-southeast-1.amazonaws.com/customer_segments.txt\", sep=\"\\t\") \n",
    "# Menentukan segmen tiap pelanggan    \n",
    "clusters =  kproto.predict(df_model, categorical=[0,1,2])    \n",
    "print('segmen pelanggan: {}\\n'.format(clusters))    \n",
    "    \n",
    "# Menggabungkan data awal dan segmen pelanggan    \n",
    "df_final = df.copy()    \n",
    "df_final['cluster'] = clusters\n",
    "df_final.head()"
   ]
  },
  {
   "cell_type": "markdown",
   "metadata": {},
   "source": [
    "<h4>Menampilkan Cluster Tiap Pelanggan</h4>"
   ]
  },
  {
   "cell_type": "markdown",
   "metadata": {},
   "source": [
    "Setelah kamu menggabungkan data awal pelanggan dan clusternya, kamu perlu untuk menampilkan dan mengobservasi hasilnya untuk membantu kamu dalam memberi nama tiap cluster berdasarkan karakteristiknya. Tampilkan data pelanggan yang di kelompokkan berdasarkan nomor clusternya."
   ]
  },
  {
   "cell_type": "code",
   "execution_count": 7,
   "metadata": {
    "scrolled": false
   },
   "outputs": [
    {
     "name": "stdout",
     "output_type": "stream",
     "text": [
      "\n",
      "Pelanggan cluster: 0\n",
      "\n",
      "   Customer_ID       Nama Pelanggan Jenis Kelamin  Umur     Profesi  \\\n",
      "4     CUST-005  Ibu Sri Wahyuni, IR        Wanita    41  Wiraswasta   \n",
      "14    CUST-015     Shirley Ratuwati        Wanita    20  Wiraswasta   \n",
      "18    CUST-019         Mega Pranoto        Wanita    32  Wiraswasta   \n",
      "20    CUST-021     Lestari Fabianto        Wanita    38  Wiraswasta   \n",
      "23    CUST-024        Putri Ginting        Wanita    39  Wiraswasta   \n",
      "24    CUST-025       Julia Setiawan        Wanita    29  Wiraswasta   \n",
      "26    CUST-027        Grace Mulyati        Wanita    35  Wiraswasta   \n",
      "33    CUST-034       Deasy Arisandi        Wanita    21  Wiraswasta   \n",
      "35    CUST-036       Ni Made Suasti        Wanita    30  Wiraswasta   \n",
      "41    CUST-042         Yuliana Wati        Wanita    26  Wiraswasta   \n",
      "43    CUST-044                 Anna        Wanita    18  Wiraswasta   \n",
      "45    CUST-046         Elfira Surya        Wanita    25  Wiraswasta   \n",
      "\n",
      "   Tipe Residen  NilaiBelanjaSetahun  cluster  \n",
      "4       Cluster             10615206        0  \n",
      "14      Cluster             10365668        0  \n",
      "18      Cluster             10884508        0  \n",
      "20      Cluster              9222070        0  \n",
      "23      Cluster             10259572        0  \n",
      "24       Sector             10721998        0  \n",
      "26      Cluster              9114159        0  \n",
      "33       Sector              9759822        0  \n",
      "35      Cluster              9678994        0  \n",
      "41      Cluster              9880607        0  \n",
      "43      Cluster              9339737        0  \n",
      "45       Sector             10099807        0  \n",
      "\n",
      "Pelanggan cluster: 1\n",
      "\n",
      "   Customer_ID    Nama Pelanggan Jenis Kelamin  Umur    Profesi Tipe Residen  \\\n",
      "1     CUST-002  Shirley Ratuwati        Wanita    14    Pelajar      Cluster   \n",
      "19    CUST-020    Irene Novianto        Wanita    16    Pelajar       Sector   \n",
      "30    CUST-031     Eviana Handry        Wanita    19  Mahasiswa      Cluster   \n",
      "32    CUST-033   Cecilia Kusnadi        Wanita    19  Mahasiswa      Cluster   \n",
      "39    CUST-040    Irene Darmawan        Wanita    14    Pelajar       Sector   \n",
      "\n",
      "    NilaiBelanjaSetahun  cluster  \n",
      "1               2722700        1  \n",
      "19              2896845        1  \n",
      "30              3042773        1  \n",
      "32              3047926        1  \n",
      "39              2861855        1  \n",
      "\n",
      "Pelanggan cluster: 2\n",
      "\n",
      "   Customer_ID     Nama Pelanggan Jenis Kelamin  Umur           Profesi  \\\n",
      "2     CUST-003       Agus Cahyono          Pria    48      Professional   \n",
      "3     CUST-004   Antonius Winarta          Pria    53      Professional   \n",
      "7     CUST-008     Danang Santosa          Pria    52      Professional   \n",
      "10    CUST-011     Maria Suryawan        Wanita    50      Professional   \n",
      "11    CUST-012    Erliana Widjaja        Wanita    49      Professional   \n",
      "17    CUST-018        Nelly Halim        Wanita    63  Ibu Rumah Tangga   \n",
      "21    CUST-022       Novita Purba        Wanita    52      Professional   \n",
      "25    CUST-026  Christine Winarto        Wanita    55      Professional   \n",
      "28    CUST-029       Tia Hartanti        Wanita    56      Professional   \n",
      "29    CUST-030     Rosita Saragih        Wanita    46  Ibu Rumah Tangga   \n",
      "46    CUST-047        Mira Kurnia        Wanita    55  Ibu Rumah Tangga   \n",
      "\n",
      "   Tipe Residen  NilaiBelanjaSetahun  cluster  \n",
      "2       Cluster              5286429        2  \n",
      "3       Cluster              5204498        2  \n",
      "7       Cluster              5223569        2  \n",
      "10       Sector              5987367        2  \n",
      "11       Sector              5941914        2  \n",
      "17      Cluster              5340690        2  \n",
      "21      Cluster              5298157        2  \n",
      "25      Cluster              5269392        2  \n",
      "28      Cluster              5271845        2  \n",
      "29       Sector              5020976        2  \n",
      "46      Cluster              6130724        2  \n",
      "\n",
      "Pelanggan cluster: 3\n",
      "\n",
      "   Customer_ID    Nama Pelanggan Jenis Kelamin  Umur     Profesi Tipe Residen  \\\n",
      "0     CUST-001      Budi Anggara          Pria    58  Wiraswasta       Sector   \n",
      "6     CUST-007     Cahyono, Agus          Pria    64  Wiraswasta       Sector   \n",
      "12    CUST-013      Cahaya Putri        Wanita    64  Wiraswasta      Cluster   \n",
      "13    CUST-014    Mario Setiawan          Pria    60  Wiraswasta      Cluster   \n",
      "31    CUST-032   Chintya Winarni        Wanita    47  Wiraswasta       Sector   \n",
      "37    CUST-038      Agatha Salim        Wanita    46  Wiraswasta       Sector   \n",
      "47    CUST-048  Maria Hutagalung        Wanita    45  Wiraswasta       Sector   \n",
      "49    CUST-050    Lianna Nugraha        Wanita    55  Wiraswasta       Sector   \n",
      "\n",
      "    NilaiBelanjaSetahun  cluster  \n",
      "0               9497927        3  \n",
      "6               9837260        3  \n",
      "12              9333168        3  \n",
      "13              9471615        3  \n",
      "31             10663179        3  \n",
      "37             10477127        3  \n",
      "47             10390732        3  \n",
      "49             10569316        3  \n",
      "\n",
      "Pelanggan cluster: 4\n",
      "\n",
      "   Customer_ID         Nama Pelanggan Jenis Kelamin  Umur           Profesi  \\\n",
      "5     CUST-006        Rosalina Kurnia        Wanita    24      Professional   \n",
      "8     CUST-009  Elisabeth Suryadinata        Wanita    29      Professional   \n",
      "9     CUST-010         Mario Setiawan          Pria    33      Professional   \n",
      "15    CUST-016           Bambang Rudi          Pria    35      Professional   \n",
      "16    CUST-017              Yuni Sari        Wanita    32  Ibu Rumah Tangga   \n",
      "22    CUST-023        Denny Amiruddin          Pria    34      Professional   \n",
      "27    CUST-028          Adeline Huang        Wanita    40  Ibu Rumah Tangga   \n",
      "34    CUST-035                Ida Ayu        Wanita    39      Professional   \n",
      "36    CUST-037       Felicia Tandiono        Wanita    25      Professional   \n",
      "38    CUST-039           Gina Hidayat        Wanita    20      Professional   \n",
      "40    CUST-041       Shinta Aritonang        Wanita    24  Ibu Rumah Tangga   \n",
      "42    CUST-043           Yenna Sumadi        Wanita    31      Professional   \n",
      "44    CUST-045         Rismawati Juni        Wanita    22      Professional   \n",
      "48    CUST-049        Josephine Wahab        Wanita    33  Ibu Rumah Tangga   \n",
      "\n",
      "   Tipe Residen  NilaiBelanjaSetahun  cluster  \n",
      "5       Cluster              5215541        4  \n",
      "8        Sector              5993218        4  \n",
      "9       Cluster              5257448        4  \n",
      "15      Cluster              5262521        4  \n",
      "16      Cluster              5677762        4  \n",
      "22      Cluster              5239290        4  \n",
      "27      Cluster              6631680        4  \n",
      "34       Sector              5962575        4  \n",
      "36       Sector              5972787        4  \n",
      "38      Cluster              5257775        4  \n",
      "40      Cluster              6820976        4  \n",
      "42      Cluster              5268410        4  \n",
      "44      Cluster              5211041        4  \n",
      "48       Sector              4992585        4  \n"
     ]
    }
   ],
   "source": [
    "# Menampilkan data pelanggan berdasarkan cluster nya  \n",
    "for i in range (0, 5):  \n",
    "    print('\\nPelanggan cluster: {}\\n'.format(i))  \n",
    "    print(df_final[df_final['cluster']== i])"
   ]
  },
  {
   "cell_type": "markdown",
   "metadata": {},
   "source": [
    "<h4>Visualisasi Hasil Clustering - Box Plot</h4>"
   ]
  },
  {
   "cell_type": "markdown",
   "metadata": {},
   "source": [
    "Kamu juga membuat visualiasi hasil clustering untuk dapat memudahkan kamu melakukan penamaan di tiap-tiap cluster. Buatlah boxlplot untuk memvisualisasikan setiap variabel tiap pelanggan yang dibagi berdasarkan nama clusternya."
   ]
  },
  {
   "cell_type": "code",
   "execution_count": 9,
   "metadata": {},
   "outputs": [
    {
     "data": {
      "text/plain": [
       "Index(['Customer_ID', 'Nama Pelanggan', 'Jenis Kelamin', 'Umur', 'Profesi',\n",
       "       'Tipe Residen', 'NilaiBelanjaSetahun', 'cluster'],\n",
       "      dtype='object')"
      ]
     },
     "execution_count": 9,
     "metadata": {},
     "output_type": "execute_result"
    }
   ],
   "source": [
    "df_final.columns"
   ]
  },
  {
   "cell_type": "code",
   "execution_count": 14,
   "metadata": {},
   "outputs": [
    {
     "data": {
      "image/png": "[encoded data removed]",
      "text/plain": [
       "<Figure size 432x288 with 1 Axes>"
      ]
     },
     "metadata": {
      "needs_background": "light"
     },
     "output_type": "display_data"
    },
    {
     "data": {
      "image/png": "[encoded data removed]",
      "text/plain": [
       "<Figure size 432x288 with 1 Axes>"
      ]
     },
     "metadata": {
      "needs_background": "light"
     },
     "output_type": "display_data"
    }
   ],
   "source": [
    "import matplotlib.pyplot as plt\n",
    "import seaborn as sns\n",
    "\n",
    "# Data Numerical\n",
    "kolom_numerik = ['Umur','NilaiBelanjaSetahun']  \n",
    "  \n",
    "for i in kolom_numerik:  \n",
    "    plt.figure(figsize=(6,4))  \n",
    "    ax = sns.boxplot(x = 'cluster',y = i, data = df_final)  \n",
    "    plt. title ('\\nBox Plot {}\\n'.format(i), fontsize=12)  \n",
    "    plt.show() "
   ]
  },
  {
   "cell_type": "markdown",
   "metadata": {},
   "source": [
    "<h4>Visualisasi Hasil Clustering - Count Plot</h4>"
   ]
  },
  {
   "cell_type": "markdown",
   "metadata": {},
   "source": [
    "Kamu juga membuat visualiasi hasil clustering untuk dapat memudahkan kamu melakukan penamaan di tiap-tiap cluster. Buatlah countplot untuk memvisualisasikan setiap variabel tiap pelanggan yang dibagi berdasarkan nama clusternya."
   ]
  },
  {
   "cell_type": "code",
   "execution_count": 15,
   "metadata": {},
   "outputs": [
    {
     "data": {
      "image/png": "[encoded data removed]",
      "text/plain": [
       "<Figure size 432x288 with 1 Axes>"
      ]
     },
     "metadata": {
      "needs_background": "light"
     },
     "output_type": "display_data"
    },
    {
     "data": {
      "image/png": "[encoded data removed]",
      "text/plain": [
       "<Figure size 432x288 with 1 Axes>"
      ]
     },
     "metadata": {
      "needs_background": "light"
     },
     "output_type": "display_data"
    },
    {
     "data": {
      "image/png": "[encoded data removed]",
      "text/plain": [
       "<Figure size 432x288 with 1 Axes>"
      ]
     },
     "metadata": {
      "needs_background": "light"
     },
     "output_type": "display_data"
    }
   ],
   "source": [
    "import matplotlib.pyplot as plt  \n",
    "# Data Kategorikal  \n",
    "kolom_categorical = ['Jenis Kelamin','Profesi','Tipe Residen']  \n",
    "  \n",
    "for i in kolom_categorical:  \n",
    "    plt.figure(figsize=(6,4))  \n",
    "    ax = sns.countplot(data = df_final, x = 'cluster', hue = i )  \n",
    "    plt.title('\\nCount Plot {}\\n'.format(i), fontsize=12)  \n",
    "    ax. legend (loc=\"upper center\")  \n",
    "    for p in ax.patches:  \n",
    "        ax.annotate(format(p.get_height(), '.0f'),  \n",
    "                    (p.get_x() + p.get_width() / 2., p.get_height()),  \n",
    "                     ha = 'center',  \n",
    "                     va = 'center',  \n",
    "                     xytext = (0, 10),  \n",
    "                     textcoords = 'offset points')  \n",
    "      \n",
    "    sns.despine(right=True,top = True, left = True)  \n",
    "    ax.axes.yaxis.set_visible(False)  \n",
    "    plt.show()  "
   ]
  },
  {
   "cell_type": "markdown",
   "metadata": {},
   "source": [
    "<h4>Menamakan Cluster</h4>"
   ]
  },
  {
   "cell_type": "markdown",
   "metadata": {},
   "source": [
    "Dari hasil observasi yang dilakukan kamu dapat memberikan nama segmen dari tiap tiap nomor kluster nya. Yaitu:\n",
    "<ul>\n",
    "    <li>Cluster 0: Diamond Young Entrepreneur, isi cluster ini adalah para wiraswasta yang memiliki nilai transaksi rata-rata mendekati 10 juta. Selain itu isi dari cluster ini memiliki umur sekitar 18 - 41 tahun dengan rata-ratanya adalah 29 tahun.</li>\n",
    "    <li>Cluster 1: Silver Students, isi cluster ini adalah para pelajar dan mahasiswa dengan rata-rata umur mereka adalah 16 tahun dan nilai belanja setahun mendekati 3 juta.</li>\n",
    "    <li>Cluster 2: Gold Senior Member, isi cluster ini adalah para professional dan ibu rumah tangga yang berusia tua dengan rentang umur 46 - 63 tahun dan dengan rata-rata 53 tahun dan nilai belanja setahun nya mendekati 6 juta.</li>\n",
    "    <li>Cluster 3: Diamond Senior Entrepreneur, isi cluster ini adalah para wiraswata yang memiliki nilai transaksi rata-rata mendekati 10 juta. Isi dari cluster ini memiliki umur sekitar 45 - 64 tahun dengan rata-ratanya adalah 55 tahun.</li>\n",
    "    <li>Cluster 4: Gold Young Member, isi cluster ini adalah para professional dan ibu rumah tangga yang berusia muda dengan rentang umur sekitar 20 - 40 tahun dan dengan rata-rata 30 tahun dan nilai belanja setahun nya mendekati 6 juta.</li>\n",
    "</ul>\n",
    "\n",
    "Tambahkan satu buah kolom dengan nama segmen. Kemudian isilah kolom ini dengan nama segmen dari tiap tiap pelanggan berdasarkan nilai cluster nya dan tampilkan lima data teratas."
   ]
  },
  {
   "cell_type": "code",
   "execution_count": 17,
   "metadata": {},
   "outputs": [
    {
     "name": "stdout",
     "output_type": "stream",
     "text": [
      "<class 'pandas.core.frame.DataFrame'>\n",
      "RangeIndex: 50 entries, 0 to 49\n",
      "Data columns (total 9 columns):\n",
      " #   Column               Non-Null Count  Dtype \n",
      "---  ------               --------------  ----- \n",
      " 0   Customer_ID          50 non-null     object\n",
      " 1   Nama Pelanggan       50 non-null     object\n",
      " 2   Jenis Kelamin        50 non-null     object\n",
      " 3   Umur                 50 non-null     int64 \n",
      " 4   Profesi              50 non-null     object\n",
      " 5   Tipe Residen         50 non-null     object\n",
      " 6   NilaiBelanjaSetahun  50 non-null     int64 \n",
      " 7   cluster              50 non-null     uint16\n",
      " 8   segmen               50 non-null     object\n",
      "dtypes: int64(2), object(6), uint16(1)\n",
      "memory usage: 3.3+ KB\n",
      "None\n"
     ]
    },
    {
     "data": {
      "text/html": [
       "<div>\n",
       "<style scoped>\n",
       "    .dataframe tbody tr th:only-of-type {\n",
       "        vertical-align: middle;\n",
       "    }\n",
       "\n",
       "    .dataframe tbody tr th {\n",
       "        vertical-align: top;\n",
       "    }\n",
       "\n",
       "    .dataframe thead th {\n",
       "        text-align: right;\n",
       "    }\n",
       "</style>\n",
       "<table border=\"1\" class=\"dataframe\">\n",
       "  <thead>\n",
       "    <tr style=\"text-align: right;\">\n",
       "      <th></th>\n",
       "      <th>Customer_ID</th>\n",
       "      <th>Nama Pelanggan</th>\n",
       "      <th>Jenis Kelamin</th>\n",
       "      <th>Umur</th>\n",
       "      <th>Profesi</th>\n",
       "      <th>Tipe Residen</th>\n",
       "      <th>NilaiBelanjaSetahun</th>\n",
       "      <th>cluster</th>\n",
       "      <th>segmen</th>\n",
       "    </tr>\n",
       "  </thead>\n",
       "  <tbody>\n",
       "    <tr>\n",
       "      <th>0</th>\n",
       "      <td>CUST-001</td>\n",
       "      <td>Budi Anggara</td>\n",
       "      <td>Pria</td>\n",
       "      <td>58</td>\n",
       "      <td>Wiraswasta</td>\n",
       "      <td>Sector</td>\n",
       "      <td>9497927</td>\n",
       "      <td>3</td>\n",
       "      <td>Diamond Senior Member</td>\n",
       "    </tr>\n",
       "    <tr>\n",
       "      <th>1</th>\n",
       "      <td>CUST-002</td>\n",
       "      <td>Shirley Ratuwati</td>\n",
       "      <td>Wanita</td>\n",
       "      <td>14</td>\n",
       "      <td>Pelajar</td>\n",
       "      <td>Cluster</td>\n",
       "      <td>2722700</td>\n",
       "      <td>1</td>\n",
       "      <td>Silver Member</td>\n",
       "    </tr>\n",
       "    <tr>\n",
       "      <th>2</th>\n",
       "      <td>CUST-003</td>\n",
       "      <td>Agus Cahyono</td>\n",
       "      <td>Pria</td>\n",
       "      <td>48</td>\n",
       "      <td>Professional</td>\n",
       "      <td>Cluster</td>\n",
       "      <td>5286429</td>\n",
       "      <td>2</td>\n",
       "      <td>Gold Senior Member</td>\n",
       "    </tr>\n",
       "    <tr>\n",
       "      <th>3</th>\n",
       "      <td>CUST-004</td>\n",
       "      <td>Antonius Winarta</td>\n",
       "      <td>Pria</td>\n",
       "      <td>53</td>\n",
       "      <td>Professional</td>\n",
       "      <td>Cluster</td>\n",
       "      <td>5204498</td>\n",
       "      <td>2</td>\n",
       "      <td>Gold Senior Member</td>\n",
       "    </tr>\n",
       "    <tr>\n",
       "      <th>4</th>\n",
       "      <td>CUST-005</td>\n",
       "      <td>Ibu Sri Wahyuni, IR</td>\n",
       "      <td>Wanita</td>\n",
       "      <td>41</td>\n",
       "      <td>Wiraswasta</td>\n",
       "      <td>Cluster</td>\n",
       "      <td>10615206</td>\n",
       "      <td>0</td>\n",
       "      <td>Diamond Young Member</td>\n",
       "    </tr>\n",
       "  </tbody>\n",
       "</table>\n",
       "</div>"
      ],
      "text/plain": [
       "  Customer_ID       Nama Pelanggan Jenis Kelamin  Umur       Profesi  \\\n",
       "0    CUST-001         Budi Anggara          Pria    58    Wiraswasta   \n",
       "1    CUST-002     Shirley Ratuwati        Wanita    14       Pelajar   \n",
       "2    CUST-003         Agus Cahyono          Pria    48  Professional   \n",
       "3    CUST-004     Antonius Winarta          Pria    53  Professional   \n",
       "4    CUST-005  Ibu Sri Wahyuni, IR        Wanita    41    Wiraswasta   \n",
       "\n",
       "  Tipe Residen  NilaiBelanjaSetahun  cluster                 segmen  \n",
       "0       Sector              9497927        3  Diamond Senior Member  \n",
       "1      Cluster              2722700        1          Silver Member  \n",
       "2      Cluster              5286429        2     Gold Senior Member  \n",
       "3      Cluster              5204498        2     Gold Senior Member  \n",
       "4      Cluster             10615206        0   Diamond Young Member  "
      ]
     },
     "execution_count": 17,
     "metadata": {},
     "output_type": "execute_result"
    }
   ],
   "source": [
    "# Mapping nama kolom  \n",
    "df_final['segmen'] = df_final['cluster'].map({  \n",
    "    0: 'Diamond Young Member',  \n",
    "    1: 'Silver Member',  \n",
    "    2: 'Gold Senior Member',  \n",
    "    3: 'Diamond Senior Member',  \n",
    "    4: 'Gold Young Member'  \n",
    "})  \n",
    "\n",
    "print(df_final.info())\n",
    "df_final.head()"
   ]
  },
  {
   "cell_type": "markdown",
   "metadata": {},
   "source": [
    "<h4>Kesimpulan</h4>"
   ]
  },
  {
   "cell_type": "markdown",
   "metadata": {},
   "source": [
    "Yeay! Akhirnya kamu sudah berhasil melakukan segmentasi pelanggan dan mendapatkan nama yang cocok untuk masing masing cluster. Yaitu:\n",
    "<ul>\n",
    "    <li>Cluster 0: Diamond Young Entrepreneur, isi cluster ini adalah para wiraswasta yang memiliki nilai transaksi rata-rata mendekati 10 juta. Selain itu isi dari cluster ini memiliki umur sekitar 18 - 41 tahun dengan rata-ratanya adalah 29 tahun.</li>\n",
    "    <li>Cluster 1: Silver Students, isi cluster ini adalah para pelajar dan mahasiswa dengan rata-rata umur mereka adalah 16 tahun dan nilai belanja setahun mendekati 3 juta.</li>\n",
    "    <li>Cluster 2: Gold Senior Member, isi cluster ini adalah para professional dan ibu rumah tangga yang berusia tua dengan rentang umur 46 - 63 tahun dan dengan rata-rata 53 tahun dan nilai belanja setahun nya mendekati 6 juta.</li>\n",
    "    <li>Cluster 3: Diamond Senior Entrepreneur, isi cluster ini adalah para wiraswata yang memiliki nilai transaksi rata-rata mendekati 10 juta. Isi dari cluster ini memiliki umur sekitar 45 - 64 tahun dengan rata-ratanya adalah 55 tahun.</li>\n",
    "    <li>Cluster 4: Gold Young Member, isi cluster ini adalah para professional dan ibu rumah tangga yang berusia muda dengan rentang umur sekitar 20 - 40 tahun dan dengan rata-rata 30 tahun dan nilai belanja setahun nya mendekati 6 juta.</li>\n",
    "</ul>"
   ]
  },
  {
   "cell_type": "markdown",
   "metadata": {},
   "source": [
    "<h4>Tips</h4>"
   ]
  },
  {
   "cell_type": "markdown",
   "metadata": {},
   "source": [
    "Pada aplikasi di industri proses penentuan cluster yang optimum bisa dilakukan juga dengan melihat matriks evaluasi lainnya seperti sillhoute score dan callinski-harabaz score. Untuk detailnya bisa dilihat di dokumentasi sklearn (https://scikit-learn.org/stable/modules/clustering.html#clustering-performance-evaluation).\n",
    "\n",
    "Selain itu penentuan jumlah cluster yang optimal juga perlu mepertimbangkan masukan dari tim yang akan menggunakan model nya. Sehingga bisa menghasilkan cluster yang sesuai dengan kebutuhan mereka dan juga bagaimana cara mereka akan memperlakukan segmen-segmen ini.\n",
    "\n",
    "Tantangan lainnya adalah jumlah data yang jauh lebih banyak di banding dengan data set yang kamu gunakan untuk latihan ini. Sehingga waktu pemrosesan datanya dan pembuatan model nya akan menjadi lebih lama."
   ]
  },
  {
   "cell_type": "markdown",
   "metadata": {},
   "source": [
    "<h2><a name=\"mengoperasikan-model\"></a>Chapter 2: Mengoperasikan Model</h2>"
   ]
  },
  {
   "cell_type": "markdown",
   "metadata": {},
   "source": [
    "<h4>Pendahuluan</h4>"
   ]
  },
  {
   "cell_type": "markdown",
   "metadata": {},
   "source": [
    "Model yang sudah dibuat harus bisa di gunakan sehari hari untuk memprediksi data baru. Untuk itu kamu harus memperisapkan datanya kembali dan kemudian melakukan prediksi dengan parameter dan model yang sudah di buat.\n",
    "\n",
    "Jika kamu dapat mengoperasionalkan model tersebut, maka tim bisnis dapat dengan cepat mengetahui segmen dari pelanggan dan juga bisa mengatur strategi marketing mereka dengan lebih efisien."
   ]
  },
  {
   "cell_type": "markdown",
   "metadata": {},
   "source": [
    "<h4>Mempersiapkan Data Baru</h4>"
   ]
  },
  {
   "cell_type": "markdown",
   "metadata": {},
   "source": [
    "Disini kamu membuat contoh data baru untuk di prediksi dengan model yang sudah di buat. Hal ini kamu lakukan dengan membuat satu buah dataframe yang berisi informasi pelanggan. Buatlah satu dataframe yang berisi informasi pelanggan dan tampilkan hasilnya."
   ]
  },
  {
   "cell_type": "code",
   "execution_count": 19,
   "metadata": {},
   "outputs": [
    {
     "data": {
      "text/html": [
       "<div>\n",
       "<style scoped>\n",
       "    .dataframe tbody tr th:only-of-type {\n",
       "        vertical-align: middle;\n",
       "    }\n",
       "\n",
       "    .dataframe tbody tr th {\n",
       "        vertical-align: top;\n",
       "    }\n",
       "\n",
       "    .dataframe thead th {\n",
       "        text-align: right;\n",
       "    }\n",
       "</style>\n",
       "<table border=\"1\" class=\"dataframe\">\n",
       "  <thead>\n",
       "    <tr style=\"text-align: right;\">\n",
       "      <th></th>\n",
       "      <th>Customer_ID</th>\n",
       "      <th>Nama Pelanggan</th>\n",
       "      <th>Jenis Kelamin</th>\n",
       "      <th>Umur</th>\n",
       "      <th>Profesi</th>\n",
       "      <th>Tipe Residen</th>\n",
       "      <th>NilaiBelanjaSetahun</th>\n",
       "    </tr>\n",
       "  </thead>\n",
       "  <tbody>\n",
       "    <tr>\n",
       "      <th>0</th>\n",
       "      <td>CUST-100</td>\n",
       "      <td>Joko</td>\n",
       "      <td>Pria</td>\n",
       "      <td>45</td>\n",
       "      <td>Wiraswasta</td>\n",
       "      <td>Cluster</td>\n",
       "      <td>8230000</td>\n",
       "    </tr>\n",
       "  </tbody>\n",
       "</table>\n",
       "</div>"
      ],
      "text/plain": [
       "  Customer_ID Nama Pelanggan Jenis Kelamin  Umur     Profesi Tipe Residen  \\\n",
       "0    CUST-100           Joko          Pria    45  Wiraswasta      Cluster   \n",
       "\n",
       "   NilaiBelanjaSetahun  \n",
       "0              8230000  "
      ]
     },
     "execution_count": 19,
     "metadata": {},
     "output_type": "execute_result"
    }
   ],
   "source": [
    "# Data Baru  \n",
    "data = [{  \n",
    "    'Customer_ID': 'CUST-100' ,  \n",
    "    'Nama Pelanggan': 'Joko' ,  \n",
    "    'Jenis Kelamin': 'Pria',  \n",
    "    'Umur': 45,  \n",
    "    'Profesi': 'Wiraswasta',  \n",
    "    'Tipe Residen': 'Cluster' ,  \n",
    "    'NilaiBelanjaSetahun': 8230000  \n",
    "      \n",
    "}]  \n",
    "  \n",
    "# Membuat Data Frame  \n",
    "new_df = pd.DataFrame(data)  \n",
    "  \n",
    "# Melihat Data  \n",
    "new_df"
   ]
  },
  {
   "cell_type": "markdown",
   "metadata": {},
   "source": [
    "<h4>Membuat Fungsi Data Pemrosesan</h4>"
   ]
  },
  {
   "cell_type": "markdown",
   "metadata": {},
   "source": [
    "Selanjutnya kamu perlu membuat fungsi untuk melakukan pemrosesan data berdasarkan paramater yang sama pada saat kita melakukan permodelan dan kita panggil dengan data baru kita.\n",
    "\n",
    "Jadi fungsi ini nantinya akan bisa di gunakan untuk:\n",
    "\n",
    "<b>1. Melakukan konversi data kategorikal menjadi numerik</b>\n",
    "\n",
    "Dari proses sebelumnya kita tau representasi tiap kode dan maksudnya yaitu:\n",
    "\n",
    "<i>Jenis Kelamin</i>\n",
    "<ul>\n",
    "    <li>0 : Pria</li>\n",
    "    <li>1 : Wanita</li>\n",
    "</ul>\n",
    "<i>Profesi</i>\n",
    "<ul>\n",
    "    <li>0 : Ibu Rumah Tangga</li>\n",
    "    <li>1 : Mahasiswa</li>\n",
    "    <li>2 : Pelajar</li>\n",
    "    <li>3 : Professional</li>\n",
    "    <li>4 : Wiraswasta</li>\n",
    "</ul>\n",
    "<i>Tipe Residen</i>\n",
    "<ul>\n",
    "    <li>1 : Sector</li>\n",
    "    <li>0 : Cluster</li>\n",
    "</ul>\n",
    "Selanjutnya kita harus membuat fungsi untuk merubah data kategorikal menjadi numerik berdasarkan referensi tersebut.\n",
    "\n",
    "<b>2. Melakukan standardisasi kolom numerikal</b>\n",
    "\n",
    "Untuk melakukan standardisasi dengan variable yang sama pada saat permodelan kita perlu menggunakan nilai rata-rata dan standard deviasi dari tiap variabel pada saat kita melakukan permodelan. Yaitu:\n",
    "\n",
    "<i>Umur</i>\n",
    "<ul>\n",
    "    <li>Rata - rata: 37.5</li>\n",
    "    <li>Standard Deviasi: 14.7</li>\n",
    "</ul>\n",
    "<i>NilaiBelanjaSetahun</i>\n",
    "<ul>\n",
    "    <li>Rata - rata: 7069874.8</li>\n",
    "    <li>Standard Deviasi: 2590619.0</li>\n",
    "</ul>\n",
    "Dari nilai-nilai tersebut kita dapat menghitung nilai standardisasi (z) dengan menggunakan rumus Z = (x - u)/s dengan x adalah tiap nilai, u adalah rata-rata dan s adalah standard deviasi.\n",
    "\n",
    "<b>3. Menggabungkan hasil dua proses sebelumnya menjadi satu data frame</b>\n",
    "\n",
    "Selanjutnya kamu perlu menggabungkan kedua perintah tersebut dan menjadi data frame yang siap untuk dilakukan permodelan."
   ]
  },
  {
   "cell_type": "code",
   "execution_count": 20,
   "metadata": {},
   "outputs": [
    {
     "data": {
      "text/html": [
       "<div>\n",
       "<style scoped>\n",
       "    .dataframe tbody tr th:only-of-type {\n",
       "        vertical-align: middle;\n",
       "    }\n",
       "\n",
       "    .dataframe tbody tr th {\n",
       "        vertical-align: top;\n",
       "    }\n",
       "\n",
       "    .dataframe thead th {\n",
       "        text-align: right;\n",
       "    }\n",
       "</style>\n",
       "<table border=\"1\" class=\"dataframe\">\n",
       "  <thead>\n",
       "    <tr style=\"text-align: right;\">\n",
       "      <th></th>\n",
       "      <th>Jenis Kelamin</th>\n",
       "      <th>Profesi</th>\n",
       "      <th>Tipe Residen</th>\n",
       "      <th>Umur</th>\n",
       "      <th>NilaiBelanjaSetahun</th>\n",
       "    </tr>\n",
       "  </thead>\n",
       "  <tbody>\n",
       "    <tr>\n",
       "      <th>0</th>\n",
       "      <td>0</td>\n",
       "      <td>4</td>\n",
       "      <td>0</td>\n",
       "      <td>0.510204</td>\n",
       "      <td>0.447818</td>\n",
       "    </tr>\n",
       "  </tbody>\n",
       "</table>\n",
       "</div>"
      ],
      "text/plain": [
       "   Jenis Kelamin  Profesi  Tipe Residen      Umur  NilaiBelanjaSetahun\n",
       "0              0        4             0  0.510204             0.447818"
      ]
     },
     "execution_count": 20,
     "metadata": {},
     "output_type": "execute_result"
    }
   ],
   "source": [
    "def data_preprocess(data):  \n",
    "    # Konversi Kategorikal data  \n",
    "    kolom_kategorikal = ['Jenis Kelamin','Profesi','Tipe Residen']  \n",
    "      \n",
    "    df_encode = data[kolom_kategorikal].copy()  \n",
    "  \n",
    "    ## Jenis Kelamin   \n",
    "    df_encode['Jenis Kelamin'] = df_encode['Jenis Kelamin'].map({  \n",
    "        'Pria': 0,  \n",
    "        'Wanita' : 1  \n",
    "    })  \n",
    "      \n",
    "    ## Profesi  \n",
    "    df_encode['Profesi'] = df_encode['Profesi'].map({  \n",
    "        'Ibu Rumah Tangga': 0,  \n",
    "        'Mahasiswa' : 1,  \n",
    "        'Pelajar': 2,  \n",
    "        'Professional': 3,  \n",
    "        'Wiraswasta': 4  \n",
    "    })  \n",
    "      \n",
    "    ## Tipe Residen  \n",
    "    df_encode['Tipe Residen'] = df_encode['Tipe Residen'].map({  \n",
    "        'Cluster': 0,  \n",
    "        'Sector' : 1  \n",
    "    })  \n",
    "      \n",
    "    # Standardisasi Numerical Data  \n",
    "    kolom_numerik = ['Umur','NilaiBelanjaSetahun']  \n",
    "    df_std = data[kolom_numerik].copy()  \n",
    "      \n",
    "    ## Standardisasi Kolom Umur  \n",
    "    df_std['Umur'] = (df_std['Umur'] - 37.5)/14.7  \n",
    "      \n",
    "    ## Standardisasi Kolom Nilai Belanja Setahun  \n",
    "    df_std['NilaiBelanjaSetahun'] = (df_std['NilaiBelanjaSetahun'] - 7069874.8)/2590619.0  \n",
    "      \n",
    "    # Menggabungkan Kategorikal dan numerikal data  \n",
    "    df_model = df_encode.merge(df_std, left_index = True,  \n",
    "                           right_index=True, how = 'left')  \n",
    "      \n",
    "    return df_model  \n",
    "  \n",
    "# Menjalankan fungsi  \n",
    "new_df_model = data_preprocess(new_df)  \n",
    "  \n",
    "new_df_model"
   ]
  },
  {
   "cell_type": "markdown",
   "metadata": {},
   "source": [
    "<h4>Memanggil Model dan Melakukan Prediksi</h4>"
   ]
  },
  {
   "cell_type": "markdown",
   "metadata": {},
   "source": [
    "Setelah kamu memiliki data yang siap di gunakan, saatnya memanggil model yang sudah di simpan sebelumnya dan dilanjutkan dengan melakukan prediksi.\n",
    "\n",
    "Untuk melakukan hal tersebut, kamu perlu membuat prosesnya menjadi dalam satu fungsi yang bernama modelling dengan menggunakan data baru sebagai input nya.\n",
    "\n",
    "Buatlah fungsi yang bisa di gunakan untuk memanggil model dan melakukan prediksi serta menyimpan hasilnya nya kedalam satu dataframe. Jika berhasil di panggil, kita akan mendapatkan cluster dari data yang kita masukan."
   ]
  },
  {
   "cell_type": "code",
   "execution_count": 22,
   "metadata": {},
   "outputs": [
    {
     "name": "stdout",
     "output_type": "stream",
     "text": [
      "[3]\n"
     ]
    }
   ],
   "source": [
    "def modelling (data):  \n",
    "      \n",
    "    # Memanggil Model  \n",
    "    kpoto = pickle.load(open('./Resources/cluster.pkl', 'rb'))  \n",
    "      \n",
    "    # Melakukan Prediksi  \n",
    "    clusters= kpoto. predict(data,categorical=[0,1,2])  \n",
    "      \n",
    "    return clusters  \n",
    "  \n",
    "# Menjalankan Fungsi  \n",
    "clusters = modelling(new_df_model)  \n",
    "  \n",
    "print(clusters)"
   ]
  },
  {
   "cell_type": "markdown",
   "metadata": {},
   "source": [
    "<h4>Menamakan Segmen</h4>"
   ]
  },
  {
   "cell_type": "markdown",
   "metadata": {},
   "source": [
    "Sama dengan sebelumnya, kamu perlu membuat fungsi untuk melakukan proses ini. Nama cluster yang sudah didapat di tahap sebelumnya perlu di rubah menjadi nama segmen agar lebih mudah diidentifikasi. Disini kamu harus membuat fungsi yang bernama menamakan_segmen dengan data asli dan clusters sebagai inputnya."
   ]
  },
  {
   "cell_type": "code",
   "execution_count": 23,
   "metadata": {},
   "outputs": [
    {
     "data": {
      "text/html": [
       "<div>\n",
       "<style scoped>\n",
       "    .dataframe tbody tr th:only-of-type {\n",
       "        vertical-align: middle;\n",
       "    }\n",
       "\n",
       "    .dataframe tbody tr th {\n",
       "        vertical-align: top;\n",
       "    }\n",
       "\n",
       "    .dataframe thead th {\n",
       "        text-align: right;\n",
       "    }\n",
       "</style>\n",
       "<table border=\"1\" class=\"dataframe\">\n",
       "  <thead>\n",
       "    <tr style=\"text-align: right;\">\n",
       "      <th></th>\n",
       "      <th>Customer_ID</th>\n",
       "      <th>Nama Pelanggan</th>\n",
       "      <th>Jenis Kelamin</th>\n",
       "      <th>Umur</th>\n",
       "      <th>Profesi</th>\n",
       "      <th>Tipe Residen</th>\n",
       "      <th>NilaiBelanjaSetahun</th>\n",
       "      <th>cluster</th>\n",
       "      <th>segmen</th>\n",
       "    </tr>\n",
       "  </thead>\n",
       "  <tbody>\n",
       "    <tr>\n",
       "      <th>0</th>\n",
       "      <td>CUST-100</td>\n",
       "      <td>Joko</td>\n",
       "      <td>Pria</td>\n",
       "      <td>45</td>\n",
       "      <td>Wiraswasta</td>\n",
       "      <td>Cluster</td>\n",
       "      <td>8230000</td>\n",
       "      <td>3</td>\n",
       "      <td>Diamond Senior Member</td>\n",
       "    </tr>\n",
       "  </tbody>\n",
       "</table>\n",
       "</div>"
      ],
      "text/plain": [
       "  Customer_ID Nama Pelanggan Jenis Kelamin  Umur     Profesi Tipe Residen  \\\n",
       "0    CUST-100           Joko          Pria    45  Wiraswasta      Cluster   \n",
       "\n",
       "   NilaiBelanjaSetahun  cluster                 segmen  \n",
       "0              8230000        3  Diamond Senior Member  "
      ]
     },
     "execution_count": 23,
     "metadata": {},
     "output_type": "execute_result"
    }
   ],
   "source": [
    "def menamakan_segmen (data_asli, clusters):  \n",
    "      \n",
    "    # Menggabungkan cluster dan data asli  \n",
    "    final_df = data_asli.copy()  \n",
    "    final_df['cluster'] = clusters\n",
    "      \n",
    "    # Menamakan segmen  \n",
    "    final_df['segmen'] = final_df['cluster'].map({  \n",
    "        0: 'Diamond Young Member',  \n",
    "        1: 'Silver Member',  \n",
    "        2: 'Gold Senior Member',  \n",
    "        3: 'Diamond Senior Member',  \n",
    "        4: 'Gold Young Member' \n",
    "    })  \n",
    "      \n",
    "    return final_df\n",
    "  \n",
    "# Menjalankan Fungsi  \n",
    "new_final_df = menamakan_segmen(new_df,clusters)  \n",
    "  \n",
    "new_final_df"
   ]
  },
  {
   "cell_type": "markdown",
   "metadata": {},
   "source": [
    "<h4>Kesimpulan</h4>"
   ]
  },
  {
   "cell_type": "markdown",
   "metadata": {},
   "source": [
    "Akhirnya, kamu juga berhasil membuat alur proses untuk mengoperasikan model. Selanjutnya kamu dapat menjadwalkan kode ini. Apakah akan dijalankan secara real-time setiap ada data masuk atau secara batch misal satu hari sekali."
   ]
  },
  {
   "cell_type": "markdown",
   "metadata": {},
   "source": [
    "<h4>Tips</h4>"
   ]
  },
  {
   "cell_type": "markdown",
   "metadata": {},
   "source": [
    "Di industri khususnya untuk mengorperasikan model bisa bermacam-macam caranya. Ada yang membuat dengan python script lalu di buat interval jam jalan nya. Selain itu bisa juga menggunakan bantuan software untuk melakukan deployment. Hal ini akan tergantung di mana kamu bekerja."
   ]
  },
  {
   "cell_type": "code",
   "execution_count": null,
   "metadata": {},
   "outputs": [],
   "source": []
  }
 ],
 "metadata": {
  "kernelspec": {
   "display_name": "Python 3",
   "language": "python",
   "name": "python3"
  },
  "language_info": {
   "codemirror_mode": {
    "name": "ipython",
    "version": 3
   },
   "file_extension": ".py",
   "mimetype": "text/x-python",
   "name": "python",
   "nbconvert_exporter": "python",
   "pygments_lexer": "ipython3",
   "version": "3.8.3"
  }
 },
 "nbformat": 4,
 "nbformat_minor": 4
}
