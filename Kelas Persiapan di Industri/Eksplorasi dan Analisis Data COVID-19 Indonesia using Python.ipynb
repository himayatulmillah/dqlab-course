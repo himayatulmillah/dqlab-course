{
 "cells": [
  {
   "cell_type": "markdown",
   "metadata": {},
   "source": [
    "# Eksplorasi dan Analisis Data COVID-19 Indonesia using Python"
   ]
  },
  {
   "cell_type": "markdown",
   "metadata": {},
   "source": [
    "<p><b>About :</b> Pada modul ini, kamu akan memahami pemanfaatan keterbukaan data publik dan teknik analisis data untuk memahami dinamika pandemi COVID-19. Dengan menyelesaikan module ini, kamu akan:\n",
    "<ul>\n",
    "    <li>Memahami prinsip dasar mengenai API</li>\n",
    "    <li>Mengimpor data real-time menggunakan API</li>\n",
    "    <li>Mampu melakukan proses data cleaning dan transformasi sederhana</li>\n",
    "    <li>Mengenal fungsi-fungsi unik dari beberapa paket di tidyverse</li>\n",
    "    <li>Mampu membuat visualisasi data yang informatif, elegan, dan straightforward</li>\n",
    "    <li>Mengambil kesimpulan atas hasil analisis data</li>\n",
    "    <li>Mengadaptasi proses analisis data untuk studi kasus berbeda</li>\n",
    "</ul></p>\n",
    "\n",
    "<p><b>Course :</b> <a href='https://academy.dqlab.id/main/package/practice/287?pf=0'>Eksplorasi dan Analisis Data COVID-19 Indonesia using Python</a></p>"
   ]
  },
  {
   "cell_type": "markdown",
   "metadata": {},
   "source": [
    "<h2>Module Content:</h2>\n",
    "\n",
    "<div class=\"alert alert-block alert-info\" style=\"margin-top: 20px\">\n",
    "    <ul>\n",
    "        <li><a href=\"#pengantar\">Pengantar</a></li>\n",
    "        <li><a href=\"#bermain-api\">Bermain API</a></li>\n",
    "        <li><a href=\"#covid19-di-sekitar\">COVID-19 Di Sekitar</a></li>\n",
    "        <li><a href=\"#menggali-lebih-dalam\">Menggali Lebih Dalam</a></li>\n",
    "        <li><a href=\"#penutup\">Penutup</a></li>\n",
    "    </ul>\n",
    "</div>"
   ]
  },
  {
   "cell_type": "markdown",
   "metadata": {},
   "source": [
    "<h2><a name=\"pengantar\"></a>Chapter 1: Pengantar</h2>"
   ]
  },
  {
   "cell_type": "markdown",
   "metadata": {},
   "source": [
    "<h4>Latar Belakang Project</h4>"
   ]
  },
  {
   "cell_type": "markdown",
   "metadata": {},
   "source": [
    "COVID-19 merupakan penyakit yang saat ini telah menjadi pandemi secara global. Kondisi menjadi semakin mengkhawatirkan karena hingga detik ini masih belum ditemukan vaksin yang efektif untuk virus penyebab COVID-19. Pemerintah di berbagai negara umumnya dengan sigap membentuk gugus tugas (task force unit) untuk menangani penyebaran COVID-19 di masyarakat, termasuk pemerintah di Indonesia.\n",
    "\n",
    "Salah satu bentuk aksi yang dilakukan oleh pemerintah adalah dengan mengumpulkan dan menyediakan data pertumbuhan kasus COVID-19 kepada publik. Data pertumbuhan kasus tersebut tidak jarang juga dilengkapi dengan dasbor dan grafik visualisasi pendukung dengan harapan masyarakat dapat memahami informasi dengan lebih mudah. Sebagai contoh adalah portal covid19.go.id besutan Gugus Tugas Penanganan COVID-19 Nasional dan portal <a herf=https://pikobar.jabarprov.go.id/data>PIKOBAR</a> milik pemerintah Provinsi Jawa Barat. Serta banyak portal data COVID-19 lainnya yang disediakan oleh masing-masing pemerintah daerah."
   ]
  },
  {
   "cell_type": "markdown",
   "metadata": {},
   "source": [
    "<h4>Warming Up!</h4>"
   ]
  },
  {
   "cell_type": "markdown",
   "metadata": {},
   "source": [
    "Sebagai pemanasan sebelum Anda memulai proyek ini, buatlah sebuah vektor karakter dengan 3 elemen dengan nama <code>bersatulawancovid</code> yang merupakan kunci dasar menghindari COVID-19! Jangan lupa untuk mencetak vektor <code>bersatulawancovid</code> tersebut pada layar konsol!"
   ]
  },
  {
   "cell_type": "code",
   "execution_count": null,
   "metadata": {
    "scrolled": true
   },
   "outputs": [],
   "source": [
    "bersatulawancovid = ['cuci tangan', 'pakai masker', 'jaga jarak']\n",
    "print(bersatulawancovid)"
   ]
  },
  {
   "cell_type": "markdown",
   "metadata": {},
   "source": [
    "<h4>Are You Ready?</h4>"
   ]
  },
  {
   "cell_type": "markdown",
   "metadata": {},
   "source": [
    "Dalam proyek ini, Anda akan diminta untuk melakukan eksplorasi dan analisis mengenai COVID-19 di Indonesia. Data yang Anda pergunakan diambil langsung dari API (Application Programming Interface) yang tersedia di <a herf=https://covid19.go.id/peta-sebaran>covid19.go.id</a>. Sehingga dalam proyek ini Anda akan mempelajari teknik mengambil data dari API, teknik mempersiapkan data, serta analisis dan visualisasi data.\n",
    "\n",
    "Apakah Anda siap untuk mengerjakan proyek analisis data ini? Jawablah dengan mengetikkan True apabila Anda siap atau False jika Anda belum siap karena belum mencuci tangan."
   ]
  },
  {
   "cell_type": "code",
   "execution_count": null,
   "metadata": {},
   "outputs": [],
   "source": [
    "True"
   ]
  },
  {
   "cell_type": "markdown",
   "metadata": {},
   "source": [
    "<h2><a name=\"bermain-api\"></a>Chapter 2: Bermain API</h2>"
   ]
  },
  {
   "cell_type": "markdown",
   "metadata": {},
   "source": [
    "Seperti telah disinggung sebelumnya, dalam proyek ini Anda akan menggunakan data yang disediakan di portal covid19.go.id. Adapun cara untuk mengambil data dari portal tersebut secara langsung adalah dengan menggunakan Application Programming Interface (API). Secara sederhana API dapat dipahami sebagai cara komputer untuk berkomunikasi dengan komputer lainnya sehingga dapat terjadi transaksi pertukaran data."
   ]
  },
  {
   "cell_type": "markdown",
   "metadata": {},
   "source": [
    "<h4>Mengakses API covid19.go.id</h4>"
   ]
  },
  {
   "cell_type": "markdown",
   "metadata": {},
   "source": [
    "Rekapitulasi data COVID-19 Indonesia tersedia dalam API publik yang beralamat di https://data.covid19.go.id/public/api/update.json.\n",
    "\n",
    "Salah satu cara untuk mengakses API adalah dengan menggunakan fungsi <code>get()</code> dari library <code>requests</code>.\n",
    "\n",
    "Sekarang aktifkanlah library <code>requests</code> dan jalankan fungsi <code>get()</code> pada alamat API yang telah disebutkan! Simpan hasil fungsi tersebut dalam obyek bernama <code>resp</code>."
   ]
  },
  {
   "cell_type": "code",
   "execution_count": null,
   "metadata": {},
   "outputs": [],
   "source": [
    "import requests\n",
    "resp = requests.get('https://data.covid19.go.id/public/api/update.json')"
   ]
  },
  {
   "cell_type": "markdown",
   "metadata": {},
   "source": [
    "<h4>Mengevaluasi Respon</h4>"
   ]
  },
  {
   "cell_type": "markdown",
   "metadata": {},
   "source": [
    "Saat Anda menjalankan fungsi <code>get()</code>, pada dasarnya hal yang terjadi adalah Anda membuat sebuah permintaan kepada server penyedia API. Permintaan Anda tersebut selanjutnya diproses dan dijawab oleh server sebagai sebuah respon. Objek resp yang telah Anda buat memiliki informasi respon oleh server.\n",
    "\n",
    "Ada tiga informasi utama dalam sebuah respon API, yaitu <code>status</code>, <code>headers</code>, dan <code>body</code>. Status memiliki informasi apakah permintaan Anda berhasil atau tidak dan dinyatakan dalam status code, headers umumnya mengandung informasi metadata, sedangkan body berisikan konten atas permintaan yang telah dibuat."
   ]
  },
  {
   "cell_type": "markdown",
   "metadata": {},
   "source": [
    "<h4>Status Code</h4>"
   ]
  },
  {
   "cell_type": "markdown",
   "metadata": {},
   "source": [
    "Ada beberapa jenis status code yang umumnya dijumpai, antara lain:\n",
    "<ul>\n",
    "    <li>200 Artinya permintaan sukses dipenuhi.</li>\n",
    "    <li>404 Artinya berkas yang diminta tidak dapat ditemukan.</li>\n",
    "    <li>500 Artinya akses permintaan ditolak.</li>\n",
    "    <li>501 Artinya terjadi kesalahan pada server.</li>\n",
    "</ul>\n",
    "Informasi lengkap mengenai jenis-jenis status code dapat Anda pelajari di https://restfulapi.net/http-status-codes/\n",
    "\n",
    "Anda dapat mencetak <code>resp</code> secara langsung yang telah memberikan output status atas permintaan Anda melalui API. Sekarang coba lihatlah status atas permintaan yang telah Anda buat! Apakah permintaan Anda berhasil?"
   ]
  },
  {
   "cell_type": "code",
   "execution_count": null,
   "metadata": {
    "scrolled": true
   },
   "outputs": [],
   "source": [
    "print(resp)"
   ]
  },
  {
   "cell_type": "markdown",
   "metadata": {},
   "source": [
    "<h4>Headers API</h4>"
   ]
  },
  {
   "cell_type": "markdown",
   "metadata": {},
   "source": [
    "Selamat status permintaan Anda melalui API sukses dipenuhi! Sekarang cobalah Anda jalankan attribut <code>headers</code> pada <code>resp</code> untuk mengetahui metadata apa saja yang tersimpan. Tampilkan dengan menggunakan fungsi print. \n",
    "\n",
    "Apakah isi dari elemen <code>content-type</code>?\n",
    "\n",
    "Kapan terakhir kali informasi diperbaharui?"
   ]
  },
  {
   "cell_type": "code",
   "execution_count": null,
   "metadata": {},
   "outputs": [],
   "source": [
    "print(resp.headers)"
   ]
  },
  {
   "cell_type": "markdown",
   "metadata": {},
   "source": [
    "<h4>Mengekstrak Isi Respon</h4>"
   ]
  },
  {
   "cell_type": "markdown",
   "metadata": {},
   "source": [
    "Respon API dengan status code <code>200</code> menyatakan bahwa permintaan Anda berhasil dipenuhi dan konten yang diminta tersedia untuk diekstrak. Selain itu Anda juga telah mengetahui lewat attribut <code>headers</code> bahwa konten yang diminta tersedia dalam bentuk application/json, yaitu berkas <code>JSON</code>.\n",
    "\n",
    "Selanjutnya Anda dapat mengekstrak konten tersebut dengan menggunakan method <code>json()</code>. Method <code>json()</code> merupakan builtin JSON decoder untuk mengekstrak content bertipe JSON. Anda juga dapat menggunakan attribut <code>content</code> tetapi ini berupa binary content yang perlu Anda proses kembali nantinya. Jalankan method <code>json()</code> pada obyek resp dan simpanlah hasilnya sebagai <code>cov_id_raw</code>!\n",
    "\n",
    "<code>cov_id_raw</code> ini bertipe data <code>dict</code>."
   ]
  },
  {
   "cell_type": "code",
   "execution_count": null,
   "metadata": {},
   "outputs": [],
   "source": [
    "cov_id_raw = resp.json()"
   ]
  },
  {
   "cell_type": "markdown",
   "metadata": {},
   "source": [
    "Dengan menggunakan fungsi <code>len()</code> dan method <code>keys()</code> cobalah amati ada berapa komponen serta apa saja nama komponen dalam obyek <code>cov_id_raw</code> tersebut! Kemudian ekstraklah key ke-2 dan simpan dengan nama <code>cov_id_update</code>."
   ]
  },
  {
   "cell_type": "code",
   "execution_count": null,
   "metadata": {},
   "outputs": [],
   "source": [
    "print('Length of cov_id_raw : %d.' %len(cov_id_raw))\n",
    "print('Komponen cov_id_raw  : %s.' %cov_id_raw.keys())\n",
    "cov_id_update = cov_id_raw['update']"
   ]
  },
  {
   "cell_type": "markdown",
   "metadata": {},
   "source": [
    "<h4>Analisa Data</h4>"
   ]
  },
  {
   "cell_type": "markdown",
   "metadata": {},
   "source": [
    "Sekarang Anda diminta untuk fokus pada obyek <code>cov_id_update</code> untuk menjawab pertanyaan-pertanyaan berikut:\n",
    "<ul>\n",
    "    <li>Kapan tanggal pembaharuan data penambahan kasus?</li>\n",
    "    <li>Berapa jumlah penambahan kasus sembuh?</li>\n",
    "    <li>Berapa jumlah penambahan kasus meninggal?</li>\n",
    "    <li>Berapa jumlah total kasus positif hingga saat ini?</li>\n",
    "    <li>Berapa jumlah total kasus meninggal hingga saat ini?</li>\n",
    "</ul>"
   ]
  },
  {
   "cell_type": "code",
   "execution_count": null,
   "metadata": {},
   "outputs": [],
   "source": [
    "print('Tanggal pembaharuan data penambahan kasus :', cov_id_update['penambahan']['tanggal'])\n",
    "print('Jumlah penambahan kasus sembuh :', cov_id_update['penambahan']['jumlah_sembuh'])\n",
    "print('Jumlah penambahan kasus meninggal :', cov_id_update['penambahan']['jumlah_meninggal'])\n",
    "print('Jumlah total kasus positif hingga saat ini :', cov_id_update['total']['jumlah_positif'])\n",
    "print('Jumlah total kasus meninggal hingga saat ini:', cov_id_update['total']['jumlah_meninggal'])"
   ]
  },
  {
   "cell_type": "markdown",
   "metadata": {},
   "source": [
    "<h4>Lawan COVID-19!</h4>"
   ]
  },
  {
   "cell_type": "markdown",
   "metadata": {},
   "source": [
    "Jumlah masyarakat yang terinfeksi dan meninggal akibat COVID-19 sudah sangat banyak! Kita harus waspada namun tetap tenang dalam menghadapi masa pandemi ini. Masih ingatkah Anda apa 3 langkah sederhana melawan COVID-19?\n",
    "\n",
    "<b>Cuci tangan, pakai masker, dan jaga jarak.</b>"
   ]
  },
  {
   "cell_type": "markdown",
   "metadata": {},
   "source": [
    "<h2><a name=\"covid19-di-sekitar\"></a>Chapter 3: COVID-19 Di Sekitar</h2>"
   ]
  },
  {
   "cell_type": "code",
   "execution_count": null,
   "metadata": {},
   "outputs": [],
   "source": []
  },
  {
   "cell_type": "markdown",
   "metadata": {},
   "source": [
    "<h2><a name=\"menggali-lebih-dalam\"></a>Chapter 4: Menggali Lebih Dalam</h2>"
   ]
  },
  {
   "cell_type": "markdown",
   "metadata": {},
   "source": [
    "<h2><a name=\"penutup\"></a>Chapter 5: Penutup</h2>"
   ]
  },
  {
   "cell_type": "code",
   "execution_count": null,
   "metadata": {},
   "outputs": [],
   "source": []
  }
 ],
 "metadata": {
  "kernelspec": {
   "display_name": "Python 3",
   "language": "python",
   "name": "python3"
  },
  "language_info": {
   "codemirror_mode": {
    "name": "ipython",
    "version": 3
   },
   "file_extension": ".py",
   "mimetype": "text/x-python",
   "name": "python",
   "nbconvert_exporter": "python",
   "pygments_lexer": "ipython3",
   "version": "3.8.3"
  }
 },
 "nbformat": 4,
 "nbformat_minor": 4
}
