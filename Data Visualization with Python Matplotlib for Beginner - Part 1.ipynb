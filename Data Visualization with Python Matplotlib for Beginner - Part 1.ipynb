{
 "cells": [
  {
   "cell_type": "markdown",
   "metadata": {},
   "source": [
    "# Data Visualization with Python Matplotlib for Beginner - Part 1"
   ]
  },
  {
   "cell_type": "markdown",
   "metadata": {},
   "source": [
    "<p><b>About :</b> Membekali kamu untuk mengerti pemanfaatan library matplotlib dalam melakukan visualisasi data menggunakan pemrograman python. Pada Part 1, kamu diharapkan dapat memahami bagaimana membuat sebuah plot dengan matplotlib, dan mampu memodifikasi berbagai komponen di dalam plot tersebut.</p>\n",
    "\n",
    "<p><b>Course :</b> <a href=https://academy.dqlab.id/main/package/practice/164?pf=0>Data Visualization with Python Matplotlib for Beginner - Part 1</a></p>"
   ]
  },
  {
   "cell_type": "markdown",
   "metadata": {},
   "source": [
    "<h2>Module Content:</h2>\n",
    "\n",
    "<div class=\"alert alert-block alert-info\" style=\"margin-top: 20px\">\n",
    "    <ul>\n",
    "        <li><a href=\"#pengenalan-matplotlib\">Pengenalan Matplotlib dan Persiapan Dataset</a></li>\n",
    "        <li><a href=\"#plot-pertama\">Plot Pertama dengan Matplotlib</a></li>\n",
    "        <li><a href=\"#kustomisasi-grafik\">Kustomisasi Grafik</a></li>\n",
    "        <li><a href=\"#mini-quiz\">Mini Quiz</a></li>\n",
    "    </ul>\n",
    "</div>"
   ]
  },
  {
   "cell_type": "markdown",
   "metadata": {},
   "source": [
    "<h2><a name=\"pengenalan-matplotlib\"></a>Chapter 1: Pengenalan Matplotlib dan Persiapan Dataset</h2>"
   ]
  },
  {
   "cell_type": "markdown",
   "metadata": {},
   "source": [
    "<p>Dalam menganalisa data, sering kali menggunakan visualisasi data untuk memahami karakteristik maupun trend di dalam data yang dimiliki.</p>\n",
    "\n",
    "<p>Salah satu library di python yang biasa digunakan untuk keperluan visualisasi data adalah matplotlib.</p>\n",
    "\n",
    " \n",
    "\n",
    "<p>Dalam modul ini, akan dijelaskan beberapa hal yang dapat dilakukan dengan matplotlib. Di antaranya:</p>\n",
    "\n",
    "<li>Pengolahan dataset (menggunakan library NumPy & Pandas).</li>\n",
    "<li>Membuat grafik dasar menggunakan matplotlib.</li>\n",
    "<li>Melakukan modifikasi komponen visualisasi, seperti axis, labels, title, dan legend.</li>\n",
    "<li>Menyimpan plot visualisasi yang sudah dibuat</li>"
   ]
  },
  {
   "cell_type": "markdown",
   "metadata": {},
   "source": [
    "<h4>Persiapan Dataset</h4>"
   ]
  },
  {
   "cell_type": "code",
   "execution_count": 2,
   "metadata": {},
   "outputs": [
    {
     "name": "stdout",
     "output_type": "stream",
     "text": [
      "Ukuran dataset: 5000 baris dan 9 kolom\n",
      "\n",
      "Lima data teratas:\n"
     ]
    },
    {
     "data": {
      "text/html": [
       "<div>\n",
       "<style scoped>\n",
       "    .dataframe tbody tr th:only-of-type {\n",
       "        vertical-align: middle;\n",
       "    }\n",
       "\n",
       "    .dataframe tbody tr th {\n",
       "        vertical-align: top;\n",
       "    }\n",
       "\n",
       "    .dataframe thead th {\n",
       "        text-align: right;\n",
       "    }\n",
       "</style>\n",
       "<table border=\"1\" class=\"dataframe\">\n",
       "  <thead>\n",
       "    <tr style=\"text-align: right;\">\n",
       "      <th></th>\n",
       "      <th>order_id</th>\n",
       "      <th>order_date</th>\n",
       "      <th>customer_id</th>\n",
       "      <th>city</th>\n",
       "      <th>province</th>\n",
       "      <th>product_id</th>\n",
       "      <th>brand</th>\n",
       "      <th>quantity</th>\n",
       "      <th>item_price</th>\n",
       "    </tr>\n",
       "  </thead>\n",
       "  <tbody>\n",
       "    <tr>\n",
       "      <th>0</th>\n",
       "      <td>1703458</td>\n",
       "      <td>2019-10-17</td>\n",
       "      <td>14004</td>\n",
       "      <td>Jakarta Selatan</td>\n",
       "      <td>DKI Jakarta</td>\n",
       "      <td>P1910</td>\n",
       "      <td>BRAND_J</td>\n",
       "      <td>10</td>\n",
       "      <td>740000</td>\n",
       "    </tr>\n",
       "    <tr>\n",
       "      <th>1</th>\n",
       "      <td>1706815</td>\n",
       "      <td>2019-10-24</td>\n",
       "      <td>17220</td>\n",
       "      <td>Jakarta Selatan</td>\n",
       "      <td>DKI Jakarta</td>\n",
       "      <td>P2934</td>\n",
       "      <td>BRAND_R</td>\n",
       "      <td>2</td>\n",
       "      <td>604000</td>\n",
       "    </tr>\n",
       "    <tr>\n",
       "      <th>2</th>\n",
       "      <td>1710718</td>\n",
       "      <td>2019-11-03</td>\n",
       "      <td>16518</td>\n",
       "      <td>Jakarta Utara</td>\n",
       "      <td>DKI Jakarta</td>\n",
       "      <td>P0908</td>\n",
       "      <td>BRAND_C</td>\n",
       "      <td>8</td>\n",
       "      <td>1045000</td>\n",
       "    </tr>\n",
       "    <tr>\n",
       "      <th>3</th>\n",
       "      <td>1683592</td>\n",
       "      <td>2019-08-19</td>\n",
       "      <td>16364</td>\n",
       "      <td>Jakarta Barat</td>\n",
       "      <td>DKI Jakarta</td>\n",
       "      <td>P0128</td>\n",
       "      <td>BRAND_A</td>\n",
       "      <td>4</td>\n",
       "      <td>205000</td>\n",
       "    </tr>\n",
       "    <tr>\n",
       "      <th>4</th>\n",
       "      <td>1702573</td>\n",
       "      <td>2019-10-16</td>\n",
       "      <td>15696</td>\n",
       "      <td>Jakarta Timur</td>\n",
       "      <td>DKI Jakarta</td>\n",
       "      <td>P2968</td>\n",
       "      <td>BRAND_R</td>\n",
       "      <td>2</td>\n",
       "      <td>4475000</td>\n",
       "    </tr>\n",
       "  </tbody>\n",
       "</table>\n",
       "</div>"
      ],
      "text/plain": [
       "   order_id  order_date  customer_id             city     province product_id  \\\n",
       "0   1703458  2019-10-17        14004  Jakarta Selatan  DKI Jakarta      P1910   \n",
       "1   1706815  2019-10-24        17220  Jakarta Selatan  DKI Jakarta      P2934   \n",
       "2   1710718  2019-11-03        16518    Jakarta Utara  DKI Jakarta      P0908   \n",
       "3   1683592  2019-08-19        16364    Jakarta Barat  DKI Jakarta      P0128   \n",
       "4   1702573  2019-10-16        15696    Jakarta Timur  DKI Jakarta      P2968   \n",
       "\n",
       "     brand  quantity  item_price  \n",
       "0  BRAND_J        10      740000  \n",
       "1  BRAND_R         2      604000  \n",
       "2  BRAND_C         8     1045000  \n",
       "3  BRAND_A         4      205000  \n",
       "4  BRAND_R         2     4475000  "
      ]
     },
     "execution_count": 2,
     "metadata": {},
     "output_type": "execute_result"
    }
   ],
   "source": [
    "import pandas as pd\n",
    "\n",
    "dataset = pd.read_csv('https://dqlab-dataset.s3-ap-southeast-1.amazonaws.com/retail_raw_reduced.csv')\n",
    "print('Ukuran dataset: %d baris dan %d kolom\\n' % dataset.shape)\n",
    "print('Lima data teratas:')\n",
    "dataset.head()"
   ]
  },
  {
   "cell_type": "markdown",
   "metadata": {},
   "source": [
    "<p>Deskripsi feature pada dataset diatas</p>\n",
    "<li><b>order_id</b> : ID dari order/transaksi, 1 transaksi bisa terdiri dari beberapa produk, tetapi hanya dilakukan oleh 1 customer</li>\n",
    "<li><b>order_date</b> : tanggal terjadinya transaksi</li>\n",
    "<li><b>customer_id</b> : ID dari pembeli, bisa jadi dalam satu hari, 1 customer melakukan transaksi beberapa kali</li>\n",
    "<li><b>city</b> : kota tempat toko terjadinya transaksi</li>\n",
    "<li><b>province</b> : provinsi (berdasarkan city)</li>\n",
    "<li><b>product_id</b> : ID dari suatu product yang dibeli</li>\n",
    "<li><b>brand</b> : brand/merk dari product. Suatu product yang sama pasti memiliki brand yang sama</li>\n",
    "<li><b>quantity</b> : Kuantitas / banyaknya product yang dibeli</li>\n",
    "<li><b>item_price</b> : Harga dari 1 product (dalam Rupiah). Suatu product yang sama, bisa jadi memiliki harga yang berbeda saat dibeli</li>"
   ]
  },
  {
   "cell_type": "markdown",
   "metadata": {},
   "source": [
    "<h4>Menampilkan Gross Merchandise Value atau total uang yang dibayarkan customer.</h4>"
   ]
  },
  {
   "cell_type": "code",
   "execution_count": 5,
   "metadata": {},
   "outputs": [
    {
     "data": {
      "text/html": [
       "<div>\n",
       "<style scoped>\n",
       "    .dataframe tbody tr th:only-of-type {\n",
       "        vertical-align: middle;\n",
       "    }\n",
       "\n",
       "    .dataframe tbody tr th {\n",
       "        vertical-align: top;\n",
       "    }\n",
       "\n",
       "    .dataframe thead th {\n",
       "        text-align: right;\n",
       "    }\n",
       "</style>\n",
       "<table border=\"1\" class=\"dataframe\">\n",
       "  <thead>\n",
       "    <tr style=\"text-align: right;\">\n",
       "      <th></th>\n",
       "      <th>order_id</th>\n",
       "      <th>order_date</th>\n",
       "      <th>customer_id</th>\n",
       "      <th>city</th>\n",
       "      <th>province</th>\n",
       "      <th>product_id</th>\n",
       "      <th>brand</th>\n",
       "      <th>quantity</th>\n",
       "      <th>item_price</th>\n",
       "      <th>order_month</th>\n",
       "    </tr>\n",
       "  </thead>\n",
       "  <tbody>\n",
       "    <tr>\n",
       "      <th>0</th>\n",
       "      <td>1703458</td>\n",
       "      <td>2019-10-17</td>\n",
       "      <td>14004</td>\n",
       "      <td>Jakarta Selatan</td>\n",
       "      <td>DKI Jakarta</td>\n",
       "      <td>P1910</td>\n",
       "      <td>BRAND_J</td>\n",
       "      <td>10</td>\n",
       "      <td>740000</td>\n",
       "      <td>2019-10</td>\n",
       "    </tr>\n",
       "    <tr>\n",
       "      <th>1</th>\n",
       "      <td>1706815</td>\n",
       "      <td>2019-10-24</td>\n",
       "      <td>17220</td>\n",
       "      <td>Jakarta Selatan</td>\n",
       "      <td>DKI Jakarta</td>\n",
       "      <td>P2934</td>\n",
       "      <td>BRAND_R</td>\n",
       "      <td>2</td>\n",
       "      <td>604000</td>\n",
       "      <td>2019-10</td>\n",
       "    </tr>\n",
       "    <tr>\n",
       "      <th>2</th>\n",
       "      <td>1710718</td>\n",
       "      <td>2019-11-03</td>\n",
       "      <td>16518</td>\n",
       "      <td>Jakarta Utara</td>\n",
       "      <td>DKI Jakarta</td>\n",
       "      <td>P0908</td>\n",
       "      <td>BRAND_C</td>\n",
       "      <td>8</td>\n",
       "      <td>1045000</td>\n",
       "      <td>2019-11</td>\n",
       "    </tr>\n",
       "    <tr>\n",
       "      <th>3</th>\n",
       "      <td>1683592</td>\n",
       "      <td>2019-08-19</td>\n",
       "      <td>16364</td>\n",
       "      <td>Jakarta Barat</td>\n",
       "      <td>DKI Jakarta</td>\n",
       "      <td>P0128</td>\n",
       "      <td>BRAND_A</td>\n",
       "      <td>4</td>\n",
       "      <td>205000</td>\n",
       "      <td>2019-08</td>\n",
       "    </tr>\n",
       "    <tr>\n",
       "      <th>4</th>\n",
       "      <td>1702573</td>\n",
       "      <td>2019-10-16</td>\n",
       "      <td>15696</td>\n",
       "      <td>Jakarta Timur</td>\n",
       "      <td>DKI Jakarta</td>\n",
       "      <td>P2968</td>\n",
       "      <td>BRAND_R</td>\n",
       "      <td>2</td>\n",
       "      <td>4475000</td>\n",
       "      <td>2019-10</td>\n",
       "    </tr>\n",
       "  </tbody>\n",
       "</table>\n",
       "</div>"
      ],
      "text/plain": [
       "   order_id  order_date  customer_id             city     province product_id  \\\n",
       "0   1703458  2019-10-17        14004  Jakarta Selatan  DKI Jakarta      P1910   \n",
       "1   1706815  2019-10-24        17220  Jakarta Selatan  DKI Jakarta      P2934   \n",
       "2   1710718  2019-11-03        16518    Jakarta Utara  DKI Jakarta      P0908   \n",
       "3   1683592  2019-08-19        16364    Jakarta Barat  DKI Jakarta      P0128   \n",
       "4   1702573  2019-10-16        15696    Jakarta Timur  DKI Jakarta      P2968   \n",
       "\n",
       "     brand  quantity  item_price order_month  \n",
       "0  BRAND_J        10      740000     2019-10  \n",
       "1  BRAND_R         2      604000     2019-10  \n",
       "2  BRAND_C         8     1045000     2019-11  \n",
       "3  BRAND_A         4      205000     2019-08  \n",
       "4  BRAND_R         2     4475000     2019-10  "
      ]
     },
     "execution_count": 5,
     "metadata": {},
     "output_type": "execute_result"
    }
   ],
   "source": [
    "import datetime\n",
    "\n",
    "# tambahkan kolom 'order_month'\n",
    "dataset['order_month'] = dataset['order_date'].apply(lambda x: datetime.datetime.strptime(x, \"%Y-%m-%d\").strftime('%Y-%m'))\n",
    "dataset.head()"
   ]
  },
  {
   "cell_type": "markdown",
   "metadata": {},
   "source": [
    "Definisikan GMV adalah perkalian setiap entri di kolom item_price dan kolom quantity. Bisa saja menggunakan fungsi apply & lambda seperti tadi, tetapi ada cara yang lebih mudah yaitu dengan mengalikan kedua kolom yang disebutkan secara langsung."
   ]
  },
  {
   "cell_type": "code",
   "execution_count": 6,
   "metadata": {},
   "outputs": [
    {
     "name": "stdout",
     "output_type": "stream",
     "text": [
      "Ukuran dataset: 5000 baris dan 11 kolom\n",
      "\n",
      "Lima data teratas:\n"
     ]
    },
    {
     "data": {
      "text/html": [
       "<div>\n",
       "<style scoped>\n",
       "    .dataframe tbody tr th:only-of-type {\n",
       "        vertical-align: middle;\n",
       "    }\n",
       "\n",
       "    .dataframe tbody tr th {\n",
       "        vertical-align: top;\n",
       "    }\n",
       "\n",
       "    .dataframe thead th {\n",
       "        text-align: right;\n",
       "    }\n",
       "</style>\n",
       "<table border=\"1\" class=\"dataframe\">\n",
       "  <thead>\n",
       "    <tr style=\"text-align: right;\">\n",
       "      <th></th>\n",
       "      <th>order_id</th>\n",
       "      <th>order_date</th>\n",
       "      <th>customer_id</th>\n",
       "      <th>city</th>\n",
       "      <th>province</th>\n",
       "      <th>product_id</th>\n",
       "      <th>brand</th>\n",
       "      <th>quantity</th>\n",
       "      <th>item_price</th>\n",
       "      <th>order_month</th>\n",
       "      <th>gmv</th>\n",
       "    </tr>\n",
       "  </thead>\n",
       "  <tbody>\n",
       "    <tr>\n",
       "      <th>0</th>\n",
       "      <td>1703458</td>\n",
       "      <td>2019-10-17</td>\n",
       "      <td>14004</td>\n",
       "      <td>Jakarta Selatan</td>\n",
       "      <td>DKI Jakarta</td>\n",
       "      <td>P1910</td>\n",
       "      <td>BRAND_J</td>\n",
       "      <td>10</td>\n",
       "      <td>740000</td>\n",
       "      <td>2019-10</td>\n",
       "      <td>7400000</td>\n",
       "    </tr>\n",
       "    <tr>\n",
       "      <th>1</th>\n",
       "      <td>1706815</td>\n",
       "      <td>2019-10-24</td>\n",
       "      <td>17220</td>\n",
       "      <td>Jakarta Selatan</td>\n",
       "      <td>DKI Jakarta</td>\n",
       "      <td>P2934</td>\n",
       "      <td>BRAND_R</td>\n",
       "      <td>2</td>\n",
       "      <td>604000</td>\n",
       "      <td>2019-10</td>\n",
       "      <td>1208000</td>\n",
       "    </tr>\n",
       "    <tr>\n",
       "      <th>2</th>\n",
       "      <td>1710718</td>\n",
       "      <td>2019-11-03</td>\n",
       "      <td>16518</td>\n",
       "      <td>Jakarta Utara</td>\n",
       "      <td>DKI Jakarta</td>\n",
       "      <td>P0908</td>\n",
       "      <td>BRAND_C</td>\n",
       "      <td>8</td>\n",
       "      <td>1045000</td>\n",
       "      <td>2019-11</td>\n",
       "      <td>8360000</td>\n",
       "    </tr>\n",
       "    <tr>\n",
       "      <th>3</th>\n",
       "      <td>1683592</td>\n",
       "      <td>2019-08-19</td>\n",
       "      <td>16364</td>\n",
       "      <td>Jakarta Barat</td>\n",
       "      <td>DKI Jakarta</td>\n",
       "      <td>P0128</td>\n",
       "      <td>BRAND_A</td>\n",
       "      <td>4</td>\n",
       "      <td>205000</td>\n",
       "      <td>2019-08</td>\n",
       "      <td>820000</td>\n",
       "    </tr>\n",
       "    <tr>\n",
       "      <th>4</th>\n",
       "      <td>1702573</td>\n",
       "      <td>2019-10-16</td>\n",
       "      <td>15696</td>\n",
       "      <td>Jakarta Timur</td>\n",
       "      <td>DKI Jakarta</td>\n",
       "      <td>P2968</td>\n",
       "      <td>BRAND_R</td>\n",
       "      <td>2</td>\n",
       "      <td>4475000</td>\n",
       "      <td>2019-10</td>\n",
       "      <td>8950000</td>\n",
       "    </tr>\n",
       "  </tbody>\n",
       "</table>\n",
       "</div>"
      ],
      "text/plain": [
       "   order_id  order_date  customer_id             city     province product_id  \\\n",
       "0   1703458  2019-10-17        14004  Jakarta Selatan  DKI Jakarta      P1910   \n",
       "1   1706815  2019-10-24        17220  Jakarta Selatan  DKI Jakarta      P2934   \n",
       "2   1710718  2019-11-03        16518    Jakarta Utara  DKI Jakarta      P0908   \n",
       "3   1683592  2019-08-19        16364    Jakarta Barat  DKI Jakarta      P0128   \n",
       "4   1702573  2019-10-16        15696    Jakarta Timur  DKI Jakarta      P2968   \n",
       "\n",
       "     brand  quantity  item_price order_month      gmv  \n",
       "0  BRAND_J        10      740000     2019-10  7400000  \n",
       "1  BRAND_R         2      604000     2019-10  1208000  \n",
       "2  BRAND_C         8     1045000     2019-11  8360000  \n",
       "3  BRAND_A         4      205000     2019-08   820000  \n",
       "4  BRAND_R         2     4475000     2019-10  8950000  "
      ]
     },
     "execution_count": 6,
     "metadata": {},
     "output_type": "execute_result"
    }
   ],
   "source": [
    "# tambahkan kolom 'gmv'\n",
    "dataset['gmv'] = dataset['item_price']*dataset['quantity']\n",
    "print('Ukuran dataset: %d baris dan %d kolom\\n' % dataset.shape)\n",
    "print('Lima data teratas:')\n",
    "dataset.head()"
   ]
  },
  {
   "cell_type": "markdown",
   "metadata": {},
   "source": [
    "<h2><a name=\"plot-pertama\"></a>Chapter 2: Plot Pertama dengan Matplotlib</h2>"
   ]
  },
  {
   "cell_type": "markdown",
   "metadata": {},
   "source": [
    "<h4>Membuat Data Agregat</h4>"
   ]
  },
  {
   "cell_type": "code",
   "execution_count": 7,
   "metadata": {},
   "outputs": [
    {
     "data": {
      "text/html": [
       "<div>\n",
       "<style scoped>\n",
       "    .dataframe tbody tr th:only-of-type {\n",
       "        vertical-align: middle;\n",
       "    }\n",
       "\n",
       "    .dataframe tbody tr th {\n",
       "        vertical-align: top;\n",
       "    }\n",
       "\n",
       "    .dataframe thead th {\n",
       "        text-align: right;\n",
       "    }\n",
       "</style>\n",
       "<table border=\"1\" class=\"dataframe\">\n",
       "  <thead>\n",
       "    <tr style=\"text-align: right;\">\n",
       "      <th></th>\n",
       "      <th>order_month</th>\n",
       "      <th>gmv</th>\n",
       "    </tr>\n",
       "  </thead>\n",
       "  <tbody>\n",
       "    <tr>\n",
       "      <th>0</th>\n",
       "      <td>2019-07</td>\n",
       "      <td>3524041000</td>\n",
       "    </tr>\n",
       "    <tr>\n",
       "      <th>1</th>\n",
       "      <td>2019-08</td>\n",
       "      <td>4452923000</td>\n",
       "    </tr>\n",
       "    <tr>\n",
       "      <th>2</th>\n",
       "      <td>2019-09</td>\n",
       "      <td>3947002000</td>\n",
       "    </tr>\n",
       "    <tr>\n",
       "      <th>3</th>\n",
       "      <td>2019-10</td>\n",
       "      <td>6719937000</td>\n",
       "    </tr>\n",
       "    <tr>\n",
       "      <th>4</th>\n",
       "      <td>2019-11</td>\n",
       "      <td>6182229000</td>\n",
       "    </tr>\n",
       "    <tr>\n",
       "      <th>5</th>\n",
       "      <td>2019-12</td>\n",
       "      <td>8148235000</td>\n",
       "    </tr>\n",
       "  </tbody>\n",
       "</table>\n",
       "</div>"
      ],
      "text/plain": [
       "  order_month         gmv\n",
       "0     2019-07  3524041000\n",
       "1     2019-08  4452923000\n",
       "2     2019-09  3947002000\n",
       "3     2019-10  6719937000\n",
       "4     2019-11  6182229000\n",
       "5     2019-12  8148235000"
      ]
     },
     "execution_count": 7,
     "metadata": {},
     "output_type": "execute_result"
    }
   ],
   "source": [
    "monthly_amount = dataset.groupby('order_month')['gmv'].sum().reset_index()\n",
    "monthly_amount"
   ]
  },
  {
   "cell_type": "markdown",
   "metadata": {},
   "source": [
    "<h4>Line Chart Trend Pertumbuhan GMV</h4>"
   ]
  },
  {
   "cell_type": "code",
   "execution_count": 8,
   "metadata": {},
   "outputs": [
    {
     "data": {
      "image/png": "[encoded data removed]",
      "text/plain": [
       "<Figure size 432x288 with 1 Axes>"
      ]
     },
     "metadata": {
      "needs_background": "light"
     },
     "output_type": "display_data"
    }
   ],
   "source": [
    "import matplotlib.pyplot as plt\n",
    "\n",
    "plt.plot(monthly_amount['order_month'], monthly_amount['gmv'])\n",
    "plt.show()"
   ]
  },
  {
   "cell_type": "markdown",
   "metadata": {},
   "source": [
    "<h4>Cara Alternatif: Fungsi <code>.plot()</code> pada pandas Dataframe</h4>"
   ]
  },
  {
   "cell_type": "code",
   "execution_count": 9,
   "metadata": {},
   "outputs": [
    {
     "data": {
      "image/png": "[encoded data removed]",
      "text/plain": [
       "<Figure size 432x288 with 1 Axes>"
      ]
     },
     "metadata": {
      "needs_background": "light"
     },
     "output_type": "display_data"
    }
   ],
   "source": [
    "dataset.groupby(['order_month'])['gmv'].sum().plot()\n",
    "plt.show()"
   ]
  },
  {
   "cell_type": "markdown",
   "metadata": {},
   "source": [
    "<h2><a name=\"kustomisasi-grafik\"></a>Chapter 3: Kustomisasi Grafik</h2>"
   ]
  },
  {
   "cell_type": "markdown",
   "metadata": {},
   "source": [
    "<h4>Anatomi dari Figure</h4>"
   ]
  },
  {
   "cell_type": "markdown",
   "metadata": {},
   "source": [
    "<p>Ada beberapa istilah dan komponen di sebuah plot, nanti akan mempermudah mengingat function apa yang digunakan untuk memodifikasinya.</p>\n",
    "\n",
    "<li>Figure adalah keseluruhan visualisasi yang kita plot dalam 1 kali menjalankan code.</li>\n",
    "<li>Sedangkan satu plot (yang dibuat saat memanggil .plot() atau .scatter()) disebut Axes. Sebuah Figure bisa terdiri dari beberapa Axes. </li>\n",
    "<li>Setiap Axes biasanya memiliki sumbu-X (X-axis) dan sumbu-Y (Y-axis). Masing-masing sumbu memiliki komponen sebagai berikut:</li>\n",
    "<ul>\n",
    "    <li>Axis Label: Nama dari sumbu yang ditampilkan.</li>\n",
    "    <li>Tick: Penanda berupa titik/garis kecil yang berjajar di sumbu, sebagai referensi skala nilai.</li>\n",
    "    <li>Tick Label: Tulisan di tiap tick yang menyatakan nilainya.</ul></li>\n",
    "<li>Untuk isi grafiknya sendiri, bisa berupa line (untuk line plot), atau marker (untuk scatter plot), bisa juga bentuk lain seperti bar (untuk bar plot / histogram).</li>\n",
    "<li>Aksesoris lain yang bisa ditambahkan, di antaranya Grid untuk mempermudah melihat tick yang sejajar, dan Text untuk memberikan informasi tambahan berbentuk teks di grafik.</li>\n",
    " \n",
    "<p>Memahami komponen-komponen di atas sudah cukup untuk melakukan berbagai visualisasi dengan matplotlib. Untuk anatomi yang lebih lengkap, bisa dilihat di link berikut: <a href=\"https://matplotlib.org/3.1.3/gallery/showcase/anatomy.html\">https://matplotlib.org/3.1.3/gallery/showcase/anatomy.html.</a></p>"
   ]
  },
  {
   "cell_type": "code",
   "execution_count": null,
   "metadata": {},
   "outputs": [],
   "source": []
  },
  {
   "cell_type": "markdown",
   "metadata": {},
   "source": [
    "<h2><a name=\"mini-quiz\"></a>Chapter 4: Mini Quiz</h2>"
   ]
  },
  {
   "cell_type": "markdown",
   "metadata": {},
   "source": [
    "<div style=\"border: 2px solid orange;border-radius: 5px;\">\n",
    "    <b style=\"color:orange;padding:10px\">Harga Rumah di Tangerang</b>\n",
    "    <div style=\"padding:25px\">\n",
    "        <p>Di perusahaan ini, seorang analis data yang masuk umumnya berusia 21, memiliki pendapatan senilai 6.500.000 dan insentif lembur senilai 100.000. Kemudian, untuk seorang ilmuwan data yang masuk umumnya berusia 25, memiliki pendapatan senilai 12.000.000, dan insentif lembur senilai 150.000. Di sisi lain, untuk tenaga lepas, hanya terdapat pendapatan umum senilai 4000000 untuk pembersih data dan 2500000 untuk dokumenter teknis.<p>\n",
    "        <p>Berikut adalah data perusahaan beserta detail karyawan yang bekerja.</p>\n",
    "        <p>Nama Perusahaan: ABC; Alamat: Jl. Jendral Sudirman, Blok 11; Telepon: (021) 95812XX</p>\n",
    "        <table>\n",
    "            <thead>\n",
    "                <th>Nama</th>\n",
    "                <th>Usia</th>\n",
    "                <th>Pekerjaan</th>\n",
    "                <th>Pendapatan</th>\n",
    "            </thead>\n",
    "            <tbody>\n",
    "                <tr>\n",
    "                    <td>Ani</td>\n",
    "                    <td>25</td>\n",
    "                    <td>Pembersih Data</td>\n",
    "                    <td>-</td>\n",
    "                </tr>\n",
    "                <tr>\n",
    "                    <td>Budi</td>\n",
    "                    <td>18</td>\n",
    "                    <td>Dokumenter Teknis</td>\n",
    "                    <td>-</td>\n",
    "                </tr>\n",
    "                <tr>\n",
    "                    <td>Cici</td>\n",
    "                    <td>-</td>\n",
    "                    <td>Ilmuwan Data</td>\n",
    "                    <td>-</td>\n",
    "                </tr>\n",
    "                <tr>\n",
    "                    <td>Didi</td>\n",
    "                    <td>32</td>\n",
    "                    <td>Ilmuwan Data</td>\n",
    "                    <td>20000000</td>\n",
    "                </tr>\n",
    "                <tr>\n",
    "                    <td>Efi</td>\n",
    "                    <td>-</td>\n",
    "                    <td>Analis Data</td>\n",
    "                    <td>-</td>\n",
    "                </tr>\n",
    "                <tr>\n",
    "                    <td>Febi</td>\n",
    "                    <td>28</td>\n",
    "                    <td>Analis Data</td>\n",
    "                    <td>12000000</td>\n",
    "                </tr>\n",
    "            </tbody>\n",
    "        </table>\n",
    "        <p><b>Note:</b> saat usia/pendapatan kosong maka usia/pendapatan mengikuti standar perusahaan.</p>\n",
    "        <li>Simulasikan dengan program yang telah dibuat.</li>\n",
    "        <li>Cetak total pengeluaran yang dimiliki perusahaan untuk menguji fungsionalitas konsep dan teknik polymorphism yang diterapkan.</li>\n",
    "    </div>\n",
    "</div>"
   ]
  },
  {
   "cell_type": "code",
   "execution_count": null,
   "metadata": {},
   "outputs": [],
   "source": []
  }
 ],
 "metadata": {
  "kernelspec": {
   "display_name": "Python 3",
   "language": "python",
   "name": "python3"
  },
  "language_info": {
   "codemirror_mode": {
    "name": "ipython",
    "version": 3
   },
   "file_extension": ".py",
   "mimetype": "text/x-python",
   "name": "python",
   "nbconvert_exporter": "python",
   "pygments_lexer": "ipython3",
   "version": "3.8.3"
  }
 },
 "nbformat": 4,
 "nbformat_minor": 4
}
