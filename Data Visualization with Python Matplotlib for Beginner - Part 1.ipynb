{
 "cells": [
  {
   "cell_type": "markdown",
   "metadata": {},
   "source": [
    "# Data Visualization with Python Matplotlib for Beginner - Part 1"
   ]
  },
  {
   "cell_type": "markdown",
   "metadata": {},
   "source": [
    "<p><b>About :</b> Membekali kamu untuk mengerti pemanfaatan library matplotlib dalam melakukan visualisasi data menggunakan pemrograman python. Pada Part 1, kamu diharapkan dapat memahami bagaimana membuat sebuah plot dengan matplotlib, dan mampu memodifikasi berbagai komponen di dalam plot tersebut.</p>\n",
    "\n",
    "<p><b>Course :</b> <a href=https://academy.dqlab.id/main/package/practice/164?pf=0>Data Visualization with Python Matplotlib for Beginner - Part 1</a></p>"
   ]
  },
  {
   "cell_type": "markdown",
   "metadata": {},
   "source": [
    "<h2>Module Content:</h2>\n",
    "\n",
    "<div class=\"alert alert-block alert-info\" style=\"margin-top: 20px\">\n",
    "    <ul>\n",
    "        <li><a href=\"#pengenalan-matplotlib\">Pengenalan Matplotlib dan Persiapan Dataset</a></li>\n",
    "        <li><a href=\"#plot-pertama\">Plot Pertama dengan Matplotlib</a></li>\n",
    "        <li><a href=\"#kustomisasi-grafik\">Kustomisasi Grafik</a></li>\n",
    "        <ul>\n",
    "            <li><a href=\"#\"></a></li>\n",
    "        </ul>\n",
    "        <li><a href=\"#mini-quiz\">Mini Quiz</a></li>\n",
    "    </ul>\n",
    "</div>"
   ]
  },
  {
   "cell_type": "markdown",
   "metadata": {},
   "source": [
    "<h2><a name=\"pengenalan-matplotlib\"></a>Chapter 1: Pengenalan Matplotlib dan Persiapan Dataset</h2>"
   ]
  },
  {
   "cell_type": "markdown",
   "metadata": {},
   "source": [
    "<p>Pemrograman Berbasis Objek (<b><i>Object Oriented Programming</i> - OOP</b>) merupakan salah satu paradigma pemrograman yang cukup populer di antara paradigma-paradigma lainnya.</p>\n",
    "\n",
    "<p>Pada paradigma OOP, struktur dari sebuah program dikemas ke dalam sebuah objek yang memiliki serangkaian <b>properti</b> (<b><i>properties</i></b>) dan <b>fungsi</b> (<b><i>behaviours</i></b>). Sebagai contoh, aku dapat merepresentasikan seorang karyawan ke dalam sebuah program melalui konsep OOP.</p>\n",
    "\n",
    "<p>Seorang karyawan dapat memiliki serangkaian properti seperti nama, usia, keahlian, dll. Kemudian, seorang karyawan juga dapat memiliki fungsi-fungsi seperti hadir ke kantor, absen, lembur, tugas dinas, dll.</p>\n",
    "\n",
    "<p>Sebagai salah satu bahasa pemrograman yang bersifat multi-purposive, Python juga mendukung paradigma <b><i>Object Oriented</i> (OO)</b>.</p>\n",
    "\n",
    "<p>Konsep OO pada Python memiliki tujuan untuk menciptakan potongan-potongan kode yang bersifat reusable dan tidak redundan. Konsep ini dikenal dengan istilah konsep <b>DRY - Don’t Repeat Yourself</b> (berlawanan dengan konsep WET - Write Everything Twice).</p>\n",
    "\n",
    "<p>Dalam bahasa pemrograman Python, terdapat 3 konsep utama OO yaitu.</p>\n",
    "<ol>\n",
    "    <li><b>Encapsulation</b>: Menyembunyikan sebagian detail yang dimiliki oleh sebuah objek terhadap objek-objek lainnya.</li>\n",
    "    <li><b>Inheritance</b>: Menurunkan serangkaian fungsi-fungsi yang dimiliki oleh sebuah objek ke sebuah objek baru tanpa mengubah makna dari objek acuan yang digunakan.</li>\n",
    "    <li><b>Polymorphism</b>: Konsep untuk menggunakan fungsi-fungsi dengan nama/ tujuan yang sama dengan cara yang berbeda.</li>\n",
    "</ol>"
   ]
  },
  {
   "cell_type": "markdown",
   "metadata": {},
   "source": [
    "<h2><a name=\"plot-pertama\"></a>Chapter 2: Plot Pertama dengan Matplotlib</h2>"
   ]
  },
  {
   "cell_type": "markdown",
   "metadata": {},
   "source": [
    "<p>Setiap objek yang direpresentasikan dalam program berbasis OOP merupakan instansi/ bentuk nyata dari sebuah konsep yang disebut dengan class. Oleh karena itu, class dapat juga disebut sebagai kerangka utama (blueprint) dari objek.</p>\n",
    "\n",
    "<p>Contoh: Aksara dan Senja sebagai karyawan di suatu perusahaan X. Untuk merepresentasikan Aksara dan Senja, buat sebuah class yang nantinya akan mencakup properti-properti yang umumnya dimiliki oleh sebuah karyawan.</p>"
   ]
  },
  {
   "cell_type": "code",
   "execution_count": null,
   "metadata": {},
   "outputs": [],
   "source": []
  },
  {
   "cell_type": "markdown",
   "metadata": {},
   "source": [
    "<h3><a name=\"class-attribute\"></a>Class Attribute</h3>"
   ]
  },
  {
   "cell_type": "markdown",
   "metadata": {},
   "source": [
    "Untuk merepresentasikan Aksara dan Senja sebagai karyawan yang bekerja di sebuah perusahaan yang sama (anggap saja perusahan ABC), representasikan dengan menggunakan konsep <b>class attribute</b>."
   ]
  },
  {
   "cell_type": "code",
   "execution_count": null,
   "metadata": {},
   "outputs": [],
   "source": []
  },
  {
   "cell_type": "markdown",
   "metadata": {},
   "source": [
    "<div style=\"border: 2px solid orange;border-radius: 5px;\">\n",
    "    <b style=\"color:orange;padding:10px\">Practice!</b>\n",
    "    <div style=\"padding:25px\">\n",
    "        <p>Buat sistem manajemen perusahaan sederhana menggunakan Object Oriented (OO):</p>\n",
    "        <li>Class perusahaan yang memuat informasi nama, alamat, nomor telepon, dan daftar karyawan yang bekerja.</li>\n",
    "        <li>Masukkan fungsi untuk mengaktifkan dan menonaktifkan karyawan pada class perusahaan.</li>\n",
    "        <li>Masukkan informasi class karyawan</li>\n",
    "        <li>Atur pendapatan mula-mula karyawan bernilai 0, lalu bisa bertambah oleh fungsi lembur dan fungsi tambahan proyek sebagai parameter dan variabel pendapatan tambahan karyawan.</li>\n",
    "        <li>Tambahkan fungsi untuk menghitung total pendapatan pada class karyawan.</li>\n",
    "        <p>Masukkan data karyawan berikut pada class yang sudah dibuat</p>\n",
    "        <table>\n",
    "            <thead>\n",
    "                <th>Nama Pekerja</th>\n",
    "                <th>Usia</th>\n",
    "                <th>Pendapatan</th>\n",
    "                <th>Insentif Lembur</th>\n",
    "            </thead>\n",
    "            <tbody>\n",
    "                <tr>\n",
    "                    <td>Ani</td>\n",
    "                    <td>25</td>\n",
    "                    <td>8500000</td>\n",
    "                    <td>100000</td>\n",
    "                </tr>\n",
    "                <tr>\n",
    "                    <td>Budi</td>\n",
    "                    <td>28</td>\n",
    "                    <td>12000000</td>\n",
    "                    <td>150000</td>\n",
    "                </tr>\n",
    "                <tr>\n",
    "                    <td>Cici</td>\n",
    "                    <td>30</td>\n",
    "                    <td>15000000</td>\n",
    "                    <td>200000</td>\n",
    "                </tr>\n",
    "            </tbody>\n",
    "        </table>\n",
    "    </div>\n",
    "</div>"
   ]
  },
  {
   "cell_type": "code",
   "execution_count": null,
   "metadata": {},
   "outputs": [],
   "source": []
  },
  {
   "cell_type": "markdown",
   "metadata": {},
   "source": [
    "<h2><a name=\"kustomisasi-grafik\"></a>Chapter 3: Kustomisasi Grafik</h2>"
   ]
  },
  {
   "cell_type": "markdown",
   "metadata": {},
   "source": [
    "<h3><a name=\"encapsulation\"></a>Encapsulation</h3>"
   ]
  },
  {
   "cell_type": "markdown",
   "metadata": {},
   "source": [
    "<p><b>Enkapsulasi (<i>Encapsulation</i>)</b> adalah sebuah teknik dalam OOP yang mengizinkan kita untuk <b>menyembunyikan detil dari sebuah atribut</b> dalam sebuah class. Pada contoh-contoh sebelumnya, setiap atribut dan fungsi yang telah didefinisikan belum menggunakan konsep enkapsulasi, yang mengartikan bahwa setiap atribut dan fungsi dapat diakses di luar class.</p>\n",
    "\n",
    "<p>Agar suatu properti ataupun fungsi dari sebuah class tidak dapat diakses secara bebas di luar scope milik suatu class, kita dapat mendefinisikan <b>access modifier</b> (level akses) saat sebuah atribut/fungsi didefinisikan.</p>\n",
    "\n",
    "<p>Terdapat 2 macam access modifier dalam Python, yakni.</p>\n",
    "\n",
    "<li><b>Public access</b>: dapat aku definisikan dengan secara langsung menuliskan nama dari atribut/ fungsi. Dalam sebuah objek, atribut/fungsi yang bersifat public access dapat diakses di luar scope sebuah class.</li>\n",
    "<li><b>Private access</b>: dapat aku definisikan dengan menambahkan <b>double underscore (__)</b> sebelum menuliskan nama dari atribut/fungsi. Dalam sebuah objek, atribut/fungsi yang bersifat private access hanya dapat diakses di dalam scope sebuah class.</li>"
   ]
  },
  {
   "cell_type": "code",
   "execution_count": null,
   "metadata": {},
   "outputs": [],
   "source": []
  },
  {
   "cell_type": "markdown",
   "metadata": {},
   "source": [
    "<h2><a name=\"mini-quiz\"></a>Chapter 4: Mini Quiz</h2>"
   ]
  },
  {
   "cell_type": "markdown",
   "metadata": {},
   "source": [
    "<div style=\"border: 2px solid orange;border-radius: 5px;\">\n",
    "    <b style=\"color:orange;padding:10px\">Harga Rumah di Tangerang</b>\n",
    "    <div style=\"padding:25px\">\n",
    "        <p>Di perusahaan ini, seorang analis data yang masuk umumnya berusia 21, memiliki pendapatan senilai 6.500.000 dan insentif lembur senilai 100.000. Kemudian, untuk seorang ilmuwan data yang masuk umumnya berusia 25, memiliki pendapatan senilai 12.000.000, dan insentif lembur senilai 150.000. Di sisi lain, untuk tenaga lepas, hanya terdapat pendapatan umum senilai 4000000 untuk pembersih data dan 2500000 untuk dokumenter teknis.<p>\n",
    "        <p>Berikut adalah data perusahaan beserta detail karyawan yang bekerja.</p>\n",
    "        <p>Nama Perusahaan: ABC; Alamat: Jl. Jendral Sudirman, Blok 11; Telepon: (021) 95812XX</p>\n",
    "        <table>\n",
    "            <thead>\n",
    "                <th>Nama</th>\n",
    "                <th>Usia</th>\n",
    "                <th>Pekerjaan</th>\n",
    "                <th>Pendapatan</th>\n",
    "            </thead>\n",
    "            <tbody>\n",
    "                <tr>\n",
    "                    <td>Ani</td>\n",
    "                    <td>25</td>\n",
    "                    <td>Pembersih Data</td>\n",
    "                    <td>-</td>\n",
    "                </tr>\n",
    "                <tr>\n",
    "                    <td>Budi</td>\n",
    "                    <td>18</td>\n",
    "                    <td>Dokumenter Teknis</td>\n",
    "                    <td>-</td>\n",
    "                </tr>\n",
    "                <tr>\n",
    "                    <td>Cici</td>\n",
    "                    <td>-</td>\n",
    "                    <td>Ilmuwan Data</td>\n",
    "                    <td>-</td>\n",
    "                </tr>\n",
    "                <tr>\n",
    "                    <td>Didi</td>\n",
    "                    <td>32</td>\n",
    "                    <td>Ilmuwan Data</td>\n",
    "                    <td>20000000</td>\n",
    "                </tr>\n",
    "                <tr>\n",
    "                    <td>Efi</td>\n",
    "                    <td>-</td>\n",
    "                    <td>Analis Data</td>\n",
    "                    <td>-</td>\n",
    "                </tr>\n",
    "                <tr>\n",
    "                    <td>Febi</td>\n",
    "                    <td>28</td>\n",
    "                    <td>Analis Data</td>\n",
    "                    <td>12000000</td>\n",
    "                </tr>\n",
    "            </tbody>\n",
    "        </table>\n",
    "        <p><b>Note:</b> saat usia/pendapatan kosong maka usia/pendapatan mengikuti standar perusahaan.</p>\n",
    "        <li>Simulasikan dengan program yang telah dibuat.</li>\n",
    "        <li>Cetak total pengeluaran yang dimiliki perusahaan untuk menguji fungsionalitas konsep dan teknik polymorphism yang diterapkan.</li>\n",
    "    </div>\n",
    "</div>"
   ]
  },
  {
   "cell_type": "code",
   "execution_count": null,
   "metadata": {},
   "outputs": [],
   "source": []
  }
 ],
 "metadata": {
  "kernelspec": {
   "display_name": "Python 3",
   "language": "python",
   "name": "python3"
  },
  "language_info": {
   "codemirror_mode": {
    "name": "ipython",
    "version": 3
   },
   "file_extension": ".py",
   "mimetype": "text/x-python",
   "name": "python",
   "nbconvert_exporter": "python",
   "pygments_lexer": "ipython3",
   "version": "3.8.3"
  }
 },
 "nbformat": 4,
 "nbformat_minor": 4
}
